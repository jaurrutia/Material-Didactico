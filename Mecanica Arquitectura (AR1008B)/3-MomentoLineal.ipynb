{
 "cells": [
  {
   "cell_type": "markdown",
   "id": "35fc12ea-7706-4a39-9199-65ae1d23e761",
   "metadata": {
    "editable": true,
    "slideshow": {
     "slide_type": "slide"
    },
    "tags": []
   },
   "source": [
    "# **Modelación de la física en el ambiente construido: Dinámica**\n",
    "## **Momento lineal**\n",
    "\n",
    "\n",
    "### M. en C. Jonathan A. Urrutia Anguiano\n",
    "### AR108B\n",
    "<div hidden>\n",
    "$\\def\\dd{\\text{d}}$\n",
    "$\\def\\dv#1#2{\\dfrac{\\text{d} #1}{\\text{d}#2}}$\n",
    "$\\def\\mdv#1#2#3{\\dfrac{\\text{d}^{#3} #1}{\\text{d}#2^{#3}}}$\n",
    "$\\def\\vb#1{\\mathbf{#1}}$\n",
    "$\\def\\pdv#1#2#3{\\dfrac{\\partial^{#3} #1}{\\partial #2^{#3}}}$\n",
    "\\vskip-\\parskip\n",
    "\\vskip-\\baselineskip\n",
    "</div>"
   ]
  },
  {
   "cell_type": "markdown",
   "id": "1dde1916-438b-4ca5-8779-3f219be74179",
   "metadata": {
    "editable": true,
    "slideshow": {
     "slide_type": "subslide"
    },
    "tags": []
   },
   "source": [
    "### ¿Qué trabajaremos en esta sesión?\n",
    "\n",
    "En esta ocasión estudiaremos los siguientes conceptos\n",
    "\n",
    " - Cantidad de movmiento (*momento*) lineal $\\vb{p}$\n",
    " - Centro de masa\n",
    " - Colisiones elásticas e inelásticas"
   ]
  },
  {
   "cell_type": "markdown",
   "id": "8228eae8-b2c8-4596-865d-dada7e2b2a38",
   "metadata": {
    "editable": true,
    "slideshow": {
     "slide_type": "slide"
    },
    "tags": []
   },
   "source": [
    "## El **momento lineal**\n",
    "\n",
    "<center>\n",
    "    <img src=\"https://upload.wikimedia.org/wikipedia/commons/8/86/Billard.JPG\" width=\"500\">\n",
    "</center>\n",
    "\n",
    "---\n",
    "<a href=\"https://commons.wikimedia.org/wiki/File:Billard.JPG\">No-w-ay in collaboration with H. Caps</a>, <a href=\"https://creativecommons.org/licenses/by-sa/4.0\">CC BY-SA 4.0</a>, via Wikimedia Commons"
   ]
  },
  {
   "cell_type": "markdown",
   "id": "505b4578-dc4c-4fc3-82ef-ae06650f4bf0",
   "metadata": {
    "editable": true,
    "slideshow": {
     "slide_type": "subslide"
    },
    "tags": []
   },
   "source": [
    "### Revisitando la segunda ley de Newton\n",
    "\n",
    "<table style=\"width:100%\">\n",
    "  <tr>\n",
    "    <td  style=\"width:50%\" >\n",
    "    Para una partícula que no pierde masa, sabemos que su movimiento está determinado por\n",
    "        $$ \\sum_j \\vb{F}_{j} = m \\dv{\\vb{v}}{t}.$$\n",
    "    Sin embargo cuando la masa de los objetos puede variar, la 2da ley se reescribe como\n",
    "        $$ \\sum_j \\vb{F}_{j} = \\dv{(m \\vb{v})}{t} =  \\dv{m}{t} \\vb{v} + m \\dv{\\vb{v}}{t}.$$\n",
    "    Por lo tanto, se define el <it><b>momento lineal</b></it> $\\vb{p}$ como\n",
    "        $$\\vb{p} = m \\vb{v}.$$\n",
    "    <td  style=\"width:50%\" >\n",
    "        <center>\n",
    "        <img src=\"https://upload.wikimedia.org/wikipedia/commons/7/71/Rocket_Launch_%282%29.gif\" width=\"300\"> \n",
    "        </center>\n",
    "    </td>\n",
    "  </tr>\n",
    "</table> "
   ]
  },
  {
   "cell_type": "markdown",
   "id": "0a00be36-b47a-4132-9b60-7b6709ed691a",
   "metadata": {
    "editable": true,
    "slideshow": {
     "slide_type": "subslide"
    },
    "tags": []
   },
   "source": [
    "### Conservación del momento lineal y el Impulso\n",
    "\n",
    "La seguna ley de Newto es, entonces:\n",
    "$$ \\dv{\\vb{p}}{t} = \\sum_j \\vb{F}_{j} \\quad \\Longrightarrow\\quad \\Delta \\vb{p} = \\int\\left( \\sum_j \\vb{F}_{j}  \\right)\\dd{t} $$\n",
    "Si no hay fuerzas externas, entonces\n",
    "$$ \\dv{\\vb{p}}{t} = \\vb{0} \\quad \\Longrightarrow\\quad \\Delta \\vb{p} = \\vb{p}(t) - \\vb{p}_(t_0)  = \\vb{0} \\quad \\Longrightarrow\\quad \\vb{p}(t) = \\vb{p}(t_0).  $$"
   ]
  },
  {
   "cell_type": "markdown",
   "id": "3f0d1a38-6102-47fd-b968-a0bf19ef9742",
   "metadata": {
    "editable": true,
    "slideshow": {
     "slide_type": "subslide"
    },
    "tags": []
   },
   "source": [
    "### Ejemplo: Conservación del momento\n",
    "\n",
    "<table style=\"width:100%\">\n",
    "  <tr>\n",
    "    <td  style=\"width:70%\" >\n",
    "        <center>\n",
    "        <img src=\"https://raw.githubusercontent.com/jaurrutia/Material-Didactico/main/Cantidades%20Conservadas%20(CCM-ITESM-F1003B)/img/Arquero-1.png\" width=\"700\"> \n",
    "        </center>\n",
    "    </td>\n",
    "    <td  style=\"width:30%\" >\n",
    "        <center>\n",
    "        <img src=\"https://raw.githubusercontent.com/jaurrutia/Material-Didactico/main/Cantidades%20Conservadas%20(CCM-ITESM-F1003B)/img/Arquero-2.png\" width=\"250\"> \n",
    "        </center>\n",
    "    </td>\n",
    "  </tr>\n",
    "</table> \n",
    "\n",
    "\n",
    "---\n",
    "Serway, R.A., y Jewett J. \"Física para ciencias e ingenierías Vol. 1\". Cengage Learning Editores S.A. de C.V., 2008."
   ]
  },
  {
   "cell_type": "markdown",
   "id": "805318b3-cf68-42c4-9e82-e2d6260a6a56",
   "metadata": {
    "editable": true,
    "slideshow": {
     "slide_type": "slide"
    },
    "tags": []
   },
   "source": [
    "## Colisiones\n",
    "\n",
    "<center>\n",
    "    <img src=\"https://raw.githubusercontent.com/jaurrutia/Material-Didactico/main/Cantidades%20Conservadas%20(CCM-ITESM-F1003B)/img/Colision-1.png\" width=\"350\" >\n",
    "    <img src=\"https://raw.githubusercontent.com/jaurrutia/Material-Didactico/main/Cantidades%20Conservadas%20(CCM-ITESM-F1003B)/img/Colision-2.png\" width=\"350\" >\n",
    "</center>\n",
    "\n",
    "---\n",
    "<a href=\"https://commons.wikimedia.org/wiki/File:Nude_man_pushing_a_garden_roller_(rbm-QP301M8-1887-393).jpg\">Muybridge, Eadweard, 1830-1904</a>, Public domain, via Wikimedia Commons"
   ]
  },
  {
   "cell_type": "markdown",
   "id": "ea6e973d-d0e2-4227-ad2c-6126b75ff505",
   "metadata": {
    "editable": true,
    "slideshow": {
     "slide_type": "subslide"
    },
    "tags": []
   },
   "source": [
    "# Colisiones elásticas e inelásticas\n",
    "\n",
    "En las colisiones siempre consideramos el momento del sistema, por lo que éste es una cantidad conservada en ausencia de agentes externos.\n",
    "\n",
    "<table style=\"width:100%\">\n",
    "  <tr>\n",
    "    <td  style=\"width:30%\" >\n",
    "        <b>Colisión elástica</b>\n",
    "        <ul>\n",
    "            <li>Las partículas en la colusión permanecen sin cambios</li>\n",
    "            <li>$\\Delta\\vb{p} = \\vb{0}$</li>\n",
    "             <li>$\\Delta E_c = 0$</li>\n",
    "        </ul>\n",
    "    </td>\n",
    "    <td  style=\"width:30%\" >\n",
    "        <b>Colisión inelástica</b>\n",
    "        <ul>\n",
    "            <li>Las partículas se deformaron durante la colisión</li>\n",
    "            <li>$\\Delta\\vb{p} = \\vb{0}$</li>\n",
    "             <li>$E_c^i = E_c^f + |Q| $</li>\n",
    "        </ul>\n",
    "    </td>\n",
    "    <td  style=\"width:30%\" >\n",
    "        <b>Colisión  perfectamente inelástica</b>\n",
    "        <ul>\n",
    "            <li>Las partículas se unen tras colisión</li>\n",
    "            <li>$\\Delta\\vb{p} = \\vb{0}$</li>\n",
    "             <li>$E_c^i = E_c^f + |Q| $</li>\n",
    "        </ul>\n",
    "    </td>\n",
    "  </tr>\n",
    "</table> "
   ]
  },
  {
   "cell_type": "markdown",
   "id": "f5befa7d-31b8-4117-8a41-904d78592209",
   "metadata": {
    "editable": true,
    "slideshow": {
     "slide_type": "subslide"
    },
    "tags": []
   },
   "source": [
    "### Ejemplo: Colisión eléasticas y perfectamente inelástica\n",
    "\n",
    "Calcula la velocidad de dos objetos de masa $m_1 = 0.5$ kg y $m_2 = 3.5$ kg considerando que antesde la colisión se mueven a las velocidades $v_1 = 4$ m/s y $v_2 = 0$ m/s. Considera:\n",
    "- Colisión elástica\n",
    "- Colisión perfectamente inelástica"
   ]
  },
  {
   "cell_type": "markdown",
   "id": "54ae9e51-76cf-4ee0-90a7-472ac78d6675",
   "metadata": {
    "editable": true,
    "slideshow": {
     "slide_type": "slide"
    },
    "tags": []
   },
   "source": [
    "## El centro de masa\n",
    "\n",
    "<table style=\"width:100%\">\n",
    "  <tr>\n",
    "    <td  style=\"width:100%\" >\n",
    "<center>\n",
    "    <img src=\"https://raw.githubusercontent.com/jaurrutia/Material-Didactico/main/Cantidades%20Conservadas%20(CCM-ITESM-F1003B)/img/CM-1.png\" width=\"450\" >\n",
    "    <img src=\"https://raw.githubusercontent.com/jaurrutia/Material-Didactico/main/Cantidades%20Conservadas%20(CCM-ITESM-F1003B)/img/CM-2.png\" width=\"200\" >\n",
    "</center>\n",
    "    </td>\n",
    "    <td  style=\"width:0%\" align=\"left\" >\n",
    "    </td>\n",
    "  </tr>\n",
    "</table> \n",
    "\n",
    "---\n",
    "**Volga Hydroelectric Station** <a href=\"https://commons.wikimedia.org/wiki/File:Volga_Hydroelectric_Station,_lock_P5150963_2200.jpg\">Alexxx1979</a>, <a href=\"https://creativecommons.org/licenses/by-sa/4.0\">CC BY-SA 4.0</a>, via Wikimedia Commons"
   ]
  },
  {
   "cell_type": "markdown",
   "id": "d20bce58-3bb8-4ac0-b67c-dcb954dc40ee",
   "metadata": {
    "editable": true,
    "slideshow": {
     "slide_type": "subslide"
    },
    "tags": []
   },
   "source": [
    "## Una primera descripción del movimiento de objetos\n",
    "\n",
    "<table style=\"width:100%\">\n",
    "  <tr>\n",
    "    <td  style=\"width:50%\" >\n",
    " El centro de mada $\\vb{R}_{CM}$ es un punto que promedia las posiciones de cada una de las partículas según qué tan masivas sean. Esto da como resultado\n",
    "        $$\n",
    "        \\vb{R}_{CM} = \\frac{1}{M}\\sum_i m_i\\vb{r}_i \\to \\frac{1}{M}\\int  \\vb{r}\\dd{m}\n",
    "        $$\n",
    "         Cuando estudiamos la dinámica de objeto sólidos como partículas, el CM es el punto que consideramoscomo el objeto entero. Por tanto\n",
    "      $$ M \\mdv{\\vb{R}_{CM}}{t}{2} = \\vb{F}_\\text{Tot}^\\text{(ext)} $$\n",
    "    </td>\n",
    "    <td  style=\"width:50%\" >\n",
    "        <center>\n",
    "    <img src=\"https://raw.githubusercontent.com/jaurrutia/Material-Didactico/main/Cantidades%20Conservadas%20(CCM-ITESM-F1003B)/img/CM-1.png\" width=\"450\" >\n",
    "        </center>\n",
    "    </td>\n",
    "  </tr>\n",
    "</table> \n"
   ]
  }
 ],
 "metadata": {
  "kernelspec": {
   "display_name": "Wolfram Language 13",
   "language": "Wolfram Language",
   "name": "wolframlanguage13"
  },
  "language_info": {
   "codemirror_mode": "mathematica",
   "file_extension": ".m",
   "mimetype": "application/vnd.wolfram.m",
   "name": "Wolfram Language",
   "pygments_lexer": "mathematica",
   "version": "12.0"
  }
 },
 "nbformat": 4,
 "nbformat_minor": 5
}
