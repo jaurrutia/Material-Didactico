{
 "cells": [
  {
   "cell_type": "markdown",
   "id": "35fc12ea-7706-4a39-9199-65ae1d23e761",
   "metadata": {
    "editable": true,
    "slideshow": {
     "slide_type": "slide"
    },
    "tags": []
   },
   "source": [
    "# **Modelación de la física en el ambiente construido: Dinámica**\n",
    "## **Ondas Mecánicas**\n",
    "\n",
    "\n",
    "### M. en C. Jonathan A. Urrutia Anguiano\n",
    "### AR108B\n",
    "<div hidden>\n",
    "$\\def\\dd{\\text{d}}$\n",
    "$\\def\\dv#1#2{\\dfrac{\\text{d} #1}{\\text{d}#2}}$\n",
    "$\\def\\mdv#1#2#3{\\dfrac{\\text{d}^{#3} #1}{\\text{d}#2^{#3}}}$\n",
    "$\\def\\vb#1{\\mathbf{#1}}$\n",
    "$\\def\\pdv#1#2#3{\\dfrac{\\partial^{#3} #1}{\\partial #2^{#3}}}$\n",
    "\\vskip-\\parskip\n",
    "\\vskip-\\baselineskip\n",
    "</div>"
   ]
  },
  {
   "cell_type": "markdown",
   "id": "1dde1916-438b-4ca5-8779-3f219be74179",
   "metadata": {
    "editable": true,
    "slideshow": {
     "slide_type": "subslide"
    },
    "tags": []
   },
   "source": [
    "### ¿Qué trabajaremos en esta sesión?\n",
    "\n",
    "En esta ocasión estudiaremos los siguientes conceptos\n",
    "\n",
    " - Radianes\n",
    " - Frecuencia\n",
    " - Ondas (introducción)"
   ]
  },
  {
   "cell_type": "markdown",
   "id": "8b84ffc7-4676-43f0-ba40-68faec97d414",
   "metadata": {
    "editable": true,
    "slideshow": {
     "slide_type": "slide"
    },
    "tags": []
   },
   "source": [
    "## Ondas\n",
    "Una onda es cualquier función que cumpla la siguiente ecuación:\n",
    "$$\n",
    "\\mdv{}{x}{2} f(x,t) - \\frac{1}{v^2}\\mdv{}{t}{2}f(x,t) = 0.\n",
    "$$\n",
    "En general basta con que \n",
    "$$\n",
    "f(x,t) = f(x\\pm vt)\n",
    "$$"
   ]
  },
  {
   "cell_type": "markdown",
   "id": "19876185-6ded-44ff-a02e-c5318e9d3c68",
   "metadata": {
    "editable": true,
    "slideshow": {
     "slide_type": "subslide"
    },
    "tags": []
   },
   "source": [
    "<center>\n",
    "    <img src= \"https://raw.githubusercontent.com/jaurrutia/Material-Didactico/main/Mecanica%20Arquitectura%20(AR1008B)/img/OndaTrans.png\">\n",
    "</center>"
   ]
  },
  {
   "cell_type": "markdown",
   "id": "8e89edf2-df8b-422b-bfed-50d7ea6d0899",
   "metadata": {
    "editable": true,
    "slideshow": {
     "slide_type": "subslide"
    },
    "tags": []
   },
   "source": [
    "<center>\n",
    "    <img src= \"https://raw.githubusercontent.com/jaurrutia/Material-Didactico/main/Mecanica%20Arquitectura%20(AR1008B)/img/OndaLong.png\">\n",
    "</center>"
   ]
  },
  {
   "cell_type": "markdown",
   "id": "911316d3-bac5-4b0b-92b2-f8c74ce47a67",
   "metadata": {
    "editable": true,
    "slideshow": {
     "slide_type": "subslide"
    },
    "tags": []
   },
   "source": [
    "<center>\n",
    "    <img src= \"https://raw.githubusercontent.com/jaurrutia/Material-Didactico/main/Mecanica%20Arquitectura%20(AR1008B)/img/Onda2D.png\">\n",
    "</center>"
   ]
  },
  {
   "cell_type": "markdown",
   "id": "96e76230-dc14-419b-8912-94c4753a41f2",
   "metadata": {
    "editable": true,
    "slideshow": {
     "slide_type": "slide"
    },
    "tags": []
   },
   "source": [
    "## Ondas armónicas\n",
    "\n",
    "Una onda es cualquier función que cumpla la siguiente ecuación:\n",
    "$$\n",
    "\\mdv{}{x}{2} f(x,t) - \\frac{1}{v^2}\\mdv{}{t}{2}f(x,t) = 0.\n",
    "$$\n",
    "Y en particular, la ondas armónicas son\n",
    "$$\n",
    "f(x-vt) = A_0\\cos\\left(\\frac{2\\pi}{\\lambda}x -2\\pi f t\\right),\\qquad v = \\lambda f\n",
    "$$"
   ]
  },
  {
   "cell_type": "markdown",
   "id": "86421ace-5ccc-478e-92e9-e749a4e8794d",
   "metadata": {
    "editable": true,
    "slideshow": {
     "slide_type": "subslide"
    },
    "tags": []
   },
   "source": [
    "$$\n",
    "f(x-vt) = A_0\\cos\\left(\\frac{2\\pi}{\\lambda}x -2\\pi f t\\right),\\qquad v = \\lambda f\n",
    "$$\n",
    "<table style=\"width:100%\">\n",
    "  <tr>\n",
    "    <td  style=\"width:50%\" >\n",
    "        <center>\n",
    "        A un tiempo fijo $t = 0$\n",
    "        </center>\n",
    "    </td>\n",
    "    <td  style=\"width:50%\" >\n",
    "        <center>\n",
    "        En un punto fijo $x = 0$\n",
    "        </center>\n",
    "    </td>\n",
    "  </tr>\n",
    "    <td>\n",
    "        $$f(x,t=0) = A_0\\cos\\left(\\frac{2\\pi}{\\lambda} x \\right) =  A_0\\cos\\left(k x \\right)$$\n",
    "    </td>\n",
    "    <td  >\n",
    "         $$f(x=0,t) = A_0\\cos\\left(2\\pi f t\\right) =  A_0\\cos\\left(\\omega x \\right);\\quad f = 1/T$$\n",
    "    </td>\n",
    "  </tr>\n",
    " <tr>\n",
    "    <td  style=\"width:50%\" >\n",
    "        <center>\n",
    "        <img src = \"https://raw.githubusercontent.com/jaurrutia/Material-Didactico/main/Mecanica%20Arquitectura%20(AR1008B)/img/Lambda.png\">\n",
    "        </center>\n",
    "    </td>\n",
    "    <td  style=\"width:50%\" >\n",
    "        <center>\n",
    "        <img src = \"https://raw.githubusercontent.com/jaurrutia/Material-Didactico/main/Mecanica%20Arquitectura%20(AR1008B)/img/Periodo.png\">\n",
    "        </center>\n",
    "    </td>\n",
    "  </tr>\n",
    "</table> "
   ]
  },
  {
   "cell_type": "markdown",
   "id": "3b36d877-7afd-43bd-99c9-e1b5e8956d9c",
   "metadata": {
    "editable": true,
    "slideshow": {
     "slide_type": "subslide"
    },
    "tags": []
   },
   "source": [
    "### Las ondas como la posición de partículas\n",
    "\n",
    "Si $f(x,t)$ describe la posicón de un objeto, entonces su velocidad y aceleración son las siguientes\n",
    "$$\n",
    "f(x,t) = A_0\\cos\\left(kx -\\omega t\\right),\\quad\\Longrightarrow\\quad\\dv{f(x,t)}{t} = A_0\\omega\\sin\\left(kx -\\omega t\\right),\\quad\\Longrightarrow \\quad\\mdv{f(x,t)}{t}{2}= -\\omega^2A_0\\cos\\left(kx -\\omega t\\right)\n",
    "$$\n",
    "<center>\n",
    "    <img src= \"https://raw.githubusercontent.com/jaurrutia/Material-Didactico/main/Mecanica%20Arquitectura%20(AR1008B)/img/VelocidadAceleracion.png\">\n",
    "</center>"
   ]
  },
  {
   "cell_type": "markdown",
   "id": "77ec1666-d7d2-49b7-85fc-6c2ec4fbb935",
   "metadata": {
    "editable": true,
    "slideshow": {
     "slide_type": "slide"
    },
    "tags": []
   },
   "source": [
    "## Ondas reflejadas\n",
    "<center>\n",
    "    <img src= \"https://raw.githubusercontent.com/jaurrutia/Material-Didactico/main/Mecanica%20Arquitectura%20(AR1008B)/img/Refl1.png\">\n",
    "    <img src= \"https://raw.githubusercontent.com/jaurrutia/Material-Didactico/main/Mecanica%20Arquitectura%20(AR1008B)/img/Refl2.png\">\n",
    "</center>"
   ]
  },
  {
   "cell_type": "markdown",
   "id": "cfc870e5-eacc-4b19-a55e-4ee54a025d5c",
   "metadata": {
    "editable": true,
    "slideshow": {
     "slide_type": "subslide"
    },
    "tags": []
   },
   "source": [
    "\n",
    "<center>\n",
    "    <img src= \"https://raw.githubusercontent.com/jaurrutia/Material-Didactico/main/Mecanica%20Arquitectura%20(AR1008B)/img/Refl2.png\">\n",
    "    <img src= \"https://raw.githubusercontent.com/jaurrutia/Material-Didactico/main/Mecanica%20Arquitectura%20(AR1008B)/img/Refl3.png\">\n",
    "</center>"
   ]
  },
  {
   "cell_type": "markdown",
   "id": "72cceccf-a77f-4d59-9517-53a4379a996a",
   "metadata": {
    "editable": true,
    "slideshow": {
     "slide_type": "slide"
    },
    "tags": []
   },
   "source": [
    "## Superposición de ondas\n",
    "$$\n",
    "f(x,t) = f_1(x,t) + f_2(x,t)\n",
    "$$\n",
    "<center>\n",
    "    <img src= \"https://raw.githubusercontent.com/jaurrutia/Material-Didactico/main/Mecanica%20Arquitectura%20(AR1008B)/img/Suma1.png\" width = 200><img src= \"https://raw.githubusercontent.com/jaurrutia/Material-Didactico/main/Mecanica%20Arquitectura%20(AR1008B)/img/Suma2.png\" width= 200>\n",
    "</center>"
   ]
  },
  {
   "cell_type": "markdown",
   "id": "f436b4c2-721b-4b1a-bb46-0ec289c04824",
   "metadata": {
    "editable": true,
    "slideshow": {
     "slide_type": "slide"
    },
    "tags": []
   },
   "source": [
    "## Ondas estacionarias\n",
    "\n",
    "Cuando una onda está atada por los dos extremos se generan **nodos** y **antinodos**.\n",
    "\n",
    "<center>\n",
    "    <img src= \"https://raw.githubusercontent.com/jaurrutia/Material-Didactico/main/Mecanica%20Arquitectura%20(AR1008B)/img/Estacioarias.png\">\n",
    "</center>"
   ]
  },
  {
   "cell_type": "markdown",
   "id": "cc715a6b-8598-4dda-83fc-99ec3dc4965e",
   "metadata": {
    "editable": true,
    "slideshow": {
     "slide_type": "subslide"
    },
    "tags": []
   },
   "source": [
    "### Expresión matemática\n",
    "\n",
    "$$\n",
    "\\begin{aligned}\n",
    "f(x,t) =& f_1(x,t) + f_2(x,t)\\\\\n",
    "       = & A_0\\cos(kx-\\omega t) + \\left[-A_0\\cos(kx+\\omega t)\\right]\\\\\n",
    "     =& A_0\\left[ \\cos(kx-\\omega t) - \\cos(kx+\\omega t)\\right]\\\\\n",
    "     =& A_0\\left[ \\cos(kx)\\cos(\\omega t)+ \\sin(kx)\\sin(\\omega t) -  \\cos(kx)\\cos(\\omega t)+ \\sin(kx)\\sin(\\omega t)\\right]\\\\\n",
    "     =& A_0\\left[2\\sin(kx)\\sin(\\omega t)\\right]\\\\\n",
    "     =& \\left[2A_0\\sin(kx)\\right]\\sin(\\omega t)\n",
    "\\end{aligned}\n",
    "$$\n",
    "\n",
    "Los nodos ocurren cuando \n",
    "$$\n",
    "\\sin(kx) = 0 \\quad \\Longrightarrow \\quad kx = n \\pi \\quad \\Longrightarrow  \\quad x = \\frac{\\lambda}{2}n,  \\quad  n\\in\\mathbb{Z}\n",
    "$$\n",
    "\n"
   ]
  },
  {
   "cell_type": "code",
   "execution_count": null,
   "id": "679ca2bb-7525-41f3-b6e2-59ca8882ae60",
   "metadata": {
    "editable": true,
    "slideshow": {
     "slide_type": ""
    },
    "tags": []
   },
   "outputs": [],
   "source": []
  }
 ],
 "metadata": {
  "kernelspec": {
   "display_name": "Wolfram Language 13",
   "language": "Wolfram Language",
   "name": "wolframlanguage13"
  },
  "language_info": {
   "codemirror_mode": "mathematica",
   "file_extension": ".m",
   "mimetype": "application/vnd.wolfram.m",
   "name": "Wolfram Language",
   "pygments_lexer": "mathematica",
   "version": "12.0"
  }
 },
 "nbformat": 4,
 "nbformat_minor": 5
}
