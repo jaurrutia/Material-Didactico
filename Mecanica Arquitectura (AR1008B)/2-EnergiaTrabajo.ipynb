{
 "cells": [
  {
   "cell_type": "markdown",
   "id": "35fc12ea-7706-4a39-9199-65ae1d23e761",
   "metadata": {
    "editable": true,
    "slideshow": {
     "slide_type": "slide"
    },
    "tags": []
   },
   "source": [
    "# **Modelación de la física en el ambiente construido: Dinámica**\n",
    "## **Trabajo y energía**\n",
    "\n",
    "\n",
    "### M. en C. Jonathan A. Urrutia Anguiano\n",
    "### AR108B\n",
    "<div hidden>\n",
    "$\\def\\dd{\\text{d}}$\n",
    "$\\def\\dv#1#2{\\dfrac{\\text{d} #1}{\\text{d}#2}}$\n",
    "$\\def\\mdv#1#2#3{\\dfrac{\\text{d}^{#3} #1}{\\text{d}#2^{#3}}}$\n",
    "$\\def\\vb#1{\\mathbf{#1}}$\n",
    "$\\def\\pdv#1#2#3{\\dfrac{\\partial^{#3} #1}{\\partial #2^{#3}}}$\n",
    "\\vskip-\\parskip\n",
    "\\vskip-\\baselineskip\n",
    "</div>"
   ]
  },
  {
   "cell_type": "markdown",
   "id": "1dde1916-438b-4ca5-8779-3f219be74179",
   "metadata": {
    "editable": true,
    "slideshow": {
     "slide_type": "subslide"
    },
    "tags": []
   },
   "source": [
    "### ¿Qué trabajaremos en esta sesión?\n",
    "\n",
    "En esta ocasión estudiaremos los siguientes conceptos\n",
    "\n",
    " - Trabajo debido a una fuerza $W$\n",
    " - Energía cinética ($E_c$)\n",
    " - Energía potencial ($E_p$)\n",
    "   - $E_p$ gravitatoria\n",
    "   - $E_p$ elástica\n",
    " - Conservación de la energía"
   ]
  },
  {
   "cell_type": "markdown",
   "id": "8228eae8-b2c8-4596-865d-dada7e2b2a38",
   "metadata": {
    "editable": true,
    "slideshow": {
     "slide_type": "slide"
    },
    "tags": []
   },
   "source": [
    "## El concepto del **Trabajo** en la Física\n",
    "\n",
    "<center>\n",
    "    <img src=\"https://raw.githubusercontent.com/jaurrutia/Material-Didactico/main/Mecanica%20Arquitectura%20(AR1008B)/img/Work-example.png\" width=\"1000\">\n",
    "</center>\n",
    "\n",
    "---\n",
    "Serway, R.A., y Jewett J. \"Física para ciencias e ingenierías Vol. 1\". Cengage Learning Editores S.A. de C.V., 2008."
   ]
  },
  {
   "cell_type": "markdown",
   "id": "505b4578-dc4c-4fc3-82ef-ae06650f4bf0",
   "metadata": {
    "editable": true,
    "slideshow": {
     "slide_type": "subslide"
    },
    "tags": []
   },
   "source": [
    "### El trabajo: Efecto visible de la interacción\n",
    "\n",
    "<table style=\"width:100%\">\n",
    "  <tr>\n",
    "    <td  style=\"width:60%\" >\n",
    " <ul>\n",
    "     <li><b>Aplicacamos</b> de una fuerza constante $\\vb{F}$</li>\n",
    "     <li><b>Observamos</b> que el objeto se mueve en la dirección $\\Delta \\vb{r}$.</li>\n",
    "     <li><b>Notamos</b> que sólo una parte de la fuerza aplicada ve en la dirección de movimiento.</li>\n",
    "     <li><b>Denominamos</b> a la contribución efectiva de la fuerza como el <b>trabajo</b> $W$ realizado por ella\n",
    "     $$ W = \\vb{F}\\cdot \\Delta\\vb{r} = F \\Delta r \\cos\\theta$$\n",
    "     </li>\n",
    "</ul>\n",
    "    </td>\n",
    "    <td  style=\"width:50%\" >\n",
    "        <center>\n",
    "        <img src=\"https://raw.githubusercontent.com/jaurrutia/Material-Didactico/main/Mecanica%20Arquitectura%20(AR1008B)/img/Work-Formula.png\" width=\"500\"> \n",
    "        </center>\n",
    "    </td>\n",
    "  </tr>\n",
    "</table> \n",
    "\n",
    "\n",
    "---\n",
    "Serway, R.A., y Jewett J. \"Física para ciencias e ingenierías Vol. 1\". Cengage Learning Editores S.A. de C.V., 2008."
   ]
  },
  {
   "cell_type": "markdown",
   "id": "3f0d1a38-6102-47fd-b968-a0bf19ef9742",
   "metadata": {
    "editable": true,
    "slideshow": {
     "slide_type": "subslide"
    },
    "tags": []
   },
   "source": [
    "### Ejemplo:\n",
    "\n",
    "<table style=\"width:100%\">\n",
    "  <tr>\n",
    "    <td  style=\"width:60%\" >\n",
    "        Si la aspiradora se desplaza un metro y medio ($1.5\\text{ m}$) a la derecha:\n",
    " <ul>\n",
    "     <li>¿Cuál es el trabajo debido a la fuerza de gravedad?</li>\n",
    "     <li>¿Cuál es el trabajo ejercido por el usuario?</li>\n",
    "</ul>\n",
    "    </td>\n",
    "    <td  style=\"width:50%\" >\n",
    "        <center>\n",
    "        <img src=\"https://raw.githubusercontent.com/jaurrutia/Material-Didactico/main/Mecanica%20Arquitectura%20(AR1008B)/img/Work-Exc1.png\" width=\"500\"> \n",
    "        </center>\n",
    "    </td>\n",
    "  </tr>\n",
    "</table> \n",
    "\n",
    "\n",
    "---\n",
    "Serway, R.A., y Jewett J. \"Física para ciencias e ingenierías Vol. 1\". Cengage Learning Editores S.A. de C.V., 2008."
   ]
  },
  {
   "cell_type": "markdown",
   "id": "805318b3-cf68-42c4-9e82-e2d6260a6a56",
   "metadata": {
    "editable": true,
    "slideshow": {
     "slide_type": "slide"
    },
    "tags": []
   },
   "source": [
    "## El trabajo y el movimiento\n",
    "\n",
    "<center>\n",
    "    <img src=\"https://upload.wikimedia.org/wikipedia/commons/6/69/Nude_man_pushing_a_garden_roller_%28rbm-QP301M8-1887-393%29.jpg\" width=\"1000\" class=”cropimg” >\n",
    "</center>\n"
   ]
  },
  {
   "cell_type": "code",
   "execution_count": null,
   "id": "f99de987-9326-4031-8b23-22467a746be5",
   "metadata": {
    "editable": true,
    "slideshow": {
     "slide_type": ""
    },
    "tags": []
   },
   "outputs": [],
   "source": []
  }
 ],
 "metadata": {
  "kernelspec": {
   "display_name": "Wolfram Language 13",
   "language": "Wolfram Language",
   "name": "wolframlanguage13"
  },
  "language_info": {
   "codemirror_mode": "mathematica",
   "file_extension": ".m",
   "mimetype": "application/vnd.wolfram.m",
   "name": "Wolfram Language",
   "pygments_lexer": "mathematica",
   "version": "12.0"
  }
 },
 "nbformat": 4,
 "nbformat_minor": 5
}
