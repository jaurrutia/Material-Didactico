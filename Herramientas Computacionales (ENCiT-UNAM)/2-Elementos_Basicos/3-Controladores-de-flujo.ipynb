{
 "cells": [
  {
   "cell_type": "markdown",
   "metadata": {},
   "source": [
    "# Controladores de flujo"
   ]
  },
  {
   "cell_type": "markdown",
   "metadata": {},
   "source": [
    "* [10. Repaso de operaciones lógicas](#8-Repaso-de-operaciones-lógicas)\n",
    "* [11. La declaración if](#4.-La-declaración-if)\n",
    "    * [4.1 Trabajando con una declaración if](#4.1-Trabajando-con-una-declaración-if)\n",
    "    * [4.2 Condicional if y else](#4.2-Condicional-if-y-else)\n",
    "    * [4.3 El uso del elif](#4.3-El-uso-del-elif)\n",
    "    * [4.4 Declaraciones if anidadas](#4.4-Declaraciones-if-anidadas)\n",
    "* [5. Ciclo While](#5.-Ciclo-While)\n",
    "* [6. Ciclo for](#6.-Ciclo-for)\n",
    "* [7. Declaración break de bucle](#7.-Declaración-break-de-bucle)\n",
    "* [8. Declaración continue de bucle](#8.-Declaración-continue-de-bucle)\n",
    "* [9. Ejercicios en clase](#9.-Ejercicios-en-clase)\n",
    "* [10. Ejercicios a casa](#10.-Ejercicios-a-casa)\n",
    "* [11. Bibliografía](#11.-Bibliografía)"
   ]
  },
  {
   "cell_type": "markdown",
   "metadata": {
    "tags": []
   },
   "source": [
    "# 10. Repaso de operaciones de comparación y lógicas "
   ]
  },
  {
   "cell_type": "markdown",
   "metadata": {},
   "source": [
    "Cuandeo queremos que la computadora realice un proceso por nosotros, además de darle una instrucción debemos decirle cuándo parar y, en otras ocacones, cómo debe modificar sus métodos cuando se tienen alguna condición por cumplir. Parea realizar estas decisiones, la computadora realiza comparaciones que al final se evalían como núemeros boolenas, es decir como `True` o `False`. Exsiten instrucciones predefinidas que nos ayudan a realizar estos procedimietos con base en estas condiciones. Antes de hablar de ellas, comenzaremos recoordando cómo podemos darle a entender a la computadora las condiciones que esperamos."
   ]
  },
  {
   "cell_type": "markdown",
   "metadata": {},
   "source": [
    "Estos son operadores que devuelven valores booleanos y son clave para los elementos condicionales de las declaraciones de flujo de control. Estos son operadores que usamos en la vida cotidiana todo el tiempo. Por ejemplo, ¿tengo suficiente dinero para comprar el almuerzo? o es este zapato de mi talla, etc.\n",
    "\n",
    "En Python hay una gama de operadores de comparación representados típicamente por uno o dos caracteres. Estos son:\n",
    "\n",
    "|Operador|                      Descripción                  |  Ejemplo |\n",
    "|--------|---------------------------------------------------|----------|\n",
    "|  `==`  |Comprueba si dos valores son iguales| `x == 2` |\n",
    "|  `!=`  |Comprueba que dos valores no son iguales entre sí|`2 != 3` |\n",
    "|   `<`  |Comprueba si el valor de la izquierda es menor que el valor de la derecha|`2 <  3` |\n",
    "|   `>`  |Comprueba si el valor de la izquierda es mayor que el valor de la derecha|`3 >  2` |\n",
    "|  `<=`  |Comprueba si el valor de la izquierda es menor o igual que el valor de la derecha|`3 <=  4` |\n",
    "|  `>=`  |Comprueba si el valor de la izquierda es mayor o igual que el valor de la derecha|`5 >=  4` |"
   ]
  },
  {
   "cell_type": "markdown",
   "metadata": {},
   "source": [
    "Los operadores lógicos se pueden usar para combinar expresiones booleanas juntas. Típicamente, se usan con operadores de comparación para crear condiciones más complejas. Nuevamente, los usamos todos los días, por ejemplo, podríamos considerar si puede permitirse un helado y si cenaremos pronto, etc. Hay tres operadores lógicos en Python que se enumeran a continuación:\n",
    "\n",
    "|Operador|                      Descripción                  |  Ejemplo |\n",
    "|--------|---------------------------------------------------|----------|\n",
    "|  `and` |Devuelve `True` si tanto el lado izquierdo como la derecha son verdaderos|`(3 < 4) and (5 > 3)` |\n",
    "|  `or`  |Devuelve `True` si la izquierda o la derecha es una cierta.              |`(3 < 4) or (3 > 4)` |\n",
    "|  `not` |Devuelve `True` si el valor que se prueba es Falso|`not 3 <  2` |"
   ]
  },
  {
   "cell_type": "code",
   "execution_count": 1,
   "metadata": {},
   "outputs": [
    {
     "data": {
      "text/plain": [
       "False"
      ]
     },
     "execution_count": 1,
     "metadata": {},
     "output_type": "execute_result"
    }
   ],
   "source": [
    "(not 3 < 4) and (5 > 3)"
   ]
  },
  {
   "cell_type": "markdown",
   "metadata": {},
   "source": [
    "# 4. La declaración `if` "
   ]
  },
  {
   "cell_type": "markdown",
   "metadata": {},
   "source": [
    "Al igual que en español o inglés, la sentencia `if` indica una condición, `si` tal, entonces... Este tipo de conidiciones son algo que probablemente haces todos los días en el mundo real. Es decir, debe decidir si va a tomar un té o un café o si va a comer tostadas o un panecillo en el desayuno, etc. En cada uno de estos casos está haciendo una elección, generalmente basada en alguna información como yo tomé café ayer, así que tomaré té hoy.\n",
    "\n",
    "En Python, tales elecciones están representadas programáticamente por la instrucción `if` condition.\n",
    "\n",
    "En esta construcción, si alguna condición es verdadera, se realiza alguna acción, opcionalmente si no es cierta, se puede realizar otra acción en su lugar."
   ]
  },
  {
   "cell_type": "markdown",
   "metadata": {},
   "source": [
    "## 4.1. `if`, sólo una opción"
   ]
  },
  {
   "cell_type": "markdown",
   "metadata": {},
   "source": [
    "En su forma más básica, la instrucción `if` es:\n",
    "\n",
    "```python\n",
    "if <condition-evaluating-to-boolean>:\n",
    "    statement_1\n",
    "    statement_2\n",
    "```\n",
    "\n",
    "Tenga en cuenta que la condición debe evaluarse como `True` o `False`. Si la condición es `True`, ejecutaremos la declaración con sangría, es decir todo lo que esté identado a la misma distancia. De hecho, si hay alguna otra identación, ésta ya no se sometará a la declaración `if` o de cualquier otro tipo de ciclo.\n",
    "\n",
    "**Tenga en cuenta que la sangría, esto es muy importante en Python; de hecho, el diseño del código es muy, muy importante en Python. La sangría se usa para determinar cómo se debe asociar una parte del código con otra parte del código.**\n",
    "Veamos un ejemplo simple,"
   ]
  },
  {
   "cell_type": "code",
   "execution_count": 9,
   "metadata": {},
   "outputs": [
    {
     "name": "stdout",
     "output_type": "stream",
     "text": [
      "If this is the only message, x is equal to 2\n",
      "\n",
      "If this is the only message, x is equal to 2\n"
     ]
    }
   ],
   "source": [
    "# Vamos a comparar el número 11 y ver si es igual, mayor o menor a 2\n",
    "x = 2\n",
    "\n",
    "if x < 2:\n",
    "    print(\"x is smaller than 2\")\n",
    "    \n",
    "if x > 2:\n",
    "    print(\"x is bigger than 2\")\n",
    "   \n",
    "print(\"If this is the only message, x is equal to 2\\n\")\n",
    "\n",
    "\n",
    "# Vamos a comparar el número 2 y ver si es igual, mayor o menor a 2\n",
    "x = 2\n",
    "\n",
    "if x < 2:\n",
    "    print(\"x is smaller than 2\")\n",
    "    \n",
    "if x > 2:\n",
    "    print(\"x is bigger than 2\")\n",
    "    \n",
    "print(\"If this is the only message, x is equal to 2\")\n",
    "    "
   ]
  },
  {
   "cell_type": "markdown",
   "metadata": {},
   "source": [
    "Notemos que en ejemplo anterior, las únicas oraciones impresas son las que cumplen una de las condiciones del  `if` y la que no está sometida a ninguna, que se encuentra sin ninguna identación."
   ]
  },
  {
   "cell_type": "markdown",
   "metadata": {},
   "source": [
    "## 4.2. Condicional `if` y `else` "
   ]
  },
  {
   "cell_type": "markdown",
   "metadata": {},
   "source": [
    "La palabra anglosajona *else* puede traducirse en español como *si no*, por lo que en python puede empliarse la declaración `if` con un `else` que nos permite inidcar alguna acción en caso de que la comparación dadad en el `if`no sea verdadera. Es decir, podemos poner el código anterior de una fora más compacta, donde además se realizan menos operaciones:"
   ]
  },
  {
   "cell_type": "code",
   "execution_count": 13,
   "metadata": {},
   "outputs": [
    {
     "name": "stdout",
     "output_type": "stream",
     "text": [
      "x is bigger or equal than 2\n"
     ]
    }
   ],
   "source": [
    "x = 3\n",
    "\n",
    "if x < 2:\n",
    "    print(\"x is smaller than 2\")\n",
    "else:\n",
    "    print(\"x is bigger or equal than 2\")  # Notemos que ahora no puedo poner la tricotomía de operaciones porque el else (sino) me obliga a que siempre haga una operación la sentencia.\n",
    "        "
   ]
  },
  {
   "cell_type": "markdown",
   "metadata": {},
   "source": [
    "Cuando empleamos else tenemos la garantía de que al menos una (y como máximo una) de las declaraciones en la sentencia se ejecutará. PAra reproducir la tricotomía de las operaciones podemos emplear dos setnencias `if` anidadas como sigue"
   ]
  },
  {
   "cell_type": "markdown",
   "metadata": {},
   "source": [
    "## 4.3. Anidando `if`s"
   ]
  },
  {
   "cell_type": "markdown",
   "metadata": {},
   "source": [
    "Si quiero que dos condiciones se cumplan (algo equivalente a una operación `and`, por ejemplo, se pueden realizar dos sentencias `if`, y sólo debemos tener cuidado con la idenntación"
   ]
  },
  {
   "cell_type": "code",
   "execution_count": 19,
   "metadata": {},
   "outputs": [
    {
     "name": "stdout",
     "output_type": "stream",
     "text": [
      "x is bigger than 2\n"
     ]
    }
   ],
   "source": [
    "x = 3\n",
    "\n",
    "if x < 2:\n",
    "    print(\"x is smaller than 2\")\n",
    "else:\n",
    "    if x > 2:\n",
    "        print(\"x is bigger than 2\")\n",
    "    else:\n",
    "        print(\"x is 2\")\n"
   ]
  },
  {
   "cell_type": "markdown",
   "metadata": {},
   "source": [
    "## 4.3 El uso del `elif` "
   ]
  },
  {
   "cell_type": "markdown",
   "metadata": {},
   "source": [
    "En algunos casos, puede haber varias condiciones que desea probar, y cada condición se prueba si la anterior falló. Este escenario *else-if* es soportado en Python por el elemento `elif` de una declaración `if`.\n",
    "\n",
    "La declaración `elif` de una instrucción `if` sigue después de un `if` y viene antes de cualquier (opcional) `else` otra parte. Tiene el formato:\n",
    "\n",
    "```python\n",
    "elif <condition-evaluating-to-boolean>:\n",
    "    statement\n",
    "```"
   ]
  },
  {
   "cell_type": "code",
   "execution_count": 23,
   "metadata": {},
   "outputs": [
    {
     "name": "stdout",
     "output_type": "stream",
     "text": [
      "x is 2\n"
     ]
    }
   ],
   "source": [
    "x = 2\n",
    "\n",
    "if x < 2:\n",
    "    print(\"x is smaller than 2\")\n",
    "elif x > 2:\n",
    "    print(\"x is bigger than 2\") # Esto es equivalente a nuestro ciclo anidado anterior sin embargo, es más legible y me permite tener más opciones, como sigue a continuación\n",
    "else:\n",
    "    print(\"x is 2\")"
   ]
  },
  {
   "cell_type": "code",
   "execution_count": 32,
   "metadata": {},
   "outputs": [
    {
     "name": "stdin",
     "output_type": "stream",
     "text": [
      "Enter how much you have in savings:  0\n"
     ]
    },
    {
     "name": "stdout",
     "output_type": "stream",
     "text": [
      "Sorry no savings\n"
     ]
    }
   ],
   "source": [
    "savings = float(input(\"Enter how much you have in savings: \")) \n",
    "\n",
    "if savings < 0:\n",
    "    print(\"You are broke\")\n",
    "elif savings == 0:\n",
    "    print(\"Sorry no savings\")\n",
    "elif 0 < savings and savings <= 500:\n",
    "    print('Well done') \n",
    "elif savings > 500 and savings <= 1000:\n",
    "    print('Thats a tidy sum')\n",
    "elif savings > 1000 and savings <= 10000:\n",
    "    print('Welcome Sir!')\n",
    "else:\n",
    "    print('Thank you')"
   ]
  },
  {
   "cell_type": "markdown",
   "metadata": {},
   "source": [
    "# 5. Ciclo While"
   ]
  },
  {
   "cell_type": "markdown",
   "metadata": {},
   "source": [
    "De nuevo, vemos una instrucción que se traduce directo: `while` (mientras). Ésta existe en casi todos los lenguajes de programación y se utiliza para iterar (o repetir) una o más instrucciones de código siempre que la condición de prueba (expresión) sea verdadera (`True`). Esta construcción de iteración generalmente se usa cuando no se conoce el número de veces que necesitamos repetir el bloque de código para ejecutar. Por ejemplo, puede necesitar repetir hasta que se encuentre alguna solución o el usuario ingrese un valor particular.\n",
    "\n",
    "<center>\n",
    "<img src = \"../Images/while.png\"  width=\"600\" height=\"300\"/>\n",
    "</center>"
   ]
  },
  {
   "cell_type": "markdown",
   "metadata": {},
   "source": [
    "En Python el ciclo `while` tiene la siguiente forma:\n",
    "\n",
    "```python\n",
    "while <test-condition-is-true>: \n",
    "    statement_1\n",
    "    starement_2\n",
    " ```\n",
    "    \n",
    "Al igual que antes, la identación marca qué instrucciones están dentro del ciclo."
   ]
  },
  {
   "cell_type": "code",
   "execution_count": 34,
   "metadata": {},
   "outputs": [
    {
     "name": "stdout",
     "output_type": "stream",
     "text": [
      "Starting\n",
      "0  1  2  3  4  5  6  7  8  9  10  \n",
      "Done\n"
     ]
    }
   ],
   "source": [
    "contador = 0 # lo usual es poner algún tipo de contador para ver el proceso\n",
    "\n",
    "print('Starting') \n",
    "while contador <= 10:\n",
    "    print(contador, ' ', end='') # Dentro del ciclo\n",
    "    contador += 1      # Modificamos el contado, dentro del ciclo\n",
    "print() # Esto ya no se encuentra dentro del ciclo\n",
    "print('Done')"
   ]
  },
  {
   "cell_type": "code",
   "execution_count": null,
   "metadata": {},
   "outputs": [],
   "source": [
    "while True:\n",
    "    print(1, end = '')\n",
    "print(\"end\")"
   ]
  },
  {
   "cell_type": "code",
   "execution_count": 42,
   "metadata": {},
   "outputs": [
    {
     "name": "stdout",
     "output_type": "stream",
     "text": [
      "En  27 pasos se obtuvo el valor de  7.450580596923828e-09 con un error de cinco cifras decimales\n"
     ]
    }
   ],
   "source": [
    "# Vamos a calcular el valor de 2^{-n} más cercano a 0.00001\n",
    "exp = 1\n",
    "base = 2\n",
    "contador = 0  # y ceamos cuantas iteraciones tenemos\n",
    "\n",
    "while 10 ** (-8) - exp < 0: # PAra este caso, la condición es que 10^{-3} - n^2 < 0, es decir, cuando difieran por al menos dos cifras significativas\n",
    "    exp = exp / base       # Cálculo exponencial\n",
    "    contador += 1          # Contador para ver cuántos pasos necesitamos\n",
    "\n",
    "print(\"En \", contador, \"pasos se obtuvo el valor de \", exp, \"con un error de cinco cifras decimales\")"
   ]
  },
  {
   "cell_type": "markdown",
   "metadata": {},
   "source": [
    "# 6. Ciclo `for`"
   ]
  },
  {
   "cell_type": "markdown",
   "metadata": {},
   "source": [
    "En muchos casos, sabemos cuántas veces queremos iterar sobre una o más declaraciones (como lo hicimos en la sección anterior). Aunque el ciclo `while` puede usarse para tales situaciones, el ciclo `for` es una forma mucho más concisa de hacer esto. Por lo general, también es más claro para algunos programadores que el ciclo debe iterar durante un número específico de iteraciones.\n",
    "\n",
    "\n",
    "El ciclo `for` se usa para pasar una variable a través de una serie de valores hasta que se cumple una prueba determinada. El comportamiento del bucle for se ilustra a continuación.\n",
    "\n",
    "<img src = \"../Images/for.png\"  width=\"400\" height=\"300\"/>"
   ]
  },
  {
   "cell_type": "markdown",
   "metadata": {},
   "source": [
    "El ciclo `for` tiene la siguiente forma:\n",
    "\n",
    "```python\n",
    "for <variable-name> in range(...):\n",
    "    statement\n",
    "    statement\n",
    "```"
   ]
  },
  {
   "cell_type": "markdown",
   "metadata": {},
   "source": [
    "Veamos la equivalencia entre un ciclo `for` y un `while`, por ejemplo, el del caso anterior"
   ]
  },
  {
   "cell_type": "code",
   "execution_count": 68,
   "metadata": {},
   "outputs": [
    {
     "name": "stdout",
     "output_type": "stream",
     "text": [
      "[0, 1, 2, 3, 4, 5, 6, 7, 8, 9, 0, 1, 2, 3, 4, 5, 6, 7, 8, 9]\n"
     ]
    }
   ],
   "source": [
    "x = range(0, 10)\n",
    "y = [0, 1, 2, 3, 4, 5, 6, 7, 8, 9] * 2\n",
    "print(y)\n",
    "y = [2.5, 8, 1, 7]\n",
    "z = ['conejos', 'perros','gatos','calabazas']"
   ]
  },
  {
   "cell_type": "code",
   "execution_count": 67,
   "metadata": {},
   "outputs": [
    {
     "name": "stdout",
     "output_type": "stream",
     "text": [
      "2.5conejos  8perros  1gatos  7calabaza  "
     ]
    }
   ],
   "source": [
    "for i in range(0, len(y)):\n",
    "    print(str(y[i]) + z[i], ' ', end='')"
   ]
  },
  {
   "cell_type": "code",
   "execution_count": 62,
   "metadata": {},
   "outputs": [
    {
     "name": "stdout",
     "output_type": "stream",
     "text": [
      "Print out values in a range\n",
      "2.5  8  1  7  \n",
      "Done\n"
     ]
    }
   ],
   "source": [
    "# Loop over a set of values in a range \n",
    "print('Print out values in a range') \n",
    "for i in y:\n",
    "    print(i, ' ', end='') \n",
    "print()\n",
    "print('Done')"
   ]
  },
  {
   "cell_type": "code",
   "execution_count": 55,
   "metadata": {},
   "outputs": [
    {
     "name": "stdout",
     "output_type": "stream",
     "text": [
      "Print out values in a range\n",
      "0  1  2  3  4  5  6  7  8  9  \n",
      "Done\n"
     ]
    }
   ],
   "source": [
    "# Loop over a set of values in a range \n",
    "print('Print out values in a range') \n",
    "for i in range(0, 10):\n",
    "    print(i, ' ', end='') \n",
    "print()\n",
    "print('Done')"
   ]
  },
  {
   "cell_type": "markdown",
   "metadata": {},
   "source": [
    "Como se puede ver en lo anterior; El resultado final es que hemos generado un ciclo `for` que produce el mismo conjunto de valores que el ciclo `while` anterior. Sin embargo,\n",
    "\n",
    "* El código es más conciso.\n",
    "* Es claro que estamos procesando un rango de valores de 0 a 9 (tenga en cuenta que depende del valor final, pero no lo incluye).\n",
    "* No necesitamos definir primero la variable de bucle.\n",
    "\n",
    "\n",
    "Por estas razones, éstos ciclos son más comunes en los programas en general que los bucles `while`."
   ]
  },
  {
   "cell_type": "markdown",
   "metadata": {},
   "source": [
    "Sin embargo, una cosa que puede notar es que en el ciclo while no estamos obligados a incrementar la variable de conteo en uno. Por ejemplo, podríamos haber decidido incrementar el conteo en 2 cada vez que se completa el ciclo (una idea muy común). De hecho, la función `range` nos permite hacer exactamente esto; Un tercer argumento que se puede proporcionar a la función de `range` es el valor para incrementar la variable del ciclo cada vez que se redondea, por ejemplo:"
   ]
  },
  {
   "cell_type": "code",
   "execution_count": 71,
   "metadata": {},
   "outputs": [
    {
     "name": "stdout",
     "output_type": "stream",
     "text": [
      "Starting\n",
      "0  2  4  6  8  \n",
      "Done\n"
     ]
    }
   ],
   "source": [
    "count = 0\n",
    "print('Starting') \n",
    "while count < 10:\n",
    "    print(count, ' ', end='') # part of the while loop\n",
    "    count += 2 # also part of the while loop \n",
    "print() # not part of the while loop\n",
    "print('Done')"
   ]
  },
  {
   "cell_type": "code",
   "execution_count": 72,
   "metadata": {},
   "outputs": [
    {
     "name": "stdout",
     "output_type": "stream",
     "text": [
      "Print out values in a range with an increment of 2\n",
      "0  2  4  6  8  \n",
      "Done\n"
     ]
    }
   ],
   "source": [
    "# Now use values in a range but increment by 2 \n",
    "print('Print out values in a range with an increment of 2') \n",
    "for i in range(0, 10, 2):\n",
    "    print(i, ' ', end='') \n",
    "print()\n",
    "print('Done')"
   ]
  },
  {
   "cell_type": "markdown",
   "metadata": {},
   "source": [
    "Una variación interesante del ciclo `for` es el uso del comodín `_` en lugar de una variable de bucle; Esto puede ser útil si solo está interesado en hacer un bucle un cierto número de veces y no en el valor del contador del bucle, por ejemplo:"
   ]
  },
  {
   "cell_type": "code",
   "execution_count": 74,
   "metadata": {},
   "outputs": [
    {
     "name": "stdout",
     "output_type": "stream",
     "text": [
      ".....\n"
     ]
    }
   ],
   "source": [
    "# Now use an 'anonymous' loop variable\n",
    "for _ in range(0,10,2):\n",
    "    print('.', end='')\n",
    "print()"
   ]
  },
  {
   "cell_type": "markdown",
   "metadata": {},
   "source": [
    "# 7. Declaración `break` de bucle"
   ]
  },
  {
   "cell_type": "markdown",
   "metadata": {},
   "source": [
    "La declaración `break` permite a un desarrollador alterar el flijo normal del ciclo que empleamos (for o while) en función de algunos criterios que pueden no ser predecibles de antemano (por ejemplo, puede basarse en alguna entrada del usuario).\n",
    "\n",
    "La instrucción `break`, cuando se ejecuta, terminará el ciclo actual y saltará el programa a la primera línea después del ciclo. El siguiente diagrama muestra cómo funciona esto para un ciclo `for`:\n",
    "\n",
    "<center>\n",
    "<img src = \"../Images/break.png\"  width=\"500\" height=\"300\"/>\n",
    "    </center>"
   ]
  },
  {
   "cell_type": "markdown",
   "metadata": {},
   "source": [
    "Una aplicación de esto es:"
   ]
  },
  {
   "cell_type": "code",
   "execution_count": 3,
   "metadata": {},
   "outputs": [
    {
     "name": "stdout",
     "output_type": "stream",
     "text": [
      "Only print code if all iterations completed\n"
     ]
    },
    {
     "name": "stdin",
     "output_type": "stream",
     "text": [
      "Enter a number to check for:  8\n"
     ]
    },
    {
     "name": "stdout",
     "output_type": "stream",
     "text": [
      "0  1  2  3  4  5  Done\n"
     ]
    }
   ],
   "source": [
    "print('Only print code if all iterations completed') \n",
    "\n",
    "num = int(input('Enter a number to check for: ')) \n",
    "\n",
    "for i in range(0, 6):\n",
    "    if i == num: \n",
    "        break\n",
    "    print(i, ' ', end='') \n",
    "\n",
    "print('Done')"
   ]
  },
  {
   "cell_type": "code",
   "execution_count": 2,
   "metadata": {},
   "outputs": [
    {
     "name": "stdout",
     "output_type": "stream",
     "text": [
      "En  34 pasos se obtuvo el valor de  5.820766091346741e-11\n"
     ]
    }
   ],
   "source": [
    "# Vamos a calcular el valor de 2^{-n} más cercano a 0.00001\n",
    "exp = 1\n",
    "base = 2\n",
    "contador = 0  # y ceamos cuantas iteraciones tenemos\n",
    "\n",
    "while 10 ** (-10) - exp < 0: # PAra este caso, la condición es que 10^{-3} - n^2 < 0, es decir, cuando difieran por al menos dos cifras significativas\n",
    "    exp = exp / base       # Cálculo exponencial\n",
    "    contador += 1          # Contador para ver cuántos pasos necesitamos\n",
    "    if contador > 80:\n",
    "        print(\"No convergió el resultad\")\n",
    "        break\n",
    "\n",
    "print(\"En \", contador, \"pasos se obtuvo el valor de \", exp)"
   ]
  },
  {
   "cell_type": "code",
   "execution_count": 21,
   "metadata": {},
   "outputs": [
    {
     "name": "stdout",
     "output_type": "stream",
     "text": [
      "29\n",
      "no convergió\n"
     ]
    },
    {
     "data": {
      "text/plain": [
       "9.313225746154785e-10"
      ]
     },
     "execution_count": 21,
     "metadata": {},
     "output_type": "execute_result"
    }
   ],
   "source": [
    "exp = 1\n",
    "base = 2\n",
    "\n",
    "for i in range(0,30):\n",
    "    if 10**(-10) - exp > 0 :\n",
    "        print(\"Se necesitaron \", i, \" pasos\") \n",
    "        break\n",
    "    exp = exp/base\n",
    "if i == 29:\n",
    "    print(i)\n",
    "    print(\"no convergió\")\n",
    "exp"
   ]
  },
  {
   "cell_type": "markdown",
   "metadata": {},
   "source": [
    "Tenga en cuenta que la declaración `break` puede estar en cualquier lugar dentro del bloque de código asociado con la construcción del bucle (ya sea un bucle `for` o un bucle `while`). Esto significa que puede haber declaraciones antes y después."
   ]
  },
  {
   "cell_type": "markdown",
   "metadata": {},
   "source": [
    "# 8. Declaración `continue` de bucle"
   ]
  },
  {
   "cell_type": "markdown",
   "metadata": {},
   "source": [
    "La declaración `continue` también afecta el flujo de control dentro de las construcciones de un ciclo `for` y `while`. Sin embargo, no termina todo el ciclo; más bien solo termina la iteración actual alrededor del ciclo. Esto le permite omitir parte de la iteración de un ciclo para un valor particular, pero luego continuar con los valores restantes en la secuencia.\n",
    "\n",
    "<center>\n",
    "<img src = \"../Images/continue.png\"  width=\"500\" height=\"300\"/>\n",
    "    </center>"
   ]
  },
  {
   "cell_type": "code",
   "execution_count": 27,
   "metadata": {},
   "outputs": [
    {
     "name": "stdout",
     "output_type": "stream",
     "text": [
      "0  hey its an even number\n",
      "2  hey its an even number\n",
      "4  hey its an even number\n",
      "6  hey its an even number\n",
      "8  hey its an even number\n",
      "Done\n"
     ]
    }
   ],
   "source": [
    "for i in range(0, 10): \n",
    "    if i % 2 == 1:\n",
    "        continue\n",
    "    print(i, ' ', end='') \n",
    "    print('hey its an even number') \n",
    "print('Done')\n"
   ]
  },
  {
   "cell_type": "code",
   "execution_count": 32,
   "metadata": {},
   "outputs": [
    {
     "name": "stdout",
     "output_type": "stream",
     "text": [
      "0  hey its an even number\n",
      "2  hey its an even number\n",
      "4  hey its an even number\n",
      "6  hey its an even number\n",
      "8  hey its an even number\n"
     ]
    }
   ],
   "source": [
    "i = 0\n",
    "\n",
    "while i < 10:\n",
    "    if i % 2 == 1:\n",
    "        i += 1\n",
    "        continue\n",
    "    print(i, ' ', end='') \n",
    "    print('hey its an even number') \n",
    "    i =  i + 1\n",
    "    "
   ]
  },
  {
   "cell_type": "markdown",
   "metadata": {},
   "source": [
    "# 9. Ejercicios en clase"
   ]
  },
  {
   "cell_type": "markdown",
   "metadata": {},
   "source": [
    "Escribir ciclos que:\n",
    "\n",
    "* Genere los enteros entre $0$ y $n$\n",
    "* Calcule la suma de los primeros $n$ naturales, sin usar la fórmula de Gauss\n",
    "* Encuentre los números de la serie de fibonacci previos a $n$\n",
    "* Cálcule el factorial de $n$\n",
    "* Escriba un ciclo que aproxime la función exponencial para un cierto $n$ recuerde que $$e^x \\approx \\displaystyle \\sum_{i = 0}^{n} \\dfrac{x^i}{i!}$$"
   ]
  },
  {
   "cell_type": "markdown",
   "metadata": {},
   "source": [
    "### Genere los enteros entre $0$ y $n$"
   ]
  },
  {
   "cell_type": "code",
   "execution_count": 18,
   "metadata": {},
   "outputs": [
    {
     "name": "stdout",
     "output_type": "stream",
     "text": [
      "Escriba un entero:14\n",
      "1\n",
      "2\n",
      "3\n",
      "4\n",
      "5\n",
      "6\n",
      "7\n",
      "8\n",
      "9\n",
      "10\n",
      "11\n",
      "12\n",
      "13\n",
      "14\n"
     ]
    }
   ],
   "source": [
    "n = int(input('Escriba un entero:'))\n",
    "\n",
    "for i in range(1, n + 1):\n",
    "    print(i)"
   ]
  },
  {
   "cell_type": "code",
   "execution_count": 20,
   "metadata": {},
   "outputs": [
    {
     "name": "stdout",
     "output_type": "stream",
     "text": [
      "Escriba un entero:14\n",
      "0\n",
      "1\n",
      "2\n",
      "3\n",
      "4\n",
      "5\n",
      "6\n",
      "7\n",
      "8\n",
      "9\n",
      "10\n",
      "11\n",
      "12\n",
      "13\n",
      "14\n"
     ]
    }
   ],
   "source": [
    "n = int(input('Escriba un entero:'))\n",
    "\n",
    "i = 0\n",
    "while i <= n:\n",
    "    print(i)\n",
    "    i += 1"
   ]
  },
  {
   "cell_type": "markdown",
   "metadata": {},
   "source": [
    "### Suma de los primeros $n \\in \\mathbb{Z}$ "
   ]
  },
  {
   "cell_type": "code",
   "execution_count": 24,
   "metadata": {},
   "outputs": [
    {
     "name": "stdout",
     "output_type": "stream",
     "text": [
      "Ingrese un número natural:100\n",
      "5050\n"
     ]
    }
   ],
   "source": [
    "n = int(input('Ingrese un número natural:'))\n",
    "\n",
    "aux = 0\n",
    "\n",
    "for i in range(0, n + 1):\n",
    "    aux = aux + i\n",
    "#    print(i)\n",
    "print(aux)"
   ]
  },
  {
   "cell_type": "code",
   "execution_count": 28,
   "metadata": {},
   "outputs": [
    {
     "name": "stdout",
     "output_type": "stream",
     "text": [
      "Ingrese un número natural:100\n",
      "5050\n"
     ]
    }
   ],
   "source": [
    "n = int(input('Ingrese un número natural:'))\n",
    "\n",
    "i = 0\n",
    "aux = 0\n",
    "\n",
    "while i <= n:\n",
    "    aux = aux + i\n",
    "    i += 1\n",
    "print(aux)"
   ]
  },
  {
   "cell_type": "markdown",
   "metadata": {},
   "source": [
    "### La serie de fibonacci "
   ]
  },
  {
   "cell_type": "code",
   "execution_count": 43,
   "metadata": {},
   "outputs": [
    {
     "name": "stdout",
     "output_type": "stream",
     "text": [
      "Ingrese un número natural:8\n",
      "0\n",
      "1\n",
      "1\n",
      "2\n",
      "3\n",
      "5\n",
      "8\n",
      "13\n",
      "21\n",
      "34\n"
     ]
    }
   ],
   "source": [
    "n = int(input('Ingrese un número natural:'))\n",
    "\n",
    "a, b = 0, 1\n",
    "print(a)\n",
    "print(1)\n",
    "i = 0\n",
    "while i < n:\n",
    "    new = a + b\n",
    "    print(new)\n",
    "   \n",
    "    a = b\n",
    "    b = new\n",
    "    i += 1 \n",
    "    "
   ]
  },
  {
   "cell_type": "code",
   "execution_count": 42,
   "metadata": {},
   "outputs": [
    {
     "name": "stdout",
     "output_type": "stream",
     "text": [
      "Ingrese un número natural:8\n",
      "0\n",
      "1\n",
      "1\n",
      "2\n",
      "3\n",
      "5\n",
      "8\n",
      "13\n",
      "21\n",
      "34\n"
     ]
    }
   ],
   "source": [
    "n = int(input('Ingrese un número natural:'))\n",
    "\n",
    "a, b = 0, 1\n",
    "print(a)\n",
    "print(1)\n",
    "\n",
    "for i in range(0, n):\n",
    "    new = a + b\n",
    "    print(new)\n",
    "   \n",
    "    a = b\n",
    "    b = new\n",
    "    "
   ]
  },
  {
   "cell_type": "markdown",
   "metadata": {},
   "source": [
    "### Factorial"
   ]
  },
  {
   "cell_type": "markdown",
   "metadata": {},
   "source": [
    "Sea $n \\in \\mathbb{N}, n! = n(n-1)(n-2)\\cdots 1$"
   ]
  },
  {
   "cell_type": "code",
   "execution_count": 52,
   "metadata": {},
   "outputs": [
    {
     "name": "stdout",
     "output_type": "stream",
     "text": [
      "Ingrese un natural: 4\n",
      "El factorial de 4 es  24\n"
     ]
    }
   ],
   "source": [
    "n = int(input('Ingrese un natural: ')) \n",
    "\n",
    "i = 0\n",
    "aux = 1\n",
    "while i < n:\n",
    "    \n",
    "    i += 1\n",
    "\n",
    "    aux = aux*i\n",
    "\n",
    "print(f'El factorial de {n} es ' ,aux)"
   ]
  },
  {
   "cell_type": "code",
   "execution_count": 55,
   "metadata": {},
   "outputs": [
    {
     "name": "stdout",
     "output_type": "stream",
     "text": [
      "Ingrese un natural: 4\n",
      "El factorial de 4 es  24\n"
     ]
    }
   ],
   "source": [
    "n = int(input('Ingrese un natural: ')) \n",
    "\n",
    "aux = 1\n",
    "for i in range(1, n + 1):\n",
    "    \n",
    "\n",
    "    aux = aux*i\n",
    "\n",
    "print(f'El factorial de {n} es ' ,aux)"
   ]
  },
  {
   "cell_type": "markdown",
   "metadata": {},
   "source": [
    "### Aproximación de la exponencial"
   ]
  },
  {
   "cell_type": "markdown",
   "metadata": {},
   "source": [
    "$$e^x \\approx \\displaystyle \\sum_{i = 0}^{n} \\dfrac{x^i}{i!} =  \\dfrac{x^0}{0!} + \\dfrac{x^1}{1!} + \\cdots + \\dfrac{x^n}{n!}$$"
   ]
  },
  {
   "cell_type": "code",
   "execution_count": 56,
   "metadata": {},
   "outputs": [],
   "source": [
    "def my_factorial(n):\n",
    "    \n",
    "    i = 0\n",
    "    aux = 1\n",
    "    \n",
    "    while i < n:\n",
    "    \n",
    "        i += 1\n",
    "\n",
    "        aux = aux*i\n",
    "        \n",
    "    return aux"
   ]
  },
  {
   "cell_type": "code",
   "execution_count": 57,
   "metadata": {},
   "outputs": [
    {
     "data": {
      "text/plain": [
       "24"
      ]
     },
     "execution_count": 57,
     "metadata": {},
     "output_type": "execute_result"
    }
   ],
   "source": [
    "my_factorial(4)"
   ]
  },
  {
   "cell_type": "code",
   "execution_count": 62,
   "metadata": {},
   "outputs": [
    {
     "name": "stdout",
     "output_type": "stream",
     "text": [
      "Ingrese el orden de la aproximación: 16\n",
      "Ingre el punto: 1\n",
      "exp(1.0) =  2.718281828458995\n"
     ]
    }
   ],
   "source": [
    "n = int(input('Ingrese el orden de la aproximación: '))\n",
    "x = float(input('Ingre el punto: '))\n",
    "\n",
    "i = 0\n",
    "aux = 0\n",
    "while i < n:\n",
    "    aux = aux + (x**i)/my_factorial(i) \n",
    "    i += 1\n",
    "\n",
    "print(f'exp({x}) = ', aux)"
   ]
  },
  {
   "cell_type": "markdown",
   "metadata": {},
   "source": [
    "# 10. Ejercicios a casa"
   ]
  },
  {
   "cell_type": "markdown",
   "metadata": {},
   "source": [
    "* Escriba un programa que genere todo los número pares entre $0$ y $n$\n",
    "\n",
    "* Escriba un programa que genere todo los número impares entre $0$ y $n$\n",
    "    \n",
    "* Escriba un ciclo que cálcule la aproximación hasta cierto orden de la siguientes funcione:\n",
    "    \n",
    "    * $\\sin(x)$\n",
    "    * $\\cos(x)$\n",
    "    * $\\sinh(x)$\n",
    "    * $\\cosh(x)$\n",
    "    \n",
    "    Puede usar la función `my_function()`\n",
    "    \n",
    "* Escriba un ciclo que genera una serie de cadenas de la forma: `date-1.txt`, `date-2.txt`, etc hasta $n$ un número proporcionado por el usuario `date-100.txt` \n",
    "    "
   ]
  },
  {
   "cell_type": "markdown",
   "metadata": {},
   "source": [
    "# 11. Bibliografía"
   ]
  },
  {
   "cell_type": "markdown",
   "metadata": {},
   "source": [
    "* 1. Wei-Bing Lin, J., 2012. A Hands-On Introduction to Using Python in the Atmospheric and Oceanic Sciences. 1st ed. [ebook] lulu, pp.1 to 209. Available at: <https://www.lulu.com/commerce/index.php?fBuyContent=13110573&page=1&pageSize=4> [Accessed 19 May 2021].\n",
    "* 2. Langtangen, H., 2009. A Primer on Scientific Programming with Python. Leipzig, Germany: Springer, p.all.\n",
    "* 3. Heath, M., 2009. Scientific computing. 1st ed. Boston, Mass: McGraw Hill, p.all.\n",
    "* 4. Johansson, R., n.d. Numerical python. 2nd ed. New York: Springer, p.all.\n",
    "* 5. Hunt, J., 2019. A Begginers Guide to Python 3 Programming. 1st ed. Cham, Suiza: Springer, p.all."
   ]
  },
  {
   "cell_type": "code",
   "execution_count": null,
   "metadata": {},
   "outputs": [],
   "source": []
  }
 ],
 "metadata": {
  "kernelspec": {
   "display_name": "Python 3",
   "language": "python",
   "name": "python3"
  },
  "language_info": {
   "codemirror_mode": {
    "name": "ipython",
    "version": 3
   },
   "file_extension": ".py",
   "mimetype": "text/x-python",
   "name": "python",
   "nbconvert_exporter": "python",
   "pygments_lexer": "ipython3",
   "version": "3.6.9"
  }
 },
 "nbformat": 4,
 "nbformat_minor": 4
}
