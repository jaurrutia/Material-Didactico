{
 "cells": [
  {
   "cell_type": "markdown",
   "metadata": {},
   "source": [
    "# Cadenas y caracteres\n",
    "\n",
    "### Índice\n",
    "\n",
    "* [6. Cadenas (`strings`) en Python](#6.-Cadenas-(`strings`)-en-Python)\n",
    "    * [6.1. Representación de las cadenas](#6.1.-Representación-de-las-cadenas)\n",
    "    * [6.2. ¿Qué es una cadena?](#6.2.-¿Qué-es-una-cadena?)\n",
    "    * [6.3 ¿Qué es un caracter?](#6.3-¿Qué-es-un-caracter?)\n",
    "    * [6.4 Operaciones sobre cadenas](#6.4-Operaciones-sobre-cadenas)\n",
    "    * [6.5. Listas I](#6.5.-Listas-I)\n",
    "* [Bibliografía](#Bibliografía)"
   ]
  },
  {
   "cell_type": "markdown",
   "metadata": {
    "tags": []
   },
   "source": [
    "# 6. Cadenas (`strings`) en Python \n",
    "\n",
    "En la sección anterior, usamos cadenas varias veces, tanto como indicaciones para el usuario y como resultado de la función `print()`. Incluso hicimos que el usuario escribiera su nombre y lo almacenara en una variable que podría usarse para acceder a este nombre en un momento posterior. En esta sección exploraremos qué es una cadena y cómo puede trabajar con ellas y manipularlas, pero ¿qué es una cadena?\n",
    "\n",
    "En Python, **una cadena es una serie o secuencia de caracteres en orden**. En esta definición, un *carácter* es cualquier cosa que pueda escribir en el teclado con solo presionar una tecla, como una letra `'a'`, `'b'`, `'c'` o un número `'1'`, `'2'`, `'3'` o un caracteres especiales como `'\\'`, `'['`, `'$'`, e inclusive el espacio en blanco `' '`; aunque no está limitado únicamente a estos caracteres, como veremos más adelante.\n",
    "\n",
    "Una propiedad de las cadenas es que son inmutables, lo que significa que una vez que se ha creado una cadena, no se puede cambiar (Lo veremos más adelante), por lo que será necesario almacenar cualquier cambio en otra variabe.\n",
    "\n",
    "Para definir el inicio y el final de una cadena, hemos utilizado el carácter de comillas simples ', por lo tanto, todas las siguientes son cadenas válidas:\n",
    "\n",
    "* `'Hello'`\n",
    "* `'Hello World'`\n",
    "* `'Hello Aura'`\n",
    "* `'To be or not to be. That is the question!'`"
   ]
  },
  {
   "cell_type": "code",
   "execution_count": 1,
   "metadata": {},
   "outputs": [
    {
     "name": "stdout",
     "output_type": "stream",
     "text": [
      "La cadena es:   y es del tipo  <class 'str'>\n"
     ]
    }
   ],
   "source": [
    "string = ' ' #Cadena de u espacio en blanco. Notemos que ' '  es distinto a ''\n",
    "print('La cadena es:', string, 'y es del tipo ', type(string))"
   ]
  },
  {
   "cell_type": "markdown",
   "metadata": {
    "tags": []
   },
   "source": [
    "## 6.1. Representación de las cadenas"
   ]
  },
  {
   "cell_type": "markdown",
   "metadata": {
    "tags": []
   },
   "source": [
    "Como se indicó anteriormente, hemos usado comillas simples para definir el inicio y el final de una cadena sin embargo, en Python las comillas simples o dobles se pueden usar para definir una cadena, por lo tanto, los dos siguientes son válidos:\n",
    "\n",
    "* `'Hello World!'`\n",
    "* `\"Hello World!\"`\n",
    "\n",
    "En Python, estas formas son exactamente las mismas, aunque por convención usamos comillas simples. A menudo se hace referencia a este enfoque como más *Pytónico* (lo que implica que es más la convención utilizada por programadores experimentados de Python) pero el lenguaje no lo aplica. Sin embargo, debe tener en cuenta que no puede mezclar los dos estilos de cadenas de inicio y final, es decir, **no puede comenzar una cadena con una comilla simple y terminar una cadena con una comilla doble**, por lo tanto, los siguientes son ilegales en Python:\n",
    "\n",
    "* `Hello World'' # This is illegal` \n",
    "* `''Hello World' # So is this`"
   ]
  },
  {
   "cell_type": "code",
   "execution_count": 2,
   "metadata": {},
   "outputs": [
    {
     "name": "stdout",
     "output_type": "stream",
     "text": [
      "\"Hello World\"\n",
      "Pedro's\n",
      "Predro's\n"
     ]
    }
   ],
   "source": [
    "print('\"Hello World\"')\n",
    "print(\"Pedro's\") \n",
    "print('Predro\\'s')  "
   ]
  },
  {
   "cell_type": "markdown",
   "metadata": {},
   "source": [
    "Sin embargo, la capacidad de usar `'` y `\"` es útil si su cadena necesita contener otro tipo de delimitadores de cadena. Esto se debe a que una comilla simple se puede incrustar en una cadena definida usando comillas dobles y viceversa. Si sólo quisieramos emplear comillas simples (o sólo dobles) lo que se debe hacer es indicar mediante un **backslash** ( \\ ), de esta forma Python sabe que no estamos terminando la cadena, sino que queremos que aparezca este símbolo (o caracter) en nuestra cadena.\n",
    "\n",
    "Una tercera alternativa es el uso de comillas triples, que a primera vista pueden parecer un poco difíciles de manejar, pero permiten que una cadena admita cadenas de varias líneas, a diferencia de las otras dos opciones, por ejemplo:"
   ]
  },
  {
   "cell_type": "code",
   "execution_count": 3,
   "metadata": {},
   "outputs": [
    {
     "name": "stdout",
     "output_type": "stream",
     "text": [
      "\n",
      "Hello \n",
      "   World\n",
      "\n"
     ]
    }
   ],
   "source": [
    "hello = \"\"\"\n",
    "Hello \n",
    "   World\n",
    "\"\"\" \n",
    "print(hello)"
   ]
  },
  {
   "cell_type": "markdown",
   "metadata": {},
   "source": [
    "## 6.2. ¿Qué es una cadena?"
   ]
  },
  {
   "cell_type": "markdown",
   "metadata": {},
   "source": [
    "A este punto hemos definido a una cadena como cualquier cosa que podemos introducir con el teclado y que lo escribimos empleando comillas (simples, dobles o triples). Sin embargo, los número también se introducen con el teclado, entonces ¿Cuál es la diferencia entre los siguientes sentencias en Python?"
   ]
  },
  {
   "cell_type": "code",
   "execution_count": 4,
   "metadata": {},
   "outputs": [
    {
     "name": "stdout",
     "output_type": "stream",
     "text": [
      "<class 'int'>\n",
      "<class 'str'>\n"
     ]
    }
   ],
   "source": [
    "num = 5 + 7\n",
    "string = '5 + 7'\n",
    "\n",
    "# La respuesta a esta pregunta la obtenemos al aplicar la función type() a nuestras variables\n",
    "print(type(num))\n",
    "print(type(string))"
   ]
  },
  {
   "cell_type": "markdown",
   "metadata": {},
   "source": [
    "La función `type()` indica qué **tipo** es una variable o sentencia. El tipo es, de una forma muy simplificada, cómo debe guardar la información la computadora; como veremos más adelante, no es lo mismo guardar un número entero, que un número real (o flotante). A menudo se dice que Python no tiene tipo, pero como se mostró arriba eso no es cierto pues Python es un lenguaje de tipo dinámico con todos los datos que tienen un tipo asociado. A diferencia de otros lenguajes (por ejempo C) para que la computadora sepa cómo almacenar a una variable ésta se debe declarar (es decir, explícitamente se indica qué tipo tiene una variable antes de emplearla) sin embargo en Python basta con la sintaxis que le demos al usarla por primera vez.\n",
    "\n",
    "En el códigode arriba aparence los términos `int` (entero) y `str` (cadena), y la función  `type()` nos dice que cada variable es de alguna de estas **clases**. La cadena es una clase y Python admite ideas de la programación orientada a objetos, como las clases, que abordaremos más adelante en el curso).\n",
    "\n",
    "Cabe mencionar que una definición más completa de las cadenas es que son **colecciones de caracteres**, dejando la pregunta abierta de qué es un caracter."
   ]
  },
  {
   "cell_type": "markdown",
   "metadata": {
    "tags": []
   },
   "source": [
    "### 6.2.1. Operaciones ariteméticas con cadenas\n",
    "En términos de Python, esto significa qué operaciones o funciones están disponibles o incorporadas que puede usar para trabajar con cadenas. La respuesta es que hay muchas. Algunos de estos se describen en esta sección."
   ]
  },
  {
   "cell_type": "markdown",
   "metadata": {
    "tags": []
   },
   "source": [
    "#### Concatenación de cadenas\n",
    "\n",
    "Puede concatenar dos cadenas usando el operador `+` (un operador es una operación o comportamiento que se puede aplicar a los tipos involucrados). Es decir, puede tomar una cadena y agregarla a otra cadena para crear una nueva tercera cadena:"
   ]
  },
  {
   "cell_type": "code",
   "execution_count": 5,
   "metadata": {},
   "outputs": [
    {
     "name": "stdout",
     "output_type": "stream",
     "text": [
      "Good day\n",
      "Hello, World!\n"
     ]
    }
   ],
   "source": [
    "string_1 = 'Good'\n",
    "string_2 = \" day\"\n",
    "string_3 = string_1 + string_2 \n",
    "print(string_3)\n",
    "\n",
    "print('Hello' + ',' + ' ' + 'World' + '!')"
   ]
  },
  {
   "cell_type": "markdown",
   "metadata": {},
   "source": [
    "Observe que la forma en que se define la cadena no importa aquí, `string_1` usaba comillas simples pero `string_2` usaba comillas dobles sin embargo, ambas son solo cadenas."
   ]
  },
  {
   "cell_type": "markdown",
   "metadata": {
    "tags": []
   },
   "source": [
    "#### Repetir cadenas\n",
    "\n",
    "También podemos usar el operador `*` con las cadenas. En el caso de las cadenas, esto significa repetir la cadena dada un cierto número de veces. Esto genera una nueva cadena que contiene la cadena original repetida n varias veces. Por ejemplo:"
   ]
  },
  {
   "cell_type": "code",
   "execution_count": 6,
   "metadata": {},
   "outputs": [
    {
     "name": "stdout",
     "output_type": "stream",
     "text": [
      "Ora, ora, ora, ora, ora, ora, ora, ora, ora, ora, ora, ora.\n"
     ]
    }
   ],
   "source": [
    "golpe = 'ora'\n",
    "star_platinum = 'Ora, ' + 10 * (golpe + ', ') + golpe + '.'\n",
    "\n",
    "print(star_platinum)"
   ]
  },
  {
   "cell_type": "markdown",
   "metadata": {
    "jp-MarkdownHeadingCollapsed": true,
    "tags": []
   },
   "source": [
    "#### Longitud de una cadena\n",
    "\n",
    "Muchas veces es útil conocer cuántos caractere tiene una cadena, es decir qué tan larga es.Por ejemplo, si está colocando una cadena en una interfaz de usuario, es posible que necesite saber qué cantidad de la cadena se mostrará dentro de un campo. Para averiguar la longitud de una cadena en Python, use la función `len()`, por ejemplo:"
   ]
  },
  {
   "cell_type": "code",
   "execution_count": 7,
   "metadata": {},
   "outputs": [
    {
     "name": "stdout",
     "output_type": "stream",
     "text": [
      "3\n",
      "59\n"
     ]
    }
   ],
   "source": [
    "print(len(golpe)) # nos dá el número de elementos o caracteres que conforman a la cadena string_3\n",
    "print(len(star_platinum))"
   ]
  },
  {
   "cell_type": "markdown",
   "metadata": {},
   "source": [
    "Habíamos comentado que los bloques que contruyen a las cadenas son los caracteres entonces, si queremos modificar, y no sólo aumentar la longitud de las cadenas hay que trabajar con ellos y conocerlos."
   ]
  },
  {
   "cell_type": "markdown",
   "metadata": {
    "tags": []
   },
   "source": [
    "## 6.3 ¿Qué es un caracter?"
   ]
  },
  {
   "cell_type": "markdown",
   "metadata": {},
   "source": [
    "Ya hemos discutido que algunos caracteres son las entradas del teclado pero no todos los caracteres los puedo escribir con el teclado. Pensemos en el uso de las letra **ñ**. Ésta es un caracter en teclado hispano sin embargo en el teclado anglosajón no lo es y no por eso deja de ser un caracter. Para este tipo de caracteres a veces es necesario emplear una notación especial, como lo hicimos con `\\'`."
   ]
  },
  {
   "cell_type": "code",
   "execution_count": 8,
   "metadata": {},
   "outputs": [
    {
     "name": "stdout",
     "output_type": "stream",
     "text": [
      "Puedo poner saltos de renglón con \\n\n",
      "e incluso tabulaciones con \\t\ty hasta emojis \\U0001F436->🐶\n"
     ]
    }
   ],
   "source": [
    "string = \"Puedo poner saltos de renglón con \\\\n\\ne incluso tabulaciones con \\\\t\\ty hasta emojis \\\\U0001F436->\\U0001F436\"\n",
    "print(string)"
   ]
  },
  {
   "cell_type": "markdown",
   "metadata": {},
   "source": [
    "Como se obervó, los elemnos con **backslash** son caracteres especiales que introduzco mediante algún código. Los más comunes son los saltos de línea `\\n` o las tabulaciones `\\t` sin embargo hay muchos más y uno de ells son los emojis como se muesta arriba. El códugo que empleamos para poner tantos caractéres, incluso sin tenerlos en el teclado se llama **Unicode** y en particular usamos su codificación UFT-8, que significa que los caracteres pueden ser de hasta 8 bits (pero puede haber de más bits, como de 16). Los bits (combinación de 0's y 1's) es la forma en la que la computadora procesa y guarada información\n",
    "pero para entrear en más detalles, hablemos de los **caracteres**.\n",
    "\n",
    "<center>\n",
    "        <img src = \"../Images/base2.jpg\"  width=\"300\">\n",
    " </center>\n",
    "\n",
    "Que la computadora procese infromación en 8 o 16 bits significa que hay 2^8 o 2^16 posibles combinaciones de ceros y unos; éstas combinaciones están almacenadas en la memoria de la computadora. Cada una de las combinaciones sirven para identificar acaracteres dinstintos Y la forma de identificarlos es numerándolos, es decir que al final de cuentas los **caracteres son número enteros positivos**. El unicode es sólo una convención de cómo ordenar a tantos caracteres, [la cual pueden consultar en línea](https://unicode-table.com/es/). Para poder modificar una cadena, entonces, necesitampos acceder a los caracteres."
   ]
  },
  {
   "cell_type": "markdown",
   "metadata": {},
   "source": [
    "### 6.3.1 Acceder a un caracter \n",
    "\n",
    "Los caracteres son símplemente los elementos ordenados que conforman a nuestras cadenas. Para manipularlos tenemos que espefificar su posición y esto lo hacemos mediente corchetes y enumerando al primere caraceter en la lista con el índice cero. Como sólo nos importa el orden, también podemos comenazar a contarlos desde atrás:"
   ]
  },
  {
   "cell_type": "code",
   "execution_count": 9,
   "metadata": {},
   "outputs": [
    {
     "name": "stdout",
     "output_type": "stream",
     "text": [
      "La variable name es:  Pedro-Porras es de tipo <class 'str'>\n",
      "La primera letra es P\n",
      "La última letra la puede escribir como: s\n",
      "También puedo acceder a la última letra usando len(name)-1: s\n",
      "Para una caracter intermedio, sólo debo de seleccionar su índice: r\n"
     ]
    }
   ],
   "source": [
    "name = 'Pedro-Porras'\n",
    "print('La variable name es: ', name, 'es de tipo', type(name))\n",
    "\n",
    "print(\"La primera letra es\", name[0])\n",
    "print(\"La última letra la puede escribir como:\", name[-1],)\n",
    "print(\"También puedo acceder a la última letra usando len(name)-1:\", name[len(name)-1]) # len() nos da el número de caracteres, pero contamos desde cero, entonces hay que mover nuestro origen de 1 a 0.\n",
    "print(\"Para una caracter intermedio, sólo debo de seleccionar su índice:\", name[8])\n"
   ]
  },
  {
   "cell_type": "markdown",
   "metadata": {},
   "source": [
    "Lo cierto es que no siempre queremos trabajar con caracteres individuales, sino con un conjunto de ellos (que es lo mismo que un subconjunto de la cadena original). Para esto empleamos la notación de corchetes con dos puntos:\n",
    "\n",
    "``` python\n",
    "string[i:j]\n",
    "```\n",
    "\n",
    "lo que nos dice que sólo se tomará del caracter `i` al  `j`. Como casos especiales tenemos que `string[0:i]` es equivalente a `string[:i]`, así como `string[j:-1]` es equivalente a `string[j:]`."
   ]
  },
  {
   "cell_type": "code",
   "execution_count": 10,
   "metadata": {},
   "outputs": [
    {
     "name": "stdout",
     "output_type": "stream",
     "text": [
      "Ora, ora, ora, ora, ora, ora, ora, ora, ora, ora, ora, ora.\n",
      "Ora, ora, ora, ora, \n",
      "ora, ora, ora, ora, ora, ora, ora.\n",
      "ora, \n"
     ]
    }
   ],
   "source": [
    "print(star_platinum)\n",
    "len_ora = len(golpe) + 2 # los caracteres de golpe (3) más el del espacio (1) y el de la coma (2) = 5\n",
    "\n",
    "# Seleccionamos los primeros cuatro golpes\n",
    "print(star_platinum[:4 * len_ora])\n",
    "\n",
    "# Seleccionamos del quinto golpe al último\n",
    "print(star_platinum[5 * len_ora:])\n",
    "\n",
    "# Seleccionamos el del cuarto al sexto golpe\n",
    "print(star_platinum[4 * len_ora : 5 * len_ora])"
   ]
  },
  {
   "cell_type": "markdown",
   "metadata": {},
   "source": [
    "Notemos que `len_ora = 5`, por lo que se selecciona del elemento en adelante. Notemos que hay `star_platinum` tiene 12 golpes, sin embargo al realizar dicho cálculo nos marca un error. Esto porque no debemos olvidar que contamos desde el `0`."
   ]
  },
  {
   "cell_type": "code",
   "execution_count": 11,
   "metadata": {},
   "outputs": [
    {
     "ename": "IndexError",
     "evalue": "string index out of range",
     "output_type": "error",
     "traceback": [
      "\u001b[0;31m---------------------------------------------------------------------------\u001b[0m",
      "\u001b[0;31mIndexError\u001b[0m                                Traceback (most recent call last)",
      "\u001b[0;32m<ipython-input-11-d68b11572a7f>\u001b[0m in \u001b[0;36m<module>\u001b[0;34m\u001b[0m\n\u001b[0;32m----> 1\u001b[0;31m \u001b[0mstar_platinum\u001b[0m\u001b[0;34m[\u001b[0m\u001b[0;36m12\u001b[0m\u001b[0;34m*\u001b[0m\u001b[0mlen_ora\u001b[0m\u001b[0;34m]\u001b[0m\u001b[0;34m\u001b[0m\u001b[0;34m\u001b[0m\u001b[0m\n\u001b[0m",
      "\u001b[0;31mIndexError\u001b[0m: string index out of range"
     ]
    }
   ],
   "source": [
    "star_platinum[12*len_ora]"
   ]
  },
  {
   "cell_type": "code",
   "execution_count": 12,
   "metadata": {},
   "outputs": [
    {
     "data": {
      "text/plain": [
       "'.'"
      ]
     },
     "execution_count": 12,
     "metadata": {},
     "output_type": "execute_result"
    }
   ],
   "source": [
    "star_platinum[(len_ora*12 -1) -1] #El -1 dentro del paréntesis es porque el último golpe no tiene un espacio."
   ]
  },
  {
   "cell_type": "markdown",
   "metadata": {},
   "source": [
    "### 6.3.2 Caracteres y representación como números"
   ]
  },
  {
   "cell_type": "markdown",
   "metadata": {},
   "source": [
    "Ya establecimos que los caracteres son únicamente número enteres asociados a un símbolo (letras, números, emojis, etc.), por lo que en principio podemos sumarlos o multiplicarlos, e ingénuamente podríamos hacer lo siguiente"
   ]
  },
  {
   "cell_type": "code",
   "execution_count": 13,
   "metadata": {},
   "outputs": [
    {
     "name": "stdout",
     "output_type": "stream",
     "text": [
      "15\n"
     ]
    }
   ],
   "source": [
    "str_1 = '1'\n",
    "str_5 = '5'\n",
    "\n",
    "print( str_1 + str_5 ) # Pero 5 + 1 da 6, no 15.... sólo las está concatenando!"
   ]
  },
  {
   "cell_type": "markdown",
   "metadata": {},
   "source": [
    "Para poder manipular los enteros asociados a los caracteres podemos emplear la función `ord()` que es la que nos da el número o entero asociado a un caracter según el Unicode."
   ]
  },
  {
   "cell_type": "code",
   "execution_count": 14,
   "metadata": {},
   "outputs": [
    {
     "name": "stdout",
     "output_type": "stream",
     "text": [
      "num_5 =  53\n",
      "num_1 =  49\n"
     ]
    }
   ],
   "source": [
    "num_5 = ord(str_5) # Nos da el entero asociado al caracter 5 según el Unicode; ord() porque el unicode tiene un orden determinado\n",
    "num_1 = ord(str_1)\n",
    "\n",
    "print(\"num_5 = \", num_5)  \n",
    "print(\"num_1 = \", num_1)"
   ]
  },
  {
   "cell_type": "markdown",
   "metadata": {},
   "source": [
    "Esto significa que el caracter '1' está en la posición 49 del únicode y cuatro lugares después, en el 49, está el '5'. Vemos que los dígitos arábigos están ordenados como '0', '1', '2',...'9'. entonces, podemos operarlos de la siguiente manera:"
   ]
  },
  {
   "cell_type": "code",
   "execution_count": 15,
   "metadata": {},
   "outputs": [
    {
     "name": "stdout",
     "output_type": "stream",
     "text": [
      "6\n",
      "🐶 =  128054\n"
     ]
    },
    {
     "ename": "TypeError",
     "evalue": "ord() expected a character, but string of length 2 found",
     "output_type": "error",
     "traceback": [
      "\u001b[0;31m---------------------------------------------------------------------------\u001b[0m",
      "\u001b[0;31mTypeError\u001b[0m                                 Traceback (most recent call last)",
      "\u001b[0;32m<ipython-input-15-f8b14a412ef6>\u001b[0m in \u001b[0;36m<module>\u001b[0;34m\u001b[0m\n\u001b[1;32m      8\u001b[0m \u001b[0;34m\u001b[0m\u001b[0m\n\u001b[1;32m      9\u001b[0m \u001b[0;31m# Hay que recordar que ord() actúa sobre caracteres y no sobre cadenas, razón por la que lo siguiente sería un error:\u001b[0m\u001b[0;34m\u001b[0m\u001b[0;34m\u001b[0m\u001b[0;34m\u001b[0m\u001b[0m\n\u001b[0;32m---> 10\u001b[0;31m \u001b[0mord\u001b[0m\u001b[0;34m(\u001b[0m \u001b[0mstr_1\u001b[0m \u001b[0;34m+\u001b[0m \u001b[0mstr_5\u001b[0m\u001b[0;34m)\u001b[0m\u001b[0;34m\u001b[0m\u001b[0;34m\u001b[0m\u001b[0m\n\u001b[0m",
      "\u001b[0;31mTypeError\u001b[0m: ord() expected a character, but string of length 2 found"
     ]
    }
   ],
   "source": [
    "num_5 = ord(str_5) - ord('0') # Restamos la posición del valor cero en unicode, para redefinir a nuestro cero\n",
    "num_1 = ord(str_1) - ord('0')\n",
    "\n",
    "print( num_5 + num_1) # Ahora sí, ya tenemos nuesto resultado\n",
    "\n",
    "str_dog = '\\U0001F436' # éste es el emoji del perrito (es decir un solo caracter)\n",
    "print( str_dog + \" = \", ord(str_dog) ) # Notemos que 1F436 (Hexadecimal) = 128054 (decimal)\n",
    "\n",
    "# Hay que recordar que ord() actúa sobre caracteres y no sobre cadenas, razón por la que lo siguiente sería un error:\n",
    "ord( str_1 + str_5)"
   ]
  },
  {
   "cell_type": "markdown",
   "metadata": {},
   "source": [
    "## 6.4 Operaciones sobre cadenas\n",
    "\n",
    "Con la sección anterior y entendiendo qué es una cadena y un caracter, podemos suponer que cualquier manipulación de la cadena la podemos hacer operando sobre sus número enteres. Esto es cierto sin embargo, ya hay funciones dentro de Python que permiten manipular a las cadenas sin necesidad de que nosotros programemos dichas operaciones. Como estas operaciones actúan sobre cadenas únicamente, tienen una sitaxis especial como se verá a continuación:\n",
    "\n",
    "> **string**.function(arguments)"
   ]
  },
  {
   "cell_type": "markdown",
   "metadata": {
    "tags": []
   },
   "source": [
    "### Contando cadenas\n",
    "\n",
    "Es posible averiguar cuántas veces se repite una cadena en otra cadena. Esto se hace usando la operación `count()` por ejemplo"
   ]
  },
  {
   "cell_type": "code",
   "execution_count": 16,
   "metadata": {},
   "outputs": [
    {
     "name": "stdout",
     "output_type": "stream",
     "text": [
      "my_string.count(''): 2\n",
      "\n",
      "star_platinum =  Ora, ora, ora, ora, ora, ora, ora, ora, ora, ora, ora, ora.\n",
      "star_platinum contiene  12  golpes.\n"
     ]
    }
   ],
   "source": [
    "my_string = 'Count, the number of  spaces nu'\n",
    "times_nu = my_string.count('nu')\n",
    "print(\"my_string.count(''):\", times_nu)\n",
    "\n",
    "print(\"\\nstar_platinum = \", star_platinum )\n",
    "print(\"star_platinum contiene \", star_platinum.count('ra'), \" golpes.\") # El criterio para contarlo fue 'ra' pues 'O' es distinto a 'o',"
   ]
  },
  {
   "cell_type": "markdown",
   "metadata": {},
   "source": [
    "### Sustitución de cadenas\n",
    "\n",
    "Una cadena puede reemplazar una subcadena en otra cadena. Esto se hace usando el método `replace()` en una cadena. Por ejemplo:"
   ]
  },
  {
   "cell_type": "code",
   "execution_count": 17,
   "metadata": {},
   "outputs": [
    {
     "name": "stdout",
     "output_type": "stream",
     "text": [
      "Hello World!\n",
      "Goodbye World!\n"
     ]
    }
   ],
   "source": [
    "welcome_message = 'Hello World!' \n",
    "print(welcome_message)\n",
    "print(welcome_message.replace(\"Hello\", \"Goodbye\"))"
   ]
  },
  {
   "cell_type": "markdown",
   "metadata": {},
   "source": [
    "### Encontrar subcadenas\n",
    "\n",
    "Puede averiguar si una cadena es una subcadena de otra cadena utilizando el método `find()`. Este método toma una segunda cadena como parámetro y verifica si esa cadena está en la cadena que recibe el método `find()`, por ejemplo:\n",
    "```python\n",
    "string.find(string_to_find)\n",
    "```\n",
    "El método devuelve -1 si la cadena no está presente. De lo contrario, devuelve un índice que indica el inicio de la subcadena. Por ejemplo:"
   ]
  },
  {
   "cell_type": "code",
   "execution_count": 18,
   "metadata": {},
   "outputs": [
    {
     "name": "stdout",
     "output_type": "stream",
     "text": [
      "7\n",
      "-1\n"
     ]
    }
   ],
   "source": [
    "print('Edward Alun Rawlings'.find('Alun'))\n",
    "print('Edward John Rawlings'.find('Alun'))"
   ]
  },
  {
   "cell_type": "markdown",
   "metadata": {},
   "source": [
    "### Comparar cadenas\n",
    "\n",
    "Para comparar una cadena con otra, puede usar los operadores '==' igualdad y '! =' No es igual a. Estos compararán dos cadenas y devolverán Verdadero o Falso, indicando si las cadenas son iguales o no.\n",
    "Por ejemplo:"
   ]
  },
  {
   "cell_type": "code",
   "execution_count": 25,
   "metadata": {},
   "outputs": [
    {
     "data": {
      "text/plain": [
       "False"
      ]
     },
     "execution_count": 25,
     "metadata": {},
     "output_type": "execute_result"
    }
   ],
   "source": [
    "'James' != 'James'"
   ]
  },
  {
   "cell_type": "code",
   "execution_count": 26,
   "metadata": {},
   "outputs": [
    {
     "name": "stdout",
     "output_type": "stream",
     "text": [
      "True\n",
      "False\n",
      "True\n"
     ]
    }
   ],
   "source": [
    "print('James' == 'James') # prints True \n",
    "print('James' == 'John') # prints False \n",
    "print('James' != 'John') # prints True"
   ]
  },
  {
   "cell_type": "markdown",
   "metadata": {},
   "source": [
    "### Otras operaciones de cadena\n",
    "\n",
    "De hecho, hay muchas operaciones diferentes disponibles para cadenas, incluida la verificación de que una cadena comienza o termina con otra cadena, es decir, mayúsculas o minúsculas, etc. También es posible reemplazar parte de una cadena con otra cadena, convertir cadenas a mayúscula, minúscula o título, etc."
   ]
  },
  {
   "cell_type": "code",
   "execution_count": 27,
   "metadata": {},
   "outputs": [
    {
     "name": "stdout",
     "output_type": "stream",
     "text": [
      "Testing a String\n",
      "--------------------\n",
      "some_string =  Hello World\n",
      "--------------------\n",
      "some_string.startswith('H') True\n",
      "some_string.startswith('h') False\n",
      "some_string.endswith('d') True\n",
      "some_string.istitle() True\n",
      "some_string.isupper() False\n",
      "some_string.islower() False\n",
      "some_string.isalpha() False\n",
      "String conversions\n",
      "--------------------\n",
      "some_string.upper() HELLO WORLD\n",
      "some_string.lower() hello world\n",
      "some_string.title() Hello World\n",
      "some_string.swapcase() hELLO wORLD\n",
      "String leading, trailing spaces xyz\n"
     ]
    }
   ],
   "source": [
    "some_string = 'Hello World'\n",
    "print('Testing a String')\n",
    "print('-' * 20)\n",
    "print('some_string = ', some_string) \n",
    "print('-' * 20)\n",
    "print(\"some_string.startswith('H')\", some_string.startswith('H')) \n",
    "print(\"some_string.startswith('h')\", some_string.startswith('h'))\n",
    "print(\"some_string.endswith('d')\", some_string.endswith('d')) \n",
    "print('some_string.istitle()', some_string.istitle()) \n",
    "print('some_string.isupper()', some_string.isupper()) \n",
    "print('some_string.islower()', some_string.islower()) \n",
    "print('some_string.isalpha()', some_string.isalpha())\n",
    "print('String conversions')\n",
    "print('-' * 20)\n",
    "print('some_string.upper()', some_string.upper())\n",
    "print('some_string.lower()', some_string.lower()) \n",
    "print('some_string.title()', some_string.title()) \n",
    "print('some_string.swapcase()', some_string.swapcase())\n",
    "print('String leading, trailing spaces', \" xyz \".strip())"
   ]
  },
  {
   "cell_type": "markdown",
   "metadata": {},
   "source": [
    "## 6.6 Convertir otros tipos en cadenas \n",
    "\n",
    "Si intenta utilizar el operador de concatenación `+` con una cadena y algún otro tipo, como un número, obtendrá un error. Por ejemplo, si intenta lo siguiente:"
   ]
  },
  {
   "cell_type": "code",
   "execution_count": 37,
   "metadata": {},
   "outputs": [
    {
     "ename": "TypeError",
     "evalue": "must be str, not int",
     "output_type": "error",
     "traceback": [
      "\u001b[0;31m---------------------------------------------------------------------------\u001b[0m",
      "\u001b[0;31mTypeError\u001b[0m                                 Traceback (most recent call last)",
      "\u001b[0;32m<ipython-input-37-4e7f96d7da07>\u001b[0m in \u001b[0;36m<module>\u001b[0;34m\u001b[0m\n\u001b[0;32m----> 1\u001b[0;31m \u001b[0mmsg\u001b[0m \u001b[0;34m=\u001b[0m \u001b[0;34m'Hello Lloyd you are '\u001b[0m \u001b[0;34m+\u001b[0m \u001b[0;36m21\u001b[0m\u001b[0;34m\u001b[0m\u001b[0;34m\u001b[0m\u001b[0m\n\u001b[0m\u001b[1;32m      2\u001b[0m \u001b[0mprint\u001b[0m\u001b[0;34m(\u001b[0m\u001b[0mmsg\u001b[0m\u001b[0;34m)\u001b[0m\u001b[0;34m\u001b[0m\u001b[0;34m\u001b[0m\u001b[0m\n",
      "\u001b[0;31mTypeError\u001b[0m: must be str, not int"
     ]
    }
   ],
   "source": [
    "msg = 'Hello Lloyd you are ' + 21 \n",
    "print(msg)"
   ]
  },
  {
   "cell_type": "markdown",
   "metadata": {},
   "source": [
    "Recibirá un mensaje de error que indica que solo puede concatenar cadenas con cadenas, no enteros con cadenas. Para concatenar un número como 21 con una cadena, debe convertirlo en una cadena. Esto se puede hacer usando la función `str()`. Este concurso de cualquier tipo en una representación de cadena de ese tipo. Por ejemplo:"
   ]
  },
  {
   "cell_type": "code",
   "execution_count": 38,
   "metadata": {},
   "outputs": [
    {
     "name": "stdout",
     "output_type": "stream",
     "text": [
      "Hello Lloyd you are 21\n"
     ]
    }
   ],
   "source": [
    "msg = 'Hello Lloyd you are ' + str(21) \n",
    "print(msg)"
   ]
  },
  {
   "cell_type": "markdown",
   "metadata": {},
   "source": [
    "### 6.6.1 Formato de cadena "
   ]
  },
  {
   "cell_type": "markdown",
   "metadata": {},
   "source": [
    "El sistema de formato de cadenas utiliza una cadena especial conocida como cadena de formato que actúa como un patrón que define cómo se distribuirá la cadena final. Esta cadena de formato puede contener marcadores de posición que se reemplazarán con valores reales cuando se cree la cadena final. Se puede aplicar un conjunto de valores a la cadena de formato para llenar los marcadores de posición utilizando el método `format()`.\n",
    "\n",
    "El ejemplo más simple de una cadena de *formato* es uno que proporciona un marcador de posición único indicado por dos llaves (`{}`). Por ejemplo, la siguiente es una cadena de formato con el patrón 'Hola' seguido de un marcador de posición:\n"
   ]
  },
  {
   "cell_type": "code",
   "execution_count": 35,
   "metadata": {},
   "outputs": [
    {
     "name": "stdout",
     "output_type": "stream",
     "text": [
      "Pedro tiene como numero de cuenta 409076332\n"
     ]
    }
   ],
   "source": [
    "name = 'Pedro'\n",
    "number = 409076332\n",
    "\n",
    "student = f'{name} tiene como numero de cuenta {number}'\n",
    "print(student)"
   ]
  },
  {
   "cell_type": "code",
   "execution_count": 36,
   "metadata": {},
   "outputs": [
    {
     "name": "stdout",
     "output_type": "stream",
     "text": [
      "Hello Pedro!\n"
     ]
    }
   ],
   "source": [
    "format_string = f'Hello {name}!'\n",
    "print(format_string)"
   ]
  },
  {
   "cell_type": "markdown",
   "metadata": {},
   "source": [
    "Esto se puede usar con el método de cadena `format()` para proporcionar un valor (o completar) el marcador de posición, por ejemplo:"
   ]
  },
  {
   "cell_type": "code",
   "execution_count": null,
   "metadata": {},
   "outputs": [],
   "source": [
    "format_string = 'Hello {}!'\n",
    "print(format_string.format('Phoebe'))"
   ]
  },
  {
   "cell_type": "markdown",
   "metadata": {},
   "source": [
    "Una cadena de formato puede tener cualquier número de marcadores de posición que se deben completar, por ejemplo, el siguiente ejemplo tiene dos marcadores de posición que se completan al proporcionar dos valores al método `format()`:"
   ]
  },
  {
   "cell_type": "code",
   "execution_count": null,
   "metadata": {},
   "outputs": [],
   "source": [
    "name = \"Adam\"\n",
    "age = 20\n",
    "print(\"{} is {} years old\".format(name, age))"
   ]
  },
  {
   "cell_type": "markdown",
   "metadata": {},
   "source": [
    "## 6.5 Listas I"
   ]
  },
  {
   "cell_type": "markdown",
   "metadata": {},
   "source": [
    "Un requisito muy común es la necesidad de dividir una cadena en varias cadenas separadas en función de un carácter específico, como un espacio o una coma.\n",
    "Esto se puede hacer con la función `split()`, que utiliza una cadena para identificar cómo dividir la cadena receptora. Por ejemplo:"
   ]
  },
  {
   "cell_type": "code",
   "execution_count": 24,
   "metadata": {},
   "outputs": [
    {
     "name": "stdout",
     "output_type": "stream",
     "text": [
      "Source string: The Good, The Bad, and the Ugly\n",
      "Split using a space\n",
      "['The', 'Good,', 'The', 'Bad,', 'and', 'the', 'Ugly']\n",
      "Split using a comma\n",
      "['The Good', ' The Bad', ' and the Ugly']\n",
      "<class 'list'> ['The Good', ' The Bad', ' and the Ugly']\n"
     ]
    }
   ],
   "source": [
    "title = 'The Good, The Bad, and the Ugly' \n",
    "print('Source string:', title)\n",
    "\n",
    "print('Split using a space') \n",
    "print(title.split(' ')) #Vamos a separar (split) a title, y nuestro criterio será un espacio en blanco\n",
    "\n",
    "print('Split using a comma')  # Criterio de separación, una coma\n",
    "print(title.split(','))\n",
    "\n",
    "adjetives = title.split(',')\n",
    "print(type(adjetives), adjetives)"
   ]
  },
  {
   "cell_type": "markdown",
   "metadata": {},
   "source": [
    "Notemos que al aplicar la operación `string.split()`, el resultado que se imprime una colección de cadenas separadas por comas, y escritas entre corchetes. Según la función de tipo de Python, ésta es otra clase de información denominada como **listas**."
   ]
  },
  {
   "cell_type": "markdown",
   "metadata": {},
   "source": [
    "Una lista es un tipo en Python  y esto se indica mediante la sintaxis siguiente:\n",
    "```python\n",
    "lista = []\n",
    "```\n",
    "Las listas y las cadenas parecen ser muy parecidas, pues también puede seleccionar sus elementos y muchas de las funciones que hemos visto que actúan sobre las cadenas, funcionan para las listas sin emabrgo, más adelante veremos que su definición tiene que ver con cómo guarda la información la computadora, así como otras estructuras que son colecciónes de variables."
   ]
  },
  {
   "cell_type": "code",
   "execution_count": 48,
   "metadata": {},
   "outputs": [
    {
     "name": "stdout",
     "output_type": "stream",
     "text": [
      "8\n",
      "<class 'int'>\n",
      "8\n",
      "<class 'int'>\n"
     ]
    }
   ],
   "source": [
    "list_one = [2, 3, 4, 5, 6, 7, 8, 9]\n",
    "print(len(list_one))\n",
    "print(type(list_one[3]))\n",
    "\n",
    "list_two = [2, '3', \"cuatro\", 5, '6', \"siete\", 8, '9']  #Las listas son colecciones de cualquier cosa, no sólo de caracteres\n",
    "print(len(list_two))\n",
    "print(type(list_two[3]))"
   ]
  },
  {
   "cell_type": "code",
   "execution_count": 49,
   "metadata": {},
   "outputs": [
    {
     "name": "stdin",
     "output_type": "stream",
     "text": [
      "Dar dos numeros separados por un espacio 9 8\n"
     ]
    },
    {
     "name": "stdout",
     "output_type": "stream",
     "text": [
      "Los numeros ingresados son:  9  y  8\n"
     ]
    }
   ],
   "source": [
    "numbers = input('Dar dos numeros separados por un espacio')\n",
    "list_numbers =  numbers.split(' ')\n",
    "print('Los numeros ingresados son: ', list_numbers[0], \" y \",list_numbers[1])"
   ]
  },
  {
   "cell_type": "markdown",
   "metadata": {},
   "source": [
    "# Bibliografía"
   ]
  },
  {
   "cell_type": "markdown",
   "metadata": {},
   "source": [
    "* 1. Wei-Bing Lin, J., 2012. A Hands-On Introduction to Using Python in the Atmospheric and Oceanic Sciences. 1st ed. [ebook] lulu, pp.1 to 209. Available at: <https://www.lulu.com/commerce/index.php?fBuyContent=13110573&page=1&pageSize=4> [Accessed 19 May 2021].\n",
    "* 2. Langtangen, H., 2009. A Primer on Scientific Programming with Python. Leipzig, Germany: Springer, p.all.\n",
    "* 3. Heath, M., 2009. Scientific computing. 1st ed. Boston, Mass: McGraw Hill, p.all.\n",
    "* 4. Johansson, R., n.d. Numerical python. 2nd ed. New York: Springer, p.all.\n",
    "* 5. Hunt, J., 2019. A Begginers Guide to Python 3 Programming. 1st ed. Cham, Suiza: Springer, p.all."
   ]
  }
 ],
 "metadata": {
  "kernelspec": {
   "display_name": "Python 3",
   "language": "python",
   "name": "python3"
  },
  "language_info": {
   "codemirror_mode": {
    "name": "ipython",
    "version": 3
   },
   "file_extension": ".py",
   "mimetype": "text/x-python",
   "name": "python",
   "nbconvert_exporter": "python",
   "pygments_lexer": "ipython3",
   "version": "3.6.9"
  }
 },
 "nbformat": 4,
 "nbformat_minor": 4
}
