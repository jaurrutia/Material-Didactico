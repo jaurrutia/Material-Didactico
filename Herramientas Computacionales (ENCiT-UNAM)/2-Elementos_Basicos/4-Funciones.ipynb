{
 "cells": [
  {
   "cell_type": "markdown",
   "metadata": {},
   "source": [
    "* [1. Funciones](#1.-Funciones)\n",
    "    * [1.1 ¿Qué son las funciones?](#1.1-¿Qué-son-las-funciones?)\n",
    "    * [1.2 ¿Cómo funcionan las funciones? ](#1.2-¿Cómo-funcionan-las-funciones?)\n",
    "    * [1.3 Tipos de funciones](#1.3-Tipos-de-funciones)\n",
    "    * [1.4 Cómo definir una función](#1.4-Cómo-definir-una-función)\n",
    "    * [1.5 Un ejemplo de función ](#1.5-Un-ejemplo-de-función)\n",
    "    * [1.6 Valores devueltos por una función](#1.6-Valores-devueltos-por-una-función)\n",
    "    * [1.7 Docstring](#1.7-Docstring)\n",
    "    * [1.8 Parámetros de funciones ](#1.8-Parámetros-de-funciones )\n",
    "        * [1.8.1 Funciones de parámetros múltiples ](#1.8.1-Funciones-de-parámetros-múltiples)\n",
    "        * [Valores de parámetros predeterminados ](#Valores-de-parámetros-predeterminados)\n",
    "        * [1.8.3 Argumentos nombrados](#1.8.3-Argumentos-nombrados)\n",
    "        * [1.8.4 Argumentos arbitrarios](#1.8.4-Argumentos-arbitrarios)\n",
    "        * [1.8.5 Argumentos posicionales y palabras clave ](#1.8.5-Argumentos-posicionales-y-palabras-clave)\n",
    "    * [1.9 Funciones anónimas](#1.9-Funciones-anónimas)\n",
    "* [2. Alcance y vida útil de las variables](#2.-Alcance-y-vida-útil-de-las-variables)\n",
    "    * [2.1 Variables locales](#2.1-Variables-locales)\n",
    "    * [2.2 La palabra clave Global](#2.2-La-palabra-clave-Global)\n",
    "    * [2.3 Variables no locales](#2.3-Variables-no-locales)\n",
    "* [3. Recursión](#3.-Recursión)\n",
    "    * [3.1 Comportamiento recursivo](#3.1-Comportamiento-recursivo )\n",
    "    * [3.2 Beneficios de la Recursión ](#3.2-Beneficios-de-la-Recursión)\n",
    "    * [3.3 Árbol de recursividad](#3.3-Árbol-de-recursividad)\n",
    "    * [3.4 Recursión en Python ](#3.4-Recursión-en-Python)\n",
    "    * [3.5 Cálculo factorial recursivo ](#3.5-Cálculo-factorial-recursivo)\n",
    "    * [3.6 Desventajas de la recursión](#3.6-Desventajas-de-la-recursión)\n",
    "* [4. Ejercicios](#4.-Ejercicios)\n",
    "    * [4.1 Ejercicios en clase](#4.1-Ejercicios-en-clase)\n",
    "    * [4.2 Ejercicios a casa](#4.2-Ejercicios-a-casa)\n",
    "* [5. Bibliografía](#5.-Bibliografía)"
   ]
  },
  {
   "cell_type": "markdown",
   "metadata": {},
   "source": [
    "# 1. Funciones"
   ]
  },
  {
   "cell_type": "markdown",
   "metadata": {},
   "source": [
    "En esta sección se presentarán las funciones de Python, cómo se definen, cómo se pueden referenciar y ejecutar. Considera cómo funcionan los parámetros en las funciones de Python y cómo se pueden devolver los valores de las funciones. También presenta funciones lambda o anónimas.\n",
    "\n",
    "Técnicamente, hay dos tipos de funciones en Python; funciones *built-in* y funciones definidas por el usuario *user-defined*. Las funciones *built-in* son las proporcionadas por el lenguaje y ya hemos visto varias de ellas. Por ejemplo, `print()` y `input()`. No necesitábamos definirlos nosotros mismos estas funciones, ya que las proporciona Python. En contraste, las funciones definidas por el usuario *user-defined* son las escritas por los desarrolladores. Definiremos funciones en el resto de este capítulo y es probable que, en muchos casos, la mayoría de los programas que se escriba incluyan funciones definidas por el usuario de un tipo u otro.\n",
    "\n",
    "En Python, las funciones son grupos de declaraciones relacionadas que se pueden invocar juntas, que generalmente realizan una tarea específica y que pueden o no tomar un conjunto de parámetros o devolver un valor.\n",
    "\n",
    "Las funciones se pueden definir en un lugar y se pueden invocar o invocar en otro. Esto ayuda a que el código sea más modular y más fácil de entender.\n",
    "\n",
    "También significa que la misma función se puede llamar varias veces o en varias ubicaciones. Esto ayuda a garantizar que, aunque se utilice una pieza de funcionalidad en varios lugares; solo se define una vez y solo necesita mantenerse y probarse en una ubicación."
   ]
  },
  {
   "cell_type": "markdown",
   "metadata": {},
   "source": [
    "Cuando se llama (o se invoca) una función en el código, un programa surge desde donde se llamó a la función hasta el punto donde se definió la función. El cuerpo de la función se ejecuta antes de que el control regrese a donde se llamó.\n",
    "\n",
    "Como parte de este proceso, todos los valores que estaban en su lugar cuando se llamó a la función, se almacenan (en algo llamado *pila*) de modo que si la función define sus propias versiones, no se sobrescriben entre sí.\n",
    "\n",
    "La invocación de una función se ilustra a continuación:\n",
    "\n",
    "```python\n",
    "def function_name():\n",
    "    stament\n",
    "    return algo\n",
    "```"
   ]
  },
  {
   "cell_type": "code",
   "execution_count": 1,
   "metadata": {},
   "outputs": [
    {
     "name": "stdout",
     "output_type": "stream",
     "text": [
      "Esto es una prueba <class 'str'>\n"
     ]
    }
   ],
   "source": [
    "def prueba():  # Esta función lo único que hace es devolver una string particular\n",
    "    return \"Esto es una prueba\"\n",
    "\n",
    "test = prueba()\n",
    "print(test, type(test))"
   ]
  },
  {
   "cell_type": "code",
   "execution_count": 3,
   "metadata": {},
   "outputs": [
    {
     "name": "stdout",
     "output_type": "stream",
     "text": [
      "4 <class 'int'>\n"
     ]
    }
   ],
   "source": [
    "def squared(n):      # Esta función eleva un número al cuadrado. La cadena que se muestra es parte de su documentación y nos permite saber qué hace la funciín\n",
    "    ''' Esta función eleva un número n al cuadrado.'''\n",
    "    return n * n  # n ** 2, n^2\n",
    "\n",
    "pow2 = squared(2)\n",
    "print(pow2, type(pow2))"
   ]
  },
  {
   "cell_type": "code",
   "execution_count": 5,
   "metadata": {},
   "outputs": [
    {
     "name": "stdout",
     "output_type": "stream",
     "text": [
      " Esta función eleva un número n al cuadrado.\n",
      "print(value, ..., sep=' ', end='\\n', file=sys.stdout, flush=False)\n",
      "\n",
      "Prints the values to a stream, or to sys.stdout by default.\n",
      "Optional keyword arguments:\n",
      "file:  a file-like object (stream); defaults to the current sys.stdout.\n",
      "sep:   string inserted between values, default a space.\n",
      "end:   string appended after the last value, default a newline.\n",
      "flush: whether to forcibly flush the stream.\n"
     ]
    }
   ],
   "source": [
    "print(squared.__doc__) # De esta forma podemos acceder a cualquier documentación de funciones sn Python\n",
    "\n",
    "print(print.__doc__) "
   ]
  },
  {
   "cell_type": "markdown",
   "metadata": {},
   "source": [
    "## 1.1 Definir funciones"
   ]
  },
  {
   "cell_type": "markdown",
   "metadata": {},
   "source": [
    "La sintaxis para definir una función es la siguiente:\n",
    "\n",
    "```python\n",
    "def function_name(arguments):\n",
    "    \"\"\"docstring\"\"\"\n",
    "    statement \n",
    "    statement(s)\n",
    "    return output\n",
    " ```"
   ]
  },
  {
   "cell_type": "markdown",
   "metadata": {},
   "source": [
    "* Todas las funciones se definen con la palabra reservada **def**, seguido por el nombre de la función junto con sus argumentos, entre paréntesis, y dos puntos.\n",
    "  * Esto indica el comienzo de una definición de función. Una palabra reservada es parte de la sintaxis del lenguaje Python y no se puede redefinir y no es una función.\n",
    "   \n",
    "* Una función puede (opcionalmente) tener una lista de parámetros que permiten pasar datos a la función. Estos son opcionales, ya que no todas las funciones deben suministrarse con parámetros.\n",
    "\n",
    "* Se puede proporcionar una cadena de documentación opcional (la cadena de `docstring`) que describe lo que hace la función.\n",
    "    * Por lo general, utilizamos el formato de cadena de comillas triples, ya que esto permite que la cadena de documentación pase por varias líneas si es necesario.\n",
    "\n",
    "* Una o más declaraciones de Python conforman el cuerpo de la función. Estos están identados en relación con la definición de la función. Todas las líneas que están identadas son parte de la función hasta una línea destinada al mismo nivel que la línea **def**.\n",
    "\n",
    "* La palabra **return** indica cuál será el valor dado por la función después de realizar sus procesos internos.\n",
    "\n",
    "Vemos unos ejemplos:\n"
   ]
  },
  {
   "cell_type": "code",
   "execution_count": 13,
   "metadata": {},
   "outputs": [],
   "source": [
    "def my_factorial(n):\n",
    "    '''This function returns the factorial of natural number\n",
    "    Exmple: my_factorial(5) this fucntion return 120'''\n",
    "    i = 0\n",
    "    aux = 1\n",
    "    while i < n:\n",
    "        i += 1\n",
    "        aux = aux*i\n",
    "    return aux"
   ]
  },
  {
   "cell_type": "code",
   "execution_count": 14,
   "metadata": {},
   "outputs": [
    {
     "name": "stdout",
     "output_type": "stream",
     "text": [
      "This function returns the factorial of natural number\n",
      "    Exmple: my_factorial(5) this fucntion return 120\n"
     ]
    },
    {
     "data": {
      "text/plain": [
       "120"
      ]
     },
     "execution_count": 14,
     "metadata": {},
     "output_type": "execute_result"
    }
   ],
   "source": [
    "print(my_factorial.__doc__)\n",
    "my_factorial(5)\n"
   ]
  },
  {
   "cell_type": "code",
   "execution_count": 15,
   "metadata": {},
   "outputs": [],
   "source": [
    "def my_list_n(n):\n",
    "    ''' Esta funcion regresa una lista de los primeros n enteros, y del cero, en orden.'''\n",
    "    i = 0\n",
    "    list = []\n",
    "    while i <= n:\n",
    "        list.append(i)\n",
    "        i += 1\n",
    "    return list"
   ]
  },
  {
   "cell_type": "code",
   "execution_count": 16,
   "metadata": {},
   "outputs": [
    {
     "name": "stdout",
     "output_type": "stream",
     "text": [
      " Esta funcion regresa una lista de los primeros n enteros, y del cero, en orden.\n"
     ]
    },
    {
     "data": {
      "text/plain": [
       "[0, 1, 2, 3, 4, 5, 6, 7, 8]"
      ]
     },
     "execution_count": 16,
     "metadata": {},
     "output_type": "execute_result"
    }
   ],
   "source": [
    "print(my_list_n.__doc__)\n",
    "my_list_n(8)\n"
   ]
  },
  {
   "cell_type": "markdown",
   "metadata": {},
   "source": [
    "También es posible devolver múltiples valores de una función, por ejemplo, en esta función `swap` cambia el orden en que se proporcionan los parámetros se intercambia cuando se devuelven:"
   ]
  },
  {
   "cell_type": "code",
   "execution_count": 17,
   "metadata": {},
   "outputs": [],
   "source": [
    "def swap(a, b):\n",
    "    \"\"\" Esta función cambia el orden de dos parámetros dados\"\"\"\n",
    "    return b, a"
   ]
  },
  {
   "cell_type": "code",
   "execution_count": 18,
   "metadata": {},
   "outputs": [
    {
     "name": "stdout",
     "output_type": "stream",
     "text": [
      "dos , 2\n"
     ]
    }
   ],
   "source": [
    "A , B = 2 , 'dos'\n",
    "x, y = swap(A, B)\n",
    "\n",
    "print(x, ',', y)"
   ]
  },
  {
   "cell_type": "markdown",
   "metadata": {},
   "source": [
    "## 1.2 Docstring"
   ]
  },
  {
   "cell_type": "markdown",
   "metadata": {},
   "source": [
    "A pesar de que hemos puesto la *docstring* en todos nuestros ejemplos, hay que recordar que la cadena de documentación es opcional sin emabargo es recomendable ponerla sobre todo cuando nuestra función comienza a complicarse.\n",
    "\n",
    "Notemos que las funciones de python y las de ciertas bibliotecas contienen este tipo de documentación."
   ]
  },
  {
   "cell_type": "code",
   "execution_count": 19,
   "metadata": {},
   "outputs": [
    {
     "name": "stdout",
     "output_type": "stream",
     "text": [
      "Return the number of items in a container.\n"
     ]
    }
   ],
   "source": [
    "print(len.__doc__)"
   ]
  },
  {
   "cell_type": "code",
   "execution_count": 20,
   "metadata": {},
   "outputs": [
    {
     "name": "stdout",
     "output_type": "stream",
     "text": [
      "range(stop) -> range object\n",
      "range(start, stop[, step]) -> range object\n",
      "\n",
      "Return an object that produces a sequence of integers from start (inclusive)\n",
      "to stop (exclusive) by step.  range(i, j) produces i, i+1, i+2, ..., j-1.\n",
      "start defaults to 0, and stop is omitted!  range(4) produces 0, 1, 2, 3.\n",
      "These are exactly the valid indices for a list of 4 elements.\n",
      "When step is given, it specifies the increment (or decrement).\n"
     ]
    }
   ],
   "source": [
    "print(range.__doc__)"
   ]
  },
  {
   "cell_type": "code",
   "execution_count": 23,
   "metadata": {},
   "outputs": [
    {
     "name": "stdout",
     "output_type": "stream",
     "text": [
      "sin(x)\n",
      "\n",
      "Return the sine of x (measured in radians).\n"
     ]
    }
   ],
   "source": [
    "import math \n",
    "print(math.sin.__doc__)\n"
   ]
  },
  {
   "cell_type": "markdown",
   "metadata": {},
   "source": [
    "## 1.3 Parámetros de funciones "
   ]
  },
  {
   "cell_type": "markdown",
   "metadata": {},
   "source": [
    "Antes de continuar, vale la pena aclarar alguna terminología asociada con el paso de datos a funciones. Esta terminología se relaciona con los parámetros definidos como parte del encabezado de la función y los datos pasados a la función a través de estos parámetros:\n",
    "\n",
    "• **Un parámetro** es una variable definida como parte del encabezado de la función y se usa para hacer que los datos estén disponibles dentro de la función misma.\n",
    "\n",
    "• **Un argumento** es el valor real o los datos pasados a la función cuando se llama. Los datos se mantendrán dentro de los parámetros.\n",
    "\n",
    "Desafortunadamente, muchos desarrolladores usan estos términos indistintamente, pero vale la pena ser claro en la distinción."
   ]
  },
  {
   "cell_type": "markdown",
   "metadata": {},
   "source": [
    "### 1.8.1 Funciones de parámetros múltiples "
   ]
  },
  {
   "cell_type": "markdown",
   "metadata": {},
   "source": [
    "Hasta ahora, las funciones que hemos definido solo han tenido cero o un parámetro; Sin embargo, eso fue sólo una elección. Podríamos haber definido fácilmente una función que definiera dos o más parámetros. En estas situaciones, la lista de parámetros contiene una lista de nombres de parámetros separados por una coma."
   ]
  },
  {
   "cell_type": "code",
   "execution_count": 25,
   "metadata": {},
   "outputs": [
    {
     "data": {
      "text/plain": [
       "False"
      ]
     },
     "execution_count": 25,
     "metadata": {},
     "output_type": "execute_result"
    }
   ],
   "source": [
    "def greater_than(x, y):\n",
    "    \"\"\" greater_than(x, y) determina si  un valor x es mayor o igual a y y regresa un valor booleano \"\"\"\n",
    "    if x > y:\n",
    "        status = True\n",
    "    else:\n",
    "        status = False\n",
    "    return status\n",
    "\n",
    "greater_than(3, 5)"
   ]
  },
  {
   "cell_type": "markdown",
   "metadata": {},
   "source": [
    "### 1.8.2 Funciones de parámetros con valores predeterminados "
   ]
  },
  {
   "cell_type": "markdown",
   "metadata": {},
   "source": [
    "Una vez que tenga uno o más parámetros, puede proporcionar valores predeterminados para algunos o todos esos parámetros; en particular para los que podrían no ser utilizados en la mayoría de los casos. Esto se puede hacer muy fácilmente en Python; todo lo que se requiere es que el valor predeterminado se declare en el encabezado de la función junto con el nombre del parámetro. Si se proporciona un valor para el parámetro, anulará el valor predeterminado. Si no se proporciona ningún valor cuando se llama a la función, se utilizará el valor predeterminado.\n",
    "\n",
    "Un ejemplo es con la función predeterminada `print()`"
   ]
  },
  {
   "cell_type": "code",
   "execution_count": 26,
   "metadata": {},
   "outputs": [
    {
     "name": "stdout",
     "output_type": "stream",
     "text": [
      "print(value, ..., sep=' ', end='\\n', file=sys.stdout, flush=False)\n",
      "\n",
      "Prints the values to a stream, or to sys.stdout by default.\n",
      "Optional keyword arguments:\n",
      "file:  a file-like object (stream); defaults to the current sys.stdout.\n",
      "sep:   string inserted between values, default a space.\n",
      "end:   string appended after the last value, default a newline.\n",
      "flush: whether to forcibly flush the stream.\n"
     ]
    }
   ],
   "source": [
    "print(print.__doc__); \n"
   ]
  },
  {
   "cell_type": "code",
   "execution_count": 28,
   "metadata": {},
   "outputs": [
    {
     "name": "stdout",
     "output_type": "stream",
     "text": [
      "0\n",
      "1\n",
      "2\n",
      "3\n",
      "4\n",
      "0 1 2 3 4 "
     ]
    }
   ],
   "source": [
    "for i in range(0,5):\n",
    "    print(i)\n",
    "    \n",
    "for i in range(0,5):\n",
    "    print(i, end = ' ')"
   ]
  },
  {
   "cell_type": "code",
   "execution_count": 62,
   "metadata": {},
   "outputs": [],
   "source": [
    "def tricotomy(x, y = 0 ):\n",
    "    \"\"\" tricotomy(x, y=0)\n",
    "    \n",
    "    Nos imprime el resultado de comparar x con y, donde y = 0 por default.\n",
    "    Podemos cambiar el valor de y al poner más de un parámetro en la función.\"\"\"\n",
    "    if x < y:\n",
    "        print(y , ' is greater than', x )\n",
    "    elif y < x:\n",
    "        print(x , ' is greater than', y )\n",
    "    else:\n",
    "        print(x, ' and ', y, 'are equal')\n",
    "    return x < y"
   ]
  },
  {
   "cell_type": "code",
   "execution_count": 64,
   "metadata": {},
   "outputs": [
    {
     "name": "stdout",
     "output_type": "stream",
     "text": [
      " tricotomy(x, y=0)\n",
      "    \n",
      "    Nos imprime el resultado de comparar x con y, donde y = 0 por default.\n",
      "    Podemos cambiar el valor de y al poner más de un parámetro en la función.\n"
     ]
    }
   ],
   "source": [
    "print(tricotomy.__doc__)"
   ]
  },
  {
   "cell_type": "markdown",
   "metadata": {},
   "source": [
    "Una vez que tenga uno o más parámetros, puede proporcionar valores predeterminados para algunos o todos esos parámetros; particular para los que podrían no ser utilizados en la mayoría de los casos. Esto se puede hacer muy fácilmente en Python; todo lo que se requiere es que el valor predeterminado se declare en el encabezado de la función junto con el nombre del parámetro. Si se proporciona un valor para el parámetro, anulará el valor predeterminado. Si no se proporciona ningún valor cuando se llama a la función, se utilizará el valor predeterminado."
   ]
  },
  {
   "cell_type": "markdown",
   "metadata": {},
   "source": [
    "### 1.8.3 Argumentos nombrados "
   ]
  },
  {
   "cell_type": "markdown",
   "metadata": {},
   "source": [
    "Hasta ahora nos hemos basado en la posición de un valor que se utilizará para determinar a qué parámetro se asigna ese valor. En muchos casos, esta es la opción más simple y limpia.\n",
    "\n",
    "Sin embargo, si una función tiene varios parámetros, algunos de los cuales tienen valores predeterminados, puede ser imposible confiar en el uso de la posición de un valor para garantizar que se le da al parámetro correcto (porque es posible que deseemos usar algunos de los valores predeterminados en lugar).\n",
    "\n",
    "Por ejemplo, supongamos que tenemos una función con cuatro parámetros"
   ]
  },
  {
   "cell_type": "code",
   "execution_count": 31,
   "metadata": {},
   "outputs": [
    {
     "name": "stdout",
     "output_type": "stream",
     "text": [
      "Bienvenida ciudadana Marié - Muchas felicidades\n"
     ]
    }
   ],
   "source": [
    "def saludos(name, title = 'PhD', prompt = 'Welcome', message = 'Live Long and Prosper'):\n",
    "    \"\"\"Esta función solo tiene un saludo pre-hecho\"\"\"\n",
    "    print(prompt, title, name, '-', message)\n",
    "    \n",
    "    \n",
    "saludos('Marié', 'ciudadana', \"Bienvenida\", \"Muchas felicidades\")"
   ]
  },
  {
   "cell_type": "markdown",
   "metadata": {},
   "source": [
    "El problema con esta función es que si quiero sólo cambiar el último parámetro debo escribir todo. Pero como los argumentos tienen un nombre asociado, puedo indicarlo de forma explícita"
   ]
  },
  {
   "cell_type": "code",
   "execution_count": 32,
   "metadata": {},
   "outputs": [
    {
     "name": "stdout",
     "output_type": "stream",
     "text": [
      "Welcome PhD Marié - Pásatela bien\n",
      "Welcome PhD Marié - Pásatela bien\n"
     ]
    }
   ],
   "source": [
    "saludos('Marié','PhD', \"Welcome\", \"Pásatela bien\")\n",
    "saludos('Marié', message = 'Pásatela bien')"
   ]
  },
  {
   "cell_type": "markdown",
   "metadata": {},
   "source": [
    "## 1.4 Variables locales y globales"
   ]
  },
  {
   "cell_type": "markdown",
   "metadata": {},
   "source": [
    "Hasta ahorta, hemos empleado únicamente los valores que están definidos dentro de la función para hacer los cálculos necesarios. Por ejemplom usando un parámetro nombrado pues emplear la leey de Hook para un resore"
   ]
  },
  {
   "cell_type": "code",
   "execution_count": 38,
   "metadata": {},
   "outputs": [
    {
     "name": "stdout",
     "output_type": "stream",
     "text": [
      "Con k = 1, ley_hook_local(1, k = 1) --> -1\n"
     ]
    },
    {
     "ename": "NameError",
     "evalue": "name 'k' is not defined",
     "output_type": "error",
     "traceback": [
      "\u001b[0;31m---------------------------------------------------------------------------\u001b[0m",
      "\u001b[0;31mNameError\u001b[0m                                 Traceback (most recent call last)",
      "\u001b[0;32m<ipython-input-38-16972201e75f>\u001b[0m in \u001b[0;36m<module>\u001b[0;34m\u001b[0m\n\u001b[1;32m      6\u001b[0m \u001b[0;34m\u001b[0m\u001b[0m\n\u001b[1;32m      7\u001b[0m \u001b[0mprint\u001b[0m\u001b[0;34m(\u001b[0m\u001b[0;34m\"Con k = 1, ley_hook_local(1, k = 1) -->\"\u001b[0m\u001b[0;34m,\u001b[0m \u001b[0mley_hook_local\u001b[0m\u001b[0;34m(\u001b[0m\u001b[0;36m1\u001b[0m\u001b[0;34m,\u001b[0m \u001b[0mk\u001b[0m \u001b[0;34m=\u001b[0m \u001b[0;36m1\u001b[0m\u001b[0;34m)\u001b[0m\u001b[0;34m)\u001b[0m\u001b[0;34m\u001b[0m\u001b[0;34m\u001b[0m\u001b[0m\n\u001b[0;32m----> 8\u001b[0;31m \u001b[0mprint\u001b[0m\u001b[0;34m(\u001b[0m\u001b[0mk\u001b[0m\u001b[0;34m)\u001b[0m\u001b[0;34m\u001b[0m\u001b[0;34m\u001b[0m\u001b[0m\n\u001b[0m",
      "\u001b[0;31mNameError\u001b[0m: name 'k' is not defined"
     ]
    }
   ],
   "source": [
    "def ley_hook_local(delta_x, k = .5 ): # N/m  , constante del resorte\n",
    "    \"\"\"ley_hook_local(delta_x, k = .5 )\n",
    "    Evalua la fuerza que ejerce in resorte de constante k, al desplazarse delta x_metros.\n",
    "    \"\"\"\n",
    "    return - k * delta_x\n",
    "\n",
    "print(\"Con k = 1, ley_hook_local(1, k = 1) -->\", ley_hook_local(1, k = 1))\n",
    "print(k)  # Pero k no está definida!"
   ]
  },
  {
   "cell_type": "markdown",
   "metadata": {},
   "source": [
    "LO que se observa aquí es que `k` es una variable local y sólamente existe mientas la función se ejecuta. Si nosotros decidimos usar un valor de k, fuera de la función, éste es una variable global y va a cambiar el resulatdo de la función. Un ejemplo es como se muestra a continucación"
   ]
  },
  {
   "cell_type": "code",
   "execution_count": 39,
   "metadata": {},
   "outputs": [],
   "source": [
    "def ley_hook_global(delta_x ): # N/m  , constante del resorte\n",
    "    \"\"\"ley_hook_global(delta_x )\n",
    "    Evalua la fuerza que ejerce in resorte de constante k, al desplazarse delta x_metros; \n",
    "    hay que definir una varibale global k antes de usar esta función.\n",
    "    \"\"\"\n",
    "    return - k * delta_x\n",
    "\n"
   ]
  },
  {
   "cell_type": "markdown",
   "metadata": {},
   "source": [
    "Veamos un ejemplo de cómo operan las dos funciones anteriores:"
   ]
  },
  {
   "cell_type": "code",
   "execution_count": 28,
   "metadata": {},
   "outputs": [
    {
     "name": "stdout",
     "output_type": "stream",
     "text": [
      "-0.5 0 0\n",
      "-0.5 -1 -1\n",
      "-0.5 -2 -2\n",
      "-0.5 -3 -3\n",
      "-0.5 -4 -4\n"
     ]
    }
   ],
   "source": [
    "for k in range(0,5):\n",
    "    print(ley_hook_local(1),ley_hook_local(1, k), ley_hook_global(1))"
   ]
  },
  {
   "cell_type": "markdown",
   "metadata": {},
   "source": [
    "Como mencionamos antes, el problema de las variables locales es que no existen después de concluido el proceso y por lo tanto es información que el usuario no va a tener. Qué sucede si lo que quiere es hacer referencia a la variable global dentro de una función. Mientras Python no crea que ha definido una variable local, todo estará bien. Por ejemplo, esto se logra especificando una función es una variable **global**:"
   ]
  },
  {
   "cell_type": "code",
   "execution_count": 40,
   "metadata": {},
   "outputs": [
    {
     "name": "stdout",
     "output_type": "stream",
     "text": [
      "En  34 pasos se obtuvo el valor de  5.820766091346741e-11\n"
     ]
    }
   ],
   "source": [
    "# Vamos a calcular el valor de 2^{-n} más cercano a 0.00001\n",
    "def numero_a_la_n( base, pasos_max = 20):\n",
    "    exp = 1\n",
    "    global contador    # PErmite que el usuario accede a este valor fuera de la función\n",
    "    contador = 0  # y ceamos cuantas iteraciones tenemos\n",
    "    while 10 ** (-10) - exp < 0: # PAra este caso, la condición es que 10^{-3} - n^2 < 0, es decir, cuando difieran por al menos dos cifras significativas\n",
    "        exp = exp / base       # Cálculo exponencial\n",
    "        contador += 1          # Contador para ver cuántos pasos necesitamos\n",
    "        if contador > pasos_max:\n",
    "            print(\"No convergió el resultad\")\n",
    "            exp = -1\n",
    "            break\n",
    "    return exp\n",
    "        \n",
    "\n",
    "res = numero_a_la_n(2, pasos_max = 80)\n",
    "print(\"En \", contador, \"pasos se obtuvo el valor de \", res)"
   ]
  },
  {
   "cell_type": "markdown",
   "metadata": {},
   "source": [
    "## 1.5 Argumentos arbitrarios "
   ]
  },
  {
   "cell_type": "markdown",
   "metadata": {},
   "source": [
    "En algunos casos, no sabe cuántos argumentos se proporcionarán cuando se llama a una función. Python le permite pasar un número arbitrario de argumentos a una función y luego procesar esos argumentos dentro de la función.\n",
    "\n",
    "Para definir una lista de parámetros como de longitud arbitraria, un parámetro se marca con un asterisco (`*`). Por ejemplo:"
   ]
  },
  {
   "cell_type": "code",
   "execution_count": 1,
   "metadata": {},
   "outputs": [
    {
     "name": "stdout",
     "output_type": "stream",
     "text": [
      "(34, 8, 5, 8, 6, 1, 44, 8, 5, 8, 6, 1, 44)\n",
      "Square of 34  is  1156\n",
      "Square of 8  is  64\n",
      "Square of 5  is  25\n",
      "Square of 8  is  64\n",
      "Square of 6  is  36\n",
      "Square of 1  is  1\n",
      "Square of 44  is  1936\n",
      "Square of 8  is  64\n",
      "Square of 5  is  25\n",
      "Square of 8  is  64\n",
      "Square of 6  is  36\n",
      "Square of 1  is  1\n",
      "Square of 44  is  1936\n"
     ]
    }
   ],
   "source": [
    "def square(*args):\n",
    "    print(args)\n",
    "    for nb in args:\n",
    "        print('Square of', nb , ' is ', nb * nb)\n",
    "\n",
    "square(34, 8 , 5 , 8 , 6, 1, 44,8, 5 , 8 , 6, 1, 44)        "
   ]
  },
  {
   "cell_type": "code",
   "execution_count": 42,
   "metadata": {},
   "outputs": [
    {
     "ename": "TypeError",
     "evalue": "square1() missing 1 required positional argument: 'l'",
     "output_type": "error",
     "traceback": [
      "\u001b[0;31m---------------------------------------------------------------------------\u001b[0m",
      "\u001b[0;31mTypeError\u001b[0m                                 Traceback (most recent call last)",
      "\u001b[0;32m<ipython-input-42-6105e760b482>\u001b[0m in \u001b[0;36m<module>\u001b[0;34m\u001b[0m\n\u001b[1;32m      3\u001b[0m         \u001b[0mprint\u001b[0m\u001b[0;34m(\u001b[0m\u001b[0;34m'Square of'\u001b[0m\u001b[0;34m,\u001b[0m \u001b[0mm\u001b[0m \u001b[0;34m,\u001b[0m \u001b[0;34m' is '\u001b[0m\u001b[0;34m,\u001b[0m \u001b[0mm\u001b[0m\u001b[0;34m*\u001b[0m\u001b[0mm\u001b[0m\u001b[0;34m)\u001b[0m\u001b[0;34m\u001b[0m\u001b[0;34m\u001b[0m\u001b[0m\n\u001b[1;32m      4\u001b[0m         \u001b[0mprint\u001b[0m\u001b[0;34m(\u001b[0m\u001b[0;34m'Square of'\u001b[0m\u001b[0;34m,\u001b[0m \u001b[0ml\u001b[0m\u001b[0;34m,\u001b[0m \u001b[0;34m' is '\u001b[0m\u001b[0;34m,\u001b[0m \u001b[0ml\u001b[0m\u001b[0;34m*\u001b[0m\u001b[0ml\u001b[0m\u001b[0;34m)\u001b[0m\u001b[0;34m\u001b[0m\u001b[0;34m\u001b[0m\u001b[0m\n\u001b[0;32m----> 5\u001b[0;31m \u001b[0msquare1\u001b[0m\u001b[0;34m(\u001b[0m\u001b[0;36m34\u001b[0m\u001b[0;34m,\u001b[0m \u001b[0;36m8\u001b[0m \u001b[0;34m)\u001b[0m\u001b[0;34m\u001b[0m\u001b[0;34m\u001b[0m\u001b[0m\n\u001b[0m",
      "\u001b[0;31mTypeError\u001b[0m: square1() missing 1 required positional argument: 'l'"
     ]
    }
   ],
   "source": [
    "def square1(n, m, l):\n",
    "        print('Square of', n , ' is ', n*n)\n",
    "        print('Square of', m , ' is ', m*m)\n",
    "        print('Square of', l, ' is ', l*l)\n",
    "square1(34, 8 )"
   ]
  },
  {
   "cell_type": "markdown",
   "metadata": {},
   "source": [
    "## 1.6 Argumentos posicionales y palabras clave "
   ]
  },
  {
   "cell_type": "markdown",
   "metadata": {},
   "source": [
    "**Ver la sección de iterables**\n",
    "Algunas funciones en Python se definen de tal manera que los argumentos de los métodos se pueden proporcionar utilizando un número variable de argumentos posicionales o de palabras clave. Dichas funciones tienen dos argumentos `*args` y `**kwargs` (para argumentos posicionales y argumentos de palabras clave)\n",
    "\n",
    "Son útiles si no sabe exactamente cuántos argumentos de posición o palabras clave se proporcionarán.\n",
    "\n",
    "Por ejemplo, la función `my_function` toma un número variable de argumentos posicionales y de palabras clave:"
   ]
  },
  {
   "cell_type": "code",
   "execution_count": 2,
   "metadata": {},
   "outputs": [],
   "source": [
    "def my_function(*args, **kwargs):\n",
    "    print(args)\n",
    "    print(kwargs)\n",
    "    \n",
    "    for arg in args:\n",
    "        print('arg:', arg)\n",
    "        \n",
    "    for key in kwargs:\n",
    "        print('key:', key, 'has value: ', kwargs[key])"
   ]
  },
  {
   "cell_type": "code",
   "execution_count": 3,
   "metadata": {},
   "outputs": [
    {
     "name": "stdout",
     "output_type": "stream",
     "text": [
      "('John', 'Denise')\n",
      "{'daughter': 'Phoebe', 'son': 'Adam'}\n",
      "arg: John\n",
      "arg: Denise\n",
      "key: daughter has value:  Phoebe\n",
      "key: son has value:  Adam\n",
      "--------------------------------------------------\n",
      "('Paul', 'Fiona')\n",
      "{'son_number_one': 'Andrew', 'son_number_two': 'James', 'daughter': 'Joselyn'}\n",
      "arg: Paul\n",
      "arg: Fiona\n",
      "key: son_number_one has value:  Andrew\n",
      "key: son_number_two has value:  James\n",
      "key: daughter has value:  Joselyn\n"
     ]
    }
   ],
   "source": [
    "my_function('John', 'Denise', daughter='Phoebe', son='Adam')\n",
    "print('-' * 50)\n",
    "my_function('Paul', 'Fiona', son_number_one='Andrew', son_number_two='James', daughter='Joselyn')"
   ]
  },
  {
   "cell_type": "markdown",
   "metadata": {},
   "source": [
    "También puede definir métodos que solo usen uno de los `*args` y `**kwargs` según sus requisitos (como vimos con la función `greeter()` anterior), por ejemplo:"
   ]
  },
  {
   "cell_type": "code",
   "execution_count": 43,
   "metadata": {},
   "outputs": [],
   "source": [
    "def named(**kwargs):\n",
    "    for key in kwargs.keys():\n",
    "        print('arg:', key, 'has value:', kwargs[key])"
   ]
  },
  {
   "cell_type": "code",
   "execution_count": 44,
   "metadata": {},
   "outputs": [
    {
     "name": "stdout",
     "output_type": "stream",
     "text": [
      "arg: a has value: 1\n",
      "arg: b has value: 2\n",
      "arg: c has value: 3\n"
     ]
    }
   ],
   "source": [
    "named(a = 1, b = 2, c = 3)"
   ]
  },
  {
   "cell_type": "code",
   "execution_count": 45,
   "metadata": {},
   "outputs": [
    {
     "ename": "TypeError",
     "evalue": "named() takes 0 positional arguments but 3 were given",
     "output_type": "error",
     "traceback": [
      "\u001b[0;31m---------------------------------------------------------------------------\u001b[0m",
      "\u001b[0;31mTypeError\u001b[0m                                 Traceback (most recent call last)",
      "\u001b[0;32m<ipython-input-45-2066db538bad>\u001b[0m in \u001b[0;36m<module>\u001b[0;34m\u001b[0m\n\u001b[0;32m----> 1\u001b[0;31m \u001b[0mnamed\u001b[0m\u001b[0;34m(\u001b[0m\u001b[0;36m1\u001b[0m\u001b[0;34m,\u001b[0m \u001b[0;36m2\u001b[0m\u001b[0;34m,\u001b[0m \u001b[0;36m3\u001b[0m\u001b[0;34m)\u001b[0m\u001b[0;34m\u001b[0m\u001b[0m\n\u001b[0m",
      "\u001b[0;31mTypeError\u001b[0m: named() takes 0 positional arguments but 3 were given"
     ]
    }
   ],
   "source": [
    "named(1, 2, 3)"
   ]
  },
  {
   "cell_type": "code",
   "execution_count": 57,
   "metadata": {},
   "outputs": [],
   "source": [
    "def my_function(name, last_name , *args, **kwargs):\n",
    "    \"\"\"This ...\"\"\"\n",
    "    print(name, last_name)\n",
    "    print(args)\n",
    "    print(kwargs)\n",
    "    \n",
    "    for arg in args:\n",
    "        print('arg:', arg)\n",
    "        \n",
    "    for key in kwargs:\n",
    "        print('key:', key, 'has value: ', kwargs[key])\n",
    "        \n",
    "    return"
   ]
  },
  {
   "cell_type": "code",
   "execution_count": 55,
   "metadata": {},
   "outputs": [
    {
     "name": "stdout",
     "output_type": "stream",
     "text": [
      "Pedro Porras\n",
      "('John', 'Denise')\n",
      "{'daughter': 'Phoebe', 'son': 'Adam'}\n",
      "arg: John\n",
      "arg: Denise\n",
      "key: daughter has value:  Phoebe\n",
      "key: son has value:  Adam\n"
     ]
    }
   ],
   "source": [
    "my_function('Pedro', 'Porras','John', 'Denise', daughter='Phoebe', son='Adam')"
   ]
  },
  {
   "cell_type": "markdown",
   "metadata": {},
   "source": [
    "En general, estas comodidades tienen más probabilidades de ser utilizadas por quienes crean bibliotecas, ya que permiten una gran flexibilidad en cómo se puede usar la biblioteca."
   ]
  },
  {
   "cell_type": "markdown",
   "metadata": {},
   "source": [
    "# 3. Recursión"
   ]
  },
  {
   "cell_type": "markdown",
   "metadata": {},
   "source": [
    "La recursión es una forma muy poderosa de implementar soluciones a una cierta clase de problemas. Esta clase de problemas es aquella en la que se puede generar la solución general a un problema dividiendo ese problema general en instancias más pequeñas del mismo problema. El resultado general se genera combinando los resultados obtenidos para los problemas más pequeños."
   ]
  },
  {
   "cell_type": "markdown",
   "metadata": {},
   "source": [
    "## 3.1 Comportamiento recursivo "
   ]
  },
  {
   "cell_type": "markdown",
   "metadata": {},
   "source": [
    "Una solución recursiva en un lenguaje de programación como Python es aquella en la que una función se llama a sí misma una o más veces para resolver un problema en particular. En muchos casos, el resultado de llamarse a sí mismo se combina con las funciones del estado actual para devolver un resultado. En la mayoría de los casos, la llamada recursiva implica **llamar a la función pero con un problema menor que resolver**. Por ejemplo, una función para atravesar una estructura de datos de árbol podría llamarse a sí misma pasando en un subárbol para procesar."
   ]
  },
  {
   "cell_type": "markdown",
   "metadata": {},
   "source": [
    "Por lo tanto, para que una función recursiva sea útil, debe tener una condición de termino. Esa es una condición bajo la cual no se llaman a sí mismos y simplemente regresan (a menudo con algún resultado). La condición de termino puede ser porque:\n",
    "\n",
    "\n",
    "* Se ha encontrado una solución (algunos datos de interés en una estructura de árbol).\n",
    "* El problema se ha vuelto tan pequeño que puede resolverse sin más recurrencia. Esto a menudo se conoce como un caso base. Es decir, un caso base es un problema que puede ser resuelto sin más recursión.\n",
    "* Se ha alcanzado cierto nivel máximo de recursión, posiblemente sin resultado siendo encontrado / generado."
   ]
  },
  {
   "cell_type": "markdown",
   "metadata": {},
   "source": [
    "Por lo tanto, podemos decir que una función recursiva es una función definida en términos de sí misma a través de expresiones autorreferenciales. La función continuará llamándose a sí misma con pequeñas variaciones del problema general hasta que se cumpla alguna condición de termino para detener la recurrencia. Todas las funciones recursivas comparten un formato común; tienen una parte recursiva y un punto de termino que representa la parte del caso base."
   ]
  },
  {
   "cell_type": "markdown",
   "metadata": {},
   "source": [
    "## 3.2 Beneficios de la Recursión "
   ]
  },
  {
   "cell_type": "markdown",
   "metadata": {},
   "source": [
    "El beneficio clave de la recursividad es que algunos algoritmos (soluciones a problemas informáticos) se expresan de manera mucho más elegante y con mucho menos código cuando se implementan recursivamente que cuando se usa un enfoque iterativo.\n",
    "Esto significa que el código resultante puede ser más fácil de escribir y más fácil de leer.\n",
    "\n",
    "Estas ideas gemelas son importantes tanto para los desarrolladores que inicialmente crean el software como para aquellos que deben mantener ese software (potencialmente una cantidad de tiempo significativa más adelante).\n",
    "\n",
    "El código que es más fácil de escribir tiende a ser menos propenso a errores. Del mismo modo, el código que es más fácil de leer tiende a ser más fácil de mantener, depurar, modificar y ampliar.\n",
    "\n",
    "La recursión también es adecuada para producir soluciones funcionales a un problema, ya que, por su propia naturaleza, una función recursiva se basa en sus entradas y salidas y no contiene ningún estado oculto. Volveremos a esto en una sección posterior sobre Programación funcional."
   ]
  },
  {
   "cell_type": "markdown",
   "metadata": {},
   "source": [
    "## 3.3 Árbol de recursividad"
   ]
  },
  {
   "cell_type": "markdown",
   "metadata": {},
   "source": [
    "Como ejemplo de un problema que se adapta bien a una solución recursiva, mostraremos cómo podríamos implementar un programa para atravesar una estructura de datos de árbol binario.\n",
    "\n",
    "Un árbol binario es una estructura de datos de árbol formada por nodos en los que cada nodo tiene un valor, un puntero izquierdo y un puntero derecho.\n",
    "\n",
    "El nodo raíz es el nodo superior del árbol. Este nodo raíz hace referencia a un subárbol izquierdo y derecho. Esta estructura se repite hasta un nodo hoja. Un nodo hoja es un nodo en el que los punteros derecho e izquierdo están vacíos (es decir, tienen el valor `None`)."
   ]
  },
  {
   "cell_type": "markdown",
   "metadata": {},
   "source": [
    "Esto se muestra a continuación para un árbol binario simple:\n",
    "\n",
    "<img src = \"Images/Tree.png\"  width=\"800\" height=\"300\"/>"
   ]
  },
  {
   "cell_type": "markdown",
   "metadata": {},
   "source": [
    "Por lo tanto, un árbol binario está vacío (representado por un puntero nulo) o está hecho de un solo nodo, donde los punteros izquierdo y derecho apuntan a un árbol binario.\n",
    "\n",
    "Si ahora queremos saber si un valor particular está en el árbol, entonces podemos comenzar en el nodo raíz.\n",
    "\n",
    "Si el nodo raíz contiene el valor, lo imprimimos; de lo contrario, podemos llamar a la función de búsqueda en los nodos secundarios del nodo actual. Si el nodo actual no tiene hijos, simplemente regresamos sin un resultado."
   ]
  },
  {
   "cell_type": "markdown",
   "metadata": {},
   "source": [
    "## 3.4 Recursión en Python "
   ]
  },
  {
   "cell_type": "markdown",
   "metadata": {},
   "source": [
    "La mayoría de los programas de computadora admiten la idea de recursión y Python no es una excepción. En Python es perfectamente legal tener una función que se llame a sí misma (es decir, dentro del cuerpo de la función se realiza una llamada a la misma función). Cuando se ejecuta la función, se llamará a sí misma.\n",
    "\n",
    "En Python podemos escribir una función recursiva como:\n",
    "\n",
    "```python\n",
    "def recursive_function(): \n",
    "    print('calling recursive_function') \n",
    "    recursive_function()\n",
    "```\n",
    "\n",
    "Aquí la función recursive_function () se define de manera que imprima un mensaje y luego se llame a sí misma. Tenga en cuenta que no se requiere una sintaxis especial para esto, ya que una función no necesita haber sido completamente definida antes de ser utilizada.\n",
    "\n",
    "Por supuesto, en el caso de recursive_function () esto resultará en una recursión infinita ya que no hay una condición de terminación. Sin embargo, esto solo será evidente en tiempo de ejecución cuando Python eventualmente generará un error:\n",
    "\n",
    "```python\n",
    "Traceback (most recent call last):\n",
    "File \"recursion_example.py\", line 5, in <module>\n",
    "RecursionError: maximum recursion depth exceeded while calling a Python object```\n"
   ]
  },
  {
   "cell_type": "markdown",
   "metadata": {},
   "source": [
    "Sin embargo, como ya se mencionó, una función recursiva debe tener una parte recursiva y una parte de termino o caso base. La condición de termino se utiliza para identificar cuándo se aplica el caso base. Por lo tanto, debemos agregar una condición para identificar el escenario de termino y cuál es el comportamiento del caso base. Haremos esto en la siguiente sección mientras observamos cómo se puede generar recursivamente un factorial para un número."
   ]
  },
  {
   "cell_type": "code",
   "execution_count": 26,
   "metadata": {},
   "outputs": [],
   "source": [
    "def recursive_function(): \n",
    "    print('calling recursive_function') \n",
    "    recursive_function()"
   ]
  },
  {
   "cell_type": "markdown",
   "metadata": {},
   "source": [
    "## 3.5 Cálculo factorial recursivo "
   ]
  },
  {
   "cell_type": "markdown",
   "metadata": {},
   "source": [
    "Recordemos la definición del factorial de un número $$n! = n(n-1)(n-2)\\cdots1$$\n",
    "Ya hemos calculado el factorial de manera iterativa:"
   ]
  },
  {
   "cell_type": "code",
   "execution_count": 28,
   "metadata": {},
   "outputs": [],
   "source": [
    "def my_factorial(n):\n",
    "    i = 1\n",
    "    aux = 1\n",
    "    while i < n :\n",
    "        i +=1\n",
    "        aux = aux*i\n",
    "        \n",
    "   \n",
    "    return aux"
   ]
  },
  {
   "cell_type": "code",
   "execution_count": 29,
   "metadata": {},
   "outputs": [
    {
     "data": {
      "text/plain": [
       "24"
      ]
     },
     "execution_count": 29,
     "metadata": {},
     "output_type": "execute_result"
    }
   ],
   "source": [
    "my_factorial(4)"
   ]
  },
  {
   "cell_type": "markdown",
   "metadata": {},
   "source": [
    "Podemos crear una solución recursiva al problema factorial definiendo una función que tome un número entero para generar el número factorial. Esta función devolverá el valor 1 si el número pasado es 1; este es el caso base. De lo contrario, multiplicará el valor pasado con el resultado de llamarse a sí mismo (la función `factorial ()`) con n - 1, que es la parte recursiva`"
   ]
  },
  {
   "cell_type": "code",
   "execution_count": 30,
   "metadata": {},
   "outputs": [],
   "source": [
    "def factorial(n):\n",
    "    \n",
    "    if n == 1: # The termination condition\n",
    "        return 1 # The base case \n",
    "    \n",
    "    else:\n",
    "        res = n * factorial(n - 1) # The recursive call \n",
    "        return res\n"
   ]
  },
  {
   "cell_type": "code",
   "execution_count": 32,
   "metadata": {},
   "outputs": [
    {
     "data": {
      "text/plain": [
       "120"
      ]
     },
     "execution_count": 32,
     "metadata": {},
     "output_type": "execute_result"
    }
   ],
   "source": [
    "factorial(5)"
   ]
  },
  {
   "cell_type": "markdown",
   "metadata": {},
   "source": [
    "La clave para comprender esta función es que tiene:\n",
    "\n",
    "* Una condición de termino que se garantiza su ejecución cuando el valor de n es 1. Este es el caso base; ¡no podemos reducir el problema más abajo ya que el factorial de 1 es 1!\n",
    "\n",
    "* La función se llama recursivamente pero con n - 1 como argumento; Esto significa que cada vez que se llama a sí mismo, el valor de n es menor. Por lo tanto, el valor devuelto por esta llamada es el resultado de un cálculo más pequeño."
   ]
  },
  {
   "cell_type": "markdown",
   "metadata": {},
   "source": [
    "Para aclarar cómo funciona esto, podemos agregar algunos `print` (y un indicador de profundidad) a la función para indicar su comportamiento:"
   ]
  },
  {
   "cell_type": "code",
   "execution_count": 34,
   "metadata": {},
   "outputs": [
    {
     "name": "stdout",
     "output_type": "stream",
     "text": [
      "a \t b\n"
     ]
    }
   ],
   "source": [
    "print(\"a\",'\\t', \"b\")"
   ]
  },
  {
   "cell_type": "code",
   "execution_count": 35,
   "metadata": {},
   "outputs": [],
   "source": [
    "def factorial(n, depth = 1):\n",
    "    \n",
    "    if n == 1:\n",
    "        \n",
    "        print('\\t' * depth, 'Returning 1')\n",
    "        return 1 \n",
    "    \n",
    "    else:\n",
    "        \n",
    "        print('\\t'*depth,'Recursively calling factorial(',n-1,')')\n",
    "        result = n * factorial(n-1, depth + 1) \n",
    "        print('\\t' * depth, 'Returning:', result) \n",
    "        return result"
   ]
  },
  {
   "cell_type": "code",
   "execution_count": 44,
   "metadata": {},
   "outputs": [
    {
     "name": "stdout",
     "output_type": "stream",
     "text": [
      "\t Recursively calling factorial( 3 )\n",
      "\t\t Recursively calling factorial( 2 )\n",
      "\t\t\t Recursively calling factorial( 1 )\n",
      "\t\t\t\t Returning 1\n",
      "\t\t\t Returning: 2\n",
      "\t\t Returning: 6\n",
      "\t Returning: 24\n",
      "24\n"
     ]
    }
   ],
   "source": [
    "#print('Calling factorial( 1)')\n",
    "print(factorial(4))"
   ]
  },
  {
   "cell_type": "markdown",
   "metadata": {},
   "source": [
    "## 3.6 Desventajas de la recursión"
   ]
  },
  {
   "cell_type": "markdown",
   "metadata": {},
   "source": [
    "Aunque la recursividad puede ser una forma muy expresiva de definir cómo se puede resolver un problema, no es tan eficiente como la iteración. Esto se debe a que una llamada de función es más costosa para que Python procese que un bucle for. En parte, esto se debe a la infraestructura que acompaña a una llamada de función; esa es la necesidad de configurar la pila para cada invocación de función separada para que todas las variables locales sean independientes de cualquier otra llamada a esa función. \n",
    "\n",
    "También está relacionado con el desenrollado asociado de la pila cuando regresa una función. Sin embargo, también se ve afectado por la cantidad creciente de memoria que cada llamada recursiva debe usar para almacenar todos los datos en la pila.\n",
    "\n",
    "En algunos lenguaje, las optimizaciones son posibles para mejorar el rendimiento de una solución recursiva. Un ejemplo típico se refiere a un tipo de recursión conocida como recursión de cola. Una solución recursiva de cola es aquella en la que el cálculo se realiza antes de la llamada recursiva. El resultado se pasa al paso recursivo, que da como resultado la última instrucción en la función que solo llama a la función recursiva.\n",
    "\n",
    "En tales situaciones, la solución recursiva puede expresarse (internamente al sistema informático) como un problema iterativo. Es decir, el programador escribe la solución como un algoritmo recursivo, pero el intérprete o compilador la convierte en una solución iterativa. Esto permite a los programadores beneficiarse de la naturaleza expresiva de la recursión y al mismo tiempo beneficiarse del desempeño de una solución iterativa.\n",
    "\n",
    "Se podría pensar que la función `factorial` presentada anteriormente es la cola recurrente; sin embargo, no es porque la última instrucción en la función realiza un cálculo que multiplica `n por el resultado de una llamada recursiva`\n",
    "\n",
    "Sin embargo, podemos refactorizar la función factorial para que sea recursiva de la cola. Esta versión de la función factorial pasa el resultado evolutivo a través del parámetro acumulador. Se da como referencia aquí:"
   ]
  },
  {
   "cell_type": "code",
   "execution_count": 55,
   "metadata": {},
   "outputs": [],
   "source": [
    "def tail_factorial(n, accumulator=1):\n",
    "    if n == 0:\n",
    "        return accumulator \n",
    "    else:\n",
    "        print('\\t',accumulator)\n",
    "        return tail_factorial(n - 1, accumulator * n)"
   ]
  },
  {
   "cell_type": "code",
   "execution_count": 56,
   "metadata": {},
   "outputs": [
    {
     "name": "stdout",
     "output_type": "stream",
     "text": [
      "\t 1\n",
      "\t 3\n",
      "\t 6\n",
      "6\n"
     ]
    }
   ],
   "source": [
    "print(tail_factorial(3))"
   ]
  },
  {
   "cell_type": "markdown",
   "metadata": {},
   "source": [
    "Sin embargo, debe tenerse en cuenta que Python actualmente no realiza la optimización de recursión de cola; así que este es un ejercicio puramente teórico."
   ]
  },
  {
   "cell_type": "markdown",
   "metadata": {},
   "source": [
    "l = {0: -1, 2: 1, 7: 3}# 4. Ejercicios"
   ]
  },
  {
   "cell_type": "markdown",
   "metadata": {},
   "source": [
    "## 4.1 Ejercicios en clase\n",
    "\n",
    "* Convertir a funciones los ciclos de la clase anterior \n",
    "    * La suma de los primeros (ya está)\n",
    "    * El Factorial ya está\n",
    "  "
   ]
  },
  {
   "cell_type": "markdown",
   "metadata": {},
   "source": [
    "##  4.2 Ejercicios a casa"
   ]
  },
  {
   "cell_type": "markdown",
   "metadata": {},
   "source": [
    "* Escriba un programa para determinar si un número dado es un Número primo o no. Use la **recursividad** para implementar la solución. El siguiente fragmento de código ilustra cómo podría funcionar esto:\n",
    "\n",
    "```python\n",
    "print('is_prime(3):', is_prime(3)) # True \n",
    "print('is_prime(7):', is_prime(7)) # True \n",
    "print('is_prime(9):', is_prime(9)) # False \n",
    "print('is_prime(31):', is_prime(31)) # True ```\n",
    "\n",
    "* Escriba una función que implemente el triángulo de Pascal para un número específico de filas. El triángulo de Pascal es un triángulo de los coeficientes binomiales. Los valores contenidos en el triángulo se generan de la siguiente manera: en la fila 0 (la fila más alta), hay una entrada única distinta de cero 1. Cada entrada de cada fila posterior se construye sumando el número de arriba y a la izquierda con el número de arriba y a la derecha, tratando las entradas en blanco como 0. Por ejemplo, el número inicial en la primera (o cualquier otra) fila es 1 (la suma de 0 y 1), mientras que los números 1 y 3 en la tercera fila se suman para generar el número 4 en la cuarta fila. A continuación se muestra un ejemplo de triángulo de Pascal para 4 filas:\n",
    "        \n",
    " \n",
    "<img src = \"Images/Pascal.png\"  width=\"500\" height=\"300\"/>\n"
   ]
  },
  {
   "cell_type": "markdown",
   "metadata": {},
   "source": [
    "Por ejemplo, la función debe llamarse `pascals_traingle()` en cuyo caso la siguiente aplicación ilustra cómo podría usarla\n",
    "\n",
    "```python\n",
    "triangle = pascals_triangle(5) \n",
    "    for row in triangle:\n",
    "print(row)```\n",
    "\n",
    "Y la salida de esto debe de ser\n",
    "\n",
    "```python\n",
    "[1]\n",
    "[1, 1]\n",
    "[1, 2, 1]\n",
    "[1, 3, 3, 1] \n",
    "[1, 4, 6, 4, 1]```\n"
   ]
  },
  {
   "cell_type": "markdown",
   "metadata": {},
   "source": [
    "# 5. Bibliografía"
   ]
  },
  {
   "cell_type": "markdown",
   "metadata": {},
   "source": [
    "* 1. Wei-Bing Lin, J., 2012. A Hands-On Introduction to Using Python in the Atmospheric and Oceanic Sciences. 1st ed. [ebook] lulu, pp.1 to 209. Available at: <https://www.lulu.com/commerce/index.php?fBuyContent=13110573&page=1&pageSize=4> [Accessed 19 May 2021].\n",
    "* 2. Langtangen, H., 2009. A Primer on Scientific Programming with Python. Leipzig, Germany: Springer, p.all.\n",
    "* 3. Heath, M., 2009. Scientific computing. 1st ed. Boston, Mass: McGraw Hill, p.all.\n",
    "* 4. Johansson, R., n.d. Numerical python. 2nd ed. New York: Springer, p.all.\n",
    "* 5. Hunt, J., 2019. A Begginers Guide to Python 3 Programming. 1st ed. Cham, Suiza: Springer, p.all."
   ]
  },
  {
   "cell_type": "code",
   "execution_count": null,
   "metadata": {},
   "outputs": [],
   "source": []
  }
 ],
 "metadata": {
  "kernelspec": {
   "display_name": "Python 3",
   "language": "python",
   "name": "python3"
  },
  "language_info": {
   "codemirror_mode": {
    "name": "ipython",
    "version": 3
   },
   "file_extension": ".py",
   "mimetype": "text/x-python",
   "name": "python",
   "nbconvert_exporter": "python",
   "pygments_lexer": "ipython3",
   "version": "3.6.9"
  }
 },
 "nbformat": 4,
 "nbformat_minor": 4
}
