{
 "cells": [
  {
   "cell_type": "markdown",
   "metadata": {},
   "source": [
    "# Números y operaciones\n",
    "\n",
    "### Índice\n",
    "\n",
    "* [7. Números](#7.-Números)\n",
    "    * [7.1. Booleanos y operaciones de comparación](#7.1.-Booleanos-y-operaciones-de-comparación)\n",
    "        * [7.1.1. Booleanos, enteros y cadenas](#7.1.1.-Booleanos,-enteros-y-cadenas)\n",
    "        * [7.1.2. Operadores lógicos](#7.1.2.-Operadores-lógicos)\n",
    "    * [7.2. Operadores aritméticos](#7.2.-Operadores-aritméticos)\n",
    "    * [7.3. Números enteros](#7.3.-Números-enteros)\n",
    "        * [7.3.1. Operaciones aritméticas con enteros](#7.3.1.-Operaciones-aritméticas-con-enteros)\n",
    "        * [7.3.2. Almacenamiento de memoria y los enteros](#7.3.2.-Almacenamiento-de-memoria-y-los-enteros)\n",
    "    * [7.4. Números reales y complejos](#7.4.-Números-reales-y-complejos)\n",
    "        * [7.4.1. Librerias *math* y *cmath*](#7.4.1.-Librerias-math-y-cmath)\n",
    "        * [7.4.2. Aritmética de punto flotante](#7.4.2.-Aritmética-de-punto-flotante)\n",
    "* [8. Operadores de asignación](#8.-Operadores-de-asignación)\n",
    "* [9. `None` y operadores de identidad](#9.-None-y-operadores-de-identidad)\n",
    "\n",
    "* [Bibliografía](#Bibliografía)"
   ]
  },
  {
   "cell_type": "markdown",
   "metadata": {
    "tags": []
   },
   "source": [
    "# 7. Números "
   ]
  },
  {
   "cell_type": "markdown",
   "metadata": {},
   "source": [
    "En esta sección exploraremos las diferentes formas en que los números pueden ser representados en Python, donde por default hay cuatro tipos de ellos:\n",
    "\n",
    "|Conjunto matemático | Nombre           | Tipo    |\n",
    "|:------------------:|:----------------:|:-------:|\n",
    "| $ \\{ 0, 1 \\} $     |   Booleanos      |   bool  |\n",
    "| $ \\sim \\mathbb{Z}$ |   Enteros        |  int    |\n",
    "| $ \\sim \\mathbb{R}$ |   Punto flotante | float   |\n",
    "| $ \\sim \\mathbb{C}$ |  \"Complejos\"     | complex |\n",
    "\n",
    "Adicional a los números, en Python se tiene una variable \"Sin tipo\" denominada con `None`, la cual no regresa un valor numérico, sino otra cosa, cuyo tipos es `NoneType`. Cada tipo \n",
    "7.3de variables numéricas opera bajo su propia aritmética por lo que estudiaremos los distintos operadores que se pueden aplicar a cada uno de ellos."
   ]
  },
  {
   "cell_type": "markdown",
   "metadata": {
    "tags": []
   },
   "source": [
    "## 7.1. Booleanos y operaciones de comparación"
   ]
  },
  {
   "cell_type": "markdown",
   "metadata": {},
   "source": [
    "7.37.3Los números booleanos son, en ralidad, cualquier conjunto de dos elementos con los que podemos definir un álgebra. Lo usual es que se representen matemáticamente con ceros y unos, y de hecho, así es como los trabaja Python y su uso es para realizar operaciones lógicas con un formalismo algebráico. Por lo tanto, en Python los valores booleanos los representamos como sigue:\n",
    "```` python \n",
    "var_1 = True\n",
    "var_2 = False\n",
    "````\n",
    "Dado que deseamos hacer operaciones lógicas, lo más común no es asignar directamente el valor a una variable, sino que sean el resultado de una comparación entre dos variables. Para esto es necesario que conozcamos a los operadores lógicos, que se muestran a continuación\n",
    "\n",
    "|Operador|                      Descripción                  |  Ejemplo |\n",
    "|:------:|---------------------------------------------------|:--------:|\n",
    "|  `==`  |Comprueba si dos valores son iguales| `x == 2` |\n",
    "|  `!=`  |Comprueba que dos valores no son iguales entre sí|`2 != 3` |\n",
    "|   `<`  |Comprueba si el valor de la izquierda es menor que el valor de la derecha|`2 <  3` |\n",
    "|   `>`  |Comprueba si el valor de la izquierda es mayor que el valor de la derecha|`3 >  2` |\n",
    "|  `<=`  |Comprueba si el valor de la izquierda es menor o igual que el valor de la derecha|`3 <=  4` |\n",
    "|  `>=`  |Comprueba si el valor de la izquierda es mayor o igual que el valor de la derecha|`5 >=  4` |\n",
    "\n",
    "Un error común en muchos programadores es el confundir el operador lógico igual `==` con el operador de asignación `=`, por lo que deben de recorder que `==` hace una comparación mientras que `=` guarda un valor a una variable.\n",
    "\n",
    "En las siguientes líneas veremos formas alternativas en las que valores booleanos pueden intriducirse en nuestro código."
   ]
  },
  {
   "cell_type": "code",
   "execution_count": 1,
   "metadata": {},
   "outputs": [
    {
     "name": "stdout",
     "output_type": "stream",
     "text": [
      "<class 'bool'> False\n"
     ]
    }
   ],
   "source": [
    "# Asignamos dos valores distintos\n",
    "x = 8\n",
    "y = 10\n",
    "\n",
    "# Nos preguntamos si las dos variables son iguales, la respuesta es que no, por lo que var_1 será igual a False\n",
    "var_1 = x == y\n",
    "\n",
    "# Aquí vemos qué tipo es nuestra variable var_1 y su valor, que coincide con lo que mencionamos anteriormente.\n",
    "print(type(var_1), var_1)"
   ]
  },
  {
   "cell_type": "markdown",
   "metadata": {},
   "source": [
    "### 7.1.1. Booleanos, enteros y cadenas"
   ]
  },
  {
   "cell_type": "markdown",
   "metadata": {},
   "source": [
    "Mencionamos con anterioridad que los números booleanos son un conjunto con dos elementos y que lo usual es representarlos con ceros y unos. Esto quiere decir que el tipo booleano es en realidad un subtipo (y subconjuntos) de entero (pero solo con los valores Verdadero y Falso), por lo que es fácil de traducir entre los dos utilizando las funciones `int()` y `bool()` para convertir de booleanos a enteros y viceversa. Por ejemplo:"
   ]
  },
  {
   "cell_type": "code",
   "execution_count": 2,
   "metadata": {},
   "outputs": [
    {
     "name": "stdout",
     "output_type": "stream",
     "text": [
      "Convertir enteros a boleanos,  True\n",
      "Convertir enteros a boleanos,  False\n",
      "Convertir boleanos a enteros,  1\n",
      "Convertir boleanos a enteros,  0\n"
     ]
    }
   ],
   "source": [
    "print('Convertir enteros a boleanos, ', bool(1)) \n",
    "print('Convertir enteros a boleanos, ', bool(0)) \n",
    "print('Convertir boleanos a enteros, ', int(True) )\n",
    "print('Convertir boleanos a enteros, ', int(False))"
   ]
  },
  {
   "cell_type": "markdown",
   "metadata": {},
   "source": [
    "Una cadena también puede convertirse en booleano con `bool()` sin embargo no es recomendable porque todas las cadenas serán `True` a menos que sean cadenas vacías"
   ]
  },
  {
   "cell_type": "code",
   "execution_count": 3,
   "metadata": {},
   "outputs": [
    {
     "name": "stdout",
     "output_type": "stream",
     "text": [
      "bool(cualquier cosa) =  True  y es <class 'bool'>\n",
      "bool() =  False  y es <class 'bool'>\n"
     ]
    }
   ],
   "source": [
    "true_string = 'cualquier cosa'\n",
    "print('bool(' + true_string +') = ', bool(true_string), ' y es', type(bool(true_string)))\n",
    "\n",
    "true_string = ''\n",
    "print('bool(' + true_string +') = ', bool(true_string), ' y es', type(bool(true_string)))"
   ]
  },
  {
   "cell_type": "markdown",
   "metadata": {
    "tags": []
   },
   "source": [
    "### 7.1.2. Operadores lógicos\n",
    "\n",
    "Además de los operadores de comparación, Python también tiene operadores lógicos.\n",
    "Los operadores lógicos se pueden usar para combinar expresiones booleanas juntas. Típicamente, se usan con operadores de comparación para crear condiciones más complejas. En la cotidianidad, los usamos todos los días, por ejemplo, podríamos considerar si\n",
    "puede permitirse un helado y si cenaremos pronto, etc. Hay tres operadores lógicos en Python que se enumeran a continuación:\n",
    "\n",
    "|Operador|                      Descripción                  |  Ejemplo |\n",
    "|--------|---------------------------------------------------|----------|\n",
    "|  `and` |Devuelve `True` si tanto el lado izquierdo como la derecha son verdaderos|`(3 < 4) and (5 > 3)` |\n",
    "|  `or`  |Devuelve `True` si la izquierda o la derecha es una cierta.              |`(3 < 4) or (3 > 4)` |\n",
    "|  `not` |Devuelve `True` si el valor que se prueba es Falso|`not 3 <  2` |"
   ]
  },
  {
   "cell_type": "code",
   "execution_count": 4,
   "metadata": {},
   "outputs": [
    {
     "name": "stdout",
     "output_type": "stream",
     "text": [
      "test_1 =  False\n",
      "test_2 =  True \n",
      "\n",
      "not test_1 =  True\n",
      "test_1 and test_2 =  False\n",
      "test_1 or test_2 =  True\n",
      "not test_1 and test_2 =  True\n"
     ]
    }
   ],
   "source": [
    "# Asignamos dos valores distintos\n",
    "x = 8\n",
    "y = 10\n",
    "\n",
    "# Nos preguntamos si las dos variables son iguales, la respuesta es que no, por lo que var_1 será igual a False\n",
    "test_1 = x == y\n",
    "test_2 = x < y\n",
    "\n",
    "print('test_1 = ', test_1)\n",
    "print('test_2 = ', test_2, '\\n')\n",
    "\n",
    "print('not test_1 = ', not test_1)\n",
    "print('test_1 and test_2 = ', test_1 and test_2)\n",
    "print('test_1 or test_2 = ', test_1 or test_2)\n",
    "print('not test_1 and test_2 = ', not test_1 and test_2)"
   ]
  },
  {
   "cell_type": "markdown",
   "metadata": {
    "tags": []
   },
   "source": [
    "## 7.2. Operadores aritméticos"
   ]
  },
  {
   "cell_type": "markdown",
   "metadata": {},
   "source": [
    "Los operadores aritméticos se utilizan para realizar alguna operación matemática, como la suma, la resta, la multiplicación y la división, etc. En Python están representados por uno o dos caracteres. La siguiente tabla resume los operadores aritméticos de Python:\n",
    "\n",
    "| Operador  |    Descripción   |  Ejemplo |\n",
    "|-----------|------------------|----------|\n",
    "|     +     |    Suma          |  `1 + 2` |\n",
    "|     -     |    Resta         |  `3 - 2` |\n",
    "|     *     |    Multiplicación|  `3 * 4` |\n",
    "|     /     |    División      |  `12 / 3` |\n",
    "|    //     |    División Entera     |  `12 // 3` |\n",
    "|     %     |    Módulo              |  `13 % 3`  |\n",
    "|    **     |    Potenica            |  `3 ** 3`  |\n",
    "\n",
    "A excepción del operador de potencia, y la división entera,  los demás símbolos son estándares para la **operación binaria** que realizan. En otros lenguajes, la potencia se describe con el símbolo `^`, y en otros no existe, como en C cuya notación es `pow(a, x)`.\n",
    "\n",
    "Para comprender cpomo operar con estos símbolos, comencemos estiando a los número enteros en Pyhton."
   ]
  },
  {
   "cell_type": "markdown",
   "metadata": {
    "tags": []
   },
   "source": [
    "# 7.3. Números enteros"
   ]
  },
  {
   "cell_type": "markdown",
   "metadata": {},
   "source": [
    "Los valores enteros se representan en Python escribiéndolos directamente con el teclado **sin agregar ningún punto decimal, aunque sea XXX.0**, dado que eso representa a un número flotante. El tipo de los enteros es `int` y, al igual que con los booleanos, se pueden convertir cadenas de caracteres a enteros con las función  `int()` sinempre que la cadena tenga únicamente caracteres numéricos."
   ]
  },
  {
   "cell_type": "code",
   "execution_count": 5,
   "metadata": {},
   "outputs": [
    {
     "name": "stdout",
     "output_type": "stream",
     "text": [
      "0  -->  <class 'int'>\n",
      "5684518651  -->  <class 'int'>\n",
      "5684518651  -->  <class 'int'>\n",
      "5684518651  -->  <class 'int'>\n"
     ]
    }
   ],
   "source": [
    "x = 0\n",
    "print(x, ' --> ', type(x))\n",
    "\n",
    "x = 5684518651\n",
    "print(x, ' --> ', type(x))\n",
    "\n",
    "# Para enteros de varias cifras la siguiente notación resula muy cómoda para enteros, que nos permite dividir en potencias de 10^3\n",
    "x = 5_684_518_651\n",
    "print(x, ' --> ', type(x))\n",
    "\n",
    "# Pasando de strings a int\n",
    "x = '5_684_518_651'\n",
    "x_int = int(x)                   \n",
    "print(x_int, ' --> ', type(x_int))\n"
   ]
  },
  {
   "cell_type": "markdown",
   "metadata": {},
   "source": [
    "La función `int()` a es especialmente útil en conjunto con `input()` pues ésta da una variable tipo cadena, pero la podemos convertir directamente a un número:"
   ]
  },
  {
   "cell_type": "code",
   "execution_count": 6,
   "metadata": {},
   "outputs": [
    {
     "name": "stdin",
     "output_type": "stream",
     "text": [
      "Dame tu edad: 87\n"
     ]
    },
    {
     "name": "stdout",
     "output_type": "stream",
     "text": [
      "La mitad de tu vida tuviste fue cuando tenías 43 años.\n"
     ]
    }
   ],
   "source": [
    "age = input(\"Dame tu edad:\")\n",
    "age_num = int(age)\n",
    "print('La mitad de tu vida tuviste fue cuando tenías', int(age) // 2, 'años.')"
   ]
  },
  {
   "cell_type": "markdown",
   "metadata": {},
   "source": [
    "Cabe destacar que empleamos la operación de división por entero `//` en lugar de la división simple `/` esto se debe a que cuando hablamos de edades, nunca nos referimos a medios número, sino a enteros. Para enteder por qué está definida esta operación, analicemos primero cómo  se ejecutan el resto de operaciones y después, analicemos cómo la computadora entiende a los números enteros."
   ]
  },
  {
   "cell_type": "markdown",
   "metadata": {
    "tags": []
   },
   "source": [
    "### 7.3.1. Operaciones aritméticas con enteros"
   ]
  },
  {
   "cell_type": "markdown",
   "metadata": {},
   "source": [
    "Desde un punto de vista matemático, los números enteros son cerrados para las operaciones de suma, resta y  multiplicación, por lo que cualquier operación de éstas que se ejectuen me dará como resultado otro número entero. Adicionalmente, las computadoras siguen la jerarquía de operaciones usual de matemáticas (es decir, que la multiplicación se realiza antes que la suma y se calcula primero lo que está entre paréntesis)."
   ]
  },
  {
   "cell_type": "code",
   "execution_count": 7,
   "metadata": {},
   "outputs": [
    {
     "name": "stdout",
     "output_type": "stream",
     "text": [
      "a + b =  103  y es tipo --->  <class 'int'>\n",
      "a - b =  93  y es tipo --->  <class 'int'>\n",
      "a * c =  82614  y es tipo --->  <class 'int'>\n",
      "a * (b - c) =  -82124  y es tipo --->  <class 'int'>\n",
      "a ** b =  9039207968  y es tipo --->  <class 'int'>\n"
     ]
    }
   ],
   "source": [
    "a = 98\n",
    "b = 5\n",
    "c = 843\n",
    "\n",
    "ans = a + b\n",
    "print('a + b = ', ans, ' y es tipo ---> ', type(ans) )\n",
    "\n",
    "ans = a - b\n",
    "print('a - b = ', ans, ' y es tipo ---> ', type(ans) )\n",
    "\n",
    "ans = a * c\n",
    "print('a * c = ', ans, ' y es tipo ---> ', type(ans) )\n",
    "\n",
    "ans = a * (b - c) \n",
    "print('a * (b - c) = ', ans, ' y es tipo ---> ', type(ans) )\n",
    "\n",
    "ans = a ** b                  # En el caso en el que b >= 0, la potencia es otra forma de escribir una multiplicación por lo que siguie siendo una operación cerrada para este caso\n",
    "print('a ** b = ', ans, ' y es tipo ---> ', type(ans) )"
   ]
  },
  {
   "cell_type": "markdown",
   "metadata": {},
   "source": [
    "Las operaciones de división `/`,  división entera `//` y módulo `%`están relacionadas entre sí y tienen que ver con la no-cerradura de los enteros con esta operación. Tomemos el caso de tres números, donde el primero es divisible entre el segundo pero no entre el tercero y veamos cómo se realizan las operaciones:"
   ]
  },
  {
   "cell_type": "code",
   "execution_count": 6,
   "metadata": {},
   "outputs": [
    {
     "name": "stdout",
     "output_type": "stream",
     "text": [
      "a / b =  9.0  y es tipo --->  <class 'float'>\n",
      "a // b =  9  y es tipo --->  <class 'int'>\n",
      "a % b =  0  y es tipo --->  <class 'int'>\n",
      "\n",
      "a / c =  6.75  y es tipo --->  <class 'float'>\n",
      "a // c =  6  y es tipo --->  <class 'int'>\n",
      "a % c =  3  y es tipo --->  <class 'int'>\n"
     ]
    }
   ],
   "source": [
    "a = 27\n",
    "b = 3\n",
    "c = 4\n",
    "\n",
    "ans = a / b   # A pesar de que 27 / 3 = 9, que es un número entero, la división `/`arroja un resultado flotante (9.0). Como veremos más adeltante eso tiene consecuencias en el uso de memoria\n",
    "print('a / b = ', ans, ' y es tipo ---> ', type(ans) )\n",
    "\n",
    "ans = a // b  # Si en cambio utilizo la división entera, me da el mismo resultado pero ahora sí obtenemos un número entero como resultado: 9\n",
    "print('a // b = ', ans, ' y es tipo ---> ', type(ans) )\n",
    "\n",
    "ans = a % b   # La operación módulo siempre regresa un entero, dado que nos calcula el residup de la división a / b, como 27 sí es divisible entre 3, sobran cero\n",
    "print('a % b = ', ans, ' y es tipo ---> ', type(ans) )\n",
    "\n",
    "\n",
    "\n",
    "ans = a / c   # En este caso, 27 no es divisible entre 4, por lo que el uso de la división con sus decimales es correcto (un flotante, pues)\n",
    "print('\\na / c = ', ans, ' y es tipo ---> ', type(ans) )\n",
    "\n",
    "ans = a // c   # Y con el operador de divsión entera lo que obtenemos es un entero... lo que es  incorrecto matemáticamente pues ignora a los decimales, de hecho se observa que sólo \n",
    "               # se queda la parte entera de la operación (ni siquiera hace un redonde)\n",
    "print('a // c = ', ans, ' y es tipo ---> ', type(ans) )\n",
    "\n",
    "ans = a % c   # En este caso, el .75, corresponde a 3/4, que es el cociente entre el residuo y el divisor, por lo tanto el módulo de a y c es 3\n",
    "print('a % c = ', ans, ' y es tipo ---> ', type(ans) )"
   ]
  },
  {
   "cell_type": "markdown",
   "metadata": {},
   "source": [
    "A modo de resumen podemos decir que, en enteros las operaciones matemáticas, a excepción de la división, son cerradas y como se realizan *a mano*. Para la divsión, el operador `/` cambia el tipo de los números que se operan al de flotantes y realiza la operación usual, dando como resultado un número flotante que ocupa más espacio en la memoria. Por otro lado, el operador `//`, únicamente tomam parte entera del cociente de la división usual y regresa un número entero, el residuo de esta operación puede calcularse mediante el operador `%`, el cual siempre regresa a un entero como tipo.\n",
    "\n",
    "Antes de hablar sobre el uso de memoria en los número enteros, analicemos el siguiente meme:\n",
    "<center>\n",
    "        <img src = \"../Images/calc.jpeg\"  width=\"500\">\n",
    " </center>\n",
    " \n",
    " Lo que se muestra en patalla es algo común que ocurre al introducir operaciones matemáticas en una sola línea, cosa que también ocurre al realizar operaciones sobre el papel. No es claro, no hay una convención definitiva sobre cómo se leen las expresiones en las calculadoras, dado que las siguientes dos interpretaciones son válidas:\n",
    " \n",
    " $$ 6 / 2 (1 + 2) \\longrightarrow  \\frac{6}{2 \\,(1+2)} = 1 $$\n",
    " $$ 6 / 2 (1 + 2) \\longrightarrow  \\frac{6}{2}\\,(1 + 2) = 9 $$\n",
    " \n",
    " La primera de ellas lee la operació de izquierda a derecha, mientras que la segunda lo hace de derecha a izquierda. Recordemos que en programación esta opción no es trivial porque hemos empleado el hecho de forma implícita, que leemos de izquierda a derecha al usar el operador *set* `=`, por ejemplo en \n",
    "````python\n",
    " x = a == b\n",
    "````\n",
    "En particular Python lee las operaciones algebráicas de izquierda a derecha pero, una buena práctica es evitar este tipo de conflicto y emplear paréntesis para especificar el orden de las operaciones\n"
   ]
  },
  {
   "cell_type": "code",
   "execution_count": 7,
   "metadata": {},
   "outputs": [
    {
     "name": "stdout",
     "output_type": "stream",
     "text": [
      "9.0\n",
      "9.0\n",
      "1.0\n"
     ]
    }
   ],
   "source": [
    "print( 6 / 2 * (1 + 2) )\n",
    "print( (6 / 2) * (1 + 2) )\n",
    "print( 6 /(2 * (1 + 2)) )"
   ]
  },
  {
   "cell_type": "markdown",
   "metadata": {},
   "source": [
    "### 7.3.2. Almacenamiento de memoria y los enteros"
   ]
  },
  {
   "cell_type": "markdown",
   "metadata": {},
   "source": []
  },
  {
   "cell_type": "code",
   "execution_count": null,
   "metadata": {},
   "outputs": [],
   "source": []
  },
  {
   "cell_type": "code",
   "execution_count": null,
   "metadata": {},
   "outputs": [],
   "source": []
  },
  {
   "cell_type": "code",
   "execution_count": null,
   "metadata": {},
   "outputs": [],
   "source": []
  },
  {
   "cell_type": "markdown",
   "metadata": {
    "tags": []
   },
   "source": [
    "## 7.4. Números reales y complejos"
   ]
  },
  {
   "cell_type": "markdown",
   "metadata": {},
   "source": [
    "Los números reales, o números de punto flotante, se representan en Python usando el formato de número de punto flotante binario de doble precisión IEEE 754; en su mayor parte no necesita saber esto, pero es algo que más adelante en el curso revisaremos con detalle. El tipo utilizado para representar un número de coma flotante se llama `float`.\n",
    "Python representa números de punto flotante usando un punto decimal para separar toda la parte de la parte fraccionaria del número, por ejemplo:"
   ]
  },
  {
   "cell_type": "code",
   "execution_count": 9,
   "metadata": {},
   "outputs": [
    {
     "name": "stdout",
     "output_type": "stream",
     "text": [
      "1  cumple con que <class 'int'>\n",
      "1.0  cumple con que <class 'float'>\n"
     ]
    }
   ],
   "source": [
    "entero = 1\n",
    "flotante = 1.0.  # Ya con este cambio, tenemos un flotante\n",
    "\n",
    "print(entero, ' cumple con que', type(entero))\n",
    "print(flotante, ' cumple con que', type(flotante))"
   ]
  },
  {
   "cell_type": "markdown",
   "metadata": {},
   "source": [
    "Así como vimos que existía una función `int()`, existe su equivalente en flotante: `float()`. Ésta, funciona con strings, y para cambiar un entero momentaneamente a flotante,"
   ]
  },
  {
   "cell_type": "code",
   "execution_count": 2,
   "metadata": {},
   "outputs": [
    {
     "name": "stdout",
     "output_type": "stream",
     "text": [
      "int value as a float: 1.0 <class 'float'>\n",
      "string value as a float: 1.5 <class 'float'>\n"
     ]
    }
   ],
   "source": [
    "int_value = 1\n",
    "string_value = '1.5'  # Si este fuese el input de una variable, podríamos pasarlo a un valor flotante rápidamente con `float()`\n",
    "\n",
    "\n",
    "float_value = float(int_value)\n",
    "print('int value as a float:', float_value, type(float_value))\n",
    "\n",
    "float_value = float(string_value) \n",
    "print('string value as a float:', float_value, type(float_value))"
   ]
  },
  {
   "cell_type": "markdown",
   "metadata": {},
   "source": [
    "Los números complejos son el tercer tipo de Python de tipo numérico incorporado. Un número complejo se define por una parte real y una parte imaginaria y tiene la forma $a + i b$ (donde $i^2 = - 1$ es la parte imaginaria, $a$ y $b$ son números reales). De forma análoga a `float()` existe la funciín `complex()` la cual puede tener uno, o dos argumentos:"
   ]
  },
  {
   "cell_type": "code",
   "execution_count": 11,
   "metadata": {},
   "outputs": [
    {
     "name": "stdout",
     "output_type": "stream",
     "text": [
      "z =  (3+5j) <class 'complex'>\n",
      "z.real =  3.0 y es tipo:  <class 'float'>\n",
      "z.imag =  5.0 y es tipo:  <class 'float'>\n",
      "\n",
      "x =  1.0 con tipo <class 'float'>\n",
      "complex(x) =  (1+0j)\n",
      "complex(x, 5) =  (1+5j)\n"
     ]
    }
   ],
   "source": [
    "z = 3+ 5j\n",
    "print('z = ', z, type(z))\n",
    "\n",
    "# Podemos emplear a los `atributos` de estas variables (no confundir con los métodos) para agarrar la parte real o imaginaria del complejo\n",
    "print('z.real = ', z.real, 'y es tipo: ', type(z.real))  # Notemos que al escribira a la unidad imaginaria, nuestra variable toma un tipo flotante en cada una de sus entradas\n",
    "print('z.imag = ', z.imag, 'y es tipo: ', type(z.imag))\n",
    "\n",
    "x = 1.  # Un flotante\n",
    "print('\\nx = ', x, 'con tipo', type(x))\n",
    "print(  \"complex(x) = \", complex( x ))\n",
    "print(  \"complex(x, 5) = \", complex( x, 5 )) # Le puede poner otro argumento"
   ]
  },
  {
   "cell_type": "markdown",
   "metadata": {},
   "source": [
    "Con las operaciones aritméticas definadas de Python sí que podemos emplear a los números complejos:"
   ]
  },
  {
   "cell_type": "code",
   "execution_count": 12,
   "metadata": {},
   "outputs": [
    {
     "data": {
      "text/plain": [
       "(-1+1.2246467991473532e-16j)"
      ]
     },
     "execution_count": 12,
     "metadata": {},
     "output_type": "execute_result"
    }
   ],
   "source": [
    "(-1) ** (.5)  # equivalente a (-1)^(.5) = (-1)^(1/2) = sqrt(-1) = i\n",
    "euler = 2.718281828459045;\n",
    "pi = 3.141592653589793\n",
    "\n",
    "# Fórmula de Euler: e^(i Pi) = -1\n",
    "euler ** (1j * pi )"
   ]
  },
  {
   "cell_type": "markdown",
   "metadata": {},
   "source": [
    "A pesar de que pueden emlpearse estos métodos para obtener a los números complejos, quedan al aire dos puntos:\n",
    "* ¿No hay una formámás fácil de acceder a las constantes ed arriba?\n",
    "* La notación es muy distinta comparada a lo estándar en otros lenguajes.\n",
    "Y la respuesta a ambos cometarios son los usos de librerias"
   ]
  },
  {
   "cell_type": "markdown",
   "metadata": {},
   "source": [
    "### 7.4.1. Librerias *math* y *cmath*"
   ]
  },
  {
   "cell_type": "markdown",
   "metadata": {},
   "source": [
    "La librería *math* que usa algoritmos escritos en C que Python llama. Este permite cálculos más eficientes, como se puede leer en su [documentación](https://docs.python.org/3/library/math.html#math.frexp). Para usar esta libreria podemos usar los siguientes comandos:\n",
    "````python\n",
    "import math\n",
    "from math import *\n",
    "import math as <identificador>\n",
    "````"
   ]
  },
  {
   "cell_type": "code",
   "execution_count": 33,
   "metadata": {},
   "outputs": [
    {
     "name": "stdout",
     "output_type": "stream",
     "text": [
      "math.pi =  3.141592653589793\n",
      "math.e =  2.718281828459045\n",
      "math.sqrt(25) =  5.0\n",
      "25 ** (.5) =  5.0\n",
      "math.exp(10) =  22026.465794806718\n",
      "math.e ** (10) =  22026.465794806703\n"
     ]
    },
    {
     "ename": "TypeError",
     "evalue": "can't convert complex to float",
     "output_type": "error",
     "traceback": [
      "\u001b[0;31m---------------------------------------------------------------------------\u001b[0m",
      "\u001b[0;31mTypeError\u001b[0m                                 Traceback (most recent call last)",
      "\u001b[0;32m<ipython-input-33-5658e427b430>\u001b[0m in \u001b[0;36m<module>\u001b[0;34m\u001b[0m\n\u001b[1;32m     12\u001b[0m \u001b[0mprint\u001b[0m\u001b[0;34m(\u001b[0m\u001b[0;34m\"math.e ** (10) = \"\u001b[0m\u001b[0;34m,\u001b[0m \u001b[0mmath\u001b[0m\u001b[0;34m.\u001b[0m\u001b[0me\u001b[0m \u001b[0;34m**\u001b[0m \u001b[0;34m(\u001b[0m\u001b[0;36m10\u001b[0m\u001b[0;34m)\u001b[0m\u001b[0;34m)\u001b[0m\u001b[0;34m\u001b[0m\u001b[0;34m\u001b[0m\u001b[0m\n\u001b[1;32m     13\u001b[0m \u001b[0;34m\u001b[0m\u001b[0m\n\u001b[0;32m---> 14\u001b[0;31m \u001b[0mmath\u001b[0m\u001b[0;34m.\u001b[0m\u001b[0mexp\u001b[0m\u001b[0;34m(\u001b[0m \u001b[0mmath\u001b[0m\u001b[0;34m.\u001b[0m\u001b[0mpi\u001b[0m \u001b[0;34m*\u001b[0m \u001b[0;36m1j\u001b[0m\u001b[0;34m)\u001b[0m \u001b[0;31m# Pero no funcionan estas funciones con números complejos...\u001b[0m\u001b[0;34m\u001b[0m\u001b[0;34m\u001b[0m\u001b[0m\n\u001b[0m",
      "\u001b[0;31mTypeError\u001b[0m: can't convert complex to float"
     ]
    }
   ],
   "source": [
    "import math\n",
    "\n",
    "print(\"math.pi = \", math.pi ) # Todas las funciones o varibales del paquete van a ser llamadas con math.<elemento>. \n",
    "                              # Al prefijo se le conoce como el `método` ya que hace referencia a una biblioteca particular.\n",
    "print(\"math.e = \", math.e )\n",
    "    \n",
    "# De esta forma, no sólo tenemos cálculo más rápidos que los usual, sino que en algunos casos con mayor presición\n",
    "print(\"math.sqrt(25) = \", math.sqrt(25))\n",
    "print(\"25 ** (.5) = \", 25 ** (.5) )\n",
    "\n",
    "print(\"math.exp(10) = \", math.exp(10))\n",
    "print(\"math.e ** (10) = \", math.e ** (10))\n",
    "\n",
    "math.exp( math.pi * 1j) # Pero no funcionan estas funciones con números complejos...\n"
   ]
  },
  {
   "cell_type": "markdown",
   "metadata": {},
   "source": [
    "Una ampliciacón de esta biblioteca es *cmath*, que pueden consultar [acá](https://docs.python.org/3/library/cmath.html#module-cmath)."
   ]
  },
  {
   "cell_type": "code",
   "execution_count": 34,
   "metadata": {},
   "outputs": [
    {
     "data": {
      "text/plain": [
       "(-1+1.2246467991473532e-16j)"
      ]
     },
     "execution_count": 34,
     "metadata": {},
     "output_type": "execute_result"
    }
   ],
   "source": [
    "import cmath\n",
    "\n",
    "cmath.exp( math.pi * 1j) "
   ]
  },
  {
   "cell_type": "markdown",
   "metadata": {},
   "source": [
    "Notemos que en las dos bibliotecas hay funcioes semejantes. La finalidad de los *métodos* es para que Python no tega problemas con los nombres de las funciones ya declaradas"
   ]
  },
  {
   "cell_type": "code",
   "execution_count": 37,
   "metadata": {},
   "outputs": [
    {
     "name": "stdout",
     "output_type": "stream",
     "text": [
      "2.718281828459045\n",
      "2.718281828459045\n",
      "cmath.e == math.e =  True\n"
     ]
    }
   ],
   "source": [
    "print( math.e )\n",
    "print( cmath.e)\n",
    "print( \"cmath.e == math.e = \", cmath.e == math.e) "
   ]
  },
  {
   "cell_type": "markdown",
   "metadata": {},
   "source": [
    "### 7.4.2. Aritmética de punto flotante"
   ]
  },
  {
   "cell_type": "code",
   "execution_count": null,
   "metadata": {},
   "outputs": [],
   "source": []
  },
  {
   "cell_type": "code",
   "execution_count": null,
   "metadata": {},
   "outputs": [],
   "source": []
  },
  {
   "cell_type": "code",
   "execution_count": null,
   "metadata": {},
   "outputs": [],
   "source": []
  },
  {
   "cell_type": "markdown",
   "metadata": {
    "tags": []
   },
   "source": [
    "# 8. Operadores de asignación "
   ]
  },
  {
   "cell_type": "markdown",
   "metadata": {},
   "source": [
    "Anteriormente  presentamos brevemente el operador de asignación `=` que se utilizó para asignar un valor a una variable. De hecho, hay varios operadores de asignación diferentes que podrían usarse con valores numérico.\n",
    "\n",
    "En realidad, estos operadores de asignación se denominan operadores compuestos, ya que combinan una operación numérica (como sumar) con el operador de asignación. Por ejemplo, el operador compuesto `+=` es una combinación del operador *suma* y el operador `= tal que"
   ]
  },
  {
   "cell_type": "code",
   "execution_count": 23,
   "metadata": {},
   "outputs": [],
   "source": [
    "x = 0\n",
    "x += 5 # has the same behaviour as x = x + 5"
   ]
  },
  {
   "cell_type": "markdown",
   "metadata": {},
   "source": [
    "La siguiente tabla proporciona una lista de los operadores compuestos disponibles.\n",
    "\n",
    "\n",
    "|Operador|                      Descripción                  |  Ejemplo | Equivalente |\n",
    "|--------|---------------------------------------------------|----------|-------------|\n",
    "|  `+=`  |   Agregue el valor a la variable de la izquierda  | `x += 2` |`x =  x + 2` |\n",
    "|  `-=`  |   Resta el valor de la variable de la izquierda   | `x -= 2` |`x =  x - 2` |\n",
    "|  `*=`  |Multiplica la variable de la izquierda por el valor| `x *= 2` |`x =  x * 2` |\n",
    "|  `/=`  |Divide el valor variable por el valor de la derecha| `x /= 2` |`x =  x / 2` |\n",
    "| `//=`  |Use la división entera para dividir el valor de la variable por el valor de la derecha|  `x //= 2` |`x = x // 2` |\n",
    "|  `%=`  |Use el operador de módulo para aplicar el valor de la derecha a la variable|  `x %= 2` |`x =  x % 2` |\n",
    "| `**=`  |Apliqua el operador potencia para aumentar el valor de la variable por el valor suministrado|  `x **= 3` |`x =  x **2` |"
   ]
  },
  {
   "cell_type": "markdown",
   "metadata": {},
   "source": [
    "# 9. `None` y operadores de identidad"
   ]
  },
  {
   "cell_type": "markdown",
   "metadata": {},
   "source": [
    "Python tiene un tipo especial, NoneType, con un solo valor, `None`. Esto se usa para representar valores nulos o nada. No es lo mismo que `False`, o una cadena vacía o $0$; Es un *no-valor*. Puede ser se usa cuando necesita crear una variable pero no tiene un valor inicial para ella; puede consultar más información [aquí](https://realpython.com/null-in-python/)."
   ]
  },
  {
   "cell_type": "code",
   "execution_count": 47,
   "metadata": {},
   "outputs": [
    {
     "name": "stdout",
     "output_type": "stream",
     "text": [
      "None\n"
     ]
    },
    {
     "ename": "TypeError",
     "evalue": "unsupported operand type(s) for +=: 'NoneType' and 'int'",
     "output_type": "error",
     "traceback": [
      "\u001b[0;31m---------------------------------------------------------------------------\u001b[0m",
      "\u001b[0;31mTypeError\u001b[0m                                 Traceback (most recent call last)",
      "\u001b[0;32m<ipython-input-47-66286419ed8d>\u001b[0m in \u001b[0;36m<module>\u001b[0;34m\u001b[0m\n\u001b[1;32m      2\u001b[0m \u001b[0;34m\u001b[0m\u001b[0m\n\u001b[1;32m      3\u001b[0m \u001b[0mprint\u001b[0m\u001b[0;34m(\u001b[0m\u001b[0mwinner\u001b[0m\u001b[0;34m)\u001b[0m  \u001b[0;31m# Lo que sí puede hacerse es imprimir la leyenda \"None\", para na variable de este estlo\u001b[0m\u001b[0;34m\u001b[0m\u001b[0;34m\u001b[0m\u001b[0m\n\u001b[0;32m----> 4\u001b[0;31m \u001b[0mwinner\u001b[0m \u001b[0;34m+=\u001b[0m \u001b[0;36m1\u001b[0m \u001b[0;31m# Como winner no tiene un valor, no le podemos incrementar algo más\u001b[0m\u001b[0;34m\u001b[0m\u001b[0;34m\u001b[0m\u001b[0m\n\u001b[0m",
      "\u001b[0;31mTypeError\u001b[0m: unsupported operand type(s) for +=: 'NoneType' and 'int'"
     ]
    }
   ],
   "source": [
    "winner = None  # Es decir, no le hemos asignado un valor, entonces no va a haber operaciones sobre ésta\n",
    "\n",
    "print(winner)  # Lo que sí puede hacerse es imprimir la leyenda \"None\", para na variable de este estlo\n",
    "winner += 1 # Como winner no tiene un valor, no le podemos incrementar algo más"
   ]
  },
  {
   "cell_type": "code",
   "execution_count": 49,
   "metadata": {},
   "outputs": [
    {
     "name": "stdout",
     "output_type": "stream",
     "text": [
      "Hello, World!\n",
      "None\n"
     ]
    }
   ],
   "source": [
    "winner = print(\"Hello, World!\")  # Notemos que la función print, imprime algo, pero no da algún otro valor, entonces Python lo reconoce como un None\n",
    "print(winner) "
   ]
  },
  {
   "cell_type": "code",
   "execution_count": 57,
   "metadata": {},
   "outputs": [
    {
     "name": "stdout",
     "output_type": "stream",
     "text": [
      "x is y =  False\n",
      "x is not y =  True\n"
     ]
    }
   ],
   "source": [
    "x = 8\n",
    "y = 10\n",
    "\n",
    "print( 'x is y = ', x is y)   # Muy parecido a ==\n",
    "print( 'x is not y = ', x is not y) # Muy parecido a !="
   ]
  },
  {
   "cell_type": "markdown",
   "metadata": {},
   "source": [
    "Escribir ciclos que:\n",
    "\n",
    "* Genere todos los enteros entre $0$ y $n$\n",
    "* Calcule la suma de los primero $n$ naturales, sin usar la fórmula de Gauss\n",
    "* Evalué si un numero es primo\n",
    "* Deternime todos los primos previos a $n$\n",
    "* Cálcule el factorila de $n$\n",
    "* Encuentre los números de la serie de Fibonacci previos a un número entero $n$ dado.\n"
   ]
  },
  {
   "cell_type": "markdown",
   "metadata": {},
   "source": [
    "# Bibliografía"
   ]
  },
  {
   "cell_type": "markdown",
   "metadata": {},
   "source": [
    "* 1. Wei-Bing Lin, J., 2012. A Hands-On Introduction to Using Python in the Atmospheric and Oceanic Sciences. 1st ed. [ebook] lulu, pp.1 to 209. Available at: <https://www.lulu.com/commerce/index.php?fBuyContent=13110573&page=1&pageSize=4> [Accessed 19 May 2021].\n",
    "* 2. Langtangen, H., 2009. A Primer on Scientific Programming with Python. Leipzig, Germany: Springer, p.all.\n",
    "* 3. Heath, M., 2009. Scientific computing. 1st ed. Boston, Mass: McGraw Hill, p.all.\n",
    "* 4. Johansson, R., n.d. Numerical python. 2nd ed. New York: Springer, p.all.\n",
    "* 5. Hunt, J., 2019. A Begginers Guide to Python 3 Programming. 1st ed. Cham, Suiza: Springer, p.all."
   ]
  }
 ],
 "metadata": {
  "kernelspec": {
   "display_name": "Python 3",
   "language": "python",
   "name": "python3"
  },
  "language_info": {
   "codemirror_mode": {
    "name": "ipython",
    "version": 3
   },
   "file_extension": ".py",
   "mimetype": "text/x-python",
   "name": "python",
   "nbconvert_exporter": "python",
   "pygments_lexer": "ipython3",
   "version": "3.6.9"
  }
 },
 "nbformat": 4,
 "nbformat_minor": 4
}
