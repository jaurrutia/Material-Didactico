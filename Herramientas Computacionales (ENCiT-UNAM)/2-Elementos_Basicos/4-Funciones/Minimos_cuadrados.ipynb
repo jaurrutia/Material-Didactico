{
 "cells": [
  {
   "cell_type": "markdown",
   "id": "5f51a0b8-e58b-4056-9826-c5a9e8d8d84a",
   "metadata": {},
   "source": [
    "\n",
    "<center>\n",
    "<img src = \"../../Images/Minimos.png\"  width=\"500\" height=\"300\"/>\n",
    "    </center>"
   ]
  },
  {
   "cell_type": "code",
   "execution_count": 48,
   "id": "92d04521-c929-4ce3-b616-facaf6cb6e62",
   "metadata": {},
   "outputs": [],
   "source": [
    "x_list = []\n",
    "y_list = []\n",
    "z_list = [0]\n",
    "for i in range(0,50):\n",
    "    x_list.append(i)\n",
    "    y_list.append(30*i+8)\n",
    "    z_list.append(30*i+8)"
   ]
  },
  {
   "cell_type": "code",
   "execution_count": 49,
   "id": "b3fff5ff-faa6-4dff-ad2e-a6733d7d6adf",
   "metadata": {},
   "outputs": [
    {
     "data": {
      "text/plain": [
       "51"
      ]
     },
     "execution_count": 49,
     "metadata": {},
     "output_type": "execute_result"
    }
   ],
   "source": [
    "len(z_list)"
   ]
  },
  {
   "cell_type": "code",
   "execution_count": 35,
   "id": "a477f74d-d0db-4bb6-a633-5e13580cffb0",
   "metadata": {},
   "outputs": [],
   "source": [
    "i = 0\n",
    "S_x = 0\n",
    "S_xx = 0\n",
    "S_y = 0\n",
    "S_xy = 0\n",
    "\n",
    "while i < len(x_list):\n",
    "    S_x += x_list[i]\n",
    "    S_xx += x_list[i] * x_list[i]\n",
    "    S_y += y_list[i]\n",
    "    S_xy += x_list[i] * y_list[i]\n",
    "    i += 1\n",
    "n = i"
   ]
  },
  {
   "cell_type": "code",
   "execution_count": 36,
   "id": "977efaad-576c-4bef-aa87-d8196edca7fb",
   "metadata": {},
   "outputs": [],
   "source": [
    "m = (n * S_xy - S_x * S_y)/(n * S_xx - S_x*S_x)\n",
    "b = (S_xx * S_y - S_xy * S_x)/(n * S_xx - S_x*S_x)"
   ]
  },
  {
   "cell_type": "code",
   "execution_count": 52,
   "id": "9bf93887-821f-45ca-8571-4f7a54373e0f",
   "metadata": {},
   "outputs": [
    {
     "ename": "SyntaxError",
     "evalue": "invalid syntax (<ipython-input-52-05d88df2a724>, line 7)",
     "output_type": "error",
     "traceback": [
      "\u001b[0;36m  File \u001b[0;32m\"<ipython-input-52-05d88df2a724>\"\u001b[0;36m, line \u001b[0;32m7\u001b[0m\n\u001b[0;31m    if(len(x_list) != len(y_list) :\u001b[0m\n\u001b[0m                                  ^\u001b[0m\n\u001b[0;31mSyntaxError\u001b[0m\u001b[0;31m:\u001b[0m invalid syntax\n"
     ]
    }
   ],
   "source": [
    "def minimos_cuadrados(x_list, y_list):\n",
    "    '''minimos_cuadrados(x_list, y_list)\\n\n",
    "    Es el algoritmo que permite calcular la recta que mejor ajuste a un conjunto de datos asumiendo que tiene un comportamiento lineal.\n",
    "    El valor que regresa es una lista que contiene la pendiente y la ordenada al orgien de dicha recta.\n",
    "    La función requiere de dos listas de la misma longitud.\n",
    "    '''\n",
    "    if(len(x_list) != len(y_list) :\n",
    "       return print(\"Las listas tienen longitudes distintas.\")\n",
    "    \n",
    "    i = 0                                    # Contador\n",
    "    S_x , S_xx , S_y , S_xy = 0 , 0 , 0 , 0  # Sumas de las expresiones de mínimos cuadrados, inicializadas en cero\n",
    "\n",
    "    while i < len(x_list):                    # Para cada uno de los datos, opera las sumas\n",
    "        S_x += x_list[i]\n",
    "        S_xx += x_list[i] * x_list[i]\n",
    "        S_y += y_list[i]\n",
    "        S_xy += x_list[i] * y_list[i]\n",
    "        i += 1\n",
    "    det = n * S_xx - S_x*S_x\n",
    "    m = (n * S_xy - S_x * S_y) / det\n",
    "    b = (S_xx * S_y - S_xy * S_x) / det\n",
    "    return [m, b]   \n",
    "    "
   ]
  },
  {
   "cell_type": "code",
   "execution_count": 47,
   "id": "f7e52484-f016-48a4-a839-2fdc7bd6c03d",
   "metadata": {},
   "outputs": [
    {
     "name": "stdout",
     "output_type": "stream",
     "text": [
      "minimos_cuadrados(x_list, y_list)\n",
      "\n",
      "    Es el algoritmo que permite calcular la recta que mejor ajuste a un conjunto de datos asumiendo que tiene un comportamiento lineal.\n",
      "    El valor que regresa es una lista que contiene la pendiente y la ordenada al orgien de dicha recta.\n",
      "    La función requiere de dos listas de la misma longitud.\n",
      "    \n"
     ]
    }
   ],
   "source": [
    "print(minimos_cuadrados.__doc__)"
   ]
  },
  {
   "cell_type": "code",
   "execution_count": 51,
   "id": "3c567293-17f9-40a0-96b3-2be35f95df7f",
   "metadata": {},
   "outputs": [
    {
     "name": "stdout",
     "output_type": "stream",
     "text": [
      "Las listas tienen longitudes distintas.\n"
     ]
    }
   ],
   "source": [
    "minimos_cuadrados(x_list, y_list)\n",
    "minimos_cuadrados(x_list, z_list)"
   ]
  },
  {
   "cell_type": "code",
   "execution_count": null,
   "id": "944245be-a683-4fef-bde3-b203aa9fb3cc",
   "metadata": {},
   "outputs": [],
   "source": []
  }
 ],
 "metadata": {
  "kernelspec": {
   "display_name": "Python 3",
   "language": "python",
   "name": "python3"
  },
  "language_info": {
   "codemirror_mode": {
    "name": "ipython",
    "version": 3
   },
   "file_extension": ".py",
   "mimetype": "text/x-python",
   "name": "python",
   "nbconvert_exporter": "python",
   "pygments_lexer": "ipython3",
   "version": "3.6.9"
  }
 },
 "nbformat": 4,
 "nbformat_minor": 5
}
