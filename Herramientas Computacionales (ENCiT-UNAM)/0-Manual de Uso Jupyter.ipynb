{
 "cells": [
  {
   "cell_type": "markdown",
   "metadata": {},
   "source": [
    "# Jupyter Notebook Manual de uso"
   ]
  },
  {
   "cell_type": "markdown",
   "metadata": {},
   "source": [
    "#### Pedro Porras &  Jonathan Urruita"
   ]
  },
  {
   "cell_type": "markdown",
   "metadata": {},
   "source": [
    "Este *Notebook* describe la funcionalidad del sistema de documentos electrónicos [Jupyter](http://jupyter.org). Los documentos de Jupyter se llaman \"notebooks\" en ellos se puede realizar bastantes tareas. Por ejemplo, los notebooks permiten:\n",
    "\n",
    "* creación en un **navegador web estándar**\n",
    "* directo **compartir**\n",
    "* usar **texto con estilos** (como cursiva y títulos) para ser marcado explícitamente usando un [idioma de wikitexto] (http://en.wikipedia.org/wiki/Wiki_markup)\n",
    "* fácil creación y visualización de bellas **ecuaciones**\n",
    "* creación y ejecución de programas \n",
    "* fácil creación y visualización de **visualizaciones interactivas**\n",
    "\n",
    "Los notebooks de Jupyter (anteriormente llamados \"IPython notebook\") son interesantes y útiles para diferentes grupos de personas:\n",
    "\n",
    "* lectores que desean ver y ejecutar programas de computadora\n",
    "* autores que desean crear documentos ejecutables o documentos con visualizaciones"
   ]
  },
  {
   "cell_type": "markdown",
   "metadata": {},
   "source": [
    "### Índice\n",
    "\n",
    "* [1. Diferentes tipos de Celdas](#1.-Diferentes-tipos-de-Celdas)\n",
    "\t* [1.1 Celda de código](#1.1-Celda-de-código)\n",
    "\t\t* [1.1.1 Diseño de celda de código](#1.1.1-Diseño-de-celda-de-código)\n",
    "\t\t\t* [1.1.1.1 Configuración de fila (configuración predeterminada)](#1.1.1.1-Configuración-de-fila-%28configuración-predeterminada%29)\n",
    "\t\t\t* [1.1.1.2 Tabulación de celda](#1.1.1.2-Tabulación-de-celda)\n",
    "\t* [1.2 Celda Markdown](#1.2-Celda-Markdown)\n",
    "\t* [1.3 Celdas Raw](#1.3-Celdas-Raw)\n",
    "\t* [1.4 Celdas de encabezado](#1.4-Celdas-de-encabezado)\n",
    "\t\t* [1.4.1 Vinculación](#1.4.1-Vinculación)\n",
    "\t\t* [1.4.2 Numeración automática de secciones y soporte de tabla de contenido](#1.4.2-Numeración-automática-de-secciones-y-soporte-de-tabla-de-contenido)\n",
    "\t\t\t* [1.4.2.1 Numeración automática de secciones](#1.4.2.1-Numeración-automática-de-secciones)\n",
    "\t\t\t* [1.4.2.2 Tabla de contenido](#1.4.2.2-Tabla-de-contenido)\n",
    "\t\t\t* [1.4.2.3 Uso de numeración automática de secciones y soporte de tabla de contenido](#1.4.2.3-Uso-de-numeración-automática-de-secciones-y-soporte-de-tabla-de-contenido)\n",
    "* [2. Atajos de teclado](#2.-Atajos-de-teclado)\n",
    "* [3. Uso de celdas Markdown para escribir](#3.-Uso-de-celdas-Markdown-para-escribir)\n",
    "    * [3.1 Elementos de Bloque](#3.1-Elementos-de-Bloque)\n",
    "    * [3.2 Backslash Escape](#3.2-Backslash-Escape)\n",
    "    * [3.3 Hipervínculos](#3.3-Hipervínculos)\n",
    "    * [3.4 Tablas](#3.4-Tablas)\n",
    "    * [3.5 Estilo y  Énfasis](#3.5-Estilo-y--Énfasis)\n",
    "    * [3.6 Otros caracteres](#3.6-Otros-caracteres)\n",
    "    * [3.7 Incluyendo ejemplos de código](#3.7-Incluyendo-ejemplos-de-código)\n",
    "    * [3.8 Imagenes](#3.8-Imagenes)\n",
    "    * [3.9 Código LaTeX](#3.9-Código-LaTeX)\n",
    "* [4. Bibliografías](#4.-Bibliografías)\n",
    "    * [4.1 Crear una base de datos Bibtex](#4.1-Crear-una-base-de-datos-Bibtex)\n",
    "    * [4.2 Comandos de citas e ID de citas](#4.2-Comandos-de-citas-e-ID-de-citas)\n",
    "* [5. Referencias](#5.-Referencias)\n"
   ]
  },
  {
   "cell_type": "markdown",
   "metadata": {},
   "source": [
    "# 1. Diferentes tipos de Celdas"
   ]
  },
  {
   "cell_type": "markdown",
   "metadata": {},
   "source": [
    "Básicamente, hay cuatro tipos de celdas en su cuaderno Jupyter:\n",
    "\n",
    "* celdas de código *Code Cells*\n",
    "* celdas de radacción *Markdown Cells*\n",
    "* celdas sin formato *Raw NBConvert*\n",
    "* celdas de encabezado *Heading* aunque hay seis niveles de celdas de encabezado."
   ]
  },
  {
   "cell_type": "markdown",
   "metadata": {},
   "source": [
    "## 1.1 Celda de código"
   ]
  },
  {
   "cell_type": "markdown",
   "metadata": {},
   "source": [
    " \n",
    "Por defecto, las celdas de código de Jupyter Notebooks ejecutarán Python. Los notebooks de Jupyter generalmente también admiten los comandos JavaScript, Python, HTML y Bash. Para obtener una lista más completa, consulte la documentación de su Kernel.\n"
   ]
  },
  {
   "cell_type": "code",
   "execution_count": 1,
   "metadata": {},
   "outputs": [
    {
     "name": "stdout",
     "output_type": "stream",
     "text": [
      "Hello, world!\n"
     ]
    }
   ],
   "source": [
    "print( 'Hello, world!')"
   ]
  },
  {
   "cell_type": "markdown",
   "metadata": {},
   "source": [
    "### 1.1.1 Diseño de celda de código"
   ]
  },
  {
   "cell_type": "markdown",
   "metadata": {},
   "source": [
    "Las celdas de código tienen un componente de entrada y otro de salida. Puede ver estos componentes de tres maneras diferentes.\n",
    " "
   ]
  },
  {
   "cell_type": "markdown",
   "metadata": {},
   "source": [
    "#### 1.1.1.1 Configuración de fila (configuración predeterminada)"
   ]
  },
  {
   "cell_type": "markdown",
   "metadata": {},
   "source": [
    "A menos que especifique lo contrario, sus celdas de código siempre se configurarán de esta manera, con los componentes de entrada y salida apareciendo como filas horizontales y con la entrada por encima de la salida. A continuación se muestra un ejemplo de una celda de código en esta configuración predeterminada: "
   ]
  },
  {
   "cell_type": "code",
   "execution_count": 4,
   "metadata": {},
   "outputs": [
    {
     "data": {
      "text/plain": [
       "58"
      ]
     },
     "execution_count": 4,
     "metadata": {},
     "output_type": "execute_result"
    }
   ],
   "source": [
    "# En esta celda escribo como lo haría en un archivo de texto\n",
    "# Esta celda no se ejecuta hasta que teclemos Shift + Enter\n",
    "\n",
    "34 + 24\n",
    "\n",
    "\n",
    "\n",
    "\n"
   ]
  },
  {
   "cell_type": "markdown",
   "metadata": {},
   "source": [
    "#### 1.1.1.2 Tabulación de celda"
   ]
  },
  {
   "cell_type": "markdown",
   "metadata": {},
   "source": [
    "La tabulación de celdas le permite ver los componentes de entrada y salida de una celda por separado. También le permite ocultar cualquier componente detrás del otro, lo que puede ser útil al crear visualizaciones de datos. A continuación se muestra un ejemplo de una celda de código con pestañas: "
   ]
  },
  {
   "cell_type": "code",
   "execution_count": 12,
   "metadata": {},
   "outputs": [
    {
     "data": {
      "text/plain": [
       "58"
      ]
     },
     "execution_count": 12,
     "metadata": {},
     "output_type": "execute_result"
    }
   ],
   "source": [
    "34+24"
   ]
  },
  {
   "cell_type": "markdown",
   "metadata": {},
   "source": [
    "## 1.2 Celda Markdown"
   ]
  },
  {
   "cell_type": "markdown",
   "metadata": {},
   "source": [
    "En los notebooks Jupyter, las celdas Markdown son la forma más fácil de escribir y formatear texto. Para obtener una explicación más detallada de cómo escribir en las celdas Markdown, consulte [Puedo poner lo que quiera][w]. [Esto es otra forma](#1.-Diferentes-tipos-de-Celdas \"Tipos de celdas\" )\n",
    "\n",
    "[w]: #1.-Diferentes-tipos-de-Celdas \"Tipos de celdas\" \n",
    "\n"
   ]
  },
  {
   "cell_type": "markdown",
   "metadata": {},
   "source": [
    "Esta es una celda tipo ***Markdown***"
   ]
  },
  {
   "cell_type": "markdown",
   "metadata": {},
   "source": [
    "## 1.3 Celdas Raw"
   ]
  },
  {
   "cell_type": "markdown",
   "metadata": {},
   "source": [
    "Las celdas sin procesar, a diferencia de todas las demás celdas de Jupyter Notebook, no tienen distinción de entrada-salida. Esto significa que las celdas sin procesar no se pueden convertir en nada más que lo que ya son. Si hace clic en el botón Ejecutar en su barra de herramientas con una Celda sin procesar seleccionada, la celda permanecerá exactamente como está y su Jupyter Notebook seleccionará automáticamente la celda directamente debajo de ella. Las celdas sin formato no tienen opciones de estilo, solo la misma fuente monoespacial que utiliza en todas las demás celdas de Notebook sin procesar. No puede poner en negrita, cursiva o agrandar ningún texto o caracteres en una celda sin formato.\n",
    "\n",
    "Debido a que no tienen forma renderizada, las celdas sin procesar se utilizan principalmente para crear ejemplos. Si guarda y cierra su Notebook y luego lo vuelve a abrir, todas las celdas de Código, Markdown y Encabezado se procesarán automáticamente en la forma que las dejó cuando cerró el documento por primera vez. Esto significa que si desea preservar la versión no entregada de una celda, por ejemplo si estaba escribiendo un artículo de física biomedica y necesitaba ejemplos de código, o si estaba escribiendo [documentación sobre cómo usar Markdown] [escribiendo markdown] y necesitaba demostrar qué entrada produciría qué salida, entonces es posible que desee utilizar una celda sin procesar para asegurarse de que sus ejemplos se mantuvieron en su forma más útil.\n",
    "\n",
    "[writing markdown]: #4.-Using-Markdown-Cells-for-Writing \"Using Markdown Cells for Writing\""
   ]
  },
  {
   "cell_type": "raw",
   "metadata": {},
   "source": [
    "print(\"Hello world!\")"
   ]
  },
  {
   "cell_type": "markdown",
   "metadata": {},
   "source": [
    "## 1.4 Celdas de encabezado"
   ]
  },
  {
   "cell_type": "markdown",
   "metadata": {},
   "source": [
    "Si bien es posible organizar su documento usando [Encabezados de Markdown] [], las Celdas de encabezado proporcionan una organización más profundamente estructural para su Notebook y, por lo tanto, existen varias ventajas al usarlos."
   ]
  },
  {
   "cell_type": "markdown",
   "metadata": {},
   "source": [
    "### 1.4.1 Vinculación"
   ]
  },
  {
   "cell_type": "markdown",
   "metadata": {},
   "source": [
    "Las celdas de encabezado tienen ubicaciones específicas dentro de su computadora portátil. Esto significa que puede usarlos para [crear enlaces internos de Notebook](#1.2-Celda-Markdown \"Notebook-Internal Links\")."
   ]
  },
  {
   "cell_type": "markdown",
   "metadata": {},
   "source": [
    "### 1.4.2 Numeración automática de secciones y soporte de tabla de contenido"
   ]
  },
  {
   "cell_type": "markdown",
   "metadata": {},
   "source": [
    "Su Jupyter Notebook tiene dos herramientas útiles que utilizan la organización estructural que las celdas de encabezado le dan a su documento: numeración automática de secciones y generación de tabla de contenido."
   ]
  },
  {
   "cell_type": "markdown",
   "metadata": {},
   "source": [
    "* Viñeta principal\n",
    "    * subviñeta\n",
    "        * subsubviñeta\n",
    "            * subsubsubviñeta\n",
    "* Otra viñeta\n",
    "* Una más"
   ]
  },
  {
   "cell_type": "markdown",
   "metadata": {},
   "source": [
    "#### 1.4.2.1 Numeración automática de secciones"
   ]
  },
  {
   "cell_type": "markdown",
   "metadata": {},
   "source": [
    "Supongamos que está escribiendo un artículo y, como es probable que suceda cuando tiene muchos pensamientos complicados que zumban en su cerebro, ha reorganizado sus ideas varias veces. La numeración automática de secciones pasará por su computadora portátil y numerará sus secciones y subsecciones según lo designado por sus celdas de encabezado. Esto significa que si ha movido una o más secciones grandes varias veces, no tendrá que revisar su notebook y volver a numerarlo, así como todas sus subsecciones, usted mismo.\n",
    "\n",
    "\n",
    "\n",
    "**Notas:** Herramienta de triple alternancia de numeración automática de secciones, por lo que cuando haga clic en el botón Secciones numéricas, se producirá una de tres acciones: la numeración automática de secciones numerará sus secciones, corregirá la numeración inconsistente o anulará el número de sus secciones (si todas las secciones ya están numeradas de manera consistente y correcta).\n",
    "\n",
    "Por lo tanto, incluso si ya ha numerado sus secciones, la numeración automática de secciones revisará su documento, eliminará los números de sección actuales y los reemplazará por el número correcto en una secuencia lineal. Esto significa que si su tercera sección fue alguna vez su segunda, la numeración automática de la sección eliminará el \"2\" delante del nombre de su sección y lo reemplazará con un \"3\".\n",
    "\n",
    "Si bien esta función le ahorra mucho tiempo, crea una limitación. Tal vez estás escribiendo un artículo sobre libros para niños y uno de los libros que estás discutiendo se llama **`2 Cats`**. Como era de esperar, ha titulado la sección donde resume y analiza este libro **`2 Cats`**. La numeración automática de la sección asumirá que el número 2 es información de la sección y la eliminará, dejando solo el título **`Cats`**. Sin embargo, si escribe en negrita, en cursiva o coloca el título de la sección entre comillas, se conservará todo el título de la sección sin ningún problema. También debe tenerse en cuenta que incluso si debe titular una sección con un número que aparece antes de cualquier letra y no desea ponerla en negrita, en cursiva o colocarla entre comillas, siempre puede ejecutar la numeración automática de secciones y luego ir a esa sección y vuelva a escribir su nombre a mano.\n",
    "\n",
    "Debido a que la numeración automática de secciones utiliza las celdas de encabezado, su rendimiento depende en cierta medida de la claridad de su organización. Si tiene dos secciones que comienzan con las celdas del encabezado 1 en su documento, y cada una de las secciones tiene dos subsecciones que comienzan con las celdas del encabezado 2, la numeración automática de la sección las numerará 1, 1.1, 1.2, 2, 2.1 y 2.2 respectivamente. Sin embargo, si ha utilizado una celda del encabezado 3 para indicar el comienzo de lo que habría sido la sección 2.1, la numeración automática de la sección numerará esa sección 2.0.1 y aparecerá un mensaje de error que le indicará que \"colocó una celda del encabezado 3 debajo una celda de encabezado 2 en la sección 2 \". Del mismo modo, si comienza su trabajo con cualquier Celda de encabezado más pequeña que un Encabezado 1, diga una Celda de encabezado 3, la numeración automática de la sección numerará su primera sección 0.0.3 y aparecerá un mensaje de error que le indica que \"El cuaderno comienza con un encabezado 3 celdas \".\n"
   ]
  },
  {
   "cell_type": "markdown",
   "metadata": {},
   "source": [
    "#### 1.4.2.2 Tabla de contenido"
   ]
  },
  {
   "cell_type": "markdown",
   "metadata": {},
   "source": [
    "La herramienta tabla de contenido generará automáticamente una tabla de contenido para su trabajo tomando todos los títulos de sus Celdas de encabezado y ordenándolos en una lista, que colocará en una nueva celda al comienzo de su Cuaderno. Debido a que su notebook utiliza saltos de página o números formales, cada sección de la lista estará vinculada a la sección real dentro de su documento.\n",
    "\n",
    "**Notas:** Debido a que la tabla de contenido utiliza sus celdas de encabezado, su rendimiento depende en cierta medida de la claridad de su organización. Si tiene dos secciones que comienzan con las Celdas del encabezado 1 en su documento, y cada una de las secciones tiene dos subsecciones que comienzan con las Celdas del encabezado 2, la Tabla de contenido las ordenará de la siguiente manera:\n",
    "\n",
    "* 1.\n",
    "   * 1.1\n",
    "   * 1.2\n",
    "       * 1.2.1\n",
    "* 2.\n",
    "   * 2.1\n",
    "   * 2.2\n",
    "    \n",
    "Sin embargo, si ha utilizado una celda de encabezado 3 para indicar el comienzo de lo que habría sido la sección 2.1, el Soporte de tabla de contenido insertará una línea ficticia para que su tabla de contenido se vea así:\n",
    "\n",
    "* 1.\n",
    "   * 1.1\n",
    "   * 1.2\n",
    "* 2.\n",
    "   * &nbsp;           \n",
    "       * 2.0.1\n",
    "   * 2.2\n",
    "\n"
   ]
  },
  {
   "cell_type": "markdown",
   "metadata": {},
   "source": [
    "#### 1.4.2.3 Uso de numeración automática de secciones y soporte de tabla de contenido"
   ]
  },
  {
   "cell_type": "markdown",
   "metadata": {},
   "source": [
    "La numeración automática de secciones siempre actualizará cada aspecto de su notebook que dependa del título de una o más de sus secciones. Esto significa que corregirá automáticamente una tabla de contenido existente y todos sus enlaces internos de Notebook para reflejar los nuevos títulos de sección numerados."
   ]
  },
  {
   "cell_type": "markdown",
   "metadata": {},
   "source": [
    "# 2. Atajos de teclado"
   ]
  },
  {
   "cell_type": "markdown",
   "metadata": {},
   "source": [
    "Los Jupyter notebook admiten muchos métodos abreviados de teclado útiles, incluidos los de la mayoría de los botones de la barra de herramientas. Para ver estos atajos, puede hacer clic en el menú de ayuda y luego seleccionar Atajos de teclado, como se muestra a continuación."
   ]
  },
  {
   "cell_type": "markdown",
   "metadata": {},
   "source": [
    "# 3. Uso de celdas Markdown para escribir"
   ]
  },
  {
   "cell_type": "markdown",
   "metadata": {},
   "source": [
    "**¿Por qué no hay menús desplegables de selección de fuente y tamaño de fuente, botones que puedo presionar para poner en negrita y cursiva mi texto u otras opciones de estilo avanzadas en mi Notebook?**\n",
    "\n",
    "Cuando usa Microsoft Word, Google Docs, Apple Pages, Open Office o cualquier otro software de procesamiento de texto, generalmente usa su mouse para seleccionar varias opciones de estilo, como el espaciado entre líneas, el tamaño de fuente, el color de fuente, el formato de párrafo, etc. Este tipo de El sistema a menudo se describe como una interfaz WYSIWYG (What You See Is What You Get \"Lo que ves es lo que obtienes\"). Esto significa que la entrada (lo que le dice a la computadora) coincide exactamente con la salida (lo que la computadora le devuelve). Si escribe la letra **`G`**, resáltela, seleccione el color verde y aumente el tamaño de la fuente a 64 pt, su procesador de texto le mostrará una letra de color verde bastante grande **`G`**. Y si imprime ese documento, imprimirá una letra de color verde bastante grande **`G`**.\n",
    "\n",
    "Por ejemplo, si escribo \"#Header 1\" al comienzo de una celda, pero luego presiono Shift-Enter (o hago clic en el botón de reproducción en la parte superior de la ventana), este cuaderno convertirá mi entrada en una salida algo diferente en de la siguiente manera:"
   ]
  },
  {
   "cell_type": "markdown",
   "metadata": {},
   "source": [
    "<pre>\n",
    "# Header 1\n",
    "</pre>"
   ]
  },
  {
   "cell_type": "markdown",
   "metadata": {},
   "source": [
    "# Header 1"
   ]
  },
  {
   "cell_type": "markdown",
   "metadata": {},
   "source": [
    "Y si escribo \"## Header 2\" (al comienzo de una celda), este cuaderno convertirá esa entrada en otra salida:"
   ]
  },
  {
   "cell_type": "markdown",
   "metadata": {},
   "source": [
    "<pre>\n",
    "## Header 2\n",
    "</pre>"
   ]
  },
  {
   "cell_type": "markdown",
   "metadata": {},
   "source": [
    "## Header 2"
   ]
  },
  {
   "cell_type": "markdown",
   "metadata": {},
   "source": [
    "En estos ejemplos, los hashtags son marcadores que le indican al Cuaderno cómo escribir el texto. Hay muchos lenguajes de marcado, pero una familia, o tal vez una filosofía guía, de los lenguajes de marcado se llama \"Markdown\", llamado de alguna manera en broma por su simplicidad. El notebook utiliza \"marcado\", una biblioteca Markdown de composición tipográfica y otras instrucciones de formato, como los hashtags en los ejemplos anteriores.\n",
    "\n",
    "Markdown es un lenguaje de marcado que genera HTML, que la celda puede interpretar y representar. Esto significa que Markdown Cells también puede representar código HTML sin formato. Si está interesado en aprender HTML, consulte este [tutorial en línea útil][tutorial html].\n",
    "\n",
    "[tutorial html]: http://www.w3schools.com/html/ \"w3schools.com HTML Tutorial\""
   ]
  },
  {
   "cell_type": "markdown",
   "metadata": {},
   "source": [
    "## 3.1 Elementos de Bloque"
   ]
  },
  {
   "cell_type": "markdown",
   "metadata": {},
   "source": [
    "### 3.1.1 Saltos de párrafo"
   ]
  },
  {
   "cell_type": "markdown",
   "metadata": {},
   "source": [
    "Los párrafos consisten en una o más líneas consecutivas de texto y están separadas por una o más líneas en blanco. Si una línea contiene solo espacios, es una línea en blanco.\n",
    "\n",
    "Aquí va otro párrafo"
   ]
  },
  {
   "cell_type": "markdown",
   "metadata": {},
   "source": [
    "### 3.1.2 Saltos de línea"
   ]
  },
  {
   "cell_type": "markdown",
   "metadata": {},
   "source": [
    "#### 3.1.2.1 Envoltura dura y envoltura blanda"
   ]
  },
  {
   "cell_type": "markdown",
   "metadata": {},
   "source": [
    "Si está acostumbrado al software de procesamiento de textos, ha estado escribiendo con líneas y párrafos ajustados automáticamente. En un párrafo rígido, los saltos de línea no dependen del tamaño de la ventana de visualización. Si hace clic y arrastra el mouse para expandir un documento de procesamiento de texto, por ejemplo, la forma de los párrafos y la longitud de las líneas no cambiarán. En otras palabras, la longitud de una línea rígida está determinada por el número de palabras en la línea (en el caso del software de procesamiento de texto donde este número está predeterminado y el programa se ajusta automáticamente al usuario), o por la intención individual ( cuando un usuario presiona manualmente una tecla Intro o Retorno para controlar exactamente cuánto dura una línea).\n",
    "\n",
    "Sin embargo, los párrafos y líneas ajustados, *do* dependen del tamaño de su ventana de visualización. Si aumenta el tamaño de una ventana donde se muestran los párrafos ajustados, también se expandirán en líneas más largas, cada vez más cortas y más anchas para llenar el espacio de ventana aumentado horizontalmente. Como era de esperar, si * estrecha * una ventana, las líneas suaves se reducirán y los párrafos se alargarán verticalmente.\n",
    "\n",
    "Markdown, a diferencia de la mayoría de los programas de procesamiento de texto, no se ajusta automáticamente. Si desea que sus párrafos tengan una forma y tamaño particular o deliberado, debe insertar su propio salto terminando la línea con dos espacios y luego escribiendo Retorno"
   ]
  },
  {
   "cell_type": "markdown",
   "metadata": {},
   "source": [
    "#### 3.1.2.2 Envoltura suave"
   ]
  },
  {
   "cell_type": "markdown",
   "metadata": {},
   "source": [
    "<tt>\n",
    "blah blah blah blah blah blah blah blah blah blah blah blah blah blah blah blah blah blah blah blah blah blah blah blah blah blah blah blah blah blah blah blah blah blah blah blah blah blah blah blah blah blah blah blah blah\n",
    "</tt>"
   ]
  },
  {
   "cell_type": "markdown",
   "metadata": {},
   "source": [
    "blah blah blah blah blah blah blah blah blah blah blah blah blah blah blah blah blah blah blah blah blah blah blah blah blah blah blah blah blah blah blah blah blah blah blah blah blah blah blah blah blah blah blah blah blah"
   ]
  },
  {
   "cell_type": "markdown",
   "metadata": {},
   "source": [
    "#### 3.1.2.3 Envoltura dura"
   ]
  },
  {
   "cell_type": "markdown",
   "metadata": {},
   "source": [
    "<tt>\n",
    "blah blah blah blah blah  \n",
    "blah blah blah blah blah blah blah blah blah  \n",
    "blah blah blah blah blah blah blah blah blah blah blah  \n",
    "blah blah blah blah blah  \n",
    "blah blah blah blah blah   \n",
    "blah blah blah blah blah blah blah blah blah blah blah blah blah  \n",
    "</tt>"
   ]
  },
  {
   "cell_type": "markdown",
   "metadata": {},
   "source": [
    "blah blah blah blah blah  \n",
    "blah blah blah blah blah blah blah blah blah  \n",
    "blah blah blah blah blah blah blah blah blah blah blah  \n",
    "blah blah blah blah blah  \n",
    "blah blah blah blah blah   \n",
    "blah blah blah blah blah blah blah blah blah blah blah blah blah  \n",
    "\n"
   ]
  },
  {
   "cell_type": "markdown",
   "metadata": {},
   "source": [
    "### 3.1.3 Encabezados"
   ]
  },
  {
   "cell_type": "markdown",
   "metadata": {},
   "source": [
    "<pre>\n",
    "# Header 1\n",
    "</pre>"
   ]
  },
  {
   "cell_type": "markdown",
   "metadata": {},
   "source": [
    "# Header 1"
   ]
  },
  {
   "cell_type": "markdown",
   "metadata": {},
   "source": [
    "<pre>\n",
    "## Header 2\n",
    "</pre>"
   ]
  },
  {
   "cell_type": "markdown",
   "metadata": {},
   "source": [
    "## Header 2"
   ]
  },
  {
   "cell_type": "markdown",
   "metadata": {},
   "source": [
    "<pre>\n",
    "### Header 3\n",
    "</pre>"
   ]
  },
  {
   "cell_type": "markdown",
   "metadata": {},
   "source": [
    "### Header 3 "
   ]
  },
  {
   "cell_type": "markdown",
   "metadata": {},
   "source": [
    "<pre>\n",
    "#### Header 4\n",
    "</pre>"
   ]
  },
  {
   "cell_type": "markdown",
   "metadata": {},
   "source": [
    "#### Header 4 "
   ]
  },
  {
   "cell_type": "markdown",
   "metadata": {},
   "source": [
    "<pre>\n",
    "##### Header 5\n",
    "</pre>"
   ]
  },
  {
   "cell_type": "markdown",
   "metadata": {},
   "source": [
    "##### Header 5 "
   ]
  },
  {
   "cell_type": "markdown",
   "metadata": {},
   "source": [
    "<pre>\n",
    "###### Header 6\n",
    "</pre>"
   ]
  },
  {
   "cell_type": "markdown",
   "metadata": {},
   "source": [
    "###### Header 6"
   ]
  },
  {
   "cell_type": "markdown",
   "metadata": {},
   "source": [
    "### 3.1.4 Identación de bloque"
   ]
  },
  {
   "cell_type": "markdown",
   "metadata": {},
   "source": [
    "#### 3.1.4.1 Identación de bloque estándar"
   ]
  },
  {
   "cell_type": "markdown",
   "metadata": {},
   "source": [
    "<tt>\n",
    ">blah blah block quote blah blah block quote blah blah block  \n",
    "quote blah blah block quote blah blah block   \n",
    "quote blah blah block quote blah blah block quote blah blah block quote\n",
    "</tt>"
   ]
  },
  {
   "cell_type": "markdown",
   "metadata": {},
   "source": [
    ">blah blah block quote blah blah block quote blah blah block  \n",
    "quote blah blah block quote blah blah block   \n",
    "quote blah blah block quote blah blah block quote blah blah block quote"
   ]
  },
  {
   "cell_type": "markdown",
   "metadata": {},
   "source": [
    "#### 3.1.4.2 Identación de bloque anidado"
   ]
  },
  {
   "cell_type": "markdown",
   "metadata": {},
   "source": [
    "<pre>\n",
    ">blah blah block quote blah blah block quote blah blah block  \n",
    "block quote blah blah block block quote blah blah block  \n",
    ">>quote blah blah block quote blah blah  \n",
    "block block quote blah blah block   \n",
    ">>>quote blah blah block quote blah blah block quote blah blah block quote\n",
    "</pre>"
   ]
  },
  {
   "cell_type": "markdown",
   "metadata": {},
   "source": [
    "blah blah blah\n",
    "\n",
    "> blah blah block quote blah blah block quote blah blah block  \n",
    "block quote blah blah block block quote blah blah block  \n",
    ">> quote blah blah block quote blah blah  \n",
    "block block quote blah blah block   \n",
    ">>> quote blah blah block quote blah blah block quote blah blah block quote"
   ]
  },
  {
   "cell_type": "markdown",
   "metadata": {},
   "source": [
    "### 3.1.5 Listas"
   ]
  },
  {
   "cell_type": "markdown",
   "metadata": {},
   "source": [
    "#### 3.1.5.1 Listas ordenadas"
   ]
  },
  {
   "cell_type": "markdown",
   "metadata": {},
   "source": [
    "En Markdown, puede enumerar elementos usando números, o los siguientes caracteres **`+`**, **`-`** o un **`*`**. Sin embargo, si el primer elemento de una lista o sublista está numerado, Markdown interpretará toda la lista como ordenada y numerará automáticamente los elementos linealmente, sin importar qué carácter utilice para denotar cualquier elemento separado.\n"
   ]
  },
  {
   "cell_type": "markdown",
   "metadata": {},
   "source": [
    "<pre>\n",
    "#### Groceries:\n",
    "\n",
    "0. Fruit:\n",
    "    6. Pears\n",
    "    0. Peaches\n",
    "    3. Plums\n",
    "    4. Apples \n",
    "        2. Granny Smith \n",
    "        7. Gala\n",
    "    * Oranges\n",
    "    - Berries \n",
    "        8. Strawberries \n",
    "        + Blueberries\n",
    "        * Raspberries\n",
    "    - Bananas\n",
    "9. Bread:\n",
    "    9. Whole Wheat\n",
    "        0. With oats on crust\n",
    "        0. Without oats on crust\n",
    "    0. Rye \n",
    "    0. White\n",
    "0. Dairy:\n",
    "    0. Milk\n",
    "        0. Whole\n",
    "        0. Skim\n",
    "    0. Cheese\n",
    "        0. Wisconsin Cheddar\n",
    "        0. Pepper Jack\n",
    "</pre> "
   ]
  },
  {
   "cell_type": "markdown",
   "metadata": {},
   "source": [
    "#### Groceries:\n",
    "\n",
    "0. Fruit:\n",
    "    6. Pears\n",
    "    0. Peaches\n",
    "    3. Plums\n",
    "    4. Apples \n",
    "        2. Granny Smith \n",
    "        7. Gala\n",
    "    * Oranges\n",
    "    - Berries \n",
    "        8. Strawberries \n",
    "        + Blueberries\n",
    "        * Raspberries\n",
    "    - Bananas\n",
    "9. Bread:\n",
    "    9. Whole Wheat\n",
    "        0. With oats on crust\n",
    "        0. Without oats on crust\n",
    "    0. Rye \n",
    "    0. White\n",
    "0. Dairy:\n",
    "    0. Milk\n",
    "        0. Whole\n",
    "        0. Skim\n",
    "    0. Cheese\n",
    "        0. Wisconsin Cheddar\n",
    "        0. Pepper Jack"
   ]
  },
  {
   "cell_type": "markdown",
   "metadata": {},
   "source": [
    "1. Sección uno:\n",
    "\n",
    "    1.1 Subsección\n",
    "        1.1.1 Subalgo\n",
    "        \n",
    "2. Sección dos"
   ]
  },
  {
   "cell_type": "markdown",
   "metadata": {},
   "source": [
    "#### 3.1.5.2 Listas con viñetas"
   ]
  },
  {
   "cell_type": "markdown",
   "metadata": {},
   "source": [
    "Si comienza su lista o sublista con un **`+`**, un **`-`** o un **`*`**, Markdown interpretará toda la lista como desordenada y usará viñetas independientemente de los caracteres que escribe antes de cualquier elemento de la lista individual."
   ]
  },
  {
   "cell_type": "markdown",
   "metadata": {},
   "source": [
    "<pre>\n",
    "####Groceries:\n",
    "\n",
    "* Fruit:\n",
    "    * Pears\n",
    "    0. Peaches\n",
    "    3. Plums\n",
    "    4. Apples \n",
    "        - Granny Smith \n",
    "        7. Gala\n",
    "    * Oranges\n",
    "    - Berries \n",
    "        - Strawberries \n",
    "        + Blueberries\n",
    "        * Raspberries\n",
    "    - Bananas\n",
    "9. Bread:\n",
    "    * Whole Wheat\n",
    "        * With oats on crust\n",
    "        0. Without oats on crust\n",
    "    + Rye \n",
    "    0. White\n",
    "0. Dairy:\n",
    "    * Milk\n",
    "        + Whole\n",
    "        0. Skim\n",
    "    - Cheese\n",
    "        - Wisconsin Cheddar\n",
    "        0. Pepper Jack\n",
    "        </pre>"
   ]
  },
  {
   "cell_type": "markdown",
   "metadata": {},
   "source": [
    "####Groceries:\n",
    "\n",
    "* Fruit:\n",
    "    * Pears\n",
    "    0. Peaches\n",
    "    3. Plums\n",
    "    4. Apples \n",
    "        - Granny Smith \n",
    "        7. Gala\n",
    "    * Oranges\n",
    "    - Berries \n",
    "        - Strawberries \n",
    "        + Blueberries\n",
    "        * Raspberries\n",
    "    - Bananas\n",
    "9. Bread:\n",
    "    * Whole Wheat\n",
    "        * With oats on crust\n",
    "        0. Without oats on crust\n",
    "    + Rye \n",
    "    0. White\n",
    "0. Dairy:\n",
    "    * Milk\n",
    "        + Whole\n",
    "        0. Skim\n",
    "    - Cheese\n",
    "        - Wisconsin Cheddar\n",
    "        0. Pepper Jack"
   ]
  },
  {
   "cell_type": "markdown",
   "metadata": {},
   "source": [
    "Algunas cosas\n",
    "\n",
    "* Algo\n",
    "    * subsección\n",
    "        * subsubsección\n",
    "* Otro algo\n",
    "___\n",
    "\n",
    "Más cosas"
   ]
  },
  {
   "cell_type": "markdown",
   "metadata": {},
   "source": [
    "### 3.1.6 Saltos de sección"
   ]
  },
  {
   "cell_type": "markdown",
   "metadata": {},
   "source": [
    "<pre>\n",
    "___\n",
    "</pre>"
   ]
  },
  {
   "cell_type": "markdown",
   "metadata": {},
   "source": [
    "___ "
   ]
  },
  {
   "cell_type": "markdown",
   "metadata": {},
   "source": [
    "<pre>\n",
    "***\n",
    "</pre>"
   ]
  },
  {
   "cell_type": "markdown",
   "metadata": {},
   "source": [
    "***"
   ]
  },
  {
   "cell_type": "markdown",
   "metadata": {},
   "source": [
    "<pre>------</pre>"
   ]
  },
  {
   "cell_type": "markdown",
   "metadata": {},
   "source": [
    "------"
   ]
  },
  {
   "cell_type": "markdown",
   "metadata": {},
   "source": [
    "<pre>\n",
    "* * *\n",
    "</pre>"
   ]
  },
  {
   "cell_type": "markdown",
   "metadata": {},
   "source": [
    "* * *"
   ]
  },
  {
   "cell_type": "markdown",
   "metadata": {},
   "source": [
    "<pre>\n",
    "_ _ _\n",
    "</pre>"
   ]
  },
  {
   "cell_type": "markdown",
   "metadata": {},
   "source": [
    "_ _ _"
   ]
  },
  {
   "cell_type": "markdown",
   "metadata": {},
   "source": [
    "<pre> \n",
    "- - -\n",
    "</pre>"
   ]
  },
  {
   "cell_type": "markdown",
   "metadata": {},
   "source": [
    "- - -"
   ]
  },
  {
   "cell_type": "markdown",
   "metadata": {},
   "source": [
    "## 3.2 Backslash Escape"
   ]
  },
  {
   "cell_type": "markdown",
   "metadata": {},
   "source": [
    "¿Qué sucede si desea incluir un carácter literal, como un `#`, que generalmente tiene una función específica en Markdown? Backslash Escape es una función que evita que Markdown interprete un personaje como una instrucción, en lugar de como el personaje en sí. Funciona así"
   ]
  },
  {
   "cell_type": "markdown",
   "metadata": {},
   "source": [
    "<pre>\n",
    "\\# Wow, this isn't a header. \n",
    "# This is definitely a header.\n",
    "</pre>"
   ]
  },
  {
   "cell_type": "markdown",
   "metadata": {},
   "source": [
    "\\# Wow, esto no es un encabezado.\n",
    "# This is definitely a header.\n"
   ]
  },
  {
   "cell_type": "markdown",
   "metadata": {},
   "source": [
    "Markdown le permite usar un backslash para escapar de las funciones de los siguientes caracteres:\n",
    "\n",
    "* \\   backslash\n",
    "* `   backtick\n",
    "* \\*   asterisk\n",
    "* _   underscore\n",
    "* {}  curly braces\n",
    "* []  square brackets\n",
    "* ()  parentheses\n",
    "* \\#   hashtag\n",
    "* \\+   plus sign|\n",
    "* \\-   minus sign (hyphen)\n",
    "* .   dot\n",
    "* !   exclamation mark"
   ]
  },
  {
   "cell_type": "markdown",
   "metadata": {},
   "source": [
    "## 3.3 Hipervínculos"
   ]
  },
  {
   "cell_type": "markdown",
   "metadata": {},
   "source": [
    "### 3.3.1 Enlaces automáticos"
   ]
  },
  {
   "cell_type": "markdown",
   "metadata": {},
   "source": [
    "<pre>\n",
    "https://jupyter.org/\n",
    "</pre>"
   ]
  },
  {
   "cell_type": "markdown",
   "metadata": {},
   "source": [
    "https://jupyter.org/"
   ]
  },
  {
   "cell_type": "markdown",
   "metadata": {},
   "source": [
    "### 3.3.2 Enlaces estándar"
   ]
  },
  {
   "cell_type": "markdown",
   "metadata": {},
   "source": [
    "<pre>\n",
    "[click this link](https://jupyter.org/)\n",
    "</pre>"
   ]
  },
  {
   "cell_type": "markdown",
   "metadata": {},
   "source": [
    "[click this link](https://jupyter.org/)"
   ]
  },
  {
   "cell_type": "markdown",
   "metadata": {},
   "source": [
    "### 4.3.3 Enlaces estándar con títulos al pasar el mouse"
   ]
  },
  {
   "cell_type": "markdown",
   "metadata": {},
   "source": [
    "<pre> \n",
    "[click this link](https://jupyter.org/ \"Jupyter\")\n",
    "</pre>"
   ]
  },
  {
   "cell_type": "markdown",
   "metadata": {},
   "source": [
    "[click this link](https://jupyter.org/ \"Sito oficial de Jupyter\")"
   ]
  },
  {
   "cell_type": "markdown",
   "metadata": {},
   "source": [
    "### 3.3.4 Enlaces de referencia"
   ]
  },
  {
   "cell_type": "markdown",
   "metadata": {},
   "source": [
    "Supongamos que está escribiendo un documento en el que pretende incluir muchos enlaces. El formato anterior es un poco arduo y si tiene que hacerlo repetidamente *mientras* intenta enfocarse en el contenido de lo que está escribiendo, será un gran dolor.\n",
    "\n",
    "Afortunadamente, hay una forma alternativa de insertar hipervínculos en su texto, una en la que indica que hay un enlace, asígnele un nombre y luego use el nombre para proporcionar la URL real más adelante cuando esté menos en la zona de escritura. Este método puede considerarse como un enlace de \"estilo de referencia\" porque es similar a usar citas en el texto y luego definir esas citas más adelante en una sección de referencia más detallada o bibliografía."
   ]
  },
  {
   "cell_type": "markdown",
   "metadata": {},
   "source": [
    "<pre>\n",
    "This is [a reference] [identification tag for link]\n",
    "\n",
    "[identification tag for link]: https://www.markdownguide.org/ \"Markdown guide\"\n",
    "</pre>"
   ]
  },
  {
   "cell_type": "markdown",
   "metadata": {},
   "source": [
    "This is [a reference][i]\n",
    "\n",
    "[i]: https://www.markdownguide.org/ \"Markdown guide\""
   ]
  },
  {
   "cell_type": "markdown",
   "metadata": {},
   "source": [
    "**Nota:** La \"etiqueta de identificación para el enlace\" puede ser cualquier cosa. Por ejemplo:\n"
   ]
  },
  {
   "cell_type": "markdown",
   "metadata": {},
   "source": [
    "<pre>\n",
    "This is [a reference] [for Markdown]\n",
    "\n",
    "[for Markdown]: https://www.markdownguide.org/ \"Markdown guide\"\n",
    "</pre>"
   ]
  },
  {
   "cell_type": "markdown",
   "metadata": {},
   "source": [
    "This is [a reference][for Markdown]\n",
    "\n",
    "[for Markdown]: https://www.markdownguide.org/ \"Markdown guide\""
   ]
  },
  {
   "cell_type": "markdown",
   "metadata": {},
   "source": [
    "Otra característica realmente útil de un enlace de estilo de referencia es que puede definir el enlace en cualquier lugar de la celda. (debe estar en la celda) Por ejemplo:"
   ]
  },
  {
   "cell_type": "markdown",
   "metadata": {},
   "source": [
    "<tt>\n",
    "This is [a reference][ref] blah blah blah blah blah blah blah blah blah blah blah blah blah blah blah blah blah blah blah blah blah blah blah blah blah blah blah blah blah blah blah blah blah blah blah blah blah blah blah blah blah blah blah blah blah blah blah blah blah blah blah blah blah blah blah blah blah blah blah blah blah blah blah blah blah blah blah blah blah blah blah blah blah blah blah blah blah blah blah blah blah blah blah blah blah blah blah blah blah blah blah blah blah blah blah blah blah blah blah blah blah blah blah blah blah blah blah blah blah blah blah blah\n",
    "blah blah blah blah blah blah blah blah blah blah blah blah blah blah blah blah blah blah blah blah blah blah blah blah blah blah blah blah blah blah blah blah blah blah blah blah blah blah blah blah blah blah blah blah blah blah blah blah blah blah blah blah blah blah blah blah <br/><br/>\n",
    "\n",
    "[ref]: https://www.markdownguide.org/ \"Markdown guide\"\n",
    "</tt>"
   ]
  },
  {
   "cell_type": "markdown",
   "metadata": {},
   "source": [
    "This is [a reference][ref] blah blah blah blah blah blah blah blah blah blah blah blah blah blah blah blah blah blah blah blah blah blah blah blah blah blah blah blah blah blah blah blah blah blah blah blah blah blah blah blah blah blah blah blah blah blah blah blah blah blah blah blah blah blah blah blah blah blah blah blah blah blah blah blah blah blah blah blah blah blah blah blah blah blah blah blah blah blah blah blah blah blah blah blah blah blah blah blah blah blah blah blah blah blah blah blah blah blah blah blah blah blah blah blah blah blah blah blah blah blah blah blah\n",
    "blah blah blah blah blah blah blah blah blah blah blah blah blah blah blah blah blah blah blah blah blah blah blah blah blah blah blah blah blah blah blah blah blah blah blah blah blah blah blah blah blah blah blah blah blah blah blah blah blah blah blah blah blah blah blah blah <br/><br/>\n",
    "\n",
    "[ref]: https://www.markdownguide.org/ \"Markdown guide\""
   ]
  },
  {
   "cell_type": "markdown",
   "metadata": {},
   "source": [
    "### 3.3.5 Enlaces internos del notebook"
   ]
  },
  {
   "cell_type": "markdown",
   "metadata": {},
   "source": [
    "Cuando crea un encabezado, también crea una ubicación discreta dentro de su computadora portátil. Esto significa que, al igual que puede vincular a una ubicación específica en la web, también puede vincular a una celda de encabezado dentro de su computadora portátil. Los enlaces internos tienen un formato Markdown muy similar a los enlaces normales. La única diferencia es que el nombre del enlace, que es la URL en el caso de enlaces externos, es solo un hashtag más el nombre de la celda de encabezado a la que se está vinculando (distingue entre mayúsculas y minúsculas) con guiones entre cada palabra. Si pasa el mouse sobre una celda de encabezado, aparecerá una letra azul griega pi junto a su título. Si hace clic en él, la URL en la parte superior de su ventana cambiará y el enlace interno a esa sección aparecerá en último lugar en la dirección. Puede copiarlo y pegarlo para crear un enlace interno dentro de una celda de Markdown."
   ]
  },
  {
   "cell_type": "markdown",
   "metadata": {},
   "source": [
    "#### 3.3.5.1 Enlaces internos estándar sin títulos al pasar el mouse"
   ]
  },
  {
   "cell_type": "markdown",
   "metadata": {},
   "source": [
    "<pre>\n",
    "&#91;Here's a link to the section of Automatic Section Numbering](&#35;Automatic-Section-Numbering)\n",
    "</pre>"
   ]
  },
  {
   "cell_type": "markdown",
   "metadata": {},
   "source": [
    "[Here's a link to the section of Automatic Section Numbering](#1.1-Celda-de-código)"
   ]
  },
  {
   "cell_type": "markdown",
   "metadata": {},
   "source": [
    "#### 3.3.5.2 Estilos de referencias para enlaces internos"
   ]
  },
  {
   "cell_type": "markdown",
   "metadata": {},
   "source": [
    "<pre>\n",
    "[Here's a link to the section on Table of Contents Support][TOC]\n",
    "\n",
    "&#91;TOC]: #Table-of-Contents-Support\n",
    "</pre>"
   ]
  },
  {
   "cell_type": "markdown",
   "metadata": {},
   "source": [
    "[Here's a link to the section on Table of Contents Support][TOC]\n",
    "\n",
    "[TOC]: #1.1-Celda-de-código "
   ]
  },
  {
   "cell_type": "markdown",
   "metadata": {},
   "source": [
    "## 3.4 Tablas "
   ]
  },
  {
   "cell_type": "markdown",
   "metadata": {},
   "source": [
    "En Markdown, puede hacer una tabla utilizando barras verticales y guiones para definir los bordes de celda y encabezado:"
   ]
  },
  {
   "cell_type": "markdown",
   "metadata": {},
   "source": [
    "<pre>\n",
    "|Header|Header|Header|Header|\n",
    "|------|------|------|------|\n",
    "|Cell  |Cell  |Cell  | Cell |\n",
    "|Cell  |Cell  |Cell  | Cell |\n",
    "|Cell  |Cell  |Cell  | Cell |\n",
    "|Cell  |Cell  |Cell  | Cell |\n",
    "</pre>"
   ]
  },
  {
   "cell_type": "markdown",
   "metadata": {},
   "source": [
    "|Header|Header|Header|Header|\n",
    "|------|------|------|------|\n",
    "|Cell  |Cell  |Cell  | Cell |\n",
    "|Cell  |Cell  |Cell  | Cell |\n",
    "|Cell  |Cell  |Cell  | Cell |\n",
    "|Cell  |Cell  |Cell  | Cell |"
   ]
  },
  {
   "cell_type": "markdown",
   "metadata": {},
   "source": [
    "Hacer una tabla de esta manera puede ser especialmente útil si desea que su documento sea legible tanto renderizado como sin procesar. Sin embargo, no *necesita* incluir todos esos guiones, barras verticales y espacios para que Markdown comprenda que está haciendo una tabla. Aquí está el mínimo necesario para crear la tabla anterior:"
   ]
  },
  {
   "cell_type": "markdown",
   "metadata": {},
   "source": [
    "<pre>\n",
    "Header|Header|Header|Header\n",
    "-|-|-|-\n",
    "Cell|Cell|Cell|Cell\n",
    "Cell|Cell|Cell|Cell\n",
    "Cell|Cell|Cell|Cell\n",
    "Cell|Cell|Cell|Cell\n",
    "</pre>"
   ]
  },
  {
   "cell_type": "markdown",
   "metadata": {},
   "source": [
    "Header|Header|Header|Header\n",
    "-|-|-|-\n",
    "Cell|Cell|Cell|Cell\n",
    "Cell|Cell|Cell|Cell\n",
    "Cell|Cell|Cell|Cell\n",
    "Cell|Cell|Cell|Cell\n",
    "\n"
   ]
  },
  {
   "cell_type": "markdown",
   "metadata": {},
   "source": [
    "Es importante tener en cuenta que la segunda línea de guiones y barras verticales es esencial. Si solo tiene la línea de encabezados y la segunda línea de guiones y barras verticales, eso es suficiente para que Markdown haga una tabla.\n",
    "\n",
    "Otro problema importante de formato tiene que ver con las barras verticales que definen los bordes izquierdo y derecho de la tabla. Si incluye todas las barras verticales en el extremo izquierdo y derecho de la tabla, como en el primer ejemplo anterior, Markdown las ignorará por completo. *Pero*, si omite algunos e incluye otros, Markdown interpretará cualquier barra vertical adicional como una celda adicional en el lado en el que aparece la barra en la versión sin procesar del texto. Esto también significa que si incluye la barra vertical del extremo izquierdo o derecho en la segunda línea de barras y guiones, debe incluir todas las barras verticales opcionales (como en el primer ejemplo anterior).\n"
   ]
  },
  {
   "cell_type": "markdown",
   "metadata": {},
   "source": [
    "### 3.4.1 Sangría de la celda"
   ]
  },
  {
   "cell_type": "markdown",
   "metadata": {},
   "source": [
    "Si no se especifica lo contrario, el texto en cada encabezado y celda de una tabla se justificará a la izquierda. Sin embargo, si desea especificar la justificación correcta o el centrado, puede hacerlo así:"
   ]
  },
  {
   "cell_type": "markdown",
   "metadata": {},
   "source": [
    "<tt>\n",
    "**Centered, Right-Justified, and Regular Cells and Headers**:\n",
    "\n",
    "centered header  |  regular header  |  right-justified header  |  centered header  |  regular header  \n",
    ":-:|-|-:|:-:|-\n",
    "centered cell|regular cell|right-justified cell|centered cell|regular cell\n",
    "centered cell|regular cell|right-justified cell|centered cell|regular cell\n",
    "</tt>"
   ]
  },
  {
   "cell_type": "markdown",
   "metadata": {},
   "source": [
    "**Centered, Right-Justified, and Regular Cells and Headers**:\n",
    "\n",
    "|centered header|regular header|right-justified header|centered header|regular header|  \n",
    "|:-------------:|-------------|---------------------:|:-------------:|--------------|\n",
    "|centered cell|regular cell|right-justified cell|centered cell|regular cell|\n",
    "|centered cell|regular cell|right-justified cell|centered cell|regular cell|\n",
    "\n"
   ]
  },
  {
   "cell_type": "markdown",
   "metadata": {},
   "source": [
    "## 3.5 Estilo y  Énfasis"
   ]
  },
  {
   "cell_type": "markdown",
   "metadata": {},
   "source": [
    "<pre>\n",
    "*Italics*\n",
    "</pre>"
   ]
  },
  {
   "cell_type": "markdown",
   "metadata": {},
   "source": [
    "*Italics*"
   ]
  },
  {
   "cell_type": "markdown",
   "metadata": {},
   "source": [
    "<pre>\n",
    "_Italics_\n",
    "</pre>"
   ]
  },
  {
   "cell_type": "markdown",
   "metadata": {},
   "source": [
    "_Italics_"
   ]
  },
  {
   "cell_type": "markdown",
   "metadata": {},
   "source": [
    "<pre>\n",
    "**Bold**\n",
    "</pre>"
   ]
  },
  {
   "cell_type": "markdown",
   "metadata": {},
   "source": [
    "**Bold**"
   ]
  },
  {
   "cell_type": "markdown",
   "metadata": {},
   "source": [
    "<pre>\n",
    "__Bold__\n",
    "</pre>"
   ]
  },
  {
   "cell_type": "markdown",
   "metadata": {},
   "source": [
    "__Bold__"
   ]
  },
  {
   "cell_type": "markdown",
   "metadata": {},
   "source": [
    "***Italbold***"
   ]
  },
  {
   "cell_type": "markdown",
   "metadata": {},
   "source": [
    "**Nota:** Si desea que aparezcan asteriscos o guiones bajos reales en su texto, puede usar la [función de escape de barra invertida] [backslash] de esta manera:\n",
    "\n",
    "[backslash]: #3.2-Backslash-Escape \"Backslash Escape\"\n"
   ]
  },
  {
   "cell_type": "markdown",
   "metadata": {},
   "source": [
    "<pre>\n",
    "\\*awesome asterisks\\* and \\_incredible under scores\\_\n",
    "</pre>"
   ]
  },
  {
   "cell_type": "markdown",
   "metadata": {},
   "source": [
    "\\*awesome asterisks\\* and \\_incredible under scores\\_"
   ]
  },
  {
   "cell_type": "markdown",
   "metadata": {},
   "source": [
    "##  3.6 Otros caracteres"
   ]
  },
  {
   "cell_type": "markdown",
   "metadata": {},
   "source": [
    "<pre> \n",
    "Ampersand &amp;amp; Ampersand\n",
    "</pre>"
   ]
  },
  {
   "cell_type": "markdown",
   "metadata": {},
   "source": [
    "Ampersand &amp; Ampersand"
   ]
  },
  {
   "cell_type": "markdown",
   "metadata": {},
   "source": [
    "<pre>\n",
    "&amp;lt; angle brackets &amp;gt;\n",
    "</pre>"
   ]
  },
  {
   "cell_type": "markdown",
   "metadata": {},
   "source": [
    "&lt; angle brackets &gt;"
   ]
  },
  {
   "cell_type": "markdown",
   "metadata": {},
   "source": [
    "<pre>\n",
    "&amp;quot; quotes &amp;quot; "
   ]
  },
  {
   "cell_type": "markdown",
   "metadata": {},
   "source": [
    "&quot; quotes &quot; "
   ]
  },
  {
   "cell_type": "markdown",
   "metadata": {},
   "source": [
    "## 3.7 Incluyendo ejemplos de código"
   ]
  },
  {
   "cell_type": "markdown",
   "metadata": {},
   "source": [
    "Si quiere indicar que una sección particular de texto es en realidad un ejemplo de código, puede usar comillas inversas para rodear el ejemplo de código. Esto cambiará la fuente a monoespacio, lo que crea una clara diferencia de formato visual entre el texto que debe ser código y el texto que no lo es.\n",
    "\n",
    "El código puede estar en el medio de un párrafo o como un bloque. Use una sola comilla para iniciar y detener el código en el medio de un párrafo. Aquí hay un ejemplo:"
   ]
  },
  {
   "cell_type": "markdown",
   "metadata": {},
   "source": [
    "<pre>\n",
    "The word `monospace` will appear in a code-like form.\n",
    "</pre>"
   ]
  },
  {
   "cell_type": "markdown",
   "metadata": {},
   "source": [
    "The word `monospace` will appear in a code-like form."
   ]
  },
  {
   "cell_type": "markdown",
   "metadata": {},
   "source": [
    "**Nota:** Si desea incluir una comilla inversa literal en su ejemplo de código, debe rodear todo el bloque de texto en comillas dobles como se muestra:"
   ]
  },
  {
   "cell_type": "markdown",
   "metadata": {},
   "source": [
    "<pre>\n",
    "`` Look at this literal backquote ` ``\n",
    "</pre>"
   ]
  },
  {
   "cell_type": "markdown",
   "metadata": {},
   "source": [
    "`` Look at this literal backquote ` ``"
   ]
  },
  {
   "cell_type": "markdown",
   "metadata": {},
   "source": [
    "Para incluir un bloque de código completo dentro de una celda Markdown, use comillas inversas triples. Opcionalmente, puede poner el nombre del lenguaje de programación que está citando después de las comillas triples iniciales, de esta manera:"
   ]
  },
  {
   "cell_type": "markdown",
   "metadata": {},
   "source": [
    "<pre>\n",
    "```python\n",
    "def function(n):\n",
    "    return n + 1\n",
    "```\n",
    "</pre>"
   ]
  },
  {
   "cell_type": "markdown",
   "metadata": {},
   "source": [
    "Eso formateará el bloque de código (a veces llamado \"código cercado\") con color de sintaxis. El bloque de código anterior se representará así:"
   ]
  },
  {
   "cell_type": "markdown",
   "metadata": {},
   "source": [
    "```python\n",
    "def function(n):\n",
    "    return n + 1\n",
    "```"
   ]
  },
  {
   "cell_type": "markdown",
   "metadata": {},
   "source": [
    "```python\n",
    "function anotherFunction(n)\n",
    "    return n + 1```"
   ]
  },
  {
   "cell_type": "markdown",
   "metadata": {},
   "source": [
    "```julia\n",
    "function anotherFunction(n)\n",
    "    return n + 1```"
   ]
  },
  {
   "cell_type": "code",
   "execution_count": null,
   "metadata": {},
   "outputs": [],
   "source": [
    "def function(n):\n",
    "    return n + 1"
   ]
  },
  {
   "cell_type": "markdown",
   "metadata": {},
   "source": [
    "Los nombres de formato de los lenguajes que se pueden usar actualmente después de la triple comilla son:"
   ]
  },
  {
   "cell_type": "markdown",
   "metadata": {},
   "source": [
    "<pre>\n",
    "apl           django   go            jinja2      ntriples    q       smalltalk    toml\n",
    "asterisk      dtd      groovy        julia       octave      r       smarty       turtle\n",
    "clike         dylan    haml          less        pascal      rpm     smartymixed  vb\n",
    "clojure       ecl      haskell       livescript  pegjs       rst     solr         vbscript\n",
    "cobol         eiffel   haxe          lua         perl        ruby    sparql       velocity\n",
    "coffeescript  erlang   htmlembedded  markdown    php         rust    sql          verilog\n",
    "commonlisp    fortran  htmlmixed                 pig         sass    stex         xml\n",
    "css           gas      http          mirc        properties  scheme  tcl          xquery\n",
    "d             gfm      jade          mllike      puppet      shell   tiddlywiki   yaml\n",
    "diff          gherkin  javascript    nginx       python      sieve   tiki         z80\n",
    "</pre>"
   ]
  },
  {
   "cell_type": "markdown",
   "metadata": {},
   "source": [
    "## 3.8 Imagenes"
   ]
  },
  {
   "cell_type": "markdown",
   "metadata": {},
   "source": [
    "### 3.8.1 Imagenes desde Internet"
   ]
  },
  {
   "cell_type": "markdown",
   "metadata": {},
   "source": [
    "Insertar una imagen de Internet es casi idéntico a insertar un enlace. ¡También solo escribes un! antes del primer conjunto de corchetes:"
   ]
  },
  {
   "cell_type": "markdown",
   "metadata": {},
   "source": [
    "<pre>\n",
    "![It doesn't matter what you write here](https://jupyter.org/assets/homepage/main-logo.svg)\n",
    "</pre>"
   ]
  },
  {
   "cell_type": "markdown",
   "metadata": {},
   "source": [
    "![It doesn't matter what I write here](https://jupyter.org/assets/homepage/main-logo.svg)"
   ]
  },
  {
   "cell_type": "markdown",
   "metadata": {},
   "source": [
    "**Nota:** a diferencia de un enlace, las palabras que escribe en el primer conjunto de corchetes no aparecen cuando Markdown las representa en html."
   ]
  },
  {
   "cell_type": "markdown",
   "metadata": {},
   "source": [
    "#### 3.8.1.1 Imágenes de estilo de referencia de Internet"
   ]
  },
  {
   "cell_type": "markdown",
   "metadata": {},
   "source": [
    "Al igual que con los enlaces, también puede usar un formato de estilo de referencia al insertar imágenes de Internet. Esto implica indicar dónde desea colocar una imagen, darle una etiqueta de identificación a esa imagen y luego definir esa etiqueta de identificación. El proceso es casi idéntico al uso del formato de estilo de referencia para insertar un enlace:"
   ]
  },
  {
   "cell_type": "markdown",
   "metadata": {},
   "source": [
    "<pre>\n",
    "![][jupiter]\n",
    "\n",
    "[jupiter]:https://jupyter.org/assets/homepage/main-logo.svg  \"Picture of Jupiter\"\n",
    "</pre>"
   ]
  },
  {
   "cell_type": "markdown",
   "metadata": {},
   "source": [
    "![][jupiter]\n",
    "\n",
    "[jupiter]:https://jupyter.org/assets/homepage/main-logo.svg  \"Picture of Jupiter\""
   ]
  },
  {
   "cell_type": "markdown",
   "metadata": {},
   "source": [
    "## 3.9 Código LaTeX"
   ]
  },
  {
   "cell_type": "markdown",
   "metadata": {},
   "source": [
    "Las celdas Markdown de Jupyter Notebooks admiten LateX para insertar ecuaciones matemáticas. Para indicarle a Markdown que interprete su texto como LaTex, rodee su entrada con signos de dólar como este ejemplo:"
   ]
  },
  {
   "cell_type": "markdown",
   "metadata": {},
   "source": [
    "<pre>\n",
    "$e^{i\\pi} + 1 = 0$\n",
    "</pre>"
   ]
  },
  {
   "cell_type": "markdown",
   "metadata": {},
   "source": [
    "La identidad de Euler es $e^{i\\pi} + 1 = 0$, la cual es muy bonita pues estás los reales más importaes\n",
    "\n",
    "\\begin{equation}\n",
    "e^{i \\theta} = \\cos(\\theta) + i\\sin(\\theta)\n",
    "\\end{equation}\n"
   ]
  },
  {
   "cell_type": "markdown",
   "metadata": {},
   "source": [
    "Se pueden escribir expresiones como las siguientes:\n",
    "\n",
    "<pre>\n",
    "$F(k) = \\int_{-\\infty}^{\\infty} f(x) e^{2\\pi i k} dx$\n",
    "</pre>"
   ]
  },
  {
   "cell_type": "markdown",
   "metadata": {},
   "source": [
    "$F(k) = \\displaystyle\\int_{-\\infty}^{\\infty} f(x) e^{2\\pi i k} dx$\n"
   ]
  },
  {
   "cell_type": "markdown",
   "metadata": {},
   "source": [
    "Si desea que sus ecuaciones LaTex estén identadas hacia el centro de la celda, rodee su entrada con dos signos de dólar en cada lado de esta manera:"
   ]
  },
  {
   "cell_type": "markdown",
   "metadata": {},
   "source": [
    "$$\\displaystyle i_{\\mathbf {v} }\\omega =\\mathrm {d} {\\hat {H}}$$"
   ]
  },
  {
   "cell_type": "markdown",
   "metadata": {},
   "source": [
    "# 4. Bibliografías"
   ]
  },
  {
   "cell_type": "markdown",
   "metadata": {},
   "source": [
    "El Soporte Bibliográfico facilita mucho la gestión de referencias y citas en su Notebook, al automatizar algunos de los procesos bibliográficos por los que pasa cada persona cuando investiga o escribe en un contexto académico. Esencialmente, hay tres pasos en este proceso para los cuales puede ayudar el soporte bibliográfico de su computadora portátil: reunir y organizar las fuentes que pretende usar, citar esas fuentes dentro del texto que está escribiendo y compilar todo el material al que hizo referencia en un formato organizado y correctamente formateado lista, el tipo que generalmente aparece al final de un artículo en una sección titulada \"Referencias\", \"Bibliografía\" u \"Obras citadas\".\n",
    "\n",
    "Para beneficiarse de esta funcionalidad, debe hacer dos cosas mientras escribe su artículo: primero, necesita crear una [base de datos Bibtex] [bibdb] de información sobre sus fuentes y segundo, debe usar el [comando citar] [cc] en las celdas de escritura de Markdown para indicar dónde desea que aparezcan las citas en el texto.\n",
    "\n",
    "Si hace ambas cosas, el botón \"Generar referencias\" podrá hacer su trabajo reemplazando todos sus comandos de cita con citas en texto válidamente formateadas y creando una sección de Referencias al final de su documento, que solo alguna vez incluya las obras que citó específicamente en su Notebook.\n",
    "\n",
    "** Nota: ** Las referencias se generan sin una celda de encabezado, solo un [markdown header][]. Esto significa que si desea que aparezca una sección de Referencias en su tabla de contenido, tendrá que deshacer la celda de Referencias, eliminar el encabezado \"Referencias\", hacer una Celda de encabezado del nivel apropiado y titularla \"Referencias\", y luego genere una tabla de contenido usando [Table of Contents Support][table of contents]. De esta manera, también puede titular su sección de Referencias \"Bibliografía\" o \"Obras citadas\", si lo desea.\n",
    "\n",
    "[markdown header]: #4.1.3-Headers\n",
    "[table of contents]: #2.4.2.2-Table-of-Contents-Support\n",
    "[bibdb]: #5.1-Creating-a-Bibtex-Database\n",
    "[cc]:#5.2-Cite-Commands-and-Citation-IDs\n",
    "\n",
    "\n",
    "\n"
   ]
  },
  {
   "cell_type": "markdown",
   "metadata": {},
   "source": [
    "## 4.1 Crear una base de datos Bibtex"
   ]
  },
  {
   "cell_type": "markdown",
   "metadata": {},
   "source": [
    "Bibtex es un software de gestión de referencias para dar formato a listas de referencias ([de Wikipedia] (BibTeX es un software de gestión de referencias para formatear listas de referencias \"Artículo de Wikipedia sobre Bibtex\")). Si bien su computadora portátil no utiliza el software Bibtex, sí utiliza [formato Bibtex](# 4.1.3-Formatting-Bibtex-Entries) para crear referencias dentro de su base de datos bibliográfica.\n",
    "\n",
    "Para que el botón Generar referencias funcione, necesita una base de datos bibliográfica para que busque y coincida con las fuentes que ha indicado que desea acreditar utilizando [citar comandos e ID de citas](# 4.2-Cite-Commands-and -Identificaciones de citas).\n",
    "\n",
    "Al crear una base de datos bibliográfica para su Notebook, tiene dos opciones: puede crear una base de datos externa, que existirá en un Notebook separado de la que está escribiendo, o puede crear una base de datos interna que existirá en una sola celda dentro del notebook que está escribiendo. A continuación hay explicaciones sobre cómo usar estas estrategias de creación de bases de datos, así como una discusión de los pros y los contras de cada uno."
   ]
  },
  {
   "cell_type": "markdown",
   "metadata": {},
   "source": [
    "### 4.1.1 Bases de datos bibliográficas externas\n",
    "\n",
    "Para crear una base de datos bibliográfica externa, deberá crear un nuevo Notebook y titularlo **`Bibliografía`** en la carpeta de nivel superior de su sesión actual de Jupyter. Siempre que no tenga una base de datos bibliográfica interna, cuando haga clic en el botón Generar referencias, el Soporte bibliográfico de su notebook buscará en esta otro notebook **`Bibliografía`** en busca de entradas Bibtex. Las entradas de Bibtex pueden estar en cualquier celda y en cualquier tipo de celda en su notebook **`Bibliografía`**, siempre que la celda comience con **`<! - bibtex`** y termine con **`-> `**. Vaya a [esta sección] [bibfor] para ver ejemplos de formato válido de BibTex.\n",
    "\n",
    "No todas las celdas tienen que contener entradas BibTex para que la base de datos bibliográfica externa funcione según lo previsto con el soporte bibliográfico de su Notebook. Esto significa que puede usar las mismas funciones útiles de organización que usa en otros notebooks, como [Numeración automática de secciones][asn] y [Soporte de tabla de contenido][toc], para estructurar su propia pequeña biblioteca de referencias. La mejor parte de esto es que cualquier Notebook que contenga [comandos de cita][cc] con formato válido puede verificar su base de datos externa y encontrar solo los elementos que ha indicado que desea citar. Por lo tanto, solo tiene que hacer la entrada una vez y su base de datos externa puede crecer grande y completa en el transcurso de su carrera académica de escritura.\n",
    "\n",
    "\n",
    "Existen varias ventajas al usar una base de datos externa sobre [una interna] [base de datos interna]. La más grande, que ya se ha descrito, es que solo necesitará crear uno y puede organizarlo en secciones usando encabezados y generando [números de sección automáticos][asn] y una [tabla de contenido][toc] . Estas herramientas lo ayudarán a encontrar fácilmente la [ID de cita][cc] para una fuente determinada que desea citar. La otra gran ventaja es que una base de datos externa no es visible cuando se ve el Cuaderno en el que se citan las fuentes y se genera una lista de Referencias. Las bases de datos Bibtex no son muy atractivas o legibles y probablemente no quiera que aparezca una en su documento terminado. Hay [formas de ocultar las bases de datos internas][ocultar la celda bibtex], pero es conveniente no tener que preocuparse por eso.\n",
    "\n",
    "[asn]: #1.4.2.1-Numeración-automática-de-secciones\n",
    "[toc]: #1.4.2.2-Tabla-de-contenido\n",
    "[cc]: #4.2-Cite-Commands-and-Citation-IDs\n",
    "[hiding bibtex cell]: #4.1.2.1-Hiding-Your-Internal-Database\n",
    "[bibfor]:#4.1.3-Formatting-Bibtex-Entries"
   ]
  },
  {
   "cell_type": "markdown",
   "metadata": {},
   "source": [
    "### 4.1.2 Bases de datos bibliográficas internas"
   ]
  },
  {
   "cell_type": "markdown",
   "metadata": {},
   "source": [
    "A diferencia de las [bases de datos bibliográficas externas][exd], que se componen de un notebook completo, las bases de datos bibliográficas internas consisten en una sola celda dentro del Notebook en el que está citando fuentes y compilando una lista de Referencias. La celda única, como todas las celdas BibTex que pueden formar una base de datos externa, debe comenzar con **`<! - bibtex`** y terminar con **`->`** para que sea válido el formato e interpretado correctamente por el soporte bibliográfico de su notebook. Probablemente sea mejor mantener esta celda al final o al comienzo de su notebook para que siempre sepa dónde está. Esto se debe a que cuando utiliza una base de datos bibliográfica interna solo puede consistir en una celda. Esto significa que si desea citar múltiples fuentes, deberá realizar un seguimiento de la celda única que comprende toda su base de datos bibliográfica interna durante cada paso del proceso de investigación y escritura.\n",
    "\n",
    "Las bases de datos bibliográficas internas tienen más sentido cuando su proyecto es pequeño y la lista de fuentes totales es corta. Esto es especialmente conveniente si aún no tiene una base de datos externa integrada. Con una base de datos interna, no tiene que crear y organizar un Cuaderno completamente separado, una tarea que solo es útil cuando tiene que hacer un seguimiento de una gran cantidad de material diferente. Además, si desea compartir su Cuaderno terminado con otros de una forma que conserve su validez estructural, solo tiene que enviar un Cuaderno, en oposición al proyecto mismo y al Cuaderno que comprende su base de datos bibliográfica externa. Esto es especialmente útil para un proyecto grupal, donde desea dar a otro lector la capacidad de editar, no simplemente leer, su sección de Referencias.\n",
    "\n",
    "[exd]: #4.1.1-Bases-de-datos-bibliográficas-externas\n"
   ]
  },
  {
   "cell_type": "markdown",
   "metadata": {},
   "source": [
    "#### 4.1.2.1 Ocultar su base de datos interna"
   ]
  },
  {
   "cell_type": "markdown",
   "metadata": {},
   "source": [
    "A pesar de que tienen algunas ventajas, especialmente para proyectos más pequeños, las bases de datos internas tienen un gran inconveniente. No tienen un aspecto muy atractivo o pulido y es probable que no desee que aparezca uno en su producto final. Afortunadamente, hay dos métodos para ocultar su base de datos bibliográfica interna.\n",
    "\n",
    "Si bien el soporte bibliográfico de su notebook podrá interpretar [entradas BibTex formateadas correctamente] [bibfor] en cualquier [tipo de celda] [cell kind], si utiliza una [Celda Markdown] [md cell] para almacenar su base de datos bibliográfica interna, luego, cuando ejecute la celda, desaparecerá todo el formato BibTex. Esto es útil, pero también hace que la celda sea muy difícil de encontrar, así que recuerde realizar un seguimiento cuidadoso de dónde está su base de datos oculta de BibTex si planea editarla más tarde. Si desea que su producto final se vea como HTML, puede crear su base de datos interna de BibTex dentro de una [Celda sin procesar] [RC], use la [barra de herramientas de la celda] [] para seleccionar \"Formato de celda sin procesar\" y luego seleccione \"Ninguno\" en la barra de herramientas que aparece en la esquina de su base de datos Raw Cell BibTex. De esta manera, aún podrá encontrar y editar fácilmente la base de datos cuando esté trabajando en su Notebook, pero otros no podrán ver la base de datos cuando vean su proyecto en su forma final.\n",
    "\n",
    "[cell toolbar]: #1.-Getting-to-Know-your-Jupyter-Notebook's-Toolbar\n",
    "[bibfor]:#4.1.3-Formatting-Bibtex-Entries\n",
    "[RC]:#2.3-Raw-Cells\n",
    "[md cell]: #2.2-Markdown-Cells\n",
    "[cell kind]: #2.-Different-Kinds-of-Cells"
   ]
  },
  {
   "cell_type": "markdown",
   "metadata": {},
   "source": [
    "### 4.1.3 Formateo de entrada para Bibtex"
   ]
  },
  {
   "cell_type": "markdown",
   "metadata": {},
   "source": [
    "Las entradas de BibTex constan de tres componentes cruciales: uno, el tipo de fuente que está citando (un libro, artículo, sitio web, etc.); dos, la [ID de cita][cc] única por la que desea recordar la fuente; y tres, los campos de información sobre esa fuente (autor, título del trabajo, fecha de publicación, etc.). A continuación hay una entrada de ejemplo, con cada uno de estos tres componentes designados claramente\n",
    "\n",
    "<pre>\n",
    "\n",
    "&lt;!--bibtex\n",
    "\n",
    "@ENTRY TYPE{CITATION ID,\n",
    "    FIELD 1 = {source specific information},\n",
    "    FIELD 2 = {source specific informatio},\n",
    "    FIEL 3 = {source specific informatio},\n",
    "    FIELD 4 = {source specific informatio}\n",
    "}\n",
    "\n",
    "-->\n",
    "\n",
    "</pre>\n",
    "\n",
    "En el [artículo de Wikipedia en BibTex] [wikibibt] se puede encontrar una documentación más completa de los tipos de entrada y los conjuntos correspondientes de campos obligatorios y opcionales que admite BibTex.\n",
    "\n",
    "A continuación se muestra una sección de la base de datos bibliográfica externa para un artículo de historia falsa sobre la nación isleña ficticia de Calico. (Ninguna de las entradas contiene información sobre libros o artículos reales):\n",
    "\n",
    "[cc]: #4.2-Cite-Commands-and-Citation-IDs\n",
    "[wikibibt]: http://en.wikipedia.org/wiki/Markdown"
   ]
  },
  {
   "cell_type": "markdown",
   "metadata": {},
   "source": [
    "<pre>\n",
    "\n",
    "&lt;!--bibtex\n",
    "\n",
    "@book{wellfarecut,\n",
    "    title = {Our Greatest Threat: The Rise of Anti-Wellfare Politics in Calico in the 21st Century},\n",
    "    author = {Jacob, Bernadette},\n",
    "    year = {2010},\n",
    "    publisher = {Jupyter University Press}\n",
    "}\n",
    "                  \n",
    "@article{militaryex2,\n",
    "    title = {Rethinking Calican Military Expansion for the New Century},\n",
    "    author = {Collier, Brian F.},\n",
    "    journal = {Modern Politics},\n",
    "    volume = {60},\n",
    "    issue = {25},\n",
    "    pages = {35 - 70},\n",
    "    year = {2012} \n",
    "}\n",
    "\n",
    "@article{militaryex1,\n",
    "    title = {Conservative Majority Passes Budget to Grow Military},\n",
    "    author = {Lane, Lois},\n",
    "    journal = {The Daily Calican},\n",
    "    month = {October 19th, 2011},\n",
    "    pages = {15 - 17},\n",
    "    year = {2011}\n",
    "}\n",
    "\n",
    "@article{oildrill,\n",
    "    title = {Oil Drilling Off the Coast of Jupyter Approved for Early Next Year},\n",
    "    author = {Marks, Meghan L.},\n",
    "    journal = {The Python Gazette},\n",
    "    month = {December 5th, 2012},\n",
    "    pages = {8 - 9},\n",
    "    year = {2012}\n",
    "}\n",
    "\n",
    "@article{rieseinterview,\n",
    "    title = {Interview with Up and Coming Freshman Senator, Alec Riese of Python},\n",
    "    author = {Wilmington, Oliver},\n",
    "    journal = {The Jupyter Times},\n",
    "    month = {November 24th, 2012},\n",
    "    pages = {4 - 7},\n",
    "    year = {2012}\n",
    "}\n",
    "\n",
    "@book{calicoww2:1,\n",
    "    title = {Calico and WWII: Untold History},\n",
    "    author = {French, Viola},\n",
    "    year = {1997},\n",
    "    publisher = {Calicia City Free Press}\n",
    "}\n",
    "\n",
    "@book{calicoww2:2,\n",
    "    title = {Rebuilding Calico After Japanese Occupation},\n",
    "    author = {Kepps, Milo },\n",
    "    year = {2002},\n",
    "    publisher = {Python Books}\n",
    "}\n",
    "-->\n",
    "</pre>"
   ]
  },
  {
   "cell_type": "markdown",
   "metadata": {},
   "source": [
    "## 4.2 Comandos de citas e ID de citas"
   ]
  },
  {
   "cell_type": "markdown",
   "metadata": {},
   "source": [
    "Cuando desee citar una entrada bibliográfica de una base de datos (ya sea interna o externa), debe conocer la ID de cita, a veces llamada \"clave\", para esa entrada. Los ID de citas son cadenas de letras, números y símbolos que *usted* compone, por lo que pueden ser cualquier palabra o combinación de palabras que le resulte fácil de recordar. Una vez, le ha dado a una entrada una ID de cita, sin embargo, necesita usar esa misma ID cada vez que cita esa fuente, por lo que puede ser conveniente mantener su base de datos organizada. De esta manera, será mucho más fácil localizar la entrada de cualquier fuente y su ID de cita potencialmente olvidada.\n",
    "\n",
    "Una vez que conozca el ID de la cita para una entrada determinada, use el siguiente formato para indicar al soporte bibliográfico de su computadora portátil que desea insertar una cita en el texto:\n",
    "\n",
    "<pre>\n",
    "[](&#35;cite-CITATION ID)\n",
    "</pre>\n",
    "\n",
    "Este formato es el comando citar. Por ejemplo, si quisiera citar *Rebuilding Calico After Japanese Occupation* enumerada anteriormente, usaría el comando citar y el ID de cita específico para esa fuente:\n",
    "\n",
    "\n",
    "<pre>\n",
    "[](&#35;cite-calicoww2:2)\n",
    "</pre>\n",
    "\n",
    "Antes de hacer clic en el botón \"Generar referencias\", su texto sin procesar podría verse así:\n",
    "\n",
    "\n",
    "<pre>\n",
    "Rebuilding Calico took many years &#91;](&#35;cite-calicoww2:2).\n",
    "</pre>\n",
    "\n",
    "\n",
    "Después de hacer clic en el botón \"Generar referencias\", su texto sin procesar podría verse así:\n",
    "\n",
    "\n",
    "<pre>\n",
    "Rebuilding Calico took many years &lt;a name=\"ref-1\"/>&#91;(Kepps, 2002)](#cite-calicoww2:2).\n",
    "</pre>\n",
    "\n",
    "y luego el texto se representaría como:\n",
    "\n",
    "\n",
    ">Rebuilding Calico took many years <a name=\"ref-1\"/>[(Kepps, 2002)](#cite-calicoww2:2).\n",
    "\n",
    "\n",
    "Además, se agregaría una celda en la parte inferior con los siguientes contenidos:\n",
    "\n",
    "\n",
    " # 5. Referencias\n",
    "\n",
    " <a name=\"cite-calicoww2:2\"/> <sup> [^](#ref-1) [^](#ref-2) </sup>Kepps, Milo . 2002. _Rebuilding Calico After Japanese Occupation_.\n",
    "\n"
   ]
  },
  {
   "cell_type": "markdown",
   "metadata": {},
   "source": [
    "* 1. Wei-Bing Lin, J., 2012. A Hands-On Introduction to Using Python in the Atmospheric and Oceanic Sciences. 1st ed. [ebook] lulu, pp.1 to 209. Available at: <https://www.lulu.com/commerce/index.php?fBuyContent=13110573&page=1&pageSize=4> [Accessed 19 May 2021].\n",
    "* 2. Langtangen, H., 2009. A Primer on Scientific Programming with Python. Leipzig, Germany: Springer, p.all.\n",
    "* 3. Heath, M., 2009. Scientific computing. 1st ed. Boston, Mass: McGraw Hill, p.all.\n",
    "* 4. Johansson, R., n.d. Numerical python. 2nd ed. New York: Springer, p.all.\n",
    "* 5. Hunt, J., 2019. A Begginers Guide to Python 3 Programming. 1st ed. Cham, Suiza: Springer, p.all."
   ]
  },
  {
   "cell_type": "code",
   "execution_count": null,
   "metadata": {},
   "outputs": [],
   "source": []
  }
 ],
 "metadata": {
  "kernelspec": {
   "display_name": "Python 3",
   "language": "python",
   "name": "python3"
  },
  "language_info": {
   "codemirror_mode": {
    "name": "ipython",
    "version": 3
   },
   "file_extension": ".py",
   "mimetype": "text/x-python",
   "name": "python",
   "nbconvert_exporter": "python",
   "pygments_lexer": "ipython3",
   "version": "3.6.9"
  }
 },
 "nbformat": 4,
 "nbformat_minor": 4
}
