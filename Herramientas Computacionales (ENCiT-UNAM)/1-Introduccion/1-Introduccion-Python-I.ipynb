{
 "cells": [
  {
   "cell_type": "markdown",
   "metadata": {},
   "source": [
    "# Introducción a Python I\n",
    "## Pedro Porras & Jonathan Urrutia\n",
    "\n",
    "**Resumen:** En este notebook discutimos las razones para usar Python, su paradigma de programación y cómo se puede ejecutar Python en una computadora. Realizamos un primer programa en Python y a partir de ahí discutimos sobre qué son las variables, asignación y algunas convenciones que se siguen en este lenguaje."
   ]
  },
  {
   "cell_type": "markdown",
   "metadata": {},
   "source": [
    "### Índice\n",
    "\n",
    "* [1. ¿Por qué Python?](#1.-¿Por-qué-Python?)\n",
    "* [2. Programación con python](#2.-Programación-con-python)\n",
    "* [3. Módelo de ejecución de Python](#3.-Módelo-de-ejecución-de-Python)\n",
    "* [4. Hello world!](#4.-Hello-world!)\n",
    "* [5. Variables en Python](#5.-Variables-en-Python)\n",
    "    * [5.1 Convenciones de nomenclatura](#5.1-Convenciones-de-nomenclatura)\n",
    "    * [5.2 Operador de asignación (_set_)](#5.2-Operador-de-asignación-(set))\n",
    "    * [5.3 Declaraciones y expresiones en Python](#5.3-Declaraciones-y-expresiones-en-Python)\n",
    "    * [5.4 Comentarios en el código](#5.4-Comentarios-en-el-código)\n",
    "* [Bibliografia](#Bibliografia)"
   ]
  },
  {
   "cell_type": "markdown",
   "metadata": {},
   "source": [
    "# 1. ¿Por qué Python?"
   ]
  },
  {
   "cell_type": "markdown",
   "metadata": {},
   "source": [
    "Python es un lenguaje de programación de propósito general es similar a otros lenguajes de programación de los que quizás haya oído hablar, como C ++, JavaScript o C # de Microsoft y Java de Oracle.\n",
    "\n",
    "Como lenguaje de programación, ha ganado interés en los últimos años, particularmente en el mundo comercial, con muchas personas que desean aprender el lenguaje. Este mayor interés en Python está impulsado por varios factores diferentes:\n",
    "\n",
    "* Es un lenguaje de alto nivel: Flexible y semejante a los 'lenguajes humanos'.\n",
    "* Código abierto\n",
    "* Uso estándar en _Data Science_, con apoyo de la comunidad.\n",
    "* Su idoneidad como lenguaje de secuencias de comandos para quienes trabajan en el campo DevOps, donde proporciona un mayor nivel de abstracción que los lenguajes alternativos utilizados tradicionalmente.\n",
    "* Su capacidad para ejecutarse en (casi) cualquier sistema operativo, en particular:\n",
    "  * Windows\n",
    "  * GNU/Linux\n",
    "  * MacOS\n",
    "* Diversas _bibliotecas_ con apoyo de una gran comunidad"
   ]
  },
  {
   "cell_type": "markdown",
   "metadata": {},
   "source": [
    "##  2. Programación con Python \n",
    "\n",
    "Hay varios paradigmas de programación diferentes que un lenguaje de programación puede permitir a los desarrolladores codificar, estos son:\n",
    "\n",
    "* **Programación procesal** en la que un programa se representa como una secuencia de instrucciones que le indican a la computadora lo que debe hacer explícitamente. Los procedimientos y / o funciones se utilizan para proporcionar estructura al programa; con estructuras de control como sentencias `if` y construcciones de bucle para gestionar qué pasos se ejecutan y cuántas veces. Los lenguajes que tipifican este enfoque incluyen C y Pascal.\n",
    "\n",
    "* **Lenguajes de programación declarativos**, como Prolog, que permiten a los desarrolladores describir cómo se debe resolver un problema, y el lenguaje / entorno determina cómo se debe implementar la solución. SQL (un lenguaje de consulta de base de datos) es uno de los lenguajes declarativos más comunes que es probable que encuentre.\n",
    "\n",
    "* **Programación orientada a objetos** que representan un sistema en términos de los objetos que forman ese sistema. Cada objeto puede contener sus propios datos (también conocidos como estado), así como definir el comportamiento que define lo que el objeto puede hacer. Un programa de computadora se forma a partir de un conjunto de estos objetos que cooperan juntos. Lenguajes como Java y C # tipifican el enfoque orientado a objetos.\n",
    "\n",
    "* **Programación funcional** descomponen un problema en un conjunto de funciones. Cada función es independiente de cualquier estado externo, operando solo en las entradas que recibieron para generar sus salidas. El lenguaje de programación Haskell es un ejemplo de lenguaje de programación funcional, igual que Lisp o ma\n",
    "\n",
    "Algunos lenguajes de programación se consideran lenguajes híbridos; es decir, permiten a los desarrolladores utilizar una combinación de enfoques de diferencia dentro del mismo programa. Python es un ejemplo de un lenguaje de programación híbrido, ya que le permite escribir código muy procedimental, usar objetos orientados a objetos y escribir programas funcionales."
   ]
  },
  {
   "cell_type": "markdown",
   "metadata": {},
   "source": [
    "## 3. Módelo de ejecución de Python \n",
    "\n",
    "\n",
    "Python **no es un lenguaje precompilado** en la forma en que algunos otros lenguajes que puede haber encontrado son (como C ++). En cambio, es lo que se conoce como lenguaje interpretado (aunque incluso esto no es del todo exacto). Un lenguaje interpretado es aquel que no requiere una fase de compilación separada para convertir el formato legible por humanos en algo que pueda ser ejecutado por una computadora. En cambio, la versión de texto sin formato se alimenta a otro programa (generalmente conocido como el intérprete) que luego ejecuta el programa por usted.\n",
    "\n",
    "Python en realidad usa un modelo intermedio en el sentido de que en realidad convierte el programa Python de texto plano en inglés en un formato de código de máquina 'pseudo' intermedio y es este formato intermedio el que se ejecuta. Esto se ilustra a continuación:"
   ]
  },
  {
   "cell_type": "markdown",
   "metadata": {},
   "source": [
    "<center><img src = \"../Images/Proceso.png\"  width=\"900\" height=\"300\"/></center>"
   ]
  },
  {
   "cell_type": "markdown",
   "metadata": {},
   "source": [
    "La forma en que el intérprete de Python procesa un programa de Python se divide en varios pasos. Los pasos que se muestran aquí son ilustrativos (y simplificados) pero la idea general es correcta.\n",
    "\n",
    "* Primero, el programa se verifica para asegurarse de que el Python sea válido. Este control se realiza para que el programa siga todas las reglas del lenguaje y que el entorno de Python comprenda cada uno de los comandos y operaciones, etc.\n",
    "\n",
    "* Luego traduce el texto plano, como comandos en inglés, a un formato intermedio más conciso que es más fácil de ejecutar en una computadora. Python puede almacenar esta versión intermedia en un archivo que lleva el nombre del archivo original pero con un '. extensión pyc 'en lugar de una extensión' .py '(la' c 'en la extensión indica que contiene la versión compilada del código).\n",
    "\n",
    "* El intérprete ejecuta la versión intermedia compilada."
   ]
  },
  {
   "cell_type": "markdown",
   "metadata": {},
   "source": [
    "# 4. Hello, world!"
   ]
  },
  {
   "cell_type": "markdown",
   "metadata": {},
   "source": [
    "<center>\n",
    "        <img src = \"../Images/HelloWorld.jpeg\"  width=\"300\">\n",
    " </center>\n",
    "\n",
    "Es costumbre que el primer programa que es escribe cuando uno aprende un código sea el _Hello, world!_. Dado que esto se puede realizar en un solo comando en Python, lo complicaremos con una función de entrada (_input_) y lo que obtendremos es un texto de salida (_output_)"
   ]
  },
  {
   "cell_type": "code",
   "execution_count": 2,
   "metadata": {},
   "outputs": [
    {
     "name": "stdin",
     "output_type": "stream",
     "text": [
      "Ingresa tu nombre: Jonathan\n"
     ]
    },
    {
     "name": "stdout",
     "output_type": "stream",
     "text": [
      "Tu nombre es: Jonathan\n"
     ]
    }
   ],
   "source": [
    "#Ejecuta la celda e interactúa con el Notebook. Preciona Enter al terminar\n",
    "\n",
    "user_name = input('Ingresa tu nombre:')    # Mediante una texto, se pide que el usuaro ingrese un texto de entrada\n",
    "print('Tu nombre es:', user_name)          # Imprime lo que se pide"
   ]
  },
  {
   "cell_type": "markdown",
   "metadata": {},
   "source": [
    "La siguiente sentencia permite al usuario interactuar con el programa mismo:\n",
    "\n",
    "```python\n",
    "user_name = input('Enter your name: ')\n",
    "```\n",
    "\n",
    "mientras que \n",
    "\n",
    "```python\n",
    "print('Tu nombre es:', user_name) \n",
    "```\n",
    "es el resultado del procedimiento que se le pidio a la computadora.\n"
   ]
  },
  {
   "cell_type": "markdown",
   "metadata": {},
   "source": [
    "La sentencia `input()` es una acción que realiza la computadora, la cual llameremos **función** y está integrada en las expresiones básicas de Python. Todas las funciones en Python 3 realizan una actividad y si ésta requiere información extra, se le proporciona al escribirla entre los paréntes  (en la versión 2 esto no es cierto). A lo que se encuentra dentro del paréntesis le llamaremos **argumento**. Dependiendo la función, ésta puede requerir de más de un argumento, o bien, que algunos argumentos sean opcionales ---como `print()`---.\n",
    "\n",
    "Las funciones **requieren que sus argumentos tengan características especiales** para su correcto funcionamiento.\n",
    "\n",
    "El signo de igual, se conoce como asignación (_set_) e impone que Python reconozca a una secuencia de caracteres (lado izquierdo) como la información correspondiente al lado derecho. En el caso anterior la secuencia de caracteres es `user_name` y tiene el nombre generico de **variable**, que es un  área con nombre de la memoria de las computadoras que se puede usar para contener cosas (a menudo denominadas datos) como cadenas, números, booleanos como Verdadero / Falso, etc. En este caso, la variable `user_name` está actuando como una etiqueta para un área de memoria que contendrá la cadena ingresada por el usuario.\n",
    "\n",
    "Por lo tanto, la variable `user_name` nos permite acceder a esta área de memoria de manera fácil y conveniente.\n",
    "\n",
    "Por ejemplo, si queremos obtener el nombre ingresado por el usuario en otra instrucción, podemos hacerlo simplemente haciendo referencia a la variable `user_name`. De hecho, esto es exactamente lo que hacemos en la segunda declaración que agregamos a nuestro programa. Esto se muestra a continuación:\n",
    "\n",
    "```python\n",
    "print('Hello', user_name)\n",
    "```"
   ]
  },
  {
   "cell_type": "markdown",
   "metadata": {},
   "source": [
    "# 5. Variables en Python\n",
    "\n",
    "Se llama variable al valor que hace referencia en la memoria que puede variar durante la vida útil del programa.\n",
    "\n",
    "Por ejemplo, podemos modificar nuestro programa Hello World para pedirle al usuario el nombre de su mejor amigo e imprimir un mensaje de bienvenida a ese mejor amigo. Si queremos, podemos reutilizar la variable para contener el nombre de ese mejor amigo. \n",
    "\n",
    "Por ejemplo:"
   ]
  },
  {
   "cell_type": "code",
   "execution_count": 5,
   "metadata": {},
   "outputs": [
    {
     "name": "stdout",
     "output_type": "stream",
     "text": [
      "Hello, world!\n"
     ]
    },
    {
     "name": "stdin",
     "output_type": "stream",
     "text": [
      "Enter your name:  Juan\n"
     ]
    },
    {
     "name": "stdout",
     "output_type": "stream",
     "text": [
      "Hello, Juan .\n"
     ]
    },
    {
     "name": "stdin",
     "output_type": "stream",
     "text": [
      "What is the name of your best friend?:  juan\n"
     ]
    },
    {
     "name": "stdout",
     "output_type": "stream",
     "text": [
      "Hello, best friend, juan .\n"
     ]
    }
   ],
   "source": [
    "# Hello, best friend\n",
    "\n",
    "print('Hello, world!')      \n",
    "name = input('Enter your name: ')\n",
    "print('Hello,', name)\n",
    "name = input('What is the name of your best friend?: ')\n",
    "print('Hello, best friend,', name)"
   ]
  },
  {
   "cell_type": "markdown",
   "metadata": {},
   "source": [
    "En todos los casos anteriores hemos manejado una característica en común para todas nuestros argumentos, y es que se escriben como `'Juan'` o `'Daniela'`. A este tipo de elementos se les conoce como _cadenas_ (hablaremos de ellas más adelante). Sin embargo, nuestra función `print()` pude tener otro tipo de argumentos, como números u otros textos sin comillas, es decir, como se muetra en elos siguientes ejemplos."
   ]
  },
  {
   "cell_type": "code",
   "execution_count": 6,
   "metadata": {},
   "outputs": [
    {
     "name": "stdout",
     "output_type": "stream",
     "text": [
      "Sofía Chávez\n",
      "20\n",
      "True\n",
      "False\n"
     ]
    }
   ],
   "source": [
    "my_variable = 'Sofía Chávez' \n",
    "print(my_variable) \n",
    "\n",
    "my_variable = 20 \n",
    "print(my_variable) \n",
    "\n",
    "my_variable = True \n",
    "print(my_variable)\n",
    "\n",
    "my_variable = False\n",
    "print(my_variable)"
   ]
  },
  {
   "cell_type": "markdown",
   "metadata": {},
   "source": [
    "En todos los casos anteriores, Python nos puede dar qué tipo de información es nuestra variable, mediante la siguiente función:"
   ]
  },
  {
   "cell_type": "code",
   "execution_count": 11,
   "metadata": {},
   "outputs": [
    {
     "data": {
      "text/plain": [
       "bool"
      ]
     },
     "execution_count": 11,
     "metadata": {},
     "output_type": "execute_result"
    }
   ],
   "source": [
    "type(my_variable)"
   ]
  },
  {
   "cell_type": "markdown",
   "metadata": {},
   "source": [
    "## 5.1 Convenciones de nomenclatura \n",
    "\n",
    "\n",
    "Es posible que haya notado algo sobre algunos de los nombres de variables que hemos introducido anteriormente, como `user_name` y `my_variable`. Ambos nombres de variables están formados por un conjunto de caracteres con una barra inferior entre las 'palabras' en el nombre de la variable.\n",
    "\n",
    "Ambos nombres de variables resaltan una **convención de nomenclatura** utilizada en Python para las variables:\n",
    "\n",
    "* Todo debe de estar en minúsculas.\n",
    "* Las variables deben tener un nombre que permita entender su significado para el usuario o desarrollador\n",
    "* Cuando se usen palabras individuales estás deben de estar separadas por guiones bajos según sea necesario para mejorar legibilidad.\n",
    "\n",
    "Este último punto es muy importante ya que en Python (y en la mayoría de los lenguajes de programación) los espacios se tratan como separadores que se pueden usar para indicar dónde termina una cosa y comienza otra. Por lo tanto, no es posible definir un nombre de variable como:\n",
    "\n",
    "* `user name`\n",
    "\n",
    "Como Python trata el espacio como un separador, Python cree que está definiendo dos cosas, `user` y `name`.\n",
    "Cuando cree sus propias variables, debe tratar de nombrar y luego seguir el estilo aceptado de Python, por lo tanto, nombre como:\n",
    "\n",
    "* `my_name`, `your_name`, `user_name`, `account_name`\n",
    "* `count`, `total_number_of_users`, `percentage_passed`, `pass_ rate`\n",
    "* `where_we_live`, `house_number`\n",
    "* `is_okay`, `is_correct`, `status_flag`"
   ]
  },
  {
   "cell_type": "markdown",
   "metadata": {},
   "source": [
    "## 5.2 Operador de asignación (_set_)\n",
    "\n",
    "Un aspecto final de la declaración que se muestra a continuación aún no se ha considerado\n",
    "\n",
    "```python\n",
    "user_name = print('Hello', user_name)\n",
    "```\n",
    "\n",
    "¿Qué es exactamente este `=` entre la variable `user_name` y la función `input()`?\n",
    "\n",
    "Se llama *operador de asignación*. Se utiliza para asignar el valor devuelto por la función `input()` a la variable `user_name`. Es probablemente el operador más utilizado en Python. Por supuesto, no sólo se usa para asignar valores de funciones como se ilustra en los ejemplos anteriores. Por ejemplo, también lo usamos cuando almacenamos una cadena en una variable directamente. Algunos ejemplos de los usos de _set_ son los siguintes:"
   ]
  },
  {
   "cell_type": "code",
   "execution_count": 13,
   "metadata": {},
   "outputs": [
    {
     "name": "stdout",
     "output_type": "stream",
     "text": [
      "Pedro\n",
      "Jonathan\n",
      "Urrutia\n"
     ]
    }
   ],
   "source": [
    "my_name = 'Pedro'  # Asinación de una variable directamente\n",
    "print(my_name)\n",
    "\n",
    "my_name, my_last_name = 'Jonathan', 'Urrutia'\n",
    "print(my_name)\n",
    "print(my_last_name)"
   ]
  },
  {
   "cell_type": "markdown",
   "metadata": {},
   "source": [
    "Es importante enterder la diferencia entre el operador de asignación `=` y la igualdad matemática (como un concepto independiente de la programación), así como de la igualdad lógica `==`, la que discutiremos más adelante en el curso. El operador de signación es que guarda el valor de una cálculo o una operación en una variable, es decir, lo almacena en la memoria con una identificación única. La forma en la que se lee y aplica es:\n",
    "````python\n",
    "variable = valor_a_guardar\n",
    "````\n",
    "y de hecho es poisble realizar operaciones con una misma variable, para renombrarla o modificarla. En este sentido, es que la asignación difiere de una igualdad matemática. Más adelante veremos ampleaciones del operador de asignación si embargo veamos unos ejemplos antes."
   ]
  },
  {
   "cell_type": "code",
   "execution_count": 2,
   "metadata": {},
   "outputs": [
    {
     "name": "stdout",
     "output_type": "stream",
     "text": [
      "2\n",
      "7\n"
     ]
    }
   ],
   "source": [
    "variable = 2\n",
    "print(variable)\n",
    "\n",
    "variable = variable + 5  # Es decir, vamos arealizar las siguientes operaciónes\n",
    "                        # variable + 5 \n",
    "                        # variable -> 2, entonces 2 + 5\n",
    "                        # 2 + 5 -> 7\n",
    "                        # asignación variable = 7\n",
    "                        # Si esto fuese una operación matemática tendríamos que 5 = 0, lo que sería un error. sin embargo no estamos igualando, sino asignando valores y guardándolos en la memoria.\n",
    "print(variable)"
   ]
  },
  {
   "cell_type": "markdown",
   "metadata": {},
   "source": [
    "## 5.3 Declaraciones y expresiones en Python\n",
    "\n",
    "\n",
    "A lo largo de este noteboook, hemos utilizado la *declaración* para describir una parte de un programa de Python, por ejemplo, la siguiente línea de código es una declaración que imprime una cadena `'Hola'` y el valor contenido en `user_name`.\n",
    "```python\n",
    "print('Hola', user_name)\n",
    "```\n",
    "\n",
    "Entonces, ¿qué queremos decir con una declaración?\n",
    "\n",
    "En Python, una declaración es una instrucción que el intérprete de Python puede ejecutar, la cual puede estar formada por una serie de elementos, como el anterior, que incluye una llamada a una función y una asignación de un valor a una variable. En muchos casos, una declaración es una sola línea en su programa, pero también es posible que una declaración se extienda a varias líneas, especialmente si esto ayuda a la legibilidad o al diseño del código.\n",
    "\n",
    "Por ejemplo, la siguiente es una declaración única, pero se presenta en seis líneas de código para que sea más fácil de leer:"
   ]
  },
  {
   "cell_type": "code",
   "execution_count": 14,
   "metadata": {},
   "outputs": [
    {
     "name": "stdout",
     "output_type": "stream",
     "text": [
      "The total population for Toluca was 3002022 in 2020\n",
      "The total population for Toluca was 3002022 in 2020\n"
     ]
    }
   ],
   "source": [
    "city, number_of_people_in_city, year = 'Toluca', 3002022, 2020  # Asignamos valores a nuestras variables\n",
    "\n",
    "# De esta forma es claro para el desarrollador que lee el código \n",
    "print('The total population for',city,\n",
    "      'was', \n",
    "      number_of_people_in_city, \n",
    "      'in',\n",
    "    year)\n",
    "\n",
    "#Compara con el siguiente código que realiza lo mismo\n",
    "print('The total population for',city, 'was', number_of_people_in_city, 'in',  year)"
   ]
  },
  {
   "cell_type": "markdown",
   "metadata": {},
   "source": [
    "Además de las declaraciones también hay expresiones. Una expresión es esencialmente un cálculo que genera un valor, por ejemplo:"
   ]
  },
  {
   "cell_type": "code",
   "execution_count": 15,
   "metadata": {
    "tags": []
   },
   "outputs": [
    {
     "data": {
      "text/plain": [
       "35"
      ]
     },
     "execution_count": 15,
     "metadata": {},
     "output_type": "execute_result"
    }
   ],
   "source": [
    "5 + 30\n"
   ]
  },
  {
   "cell_type": "markdown",
   "metadata": {},
   "source": [
    "## 5.4 Comentarios en el código\n",
    "\n",
    "Es una práctica común agregar comentarios al código para ayudar a cualquiera que lea el código a comprender qué hace el código, cuál es su intención, cualquier decisión de diseño que el programador tomó, etc.\n",
    "\n",
    "Los comentarios son secciones de un programa que el intérprete de Python ignora; no son código ejecutable.\n",
    "\n",
    "Un comentario se indica con el carácter '#' en Python. El intérprete ignorará todo lo que siga a ese carácter hasta el final de la línea, ya que se supondrá que es un comentario, por ejemplo:"
   ]
  },
  {
   "cell_type": "code",
   "execution_count": null,
   "metadata": {},
   "outputs": [],
   "source": [
    "# Este es un comentario\n",
    "nombre = input('Ingrese su nombre:')\n",
    "\n",
    "# Este es otro comentario\n",
    "print(nombre) # este es un comentario al final de la línea"
   ]
  },
  {
   "cell_type": "markdown",
   "metadata": {},
   "source": [
    "En lo anterior, las dos líneas que comienzan con un `#` son comentarios, son solo para nuestros ojos humanos. Curiosamente, la línea que contiene la función `print()` también tiene un comentario, eso está bien, ya que el comando comienza con el`#` y se extiende hasta el final de la línea, cualquier cosa antes del carácter `#` no es parte del comentario."
   ]
  },
  {
   "cell_type": "markdown",
   "metadata": {},
   "source": [
    "# Bibliografía"
   ]
  },
  {
   "cell_type": "markdown",
   "metadata": {},
   "source": [
    "* 1. Wei-Bing Lin, J., 2012. A Hands-On Introduction to Using Python in the Atmospheric and Oceanic Sciences. 1st ed. [ebook] lulu, pp.1 to 209. Available at: <https://www.lulu.com/commerce/index.php?fBuyContent=13110573&page=1&pageSize=4> [Accessed 19 May 2021].\n",
    "* 2. Langtangen, H., 2009. A Primer on Scientific Programming with Python. Leipzig, Germany: Springer, p.all.\n",
    "* 3. Heath, M., 2009. Scientific computing. 1st ed. Boston, Mass: McGraw Hill, p.all.\n",
    "* 4. Johansson, R., n.d. Numerical python. 2nd ed. New York: Springer, p.all.\n",
    "* 5. Hunt, J., 2019. A Begginers Guide to Python 3 Programming. 1st ed. Cham, Suiza: Springer, p.all."
   ]
  }
 ],
 "metadata": {
  "kernelspec": {
   "display_name": "Python 3",
   "language": "python",
   "name": "python3"
  },
  "language_info": {
   "codemirror_mode": {
    "name": "ipython",
    "version": 3
   },
   "file_extension": ".py",
   "mimetype": "text/x-python",
   "name": "python",
   "nbconvert_exporter": "python",
   "pygments_lexer": "ipython3",
   "version": "3.6.9"
  }
 },
 "nbformat": 4,
 "nbformat_minor": 4
}
