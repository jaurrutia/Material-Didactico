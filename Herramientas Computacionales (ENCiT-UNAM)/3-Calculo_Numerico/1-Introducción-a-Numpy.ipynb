{
 "cells": [
  {
   "cell_type": "markdown",
   "metadata": {},
   "source": [
    "* [1. Vectores, matrices y Arrays multidimensionales](#1.-Vectores,-matrices-y-Arrays-multidimensionales)\n",
    "    * [1.1 Importar módulos](#1.1-Importar-módulos)\n",
    "    * [1.2 El objeto array de NumPy](#1.2-El-objeto-array-de-NumPy)\n",
    "    * [1.3 Tipos de datos](#1.3-Tipos-de-datos)\n",
    "    * [1.4 Partes reales e imaginarias](#1.4-Partes-reales-e-imaginarias)\n",
    "    * [1.5 Crear arrays](#1.5-Crear-arrays)\n",
    "        * [1.5.1 Arreglos creados a partir de listas y otros objetos similares a arreglos](#1.5.1-Arreglos-creados-a-partir-de-listas-y-otros-objetos-similares-a-arreglos)\n",
    "        * [1.5.2 Arreglos con de valores constantes](#1.5.2-Arreglos-con-de-valores-constantes)\n",
    "        * [1.5.3 Arreglos de secuencias](#1.5.3-Arreglos-de-secuencias)\n",
    "        * [1.5.4 Arreglos de secuencias logarítmicas](#1.5.4-Arreglos-de-secuencias-logarítmicas)\n",
    "        * [1.5.5 Arreglos Meshgrid](#1.5.5-Arreglos-Meshgrid)\n",
    "        * [1.5.6 Creación de arreglos no inicializados](#1.5.6-Creación-de-arreglos-no-inicializados)\n",
    "        * [1.5.7 Creación de arreglos con propiedades de otros arreglos](#1.5.7-Creación-de-arreglos-con-propiedades-de-otros-arreglos)\n",
    "        * [1.5.8 Creación de matrices](#1.5.8-Creación-de-matrices)\n",
    "    * [1.6 Indexación y corte](#1.6-Indexación-y-corte)\n",
    "        * [1.6.1 Arreglos unidimensionales](#1.6.1-Arreglos-unidimensionales)\n",
    "        * [1.6.2 Arreglos multidimensionales](#1.6.2-Arreglos-multidimensionales)\n",
    "    * [1.7 Cambio de tamaño y de forma](#1.7-Cambio-de-tamaño-y-de-forma)\n",
    "    * [1.8 Expresiones vectorizadas ](#1.8-Expresiones-vectorizadas)\n",
    "        * [1.8.1 Operaciones aritmeticas](#1.8.1-Operaciones-aritmeticas)\n",
    "        * [1.8.2 Funciones elementales](#1.8.2-Funciones-elementales)\n",
    "        * [1.8.4 Arreglos booleanos y expresiones condicionales](#1.8.4-Arreglos-booleanos-y-expresiones-condicionales)\n",
    "        * [1.8.5 Operaciones de conjuntos](#1.8.5-Operaciones-de-conjuntos)\n",
    "        * [1.8.6 Operaciones de arreglos](#1.8.5-Operaciones-de-arreglos)\n",
    "        * [1.8.7 Operaciones de Matrices y Vectores](#1.8.7-Operaciones-de-Matrices-y-Vectores)\n",
    "        \n",
    "* [El helecho de Barsnsley](#El-helecho-de-Barsnsley)\n",
    "* [Bibliografía](#Bibliografía)"
   ]
  },
  {
   "cell_type": "markdown",
   "metadata": {},
   "source": [
    "# 1. Vectores, matrices y Arreglos multidimensionales"
   ]
  },
  {
   "cell_type": "markdown",
   "metadata": {},
   "source": [
    "Los vectores, matrices y arreglos de mayores dimensiones son herramientas esenciales en la computación numérica. Cuando un cálculo debe repetirse para un conjunto de valores de entrada, es natural y ventajoso representar los datos como matrices y el cálculo en términos de operaciones de matriz. Se dice que los cálculos que se formulan de esta manera están vectorizados. La computación vectorizada elimina la necesidad de muchos bucles explícitos sobre los elementos del arreglo al aplicar operaciones por lotes en los datos del arreglo. El resultado es un código conciso y más fácil de mantener, y permite delegar la implementación de operaciones de matriz (por ejemplo, por elementos) a bibliotecas de bajo nivel más eficientes. Por lo tanto, los cálculos vectorizados pueden ser significativamente más rápidos que los cálculos secuenciales elemento por elemento. Esto es particularmente importante en un lenguaje interpretado como Python, donde recorrer las matrices elemento por elemento implica una sobrecarga de rendimiento significativa.\n",
    "\n",
    "En el entorno informático científico de Python, la biblioteca **NumPy** proporciona estructuras de datos eficientes para trabajar con matrices. El núcleo de **NumPy** está implementada en C y proporciona funciones eficientes para manipular y procesar matrices. A primera vista, las matrices **NumPy** se parecen en cierta medida a la estructura de datos de lista de Python. Pero una diferencia importante es que mientras que las listas de Python son contenedores genéricos de objetos, los arreglo (`arrays`) de NumPy son matrices homogéneas y escritas de tamaño fijo. Homogéneo significa que todos los elementos de la matriz tienen el mismo tipo de datos. El tamaño fijo significa que no se puede cambiar el tamaño de una matriz (sin crear una nueva matriz). Por estas y otras razones, las operaciones y funciones que actúan sobre matrices NumPy pueden ser mucho más eficientes que las que utilizan listas de Python. Además de las estructuras de datos para matrices, NumPy también proporciona una gran colección de operadores y funciones básicos que actúan sobre estas estructuras de datos, así como submódulos con algoritmos de nivel superior como álgebra lineal y transformada rápida de Fourier.\n",
    "\n",
    "La biblioteca **NumPy** proporciona estructuras de datos para representar una rica variedad de matrices y métodos y funciones para operar en dichas matrices. NumPy proporciona el backend numérico para casi todas las bibliotecas científicas o técnicas de Python. Por tanto, es una parte muy importante del ecosistema científico de Python. En el momento de escribir este notebook, la última versión de NumPy es la 1.14.2. Más información sobre NumPy está disponible en www.numpy.org."
   ]
  },
  {
   "cell_type": "code",
   "execution_count": 1,
   "metadata": {},
   "outputs": [],
   "source": [
    "list1 = [1, 2, 2]\n",
    "list2 = [2, 5, 5]"
   ]
  },
  {
   "cell_type": "code",
   "execution_count": 2,
   "metadata": {},
   "outputs": [
    {
     "name": "stdout",
     "output_type": "stream",
     "text": [
      "[1, 2, 2, 2, 5, 5]\n",
      "[1, 2, 2, 1, 2, 2, 1, 2, 2, 1, 2, 2, 1, 2, 2]\n"
     ]
    }
   ],
   "source": [
    "print(list1 + list2)\n",
    "print( list1 * 5 )"
   ]
  },
  {
   "cell_type": "markdown",
   "metadata": {},
   "source": [
    "## 1.1 Importar módulos\n",
    "\n",
    "Para usar la biblioteca NumPy, necesitamos importarla en nuestro programa. Por convención, el módulo numPy importado bajo el alias `np`, así:"
   ]
  },
  {
   "cell_type": "code",
   "execution_count": 1,
   "metadata": {},
   "outputs": [
    {
     "data": {
      "text/plain": [
       "1.2246467991473532e-16"
      ]
     },
     "execution_count": 1,
     "metadata": {},
     "output_type": "execute_result"
    }
   ],
   "source": [
    "import numpy as np\n",
    "\n",
    "np.sin(np.pi)"
   ]
  },
  {
   "cell_type": "markdown",
   "metadata": {},
   "source": [
    "Después de esto, podemos acceder a funciones y clases en el módulo `numpy` de la siguiente manera `np.algo` A lo largo de este notebook, asumimos que el módulo NumPy se importa de esta manera."
   ]
  },
  {
   "cell_type": "markdown",
   "metadata": {},
   "source": [
    "## 1.2 El objeto `ndarray` de NumPy "
   ]
  },
  {
   "cell_type": "markdown",
   "metadata": {},
   "source": [
    "El núcleo de la biblioteca NumPy son las estructuras de datos para representar matrices multidimensionales de datos homogéneos. Homogéneo se refiere a todos los elementos de una matriz que tienen el mismo tipo de datos. La estructura de datos principal para los  arreglos multidimensionales en NumPy es la clase `ndarray`. Además los datos almacenados en la estructura `ndarray`, esta estructura de datos también contiene metadatos importantes sobre arreglos, como su forma, tamaño, tipo de datos y otros atributos.\n",
    "\n",
    "En la siguiente Tabla se muestra una breve descripción más detallada de estos atributos. Hay disponible una lista completa de atributos con descripciones en la cadena de documentos ndarray, a la que se puede acceder llamando a `help(np.ndarray)` en el intérprete de Python."
   ]
  },
  {
   "cell_type": "markdown",
   "metadata": {},
   "source": [
    "|Atributo|                            Descripción                                    |\n",
    "|--------| :-------------------------------------------------------------------------|\n",
    "| `Shape`|Una tupla que contiene el número de elementos (es decir, la longitud) para cada dimensión (eje) de la arreglo.|\n",
    "| `Size` |El número total de elementos en la arreglo                         |\n",
    "| `Ndim` |Número de dimensiones (ejes)                                   |\n",
    "|`nbytes`|Número de bytes utilizados para almacenar los datos|\n",
    "|`dtype` |El tipo de datos de los elementos de la matriz|\n",
    "\n",
    "El siguiente ejemplo demuestra cómo se accede a estos atributos para los datos de una instancia de la clase `ndarray`:"
   ]
  },
  {
   "cell_type": "code",
   "execution_count": 4,
   "metadata": {},
   "outputs": [],
   "source": [
    "a = np.array([4, 5, 1])\n",
    "b = np.array([3, 4, 5])"
   ]
  },
  {
   "cell_type": "code",
   "execution_count": 5,
   "metadata": {},
   "outputs": [
    {
     "name": "stdout",
     "output_type": "stream",
     "text": [
      "[7 9 6]\n",
      "[12 20  5]\n"
     ]
    }
   ],
   "source": [
    "print(a + b)\n",
    "print( a * b)"
   ]
  },
  {
   "cell_type": "code",
   "execution_count": 6,
   "metadata": {},
   "outputs": [],
   "source": [
    "data = np.array([[[1, 2], [3, 4], [5, 6]], [[1, 2], [3, 4], [5, 6]]])"
   ]
  },
  {
   "cell_type": "code",
   "execution_count": 7,
   "metadata": {},
   "outputs": [
    {
     "name": "stdout",
     "output_type": "stream",
     "text": [
      "data.shape ->  (2, 3, 2)\n",
      "data.size ->  12\n",
      "data.ndim ->  3\n",
      "data.nbytes ->  96\n",
      "data.dtype ->  int64\n"
     ]
    }
   ],
   "source": [
    "print(\"data.shape -> \", data.shape)  # tamaño de la matriz\n",
    "print(\"data.size -> \", data.size)   # numero de elementos total\n",
    "print(\"data.ndim -> \", data.ndim)   # Numero de dimensiones\n",
    "print(\"data.nbytes -> \", data.nbytes) # Bytes que emĺea para almacenar la información\n",
    "print(\"data.dtype -> \", data.dtype) # Tipo de elemtnos que maneja, sólo pieden tener un solo tipo los arreglos"
   ]
  },
  {
   "cell_type": "markdown",
   "metadata": {},
   "source": [
    "Aquí, los datos de la instancia `ndarray` se crean a partir de una lista de Python anidada utilizando la función `np.array`. Más adelante en esta sección se presentan más formas de crear instancias de `ndarray` a partir de datos y de reglas de varios tipos. En el ejemplo anterior, los datos son una matriz bidimensional (`data.ndim`) de tamaño 3 × 2, como lo indica `data.shape`, y en total contiene seis elementos (`data.size`) de tipo `int64` (`data.dtype` ), que asciende a un tamaño total de 48 bytes (`data.nbytes`)."
   ]
  },
  {
   "cell_type": "markdown",
   "metadata": {},
   "source": [
    "## 1.3 Tipos de datos "
   ]
  },
  {
   "cell_type": "markdown",
   "metadata": {},
   "source": [
    "En la sección anterior, encontramos el atributo `dtype` del objeto `ndarray`. Este atributo describe el tipo de datos de cada elemento en el arreglo dado que los arreglos en NumPy son homogéneas, todos los elementos tienen el mismo tipo de datos). Los tipos de datos numéricos básicos admitidos en NumPy se muestran en la siguiente tabla. También se admiten tipos de datos no numéricos, como cadenas, objetos y tipos compuestos definidos por el usuario.\n",
    "\n",
    " \n",
    "| `dtype` |                Variantes               |             Descripción           |\n",
    "|---------|----------------------------------------|-----------------------------------|\n",
    "|  `int`  |    `int8`, `int16`, `int32`, `int64`   |Enteros                            |\n",
    "|  `uint` |  `uint8`, `uint16`, `uint32`, `uint64` |Enteros sin signo (no negativos)   |\n",
    "|  `bool` |                `Bool`                  |Booleanos (`True` o `False`)       |\n",
    "| `float` |`float16`,`float32`,`float64`,`float128`|Números de punto flotante          |\n",
    "|`complex`|`complex64`, `complex128`, `complex256` |Números de punto flotante complejos|"
   ]
  },
  {
   "cell_type": "markdown",
   "metadata": {},
   "source": [
    "Para el trabajo numérico, los tipos de datos más importantes son `int` (para enteros), `float` (para números de coma flotante) y `complex` (para números de punto flotante complejos). Cada uno de estos tipos de datos viene en diferentes tamaños, como int32 para enteros de 32 bits, int64 para enteros de 64 bits, etc.\n",
    "\n",
    "El siguiente ejemplo demuestra cómo utilizar el atributo dtype para generar matrices de elementos de valor entero, flotante y complejo:"
   ]
  },
  {
   "cell_type": "code",
   "execution_count": 10,
   "metadata": {},
   "outputs": [
    {
     "name": "stdout",
     "output_type": "stream",
     "text": [
      "array_3 = np.array(list_1, dtype = np.int)\n",
      "\t--> [1 2 3 4]\n",
      "array_3 = np.array(list_1, dtype = np.float)\n",
      "\t--> [ 1.  2.  3.  4.]\n",
      "array_3 = np.array(list_1, dtype = np.complex)\n",
      "\t--> [ 1.+0.j  2.+0.j  3.+0.j  4.+0.j]\n"
     ]
    }
   ],
   "source": [
    "list_1 = [1, 2, 3, 4]\n",
    "\n",
    "array_3 = np.array(list_1, dtype = np.int)\n",
    "print(\"array_3 = np.array(list_1, dtype = np.int)\\n\\t-->\",array_3)\n",
    "array_3 = np.array(list_1, dtype = np.float)\n",
    "print(\"array_3 = np.array(list_1, dtype = np.float)\\n\\t-->\",array_3)\n",
    "array_3 = np.array(list_1, dtype = np.complex)\n",
    "print(\"array_3 = np.array(list_1, dtype = np.complex)\\n\\t-->\",array_3)"
   ]
  },
  {
   "cell_type": "markdown",
   "metadata": {},
   "source": [
    "Una vez que se crea un `ndarray` de NumPy, su `dtype` no se puede cambiar, excepto mediante la creación de una nueva copia con valores del arreglo convertidos en tipos. La conversión de tipos de una matriz es sencilla y se puede hacer utilizando la función `np.array`:"
   ]
  },
  {
   "cell_type": "code",
   "execution_count": 16,
   "metadata": {},
   "outputs": [
    {
     "name": "stdout",
     "output_type": "stream",
     "text": [
      "float64\n",
      "int64\n"
     ]
    }
   ],
   "source": [
    "data = np.array([1, 2, 3], dtype = np.float)\n",
    "print(data.dtype)\n",
    "\n",
    "data = np.array(data, dtype=np.int)\n",
    "print(data.dtype)"
   ]
  },
  {
   "cell_type": "code",
   "execution_count": 17,
   "metadata": {},
   "outputs": [
    {
     "data": {
      "text/plain": [
       "array([ 1.+0.j,  3.+0.j,  5.+0.j,  0.+1.j,  1.+0.j])"
      ]
     },
     "execution_count": 17,
     "metadata": {},
     "output_type": "execute_result"
    }
   ],
   "source": [
    "np.array([1, 3, 5.0, 1j, True])"
   ]
  },
  {
   "cell_type": "code",
   "execution_count": 18,
   "metadata": {},
   "outputs": [
    {
     "data": {
      "text/plain": [
       "array([3, 6, 6])"
      ]
     },
     "execution_count": 18,
     "metadata": {},
     "output_type": "execute_result"
    }
   ],
   "source": [
    "3 * np.array([1, 2, 2])"
   ]
  },
  {
   "cell_type": "markdown",
   "metadata": {},
   "source": [
    "Al realizar calculos con arreglos de NumPy, el tipo de datos puede ascender de un tipo a otro, si la operación lo requiere. Por ejemplo, agregando matrices de valor flotante y de valor complejo, la matriz resultante es una matriz de valor complejo:"
   ]
  },
  {
   "cell_type": "code",
   "execution_count": 20,
   "metadata": {},
   "outputs": [
    {
     "data": {
      "text/plain": [
       "array([ 2.+0.j,  4.+0.j,  6.+0.j])"
      ]
     },
     "execution_count": 20,
     "metadata": {},
     "output_type": "execute_result"
    }
   ],
   "source": [
    "d1 = np.array([1, 2, 3], dtype=float)\n",
    "d2 = np.array([1, 2, 3], dtype=complex)\n",
    "d1 + d2"
   ]
  },
  {
   "cell_type": "code",
   "execution_count": 21,
   "metadata": {},
   "outputs": [
    {
     "data": {
      "text/plain": [
       "dtype('complex128')"
      ]
     },
     "execution_count": 21,
     "metadata": {},
     "output_type": "execute_result"
    }
   ],
   "source": [
    "(d1 + d2).dtype"
   ]
  },
  {
   "cell_type": "markdown",
   "metadata": {},
   "source": [
    "En algunos casos, dependiendo de la aplicación y sus requisitos, es esencial crear arreglos con el tipo de datos configurado apropiadamente, por ejemplo, int o complex. El tipo predeterminado es flotante. Considere el siguiente ejemplo:"
   ]
  },
  {
   "cell_type": "code",
   "execution_count": 22,
   "metadata": {},
   "outputs": [
    {
     "name": "stderr",
     "output_type": "stream",
     "text": [
      "/home/juanathan/.local/lib/python3.6/site-packages/ipykernel_launcher.py:1: RuntimeWarning: invalid value encountered in sqrt\n",
      "  \"\"\"Entry point for launching an IPython kernel.\n"
     ]
    },
    {
     "data": {
      "text/plain": [
       "array([ nan,   0.,   1.])"
      ]
     },
     "execution_count": 22,
     "metadata": {},
     "output_type": "execute_result"
    }
   ],
   "source": [
    "np.sqrt(np.array([-1, 0, 1]))"
   ]
  },
  {
   "cell_type": "code",
   "execution_count": 23,
   "metadata": {},
   "outputs": [
    {
     "data": {
      "text/plain": [
       "array([ 0.+1.j,  0.+0.j,  1.+0.j])"
      ]
     },
     "execution_count": 23,
     "metadata": {},
     "output_type": "execute_result"
    }
   ],
   "source": [
    "np.sqrt(np.array([-1, 0, 1], dtype=complex))"
   ]
  },
  {
   "cell_type": "markdown",
   "metadata": {},
   "source": [
    "Aquí, el uso de la función `np.sqrt` para calcular la raíz cuadrada de cada elemento en un arraglo da resultados diferentes según el tipo de datos del arreglo. Solo cuando el tipo de datos del arreglo es complejo, la raíz cuadrada de –1 da como resultado la unidad imaginaria (indicada como `1j` en Python)."
   ]
  },
  {
   "cell_type": "markdown",
   "metadata": {},
   "source": [
    "## 1.4 Partes reales e imaginarias "
   ]
  },
  {
   "cell_type": "markdown",
   "metadata": {},
   "source": [
    "Independientemente del valor del atributo `dtype`, todas las instancias del `arreglo` NumPy tienen los atributos `real` e `imag` para extraer las partes real e imaginaria del arreglo, respectivamente:"
   ]
  },
  {
   "cell_type": "code",
   "execution_count": 8,
   "metadata": {},
   "outputs": [
    {
     "name": "stdout",
     "output_type": "stream",
     "text": [
      "[ 1.  2.  3.]\n",
      "[ 0.  0.  0.]\n"
     ]
    }
   ],
   "source": [
    "data = np.array([1, 2, 3], dtype=complex)\n",
    "\n",
    "print(data.real)\n",
    "print(data.imag)"
   ]
  },
  {
   "cell_type": "markdown",
   "metadata": {},
   "source": [
    "La misma funcionalidad también la proporcionan las funciones `np.real` y `np.imag`, que también se pueden aplicar a otros objetos similares a matrices, como las listas de Python. Tenga en cuenta que Python en sí tiene soporte para números complejos, y los atributos `imag` y `real` también están disponibles para escalares de Python"
   ]
  },
  {
   "cell_type": "markdown",
   "metadata": {},
   "source": [
    "## 1.5 Crear `arrays` "
   ]
  },
  {
   "cell_type": "markdown",
   "metadata": {},
   "source": [
    "En la sección anterior, analizamos la estructura de datos básica de NumPy para representar matrices, la clase `ndarray`, y analizamos los atributos básicos de esta clase. En esta sección nos enfocamos en las funciones de la biblioteca NumPy que se pueden usar para crear instancias ndarray.\n",
    "\n",
    "Para obtener una lista completa, consulte el manual de referencia de NumPy o las cadenas de documentos que están disponibles escribiendo `help(np)` o usando el autocompletado `np.<TAB>`. En la Tabla se ofrece un resumen de las funciones generadoras de arreglos de uso frecuente."
   ]
  },
  {
   "cell_type": "markdown",
   "metadata": {},
   "source": [
    "|   Método |             Descripción           |\n",
    "|----------|-----------------------------------|\n",
    "|  `array` |Crea un arreglo para la cual los elementos son proporcionados por un objeto similar a una matriz, que, por ejemplo, puede ser una lista de Python (anidada), una tupla, una secuencia iterable u otra instancia de `ndarray`|\n",
    "|  `zeros` |Crea una matriz con las dimensiones y el tipo de datos especificados que se rellena con ceros|\n",
    "|  `ones`  |Crea una matriz con las dimensiones y el tipo de datos especificados que se rellena con unos|\n",
    "|   `diag` |Crea una matriz diagonal con valores especificados a lo largo de la diagonal y ceros en el resto|\n",
    "| `arange` |Crea un arreglo con valores espaciados uniformemente entre los valores de inicio, final e incremento especificados|\n",
    "|`linspace`|Crea un arreglo con valores espaciados uniformemente entre los valores iniciales y finales especificados, utilizando un número especificado de elementos|\n",
    "|`logspace`|Crea un arreglo con valores espaciados logarítmicamente entre los valores iniciales y finales dados|\n",
    "|`meshgrid`|Genera arreglo de coordenadas (y matrices de coordenadas de mayor dimensión) a partir de vectores de coordenadas unidimensionales|\n",
    "|`fromfunction`|Crea una matriz y la llena con valores especificados por una función determinada, que se evalúa para cada combinación de índices para el tamaño de matriz dado|\n",
    "|`fromfile` |Crea una matriz con los datos de un archivo binario (o de texto). NumPy también proporciona una función correspondient `np.tofile` con la que las matrices NumPy se pueden almacenar en el disco y luego leerlas usando `np.fromfile`|\n",
    "|`genfromtxt,np.loadtxt`|Cree una matriz a partir de los datos leídos de un archivo de texto, por ejemplo, un archivo de valores separados por comas (CSV). La función np.genfromtxt también admite archivos de datos con valores perdidos|\n",
    "|`random.rand`|Genera una matriz con números aleatorios que se distribuyen uniformemente entre 0 y 1. También hay otros tipos de distribuciones disponibles en el np. módulo aleatorio.|"
   ]
  },
  {
   "cell_type": "markdown",
   "metadata": {},
   "source": [
    "### 1.5.1 Arreglos creados a partir de listas y otros objetos similares a arreglos"
   ]
  },
  {
   "cell_type": "markdown",
   "metadata": {},
   "source": [
    "Con la función `np.array`, los arreglos NumPy se pueden construir a partir de listas explícitas de Python, expresiones iterables y otros objetos similares a matrices (como otras instancias de ndarray). Por ejemplo, para crear una matriz unidimensional a partir de una lista de Python, simplemente pasamos la lista de Python como un argumento a la función np.array"
   ]
  },
  {
   "cell_type": "code",
   "execution_count": 12,
   "metadata": {},
   "outputs": [
    {
     "name": "stdout",
     "output_type": "stream",
     "text": [
      "1\n",
      "(4,)\n"
     ]
    }
   ],
   "source": [
    "data = np.array([1, 2, 3, 4])\n",
    "print(data.ndim)\n",
    "print(data.shape)"
   ]
  },
  {
   "cell_type": "code",
   "execution_count": 13,
   "metadata": {},
   "outputs": [
    {
     "name": "stdout",
     "output_type": "stream",
     "text": [
      "2\n",
      "(2, 2)\n"
     ]
    }
   ],
   "source": [
    "data = np.array([[1, 2], [3, 4]])\n",
    "print(data.ndim)\n",
    "print(data.shape)"
   ]
  },
  {
   "cell_type": "markdown",
   "metadata": {},
   "source": [
    "### 1.5.2 Arreglos con de valores constantes "
   ]
  },
  {
   "cell_type": "markdown",
   "metadata": {},
   "source": [
    "Las funciones `zeros()` y `ones()` crean y devuelven arreglos de ceros y unos, respectivamente. Toman, como primer argumento, un número entero o una tupla que describe el número de elementos a lo largo de cada dimensión dela arreglo. Por ejemplo, para crear una matriz de 2 × 3 llena de ceros y una matriz de longitud 4 llena de unos, podemos usar:"
   ]
  },
  {
   "cell_type": "code",
   "execution_count": 14,
   "metadata": {},
   "outputs": [
    {
     "name": "stdout",
     "output_type": "stream",
     "text": [
      "[ 0.  0.  0.  0.  0.  0.  0.  0.  0.  0.]\n",
      "[ 0.  1.  2.  3.  4.  5.  6.  7.  8.  9.]\n"
     ]
    }
   ],
   "source": [
    "a = np.zeros(10)\n",
    "print(a)\n",
    "\n",
    "for i in range(0, 10):\n",
    "    a[i] =  i\n",
    "print(a)"
   ]
  },
  {
   "cell_type": "markdown",
   "metadata": {},
   "source": [
    "Como otras funciones generadoras de arreglos, las funciones `np.zeros` y `np.ones` también aceptan un argumento de palabra clave opcional que especifica el tipo de datos para los elementos de la matriz. De forma predeterminada, el tipo de datos es float64 y se puede cambiar al tipo requerido especificando explícitamente el argumento dtype."
   ]
  },
  {
   "cell_type": "code",
   "execution_count": 16,
   "metadata": {},
   "outputs": [
    {
     "name": "stdout",
     "output_type": "stream",
     "text": [
      "[1 1 1 1]\n"
     ]
    }
   ],
   "source": [
    "data = np.ones(4, dtype=np.int64)\n",
    "print( data )"
   ]
  },
  {
   "cell_type": "markdown",
   "metadata": {},
   "source": [
    "Un arreglo lleno con un valor constante arbitrario se puede generar creando primero una matriz llena de unos y luego multiplicando la matriz con el valor de relleno deseado. \n",
    "\n",
    "Sin embargo, NumPy también proporciona la función `full` que hace exactamente esto en un solo paso. Las siguientes dos formas de construir arreglos con diez elementos, que se inicializan con el valor numérico de $5.4$ en este ejemplo, producen los mismos resultados, pero usar `full` es un poco más eficiente ya que evita la multiplicación"
   ]
  },
  {
   "cell_type": "code",
   "execution_count": 17,
   "metadata": {},
   "outputs": [
    {
     "name": "stdout",
     "output_type": "stream",
     "text": [
      "[ 5.4  5.4  5.4  5.4  5.4  5.4  5.4  5.4  5.4  5.4]\n",
      "[ 5.4  5.4  5.4  5.4  5.4  5.4  5.4  5.4  5.4  5.4]\n"
     ]
    }
   ],
   "source": [
    "x1 = 5.4 * np.ones(10)\n",
    "print(x1)\n",
    "\n",
    "x2 = np.full(10, 5.4)\n",
    "print(x2)"
   ]
  },
  {
   "cell_type": "markdown",
   "metadata": {},
   "source": [
    "Un  arreglo ya creada también se puede rellenar con valores constantes utilizando la función `fill`, que toma un arreglo y un valor como argumentos, y establece todos los elementos de la matriz en el valor dado. Por lo tanto, los dos métodos siguientes para crear una matriz dan los mismos resultados:"
   ]
  },
  {
   "cell_type": "code",
   "execution_count": 22,
   "metadata": {},
   "outputs": [
    {
     "name": "stdout",
     "output_type": "stream",
     "text": [
      "[ 3.  3.  3.  3.  3.]\n",
      "[ 3.  3.  3.  3.  3.]\n"
     ]
    }
   ],
   "source": [
    "x1 = np.empty(5)  # Valores basura\n",
    "print( x1) \n",
    "\n",
    "x1.fill(3.0)    # Los llenamos con un valor específico\n",
    "print(x1)"
   ]
  },
  {
   "cell_type": "markdown",
   "metadata": {},
   "source": [
    "En este último ejemplo, también usamos la función `empty`, que genera una arreglo con valores no inicializados, del tamaño dado. Esta función solo debe usarse cuando la inicialización de todos los elementos pueda garantizarse por otros medios, como un bucle explícito sobre los elementos de la matriz u otra asignación explícita. Esta función se describe con más detalle más adelante en esta sección."
   ]
  },
  {
   "cell_type": "markdown",
   "metadata": {},
   "source": [
    "### 1.5.3 Arreglos de secuencias"
   ]
  },
  {
   "cell_type": "markdown",
   "metadata": {},
   "source": [
    "En el cálculo numérico, es muy común requerir arreglos con valores espaciados uniformemente entre un valor inicial y un valor final. NumPy proporciona dos funciones similares para crear tales arreglos: `arange` y `linspace`. Ambas funciones toman tres argumentos, donde los dos primeros argumentos son los valores inicial y final. El tercer argumento de `arange` es el incremento, mientras que para `linspace` es el número total de puntos en el arreglo.\n",
    "\n",
    "Por ejemplo, para generar arreglos con valores entre 1 y 10, con incremento 1, podríamos usar cualquiera de los siguientes:"
   ]
  },
  {
   "cell_type": "code",
   "execution_count": 23,
   "metadata": {},
   "outputs": [
    {
     "name": "stdout",
     "output_type": "stream",
     "text": [
      "[ 0.   0.5  1.   1.5  2.   2.5  3.   3.5  4.   4.5  5.   5.5  6.   6.5  7.\n",
      "  7.5  8.   8.5  9.   9.5]\n",
      "[  0.    2.5   5.    7.5  10. ]\n"
     ]
    }
   ],
   "source": [
    "print( np.arange(0.0, 10, 0.5) )\n",
    "print( np.linspace(0, 10, 5) )"
   ]
  },
  {
   "cell_type": "code",
   "execution_count": 24,
   "metadata": {},
   "outputs": [
    {
     "name": "stdout",
     "output_type": "stream",
     "text": [
      "[   1.            1.09854114    1.20679264    1.32571137    1.45634848\n",
      "    1.59985872    1.75751062    1.93069773    2.12095089    2.32995181\n",
      "    2.55954792    2.8117687     3.0888436     3.39322177    3.72759372\n",
      "    4.09491506    4.49843267    4.94171336    5.42867544    5.96362332\n",
      "    6.55128557    7.19685673    7.90604321    8.68511374    9.54095476\n",
      "   10.48113134   11.51395399   12.64855217   13.89495494   15.26417967\n",
      "   16.76832937   18.42069969   20.23589648   22.22996483   24.42053095\n",
      "   26.82695795   29.47051703   32.37457543   35.56480306   39.06939937\n",
      "   42.9193426    47.14866363   51.79474679   56.89866029   62.50551925\n",
      "   68.6648845    75.43120063   82.86427729   91.0298178   100.        ]\n"
     ]
    }
   ],
   "source": [
    "x = np.logspace(0, 2, 50) # 5 data points between 10**0=1 to 10**2=100\n",
    "print(x)"
   ]
  },
  {
   "cell_type": "code",
   "execution_count": 75,
   "metadata": {},
   "outputs": [],
   "source": [
    "import matplotlib.pyplot as plt"
   ]
  },
  {
   "cell_type": "code",
   "execution_count": 76,
   "metadata": {},
   "outputs": [
    {
     "data": {
      "text/plain": [
       "[<matplotlib.lines.Line2D at 0x113e512e8>]"
      ]
     },
     "execution_count": 76,
     "metadata": {},
     "output_type": "execute_result"
    },
    {
     "data": {
      "image/png": "[encoded data removed]",
      "text/plain": [
       "<Figure size 432x288 with 1 Axes>"
      ]
     },
     "metadata": {
      "needs_background": "light"
     },
     "output_type": "display_data"
    }
   ],
   "source": [
    "plt.plot(x)"
   ]
  },
  {
   "cell_type": "markdown",
   "metadata": {},
   "source": [
    "### 1.5.5 Arreglos Meshgrid "
   ]
  },
  {
   "cell_type": "markdown",
   "metadata": {},
   "source": [
    "Las cuadrículas de coordenadas multidimensionales se pueden generar usando la función `meshgrid`. Dadas dos arreglos de coordenadas unidimensionales (es decir, arreglos que contienen un conjunto de coordenadas a lo largo de una dimensión determinada), podemos generar arreglos de coordenadas bidimensionales utilizando la función `meshgrid`. Una ilustración de esto se da en el siguiente ejemplo:"
   ]
  },
  {
   "cell_type": "code",
   "execution_count": 29,
   "metadata": {},
   "outputs": [],
   "source": [
    "x = np.array([-1, 0, 1]) \n",
    "y = np.array([-2, 0, 2])"
   ]
  },
  {
   "cell_type": "code",
   "execution_count": 33,
   "metadata": {},
   "outputs": [
    {
     "name": "stdout",
     "output_type": "stream",
     "text": [
      "[array([[-1,  0,  1],\n",
      "       [-1,  0,  1],\n",
      "       [-1,  0,  1]]), array([[-2, -2, -2],\n",
      "       [ 0,  0,  0],\n",
      "       [ 2,  2,  2]])]\n"
     ]
    }
   ],
   "source": [
    "print(np.meshgrid(x, y))"
   ]
  },
  {
   "cell_type": "code",
   "execution_count": 34,
   "metadata": {},
   "outputs": [
    {
     "name": "stdout",
     "output_type": "stream",
     "text": [
      "[[-1  0  1]\n",
      " [-1  0  1]\n",
      " [-1  0  1]]\n",
      "[[-2 -2 -2]\n",
      " [ 0  0  0]\n",
      " [ 2  2  2]]\n"
     ]
    }
   ],
   "source": [
    "X, Y = np.meshgrid(x, y) # Crea un arreglo cuadrado de NxN de cada lista que se le da\n",
    "\n",
    "print( X )\n",
    "print( Y )"
   ]
  },
  {
   "cell_type": "markdown",
   "metadata": {},
   "source": [
    "Un caso de uso común de los arreglos de coordenadas bidimensionales, como `X` e `Y` en este ejemplo, es evaluar funciones sobre dos variables $x$ e $y$. Esto se puede utilizar al graficar funciones sobre dos variables, como diagramas de mapa de colores y diagramas de contorno. Por ejemplo, para evaluar la expresión $(x + y)2$ en todas las combinaciones de valores de las matrices `x` e `y` de la sección anterior, podemos usar las matrices de coordenadas bidimensionales `X` e `Y`"
   ]
  },
  {
   "cell_type": "code",
   "execution_count": 35,
   "metadata": {},
   "outputs": [
    {
     "name": "stdout",
     "output_type": "stream",
     "text": [
      "[[9 4 1]\n",
      " [1 0 1]\n",
      " [1 4 9]]\n"
     ]
    }
   ],
   "source": [
    "Z = (X + Y) ** 2\n",
    "print( Z )"
   ]
  },
  {
   "cell_type": "markdown",
   "metadata": {},
   "source": [
    "También es posible generar matrices de coordenadas de mayor dimensión pasando más arreglos como argumento a la función `meshgrid`. Alternativamente, las funciones `mgrid` y `ogrid` también se pueden utilizar para generar arreglos de coordenadas, utilizando una sintaxis ligeramente diferente basada en la indexación y los objetos de corte. Consulte sus cadenas de documentación o la documentación de NumPy para obtener más detalles."
   ]
  },
  {
   "cell_type": "markdown",
   "metadata": {},
   "source": [
    "### 1.5.7 Creación de arreglos con propiedades de otros arreglos"
   ]
  },
  {
   "cell_type": "markdown",
   "metadata": {},
   "source": [
    "A menudo es necesario crear nuevas arreglos que compartan propiedades, como la forma y el tipo de datos, con otro arreglo. NumPy proporciona una familia de funciones para este propósito: `ones_like`, `zeros_like`, `full_like` y `empty_like`. Un caso de uso típico es una función que toma matrices de tipo y tamaño no especificados como argumentos y requiere matrices de trabajo del mismo tamaño y tipo. Por ejemplo, un ejemplo estándar de esta situación se da en la siguiente función"
   ]
  },
  {
   "cell_type": "code",
   "execution_count": 38,
   "metadata": {},
   "outputs": [
    {
     "name": "stdout",
     "output_type": "stream",
     "text": [
      "[4, 4, 2]\n",
      "[1 1 1]\n"
     ]
    }
   ],
   "source": [
    "x = [4, 4, 2]\n",
    "y = np.ones_like(x)\n",
    "print( x ) \n",
    "print( y )"
   ]
  },
  {
   "cell_type": "markdown",
   "metadata": {},
   "source": [
    "### 1.5.8 Creación de matrices "
   ]
  },
  {
   "cell_type": "markdown",
   "metadata": {},
   "source": [
    "Las matrices, o arreglos bidimensionales, son un caso importante para la computo científico. NumPy proporciona funciones para generar matrices de uso común. En particular, la función `identity` genera una matriz cuadrada con unos en la diagonal y ceros en el resto:"
   ]
  },
  {
   "cell_type": "code",
   "execution_count": 89,
   "metadata": {},
   "outputs": [
    {
     "data": {
      "text/plain": [
       "array([[1., 0., 0., 0.],\n",
       "       [0., 1., 0., 0.],\n",
       "       [0., 0., 1., 0.],\n",
       "       [0., 0., 0., 1.]])"
      ]
     },
     "execution_count": 89,
     "metadata": {},
     "output_type": "execute_result"
    }
   ],
   "source": [
    "np.identity(4)"
   ]
  },
  {
   "cell_type": "markdown",
   "metadata": {},
   "source": [
    "La función similar `eye` genera matrices con unos en diagonal (opcionalmente desplazadas). Esto se ilustra en el siguiente ejemplo, que produce matrices con diagonales distintas de cero por encima y por debajo de la diagonal, respectivamente:"
   ]
  },
  {
   "cell_type": "code",
   "execution_count": 92,
   "metadata": {},
   "outputs": [
    {
     "data": {
      "text/plain": [
       "array([[1., 0., 0.],\n",
       "       [0., 1., 0.],\n",
       "       [0., 0., 1.]])"
      ]
     },
     "execution_count": 92,
     "metadata": {},
     "output_type": "execute_result"
    }
   ],
   "source": [
    "np.eye(3)"
   ]
  },
  {
   "cell_type": "code",
   "execution_count": 90,
   "metadata": {},
   "outputs": [
    {
     "data": {
      "text/plain": [
       "array([[0., 1., 0.],\n",
       "       [0., 0., 1.],\n",
       "       [0., 0., 0.]])"
      ]
     },
     "execution_count": 90,
     "metadata": {},
     "output_type": "execute_result"
    }
   ],
   "source": [
    "np.eye(3, k = 1)"
   ]
  },
  {
   "cell_type": "code",
   "execution_count": 93,
   "metadata": {},
   "outputs": [
    {
     "data": {
      "text/plain": [
       "array([[0., 0., 0.],\n",
       "       [1., 0., 0.],\n",
       "       [0., 1., 0.]])"
      ]
     },
     "execution_count": 93,
     "metadata": {},
     "output_type": "execute_result"
    }
   ],
   "source": [
    "np.eye(3, k = -1)"
   ]
  },
  {
   "cell_type": "markdown",
   "metadata": {},
   "source": [
    "Para construir una matriz con un arreglo unidimensional arbitrario en la diagonal, podemos usar la función `diag` (que también toma el argumento de palabra clave opcional k para especificar un desplazamiento de la diagonal), como se demuestra aquí"
   ]
  },
  {
   "cell_type": "code",
   "execution_count": 94,
   "metadata": {},
   "outputs": [
    {
     "data": {
      "text/plain": [
       "array([ 0,  5, 10, 15])"
      ]
     },
     "execution_count": 94,
     "metadata": {},
     "output_type": "execute_result"
    }
   ],
   "source": [
    "np.arange(0, 20, 5)"
   ]
  },
  {
   "cell_type": "code",
   "execution_count": 95,
   "metadata": {},
   "outputs": [
    {
     "data": {
      "text/plain": [
       "array([[5, 0, 0, 0],\n",
       "       [0, 5, 0, 0],\n",
       "       [0, 0, 1, 0],\n",
       "       [0, 0, 0, 4]])"
      ]
     },
     "execution_count": 95,
     "metadata": {},
     "output_type": "execute_result"
    }
   ],
   "source": [
    "np.diag((5 ,5, 1, 4))"
   ]
  },
  {
   "cell_type": "code",
   "execution_count": 40,
   "metadata": {},
   "outputs": [
    {
     "data": {
      "text/plain": [
       "array([[ 0,  0,  0,  0],\n",
       "       [ 0,  5,  0,  0],\n",
       "       [ 0,  0, 10,  0],\n",
       "       [ 0,  0,  0, 15]])"
      ]
     },
     "execution_count": 40,
     "metadata": {},
     "output_type": "execute_result"
    }
   ],
   "source": [
    "np.diag(np.arange(0, 20, 5))"
   ]
  },
  {
   "cell_type": "markdown",
   "metadata": {},
   "source": [
    "Aquí le dimos un tercer argumento a la función `arange`, que especifica el tamaño del paso en la enumeración de elementos en la matriz devuelta por la función. Por tanto, el arreglo resultante contiene los valores `[0, 5, 10, 15]`, que se inserta en la diagonal de una matriz bidimensional mediante la función `diag`."
   ]
  },
  {
   "cell_type": "markdown",
   "metadata": {},
   "source": [
    "## 1.6 Indexación y corte"
   ]
  },
  {
   "cell_type": "markdown",
   "metadata": {},
   "source": [
    "Para acceder a los elementos y subarreglos de los arreglos NumPy utilizando la notación de corchetes estándar que también se usa con las listas de Python. Dentro del corchete, se utilizan una variedad de formatos de índice diferentes para diferentes tipos de selección de elementos. En general, la expresión dentro del corchete es una tupla, donde cada elemento de la tupla es una especificación de qué elementos seleccionar de cada eje (dimensión) de la matriz."
   ]
  },
  {
   "cell_type": "markdown",
   "metadata": {},
   "source": [
    "### 1.6.1 Arreglos unidimensionales"
   ]
  },
  {
   "cell_type": "markdown",
   "metadata": {},
   "source": [
    "A lo largo de un solo eje, los números enteros se utilizan para seleccionar elementos individuales, y los llamados sectores se utilizan para seleccionar rangos y secuencias de elementos. Los enteros positivos se usan para indexar elementos desde el principio del arreglo (el índice comienza en 0) y los números enteros negativos se usan para indexar elementos desde el final de la matriz, donde el último elemento se indexa con -1, el penúltimo elemento con –2, y así sucesivamente.\n",
    "\n",
    "En la siguiente tabla se muestr un resumen de las operaciones de indexación y segmentación para los arreglos de NumPy."
   ]
  },
  {
   "cell_type": "markdown",
   "metadata": {},
   "source": [
    "|Expresión |                    Descripción         |\n",
    "|----------|----------------------------------------|\n",
    "|  `a[m]`  |Seleccione el elemento en el índice m, donde m es un número entero|  \n",
    "| `a[-m]`  |seleccione el n-ésimo elemento del final de la lista, donde n es un número entero. El último elemento de la lista se denomina –1, el penúltimo elemento como –2, y así sucesivamente|\n",
    "| `a[m:n]` |Selecciona elementos con índice que comienza en my termina en n - 1|\n",
    "|  `a[:]`  |Seleccione todos los elementos en el eje dado|\n",
    "|  `a[:n]` |Selecciona elementos comenzando con el índice 0 y subiendo hasta el índice n - 1|\n",
    "|  `a[m:]` |Selecciona elementos comenzando con el índice m (entero) y subiendo hasta el último elemento del arreglo|\n",
    "|`a[m:n:p]`|Selecciona elementos con índice m hasta n (exclusivo), con incremento p.|\n",
    "| `a[::-1]`|Seleccione todos los elementos, en orden inverso|"
   ]
  },
  {
   "cell_type": "markdown",
   "metadata": {},
   "source": [
    "Los siguientes ejemplos demuestran operaciones de índice y corte para matrices NumPy. \n",
    "\n",
    "Para empezar, considere una matriz con un solo eje (dimensión) que contiene una secuencia de números enteros entre 0 y 10:"
   ]
  },
  {
   "cell_type": "markdown",
   "metadata": {},
   "source": [
    "### 1.6.2 Arreglos multidimensionales  "
   ]
  },
  {
   "cell_type": "markdown",
   "metadata": {},
   "source": [
    "Con arreglos multidimensionales, las selecciones de elementos como las introducidas en la sección anterior se pueden aplicar en cada eje (dimensión). El resultado es un arreglo reducido donde cada elemento coincide con las reglas de selección dadas. Como ejemplo específico, considere la siguiente arreglo bidimensional"
   ]
  },
  {
   "cell_type": "code",
   "execution_count": 39,
   "metadata": {},
   "outputs": [
    {
     "name": "stdout",
     "output_type": "stream",
     "text": [
      "[[ 0  1  2  3  4  5]\n",
      " [10 11 12 13 14 15]\n",
      " [20 21 22 23 24 25]\n",
      " [30 31 32 33 34 35]\n",
      " [40 41 42 43 44 45]\n",
      " [50 51 52 53 54 55]]\n"
     ]
    }
   ],
   "source": [
    "f = lambda m, n: n + 10 * m\n",
    "\n",
    "A = np.fromfunction(f, (6, 6), dtype=int)\n",
    "print(A)"
   ]
  },
  {
   "cell_type": "markdown",
   "metadata": {},
   "source": [
    "Podemos extraer columnas y filas de este arreglo bidimensional utilizando una combinación de indexación de sectores y enteros"
   ]
  },
  {
   "cell_type": "markdown",
   "metadata": {},
   "source": [
    "## 1.7 Cambio de tamaño y de forma"
   ]
  },
  {
   "cell_type": "markdown",
   "metadata": {},
   "source": [
    "Cuando se trabaja con datos en forma de matriz, a menudo es útil reorganizar los arreglos y alterar la forma en que se interpretan. Por ejemplo, una matriz de matriz $N \\times N$ podría reorganizarse en un vector de longitud $2N$, o un conjunto de matrices unidimensionales podría concatenarse o apilarse una junto a la otra para formar una matriz. NumPy proporciona un rico conjunto de funciones de este tipo de manipulación. En la siguiente tabla se muestra un resumen de una selección de estas funciones."
   ]
  },
  {
   "cell_type": "markdown",
   "metadata": {},
   "source": [
    "|  Método  |                    Descripción         |\n",
    "|----------|----------------------------------------|\n",
    "|`reshape` |Remodelar una matriz N-dimensional. El número total de elementos debe permanecer igual|  \n",
    "|`ndarray.flatten`|Remodelar una matriz N-dimensional. El número total de elementos debe permanecer igual|\n",
    "|`ravel`|Cree una vista (si es posible, de lo contrario una copia) de una matriz N-dimensional en la que se interprete como una matriz unidimensional|\n",
    "|`squeeze`|Remueve ejes de longitud $1$|\n",
    "|`expand_dims,newaxis`|Agrega un nuevo eje (dimensión) de longitud 1 a una matriz, donde `newaxis` se usa con indexación de matriz|\n",
    "|`transpose, ndarray.transpose, ndarray.T`|Transpone la matriz. La operación de transposición corresponde a invertir (o más generalmente, permutar) los ejes de la matriz|\n",
    "|`hstack`|Apila una lista de matrices horizontalmente (a lo largo del eje 1): por ejemplo, dada una lista de vectores de columna, agrega las columnas para formar una matriz|\n",
    "|`vstack`|Apila una lista de matrices verticalmente (a lo largo del eje 0): por ejemplo, dada una lista de vectores de fila, agrega las filas para formar una matriz|\n",
    "|`dstack`|Apila matrices en profundidad (a lo largo del eje 2).|\n",
    "|`concatenate`|Crea una nueva matriz agregando matrices una tras otra, a lo largo de un eje dado|\n",
    "|`resize`|Cambia el tamaño de un arreglo. Crea una nueva copia del arreglo original, con el tamaño solicitado. Si es necesario, el arreglo original se repetirá para completar la nueva matriz.|\n",
    "|`append`|Agrega un elemento a un arreglo. Crea una nueva copia del arreglo|\n",
    "|`insert`|Inserta un nuevo elemento en una posición determinada. Crea una nueva copia del arreglo|\n",
    "|`delete`|Elimina un elemento en una posición determinada. Crea una nueva copia del arreglo|"
   ]
  },
  {
   "cell_type": "code",
   "execution_count": 60,
   "metadata": {},
   "outputs": [
    {
     "name": "stdout",
     "output_type": "stream",
     "text": [
      "[[1 2]\n",
      " [3 4]]\n",
      "[[1 2 3 4]]\n",
      "[1 2 3 4]\n"
     ]
    }
   ],
   "source": [
    "ex = np.array([[1, 2], [3, 4]])\n",
    "print(ex)\n",
    "print( np.reshape(ex, (1, 4))  )\n",
    "print( ex.reshape(4) )"
   ]
  },
  {
   "cell_type": "code",
   "execution_count": 61,
   "metadata": {},
   "outputs": [
    {
     "name": "stdout",
     "output_type": "stream",
     "text": [
      "[  1.           1.81818182   2.63636364   3.45454545   4.27272727\n",
      "   5.09090909   5.90909091   6.72727273   7.54545455   8.36363636\n",
      "   9.18181818  10.        ]\n",
      "[[[  1.           1.81818182]\n",
      "  [  2.63636364   3.45454545]]\n",
      "\n",
      " [[  4.27272727   5.09090909]\n",
      "  [  5.90909091   6.72727273]]\n",
      "\n",
      " [[  7.54545455   8.36363636]\n",
      "  [  9.18181818  10.        ]]]\n"
     ]
    }
   ],
   "source": [
    "a = np.linspace(1, 10, 12)\n",
    "print(a)\n",
    "print(a.reshape((3,2,2)))"
   ]
  },
  {
   "cell_type": "code",
   "execution_count": 63,
   "metadata": {},
   "outputs": [
    {
     "name": "stdout",
     "output_type": "stream",
     "text": [
      "[[1 2]\n",
      " [3 4]]\n",
      "[1 2 3 4]\n",
      "(4,)\n"
     ]
    }
   ],
   "source": [
    "data = np.array([[1, 2], [3, 4]])\n",
    "print(data)\n",
    "print(data.flatten() )\n",
    "print( data.flatten().shape )"
   ]
  },
  {
   "cell_type": "code",
   "execution_count": 68,
   "metadata": {},
   "outputs": [
    {
     "name": "stdout",
     "output_type": "stream",
     "text": [
      "[0 1 2 3 4]\n",
      "[[0]\n",
      " [1]\n",
      " [2]\n",
      " [3]\n",
      " [4]]\n",
      "[[0 1 2 3 4]]\n"
     ]
    }
   ],
   "source": [
    "data = np.arange(0, 5)\n",
    "print(data)\n",
    "\n",
    "column = data[:, np.newaxis]  # Agregamos una dimensión más\n",
    "row = data[np.newaxis, :]  \n",
    "print(column)\n",
    "print(row)"
   ]
  },
  {
   "cell_type": "code",
   "execution_count": 69,
   "metadata": {},
   "outputs": [
    {
     "data": {
      "text/plain": [
       "array([[0, 1, 2, 3, 4],\n",
       "       [1, 2, 3, 4, 5],\n",
       "       [2, 3, 4, 5, 6]])"
      ]
     },
     "execution_count": 69,
     "metadata": {},
     "output_type": "execute_result"
    }
   ],
   "source": [
    "data1 = np.arange(1, 6)\n",
    "data2 = np.arange(2, 7)\n",
    "\n",
    "np.vstack((data, data1, data2))"
   ]
  },
  {
   "cell_type": "code",
   "execution_count": 149,
   "metadata": {},
   "outputs": [
    {
     "data": {
      "text/plain": [
       "array([0, 1, 2, 3, 4, 1, 2, 3, 4, 5, 2, 3, 4, 5, 6])"
      ]
     },
     "execution_count": 149,
     "metadata": {},
     "output_type": "execute_result"
    }
   ],
   "source": [
    "np.hstack((data, data1, data2))"
   ]
  },
  {
   "cell_type": "code",
   "execution_count": 150,
   "metadata": {},
   "outputs": [
    {
     "data": {
      "text/plain": [
       "array([[0, 1, 2],\n",
       "       [1, 2, 3],\n",
       "       [2, 3, 4],\n",
       "       [3, 4, 5],\n",
       "       [4, 5, 6]])"
      ]
     },
     "execution_count": 150,
     "metadata": {},
     "output_type": "execute_result"
    }
   ],
   "source": [
    "np.hstack((data[:, np.newaxis], data1[:, np.newaxis], data2[:, np.newaxis]))"
   ]
  },
  {
   "cell_type": "markdown",
   "metadata": {
    "tags": []
   },
   "source": [
    "## 1.8 Expresiones vectorizadas "
   ]
  },
  {
   "cell_type": "markdown",
   "metadata": {},
   "source": [
    "El propósito de almacenar datos numéricos en arreglos es poder procesar los datos con expresiones vectorizadas concisas que representan operaciones por lotes que se aplican a todos los elementos de los arreglos. El uso eficiente de expresiones vectorizadas elimina la necesidad de muchos ciclos `for` explícitos. Esto da como resultado un código menos detallado, una mejor capacidad de mantenimiento y un código de mayor rendimiento. NumPy implementa funciones y operaciones vectorizadas correspondientes a la mayoría de las funciones y operadoraciones matemátecas fundamentales. Muchas de estas funciones y operaciones actúan sobre arreglos por elementos, y las operaciones binarias requieren que todos los arreglos de una expresión tengan un tamaño compatible. El significado de tamaño compatible es normalmente que las variables en una expresión representan escalares o arreglos del mismo tamaño y forma. De manera más general, una operación binaria que involucra dos arreglos está bien definida si los arreglos se pueden difundir con la misma forma y tamaño.\n",
    "\n",
    "\n",
    "En el caso de una operación entre un escalar y una matriz, la difusión se refiere a la distribución del escalar y la operación aplicada a cada elemento de la matriz. Cuando una expresión contiene matrices de tamaños desiguales, las operaciones aún pueden estar bien definidas si la matriz más pequeña se puede transmitir (\"expandir efectivamente\") para que coincida con la matriz más grande de acuerdo con la regla de transmisión de NumPy: una matriz se puede transmitir a través de otra matriz si sus ejes, uno por uno, tienen la misma longitud o si alguno de ellos tiene una longitud 1. Si el número de ejes de las dos matrices no es igual, la matriz con menos ejes se rellena con nuevos ejes de longitud 1 desde la izquierda hasta que coincidan los números de dimensiones de las dos matrices.\n",
    "\n",
    "\n",
    "En la Figura  se muestran dos ejemplos sencillos que ilustran la difusión de arreglos: se agrega una matriz de 3 × 3 a un vector de fila de 1 × 3 y un vector de columna de 3 × 1, respectivamente, y en ambos casos el resultado es un vector de 3 × 3 matriz. Sin embargo, los elementos en las dos matrices resultantes son diferentes, porque la forma en que los elementos de los vectores de fila y columna se transmiten a la forma de la matriz más grande es diferente dependiendo de la forma de las matrices, según la regla de transmisión de NumPy."
   ]
  },
  {
   "cell_type": "markdown",
   "metadata": {},
   "source": [
    "<img src = \"../Images/Vectorized.png\"  width=\"500\" height=\"300\"/>"
   ]
  },
  {
   "cell_type": "code",
   "execution_count": 41,
   "metadata": {},
   "outputs": [
    {
     "data": {
      "text/plain": [
       "array([[12, 14, 16],\n",
       "       [22, 24, 26],\n",
       "       [32, 34, 36]])"
      ]
     },
     "execution_count": 41,
     "metadata": {},
     "output_type": "execute_result"
    }
   ],
   "source": [
    "A = np.array([[11, 12, 13], [21, 22, 23], [31, 32, 33]])\n",
    "v = np.array([1, 2, 3])\n",
    "\n",
    "A + v"
   ]
  },
  {
   "cell_type": "code",
   "execution_count": 42,
   "metadata": {},
   "outputs": [
    {
     "data": {
      "text/plain": [
       "array([[12, 13, 14],\n",
       "       [23, 24, 25],\n",
       "       [34, 35, 36]])"
      ]
     },
     "execution_count": 42,
     "metadata": {},
     "output_type": "execute_result"
    }
   ],
   "source": [
    "u = np.array([[1], [2], [3]])\n",
    "A + u"
   ]
  },
  {
   "cell_type": "markdown",
   "metadata": {},
   "source": [
    "### 1.8.1 Operaciones aritmeticas"
   ]
  },
  {
   "cell_type": "code",
   "execution_count": 49,
   "metadata": {},
   "outputs": [],
   "source": [
    "x = np.array([[1, 2], [3, 4]])\n",
    "y = np.array([[5, 6], [7, 8]])"
   ]
  },
  {
   "cell_type": "code",
   "execution_count": 50,
   "metadata": {},
   "outputs": [
    {
     "name": "stdout",
     "output_type": "stream",
     "text": [
      "[[ 6  8]\n",
      " [10 12]]\n",
      "[[4 4]\n",
      " [4 4]]\n",
      "[[ 5 12]\n",
      " [21 32]]\n",
      "[[ 5.          3.        ]\n",
      " [ 2.33333333  2.        ]]\n"
     ]
    }
   ],
   "source": [
    "print( x + y ) \n",
    "print( y - x ) \n",
    "print( y * x ) \n",
    "print( y / x ) "
   ]
  },
  {
   "cell_type": "markdown",
   "metadata": {},
   "source": [
    "En las operaciones entre escalares y matrices, el valor escalar se aplica a cada elemento de la matriz, como cabría esperar."
   ]
  },
  {
   "cell_type": "code",
   "execution_count": 51,
   "metadata": {},
   "outputs": [
    {
     "name": "stdout",
     "output_type": "stream",
     "text": [
      "[[2 4]\n",
      " [6 8]]\n",
      "[[ 1  4]\n",
      " [ 9 16]]\n"
     ]
    }
   ],
   "source": [
    "print( 2 * x ) \n",
    "print( x **2 ) "
   ]
  },
  {
   "cell_type": "markdown",
   "metadata": {},
   "source": [
    "Si se realiza una operación aritmética en matrices con tamaño o forma incompatibles, se genera una excepción `ValueError`:"
   ]
  },
  {
   "cell_type": "markdown",
   "metadata": {},
   "source": [
    "En la siguiente tabla se muestra un resumen de los operadores para operaciones aritméticas con arreglos de NumPy."
   ]
  },
  {
   "cell_type": "markdown",
   "metadata": {},
   "source": [
    "|Operador| Operación |\n",
    "|--------|-----------|\n",
    "|   `+`  | Suma |\n",
    "|   `-`  | Resta |\n",
    "|   `*`  |Multiplicación|\n",
    "|   `/`  |División|\n",
    "|  `//`  |División entera|\n",
    "|  `**`  |Exponenciación|"
   ]
  },
  {
   "cell_type": "markdown",
   "metadata": {},
   "source": [
    "### 1.8.2 Funciones elementales "
   ]
  },
  {
   "cell_type": "markdown",
   "metadata": {},
   "source": [
    "Además de las expresiones aritméticas que utilizan operadores, NumPy proporciona funciones vectorizadas para la evaluación de elementos de muchas funciones y operaciones matemáticas elementales. La tabla que se muestra a continuación se ofrece un resumen de las funciones matemáticas elementales en NumPy.  Cada una de estas funciones toma una única arreglo (de dimensión arbitraria) como entrada y devuelve un nuevo arreglo de la misma forma, donde para cada elemento se le ha aplicado la función a el elemento correspondiente en el arreglo de entrada. El tipo de datos de arreglo de salida no es necesariamente el mismo que el de la matriz de entrada."
   ]
  },
  {
   "cell_type": "markdown",
   "metadata": {},
   "source": [
    "|           Función           |       Descripción                            |\n",
    "|-----------------------------|----------------------------------------------|\n",
    "|     `cos`,`sin`, `tan`      | Funciones trigométricas                      |\n",
    "| `arccos`,`arcsin`, `arctan` | Funciones trigométricas inversas             |\n",
    "|   `cosh`, `sinh`,  `tanh`   | Funciones hiperbólicas trigométricas         |\n",
    "|`arccosh`,`arcsinh`,`arctanh`| Funciones hiperbólicas trigométricas inversas|\n",
    "|`sqrt`                       | Raíz cuadrada                                |\n",
    "|`exp`                        | Exponencial                                  |\n",
    "|`log`, `log2`, `log10`       |logaritmos de base $e$, 2 y 10, respectivamente|"
   ]
  },
  {
   "cell_type": "markdown",
   "metadata": {},
   "source": [
    "Por ejemplo, la función `sin` (que toma solo un argumento) se usa para calcular la función seno para todos los valores en un arreglo"
   ]
  },
  {
   "cell_type": "code",
   "execution_count": 52,
   "metadata": {},
   "outputs": [
    {
     "name": "stdout",
     "output_type": "stream",
     "text": [
      "[ -1.22464680e-16  -5.87785252e-01  -9.51056516e-01  -9.51056516e-01\n",
      "  -5.87785252e-01   0.00000000e+00   5.87785252e-01   9.51056516e-01\n",
      "   9.51056516e-01   5.87785252e-01   1.22464680e-16]\n"
     ]
    }
   ],
   "source": [
    "x = np.linspace(-1, 1, 11)\n",
    "y = np.sin(np.pi * x)\n",
    "print( y )"
   ]
  },
  {
   "cell_type": "code",
   "execution_count": 53,
   "metadata": {},
   "outputs": [
    {
     "data": {
      "text/plain": [
       "array([-0.    , -0.5878, -0.9511, -0.9511, -0.5878,  0.    ,  0.5878,\n",
       "        0.9511,  0.9511,  0.5878,  0.    ])"
      ]
     },
     "execution_count": 53,
     "metadata": {},
     "output_type": "execute_result"
    }
   ],
   "source": [
    "np.round(y, decimals=4)"
   ]
  },
  {
   "cell_type": "markdown",
   "metadata": {},
   "source": [
    "Aquí también usamos la constante `pi` y la función `round` para redondear los valores de y a cuatro decimales. Al igual que la función `sin`, muchas de las funciones matemáticas elementales toman un arreglo de entrada y producen una matriz de salida. Por el contrario, muchas de las funciones de la siguiente tabla operan con dos arreglos de entrada devuelven un arreglo"
   ]
  },
  {
   "cell_type": "markdown",
   "metadata": {},
   "source": [
    "|           Función           |       Descripción                            |\n",
    "|-----------------------------|----------------------------------------------|\n",
    "|`add`,`subtract`, `multiply`,`divide`|Suma, resta, multiplicación y división de dos arreglos|\n",
    "| `power` |Eleva el primer argumento de entrada a la potencia del segundo argumento de entrada (aplicado por elementos)|\n",
    "|   `remainder`   |El residuo de la división|\n",
    "|`reciprocal`|El recíproco (inverso) de cada elemento|\n",
    "|`real`, `imag`, `conj` |La parte real, la parte imaginaria y el complejo conjugado de los elementos en los arreglos de entrada|                                 |\n",
    "|`sign`,`abs` |El signo y el valor absoluto|\n",
    "|`floor`,`ceil`, `rint` |Convierte a valores enteros|\n",
    "|`round` |Redondea a un número determinado de decimales|"
   ]
  },
  {
   "cell_type": "markdown",
   "metadata": {},
   "source": [
    "Ocasionalmente es necesario definir nuevas funciones que operen con arreglos elemento por elemento. Una buena manera de implementar tales funciones es expresarlas en términos de operadores y expresiones NumPy ya existentes, pero en los casos en que esto no sea posible, la función np.vectorize puede ser una herramienta conveniente. Esta función toma una función no vectorizada y devuelve una función vectorizada. Por ejemplo, considere la siguiente implementación de la función de paso `heaviside`, que funciona para la entrada escalar:"
   ]
  },
  {
   "cell_type": "code",
   "execution_count": 72,
   "metadata": {},
   "outputs": [
    {
     "name": "stdout",
     "output_type": "stream",
     "text": [
      "0\n",
      "1\n"
     ]
    },
    {
     "ename": "ValueError",
     "evalue": "The truth value of an array with more than one element is ambiguous. Use a.any() or a.all()",
     "output_type": "error",
     "traceback": [
      "\u001b[0;31m---------------------------------------------------------------------------\u001b[0m",
      "\u001b[0;31mValueError\u001b[0m                                Traceback (most recent call last)",
      "\u001b[0;32m<ipython-input-72-b7b8e60c892a>\u001b[0m in \u001b[0;36m<module>\u001b[0;34m\u001b[0m\n\u001b[1;32m      6\u001b[0m \u001b[0;34m\u001b[0m\u001b[0m\n\u001b[1;32m      7\u001b[0m \u001b[0mx\u001b[0m \u001b[0;34m=\u001b[0m \u001b[0mnp\u001b[0m\u001b[0;34m.\u001b[0m\u001b[0mlinspace\u001b[0m\u001b[0;34m(\u001b[0m\u001b[0;34m-\u001b[0m\u001b[0;36m1\u001b[0m\u001b[0;34m,\u001b[0m\u001b[0;36m1\u001b[0m\u001b[0;34m,\u001b[0m\u001b[0;36m10\u001b[0m\u001b[0;34m)\u001b[0m\u001b[0;34m\u001b[0m\u001b[0;34m\u001b[0m\u001b[0m\n\u001b[0;32m----> 8\u001b[0;31m \u001b[0mheaviside\u001b[0m\u001b[0;34m(\u001b[0m\u001b[0mx\u001b[0m\u001b[0;34m)\u001b[0m\u001b[0;34m\u001b[0m\u001b[0;34m\u001b[0m\u001b[0m\n\u001b[0m",
      "\u001b[0;32m<ipython-input-72-b7b8e60c892a>\u001b[0m in \u001b[0;36mheaviside\u001b[0;34m(x)\u001b[0m\n\u001b[1;32m      1\u001b[0m \u001b[0;32mdef\u001b[0m \u001b[0mheaviside\u001b[0m\u001b[0;34m(\u001b[0m\u001b[0mx\u001b[0m\u001b[0;34m)\u001b[0m\u001b[0;34m:\u001b[0m\u001b[0;34m\u001b[0m\u001b[0;34m\u001b[0m\u001b[0m\n\u001b[0;32m----> 2\u001b[0;31m     \u001b[0;32mreturn\u001b[0m \u001b[0;36m1\u001b[0m \u001b[0;32mif\u001b[0m \u001b[0mx\u001b[0m \u001b[0;34m>\u001b[0m \u001b[0;36m0\u001b[0m \u001b[0;32melse\u001b[0m \u001b[0;36m0\u001b[0m\u001b[0;34m\u001b[0m\u001b[0;34m\u001b[0m\u001b[0m\n\u001b[0m\u001b[1;32m      3\u001b[0m \u001b[0;34m\u001b[0m\u001b[0m\n\u001b[1;32m      4\u001b[0m \u001b[0mprint\u001b[0m\u001b[0;34m(\u001b[0m\u001b[0mheaviside\u001b[0m\u001b[0;34m(\u001b[0m\u001b[0;34m-\u001b[0m\u001b[0;36m1\u001b[0m\u001b[0;34m)\u001b[0m\u001b[0;34m)\u001b[0m\u001b[0;34m\u001b[0m\u001b[0;34m\u001b[0m\u001b[0m\n\u001b[1;32m      5\u001b[0m \u001b[0mprint\u001b[0m\u001b[0;34m(\u001b[0m\u001b[0mheaviside\u001b[0m\u001b[0;34m(\u001b[0m\u001b[0;36m1\u001b[0m\u001b[0;34m)\u001b[0m\u001b[0;34m)\u001b[0m\u001b[0;34m\u001b[0m\u001b[0;34m\u001b[0m\u001b[0m\n",
      "\u001b[0;31mValueError\u001b[0m: The truth value of an array with more than one element is ambiguous. Use a.any() or a.all()"
     ]
    }
   ],
   "source": [
    "def heaviside(x):\n",
    "    return 1 if x > 0 else 0\n",
    "\n",
    "print(heaviside(-1))\n",
    "print(heaviside(1))\n",
    "\n",
    "x = np.linspace(-1,1,10)\n",
    "heaviside(x)   # No podemos usar esta función como las demás funciones de np"
   ]
  },
  {
   "cell_type": "markdown",
   "metadata": {},
   "source": [
    "Usando `vectorize`, la función `heaviside` se puede convertir en una función vectorizada que trabaja con arreglos de NumPy como entrada"
   ]
  },
  {
   "cell_type": "code",
   "execution_count": 73,
   "metadata": {},
   "outputs": [
    {
     "data": {
      "text/plain": [
       "array([0, 0, 0, 0, 0, 1, 1, 1, 1, 1])"
      ]
     },
     "execution_count": 73,
     "metadata": {},
     "output_type": "execute_result"
    }
   ],
   "source": [
    "heaviside = np.vectorize(heaviside)\n",
    "heaviside(x)"
   ]
  },
  {
   "cell_type": "markdown",
   "metadata": {},
   "source": [
    "### 1.8.3 Funciones agregadas"
   ]
  },
  {
   "cell_type": "markdown",
   "metadata": {},
   "source": [
    "NumPy proporciona otro conjunto de funciones para calcular agregados para arreglos, que toman un arreglo como entrada y, por defecto, devuelven un escalar como salida. Por ejemplo, promedios, desviaciones estándar y variaciones de los valores en la matriz de entrada, y las funciones para calcular la suma y el producto de los elementos de una matriz, son todas funciones agregadas.\n",
    "\n",
    "En la siguiente se ofrece un resumen de las funciones agregadas. Todas estas funciones también están disponibles como métodos en la clase `ndarray`. Por ejemplo, `mean(data)` y `data.mean()` en el siguiente ejemplo son equivalentes:"
   ]
  },
  {
   "cell_type": "markdown",
   "metadata": {},
   "source": [
    "|           Función           |       Descripción                            |\n",
    "|-----------------------------|----------------------------------------------|\n",
    "|`mean`|El promedio de todos los valores de la matriz|\n",
    "|`std`|Desviación Estándar|\n",
    "|`var`|Varianza|\n",
    "|`sum`|Suma de todos los elementos|\n",
    "|`prod`|Producto de todos los elementos|                                 |\n",
    "|`cumsum`|Suma acumulativa de todos los elementos|\n",
    "|`cumprod`|Producto acumulativo de todos los elementos|\n",
    "|`min`,`max`|El valor mínimo / máximo en una arreglo|\n",
    "|`argmin`,`argmax`|El índice del valor mínimo / máximo en un arreglo|\n",
    "|`all`|Devuelve `True` si todos los elementos de la matriz de argumentos son distintos de cero|\n",
    "|`any`|Devuelve `True` si alguno de los elementos de la matriz de argumentos es distinto de cero.|"
   ]
  },
  {
   "cell_type": "code",
   "execution_count": 1,
   "metadata": {},
   "outputs": [],
   "source": [
    "import numpy as np"
   ]
  },
  {
   "cell_type": "code",
   "execution_count": 2,
   "metadata": {},
   "outputs": [],
   "source": [
    "data = np.random.normal(size=(5, 10, 15))  # Valores al azar de un arreglo de 5x10x15"
   ]
  },
  {
   "cell_type": "code",
   "execution_count": 3,
   "metadata": {},
   "outputs": [
    {
     "name": "stdout",
     "output_type": "stream",
     "text": [
      "0.0559328574343\n",
      "0.0559328574343\n"
     ]
    }
   ],
   "source": [
    "print(np.mean(data))\n",
    "print(data.mean())"
   ]
  },
  {
   "cell_type": "code",
   "execution_count": 82,
   "metadata": {},
   "outputs": [
    {
     "data": {
      "text/plain": [
       "(10, 15)"
      ]
     },
     "execution_count": 82,
     "metadata": {},
     "output_type": "execute_result"
    }
   ],
   "source": [
    "data.sum(axis=0).shape"
   ]
  },
  {
   "cell_type": "code",
   "execution_count": 83,
   "metadata": {},
   "outputs": [
    {
     "data": {
      "text/plain": [
       "(10,)"
      ]
     },
     "execution_count": 83,
     "metadata": {},
     "output_type": "execute_result"
    }
   ],
   "source": [
    "data.sum(axis=(0, 2)).shape"
   ]
  },
  {
   "cell_type": "code",
   "execution_count": 84,
   "metadata": {},
   "outputs": [
    {
     "data": {
      "text/plain": [
       "11.926380138628456"
      ]
     },
     "execution_count": 84,
     "metadata": {},
     "output_type": "execute_result"
    }
   ],
   "source": [
    "data.sum()"
   ]
  },
  {
   "cell_type": "markdown",
   "metadata": {},
   "source": [
    "En la siguiente figura se muestra una ilustración visual de cómo la agregación sobre todos los elementos, sobre el primer eje y sobre el segundo eje de una matriz de $3 \\times 3$. En este ejemplo, la matriz de datos se llena con números enteros entre $1$ y $9$"
   ]
  },
  {
   "cell_type": "code",
   "execution_count": 85,
   "metadata": {},
   "outputs": [],
   "source": [
    "data = np.arange(1,10).reshape(3,3)"
   ]
  },
  {
   "cell_type": "code",
   "execution_count": 86,
   "metadata": {},
   "outputs": [
    {
     "data": {
      "text/plain": [
       "array([[1, 2, 3],\n",
       "       [4, 5, 6],\n",
       "       [7, 8, 9]])"
      ]
     },
     "execution_count": 86,
     "metadata": {},
     "output_type": "execute_result"
    }
   ],
   "source": [
    "data"
   ]
  },
  {
   "cell_type": "markdown",
   "metadata": {},
   "source": [
    "<img src = \"../Images/VecExample.png\"  width=\"600\" height=\"300\"/>"
   ]
  },
  {
   "cell_type": "code",
   "execution_count": 2,
   "metadata": {},
   "outputs": [
    {
     "data": {
      "text/plain": [
       "0.8888888888888888"
      ]
     },
     "execution_count": 2,
     "metadata": {},
     "output_type": "execute_result"
    }
   ],
   "source": [
    "8*1./9."
   ]
  },
  {
   "cell_type": "code",
   "execution_count": 88,
   "metadata": {},
   "outputs": [
    {
     "data": {
      "text/plain": [
       "array([12, 15, 18])"
      ]
     },
     "execution_count": 88,
     "metadata": {},
     "output_type": "execute_result"
    }
   ],
   "source": [
    "data.sum(axis=0)"
   ]
  },
  {
   "cell_type": "code",
   "execution_count": 89,
   "metadata": {},
   "outputs": [
    {
     "data": {
      "text/plain": [
       "array([ 6, 15, 24])"
      ]
     },
     "execution_count": 89,
     "metadata": {},
     "output_type": "execute_result"
    }
   ],
   "source": [
    "data.sum(axis=1)"
   ]
  },
  {
   "cell_type": "code",
   "execution_count": 11,
   "metadata": {},
   "outputs": [
    {
     "name": "stdout",
     "output_type": "stream",
     "text": [
      "[[ 26.00750239  39.65006977   4.3978435    0.36575486   9.32599197]\n",
      " [  2.04810039  38.79205279  26.70270763  31.28491356  36.64559371]\n",
      " [ 22.67492704  13.13212216  20.93043308  12.24739454   1.62949016]\n",
      " [ 22.38975185  17.15919413   6.92652192  25.62296003  25.13363696]\n",
      " [ 27.99389257   9.8227427   37.11529464   5.60862974  14.56673323]]\n",
      "[[  0.36575486   4.3978435    9.32599197  26.00750239  39.65006977]\n",
      " [  2.04810039  26.70270763  31.28491356  36.64559371  38.79205279]\n",
      " [  1.62949016  12.24739454  13.13212216  20.93043308  22.67492704]\n",
      " [  6.92652192  17.15919413  22.38975185  25.13363696  25.62296003]\n",
      " [  5.60862974   9.8227427   14.56673323  27.99389257  37.11529464]]\n"
     ]
    }
   ],
   "source": [
    "data = np.random.rand(5*5) * 50\n",
    "data = data.reshape(5,5)\n",
    "print(data)\n",
    "sorted_data = np.sort(data)\n",
    "print(sorted_data)"
   ]
  },
  {
   "cell_type": "markdown",
   "metadata": {},
   "source": [
    "### 1.8.4 Arreglos booleanos y expresiones condicionales"
   ]
  },
  {
   "cell_type": "markdown",
   "metadata": {},
   "source": [
    "Cuando se calcula con arreglos de NumPy, a menudo es necesario comparar elementos en diferentes arreglos y realizar cálculos condicionales basados en los resultados de dichas comparaciones. Al igual que con los operadores aritméticos, los arreglos se pueden utilizar con los operadores de comparación habituales, por ejemplo; `>`, `<`,`> =`, `<=`, `==` y `!=`,  las comparaciones se realizan elemento por elemento. Las reglas de transmisión también se aplican a los operadores de comparación, y si dos operadores tienen formas y tamaños compatibles, el resultado de la comparación es un nuevo arreglo con valores booleanos que da el resultado de la comparación para cada elemento."
   ]
  },
  {
   "cell_type": "code",
   "execution_count": 92,
   "metadata": {},
   "outputs": [
    {
     "data": {
      "text/plain": [
       "array([ True,  True, False, False], dtype=bool)"
      ]
     },
     "execution_count": 92,
     "metadata": {},
     "output_type": "execute_result"
    }
   ],
   "source": [
    "a = np.array([1, 2, 3, 4])\n",
    "b = np.array([4, 3, 2, 1])\n",
    "\n",
    "a < b"
   ]
  },
  {
   "cell_type": "markdown",
   "metadata": {},
   "source": [
    "Para usar el resultado de una comparación entre arreglos, por ejemplo, una instrucción `if`, necesitamos agregar los valores booleanos de los arreglos resultantes de alguna manera adecuada, para obtener un único valor `True` o `False`. Un caso de uso común es aplicar `all` o n cualquier función de agregación, dependiendo de la situación en cuestión"
   ]
  },
  {
   "cell_type": "code",
   "execution_count": 94,
   "metadata": {},
   "outputs": [
    {
     "name": "stdout",
     "output_type": "stream",
     "text": [
      "False\n",
      "True\n",
      "[0 0 1 1]\n"
     ]
    }
   ],
   "source": [
    "print(np.all(a < b))\n",
    "print(np.any(a < b))\n",
    "print( 1 * (a >b) )"
   ]
  },
  {
   "cell_type": "markdown",
   "metadata": {},
   "source": [
    "Esta es una propiedad útil para el cálculo condicional, como cuando se definen funciones por partes. Por ejemplo, si necesitamos definir una función que describa un pulso de una altura, ancho y posición dados, podemos implementar esta función multiplicando la altura (una variable escalar) con dos arreglos con valores booleanos para la extensión espacial del pulso:"
   ]
  },
  {
   "cell_type": "code",
   "execution_count": 95,
   "metadata": {},
   "outputs": [
    {
     "name": "stdout",
     "output_type": "stream",
     "text": [
      "[0 0 0 1 1 1 1 1 1 0 0]\n",
      "[0 0 0 0 0 0 1 1 1 1 1]\n"
     ]
    }
   ],
   "source": [
    "def pulse(x, position, height, width):\n",
    "    return height * (x >= position) * (x <= (position + width))\n",
    "\n",
    "x = np.linspace(-5, 5, 11)\n",
    "print( pulse(x, position=-2, height=1, width=5) )\n",
    "print( pulse(x, position=1, height=1, width=5) )"
   ]
  },
  {
   "cell_type": "markdown",
   "metadata": {},
   "source": [
    "En este ejemplo, la expresión `(x> = posición) * (x <= (posición + ancho))` es una multiplicación de dos arreglos con valores booleanos y, en este caso, el operador de multiplicación actúa como un operador `AND` de elementos. La función pulso también podría implementarse usando la función de NumPy para operaciones `AND` de elementos, `np.logical_and`:"
   ]
  },
  {
   "cell_type": "code",
   "execution_count": 267,
   "metadata": {},
   "outputs": [],
   "source": [
    "def pulse(x, position, height, width):\n",
    "    return height * np.logical_and(x >= position, x <= (position + width))"
   ]
  },
  {
   "cell_type": "markdown",
   "metadata": {},
   "source": [
    "También hay funciones para otras operaciones lógicas, como `NOT`, `OR` y `XOR`, y funciones para seleccionar valores de diferentes arreglos en función de una condición dada en la tabla se muestra un resumen de dichas funciones, y los siguientes ejemplos demuestran el uso básico de algunas de estas funciones."
   ]
  },
  {
   "cell_type": "markdown",
   "metadata": {},
   "source": [
    "|           Función           |       Descripción                            |\n",
    "|-----------------------------|----------------------------------------------|\n",
    "|`where`|Elige valores de dos arreglos según el valor de un arreglo de condiciones|\n",
    "|`choose`|Elige valores de una lista de arreglos en función de los valores de un arreglo de índice determinado|\n",
    "|`select`|Elige valores de una lista de arreglos en función de una lista de condiciones|\n",
    "|`nonzero`|Devuelve un arreglo con índices de elementos distintos de cero|\n",
    "|`logical_and`|Realiza la operación `AND` por elementos|                                 \n",
    "|`logical_or`,`logical_xor`|Operación por elemento `OR`\\ `XOR`|\n",
    "|`logical_not`|operación `NOT` por elementos|"
   ]
  },
  {
   "cell_type": "markdown",
   "metadata": {},
   "source": [
    "### 1.8.5 Operaciones de conjuntos"
   ]
  },
  {
   "cell_type": "markdown",
   "metadata": {},
   "source": [
    "El lenguaje Python proporciona una estructura de datos de conjunto conveniente para administrar colecciones desordenadas de objetos únicos. La clase de arreglos de NumPy `ndarray` también se puede usar para describir tales conjuntos, y NumPy contiene funciones para operar en conjuntos almacenados como arreglos NumPy.\n",
    "\n",
    "Estas funciones se resumen en la Tabla. El uso de arreglos de NumPy para describir y operar en conjuntos permite expresar ciertas operaciones en forma vectorizada"
   ]
  },
  {
   "cell_type": "markdown",
   "metadata": {},
   "source": [
    "|   Función   |       Descripción                            |\n",
    "|-------------|----------------------------------------------|\n",
    "|   `unique`  |Crea una nuevo arreglo con elementos únicos, donde cada valor solo aparece una vez|\n",
    "|    `in1d`   |Prueba la existencia de un arreglo de elementos en otro arreglo|\n",
    "|`intersect1d`|Devuelve un arreglo con elementos que están contenidos en dos arrglos dados|\n",
    "| `setdiff1d` |Devuelve un arreglo con elementos que están contenidos en uno, pero no en  otro|\n",
    "|  `union1d`  |Devuelve un arreglo con elementos que están contenidos en una o ambas de dos arreglos dados|                                 "
   ]
  },
  {
   "cell_type": "code",
   "execution_count": 99,
   "metadata": {},
   "outputs": [
    {
     "name": "stdout",
     "output_type": "stream",
     "text": [
      "[1 2 3]\n"
     ]
    }
   ],
   "source": [
    "a = np.unique([1, 2, 3, 3])\n",
    "b = np.unique([2, 3, 4, 4, 5, 6, 5])\n",
    "\n",
    "print(a)"
   ]
  },
  {
   "cell_type": "code",
   "execution_count": 100,
   "metadata": {},
   "outputs": [
    {
     "data": {
      "text/plain": [
       "array([False,  True,  True], dtype=bool)"
      ]
     },
     "execution_count": 100,
     "metadata": {},
     "output_type": "execute_result"
    }
   ],
   "source": [
    "np.in1d(a, b)"
   ]
  },
  {
   "cell_type": "markdown",
   "metadata": {},
   "source": [
    "Para probar si `a` es un subconjunto de `b`, podemos usar `in1d`, como en el ejemplo anterior, junto con la función de agregación `all` (o el método ndarray correspondiente):"
   ]
  },
  {
   "cell_type": "code",
   "execution_count": 286,
   "metadata": {},
   "outputs": [
    {
     "data": {
      "text/plain": [
       "False"
      ]
     },
     "execution_count": 286,
     "metadata": {},
     "output_type": "execute_result"
    }
   ],
   "source": [
    "np.all(np.in1d(a, b))"
   ]
  },
  {
   "cell_type": "code",
   "execution_count": 287,
   "metadata": {},
   "outputs": [
    {
     "data": {
      "text/plain": [
       "array([1, 2, 3, 4, 5, 6])"
      ]
     },
     "execution_count": 287,
     "metadata": {},
     "output_type": "execute_result"
    }
   ],
   "source": [
    "np.union1d(a, b)"
   ]
  },
  {
   "cell_type": "code",
   "execution_count": 288,
   "metadata": {},
   "outputs": [
    {
     "data": {
      "text/plain": [
       "array([2, 3])"
      ]
     },
     "execution_count": 288,
     "metadata": {},
     "output_type": "execute_result"
    }
   ],
   "source": [
    "np.intersect1d(a, b)"
   ]
  },
  {
   "cell_type": "code",
   "execution_count": 289,
   "metadata": {},
   "outputs": [
    {
     "data": {
      "text/plain": [
       "array([1])"
      ]
     },
     "execution_count": 289,
     "metadata": {},
     "output_type": "execute_result"
    }
   ],
   "source": [
    "np.setdiff1d(a, b)"
   ]
  },
  {
   "cell_type": "code",
   "execution_count": 290,
   "metadata": {},
   "outputs": [
    {
     "data": {
      "text/plain": [
       "array([4, 5, 6])"
      ]
     },
     "execution_count": 290,
     "metadata": {},
     "output_type": "execute_result"
    }
   ],
   "source": [
    "np.setdiff1d(b, a)"
   ]
  },
  {
   "cell_type": "markdown",
   "metadata": {},
   "source": [
    "### 1.8.6 Operaciones de arreglos "
   ]
  },
  {
   "cell_type": "markdown",
   "metadata": {},
   "source": [
    "Además de las funciones de agregación y de elemento, algunas operaciones actúan sobre arreglos como un todo y producen un arreglo transformado del mismo tamaño. Un ejemplo de este tipo de operación es la transposición, que cambia el orden de los ejes de una arreglo. Para el caso especial de un arreglo bidimensional, es decir, una matriz, la transposición simplemente intercambia filas y columnas:"
   ]
  },
  {
   "cell_type": "code",
   "execution_count": 101,
   "metadata": {},
   "outputs": [
    {
     "name": "stdout",
     "output_type": "stream",
     "text": [
      "[[0 1 2]\n",
      " [3 4 5]\n",
      " [6 7 8]]\n"
     ]
    }
   ],
   "source": [
    "data = np.arange(9).reshape(3, 3)\n",
    "print(data)"
   ]
  },
  {
   "cell_type": "code",
   "execution_count": 103,
   "metadata": {},
   "outputs": [
    {
     "name": "stdout",
     "output_type": "stream",
     "text": [
      "[[0 3 6]\n",
      " [1 4 7]\n",
      " [2 5 8]]\n",
      "[[0 3 6]\n",
      " [1 4 7]\n",
      " [2 5 8]]\n"
     ]
    }
   ],
   "source": [
    "print( np.transpose(data) )\n",
    "print(data.T)"
   ]
  },
  {
   "cell_type": "code",
   "execution_count": 104,
   "metadata": {},
   "outputs": [
    {
     "name": "stdout",
     "output_type": "stream",
     "text": [
      "(1, 2, 3, 4)\n",
      "(4, 3, 2, 1)\n"
     ]
    }
   ],
   "source": [
    "data = np.random.randn(1, 2, 3, 4)\n",
    "print( data.shape )\n",
    "print( data.T.shape)"
   ]
  },
  {
   "cell_type": "markdown",
   "metadata": {},
   "source": [
    "LOas funciones `fliplr` (voltear de izquierda a derecha) `flipud` (voltear hacia arriba-abajo) realizan operaciones que son similares a la transposición: reorganizan los elementos de un arreglo para que los elementos en filas (`fliplr`) o columnas (`flipud`) se invierten y la forma del  arreglo de salida es la misma que la de entrada. La función `rot90` rota los elementos de los dos primeros ejes de una matriz en 90 grados y, al igual que la función de transposición, puede cambiar la forma de la matriz. A continuación se muestra un resume de las funciones NumPy para operaciones comunes de matriz."
   ]
  },
  {
   "cell_type": "markdown",
   "metadata": {},
   "source": [
    "|   Función   |       Descripción                            |\n",
    "|-------------|----------------------------------------------|\n",
    "|`transpose`, `ndarray.transpose`, `ndarray.T`|Transpone un arreglo|\n",
    "|`fliplr/flipud`|Invertir los elementos en cada fila / columna|\n",
    "|`intersect1d`|Devuelve un arreglo con elementos que están contenidos en dos arrglos dados|\n",
    "|`rot90`|Gira los elementos a lo largo de los dos primeros ejes en 90 grados|\n",
    "|`sort`,`ndarray.sort`|Ordena los elementos de una matriz a lo largo de un eje especificado dado (que por defecto es el último eje de la matriz). El método np.ndarray sort realiza la ordenación en el lugar, modificando la matriz de entrada|"
   ]
  },
  {
   "cell_type": "markdown",
   "metadata": {},
   "source": [
    "### 1.8.7 Operaciones de Matrices y Vectores  "
   ]
  },
  {
   "cell_type": "markdown",
   "metadata": {},
   "source": [
    "Hasta ahora hemos discutido las arreglos `N-dimensionales` en generales. Una de las principales aplicaciones de tales arreglos es representar los conceptos matemáticos de vectores, matrices y tensores, y en este caso de uso, también necesitamos calcular con frecuencia operaciones vectoriales y matriciales como productos escalares (internos), puntos (matriz ) productos y producto tensor (exterior)."
   ]
  },
  {
   "cell_type": "markdown",
   "metadata": {},
   "source": [
    "|   Función   |       Descripción                            |\n",
    "|-------------|----------------------------------------------|\n",
    "|`dot`|Multiplicación de matrices (producto escalar) entre dos arreglos dados que representan vectores, matrices o tensores|\n",
    "|`inner`|Multiplicación escalar (producto interno) entre dos arreglos que representan vectores|\n",
    "|`cross`|El producto cruz entre dos arreglos que representan vectores|\n",
    "|`tensordot`|Producto escalar a lo largo de ejes específicos de arreglos multidimensionales|\n",
    "|`outer`|Producto externo (producto tensorial de vectores) entre dos arreglos que representan vectores|\n",
    "|`kron`|Producto de Kronecker (producto tensorial de matrices) entre arreglos que representan matrices y arreglos de dimensiones superiores|\n",
    "|`einsum`|Evalúa la convención de suma de einstein para matrices multidimensionales|"
   ]
  },
  {
   "cell_type": "code",
   "execution_count": 105,
   "metadata": {},
   "outputs": [],
   "source": [
    "A = np.arange(1, 7).reshape(2, 3)\n",
    "B = np.arange(1, 7).reshape(3, 2)"
   ]
  },
  {
   "cell_type": "code",
   "execution_count": 106,
   "metadata": {},
   "outputs": [
    {
     "data": {
      "text/plain": [
       "array([[22, 28],\n",
       "       [49, 64]])"
      ]
     },
     "execution_count": 106,
     "metadata": {},
     "output_type": "execute_result"
    }
   ],
   "source": [
    "np.dot(A, B)"
   ]
  },
  {
   "cell_type": "code",
   "execution_count": 107,
   "metadata": {},
   "outputs": [
    {
     "data": {
      "text/plain": [
       "array([[ 9, 12, 15],\n",
       "       [19, 26, 33],\n",
       "       [29, 40, 51]])"
      ]
     },
     "execution_count": 107,
     "metadata": {},
     "output_type": "execute_result"
    }
   ],
   "source": [
    "np.dot(B, A)"
   ]
  },
  {
   "cell_type": "markdown",
   "metadata": {},
   "source": [
    "La función `dot` también se puede utilizar para la multiplicación matriz-vector (es decir, la multiplicación de un arreglo bidimensional, que representa una matriz, con una arreglo unidimensional que representa un vector). Por ejemplo"
   ]
  },
  {
   "cell_type": "code",
   "execution_count": 109,
   "metadata": {},
   "outputs": [
    {
     "name": "stdout",
     "output_type": "stream",
     "text": [
      "[ 5 14 23]\n",
      "[ 5 14 23]\n"
     ]
    }
   ],
   "source": [
    "A = np.arange(9).reshape(3, 3)\n",
    "x = np.arange(3)\n",
    "\n",
    "print( np.dot(A, x) )\n",
    "print( A.dot(x) )"
   ]
  },
  {
   "cell_type": "markdown",
   "metadata": {},
   "source": [
    "Desafortunadamente, las expresiones de multiplicación de matrices no triviales a menudo pueden volverse complejas y difíciles de leer cuando se usa `dot` o `ndarray.dot`. Por ejemplo, incluso una expresión matricial relativamente simple como la de una transformación de similitud, $A' = BAB^{− 1}$, debe representarse con expresiones anidadas relativamente crípticas, como"
   ]
  },
  {
   "cell_type": "code",
   "execution_count": 110,
   "metadata": {},
   "outputs": [],
   "source": [
    "A = np.random.rand(3,3)\n",
    "B = np.random.rand(3,3)"
   ]
  },
  {
   "cell_type": "code",
   "execution_count": 31,
   "metadata": {},
   "outputs": [],
   "source": [
    "Ap = np.dot(B, np.dot(A, np.linalg.inv(B)))"
   ]
  },
  {
   "cell_type": "markdown",
   "metadata": {},
   "source": [
    "Para mejorar esta situación, NumPy proporciona una estructura de datos alternativa a `ndarray` named `matrix`, para la cual se implementan expresiones como `A * B` como multiplicación de matrices. También proporciona algunos atributos especiales convenientes, como `matrix.I` para la matriz inversa y `matrix.H` para la transpuesta conjugada compleja de una matriz. Usando instancias de esta clase `matrix`, uno puede, por lo tanto, usar la expresión mucho más legible:"
   ]
  },
  {
   "cell_type": "markdown",
   "metadata": {},
   "source": [
    "El producto interno (producto escalar) entre dos arreglos que representan vectores se puede calcular usando la función `inner`:"
   ]
  },
  {
   "cell_type": "code",
   "execution_count": 119,
   "metadata": {},
   "outputs": [
    {
     "data": {
      "text/plain": [
       "106"
      ]
     },
     "execution_count": 119,
     "metadata": {},
     "output_type": "execute_result"
    }
   ],
   "source": [
    "x = np.array([5, 5, 4, 2, 5, 1, 1, 3])\n",
    "np.inner(x, x)"
   ]
  },
  {
   "cell_type": "markdown",
   "metadata": {},
   "source": [
    "o equivalentemente se puede usar `dot`"
   ]
  },
  {
   "cell_type": "code",
   "execution_count": null,
   "metadata": {},
   "outputs": [
    {
     "data": {
      "text/plain": [
       "array([[5]])"
      ]
     },
     "execution_count": 66,
     "metadata": {},
     "output_type": "execute_result"
    }
   ],
   "source": [
    "np.dot(y.T, y)"
   ]
  },
  {
   "cell_type": "markdown",
   "metadata": {},
   "source": [
    "Mientras que el producto interno mapea dos vectores a un escalar, el producto externo realiza la operación complementaria de mapear dos vectores a una matriz"
   ]
  },
  {
   "cell_type": "code",
   "execution_count": 67,
   "metadata": {},
   "outputs": [],
   "source": [
    "x = np.array([1, 2, 3])"
   ]
  },
  {
   "cell_type": "code",
   "execution_count": 68,
   "metadata": {},
   "outputs": [
    {
     "data": {
      "text/plain": [
       "array([1, 2, 3])"
      ]
     },
     "execution_count": 68,
     "metadata": {},
     "output_type": "execute_result"
    }
   ],
   "source": [
    "x"
   ]
  },
  {
   "cell_type": "code",
   "execution_count": 69,
   "metadata": {},
   "outputs": [
    {
     "data": {
      "text/plain": [
       "array([[1, 2, 3],\n",
       "       [2, 4, 6],\n",
       "       [3, 6, 9]])"
      ]
     },
     "execution_count": 69,
     "metadata": {},
     "output_type": "execute_result"
    }
   ],
   "source": [
    "np.outer(x, x)"
   ]
  },
  {
   "cell_type": "markdown",
   "metadata": {},
   "source": [
    "El producto externo también se puede calcular usando el producto Kronecker usando la función `kron`, que, sin embargo, a diferencia de `outer`, produce una matriz de salida de forma `(M * P, N * Q)` si las matrices de entrada tienen formas `(M, N)` y `(P, Q)`, respectivamente. Por lo tanto, para el caso de dos matrices unidimensionales de longitud `M` y `P`, la matriz resultante tiene forma `(M * P,)`"
   ]
  },
  {
   "cell_type": "code",
   "execution_count": 70,
   "metadata": {},
   "outputs": [
    {
     "data": {
      "text/plain": [
       "array([1, 2, 3, 2, 4, 6, 3, 6, 9])"
      ]
     },
     "execution_count": 70,
     "metadata": {},
     "output_type": "execute_result"
    }
   ],
   "source": [
    "np.kron(x, x)"
   ]
  },
  {
   "cell_type": "markdown",
   "metadata": {},
   "source": [
    "Para obtener el resultado que corresponde a `outer(x, x)`, la matriz de entrada `x` debe expandirse a la forma `(N, 1)` y `(1, N)`, en el primer y segundo argumento a `kron`, respectivamente:"
   ]
  },
  {
   "cell_type": "code",
   "execution_count": 71,
   "metadata": {},
   "outputs": [
    {
     "data": {
      "text/plain": [
       "array([[1, 2, 3],\n",
       "       [2, 4, 6],\n",
       "       [3, 6, 9]])"
      ]
     },
     "execution_count": 71,
     "metadata": {},
     "output_type": "execute_result"
    }
   ],
   "source": [
    "np.kron(x[:, np.newaxis], x[np.newaxis, :])"
   ]
  },
  {
   "cell_type": "markdown",
   "metadata": {},
   "source": [
    "En general, mientras que la función `outer` está destinada principalmente a vectores como entrada, la función `kron` se puede utilizar para calcular productos tensoriales de matrices de dimensión arbitraria (pero ambas entradas deben tener el mismo número de ejes). Por ejemplo, para calcular el producto tensorial de dos matrices de 2 × 2, podemos usar:"
   ]
  },
  {
   "cell_type": "code",
   "execution_count": 72,
   "metadata": {},
   "outputs": [
    {
     "data": {
      "text/plain": [
       "array([[1., 1.],\n",
       "       [1., 1.]])"
      ]
     },
     "execution_count": 72,
     "metadata": {},
     "output_type": "execute_result"
    }
   ],
   "source": [
    "np.ones((2,2))"
   ]
  },
  {
   "cell_type": "code",
   "execution_count": 73,
   "metadata": {},
   "outputs": [
    {
     "data": {
      "text/plain": [
       "array([[1., 0.],\n",
       "       [0., 1.]])"
      ]
     },
     "execution_count": 73,
     "metadata": {},
     "output_type": "execute_result"
    }
   ],
   "source": [
    "np.identity(2)"
   ]
  },
  {
   "cell_type": "code",
   "execution_count": 74,
   "metadata": {},
   "outputs": [
    {
     "data": {
      "text/plain": [
       "array([[1., 0., 1., 0.],\n",
       "       [0., 1., 0., 1.],\n",
       "       [1., 0., 1., 0.],\n",
       "       [0., 1., 0., 1.]])"
      ]
     },
     "execution_count": 74,
     "metadata": {},
     "output_type": "execute_result"
    }
   ],
   "source": [
    "np.kron(np.ones((2,2)), np.identity(2))"
   ]
  },
  {
   "cell_type": "markdown",
   "metadata": {},
   "source": [
    "La expresión de índice es una cadena con índices separados por comas, donde cada coma separa los índices de cada matriz. Cada matriz puede tener cualquier número de índices. Por ejemplo, la expresión del producto escalar $x_ny_n$ se puede evaluar con `einsum` utilizando la expresión de índice `\"n, n\"`, es decir,`einsum(\"n, n\", x, y)`:"
   ]
  },
  {
   "cell_type": "code",
   "execution_count": 75,
   "metadata": {},
   "outputs": [],
   "source": [
    "x = np.array([1, 2, 3, 4])\n",
    "y = np.array([5, 6, 7, 8])"
   ]
  },
  {
   "cell_type": "code",
   "execution_count": 76,
   "metadata": {},
   "outputs": [
    {
     "data": {
      "text/plain": [
       "70"
      ]
     },
     "execution_count": 76,
     "metadata": {},
     "output_type": "execute_result"
    }
   ],
   "source": [
    "5 + 12 + 21 + 32"
   ]
  },
  {
   "cell_type": "code",
   "execution_count": 77,
   "metadata": {},
   "outputs": [
    {
     "data": {
      "text/plain": [
       "70"
      ]
     },
     "execution_count": 77,
     "metadata": {},
     "output_type": "execute_result"
    }
   ],
   "source": [
    "np.einsum(\"n,n\", x, y)"
   ]
  },
  {
   "cell_type": "code",
   "execution_count": 78,
   "metadata": {},
   "outputs": [
    {
     "data": {
      "text/plain": [
       "70"
      ]
     },
     "execution_count": 78,
     "metadata": {},
     "output_type": "execute_result"
    }
   ],
   "source": [
    "np.inner(x, y)"
   ]
  },
  {
   "cell_type": "markdown",
   "metadata": {},
   "source": [
    "De manera similar, la multiplicación de matrices $A_{mk}B_{kn}$ se puede evaluar usando `einsum` y la expresión de índice \"`mk, kn`\":"
   ]
  },
  {
   "cell_type": "code",
   "execution_count": 79,
   "metadata": {},
   "outputs": [],
   "source": [
    "A = np.arange(9).reshape(3, 3)"
   ]
  },
  {
   "cell_type": "code",
   "execution_count": 80,
   "metadata": {},
   "outputs": [
    {
     "data": {
      "text/plain": [
       "array([[0, 1, 2],\n",
       "       [3, 4, 5],\n",
       "       [6, 7, 8]])"
      ]
     },
     "execution_count": 80,
     "metadata": {},
     "output_type": "execute_result"
    }
   ],
   "source": [
    "A"
   ]
  },
  {
   "cell_type": "code",
   "execution_count": 81,
   "metadata": {},
   "outputs": [],
   "source": [
    "B = A.T"
   ]
  },
  {
   "cell_type": "code",
   "execution_count": 82,
   "metadata": {},
   "outputs": [
    {
     "data": {
      "text/plain": [
       "array([[0, 3, 6],\n",
       "       [1, 4, 7],\n",
       "       [2, 5, 8]])"
      ]
     },
     "execution_count": 82,
     "metadata": {},
     "output_type": "execute_result"
    }
   ],
   "source": [
    "B"
   ]
  },
  {
   "cell_type": "code",
   "execution_count": 83,
   "metadata": {},
   "outputs": [
    {
     "data": {
      "text/plain": [
       "array([[  5,  14,  23],\n",
       "       [ 14,  50,  86],\n",
       "       [ 23,  86, 149]])"
      ]
     },
     "execution_count": 83,
     "metadata": {},
     "output_type": "execute_result"
    }
   ],
   "source": [
    "np.einsum(\"mk,kn\", A, B)"
   ]
  },
  {
   "cell_type": "code",
   "execution_count": 84,
   "metadata": {},
   "outputs": [
    {
     "data": {
      "text/plain": [
       "True"
      ]
     },
     "execution_count": 84,
     "metadata": {},
     "output_type": "execute_result"
    }
   ],
   "source": [
    "np.alltrue(np.einsum(\"mk,kn\", A, B) == np.dot(A, B))"
   ]
  },
  {
   "cell_type": "markdown",
   "metadata": {},
   "source": [
    "# Caminate aleaorio"
   ]
  },
  {
   "cell_type": "code",
   "execution_count": 87,
   "metadata": {},
   "outputs": [
    {
     "data": {
      "text/plain": [
       "0.6584308594890927"
      ]
     },
     "execution_count": 87,
     "metadata": {},
     "output_type": "execute_result"
    }
   ],
   "source": [
    "np.random.rand()"
   ]
  },
  {
   "cell_type": "code",
   "execution_count": 99,
   "metadata": {},
   "outputs": [],
   "source": [
    "def random_walker(n):\n",
    "    \n",
    "    movement = np.zeros(n)\n",
    "    \n",
    "    step = 0\n",
    "    i = 1\n",
    "    \n",
    "    while i < n: \n",
    "        \n",
    "        if np.random.rand() < 0.5:\n",
    "            step -= 1\n",
    "            movement[i] = step\n",
    "            \n",
    "        else: \n",
    "            step += 1\n",
    "            movement[i] = step\n",
    "            \n",
    "        i += 1\n",
    "        \n",
    "    return movement "
   ]
  },
  {
   "cell_type": "code",
   "execution_count": 114,
   "metadata": {},
   "outputs": [],
   "source": [
    "x = random_walker(100)"
   ]
  },
  {
   "cell_type": "code",
   "execution_count": 115,
   "metadata": {},
   "outputs": [
    {
     "data": {
      "text/plain": [
       "array([  0.,  -1.,  -2.,  -3.,  -4.,  -5.,  -6.,  -7.,  -8.,  -7.,  -6.,\n",
       "        -5.,  -6.,  -7.,  -8.,  -9.,  -8.,  -7.,  -8.,  -7.,  -6.,  -5.,\n",
       "        -6.,  -7.,  -6.,  -7.,  -6.,  -5.,  -4.,  -5.,  -4.,  -5.,  -6.,\n",
       "        -5.,  -4.,  -5.,  -6.,  -7.,  -8.,  -9.,  -8.,  -7.,  -8.,  -9.,\n",
       "       -10., -11., -12., -13., -14., -15., -14., -13., -12., -11., -12.,\n",
       "       -11., -10.,  -9.,  -8.,  -9., -10., -11., -10.,  -9., -10.,  -9.,\n",
       "        -8.,  -7.,  -6.,  -7.,  -8.,  -7.,  -8.,  -7.,  -6.,  -5.,  -6.,\n",
       "        -7.,  -6.,  -5.,  -6.,  -7.,  -6.,  -5.,  -4.,  -3.,  -4.,  -5.,\n",
       "        -4.,  -3.,  -2.,  -3.,  -2.,  -3.,  -4.,  -5.,  -4.,  -3.,  -4.,\n",
       "        -5.])"
      ]
     },
     "execution_count": 115,
     "metadata": {},
     "output_type": "execute_result"
    }
   ],
   "source": [
    "x"
   ]
  },
  {
   "cell_type": "code",
   "execution_count": 116,
   "metadata": {},
   "outputs": [],
   "source": [
    "import matplotlib.pyplot as plt"
   ]
  },
  {
   "cell_type": "code",
   "execution_count": 117,
   "metadata": {},
   "outputs": [
    {
     "data": {
      "text/plain": [
       "Text(0.5, 0, 'tiempo')"
      ]
     },
     "execution_count": 117,
     "metadata": {},
     "output_type": "execute_result"
    },
    {
     "data": {
      "image/png": "[encoded data removed]",
      "text/plain": [
       "<Figure size 432x288 with 1 Axes>"
      ]
     },
     "metadata": {
      "needs_background": "light"
     },
     "output_type": "display_data"
    }
   ],
   "source": [
    "plt.plot(x, 'b+-')\n",
    "plt.ylabel(\"x\", rotation= 0)\n",
    "plt.xlabel('tiempo')"
   ]
  },
  {
   "cell_type": "code",
   "execution_count": 122,
   "metadata": {},
   "outputs": [
    {
     "name": "stdout",
     "output_type": "stream",
     "text": [
      "El promedio de se moviento fue:  -6.8\n"
     ]
    }
   ],
   "source": [
    "print('El promedio de se moviento fue: ', np.mean(x))"
   ]
  },
  {
   "cell_type": "code",
   "execution_count": 124,
   "metadata": {},
   "outputs": [
    {
     "name": "stdout",
     "output_type": "stream",
     "text": [
      "La desviación estándar del moviento fue:  2.9495762407505253\n"
     ]
    }
   ],
   "source": [
    "print('La desviación estándar del moviento fue: ', np.std(x))"
   ]
  },
  {
   "cell_type": "code",
   "execution_count": 125,
   "metadata": {},
   "outputs": [
    {
     "name": "stdout",
     "output_type": "stream",
     "text": [
      "La varianza es: 8.700000000000001\n"
     ]
    }
   ],
   "source": [
    "print('La varianza es:', np.var(x))"
   ]
  },
  {
   "cell_type": "code",
   "execution_count": 126,
   "metadata": {},
   "outputs": [],
   "source": [
    "def random_walker_2D(n):\n",
    "    x = random_walker(n)\n",
    "    y = random_walker(n)\n",
    "    return y, x"
   ]
  },
  {
   "cell_type": "code",
   "execution_count": 130,
   "metadata": {},
   "outputs": [],
   "source": [
    "xw, yw = random_walker_2D(1000)\n"
   ]
  },
  {
   "cell_type": "code",
   "execution_count": 131,
   "metadata": {},
   "outputs": [
    {
     "data": {
      "text/plain": [
       "[<matplotlib.lines.Line2D at 0x114e92f98>]"
      ]
     },
     "execution_count": 131,
     "metadata": {},
     "output_type": "execute_result"
    },
    {
     "data": {
      "image/png": "[encoded data removed]",
      "text/plain": [
       "<Figure size 432x288 with 1 Axes>"
      ]
     },
     "metadata": {
      "needs_background": "light"
     },
     "output_type": "display_data"
    }
   ],
   "source": [
    "plt.plot(xw, yw)"
   ]
  },
  {
   "cell_type": "code",
   "execution_count": null,
   "metadata": {},
   "outputs": [],
   "source": []
  },
  {
   "cell_type": "markdown",
   "metadata": {},
   "source": [
    "# El helecho de Barsnsley"
   ]
  },
  {
   "cell_type": "markdown",
   "metadata": {},
   "source": [
    "El helecho de Barsnsley es el resultado de iterar la siguiente función\n",
    "\n",
    "\\begin{equation}\n",
    "   F(x,y)=\\begin{pmatrix} \n",
    "a & b \\\\\n",
    "c & d \n",
    "\\end{pmatrix}\n",
    "\\begin{pmatrix} \n",
    "x  \\\\\n",
    "y  \n",
    "\\end{pmatrix} + \\begin{pmatrix} \n",
    "e \\\\\n",
    "f\n",
    "\\end{pmatrix}\n",
    "\\end{equation}\n",
    "\n",
    "La cual está definida por casos, y estos dependen de un probalidad $p$\n",
    " \n",
    "| $a$ | $b$ |  $c$ | $d$ | $e$ | $f$ |  $p$  |\n",
    "|:---:|:---:|:----:|:---:|:---:|:---:|:-----:|\n",
    "|  0  |  0  |   0  | 0.16|  0  |  0  |  $0.01$ |\n",
    "| 0.85| 0.04| -0.04| 0.85|  0  | 1.60|$[0.02,0.86]$|\n",
    "| 0.20|-0.26| 0.23 | 0.22|  0  | 1.60|$[0.87,0.93]$|\n",
    "|-0.15| 0.28| 0.26 | 0.24|  0  | 0.44|$[0.94,1.00]$|"
   ]
  },
  {
   "cell_type": "markdown",
   "metadata": {},
   "source": [
    "Usando el objeto ```matrix``` de ```numpy``` defina una función llamada ```F(lista1, lista2)``` que reciba justo dos argumentos, el primer debe ser una lista con los variables $x$ y $y$. Y el segundo argumento debe ser una seguda lista con los coeficientes ($a, b, \\dots , e$).\n",
    "\n",
    "La funcion ```F()``` debe de convertir las repesctivas entradas para que se puedan realizar las repectivas operaciones de matrices."
   ]
  },
  {
   "cell_type": "code",
   "execution_count": null,
   "metadata": {},
   "outputs": [],
   "source": []
  },
  {
   "cell_type": "markdown",
   "metadata": {},
   "source": [
    "Codifique una segunda función llamada ```volado(n)``` de tal manera que asigne los repectivo valores de los coeficientes para casa valor de $p$. "
   ]
  },
  {
   "cell_type": "code",
   "execution_count": null,
   "metadata": {},
   "outputs": [],
   "source": []
  },
  {
   "cell_type": "markdown",
   "metadata": {},
   "source": [
    "Por último para generar el helecho, defina una función ```Barsnsley(n)``` que reciba el número de iteraciones $n$ y regrese dos lista con salidas de la función $F(x,y)$. También tome en cuenta los siguiente:\n",
    "\n",
    "* La primer iteración debe de recibir como entrada de $F(x,y)$ el punto $x=0$ y $y=0$.\n",
    "* En cada iteración de debe generar los coefientes de manera aleatoria, usando la función ```volado(n)```, es decir ```n``` debe ser un numero aleatorio. Para generar números aleatorios puede importar ```randint``` de la paquetería ramdom ```from random import randint``` o usar ```np.random.rand()``` de numpy"
   ]
  },
  {
   "cell_type": "code",
   "execution_count": null,
   "metadata": {},
   "outputs": [],
   "source": []
  },
  {
   "cell_type": "markdown",
   "metadata": {},
   "source": [
    "Ahora grafique las salidas de ```Barsnsley``` (xs,ys) para ello importe ```import matplotlib.pyplot as plt``` y grafique usando.\n",
    "```plt.scatter(xs, ys, s = 0.2, edgecolor ='green')```\n",
    "\n",
    "El resultado tiene que la siguiente imagen"
   ]
  },
  {
   "cell_type": "markdown",
   "metadata": {},
   "source": [
    "<img src = \"../Images/helecho.png\"  width=\"500\" height=\"300\"/>"
   ]
  },
  {
   "cell_type": "markdown",
   "metadata": {},
   "source": [
    "¿Qué pasa si ahora usa los siguientes parametros?\n",
    " \n",
    "| $a$ | $b$ |  $c$ | $d$ |  $e$ | $f$ |  $p$  |\n",
    "|-----|:---:|-----:|-----|:----:|----:|------:|\n",
    "|  0  |  0  |   0  | 0.25|  0   |-0.4 |$[0.00,0.02]$|\n",
    "| 0.95|0.005|-0.005| 0.93|-0.002| 0.5 |$[0.03,0.85]$|\n",
    "|0.035| -0.2| 0.16 | 0.04| -0.09| 0.02|$[0.86,0.93]$|\n",
    "|-0.04| 0.2 | 0.16 | 0.04|-0.083| 0.12|$[0.94,1.00]$|"
   ]
  },
  {
   "cell_type": "code",
   "execution_count": null,
   "metadata": {},
   "outputs": [],
   "source": []
  },
  {
   "cell_type": "markdown",
   "metadata": {},
   "source": [
    "Ahora modifique ```Barsnsley``` tal que los datos generados se guarden en una Barsnsley.txt. \n",
    "\n",
    "Define una funcíon ```rotation(theta, vector)``` tal que rote un vector $\\vec{v}$ por un ángulo $\\theta$. Recordemos que las matrices de rotación son de la forma:\n",
    "\n",
    "$$ R(\\theta) = \\begin{pmatrix} \n",
    "\\cos(\\theta) & -\\sin(\\theta) \\\\\n",
    "\\sin(\\theta) & \\cos(\\theta)\n",
    "\\end{pmatrix}$$\n",
    "\n",
    "$$R(\\theta)\\vec{v} = \\begin{pmatrix} \n",
    "\\cos(\\theta) & -\\sin(\\theta) \\\\\n",
    "\\sin(\\theta) & \\cos(\\theta)\n",
    "\\end{pmatrix} \\begin{pmatrix} \n",
    "x \\\\\n",
    "y\n",
    "\\end{pmatrix}= \\begin{pmatrix} \n",
    "x\\cos(\\theta) -y\\sin(\\theta) \\\\\n",
    "x\\sin(\\theta) + y\\cos(\\theta) \n",
    "\\end{pmatrix}$$"
   ]
  },
  {
   "cell_type": "code",
   "execution_count": null,
   "metadata": {},
   "outputs": [],
   "source": []
  },
  {
   "cell_type": "markdown",
   "metadata": {},
   "source": [
    "Ahora sí, por último implemente una función que le aplique una rotación por una ángulo $\\theta$ a cada elemneto de Barsnsley.txt y grafique el resultado."
   ]
  },
  {
   "cell_type": "markdown",
   "metadata": {},
   "source": [
    "# Bibliografía"
   ]
  },
  {
   "cell_type": "markdown",
   "metadata": {},
   "source": [
    "* 1. Wei-Bing Lin, J., 2012. A Hands-On Introduction to Using Python in the Atmospheric and Oceanic Sciences. 1st ed. [ebook] lulu, pp.1 to 209. Available at: <https://www.lulu.com/commerce/index.php?fBuyContent=13110573&page=1&pageSize=4> [Accessed 19 May 2021].\n",
    "* 2. Langtangen, H., 2009. A Primer on Scientific Programming with Python. Leipzig, Germany: Springer, p.all.\n",
    "* 3. Heath, M., 2009. Scientific computing. 1st ed. Boston, Mass: McGraw Hill, p.all.\n",
    "* 4. Johansson, R., n.d. Numerical python. 2nd ed. New York: Springer, p.all.\n",
    "* 5. Hunt, J., 2019. A Begginers Guide to Python 3 Programming. 1st ed. Cham, Suiza: Springer, p.all."
   ]
  },
  {
   "cell_type": "code",
   "execution_count": null,
   "metadata": {},
   "outputs": [],
   "source": []
  }
 ],
 "metadata": {
  "kernelspec": {
   "display_name": "Python 3",
   "language": "python",
   "name": "python3"
  },
  "language_info": {
   "codemirror_mode": {
    "name": "ipython",
    "version": 3
   },
   "file_extension": ".py",
   "mimetype": "text/x-python",
   "name": "python",
   "nbconvert_exporter": "python",
   "pygments_lexer": "ipython3",
   "version": "3.6.9"
  }
 },
 "nbformat": 4,
 "nbformat_minor": 4
}
