{
 "cells": [
  {
   "cell_type": "markdown",
   "id": "6e222f61-2bc7-4a28-b683-9f7aacfc06eb",
   "metadata": {
    "editable": true,
    "slideshow": {
     "slide_type": "slide"
    },
    "tags": []
   },
   "source": [
    "# Ecuaciones diferenciales\n",
    "\n",
    "## Definiciones y terminología\n",
    "\n",
    "M. en C. Jonathan A. Urrutia Anguiano\n",
    "<div hidden>\n",
    "$\\def\\dd{\\text{d}}$\n",
    "$\\def\\dv#1#2{\\dfrac{\\text{d} #1}{\\text{d}#2}}$\n",
    "$\\def\\mdv#1#2#3{\\dfrac{\\text{d}^{#3} #1}{\\text{d}#2^{#3}}}$\n",
    "$\\def\\vb#1{\\mathbf{#1}}$\n",
    "$\\def\\pdv#1#2#3{\\dfrac{\\partial^{#3} #1}{\\partial #2^{#3}}}$\n",
    "\\vskip-\\parskip\n",
    "\\vskip-\\baselineskip\n",
    "</div>"
   ]
  },
  {
   "cell_type": "markdown",
   "id": "edc76b32-de5b-4d51-8066-4e72af2429da",
   "metadata": {
    "editable": true,
    "slideshow": {
     "slide_type": "slide"
    },
    "tags": []
   },
   "source": [
    "## Ecuaciones diferenciales ordinarias y parciales\n",
    "\n",
    "Las ***ordinary differential equations*** (ODEs) son ecuaciones donde nuestra incognita a resolver es una función $y$ que depende de un solo parámetro, por ejemplo, $y = y(t)$, donde su dependencia es únicamente con el parámetro $t$. Un ejemplo es la ley de enfiamiento de Newton:\n",
    "\n",
    "$$\n",
    "\\dv{T}{t} \\propto (T(t) - T_\\text{a}),\n",
    "$$\n",
    "\n",
    "donde $T$ es la temperatura de un objeto al tiempo $t$ y $T_a$ es la temperatura de los alrededores donde se encuentra el objeto de interés.\n",
    "\n",
    "Las ***partial differential equations*** (PDEs) consideran funciones que dependen de más de un parámetro, el cual podemos identificar como variables espaciales $\\vb{r} = (x,y,z)$ y una temporal $t$. Un ejemplo de PDE es la ecuación de onda\n",
    "\n",
    "$$\n",
    "\\left(\\pdv{A}{x}{2} + \\pdv{A}{y}{2} + \\pdv{A}{z}{2}\\right)  - \\frac{1}{v^2} \\pdv{A}{t}{2} = 0,\n",
    "$$\n",
    "\n",
    "con $A = A(\\vb{r},t)$, y $v$ la velocidad de propagación de $A$."
   ]
  },
  {
   "cell_type": "markdown",
   "id": "791fd5c1-a76f-4ada-8610-ddcf02179aaf",
   "metadata": {
    "editable": true,
    "slideshow": {
     "slide_type": "slide"
    },
    "tags": []
   },
   "source": [
    "## Clasificación de las ODEs\n",
    "\n",
    "Las ODEs (y PDEs) se pueden clasificar mediante las siguientes criterios:\n",
    "\n",
    " - **Orden:** El orden de una ODE es $n$ si la mayot derivada en la ODE es de orden $n$\n",
    " - **Grado:** Corresponde a la potencia de la derivada de mayor orden en la ODE\n",
    "    - Lineal\n",
    "    - No lineal    \n",
    " - **Explícita/Implícita:** Si puede, o no, despejarse la derivada de mayor orden de la ODE\n",
    "\n",
    "$$\\begin{aligned}\n",
    "f\\left(y(t), \\dv{y}{t},\\mdv{y}{t}{2},\\ldots,\\mdv{y}{t}{n-1};t\\right) &=  \\mdv{y}{t}{n}, &\\text{ODE explícita de orden $n$,}\\\\\n",
    "f\\left(y(t), \\dv{y}{t},\\mdv{y}{t}{2},\\ldots,\\mdv{y}{t}{n-1}, \\mdv{y}{t}{n};t\\right) &= 0, &\\text{ODE implícita de orden $n$,}\n",
    "\\end{aligned}$$\n",
    "donde $f$ es una función de $t,\\,y(t)$ y de sus $n$ derivadas."
   ]
  },
  {
   "cell_type": "markdown",
   "id": "48035d82-5949-49b8-8773-b2925bf1171e",
   "metadata": {
    "editable": true,
    "slideshow": {
     "slide_type": "subslide"
    },
    "tags": []
   },
   "source": [
    "### ODE no lineales\n",
    "\n",
    "Las ODE no lineales  tienen una dependencia en potencias de las derivadas de la función a determinar distinta de uno. Ejemplos de ODE no lineales son las siguientes:\n",
    "\n",
    "$$\n",
    "\\begin{aligned}\n",
    "m\\ell\\mdv{(\\tan\\theta)}{t}{2} + m g \\sin\\theta &= 0, &\\text{(Ecuación de un péndulo)},\\\\\n",
    "\\mdv{y}{x}{2} + \\frac{\\alpha}{x}\\dv{y}{x} - \\exp(y) &= 0, &\\text{(Ecuación de Poisson-Boltzmann)},\n",
    "\\end{aligned}\n",
    "$$\n",
    "\n",
    "donde $m$ es la masa atáda a un péndulo rígido de largo $\\ell$ y $g$ la eceleración debido a la gravedad de la Tierra; la función $y=y(x)$ y la constante $\\alpha$ pueden tener diversos significados según sea el área de aplicación de la ecuación de Poisson-Boltzmann."
   ]
  },
  {
   "cell_type": "markdown",
   "id": "2af36dd6-3605-45db-bf8d-35fbb44533e5",
   "metadata": {
    "editable": true,
    "slideshow": {
     "slide_type": "subslide"
    },
    "tags": []
   },
   "source": [
    "### ODE lineales\n",
    "\n",
    "Las ODE lineales son aquellas de primer grado ---o de grado uno (1)---, es decir:\n",
    "\n",
    "$$\n",
    "\\sum_{i=0}^n a_i(t) \\mdv{y}{t}{i} = a_0 y(t) + a_1(t)\\dv{y}{t} + a_2(t) \\mdv{y}{t}{2} + \\ldots + a_n(t)\\mdv{y}{t}{n} = b(t),\n",
    "$$\n",
    "\n",
    "donde  todas las $a_i(t)$, así como $b(t)$ son funciones del parámetro $t$ únicamente y son funciones conocidas. Algunos ejemplos son:\n",
    "\n",
    "$$\n",
    "\\begin{aligned}\n",
    "m\\ell \\mdv{\\theta}{t}{2} + m g \\,\\theta &= 0, &\\text{(Oscilador armónico)},\\\\\n",
    "\\dv{N}{t} - \\gamma N &= 0, &\\text{(Crecimiento exponencial)},\n",
    "\\end{aligned}\n",
    "$$\n",
    "\n",
    "donde $\\theta = \\theta(t)$ es el desplazamiento angular de un péndulo de masa $m$ y longitud $\\ell$ y $g$ la eceleración debido a la gravedad de la Tierra; $N=N(t)$ se refiere a una población que cambia según su valor actual a un ritmo $\\gamma$, lo que puede modelar el decaimiento exponencial si $\\gamma<0$ o el crecimiento (a primera aporximación) de una localidad simple si $\\gamma > 0$."
   ]
  },
  {
   "cell_type": "markdown",
   "id": "6070474f-4cb9-45ec-8c66-34f3b0f91042",
   "metadata": {
    "editable": true,
    "slideshow": {
     "slide_type": "slide"
    },
    "tags": []
   },
   "source": [
    "## ODE lineales:\n",
    "### Solución particular y solución de la homogénea.\n",
    "\n",
    "Pensemos en una ODE lineal y orden arbitraria de antes y consideremos dos casos distintos clasificados de la siguiente manera:\n",
    "\n",
    "$$\n",
    "\\begin{aligned}\n",
    "\\sum_{i=0}^n a_i(t) \\mdv{y}{t}{i} &= 0, &\\text{(Ecuación homogénea),}\\\\\n",
    "\\sum_{i=0}^n a_i(t) \\mdv{y}{t}{i} &= b(t), &\\text{(Ecuación no homogénea).}\n",
    "\\end{aligned}\n",
    "$$\n",
    "\n",
    "La **ODE homogénea** corresponde al caso a cuando no tenemos *fuentes* $b(t)$, mientras que la **no homogénea** a cuando sí sin embargo la expresión de $b(t)$ puede cambiar según sea el caso, mientras que la del caso homomgéneno siempre es la misma solución. Por lo tanto llamaremos a sus soluciones como\n",
    "\n",
    " * $y_h(t)$: Solución a la ODE homogénea\n",
    " * $y_p(t)$: Solución partícular de la ODE cuando se especifica $b(t)$.\n",
    "\n",
    "Dado que $b(t) = b(t) + 0$, la solución general $y_\\text{sol}(t)$ de una ODE lineal está dada por\n",
    "$$\n",
    "y_\\text{sol}(t) = y_h(t) + y_p(t),\n",
    "$$\n",
    "es decir, la suma de la solución de la ODE homogénea y de la solución partícular."
   ]
  },
  {
   "cell_type": "markdown",
   "id": "d7e7fb3b-a0e5-4629-be94-e48cf3bea233",
   "metadata": {
    "editable": true,
    "slideshow": {
     "slide_type": "subslide"
    },
    "tags": []
   },
   "source": [
    "### Suma de soluciones\n",
    "Si se encuentran dos funciones $y_1(t)$ y $y_2(t)$ tales que sean solución a una ODE lineal, entonces la suma de estas también es solución. Es decir\n",
    "$$\n",
    "\\begin{aligned}\n",
    "y_3(t) &= y_1(t) + y_2(t), &\\text{ entonces $y_3$ también es solución a la ODE lineal.}\n",
    "\\end{aligned}\n",
    "$$\n",
    "Se puede generalizar entonces una solución como la combinación lineal de todas las soluciones que se encuentren. Es decir:\n",
    "$$\n",
    "y(t) = \\sum_{i=1}^m a_i y_i(t),\n",
    "$$\n",
    "con $a_i$ coeficientes constantes y $m$ el número de soluciones encontradas. "
   ]
  },
  {
   "cell_type": "markdown",
   "id": "af5cdc7c-0376-47bb-8670-109be0546d5d",
   "metadata": {
    "editable": true,
    "slideshow": {
     "slide_type": "slide"
    },
    "tags": []
   },
   "source": [
    "## Condiciones iniciales y de frontera\n",
    "\n",
    "Para determinar la solución de una ODE no sólo es necesario calcular cuál es la función que cumple con la ecuación ($y=y(t)$), sino también especificar **condiciones iniciales** o **condiciones de frontera**.\n",
    "\n",
    " - **Condiciones iniciales** : Aquellos valores de $y(t)$, y de sus derivadas evaluadas al mismo valor del parámetro $t = t_0$\n",
    "$$\n",
    "y_0 = y(t_0),\\, y_0' = y'(t_0),\\ldots,\n",
    "$$\n",
    "donde la $'$ denota la derivada respecto a $t$.\n",
    " - **Condiciones de frontera**: Valores de $y(t)$, y de sus derivadas, evaluadas en distintos valores del parámetro $t$m por ejemplo $ t_1$ y $t_2$:\n",
    "$$\n",
    "y_1 = y(t_1),\\, y_2 = y(t_2),\\ldots\\,.\n",
    "$$\n",
    "\n",
    "El número de condiciones iniciles (de frontera) necesarias es igual al orden de la ODE\n",
    "\n",
    " - Porque cada grado significa una integral a resolver, y cada integral involucra una constante de integración\n",
    " - Entonces cuando se resuelve una ODE sin especificar las conficiones iniciales (de frontera) se dice que tenemos una **familia de soluciones**"
   ]
  },
  {
   "cell_type": "markdown",
   "id": "02a0cc51-07d4-4efb-9c95-ee538a6a6a47",
   "metadata": {
    "editable": true,
    "slideshow": {
     "slide_type": "slide"
    },
    "tags": []
   },
   "source": [
    "## Ejercicios\n",
    "\n",
    "Clasifica las siguentes ODE:\n",
    "\n",
    "| Ecuación | Orden | Grado | \n",
    "| -------------------------- | ----- | ----- |\n",
    "| $\\exp{x}\\mdv{y}{x}{2} + \\sin x \\dv{y}{x} = x$ | | |\n",
    "| $\\left(\\mdv{y}{x}{3}\\right)^2 - 2 \\left(\\dv{y}{x}\\right)^2+xy = 0$ | | |\n",
    "| $\\mdv{y}{x}{3} + 2 \\left(\\mdv{y}{x}{2}\\right)^3 + \\dv{y}{x} = \\tan x $ | | |\n",
    "| $\\dv{y}{x} + P(x)y = Q(x)$ | | |\n",
    "| $\\mdv{y}{x}{2} + 5x\\dv{y}{x} + 3y = 0$ | | |"
   ]
  },
  {
   "cell_type": "code",
   "execution_count": null,
   "id": "23f3619c-3dcd-45b1-bbc2-f61d44f57b47",
   "metadata": {
    "editable": true,
    "slideshow": {
     "slide_type": ""
    },
    "tags": []
   },
   "outputs": [],
   "source": []
  }
 ],
 "metadata": {
  "kernelspec": {
   "display_name": "Julia 1.9.3",
   "language": "julia",
   "name": "julia-1.9"
  },
  "language_info": {
   "file_extension": ".jl",
   "mimetype": "application/julia",
   "name": "julia",
   "version": "1.9.3"
  },
  "toc": {
   "base_numbering": 1
  }
 },
 "nbformat": 4,
 "nbformat_minor": 5
}
