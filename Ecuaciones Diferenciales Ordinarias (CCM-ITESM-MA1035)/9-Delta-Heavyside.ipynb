{
 "cells": [
  {
   "cell_type": "markdown",
   "id": "1a2f1939-5489-4e51-a32c-fcdaacd6ea01",
   "metadata": {
    "editable": true,
    "slideshow": {
     "slide_type": "slide"
    },
    "tags": []
   },
   "source": [
    "# **Modelación de sistemas dinámicos**\n",
    "# Transformada de Laplace: Theta de Heaviside y Delta de Dirac\n",
    "\n",
    "### M. en C. Jonathan A. Urrutia Anguiano\n",
    "### MA1035.535\n",
    "\n",
    "\n",
    "<div hidden>\n",
    "$\\def\\dd{\\text{d}}$\n",
    "$\\def\\dv#1#2{\\dfrac{\\text{d} #1}{\\text{d}#2}}$\n",
    "$\\def\\mdv#1#2#3{\\dfrac{\\text{d}^{#3} #1}{\\text{d}#2^{#3}}}$\n",
    "$\\def\\vb#1{\\mathbf{#1}}$\n",
    "$\\def\\pdv#1#2#3{\\dfrac{\\partial^{#3} #1}{\\partial #2^{#3}}}$\n",
    "$\\def\\pmat#1#2{\\left( \\begin{array}{#1} #2 \\end{array}  \\right)}$\n",
    "\\vskip-\\parskip\n",
    "\\vskip-\\baselineskip\n",
    "</div>"
   ]
  },
  {
   "cell_type": "markdown",
   "id": "78235aaa-05da-45e8-997c-542482bd0688",
   "metadata": {
    "editable": true,
    "slideshow": {
     "slide_type": "slide"
    },
    "tags": []
   },
   "source": [
    "## ODE  en situaciones realistas\n",
    "\n",
    "<table style=\"width:100%\">\n",
    "  <tr>\n",
    "    <td  style=\"width:40%\" >\n",
    "        <center>\n",
    "             <img src=\"https://upload.wikimedia.org/wikipedia/commons/4/4e/RLC_series_circuit.png\" width=\"200\">\n",
    "        </center>\n",
    "    <td  style=\"width:60%\" >\n",
    "     $$L Q'' + RQ' +\\frac{1}{C}Q = E(t)$$\n",
    "        Switch:\n",
    "     $$E(t) = 0 \\text{ si } 0<t<4,\\quad E(t) = 1000 \\text{ si } t\\geq 4$$\n",
    "        Impulso\n",
    "     $$E(t) = 1000 \\text{ si } t = 4,quad E(t) = 1000 \\text{ si } t\\neq 4$$                      \n",
    "    </td>\n",
    "  </tr>\n",
    "</table> "
   ]
  },
  {
   "cell_type": "markdown",
   "id": "a069a427-8790-41ef-bb32-1597b0869f31",
   "metadata": {
    "editable": true,
    "slideshow": {
     "slide_type": "subslide"
    },
    "tags": []
   },
   "source": [
    "## Gaussianas y función error\n",
    "\n",
    "<table style=\"width:100%\">\n",
    "  <tr>\n",
    "    <td  style=\"width:50%\" >\n",
    "        <center>\n",
    "            $$f(x) = \\frac{1}{\\sigma\\sqrt{2\\pi}}\\exp\\left[\\left(\\frac{x-\\mu}{\\sqrt{2}\\sigma}\\right)^2\\right]$$\n",
    "             <img src=\"https://upload.wikimedia.org/wikipedia/commons/7/74/Normal_Distribution_PDF.svg\">\n",
    "        </center>\n",
    "    <td  style=\"width:50%\" >\n",
    "        <center>\n",
    "            $$F(x) = \\int_{-\\infty}^x\\frac{1}{\\sigma\\sqrt{2\\pi}}\\exp\\left[\\left(\\frac{y-\\mu}{\\sqrt{2}\\sigma}\\right)^2\\right]\\dd{y}$$\n",
    "             <img src=\"https://upload.wikimedia.org/wikipedia/commons/c/ca/Normal_Distribution_CDF.svg\">\n",
    "        </center>                    \n",
    "    </td>\n",
    "  </tr>\n",
    "</table> "
   ]
  },
  {
   "cell_type": "markdown",
   "id": "c2a11717-c9c3-434a-bfcc-1e232fa9412c",
   "metadata": {
    "editable": true,
    "slideshow": {
     "slide_type": "slide"
    },
    "tags": []
   },
   "source": [
    "## Theta de Heaviside y Delta de Dirac\n",
    "\n",
    "<table style=\"width:100%\">\n",
    "  <tr>\n",
    "    <td  style=\"width:50%\" >\n",
    "        <center>\n",
    "            <img src=\"https://latex.codecogs.com/gif.image?\\dpi{200}%5CTheta%28t-t_0%29%20%3D%20%5Clim_%7B%5Csigma%5Cto%200%7D%5Cint_%7B-%5Cinfty%7D%5Et%5Cfrac%7B1%7D%7B%5Csigma%5Csqrt%7B2%5Cpi%7D%7D%5Cexp%5Cleft%5B%5Cleft%28%5Cfrac%7Bx-t_0%7D%7B%5Csqrt%7B2%7D%5Csigma%7D%5Cright%29%5E2%5Cright%5D%5Ctext%7Bd%7D%7Bx%7D%20%3D%20%5Cleft%5C%7B%20%5Cbegin%7Barray%7D%7Bll%7D%200%2C%20%26%20t%3Ct_0%20%5C%5C%201%2C%20%26%20t_0%5Cleq%20t%20%5Cend%7Barray%7D%20%5Cright.\" width = 350>\n",
    "        </center>\n",
    "    Ejemplo:\n",
    "            $$ f(t) = \\Theta(t-a)-\\Theta(t-b) $$\n",
    "            <img src=\"https://latex.codecogs.com/gif.image?\\dpi{200}f%28t%29%20%3D%20%5Cleft%5C%7B%20%5Cbegin%7Barray%7D%7Bll%7D%20t%2C%20%26%200%5Cleq%20t%20%3C%202%20%5C%5C%202%2C%20%26%202%5Cleq%20t%20%5Cleq%204%5C%5C%200%2C%26%204%3Ct%20%5Cend%7Barray%7D%20%5Cright.\" width = 175>\n",
    "        </center>\n",
    "    <td  style=\"width:50%\" >\n",
    "        <center>\n",
    "            <img src=\"https://latex.codecogs.com/gif.image?\\dpi{200}%5Cdelta%28t-t_0%29%20%3D%20%5Clim_%7B%5Csigma%5Cto%200%7D%5Cfrac%7B1%7D%7B%5Csigma%5Csqrt%7B2%5Cpi%7D%7D%5Cexp%5Cleft%5B%5Cleft%28%5Cfrac%7Bt-t_0%7D%7B%5Csqrt%7B2%7D%5Csigma%7D%5Cright%29%5E2%5Cright%5D%20%3D%20%5Cleft%5C%7B%20%5Cbegin%7Barray%7D%7Bll%7D%200%2C%20%26%20t%5Cneq%20t_0%20%5C%5C%20%5Cinfty%20%26%20t%20%3D%20t_0%20%5Cend%7Barray%7D%20%5Cright.\" width = 350>\n",
    "        </center> \n",
    "    Ejemplo:\n",
    "            $$\\int f(t) \\delta(t-t_0)\\dd{t} = f(t_0)$$\n",
    "    </td>\n",
    "  </tr>\n",
    "</table> "
   ]
  },
  {
   "cell_type": "markdown",
   "id": "004c06f0-07ed-46bc-aff7-51787748c0db",
   "metadata": {
    "editable": true,
    "slideshow": {
     "slide_type": "subslide"
    },
    "tags": []
   },
   "source": [
    "### Transformada de Laplace de la Theta de Heaviside\n",
    "\n",
    "<center>\n",
    "<table style=\"width:80%\">\n",
    "  <tr>\n",
    "    <td  style=\"width:40%\">\n",
    "        $\\mathcal{L}[f(t)\\Theta(t-t_0)] = e^{-st_0}\\mathcal{L}[f(t+t_0)]$\n",
    "    </td>\n",
    "    <td  style=\"width:40%\" >\n",
    "        $\\mathcal{L}[f(t-t_0)\\Theta(t-t_0)] = e^{-st_0}\\mathcal{L}[f(t)]$  \n",
    "    </td>\n",
    "</tr>\n",
    "</table> \n",
    "</center>\n",
    "\n",
    "$$\n",
    "\\mathcal{L}[\\Theta(t-t_0)] = e^{-st_0}\\frac{1}{s}\n",
    "$$\n",
    "\n",
    "### Transformada de Laplace de la Delta de Dirac\n",
    "\n",
    "$$\n",
    "\\mathcal{L}[\\delta(t-t_0)]  = \\mathcal{L}[\\Theta'(t-t_0)] = s \\mathcal{L}[\\Theta(t-t_0)] - \\Theta(0) = e^{-st_0}\n",
    "$$"
   ]
  },
  {
   "cell_type": "code",
   "execution_count": null,
   "id": "382afae8-c326-421f-b7c4-2416ebdf8ece",
   "metadata": {
    "editable": true,
    "slideshow": {
     "slide_type": ""
    },
    "tags": []
   },
   "outputs": [],
   "source": []
  }
 ],
 "metadata": {
  "kernelspec": {
   "display_name": "Wolfram Language 13",
   "language": "Wolfram Language",
   "name": "wolframlanguage13"
  },
  "language_info": {
   "codemirror_mode": "mathematica",
   "file_extension": ".m",
   "mimetype": "application/vnd.wolfram.m",
   "name": "Wolfram Language",
   "pygments_lexer": "mathematica",
   "version": "12.0"
  }
 },
 "nbformat": 4,
 "nbformat_minor": 5
}
