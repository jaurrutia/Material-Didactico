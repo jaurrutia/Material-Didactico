{
 "cells": [
  {
   "cell_type": "markdown",
   "id": "1a2f1939-5489-4e51-a32c-fcdaacd6ea01",
   "metadata": {
    "editable": true,
    "slideshow": {
     "slide_type": "slide"
    },
    "tags": []
   },
   "source": [
    "# **Modelación de sistemas dinámicos**\n",
    "# Transformada de Laplace\n",
    "\n",
    "### M. en C. Jonathan A. Urrutia Anguiano\n",
    "### MA1035.535\n",
    "\n",
    "\n",
    "<div hidden>\n",
    "$\\def\\dd{\\text{d}}$\n",
    "$\\def\\dv#1#2{\\dfrac{\\text{d} #1}{\\text{d}#2}}$\n",
    "$\\def\\mdv#1#2#3{\\dfrac{\\text{d}^{#3} #1}{\\text{d}#2^{#3}}}$\n",
    "$\\def\\vb#1{\\mathbf{#1}}$\n",
    "$\\def\\pdv#1#2#3{\\dfrac{\\partial^{#3} #1}{\\partial #2^{#3}}}$\n",
    "$\\def\\pmat#1#2{\\left( \\begin{array}{#1} #2 \\end{array}  \\right)}$\n",
    "\\vskip-\\parskip\n",
    "\\vskip-\\baselineskip\n",
    "</div>"
   ]
  },
  {
   "cell_type": "markdown",
   "id": "78235aaa-05da-45e8-997c-542482bd0688",
   "metadata": {
    "editable": true,
    "slideshow": {
     "slide_type": "slide"
    },
    "tags": []
   },
   "source": [
    "## ¿Qué es una trasformada integral?\n",
    "\n",
    "Una distinta representación de una misma cantidad. En general se definen como\n",
    "$$\n",
    "g(x) = \\mathcal{L}[f(t)] = \\int_a^bf(t)K(x,t)\\dd{t},\n",
    "$$\n",
    "y cumplen con ser operadores lineales, es decir\n",
    "$$\n",
    " \\mathcal{L}[f(t)+\\alpha h(t)] = \\mathcal{L}[f(t)]+\\alpha \\mathcal{L}[h(t)].\n",
    "$$"
   ]
  },
  {
   "cell_type": "markdown",
   "id": "a069a427-8790-41ef-bb32-1597b0869f31",
   "metadata": {
    "editable": true,
    "slideshow": {
     "slide_type": "subslide"
    },
    "tags": []
   },
   "source": [
    "Las transformadas integrales más conocidas son la transformada de Fourier y la de Laplace:\n",
    "$$\n",
    "\\begin{aligned}\n",
    "\\mathcal{L}^F[f(t)] =& \\int_{-\\infty}^\\infty f(t)e^{i\\omega t}\\dd{t} = g(\\omega), & \\text{(T. de Fourier)},\\\\\n",
    "\\mathcal{L}^L[f(t)] =& \\int_{0}^\\infty f(t)e^{-st}\\dd{t} = F(s), & \\text{(T. de Laplace)}.\\\\\n",
    "\\end{aligned}\n",
    "$$"
   ]
  },
  {
   "cell_type": "markdown",
   "id": "004c06f0-07ed-46bc-aff7-51787748c0db",
   "metadata": {
    "editable": true,
    "slideshow": {
     "slide_type": "subslide"
    },
    "tags": []
   },
   "source": [
    "### ¿Por qué una transformada integral?\n",
    "\n",
    "<center>\n",
    "    <img src=\"https://raw.githubusercontent.com/jaurrutia/Material-Didactico/main/Ecuaciones%20Diferenciales%20Ordinarias%20(CCM-ITESM-MA1035)/2-IntTrans.png\" width=\"700\">\n",
    "</center>"
   ]
  },
  {
   "cell_type": "markdown",
   "id": "dbc9c9c0-5861-473f-a0f1-51e4d892e688",
   "metadata": {
    "editable": true,
    "slideshow": {
     "slide_type": "subslide"
    },
    "tags": []
   },
   "source": [
    "### Visualización de la transformada de Fourier\n",
    "\n",
    "<center>\n",
    "    <img src=\"https://upload.wikimedia.org/wikipedia/commons/5/50/Fourier_transform_time_and_frequency_domains.gif\" width=\"500\">\n",
    "</center>\n",
    "\n",
    "---\n",
    "<a href=\"https://commons.wikimedia.org/wiki/File:Fourier_transform_time_and_frequency_domains.gif\">Lucas Vieira</a>, Public domain, via Wikimedia Commons"
   ]
  },
  {
   "cell_type": "markdown",
   "id": "244ebe16-4044-4369-948f-cf6094d4e6c8",
   "metadata": {
    "editable": true,
    "slideshow": {
     "slide_type": "slide"
    },
    "tags": []
   },
   "source": [
    "## Transformada de Laplace\n",
    "\n",
    "Ésta se define como\n",
    "$$\n",
    "F(s) = \\mathcal{L}[f(t)] = \\lim_{b\\to \\infty}\\int_0^b f(t)e^{-st}\\dd{t},\\quad\\text{con}\\quad s,t>0.\n",
    "$$\n",
    "Notemos que existe la transformada de Laplace inversa $\\mathcal{L}^{-1}$ tal que\n",
    "$$\n",
    "\\mathcal{L}^{-1}[F(s)] = f(t),\n",
    "$$\n",
    "sin embargo lo usal es identificar la forma de $F(s)$ y asociarlo con una $f(t)$,"
   ]
  },
  {
   "cell_type": "markdown",
   "id": "70347208-5b21-4055-9e49-b8db97943c0b",
   "metadata": {
    "editable": true,
    "slideshow": {
     "slide_type": "subslide"
    },
    "tags": []
   },
   "source": [
    "Realicemos algunos ejemplos considerando $t>0$:\n",
    "<center>\n",
    "<table style=\"width:100%\">\n",
    "  <tr>\n",
    "    <td  style=\"width:30%\">\n",
    "        $\\mathcal{L}[1] = \\dfrac{1}{s},\\;s>0$\n",
    "    </td>\n",
    "    <td  style=\"width:30%\" >\n",
    "         $\\mathcal{L}[e^{kt}] = \\dfrac{1}{s-k},\\;s>k$   \n",
    "    </td>\n",
    "    <td  style=\"width:30%\" >\n",
    "        $\\mathcal{L}[\\cos(\\omega t)] = \\dfrac{s}{s^2+\\omega^2},\\;s>0$   \n",
    "    </td>\n",
    "  </tr>\n",
    "  <tr>\n",
    "    <td  style=\"width:30%\" >\n",
    "        $\\mathcal{L}[\\sin(\\omega t)] = \\dfrac{\\omega}{s^2+\\omega^2},\\;s>0$   \n",
    "    </td>\n",
    "    <td  style=\"width:30%\" >\n",
    "        $\\mathcal{L}[t^n] = \\dfrac{n!}{s^{n+1}},\\;s>0,\\,n>-1$\n",
    "    </td>\n",
    "    <td  style=\"width:30%\" >\n",
    "        $\\mathcal{L}[\\cosh(k t)] = \\dfrac{s}{s^2-\\omega^2},\\;s>0$   \n",
    "    </td>\n",
    "  </tr>\n",
    "  <tr>\n",
    "    <td  style=\"width:30%\" >\n",
    "        $\\mathcal{L}[\\sinh(\\omega t)] = \\dfrac{\\omega}{s^2-\\omega^2},\\;s>0$   \n",
    "    </td>\n",
    "        <td  style=\"width:30%\" >\n",
    "        $\\mathcal{L}[e^{\\alpha t}f(t)] = \\mathcal{L}[f(t-\\alpha)]$   \n",
    "    </td>\n",
    "      <td> </td>\n",
    "      <td> </td>\n",
    "  </tr>\n",
    "</table> \n",
    "</center>"
   ]
  },
  {
   "cell_type": "markdown",
   "id": "5df676ac-3f1d-450b-bd62-b6b201963e79",
   "metadata": {
    "editable": true,
    "slideshow": {
     "slide_type": "subslide"
    },
    "tags": []
   },
   "source": [
    "## Transformada de una derivada y las ODE\n",
    "\n",
    "Si $Y(s)=\\mathcal{L}[y(t)]$, entonces\n",
    "\n",
    "$$\n",
    "\\begin{aligned}\n",
    "\\mathcal{L}[y'(t)] = & s \\mathcal{L}[y(t)] - y(0) = s Y(s) - y(0)\\\\\n",
    "\\mathcal{L}[y''(t)] = & s^2 \\mathcal{L}[y'(t)] -sy(0) - y'(0) = s^2 Y(s) -sy(0) - y'(0)\n",
    "\\end{aligned}\n",
    "$$\n",
    "\n",
    "Aplicando esto a las ODE de segundo grado:\n",
    "$$\n",
    "\\begin{aligned}\n",
    "\\mathcal{L}\\left\\{a y^{\\prime \\prime}(t)+b y^{\\prime}(t)+c y(t)\\right\\} =& a \\mathcal{L}\\left\\{y^{\\prime \\prime}(t)\\right\\}+b \\mathcal{L}\\left\\{y^{\\prime}(t)\\right\\}+c \\mathcal{L}\\{y(t)\\}\\\\\n",
    "    =&a\\left[s^2 Y(s)-s y_0-y_0^{\\prime}\\right]+b\\left[s Y(s)-y_0\\right]+c Y(s)\n",
    "\\end{aligned}\n",
    "$$"
   ]
  },
  {
   "cell_type": "markdown",
   "id": "d1e64b9a-cca7-49e4-9d1b-6b1a2421887b",
   "metadata": {
    "editable": true,
    "slideshow": {
     "slide_type": "subslide"
    },
    "tags": []
   },
   "source": [
    "### Ejemplo:\n",
    "$$\n",
    "\\frac{d^2 y}{d t^2}-3 \\frac{d y}{d t}+2 y=e^{3 t} ; \\quad y(0)=1, \\quad y^{\\prime}(0)=0\n",
    "$$"
   ]
  },
  {
   "cell_type": "code",
   "execution_count": 228,
   "id": "f6486601-9aae-4a9c-8b35-8787832dfcd2",
   "metadata": {
    "editable": true,
    "slideshow": {
     "slide_type": "skip"
    },
    "tags": []
   },
   "outputs": [],
   "source": [
    "<<\"MaTeX`\"\n",
    "texStyle = { FontFamily -> \"Latin Modern Roman\", FontSize -> 12};\n",
    "TeXiT = Style[#,texStyle]&;\n",
    "\n",
    "frameLab = {MaTeX[#1,FontSize->13],MaTeX[#2,FontSize->13]};\n",
    "grOpts = {PlotTheme -> \"Scientific\", FrameStyle -> Black, Frame -> True, ImageSize -> 300, BaseStyle->texStyle};\n",
    "grid = Table[{i,j},{i,-#1,#1,#2},{j,-#1,#1,#2}]& ;"
   ]
  },
  {
   "cell_type": "code",
   "execution_count": null,
   "id": "982b6902-dab5-4e74-9ad9-5a66c5c6a188",
   "metadata": {
    "editable": true,
    "slideshow": {
     "slide_type": ""
    },
    "tags": []
   },
   "outputs": [],
   "source": []
  }
 ],
 "metadata": {
  "kernelspec": {
   "display_name": "Wolfram Language 13",
   "language": "Wolfram Language",
   "name": "wolframlanguage13"
  },
  "language_info": {
   "codemirror_mode": "mathematica",
   "file_extension": ".m",
   "mimetype": "application/vnd.wolfram.m",
   "name": "Wolfram Language",
   "pygments_lexer": "mathematica",
   "version": "12.0"
  }
 },
 "nbformat": 4,
 "nbformat_minor": 5
}
