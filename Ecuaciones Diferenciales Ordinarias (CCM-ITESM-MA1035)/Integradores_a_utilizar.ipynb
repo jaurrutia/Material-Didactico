{
 "cells": [
  {
   "cell_type": "code",
   "execution_count": 1,
   "metadata": {
    "editable": true,
    "slideshow": {
     "slide_type": ""
    },
    "tags": []
   },
   "outputs": [],
   "source": [
    "def euler(func, x_0,intervalo,args=0,h=0.01):\n",
    "    tiempo = arange(intervalo[0],intervalo[1]+h,h)\n",
    "    y = zeros((len(tiempo),len(x_0))) \n",
    "    y[0,:] = x_0\n",
    "    if args==0:\n",
    "        for i in xrange(len(tiempo)-1):\n",
    "            y[i+1,:] = y[i,:]+ h* func(y[i,:],tiempo[i])\n",
    "    else:\n",
    "        for i in xrange(len(tiempo)-1):\n",
    "            y[i+1,:] = y[i,:]+ h* func(y[i,:],tiempo[i],args)        \n",
    "    return tiempo, y"
   ]
  },
  {
   "cell_type": "code",
   "execution_count": 2,
   "metadata": {
    "editable": true,
    "slideshow": {
     "slide_type": ""
    },
    "tags": []
   },
   "outputs": [],
   "source": [
    "def taylor2(func,d_func, x_0,intervalo,args=0,h=0.01):\n",
    "    tiempo = arange(intervalo[0],intervalo[1]+h,h)\n",
    "    y = zeros((len(tiempo),len(x_0))) \n",
    "    y[0,:] = x_0\n",
    "    if args==0:\n",
    "        for i in xrange(len(tiempo)-1):\n",
    "            f = func(y[i,:],tiempo[i])   \n",
    "            df,jac = d_func(y[i,:],tiempo[i])\n",
    "            y[i+1,:] = y[i,:]+ h*f+ 0.5*(h**2)*(df+dot(jac,f))\n",
    "    else:\n",
    "        for i in xrange(len(tiempo)-1):\n",
    "            f = func(y[i,:],tiempo[i],args)   \n",
    "            df,jac = d_func(y[i,:],tiempo[i],args)\n",
    "            y[i+1,:] = y[i,:]+ h*f+ 0.5*(h**2)*(df+dot(jac,f))\n",
    "    return tiempo, y"
   ]
  },
  {
   "cell_type": "code",
   "execution_count": 3,
   "metadata": {
    "editable": true,
    "slideshow": {
     "slide_type": ""
    },
    "tags": []
   },
   "outputs": [],
   "source": [
    "def rk2(func, x_0, intervalo,args=0 ,h=0.1):\n",
    "    tiempo = arange(intervalo[0],intervalo[1]+h,h) \n",
    "    y = zeros((len(tiempo),len(x_0)))\n",
    "    y[0,:] = x_0\n",
    "    if args==0:\n",
    "        for i in xrange(len(tiempo)-1):\n",
    "            k1 = func(y[i,:],tiempo[i])\n",
    "            k2 = func(y[i,:]+h*k1,tiempo[i]+h)\n",
    "            y[i+1,:]= y[i,:]+0.5*h*(k1+k2)\n",
    "    else:\n",
    "        for i in xrange(len(tiempo)-1):\n",
    "            k1 = func(y[i,:],tiempo[i],args)\n",
    "            k2 = func(y[i,:]+h*k1,tiempo[i]+h,args)\n",
    "            y[i+1,:]= y[i,:]+0.5*h*(k1+k2)\n",
    "    return tiempo, y"
   ]
  },
  {
   "cell_type": "code",
   "execution_count": 4,
   "metadata": {
    "editable": true,
    "slideshow": {
     "slide_type": ""
    },
    "tags": []
   },
   "outputs": [],
   "source": [
    "def rk4(func, x_0, intervalo, args=0 ,h=0.1):\n",
    "    tiempo = arange(intervalo[0],intervalo[1]+h,h)\n",
    "    y = zeros((len(tiempo),len(x_0))) \n",
    "    y[0,:] = x_0\n",
    "    if args==0:\n",
    "        for i in xrange(len(tiempo)-1):\n",
    "            k1 = func(y[i,:],tiempo[i])\n",
    "            k2 = func(y[i,:]+0.5*h*k1,tiempo[i]+0.5*h)\n",
    "            k3 = func(y[i,:]+0.5*h*k2,tiempo[i]+0.5*h)\n",
    "            k4 = func(y[i,:]+h*k3,tiempo[i]+h)\n",
    "            y[i+1,:]=y[i,:]+(h/6.)*(k1+2*k2+2*k3+k4)\n",
    "    else:\n",
    "        for i in xrange(len(tiempo)-1):\n",
    "            k1 = func(y[i,:],tiempo[i],args)\n",
    "            k2 = func(y[i,:]+0.5*h*k1,tiempo[i]+0.5*h,args)\n",
    "            k3 = func(y[i,:]+0.5*h*k2,tiempo[i]+0.5*h,args)\n",
    "            k4 = func(y[i,:]+h*k3,tiempo[i]+h,args)\n",
    "            y[i+1,:]=y[i,:]+(h/6.)*(k1+2*k2+2*k3+k4)\n",
    "    return tiempo, y    "
   ]
  },
  {
   "cell_type": "code",
   "execution_count": null,
   "metadata": {
    "editable": true,
    "slideshow": {
     "slide_type": ""
    },
    "tags": []
   },
   "outputs": [],
   "source": []
  }
 ],
 "metadata": {
  "kernelspec": {
   "display_name": "Python 3 (ipykernel)",
   "language": "python",
   "name": "python3"
  },
  "language_info": {
   "codemirror_mode": {
    "name": "ipython",
    "version": 3
   },
   "file_extension": ".py",
   "mimetype": "text/x-python",
   "name": "python",
   "nbconvert_exporter": "python",
   "pygments_lexer": "ipython3",
   "version": "3.11.5"
  }
 },
 "nbformat": 4,
 "nbformat_minor": 4
}
