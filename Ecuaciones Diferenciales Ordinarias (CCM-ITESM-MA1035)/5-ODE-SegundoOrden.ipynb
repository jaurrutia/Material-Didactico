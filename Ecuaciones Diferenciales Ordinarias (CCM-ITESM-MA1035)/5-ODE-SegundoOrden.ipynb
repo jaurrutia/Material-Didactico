{
 "cells": [
  {
   "cell_type": "markdown",
   "id": "1a2f1939-5489-4e51-a32c-fcdaacd6ea01",
   "metadata": {
    "editable": true,
    "slideshow": {
     "slide_type": "slide"
    },
    "tags": []
   },
   "source": [
    "# **Modelación de sistemas dinámicos**\n",
    "# ODE de segundo orden\n",
    "\n",
    "### M. en C. Jonathan A. Urrutia Anguiano\n",
    "### MA1035.535\n",
    "\n",
    "\n",
    "<div hidden>\n",
    "$\\def\\dd{\\text{d}}$\n",
    "$\\def\\dv#1#2{\\dfrac{\\text{d} #1}{\\text{d}#2}}$\n",
    "$\\def\\mdv#1#2#3{\\dfrac{\\text{d}^{#3} #1}{\\text{d}#2^{#3}}}$\n",
    "$\\def\\vb#1{\\mathbf{#1}}$\n",
    "$\\def\\pdv#1#2#3{\\dfrac{\\partial^{#3} #1}{\\partial #2^{#3}}}$\n",
    "\\vskip-\\parskip\n",
    "\\vskip-\\baselineskip\n",
    "</div>"
   ]
  },
  {
   "cell_type": "markdown",
   "id": "5defc68f-c73d-46a7-a638-8486af7ace1f",
   "metadata": {
    "editable": true,
    "slideshow": {
     "slide_type": "slide"
    },
    "tags": []
   },
   "source": [
    "## ODE de segundo orden\n",
    "\n",
    "El caso general de una ***ordinary differential equation*** (ODE) de primer ordén explícita es:\n",
    "\n",
    "$$\n",
    "\\mdv{y}{t}{2} = f\\left(y,\\dv{y}{t},t\\right),\n",
    "$$\n",
    "\n",
    "donde $y = y(t)$ es la función a determinar, $t$ su variable dependiente y $f$ una función que depende de $y$, $\\dd y/\\dd t$, así como de $t$\n",
    "\n",
    "No es sorpresa que dar solucipon a una ODE de segundo orden es una tarea compliada y por lo mismo, el conjunto de ODE de seguno orden que podemos resolver es menos al de ODE de primer orden. \n",
    "\n",
    "La idea para abordar **ODE de segundo orden** consiste en proponer soluciones de tal forma que podamos usar resultado anteriores de ODE lineales o de álgebra básica. Para esto recordameros brevemete algunos conceptos de álgebra lineal."
   ]
  },
  {
   "cell_type": "markdown",
   "id": "2668275f-955c-45f5-ba86-0cffb8001590",
   "metadata": {
    "editable": true,
    "slideshow": {
     "slide_type": "subslide"
    },
    "tags": []
   },
   "source": [
    "## Concepto de álgebra\n",
    "### Fórmula general de segundo grado (Chicharronera)\n",
    "\n",
    "Si se tiene un polinomio de grado dos en $x$ y es igualado a cero, entonces se conoce la solución:\n",
    "\n",
    "$$\n",
    "a x^2 + b x + c = 0 \\qquad\\iff \\qquad  x = \\frac{1}{2a}\\left(-b \\pm \\sqrt{b^2 - 4 a c}\\right)\n",
    "$$\n",
    "\n",
    "Recordemos que dependiendo de los valores de los coeficientes $a$, $b$ y $c$, hay tres casos posibles\n",
    "\n",
    " - $b^2 - 4 a c > 0$: hay dos soluciones reales para $x$\n",
    " - $b^2 - 4 a c < 0$: hay dos soluciones complejas para $x$\n",
    " - $b^2 - 4 a c = 0$: hay una sola solución real"
   ]
  },
  {
   "cell_type": "markdown",
   "id": "6e700d6c-c1fb-4392-8698-31629aa66cd8",
   "metadata": {
    "editable": true,
    "slideshow": {
     "slide_type": "subslide"
    },
    "tags": []
   },
   "source": [
    "### Número complejos\n",
    "\n",
    "Estos son una extensión de los números que operan de forma semjante a los vectores en $\\mathbb{R}^2$. En general estos se esriben como\n",
    "$$\n",
    "z = a + i b,\\qquad\\text{donde} \\qquad i = \\sqrt{-1},\n",
    "$$\n",
    "donde $i$ es la unidad imaginaria (Notemos que es como operar como con la base de vectores $\\hat{i}$ y $\\hat{j}$. Los términos $a$ y $b$ son números reales que se conoces como la parte real e imaginaria de $z$, respectivamente. De igual manera, podemos escribir a $z$ en su representación polar de la siguente manera\n",
    "$$z = r \\exp(i\\theta) = r(\\cos\\theta + i \\sin\\theta)$$\n",
    "donde  $r$ y $\\theta$ son números reales llamados el módulo de $z$ y el argumento de $z$. Adicionalmente se cumplen la siguientes relaciones:\n",
    "$$\n",
    "\\begin{aligned}\n",
    "a = \\text{Re}[z],\\qquad  b = \\text{Im}[z], \\qquad r^2 = a^2 + b^2 ,\\qquad \\tan\\theta = b/a.\n",
    "\\end{aligned}"
   ]
  },
  {
   "cell_type": "markdown",
   "id": "0886d759-1e41-407a-ac02-61716e5ce3ac",
   "metadata": {
    "editable": true,
    "slideshow": {
     "slide_type": "slide"
    },
    "tags": []
   },
   "source": [
    "## Independencia lineal\n",
    "\n",
    "Un conjunto de funciones $\\{y_i(t)\\}$ el **linealmente dependiente** si\n",
    "$$\n",
    "a_1 y_1(t) + a_2 y_2(t) + \\ldots + a_n y_n(t) = 0\\qquad\\text{para valores de $a_i$ distindos de cero simultáneamente.}\n",
    "$$\n",
    "De forma análoga, el conjunto con funciones $\\{y_i(t)\\}$ es **linealmente independiente (l.i)** si\n",
    "$$\n",
    "a_1 y_1(t) + a_2 y_2(t) + \\ldots + a_n y_n(t) = 0\\qquad\\text{sólo si todos los $a_i$ son iguales a cero.}\n",
    "$$\n",
    "\n",
    "Es importante notar que para una ODE de orden $n$, debemos tener $n$ funciones linealmenteindependientes.\n",
    "\n",
    "Una forma de determinar que el conjunto de funciones es l.i es definiendo la función **Wronskiano**"
   ]
  },
  {
   "cell_type": "markdown",
   "id": "fc0a737e-97c4-4fe5-9c78-7aaf0bacfbcf",
   "metadata": {
    "editable": true,
    "slideshow": {
     "slide_type": "subslide"
    },
    "tags": []
   },
   "source": [
    "### El wronskiano\n",
    "\n",
    "En particular podemos ver el caso cuando tenemos dos funciones $y_1(t)$ y $y_2(t)$. Para ver si son linealmente independientes podemos planetar el siguiente sistema de ecuaciones\n",
    "$$\n",
    "\\begin{aligned}\n",
    "a_1 y_1(t) + a_2 y_2(t) =& 0,\\\\\n",
    "a_1 y_1^{(1)}(t) + a_2 y_2^{(1)}(t) =& 0,\\\\\n",
    "\\end{aligned}\n",
    "\\qquad \\Longrightarrow\\qquad\n",
    "\\left(\\begin{array}{cc}\n",
    "y_1(t) & y_2(t) \\\\\n",
    "y_1^{(1)}(t) & y_2^{(1)}(t) \n",
    "\\end{array}\n",
    "\\right)\n",
    "\\left(\\begin{array}{c}\n",
    "a_1 \\\\ a_2 \n",
    "\\end{array}\\right)\n",
    "=\\left(\\begin{array}{c}\n",
    "0 \\\\ 0 \n",
    "\\end{array}\n",
    "\\right), \\tag{1}\n",
    "$$\n",
    "donde el número entre paréntesis indica que se realizó una primera derivada.\n",
    "\n",
    "El Ec. (1) se cumple de forma inmediata para $a_1 = a_2 = 0$ pero esta es la solución trivial que no nos da información sobre las funcines. Si los coeficnentes $a_1$ y $a_2$ no sean cero, una forma de garantizar que la Ec. (1) siga cumplíendose es que el determinante de la matriz sea cero. Entondes definimos la función Woronskiano como\n",
    "\n",
    "$$\n",
    "W(t) = \\text{det}\\left|\\begin{array}{cc}\n",
    "y_1(t) & y_2(t) \\\\\n",
    "y_1^{(1)}(t) & y_2^{(1)}(t) \n",
    "\\end{array} \\right|  = y_1(t)y_2^{(1)}(t) - y_2(t) y_1^{(1)}(t) = W[y_1,y_2](t).\n",
    "$$\n",
    "\n",
    "Si $W(t)$ es cero, entonces se cumple la igualdad y por tanto $y_1$ y $y_2$ son linealmente dependientes, pero si no fuera cero entonces sólo existe la solución trivial,teniendo así que $y_1$ y $y_2$ son lindealmente independientes. En resumen\n",
    "\n",
    "$$\n",
    "  W[y_1(t),y_2(t)] \\neq 0   \\qquad \\Longrightarrow \\qquad \\text{ Las funciones $y_1(t)$ y $y_2(t)$ son linealmente independientes}\n",
    "$$\n"
   ]
  },
  {
   "cell_type": "markdown",
   "id": "04c7e489-0f32-46ac-b40e-e5bb6f1b7e79",
   "metadata": {
    "editable": true,
    "slideshow": {
     "slide_type": "subslide"
    },
    "tags": []
   },
   "source": [
    "### Ejemplo:\n",
    "\n",
    "Supongamos el conjunto de funciones $\\{\\exp(x),\\,\\exp(-x),\\sinh(x)\\}$. Para ver si este es un conjunto linealmente independiente tenemos que mostrar que el Wronkiano formado por esas funciones y sus dos primera derivadas es distinto de cero. \n",
    "$$\n",
    "W[\\exp(x),\\exp(-x),\\sinh(x)] = \n",
    "\\det\\left(\n",
    "    \\begin{array}{ccc}\n",
    "    \\exp(x) & \\exp(-x) & \\sinh(x)\\\\\n",
    "    \\exp(x) & -\\exp(-x) & \\cosh(x)\\\\\n",
    "    \\exp(x) & \\exp(-x) & \\sinh(x)\n",
    "    \\end{array}\n",
    "\\right)\n",
    "$$\n",
    "Las derivadas y propiedades de las funciones hiperbólicas las puedes consultar en [Wikipedia](https://en.wikipedia.org/wiki/Hyperbolic_functions) y puede que sea últil que recuerdes el cálculo de [determinantes de tres por tres](https://es.khanacademy.org/math/algebra-home/alg-matrices/alg-determinants-and-inverses-of-large-matrices/v/finding-the-determinant-of-a-3x3-matrix-method-2) ($3\\times 3$). Esto da como resultado\n",
    "$$\n",
    "\\begin{aligned}\n",
    "W[\\exp(x),\\exp(-x),\\sinh(x)] = &\n",
    "    \\exp(x) \\det\\left(\\begin{array}{cc}\n",
    "                -\\exp(-x) & \\cosh(x)\\\\\n",
    "                \\exp(-x) & \\sinh(x) \\end{array}\\right)\n",
    "    - \\exp(-x) \\det\\left(\\begin{array}{cc}\n",
    "                \\exp(x) & \\cosh(x)\\\\\n",
    "                \\exp(x) & \\sinh(x) \\end{array}\\right) \\\\ \\\\\n",
    "    & +\\sinh(x) \\det\\left(\\begin{array}{cc}\n",
    "                \\exp(x) & -\\exp(-x) \\\\\n",
    "                \\exp(x) & \\exp(-x) \\end{array}\\right)\\\\ \\\\\n",
    "=& -\\sinh(x)-\\cosh(x)-\\sinh(x)+\\cosh(x) +2\\sinh(x) = 0\n",
    "\\end{aligned}\n",
    "$$\n",
    "Entonces existe al meno una combinación lineal de esas funciones igual a a cero. "
   ]
  },
  {
   "cell_type": "markdown",
   "id": "9671a4d2-3548-443c-a12e-8a1a0706ffc2",
   "metadata": {
    "editable": true,
    "slideshow": {
     "slide_type": "subslide"
    },
    "tags": []
   },
   "source": [
    "Por otro lado, para el caso de $\\sin(x)$ y $\\cos(x)$ se cumple lo siguiente\n",
    "$$\n",
    "\\begin{aligned}\n",
    "W[\\sin(x),\\cos(x)] =  \\det\\left(\\begin{array}{cc}\n",
    "                \\sin(x) & \\cos(x)\\\\\n",
    "                \\cos(x) & -\\sin(x) \\end{array}\\right) = -\\sin^2(x) - \\cos^2(x) = -1\n",
    "\\end{aligned}\n",
    "$$\n",
    "por lo que son funciones lineamente independientes."
   ]
  },
  {
   "cell_type": "code",
   "execution_count": 1,
   "id": "3fc47319-6e91-4357-8f02-1388fc9f8e38",
   "metadata": {
    "editable": true,
    "slideshow": {
     "slide_type": "skip"
    },
    "tags": []
   },
   "outputs": [],
   "source": [
    "<<\"MaTeX`\"\n",
    "texStyle = { FontFamily -> \"Latin Modern Roman\", FontSize -> 12};\n",
    "TeXiT = Style[#,texStyle]&;\n",
    "\n",
    "frameft = (MaTeX[#,FontSize->13]&/@{\"t\",\"f(t)\"});\n",
    "time = Range[0,10,.1];"
   ]
  },
  {
   "cell_type": "code",
   "execution_count": 6,
   "id": "848f85eb-b496-424f-be7b-0400eab096bf",
   "metadata": {
    "editable": true,
    "slideshow": {
     "slide_type": "subslide"
    },
    "tags": []
   },
   "outputs": [
    {
     "data": {
      "text/html": [
       "<div><img alt=\"Output\" src=\"data:image/png;base64,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\"></div>"
      ],
      "text/plain": [
       "Legended[-Graphics-, Placed[LineLegend[{Directive[Opacity[1.], \n",
       " \n",
       ">        RGBColor[0.9, 0.36, 0.054], CapForm[Butt], AbsoluteThickness[1.6]], \n",
       " \n",
       ">       Directive[Opacity[1.], RGBColor[0.365248, 0.427802, 0.758297], CapForm[Butt], \n",
       " \n",
       ">        AbsoluteThickness[1.6]], Directive[Opacity[1.], \n",
       " \n",
       ">        RGBColor[0.945109, 0.593901, 0.], CapForm[Butt], AbsoluteThickness[1.6]], \n",
       " \n",
       ">       Directive[Opacity[1.], RGBColor[0.645957, 0.253192, 0.685109], CapForm[Butt], \n",
       " \n",
       ">        AbsoluteThickness[1.6]]}, {Sinh[x], Exp[x], Exp[-x], \n",
       " \n",
       ">       2 Sinh[x] - (Exp[x] - Exp[-x])}, LegendMarkers -> None, \n",
       " \n",
       ">      LabelStyle -> {FontFamily -> Times}, LegendLayout -> Column], After, Identity]]Le\\\n",
       " \n",
       ">     gended[-Graphics-, Placed[LineLegend[{Directive[Opacity[1.], \n",
       " \n",
       ">        RGBColor[0.9, 0.36, 0.054], CapForm[Butt], AbsoluteThickness[1.6]], \n",
       " \n",
       ">       Directive[Opacity[1.], RGBColor[0.365248, 0.427802, 0.758297], CapForm[Butt], \n",
       " \n",
       ">        AbsoluteThickness[1.6]]}, {Sin[x], Cos[x]}, LegendMarkers -> None, \n",
       " \n",
       ">      LabelStyle -> {FontFamily -> Times}, LegendLayout -> Column], After, Identity]]"
      ]
     },
     "execution_count": 6,
     "metadata": {
      "text/html": [],
      "text/plain": []
     },
     "output_type": "execute_result"
    }
   ],
   "source": [
    "Row[{Plot[{Sinh[x],Exp[x],Exp[-x], 2*Sinh[x]-  (Exp[x] -Exp[-x]) },{x,0,1},\n",
    "PlotTheme -> \"Scientific\", FrameLabel -> frameft, FrameStyle -> Black,PlotLegends->\"Expressions\", ImageSize->300]\n",
    ",\n",
    "Plot[{Sin[x],Cos[x] },{x,0,2*Pi},\n",
    "PlotTheme -> \"Scientific\", FrameLabel -> frameft, FrameStyle -> Black,PlotLegends->\"Expressions\", ImageSize->300]\n",
    "}]"
   ]
  },
  {
   "cell_type": "markdown",
   "id": "3f7f7bd3-c77e-49ab-be56-b17fe64f35c8",
   "metadata": {
    "editable": true,
    "slideshow": {
     "slide_type": "slide"
    },
    "tags": []
   },
   "source": [
    "## ODE de segundo grado\n",
    "\n",
    " Como se mencionó anteriormente estas ODE son más complicadas que las de primer orden sin embargo por lo mismo hay un número delimitado de técnicas para resolverlas y en muchos de los casos, se aborda el problemas al proponer una solución y ver qué condiciones deben de cumplir los parámetros de esta solución para que, en efecto, cumpla con nuestra ecuación diferencial.\n",
    "\n",
    " En particular se abordarán los siguientes métodos:\n",
    "  - Polinomio característico (Para resolver la ecuación homogénea)\n",
    "  - Coeficientes indeterminados (Para resolver la ecuación no-homogénea)\n",
    "  - Reducción de orden (Conociendo una solución del caso homogéneo)\n",
    "  - Variación de parámetros (Determinar una solución al caso no-homogéneo, con el caso homogéneo resuelto)"
   ]
  },
  {
   "cell_type": "markdown",
   "id": "62700107-d6f8-4ee8-b7b0-ee3a9bb38537",
   "metadata": {
    "editable": true,
    "slideshow": {
     "slide_type": "slide"
    },
    "tags": []
   },
   "source": [
    "## Polinomio característico\n",
    "\n",
    "Consideremos el caso de una ODE lineal de segundo grado y en su formulación homogénea con **coeficientes constantes**, es decir\n",
    "$$\n",
    "a y''(t) +  b y'(t) +  c y(t) = 0, \\qquad\\text{donde}\\qquad y' = \\dv{y}{t},\\;y'' = \\mdv{y}{t}{2}\n",
    "$$\n",
    "En este caso propongamos una solución y al derivarla dos vece sustituyamos en la expresión anterior\n",
    "$$\n",
    "\\text{Prongamos:}\\quad y(t) = \\exp(\\lambda t) \\quad\\Longrightarrow \\quad y'(t) =  \\lambda \\exp(\\lambda t) \\quad\\Longrightarrow \\quad y''(t) =  \\lambda^2 \\exp(\\lambda t) \n",
    "$$\n",
    "Por lo tanto notemos que\n",
    "$$\n",
    "y(t) = \\exp(\\lambda t) \\quad\\Longrightarrow  \\quad a y''(t) +  b y'(t) +  c y(t) = \\exp(\\lambda t)(a\\lambda^2 + b \\lambda + c) = 0\n",
    "$$\n",
    "y como $\\exp(\\lambda t)\\neq 0$, entones basta con resolver las raíces del polinomio de grado dos de $\\lambda$. Es decir **convertimos nuestra ecuación diferencial en una algebráica**, cuya solución es \n",
    "$$\n",
    "\\lambda = \\frac{-b}{2a} \\pm \\frac{\\sqrt{b^2-4ac}}{2a} \\quad\\Longrightarrow\\quad y_\\pm (t) = A_\\pm\\exp\\left(\\frac{-bt}{2a}\\right)\\exp\\left(\\pm\\frac{\\sqrt{b^2-4ac}}{2a}t\\right)\n",
    "$$\n",
    "donde $A_\\pm$ son coeficientes que acompañan a las dos soluciones linealmente independientes"
   ]
  },
  {
   "cell_type": "markdown",
   "id": "e763b6cd-7c40-45ff-bda0-832fe20bb6e1",
   "metadata": {
    "editable": true,
    "slideshow": {
     "slide_type": "subslide"
    },
    "tags": []
   },
   "source": [
    "### Ejemplo de ODE de segundo orden con coeficientes constantes\n",
    "\n",
    "Este tipo de ODE, aunque sea un caso simplificado, puede representar varias situaciones físicas. En particular, puede modelar la ecuación de movimiento de una partícula  de masa $m$ sometida a un resorte con una fuerza de restitución proporcional a $m\\omega^2$, con $\\omega$ la frecuencia de resonancia del resorte, y sometida a la resistencia del aire según la ley de Stokes. En este caso, la segunda ley de Newton dica que la ecuación de movimiento es:\n",
    "\n",
    "$$\n",
    "m \\mdv{x(t)}{t}{2} + m\\gamma \\dv{x(t)}{t} + m\\omega^2 x(t) = 0\n",
    "$$\n",
    "\n",
    "Si te es de utilidad, te recomiendo [este recurso](https://beltoforion.de/en/harmonic_oscillator/#:~:text=The%20damped%20harmonic%20oscillator%20is,equation%20for%20the%20damped%20oscillator) donde se desarrolla toda la teoría con base en el polinomio caracterísitico."
   ]
  },
  {
   "cell_type": "markdown",
   "id": "e4389340-b7db-4bf8-b392-88b31f25d768",
   "metadata": {
    "editable": true,
    "slideshow": {
     "slide_type": "subslide"
    },
    "tags": []
   },
   "source": [
    "### Supongamos: $b = 0$ y $(a \\cdot c)>0$\n",
    "\n",
    "Nuestra ecuación diferencial en este caso, así como su solución se rescribe como\n",
    "$$\n",
    "a y''(t)+  c y(t) = 0, \\quad\\Longrightarrow\\quad  y_\\pm (t) = A_\\pm\\exp\\left(\\pm\\frac{\\sqrt{-4ac}}{2a}t\\right) =  A_\\pm\\exp\\left(\\pm i\\frac{\\sqrt{4ac}}{2a}t\\right)\n",
    "$$\n",
    "y dado que las exponenciales complejas son una combinación lineal de senos y cosenos, nuestra solución general (de dos funciones l.i.) puede escribirse como\n",
    "$$\n",
    "a y''(t)+  c y(t) = 0, \\quad\\Longrightarrow\\quad  y_\\pm (t) = A_1\\sin\\left(\\frac{\\sqrt{4ac}}{2a}t\\right) + A_2\\cos\\left(\\frac{\\sqrt{4ac}}{2a}t\\right)\n",
    "$$"
   ]
  },
  {
   "cell_type": "code",
   "execution_count": 7,
   "id": "15328673-885d-4cbf-89cf-c96e9ec28fab",
   "metadata": {
    "editable": true,
    "slideshow": {
     "slide_type": "subslide"
    },
    "tags": []
   },
   "outputs": [
    {
     "data": {
      "text/html": [
       "<div><img alt=\"Output\" src=\"data:image/png;base64,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\"></div>"
      ],
      "text/plain": [
       "-Graphics-"
      ]
     },
     "execution_count": 7,
     "metadata": {
      "text/html": [],
      "text/plain": []
     },
     "output_type": "execute_result"
    }
   ],
   "source": [
    "Plot[Sin[t] + Cos[t],{t,0,6*Pi},\n",
    "PlotTheme -> \"Scientific\", FrameLabel -> frameft, FrameStyle -> Black,PlotLegends->\"Expressions\", ImageSize->300,\n",
    "FrameTicks -> {{Automatic,Automatic},{Table[i,{i,0,8*Pi,Pi}],Automatic}}]"
   ]
  },
  {
   "cell_type": "markdown",
   "id": "639021af-fcd2-482c-915d-0a532a3ec60d",
   "metadata": {
    "editable": true,
    "slideshow": {
     "slide_type": "subslide"
    },
    "tags": []
   },
   "source": [
    "### Supongamos: $b = 0$ y $(a\\cdot c)<0$\n",
    "\n",
    "Nuestra ecuación diferencial en este caso, así como su solución se rescribe como\n",
    "$$\n",
    "a y''(t)+  c y(t) = 0, \\quad\\Longrightarrow\\quad  y_\\pm (t) = A_\\pm\\exp\\left(\\pm\\frac{\\sqrt{-4ac}}{2a}t\\right) \n",
    "$$\n",
    "y en este caso el argumento de la raíz es positivo por lo que nuestrasolución puede escribirse como\n",
    "$$\n",
    "a y''(t)+  c y(t) = 0, \\quad\\Longrightarrow\\quad  y_\\pm (t) = A_+\\exp\\left(\\frac{\\sqrt{4ac}}{2a}t\\right) + A_-\\exp\\left(-\\frac{\\sqrt{4ac}}{2a}t\\right)\n",
    "$$\n",
    "o de forma equivalente \n",
    "$$\n",
    "a y''(t)+  c y(t) = 0, \\quad\\Longrightarrow\\quad  y_\\pm (t) = A_1\\sinh\\left(\\frac{\\sqrt{4ac}}{2a}t\\right) + A_2\\cosh\\left(\\frac{\\sqrt{4ac}}{2a}t\\right)\n",
    "$$"
   ]
  },
  {
   "cell_type": "code",
   "execution_count": 8,
   "id": "8e3e19ad-ca4c-47a9-a9a1-eef0709de212",
   "metadata": {
    "editable": true,
    "slideshow": {
     "slide_type": "subslide"
    },
    "tags": []
   },
   "outputs": [
    {
     "data": {
      "text/html": [
       "<div><img alt=\"Output\" src=\"data:image/png;base64,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\"></div>"
      ],
      "text/plain": [
       "-Graphics-"
      ]
     },
     "execution_count": 8,
     "metadata": {
      "text/html": [],
      "text/plain": []
     },
     "output_type": "execute_result"
    }
   ],
   "source": [
    "Plot[-Exp[t/5] + 15*Exp[- t/ 5],{t,0,15},\n",
    "PlotTheme -> \"Scientific\", FrameLabel -> frameft, FrameStyle -> Black,PlotLegends->\"Expressions\", ImageSize->300,\n",
    "FrameTicks -> {{Automatic,Automatic},{Table[i,{i,0,8*Pi,Pi}],Automatic}}]"
   ]
  },
  {
   "cell_type": "markdown",
   "id": "4538b214-6054-4b6d-bf48-85e02f42981d",
   "metadata": {
    "editable": true,
    "slideshow": {
     "slide_type": "subslide"
    },
    "tags": []
   },
   "source": [
    "### Supongamos: $b \\neq 0$ y $b^2-4ac \\neq 0$\n",
    "\n",
    "En este caso, las soluciones anteriores se acompañan por una **envolvente** que modula la solución y hace que decaiga (o aumente) conforme crece la variable $t$\n",
    "$$\n",
    "a y''(t) +  b y'(t) +  c y(t) = 0, \\qquad\\text{donde}\\qquad \\quad y_\\pm (t) = A_\\pm\\exp\\left(\\frac{-bt}{2a}\\right)\\exp\\left(\\pm\\frac{\\sqrt{b^2-4ac}}{2a}t\\right).\n",
    "$$\n",
    "\n",
    "Si $b^2-4ac < 0$ entonces tenemos soluciones oscilatorias y por lo tanto\n",
    "$$\n",
    "a y''(t)+  by'(t) + c y(t) = 0, \\quad\\Longrightarrow\\quad  y_\\pm (t) = \\exp\\left(\\frac{-bt}{2a}\\right)\\left[A_1\\sin\\left(\\frac{\\sqrt{4ac}}{2a}t\\right) + A_2\\cos\\left(\\frac{\\sqrt{4ac}}{2a}t\\right)\\right]\n",
    "$$\n",
    "y de forma contraria, si $b^2-4ac < 0$\n",
    "$$\n",
    "a y''(t)+  by'(t) + c y(t) = 0, \\quad\\Longrightarrow\\quad  y_\\pm (t) = \\exp\\left(\\frac{-bt}{2a}\\right)\\left[A_+\\exp\\left(\\frac{\\sqrt{4ac}}{2a}t\\right) + A_-\\exp\\left(-\\frac{\\sqrt{4ac}}{2a}t\\right)\\right]\n",
    "$$"
   ]
  },
  {
   "cell_type": "code",
   "execution_count": 9,
   "id": "d09f7d24-e162-4571-88b3-461f4d2cd69c",
   "metadata": {
    "editable": true,
    "slideshow": {
     "slide_type": "subslide"
    },
    "tags": []
   },
   "outputs": [
    {
     "data": {
      "text/html": [
       "<div><img alt=\"Output\" src=\"data:image/png;base64,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\"></div>"
      ],
      "text/plain": [
       "-Graphics--Graphics-"
      ]
     },
     "execution_count": 9,
     "metadata": {
      "text/html": [],
      "text/plain": []
     },
     "output_type": "execute_result"
    }
   ],
   "source": [
    "Row[{\n",
    "Plot[5*Exp[-t/10](Sin[t] + Cos[t]),{t,0,8*Pi},\n",
    "PlotTheme -> \"Scientific\", FrameLabel -> frameft, FrameStyle -> Black,PlotLegends->\"Expressions\", ImageSize->300,PlotRange->All,\n",
    "FrameTicks -> {{Automatic,Automatic},{Table[i,{i,0,8*Pi,Pi}],Automatic}}]\n",
    ",\n",
    "Plot[5*Exp[-t]*(-Exp[t] + 15*Exp[- t]),{t,0,8*Pi},\n",
    "PlotTheme -> \"Scientific\", FrameLabel -> frameft, FrameStyle -> Black,PlotLegends->\"Expressions\", ImageSize->300,PlotRange->All,\n",
    "FrameTicks -> {{Automatic,Automatic},{Table[i,{i,0,8*Pi,Pi}],Automatic}}]\n",
    "}]"
   ]
  },
  {
   "cell_type": "markdown",
   "id": "e3087a5d-4ae3-4b09-b105-bfd320262e46",
   "metadata": {
    "editable": true,
    "slideshow": {
     "slide_type": "subslide"
    },
    "tags": []
   },
   "source": [
    "### Supongamos: $b \\neq 0$ y $b^2-4ac = 0$\n",
    "\n",
    "En este caso, mediante el método del polinomio caracterísiticolo sólo hay una solución, dada por\n",
    "$$\n",
    "a y''(t) +  b y'(t) +  c y(t) = 0, \\qquad\\text{donde}\\qquad \\quad y_\\pm (t) = A_1\\exp\\left(\\frac{-bt}{2a}\\right).\n",
    "$$\n",
    "\n",
    "Para obtener otra función linealmente independiente que sea solución a la ODE, se emplea el  **método de reducción de orden** para construirla (que se verá más adelante). Por el momento notemos que la solución general está dada por\n",
    "$$\n",
    "a y''(t)+  by'(t) + c y(t) = 0, \\quad\\Longrightarrow\\quad  y_\\pm (t) = \\left(A_1 + A_2 t\\right)\\exp\\left(\\frac{-bt}{2a}\\right)\n",
    "$$"
   ]
  },
  {
   "cell_type": "code",
   "execution_count": 10,
   "id": "db827179-5aab-461d-8912-7ef5aa0c827e",
   "metadata": {
    "editable": true,
    "slideshow": {
     "slide_type": "subslide"
    },
    "tags": []
   },
   "outputs": [
    {
     "data": {
      "text/html": [
       "<div><img alt=\"Output\" src=\"data:image/png;base64,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\"></div>"
      ],
      "text/plain": [
       "-Graphics-"
      ]
     },
     "execution_count": 10,
     "metadata": {
      "text/html": [],
      "text/plain": []
     },
     "output_type": "execute_result"
    }
   ],
   "source": [
    "Plot[5*Exp[-t/3](1+t),{t,0,8*Pi},\n",
    "PlotTheme -> \"Scientific\", FrameLabel -> frameft, FrameStyle -> Black,PlotLegends->\"Expressions\", ImageSize->300,PlotRange->All,\n",
    "FrameTicks -> {{Automatic,Automatic},{Table[i,{i,0,8*Pi,Pi}],Automatic}}]"
   ]
  },
  {
   "cell_type": "markdown",
   "id": "8b9974e9-a8e4-4a03-95c1-84ffdb73dea1",
   "metadata": {
    "editable": true,
    "slideshow": {
     "slide_type": "slide"
    },
    "tags": []
   },
   "source": [
    "## Coeficientes indeterminados\n",
    "\n",
    "Consideremos el caso de una ODE lineal de segundo grado y en su formulación no homogénea con **coeficientes constantes**, es decir\n",
    "$$\n",
    "y''(t) +  p y'(t) +  q y(t) = f(t), \\qquad\\text{donde}\\qquad y' = \\dv{y}{t},\\;y'' = \\mdv{y}{t}{2}\n",
    "$$\n",
    "La solución al caso homogéneo ($f(t) = 0$) ya se ha abordado. Lo que resta para tener la solución completa a esta ecuación es calcular la solución particular del caso no homogéneo. La idea básica de este método es el **proponer una solución educada** con base en la forma de $f(t)$. Es decir, si $f(t)$ es una función sinoidal, exponencial, o una potencial, debemos **proponer una combinación con las funciones que conforman a $\\mathbf{f(t)}$**, y determinar los coeficientes de la combinación lineal.\n",
    "\n",
    "### Método:\n",
    "\n",
    " - Analizar $f(t)$ e identificarla en términos de funciones *elemetales*\n",
    " - Porponer una combinación lineal con coeficientes constantes\n",
    " - Sustituir la combinación en la ODE\n",
    " - Resolver para los coeficientes\n",
    "\n",
    "Puedes revisar teoría y ejemplos en [este portal](https://tutorial.math.lamar.edu/classes/de/undeterminedcoefficients.aspx)"
   ]
  },
  {
   "cell_type": "markdown",
   "id": "e3e884b5-304f-4aa4-9b79-ab6e36629e62",
   "metadata": {
    "editable": true,
    "slideshow": {
     "slide_type": "subslide"
    },
    "tags": []
   },
   "source": [
    "### Propuestas de soluciones\n",
    "\n",
    "| $f(t)$ | Popuesta de solución |\n",
    "|---------|----------------------|\n",
    "|$\\exp(\\alpha t)$ | $a_\\alpha \\exp(\\alpha t)$ | \n",
    "|$\\cos(\\beta t)$ | $a_\\beta \\sin(\\beta t) + a_\\beta \\cos(\\beta t)$ | \n",
    "|$\\sin(\\gamma t)$ | $a_\\gamma \\sin(\\beta t) + a_\\gamma \\cos(\\gamma t)$ | \n",
    "| Polinomio de grado $m$ | $a_m t^m + a_{m-1}t^{m-1} + \\ldots + a_1 t + a_0$ | \n",
    "| $t\\exp(\\eta t)$ | $\\exp(\\eta t)(a_1 + a_2 t)$"
   ]
  },
  {
   "cell_type": "markdown",
   "id": "de85edfe-534a-4ce0-92fd-82a447965b5d",
   "metadata": {
    "editable": true,
    "slideshow": {
     "slide_type": "subslide"
    },
    "tags": []
   },
   "source": [
    "## Ejemplo:\n",
    "\n",
    "Supongamos que nuestra ODE a resolver es:\n",
    "$$\n",
    "y'' - 4 y' - 12y = 3 \\exp(5 t)\n",
    "$$\n",
    "\n",
    "Para resolver el caso homogéneo empleamos el método de la ecuación característica, dando como resultado que si $y_h(t) = \\exp(\\lambda t)$ entonces\n",
    "$$\n",
    "y'' - 4 y' - 10 y = \\exp(\\lambda t)\\left( \\lambda^2 - 4 \\lambda + 12\\right) = 0\\qquad\\Longrightarrow\\qquad  \\lambda_1 = -2,\\,\\lambda_2 = 6\n",
    "$$\n",
    "Por lo tanto, para determinar la solución particular $y_p(t)$, proponemos $y_p(t) = a \\exp(5 t)$,por lo que\n",
    "$$\n",
    "y_p(t) = a \\exp(5 t)\\quad\\Longrightarrow\\quad y_p'(t) = 5a\\exp(5t)\\quad\\Longrightarrow\\quad y_p'''(t) = 25a\\exp(5t)\n",
    "$$\n",
    " y sustituimos en la ODE:\n",
    " $$\n",
    "y'' - 4 y' - 12y = \\exp(5t) \\left(25 a - 4(5a) + 12a \\right) = -7a \\exp(5t) = 3  \\exp(5t),\n",
    "$$\n",
    "por lo que $a = -3/7$. Es decir la solución a la ODE es:\n",
    "$$\n",
    "y(t) = y_h(t) + y_p(t) = a_1 \\exp(-2 t) + a_2 \\exp(6 t) - \\frac37\\exp(5 t)\n",
    "$$"
   ]
  },
  {
   "cell_type": "markdown",
   "id": "ec571977-e86a-4e61-a23c-524d065f06e2",
   "metadata": {
    "editable": true,
    "slideshow": {
     "slide_type": "slide"
    },
    "tags": []
   },
   "source": [
    "## Reducción de orden:\n",
    "### Ecuación sin dependencia explícita en $y(t)$\n",
    "\n",
    "Para el caso genderal de una ODE de segundo orden, se propone el cambio de variable $z(t) = \\dd y/\\dd t$, lo que reducirá la expresión a una ODE de primer orden, sin emabrgo esto no garantiza que haya una solución general. Cuando esto sí es posible es en el caso de ODE lineles sin una dependencia explícita en $y(t)$, es decir\n",
    "\n",
    "$$\n",
    "a(t)y''(t) + b(t) y'(t)  = f(t) \\quad \\Longrightarrow\\quad a(t)z'(t) + b(t)z(t) = f(t)\\quad\\text{donde}\\quad z(t) = \\dv{y}{t}\n",
    "$$\n",
    "\n",
    "En este caso es posible emplear las técnicas vistas anteriormente. Asimismo, te puedes apoyar [en este recurso](https://blog.nekomath.com/ecuaciones-diferenciales-i-metodo-de-reduccion-de-orden/)"
   ]
  },
  {
   "cell_type": "markdown",
   "id": "09b555a2-30e1-432d-8c4b-3139bf4be770",
   "metadata": {
    "editable": true,
    "slideshow": {
     "slide_type": "subslide"
    },
    "tags": []
   },
   "source": [
    "### Ecuación con una sólución conocida\n",
    "\n",
    "Otro caso donde nos es posible emplear este método es cuando la **ODE es lineal con coeficientes constantes** y ya se tiene una solución a la ODE pero falta determinar otra que sea linealmente independiente de ésta, por ejemplo, cuando\n",
    "$$\n",
    "ay''(t) +  by'(t) +  c y(t) = 0, \\qquad\\text{donde}\\qquad  y_1 (t) = A_1\\exp\\left(\\frac{-bt}{2a}\\right)\\qquad\\text{si}\\qquad b^2-4ac = 0\n",
    "$$\n",
    "Aunque esto es válido para el caso general\n",
    "$$\n",
    "y''(t) +  p(t)y'(t) +  q(t)y(t) = 0\n",
    "$$\n",
    "en este caso proponemos la solución $y(t) = u(t)y_1(t)$ y sustituimos en la ODE original\n",
    "$$\n",
    "y(t) = u(t)y_1(t) \\quad\\Longrightarrow \\quad y'(t) = u'(t)y_1(t) + u(t)y_1'(t)\n",
    "\\quad\\Longrightarrow \\quad y''(t) = u''(t)y_1(t) + 2u'(t)y_1'(t)+u(t)y_1''(t)\n",
    "$$"
   ]
  },
  {
   "cell_type": "markdown",
   "id": "edf99a8d-2a50-4c81-b33f-ddbecbc42d36",
   "metadata": {
    "editable": true,
    "slideshow": {
     "slide_type": "subslide"
    },
    "tags": []
   },
   "source": [
    "por lo que\n",
    "$$\n",
    "y''(t) +  p(t) y'(t) +  q(t) y(t) =\\bigg[ y_1''(t) +  p(t) y_1'(t) +  q(t) y_1(t) \\bigg] + y_1(t)u''(z)+\\bigg[ 2 y_1'(t)+p(t)y_1(t)\\bigg]u'(t)=0\n",
    "$$\n",
    "o que se reduce a\n",
    "$$\n",
    "y''(t) +  p(t) y'(t) +  q(t) y(t) = y_1(t)u''(z)+\\bigg[ 2 y_1'(t)+p(t)y_1(t)\\bigg]u'(t)=0\n",
    "$$\n",
    "dado que $y_1(t)$ es solución a la ODE de segundo grado. Por lo tanto es posible emplear de nuevo los métodos para ODE de primer orden. **¿Cómo demostrarías el caso para la ODE de coeficientes constantes de segundo grado?**"
   ]
  },
  {
   "cell_type": "markdown",
   "id": "56d8cd3e-4811-470e-9aa1-2b36d9ff57f3",
   "metadata": {
    "editable": true,
    "slideshow": {
     "slide_type": "slide"
    },
    "tags": []
   },
   "source": [
    "## Variación de parámetros\n",
    "\n",
    "Consideremos la ODE de segundo grado lineal en su caso no homogéneo:\n",
    "$$\n",
    "y''(t) + p(t)y'(t) + q(t)y(t) = g(t),\n",
    "$$\n",
    "tal que conocemos dos soluciones $y_1(t)$ y $y_2(t)$ linealmente independientes al caso homogéneo $g(t)=0$ Es posible encontrar una solución al caso no-homogéneo proponiendo lo siguiente:\n",
    "$$\n",
    "\\psi(t) = u_1(t)y_1(t) + u_2(t)y_2(t),\n",
    "$$\n",
    "donde impondremos condiciones sobre las funciones $u_1(t)$ y $u_2(t)$. Este método se conoce como variación de parámetros dado que la solución general del caso homogéneo es\n",
    "$$\n",
    "\\xi(t) = u_1y_1(t) + u_2y_2(t),\n",
    "$$\n",
    "y lo que se hace es darle una dependencia en $t$ a la combinación lineal."
   ]
  },
  {
   "cell_type": "markdown",
   "id": "49cf1c61-e5d0-4ed1-94d9-754eef4d6634",
   "metadata": {
    "editable": true,
    "slideshow": {
     "slide_type": "subslide"
    },
    "tags": []
   },
   "source": [
    "### Primera condición\n",
    "\n",
    "Derivando la propuesta de solución $\\psi(t)$ dos veces se obtiene que:\n",
    "$$\n",
    "\\psi(t) = u_1(t)y_1(t) + u_2(t)y_2(t)\n",
    "\\quad\\Longrightarrow\\quad\n",
    "\\psi'(t) = {u'_1(t)y_1(t)} + u_1(t)y'_1(t) + {u'_2(t)y_2(t)} + u_2(t)y_2'(t).\n",
    "$$\n",
    "Dado que podemos imponer cualquier conndición sobre $u_1(t)$ y $u_2(t)$ proponemos que los términos en rojo sean igual a cero, de tal forma que cuando calculemos $\\psi''(t)$ no haya segundas derivadas de las funciones de prueba $u_1(t)$ y $u_2(t)$. De esta forma\n",
    "$$\n",
    "\\psi'(t) = u_1(t)y'_1(t)  + u_2(t)y_2'(t)\n",
    "\\qquad\\text{si imponemos que}\\qquad\n",
    "u'_1(t)y_1(t) +  u'_2(t)y_2(t) = 0.\n",
    "$$\n",
    "Bajo esta consideración, la segunda derivada de la propuesta de solución es tal que\n",
    "$$\n",
    "\\psi'(t) = u_1(t)y'_1(t)  + u_2(t)y_2'(t)\n",
    "\\quad\\Longrightarrow\\quad\n",
    "\\psi''(t) =  u_1'(t)y'_1(t)  +  u_1(t)y''_1(t)  + u_2'(t)y_2'(t)+  u_2(t)y_2''(t) \n",
    "$$"
   ]
  },
  {
   "cell_type": "markdown",
   "id": "def3cde5-924d-411d-8b80-cf953a482dde",
   "metadata": {
    "editable": true,
    "slideshow": {
     "slide_type": "subslide"
    },
    "tags": []
   },
   "source": [
    "### Segunda condición\n",
    "\n",
    "Propusimos que $\\psi(t)$ es solución al caso no homogéneo de una ODE de segundo orden (lineal) tal que\n",
    "$$\n",
    "\\psi(t) = u_1(t)y_1(t) + u_2(t)y_2(t)\n",
    "\\quad\\Longrightarrow\\quad\n",
    "\\psi'(t) = u_1(t)y'_1(t)  + u_2(t)y_2'(t)\n",
    "\\quad\\Longrightarrow\\quad\n",
    "\\psi''(t) =  u_1'(t)y'_1(t)  +  u_1(t)y''_1(t)  + u_2'(t)y_2'(t)+  u_2(t)y_2''(t) \n",
    "$$\n",
    "con $y_1$ y$y_1$ soluciones del caso homogéneo y $u_1$ y $u_2$ funciones a determinar tal que $u'_1(t)y_1(t) +  u'_2(t)y_2(t) = 0$. Al sustituir la solución notemos que\n",
    "$$\n",
    "\\begin{aligned}\n",
    "¸\\psi''(t) + p(t)\\psi'(t) + q(t)\\psi(t) =&  \\bigg[u_1'(t)y'_1(t)  +  u_1(t)y''_1(t)  + u_2'(t)y_2'(t)+  u_2(t)y_2''(t) \\bigg]\n",
    "                                    + p(t) \\bigg[ u_1(t)y'_1(t)  + u_2(t)y_2'(t) \\bigg]\n",
    "                                    + q(t) \\bigg[ u_1(t)y_1(t) + u_2(t)y_2(t)\\bigg]\\\\\n",
    "                                  =&   \\bigg[u_1'(t)y'_1(t) +  u_2'(t)y_2'(t) \\bigg]+ u_1(t)\\bigg[y_1''(t) + p(t)y_1'(t) + q(t)y_1(t) \\bigg]\n",
    "                                      + u_2(t)\\bigg[y_2''(t) + p(t)y_2'(t) + q(t)y_2(t) \\bigg]\\\\\n",
    "                                      &= g(t)\n",
    "\\end{aligned}\n",
    "$$\n",
    "y como $y_1$ y $y_1$ son solución al caso homogéneo, los términos entre corchetes son igual a cero. Por lo tanto la funciones  $u_1$ y $u_2$ son solución al caso no homogéneo si se cumple que\n",
    "$$\n",
    "u_1'(t)y'_1(t) +  u_2'(t)y_2'(t) = g(t)\n",
    "$$"
   ]
  },
  {
   "cell_type": "markdown",
   "id": "484987ba-2a37-44eb-803f-0ffb411a18c1",
   "metadata": {
    "editable": true,
    "slideshow": {
     "slide_type": "subslide"
    },
    "tags": []
   },
   "source": [
    "### Determinación de las funciones de prueba\n",
    "\n",
    "Las dos condiciones anteriormente deducidas son:\n",
    "$$\n",
    "\\begin{align}\n",
    "u'_1(t)y_1(t) +  u'_2(t)y_2(t) &= 0 \\tag{1} \\\\\n",
    "u_1'(t)y'_1(t) +  u_2'(t)y_2'(t) &= g(t) \\tag{2}\n",
    "\\end{align}\n",
    "$$\n",
    "Al multiplicar la Ec. (1) por $y_2'(t)$, la Ec. (2) por $y_2(t)$ y restarlas, se obtiene que\n",
    "$$\n",
    "\\bigg[ y_1(t)y_2'(t) - y_1'(t)y_2(t) \\bigg]u'_1(t) = -g(t)y_2(t),\n",
    "$$\n",
    "mientras que al multiplicar la Ec. (1) por $y_1'(t)$, la Ec. (2) por $y_1(t)$ y restarlas, el resultado es\n",
    "$$\n",
    "\\bigg[ y_1(t)y_2'(t) - y_1'(t)y_2(t) \\bigg]u'_2(t) = g(t)y_1(t),\n",
    "$$\n",
    "Dado que los términos entre corchetes son el Wronskiano de $y_1$ y $y_2$ (funciones conocidas), podemos determinar las funciones $u_1$ y $u_2$ al integrar las siguientes expresiones:\n",
    "$$\n",
    "u'_1(t) = - \\frac{g(t) y_2(t)}{W[y_1,y_2](t)},\\qquad\\text{y}\\qquad u'_2(t) = \\frac{g(t) y_1(t)}{W[y_1,y_2](t)},\n",
    "$$"
   ]
  },
  {
   "cell_type": "markdown",
   "id": "1a823138-cdb5-4ed3-8551-8ae00433d5a9",
   "metadata": {
    "editable": true,
    "slideshow": {
     "slide_type": "subslide"
    },
    "tags": []
   },
   "source": [
    "### Ejemplo\n",
    "Sea $y(t)$ una función con condiciones iniciales $y(0)=y'(0) = 1$ tal que obedece:\n",
    "$$\n",
    "\\mdv{y}{t}{2} + y = \\tan(t).\n",
    "$$\n",
    "las soluciones al caso homogéneo $y''+y = 0$ son $y_1(t) = \\cos(t)$ y $y_2(t)$. Asimismo, se calculó que el Wronskiano de estas funciones era tal que $W[y_1,y_2](t) = 1$, entonces\n",
    "$$\n",
    "u'_1(t) = - \\frac{g(t) y_2(t)}{W[y_1,y_2](t)} = -\\tan(t)\\sin(t),\\qquad\\text{y}\\qquad u'_2(t) = \\frac{g(t) y_1(t)}{W[y_1,y_2](t)} = \\tan(t)\\cos(t).\n",
    "$$\n",
    "Entonces\n",
    "$$\n",
    "u_1(t) = -\\int\\frac{\\sin(t)}{\\cos(t)}\\dd{t} = \\sin(t) - \\ln|\\sec(t)+\\tan(t)|\n",
    ",\\qquad\\text{y}\\qquad \n",
    "u_2(t)  = \\int\\sin(t)\\dd{t} = -\\cos(t)\n",
    "$$"
   ]
  },
  {
   "cell_type": "markdown",
   "id": "ae609aed-2370-4667-8df5-ac6b07d97ae2",
   "metadata": {
    "editable": true,
    "slideshow": {
     "slide_type": "subslide"
    },
    "tags": []
   },
   "source": [
    "Por lo tanto, la solución al caso no-homogéneo es:\n",
    "$$\n",
    "\\psi(t) = \\bigg[{\\sin(t) - \\ln|\\sec(t)+\\tan(t)|}\\bigg] \\cos(t) + { [-\\cos(t)]} \\sin(t) = - \\cos(t)\\ln|\\sec(t)+\\tan(t)|\n",
    "$$\n",
    "Por lo tanto, la solución general es\n",
    "$$\n",
    "y(t) = y_h(t) + y_p(t) = u_1 \\cos(t) + u_2 \\sin(t) - \\cos(t)\\ln|\\sec(t)+\\tan(t)|,\n",
    "$$\n",
    "y como imponemos las condiciones iniciales $y(0)=y'(0) = 1$, basta con ver que $u_1=1$  y $u_2 = 2$"
   ]
  },
  {
   "cell_type": "code",
   "execution_count": null,
   "id": "aa8efe0a-036f-4658-8d6e-e8625107c501",
   "metadata": {
    "editable": true,
    "slideshow": {
     "slide_type": ""
    },
    "tags": []
   },
   "outputs": [],
   "source": []
  }
 ],
 "metadata": {
  "kernelspec": {
   "display_name": "Wolfram Language 13",
   "language": "Wolfram Language",
   "name": "wolframlanguage13"
  },
  "language_info": {
   "codemirror_mode": "mathematica",
   "file_extension": ".m",
   "mimetype": "application/vnd.wolfram.m",
   "name": "Wolfram Language",
   "pygments_lexer": "mathematica",
   "version": "12.0"
  }
 },
 "nbformat": 4,
 "nbformat_minor": 5
}
