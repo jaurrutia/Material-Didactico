{
 "cells": [
  {
   "cell_type": "markdown",
   "id": "1a2f1939-5489-4e51-a32c-fcdaacd6ea01",
   "metadata": {
    "editable": true,
    "slideshow": {
     "slide_type": "slide"
    },
    "tags": []
   },
   "source": [
    "# **Modelación de sistemas dinámicos**\n",
    "# Sistemas lineales de ODE de primer grado\n",
    "\n",
    "### M. en C. Jonathan A. Urrutia Anguiano\n",
    "### MA1035.535\n",
    "\n",
    "\n",
    "<div hidden>\n",
    "$\\def\\dd{\\text{d}}$\n",
    "$\\def\\dv#1#2{\\dfrac{\\text{d} #1}{\\text{d}#2}}$\n",
    "$\\def\\mdv#1#2#3{\\dfrac{\\text{d}^{#3} #1}{\\text{d}#2^{#3}}}$\n",
    "$\\def\\vb#1{\\mathbf{#1}}$\n",
    "$\\def\\pdv#1#2#3{\\dfrac{\\partial^{#3} #1}{\\partial #2^{#3}}}$\n",
    "$\\def\\pmat#1#2{\\left( \\begin{array}{#1} #2 \\end{array}  \\right)}$\n",
    "\\vskip-\\parskip\n",
    "\\vskip-\\baselineskip\n",
    "</div>"
   ]
  },
  {
   "cell_type": "markdown",
   "id": "30391e3c-c4c8-4240-8140-ba727293927e",
   "metadata": {
    "editable": true,
    "slideshow": {
     "slide_type": "slide"
    },
    "tags": []
   },
   "source": [
    "## ¿Por qué estudiar sistemas de ODEs?\n",
    "\n",
    "Hasta el momento hemos estudiados ***ordinary differential equations*** (ODEs) de primer y segundo orden y hemos desarrollado técnicas para cuando estas ecuaciones son lineales. La tarea no ha sido sencilla sin embargo, el problema se puede complicar cuando consideramos que la función $y(t)$ a determinar se ve afectada por otro factor que también depende del tiempo, es decir una segunda función $v(t)$. En el caso más sencillo, estas dos funciones se acoplan mediante una relación lineal, es decir\n",
    "\n",
    "$$\n",
    "\\begin{aligned}\n",
    "    \\dv{y(t)}{t} &= a y(t) + b v(t),\\\\\n",
    "    \\dv{v(t)}{t} &= c y(t) + d v(t),\n",
    "\\end{aligned}\n",
    "$$\n",
    "en donde $a$, $b$, $c$ y $d$ son constantes. Notemos que si $b= c = 0$ entonces las dos ecuaciones diferenciales estarían desacopladas y podríamos emplear las  técnicas de clases anteriores. Pero si en efecto hay una dependencia entre las cantidades y su evolución en el tiempo ¿Cómo se aborda el problema?\n",
    "\n",
    "El ejemplo típico de un sistema de ODE es el modelo de [Lotka-Volterra](https://www.math.stonybrook.edu/~azinger/mat127-spr22/PredatorPreySystems.pdf)"
   ]
  },
  {
   "cell_type": "markdown",
   "id": "845d494c-d86a-4dc2-9448-ca7258698048",
   "metadata": {
    "editable": true,
    "slideshow": {
     "slide_type": "subslide"
    },
    "tags": []
   },
   "source": [
    "## Sistemas de ODEs: Equivalencia con ODEs de orden $n$\n",
    "\n",
    "Si consideramos el caso de una ODE de orden $n$ lineal y homogénea,la ecuación a resolver es la siguiente:\n",
    "\n",
    "$$\n",
    "a_n(t)\\mdv{y}{t}{n} + a_{n-1}(t)\\mdv{y}{t}{n-1} + \\ldots+ a_1(t)\\dv{y}{t} + a_0(t)y = 0 \\tag{1}\n",
    "$$\n",
    "\n",
    "La cual involucraría encontrar $n$ soluciones linealmente independientes y por lo tanto hacer $n$ integrales. Pero una forma de aborar el problema es transformar esta única ecuación de orden $n$, a $n$ ecuaciones de primer orden. Para esto, definamos las siguientes funciones:\n",
    "$$\n",
    "x_1(t) = y(t),\\quad x_2(t)= y^{(1)}(t),\\quad x_3(t)= y^{(2)}(t),\\quad\\ldots\\quad x_n(t)= y^{(n-1)}(t),\n",
    "$$\n",
    "donde $y^{(i)}$ es la derivada de orden $i$ de $y$. "
   ]
  },
  {
   "cell_type": "markdown",
   "id": "dd1e3f8d-c2b3-47f3-b173-0f1cacecf9a4",
   "metadata": {
    "editable": true,
    "slideshow": {
     "slide_type": "subslide"
    },
    "tags": []
   },
   "source": [
    "Notemos entonces que si derivamos una vez cada una de las funciones $x_i$, se tiene que\n",
    "$$\n",
    "x_1^{(1)}(t) = y^{(1)}(t) = x_2(t),\\quad x_2^{(1)}(t)= y^{(2)}(t)=x_3(t),\\quad x_3^{(1)}(t)= y^{(3)}(t)=x_3(t),\\quad\\ldots\\quad x_{n-1}^{(1)}(t)= y^{(n-1)}(t) = x_n(t), \\tag{2}\n",
    "$$\n",
    "y donde la única excepción es la primera derivada de $x_n$, que se obtiene al despejar las ODE de orden $n$, dando como resultado:\n",
    "$$\n",
    "x_n^{(1)} = -\\frac{a_{n-1}(t)}{a_n(t)} x_n(t) -\\frac{a_{n-2}(t)}{a_n(t)} x_{n-1}(t) - \\ldots -\\frac{a_{0}(t)}{a_n(t)} x_1(t) \\tag{3}\n",
    "$$\n",
    "y aunque no lo parezca, es más sencillo resolver $n$ ecuaciones diferenciales de primer orden [Ecs. (2) y (3)], que una ODE de orden $n$ [Ec. (1)]"
   ]
  },
  {
   "cell_type": "markdown",
   "id": "48c41767-5386-4f67-9c51-cf5a00bf58d0",
   "metadata": {
    "editable": true,
    "slideshow": {
     "slide_type": "slide"
    },
    "tags": []
   },
   "source": [
    "## Notación matricial\n",
    "\n",
    "Para simplificar la notación, y retomar concepto del álgebra lineal, emplearemos una notación de matrices. Es decir, un sistema de dos ecuaciones diferenciales se reescribe como\n",
    "\n",
    "$$\n",
    "\\begin{aligned}\n",
    "    \\dv{y(t)}{t} &= a y(t) + b v(t),\\\\\n",
    "    \\dv{v(t)}{t} &= c y(t) + d v(t),\n",
    "\\end{aligned}\n",
    "    \\qquad \\Longrightarrow\n",
    "    \\pmat{c}{y'(t) \\\\ v'(t)} = \\pmat{cc}{a & b \\\\ c & d} \\pmat{c}{y(t) \\\\ v(t)},\n",
    "$$\n",
    "que se puede simplificar más aún si se define \n",
    "$$\n",
    "\\vb{x}(t) = \\pmat{c}{y(t) \\\\ v(t)},\\qquad \\dv{\\vb{x}(t)}{t} = \\pmat{c}{y'(t) \\\\ v'(t)},\\qquad \\mathbb{A} =\\pmat{cc}{a & b \\\\ c & d}\n",
    "$$\n",
    "lo que daría como resultado que el sistema de ODE lineal es\n",
    "$$\n",
    "\\dv{}{t}\\vb{x}(t) = \\mathbb{A}\\vb{x}(t)\n",
    "$$"
   ]
  },
  {
   "cell_type": "markdown",
   "id": "8b6452fa-4fc8-4c30-a7f8-ba70ec7e0ed7",
   "metadata": {
    "editable": true,
    "slideshow": {
     "slide_type": "subslide"
    },
    "tags": []
   },
   "source": [
    "Análogamente, se había visto que una ODE de orden $n$ para $y(t)$ se rescribe como un sistema $n$ ODE de primer orden para las funciones $x_i(t)$ dadas por:\n",
    "$$\n",
    "\\begin{aligned}\n",
    "&a_n(t)\\mdv{y}{t}{n} + a_{n-1}(t)\\mdv{y}{t}{n-1} + \\ldots+ a_1(t)\\dv{y}{t} + a_0(t)y = 0 \\\\\n",
    "&x_1(t) = y(t),\\quad x_2(t)= y^{(1)}(t),\\quad\\ldots\\quad x_n(t)= y^{(n-1)}(t),\\\\\n",
    "\\end{aligned}\n",
    "$$\n",
    "Donde el sistema de ecuaciones es\n",
    "$$\n",
    "\\begin{aligned}\n",
    "& x_1^{(1)}(t) = x_2(t),\\quad x_2^{(1)}(t)=x_3(t),\\quad \\ldots\\quad x_{n-1}^{(1)}(t)= y^{(n-1)}(t) = x_n(t),\\\\\n",
    "& x_n^{(1)} = -\\frac{a_{n-1}(t)}{a_n(t)} x_n(t) -\\frac{a_{n-2}(t)}{a_n(t)} x_{n-1}(t) - \\ldots -\\frac{a_{0}(t)}{a_n(t)} x_1(t)\n",
    "\\end{aligned}\n",
    "$$"
   ]
  },
  {
   "cell_type": "markdown",
   "id": "309f0e97-668a-403a-b67d-2827f7e737e1",
   "metadata": {
    "editable": true,
    "slideshow": {
     "slide_type": "subslide"
    },
    "tags": []
   },
   "source": [
    "Definiendo el vector $\\vb{x}^{T}(t) = (x_1(t),x_2(t),\\ldots, x_n(t))$ entonces el sistema de ODE es\n",
    "$$\n",
    "\\dv{}{t}\\vb{x}(t) = \\mathbb{A}\\vb{x}(t),\\quad\\text{con}\\quad\n",
    "\\vb{x}(t) = \\pmat{c}{x_1(t)\\\\ x_2(t)\\\\ \\vdots \\\\x_{n-2}(t)\\\\ x_{n-1}(t) \\\\ x_{n}(t)} \\quad\\text{y}\\quad \n",
    "\\mathbb{A} = \n",
    "\\pmat{cccccc}{0 & 1 & 0 & \\ldots & 0 & 0\\\\\n",
    "             0 & 0 & 1 & \\ldots & 0 & 0\\\\\n",
    "             \\vdots & \\vdots & \\vdots & \\ddots & \\vdots &\\vdots\\\\\n",
    "             0 & 0 & 0 &\\dots & 1 & 0\\\\\n",
    "             0 & 0 & 0 &\\dots & 0 & 1\\\\\n",
    "             -\\frac{a_{n-1}(t)}{a_n(t)} & -\\frac{a_{n-2}(t)}{a_n(t)} & -\\frac{a_{n-3}(t)}{a_n(t)} & \\ldots & -\\frac{a_{1}(t)}{a_n(t)} &-\\frac{a_{0}(t)}{a_n(t)}\n",
    "            }\n",
    "$$"
   ]
  },
  {
   "cell_type": "markdown",
   "id": "03f2398b-0bd0-4760-b3c1-c09266eff6c7",
   "metadata": {
    "editable": true,
    "slideshow": {
     "slide_type": "slide"
    },
    "tags": []
   },
   "source": [
    "## Solución como una combinación lineal\n",
    "\n",
    "Un sistema de ODE de primer orden, lineal, con su condición inicial en $t_0$ se escribe como\n",
    "$$\n",
    "\\dv{}{t}\\vb{x}(t) = \\mathbb{A}\\vb{x}(t),\\quad\\text{con}\\quad \\vb{x}^{T}(t_0) = (x_1(t_0), x_2(t_0), \\ldots, x_n(t_0)).\n",
    "$$\n",
    "Dado que la ecuación anterior involucra $n$ ODE de primer orden, obtendremos $n$ soluciones para cada una de las ecuaciones. Por tanto, la solución del sistema de ODE debe poder escribirse como una combinación lineal de estas soluciones. Por lo tanto, se propone que\n",
    "$$\n",
    "\\vb{x}(t) = c_1 \\boldsymbol{\\psi}_1(t) + c_2 \\boldsymbol{\\psi}_2(t) + \\ldots + c_n \\boldsymbol{\\psi}_n(t) ,\n",
    "$$\n",
    "donde $c_i$ son escalares y las funciones vectoriales $\\boldsymbol{\\psi}_i(t)$ se define como el vector con todas sus componentes iuguales a cero,a excepción de su $i$-ésima coordenada la cual incluye la solución a la $i$-ésima ODE [la que resuelve a $x_i'(t)$] dada por $\\psi_i(t)$. Es decir\n",
    "$$\n",
    "\\boldsymbol{\\psi}_1(t) = \\psi_1(t) \\pmat{c}{1 \\\\ 0 \\\\ \\vdots \\\\ 0},\n",
    "\\quad\n",
    "\\boldsymbol{\\psi}_2(t) = \\psi_2(t) \\pmat{c}{0 \\\\ 1 \\\\ \\vdots \\\\ 0},\n",
    "\\quad \\ldots\\quad\n",
    "\\boldsymbol{\\psi}_n(t) = \\psi_n(t) \\pmat{c}{0 \\\\ 0 \\\\ \\vdots \\\\ 1}.\n",
    "$$\n",
    "**Ojo:** Esta es sólo una propuesta de combinación lineal, por lo que una base de vectores distinta puede ser también utilizada. Por lo tanto, definamos un criterio para corroborar que tengamos soluciones linelmente independientes en general."
   ]
  },
  {
   "cell_type": "markdown",
   "id": "64b47f13-42a2-417e-8c4e-b759e4a12ff1",
   "metadata": {
    "editable": true,
    "slideshow": {
     "slide_type": "subslide"
    },
    "tags": []
   },
   "source": [
    "### Independencia lineal\n",
    "\n",
    "Para que toda solución del sistema de ODE puede escribirse como una combinación lineal de las funciones vectoriales $\\boldsymbol{\\psi}_i(t)$, se debe corroborar que sea un conjunto linealmente independiente. Para esto, hay que corroborar que\n",
    "$$\n",
    " a_1 \\boldsymbol{\\psi}_1(t) + a_2 \\boldsymbol{\\psi}_2(t) + \\ldots + a_n \\boldsymbol{\\psi}_n(t) = \\vb{0} \\quad\\text{sólo si}\\quad a_1 = a_2 = \\ldots = a_n = 0.\n",
    "$$\n",
    "En caso contrario, no es un conjunto linealmente independiente. Dado que la expresión anterior es válida para todo tiempo $t$, en particular lo es para el tiempo de las condiciones iniciales, por lo tanto  basta con verificar que\n",
    "$$\n",
    " a_1 \\boldsymbol{\\psi}_1(t_0) + a_2 \\boldsymbol{\\psi}_2(t_0) + \\ldots + a_n \\boldsymbol{\\psi}_n(t_0) = \\vb{0} \\quad\\text{sólo si}\\quad a_1 = a_2 = \\ldots = a_n = 0.\n",
    "$$"
   ]
  },
  {
   "cell_type": "markdown",
   "id": "c8d4c254-6f95-491d-86bd-c0cc4cbb5046",
   "metadata": {
    "editable": true,
    "slideshow": {
     "slide_type": "subslide"
    },
    "tags": []
   },
   "source": [
    "### Ejemplo*\n",
    "\n",
    "Consideremos el caso de la una ODE lineal de segundo orden (homogénea) para la función $y(t)$ y cuyas soluciones linealmente independientes son $y_1(t)$ y $y_2(t)$. Tomemos el caso siguiente:\n",
    "$$\n",
    "\\mdv{y}{t}{2} + 2 \\dv{y}{t} + y = 0\\quad \\Longrightarrow\\quad y_1(t) = \\exp(-t),\\;y_2(t) = t\\exp(-t).\n",
    "$$\n",
    "La ODE anteior se puede plantear como el sistema de ecuaciones siguiente considerando $x_1(t) = y(t)$ y $x_2(t) = y'(t)$:\n",
    "$$\n",
    "\\dv{}{t}\\vb{x}(t) = \\mathbb{A}\\vb{x}(t),\\quad\\text{con}\\quad \\vb{x}=\\pmat{c}{x_1(t)\\\\ x_2(t)} = \\pmat{c}{y(t)\\\\ y'(t)},\\; \\mathbb{A} = \\pmat{cc}{0 & 1\\\\ -1 &-2}\n",
    "$$\n",
    "Dado que ya conocemos las soluciones $y_1$ y y $y_2$, las funciones vectoriales que resuleven el sistema de ODEs son\n",
    "$$\n",
    "\\boldsymbol{\\psi}_1(t) = \\pmat{c}{y_1(t)\\\\y_1'(t)} = \\pmat{c}{\\exp{(-t)} \\\\ -\\exp{(-t)}},\\qquad\n",
    "\\boldsymbol{\\psi}_2(t) = \\pmat{c}{y_2(t)\\\\y_2'(t)} = \\pmat{c}{t\\exp{(-t)} \\\\ (1-t)\\exp{(-t)}}.\n",
    "$$"
   ]
  },
  {
   "cell_type": "markdown",
   "id": "539b73e2-45f1-432e-adf4-b755bdd620d8",
   "metadata": {
    "editable": true,
    "slideshow": {
     "slide_type": "subslide"
    },
    "tags": []
   },
   "source": [
    "Para corroborar la independencia lineal de las dos soluciones $\\boldsymbol{\\psi}_i$, mostremos que\n",
    "$$\n",
    "a_1 \\boldsymbol{\\psi}_1(t_0) + a_2 \\boldsymbol{\\psi}_2(t_0) = a_1\\pmat{c}{\\exp{(-t_0)} \\\\ -\\exp{(-t_0)}} + a_2 \\pmat{c}{t_0\\exp{(-t_0)} \\\\ (1-t_0)\\exp{(-t_0)}} = \\pmat{c}{0 \\\\ 0}\n",
    "$$\n",
    "Considerando la elección usual de $t_0 = 0$, la ecuación anterior se reescribe como\n",
    "$$\n",
    "a_1 \\boldsymbol{\\psi}_1(0) + a_2 \\boldsymbol{\\psi}_2(0) = a_1\\pmat{c}{1 \\\\ -1} + a_2 \\pmat{c}{0 \\\\ 1} = \\pmat{c}{a_1 \\\\ -a_1 + a_2} =\\pmat{c}{0 \\\\ 0}\n",
    "$$\n",
    "Por lo que sólo se cumple la ecuación si $a_1 = a_2 = 0$."
   ]
  },
  {
   "cell_type": "markdown",
   "id": "a5f84df5-7c17-4cef-aa5a-6e0757189e24",
   "metadata": {
    "editable": true,
    "slideshow": {
     "slide_type": "slide"
    },
    "tags": []
   },
   "source": [
    "## Algunos resultados qué recordar\n",
    "\n",
    "Tomemos un breve descanso de los sistemas de ODEs, y recordemas propuedades de sistemas de ecuaciones algebrácos.\n",
    "\n",
    "Consideremos los vecotores con $n$ entradas $\\vb{x}$ y $\\vb{b}$, donde el primero es el vector de incógnidas. El sistema de ecaciones lineal descrito por la matriz $\\mathbb{A}$ es\n",
    "$$\n",
    "\\mathbb{A}\\vb{x} = \\vb{b}.\n",
    "$$\n",
    "El sistema es soluble de forma única si es posible calcular si la matriz $\\mathbb{A}$ es invertible, esto es que exista la matriz $\\mathbb{A}^{-1}$ tal que $\\mathbb{A}\\mathbb{A}^{-1} = \\mathbb{A}^{-1}\\mathbb{A} = \\mathbb{I}$, donde $\\mathbb{I} = \\text{diag}(1,1,1,\\dots, 1)$ es la matriz identidad con sólo 'unos' en su diagonal. Esto se resume como\n",
    "$$\n",
    "\\text{Si existe } \\mathbb{A}^{-1} \\text{ y } \\mathbb{A}\\vb{x} = \\vb{b} \\text{ entonces } \\vb{x} = \\mathbb{A}^{-1}\\vb{b}.\n",
    "$$\n",
    "Cabe mencionar que si no existe $\\mathbb{A}^{-1}$ el sistema **puede no tener solución alguna, o bien, tener infinitas soluciones**. \n",
    "\n",
    "El determinante de la matriz $\\mathbb{A}$ nos puede dar información sobre la existencia de la solución única:\n",
    "$$\n",
    "\\text{Si } \\det\\mathbb{A} = 0\\text{ entonces $\\mathbb{A}$ no es invertible y por tanto no tiene solución única.}\n",
    "$$"
   ]
  },
  {
   "cell_type": "markdown",
   "id": "ca578b78-cd35-42d3-9e40-ba105c95f295",
   "metadata": {
    "editable": true,
    "slideshow": {
     "slide_type": "slide"
    },
    "tags": []
   },
   "source": [
    "## Sistemas de ODEs\n",
    "\n",
    "Consideremos el sistema de ODEs de primer orden lineal:\n",
    "$$\n",
    "\\dv{}{t}\\vb{x}(t) = \\mathbb{A}\\vb{x}(t) \n",
    "$$\n",
    "Dado que se ha oobtenido de forma recurrente que la función exponencial fue solución a las ODE de primer y segundo orden lineales, propongamos como solución al sistema de ecuaciones\n",
    "$$\n",
    "\\vb{x}(t) = \\exp{(\\lambda t)}\\vb{v} \n",
    "$$\n",
    "donde $\\vb{v}$ es un vector constante, cuyas componentes no se conocen, y $\\lambda$, es valor a determinar. Lo que debemos hacer ahora es ver qué deben cumplir las componentes $v_i$ del vector $\\vb{v}$  y $\\lambda$ para que en efecto la propuesta de solución obedesca el sistema de ODEs lineal. Al sustituir esta propuesta en el sistema de ODEs, se tiene que\n",
    "$$\n",
    "\\dv{}{t}\\vb{x}(t) = \\mathbb{A}\\vb{x}(t) \n",
    " \\quad \\Longrightarrow  \\quad \n",
    "\\lambda\\exp{(\\lambda t)}\\vb{v} = \\mathbb{A} \\exp{(\\lambda t)}\\vb{v} \n",
    " \\quad \\Longrightarrow  \\quad \n",
    "\\lambda\\vb{v} = \\mathbb{A} \\vb{v} \n",
    "$$\n",
    "es decir, de nuevo nuestro problema se reduce a un problema de álgebra lineal, en particular, debemos calcular los **valores y vectores propios** de la matrizx $\\mathbb{A}$"
   ]
  },
  {
   "cell_type": "markdown",
   "id": "834a6d69-a626-4af6-bcc9-1f0c3e50c38a",
   "metadata": {
    "editable": true,
    "slideshow": {
     "slide_type": "subslide"
    },
    "tags": []
   },
   "source": [
    "## Vectores y valores propios\n",
    "\n",
    "Para que $\\vb{x}(t) = \\exp{(\\lambda t)}\\vb{v}$ sea solución al sistema de ODEs lineal de primer orden dado por $\\vb{x}'(t) = \\mathbb{A}\\vb{x}(t)$, debe cumplirse que \n",
    "$$ \n",
    "\\mathbb{A} \\vb{v}  = \\lambda\\vb{v}.\n",
    "$$\n",
    "Notemos que con ayuda de la matriz identidad $\\mathbb{I}$, la ecuación anterior puede reescribirse como\n",
    "$$ \n",
    "\\mathbb{A} \\vb{v}  = \\lambda\\vb{v} = \\lambda\\mathbb{I}\\vb{v}\n",
    "\\quad\\Longrightarrow\\quad\n",
    "\\mathbb{A} \\vb{v} - \\lambda\\mathbb{I}\\vb{v} = \\left( \\mathbb{A} - \\lambda \\mathbb{I}\\right)\\vb{v} = \\vb{0}.\n",
    "$$\n",
    " - Si la matriz $\\mathbb{A} - \\lambda \\mathbb{I}$ fuese invertible, entonces habría una solución única para $\\vb{v}$, la cual sería $\\vb{v} = \\vb{0}$, es decir la solución trivial que, además haría que nuestra solución al sistema de ODEs fuese cero.\n",
    " - Para tener soluciones distintas a la solución cero, es conveniente imponer que la matriz $\\mathbb{A} - \\lambda \\mathbb{I}$ no sea inverible, y así tener la posibilidad de infinitas soluciones (de las cuales escogeremos $n$ que sean linealmente independientes). Es decir, impondremos que\n",
    "\n",
    "$$\n",
    "\\det\\left( \\mathbb{A} - \\lambda \\mathbb{I}\\right) = 0\n",
    "$$\n",
    "\n",
    "La ecuación anterior determina los valores de $\\lambda$, conocidos como valores propios, y al tenerlos, es posible determinar explícitamente los vecoteres $\\vb{v}$, conocidos como vectores propios."
   ]
  },
  {
   "cell_type": "markdown",
   "id": "3d12e16f-b752-4618-bb67-540ab3951123",
   "metadata": {
    "editable": true,
    "slideshow": {
     "slide_type": "subslide"
    },
    "tags": []
   },
   "source": [
    "### Polinomio característico\n",
    "\n",
    "Para determinar los valores propios $\\lambda$ de $\\mathbb{A}$, emlpleemos la condición de $\\det\\left( \\mathbb{A} - \\lambda \\mathbb{I}\\right) = 0$. Si consideramos que los elementos de la matriz $\\mathbb{A}$ son $a_{ij}$, entonces\n",
    "$$\n",
    "\\operatorname{det}(\\mathbf{A}-\\lambda \\mathbf{I})=\\operatorname{det}\\left(\\begin{array}{cccc}\n",
    "a_{11}-\\lambda & a_{12} & \\ldots & a_{1 n} \\\\\n",
    "a_{21} & a_{22}-\\lambda & \\ldots & a_{2 n} \\\\\n",
    "\\vdots & \\vdots & & \\vdots \\\\\n",
    "a_{n 1} & a_{n 2} & \\ldots & a_{n n}-\\lambda\n",
    "\\end{array}\\right) = 0\n",
    "$$\n",
    "lo que da como resultado un polinomio de grado $n$ con $\\lambda$ como variable, y los valores propios son las raíces de dicho polinomio. Nótese que en general, existen $n$ raíces en total considerando valores repetidos e incluso soluciones complejas.  Poco a poco abordaremos cada uno de esos casos."
   ]
  },
  {
   "cell_type": "markdown",
   "id": "938e85a8-6d42-4f19-a1ca-32df982b368f",
   "metadata": {
    "editable": true,
    "slideshow": {
     "slide_type": "subslide"
    },
    "tags": []
   },
   "source": [
    "### Determinar vectores propios\n",
    "\n",
    "Una vez calculados los $n$ valores propios, falta determinar un $\\vb{v}_i$ para cada valor propio $\\lambda_i$. Esto se realiza sustituyendo $\\lambda_i$ en la ecuación original, es decir\n",
    "$$\n",
    "\\left( \\mathbb{A} - \\lambda_i \\mathbb{I}\\right) \\vb{v}_i = \\vb{0}.\n",
    "$$\n",
    "Dado que el sistema no tiene solución única, lo más conveniente para determinar las entradas del vector $\\vb{v}_i$ es:\n",
    " - Simplificar lo más posible la ecuación anterior\n",
    " - A una de las entradas de $\\vb{v}_i^{T} = (v_{i,1},v_{i,2},\\ldots,v_{i,n}) $ proporcionarle un valor arbitrario\n",
    " - Despejar los demás valores a determinar\n",
    "\n",
    "**Si todos los valores propios son distintos, entonces los vectores propis son linealmente independientes** y por tanto podemos determinar la solución al sistema de ODEs directamente."
   ]
  },
  {
   "cell_type": "markdown",
   "id": "034838df-fd50-4caa-b880-681d0a85471a",
   "metadata": {
    "editable": true,
    "slideshow": {
     "slide_type": "subslide"
    },
    "tags": []
   },
   "source": [
    "### Ejemplo*\n",
    "Sea el sistema de ODEs a resolver:\n",
    "$$\n",
    "\\dv{}{t}\\vb{x}(t) = \\mathbb{A}\\vb{x}(t) ,\\qquad \\text{con} \\qquad \\mathbb{A} = \\pmat{ccc}{1 & -1 & 4 \\\\ 3 & 2 & -1 \\\\ 2 & 1 & -1}\n",
    "$$\n",
    "El polinomio característico asociado al sistema de ODEs anterior es:\n",
    "$$\n",
    "\\begin{aligned}\n",
    "\\operatorname{det}(\\mathbb{A}-\\lambda \\mathbb{I}) &= \n",
    "    \\operatorname{det}\\left(\\begin{array}{ccc}\n",
    "        1-\\lambda & -1 & 4 \\\\\n",
    "        3 & 2-\\lambda & -1 \\\\\n",
    "        2 & 1 & -1-\\lambda\n",
    "    \\end{array}\\right) \\\\\n",
    "& =-(1+\\lambda)(1-\\lambda)(2-\\lambda)+2+12-8(2-\\lambda)+(1-\\lambda)-3(1+\\lambda) \\\\\n",
    "& =(1-\\lambda)(\\lambda-3)(\\lambda+2).\n",
    "\\end{aligned}\n",
    "$$\n",
    "Esto quiere decir que los valores propios son\n",
    "\n",
    "$$\n",
    "\\lambda_1 = 1,\\qquad \\lambda_2 = 3,\\qquad \\lambda_3 = -2\n",
    "$$"
   ]
  },
  {
   "cell_type": "markdown",
   "id": "087be128-869c-4f63-9608-2ab8164956f5",
   "metadata": {
    "editable": true,
    "slideshow": {
     "slide_type": "subslide"
    },
    "tags": []
   },
   "source": [
    "Para determinar el primer vector propio sustituyamos con $\\lambda_1 = 1$ la ecuación siguiente\n",
    "$$\n",
    "\\left( \\mathbb{A} - \\lambda_i \\mathbb{I}\\right) \\vb{v}_i = \\vb{0} \\quad \\Longrightarrow \\quad\n",
    "\\pmat{ccc}{   1-\\lambda_1& -1 & 4 \\\\\n",
    "        3 & 2-\\lambda_1 & -1 \\\\\n",
    "        2 & 1 & -1-\\lambda_1}\\pmat{c}{v_1 \\\\ v_2 \\\\ v_3}\n",
    "        = \n",
    "        \\pmat{ccc}{ 0 & -1 & 4 \\\\\n",
    "        3 & 1 & -1 \\\\\n",
    "        2 & 1 & -2}\\pmat{c}{v_1 \\\\ v_2 \\\\ v_3} = \\pmat{c}{0\\\\ 0 \\\\ 0}\n",
    "$$\n",
    "La última igualdad es equivalente a las tres ecuaciones siguientes:\n",
    "$$\n",
    "-v_2 + 4 v_3 = 0 \\qquad 3 v_1+v_2-v_3 = 0\\qquad 2 v_1 + v_2 - 2 v_3 = 0,\n",
    "$$\n",
    "por lo que, si $v_3 = 1$, entonces $v_2 = 4$ y $v_1 = -1$, por lo tanto $\\vb{v}_1^{T} = (-1,4,1)$. Lo que nos permite determinar que la primera función vectorial es:\n",
    "$$\n",
    "\\boldsymbol{\\psi}_1(t) = \\exp(\\lambda_1 t)\\vb{v}_1 = \\exp(t)\\pmat{c}{-1\\\\ 4 \\\\ 1}\n",
    "$$"
   ]
  },
  {
   "cell_type": "markdown",
   "id": "24cf360d-99a8-41f4-8b14-3fd402172ed5",
   "metadata": {
    "editable": true,
    "slideshow": {
     "slide_type": "subslide"
    },
    "tags": []
   },
   "source": [
    "Haciendo un procedimiento análogo con los otros dos valores propios, se tiene que\n",
    "$$\n",
    "\\boldsymbol{\\psi}_2(t) = \\exp(\\lambda_2 t)\\vb{v}_2 = \\exp(3t)\\pmat{c}{1\\\\ 2 \\\\ 1}\\qquad\n",
    "\\boldsymbol{\\psi}_3(t) = \\exp(\\lambda_3 t)\\vb{v}_3 = \\exp(-2t)\\pmat{c}{-1\\\\ 1 \\\\ 1}\n",
    "$$\n",
    "Por tanto,la solución al caso homogénoo de un sistema de ODEs es:\n",
    "$$\n",
    "\\begin{aligned}\n",
    "\\vb{x}(t) &=  c_1 \\boldsymbol{\\psi}_1(t) + c_2 \\boldsymbol{\\psi}_2(t) + c_3 \\boldsymbol{\\psi}_3(t) \\\\\n",
    "    &=  c_1 \\exp(t)\\pmat{c}{-1\\\\ 4 \\\\ 1} + c_2 \\exp(3t)\\pmat{c}{1\\\\ 2 \\\\ 1} + c_3 \\exp(-2t)\\pmat{c}{-1\\\\ 1 \\\\ 1}\\\\\n",
    "    &=  \\pmat{ccc}{-1 & 1 & -1 \\\\ 4 & 2 & 1 \\\\ 1 & 1 & 1}\\pmat{c}{c_1 \\exp(t)\\\\ c_2 \\exp(3t)\\\\ c_3 \\exp(-2t)}\n",
    "\\end{aligned}\n",
    "$$"
   ]
  },
  {
   "cell_type": "code",
   "execution_count": null,
   "id": "58c6cd80-03aa-46eb-9a45-4fee55a1f177",
   "metadata": {
    "editable": true,
    "slideshow": {
     "slide_type": ""
    },
    "tags": []
   },
   "outputs": [],
   "source": []
  }
 ],
 "metadata": {
  "kernelspec": {
   "display_name": "Wolfram Language 13",
   "language": "Wolfram Language",
   "name": "wolframlanguage13"
  },
  "language_info": {
   "codemirror_mode": "mathematica",
   "file_extension": ".m",
   "mimetype": "application/vnd.wolfram.m",
   "name": "Wolfram Language",
   "pygments_lexer": "mathematica",
   "version": "12.0"
  }
 },
 "nbformat": 4,
 "nbformat_minor": 5
}
