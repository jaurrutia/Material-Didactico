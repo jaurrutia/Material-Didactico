{
 "cells": [
  {
   "cell_type": "code",
   "execution_count": 6,
   "metadata": {
    "hide_input": false,
    "init_cell": true,
    "run_control": {
     "marked": false
    },
    "slideshow": {
     "slide_type": "skip"
    }
   },
   "outputs": [
    {
     "name": "stdout",
     "output_type": "stream",
     "text": [
      "The autoreload extension is already loaded. To reload it, use:\n",
      "  %reload_ext autoreload\n"
     ]
    }
   ],
   "source": [
    "%load_ext autoreload\n",
    "%autoreload 1\n",
    "%aimport numa_teaching.formatting\n",
    "from numa_teaching.formatting import fltx, nan_sp"
   ]
  },
  {
   "cell_type": "markdown",
   "metadata": {
    "hide_input": false,
    "run_control": {
     "marked": false
    },
    "slideshow": {
     "slide_type": "slide"
    }
   },
   "source": [
    "# Otra forma de integración numérica"
   ]
  },
  {
   "cell_type": "code",
   "execution_count": 7,
   "metadata": {
    "hide_input": false,
    "init_cell": true,
    "run_control": {
     "marked": false
    },
    "slideshow": {
     "slide_type": "skip"
    }
   },
   "outputs": [],
   "source": [
    "# sympy\n",
    "from sympy import init_printing\n",
    "from sympy import I, nroots, lambdify, diff, latex, symbols, pi, interpolating_poly, cos, N, integrate, Integral, exp, solve\n",
    "from sympy.abc import x, epsilon, alpha\n",
    "import operator\n",
    "import functools\n",
    "init_printing()\n",
    "#init_printing(use_latex=False)"
   ]
  },
  {
   "cell_type": "code",
   "execution_count": 8,
   "metadata": {
    "hide_input": false,
    "init_cell": true,
    "run_control": {
     "marked": false
    },
    "slideshow": {
     "slide_type": "skip"
    }
   },
   "outputs": [],
   "source": [
    "# numpy, pandas, matplotlib\n",
    "import numpy as np\n",
    "import pandas as pd\n",
    "import matplotlib.pyplot as plt\n",
    "\n",
    "%matplotlib inline\n",
    "plt.rcParams[\"figure.figsize\"] = [12, 9] # ancho, alto de figuras\n",
    "plt.rcParams[\"font.size\"] = 20"
   ]
  },
  {
   "cell_type": "code",
   "execution_count": 9,
   "metadata": {
    "code_folding": [],
    "hide_input": false,
    "init_cell": true,
    "run_control": {
     "marked": false
    },
    "slideshow": {
     "slide_type": "skip"
    }
   },
   "outputs": [],
   "source": [
    "# Jupyter/ IPython formatting\n",
    "from IPython.display import Math, Latex"
   ]
  },
  {
   "cell_type": "code",
   "execution_count": 10,
   "metadata": {
    "hide_input": false,
    "init_cell": true,
    "run_control": {
     "marked": false
    },
    "slideshow": {
     "slide_type": "skip"
    }
   },
   "outputs": [],
   "source": [
    "from collections import namedtuple\n",
    "from itertools import zip_longest\n",
    "from functools import partial"
   ]
  },
  {
   "cell_type": "markdown",
   "metadata": {
    "hide_input": false,
    "run_control": {
     "marked": false
    },
    "slideshow": {
     "slide_type": "skip"
    }
   },
   "source": [
    "Latex macros\n",
    "$$ \n",
    "\\newcommand{\\d}{\\mathrm{d}}\n",
    "\\DeclareMathOperator{\\deg}{deg}\n",
    "$$"
   ]
  },
  {
   "cell_type": "markdown",
   "metadata": {
    "slideshow": {
     "slide_type": "slide"
    }
   },
   "source": [
    "## Otra forma de constuir intagración numérica\n",
    "\n",
    "Buscamos expresiones\n",
    "$$\n",
    "\\int_{-1}^1 f(x)\\,\\d x \\approx \\sum_{j=1}^n w_j f(x_j)\n",
    "$$\n",
    "que sean **exactas** para polinomios del grado más alto posible. No imponemos restricciones a los nodos $\\{ x_j \\}$ o pesos $\\{ w_j \\}$. Esperamos que la formula se muy precisa para funciones que se pueden aproximar bien por polinomios.\n",
    "\n",
    "No hay garantia que funciona. En general es mala idea trabajar con nodos $\\{ x_j \\}$ equidistantes."
   ]
  },
  {
   "cell_type": "markdown",
   "metadata": {
    "slideshow": {
     "slide_type": "subslide"
    }
   },
   "source": [
    "**Caso $n = 1$**: Tenemos\n",
    "$$\n",
    "w_1 f(x_1) \\approx \\int_{-1}^1 f(x)\\,\\d x\n",
    "$$\n",
    "Ahora hay que determinar $w_1$ y $x_1$. Son 2 variables, por lo tanto imponemos una solución exacta para $f(x) = 1$ y para $f(x) = x$:\n",
    "\\begin{align}\n",
    "w_1 \\cdot 1 &= \\int_{-1}^1 1\\,\\d x\\\\\n",
    "w_1 &= 2\n",
    "\\end{align}\n",
    "De $f(x) = x$ obtenemos\n",
    "\\begin{align}\n",
    "w_1 \\cdot x_1 &= \\int_{-1}^1 x\\,\\d x\\\\\n",
    "x_1 &= 0\n",
    "\\end{align}\n",
    "La regla deseada es\n",
    "$$\n",
    "\\int_{-1}^1 f(x)\\,\\d x \\approx 2f(0)\n",
    "$$\n",
    "es la *regla del punto en medio*"
   ]
  },
  {
   "cell_type": "markdown",
   "metadata": {
    "slideshow": {
     "slide_type": "subslide"
    }
   },
   "source": [
    "**Caso $n = 2$**: La formula es\n",
    "$$\n",
    "w_1 f(x_1) + w_2 f(x_2) \\approx \\int_{-1}^1 f(x)\\,\\d x\n",
    "$$\n",
    "Tenemos que determinar los pesos $w_1$, $w_2$ y los nodos $x_1$, $x_2$. Para eso usamos\n",
    "$$\n",
    "f(x) = 1,\\, x,\\, x^2,\\, x^3\n",
    "$$\n",
    "que nos da el sistema de ecuaciones\n",
    "\\begin{align}\n",
    "w_1 + w_2 &= \\int_{-1}^1 1\\,\\d x = 2\\\\\n",
    "w_1 x_1 + w_2 x_2 &= \\int_{-1}^1 x\\,\\d x = 0\\\\\n",
    "w_1 x_1^2 + w_2 x_2^2 &= \\int_{-1}^1 x^2\\,\\d x = \\frac{2}{3}\\\\\n",
    "w_1 x_1^3 + w_2 x_2^3 &= \\int_{-1}^1 x^3\\,\\d x = 0\n",
    "\\end{align}\n"
   ]
  },
  {
   "cell_type": "markdown",
   "metadata": {
    "slideshow": {
     "slide_type": "subslide"
    }
   },
   "source": [
    "La solución es\n",
    "$$\n",
    "w_1 = w_2 = 1, \\qquad x_1 = \\frac{-1}{\\sqrt 3}, \\qquad x_2 = \\frac{1}{\\sqrt 3}\n",
    "$$\n",
    "que nos genera la formula\n",
    "$$\n",
    "\\int_{-1}^1 f(x)\\,\\d x \\approx f\\Bigl( \\frac{-1}{\\sqrt 3} \\bigr) + f\\Bigl( \\frac{1}{\\sqrt 3} \\bigr)\n",
    "$$\n",
    "Se dice que tiene *grado de precisión 3* porque integra exactamente todos los polinomios de grado $\\leq 3$. No integra exactamente a $f(x) = x^4$:\n",
    "$$\n",
    "\\int_{-1}^1 x^4\\,\\d x = \\frac{2}{5}\n",
    "$$\n",
    "$$\n",
    "f\\Bigl( \\frac{-1}{\\sqrt 3} \\bigr) + f\\Bigl( \\frac{1}{\\sqrt 3} \\bigr) = \\frac{2}{9}\n",
    "$$"
   ]
  },
  {
   "cell_type": "markdown",
   "metadata": {
    "slideshow": {
     "slide_type": "subslide"
    }
   },
   "source": [
    "### Ejemplo\n",
    "\n",
    "Integramos\n",
    "$$\n",
    "\\int_{-1}^1 \\frac{\\d x}{3 + x} \\log 2 \\doteq 0.69314718\n",
    "$$\n",
    "Comparado con\n",
    "$$\n",
    "\\frac{1}{3 + x_1} + \\frac{1}{3 + x_2} = 0.69230769\n",
    "$$\n",
    "$$\n",
    "\\text{Error} = 0.000839\n",
    "$$"
   ]
  },
  {
   "cell_type": "markdown",
   "metadata": {
    "slideshow": {
     "slide_type": "slide"
    }
   },
   "source": [
    "## Caso general\n",
    "\n",
    "Tenemos que encontrar los pesos $\\{ w_j \\}$ y los nodos  $\\{ x_j \\}$ para\n",
    "$$\n",
    "\\int_{-1}^1 f(x)\\,\\d x \\approx \\sum_{j=1}^n w_j f(x_j)\n",
    "$$\n",
    "sea exacto para polinomios del grado más alto posible. Tenemos $2n$ desconocidos, así que hay que imponer $2n$ condiciones. Pedimos que la formula sea exacta para\n",
    "$$\n",
    "f(x) = x^i,\\qquad i = 0, 1, 2, \\dots, 2n - 1\n",
    "$$\n",
    "Nos genera el sistema de ecuaciones\n",
    "$$\n",
    "w_1 x_1^i + w_2 x_2^i + \\dots + w_n x_n^i = \\int_{-1}^1 x^i\\,\\d x\n",
    "$$\n",
    "que tiene te mano derecha\n",
    "$$\n",
    "\\int_{-1}^1 x^i\\,\\d x = \n",
    "  \\begin{cases}\n",
    "    \\frac{2}{i + 1}, & i = 0, 2, \\dots, 2n - 2\\\\\n",
    "    0,               & i = 1, 3, \\dots, 2n - 1\n",
    "  \\end{cases}\n",
    "$$"
   ]
  },
  {
   "cell_type": "markdown",
   "metadata": {
    "slideshow": {
     "slide_type": "subslide"
    }
   },
   "source": [
    "El sistema de ecuaciones\n",
    "$$\n",
    "w_1 x_1^i + w_2 x_2^i + \\dots + w_n x_n^i = \\int_{-1}^1 x^i\\,\\d x\n",
    "$$\n",
    "tiene una solución única, modulo ordenamiento de los indices. La regla de integración que genera es la *quadratura de Gauss*.\n",
    "\n",
    "En la practica, uno encuentra los pesos y nodos de otra manera en vez de resolver este sistema de ecuaciones. Nodos y pesos tienen otros propriedades que se utiliza. La mayoría de las bibliotecas númericas cuenten con subroutinas para generarlas."
   ]
  },
  {
   "cell_type": "code",
   "execution_count": 11,
   "metadata": {
    "slideshow": {
     "slide_type": "subslide"
    }
   },
   "outputs": [
    {
     "data": {
      "text/plain": [
       "(array([-0.77459667,  0.        ,  0.77459667]),\n",
       " array([0.55555556, 0.88888889, 0.55555556]))"
      ]
     },
     "execution_count": 11,
     "metadata": {},
     "output_type": "execute_result"
    }
   ],
   "source": [
    "from numpy.polynomial.legendre import leggauss\n",
    "leggauss(3) # Nodos y pesos"
   ]
  },
  {
   "cell_type": "code",
   "execution_count": 12,
   "metadata": {
    "slideshow": {
     "slide_type": "-"
    }
   },
   "outputs": [
    {
     "data": {
      "image/png": "[encoded data removed]",
      "text/latex": [
       "$\\displaystyle \\left( 0.693121693121693, \\  -2.54874382520365 \\cdot 10^{-5}\\right)$"
      ],
      "text/plain": [
       "(0.6931216931216932, -2.5487438252036476e-05)"
      ]
     },
     "execution_count": 12,
     "metadata": {},
     "output_type": "execute_result"
    }
   ],
   "source": [
    "I = sum([w * 1/(3 + x) for x, w in zip(*leggauss(3))]) \n",
    "I, I - np.log(2)"
   ]
  },
  {
   "cell_type": "code",
   "execution_count": 13,
   "metadata": {},
   "outputs": [
    {
     "data": {
      "text/plain": [
       "(0.693121693121693, None)"
      ]
     },
     "execution_count": 13,
     "metadata": {},
     "output_type": "execute_result"
    }
   ],
   "source": [
    "from scipy.integrate import quadrature, fixed_quad\n",
    "ff = lambda x: 1/(3 + x)\n",
    "fixed_quad(ff, -1, 1, n=3)"
   ]
  },
  {
   "cell_type": "code",
   "execution_count": 14,
   "metadata": {},
   "outputs": [
    {
     "data": {
      "image/png": "[encoded data removed]",
      "text/latex": [
       "$\\displaystyle \\left( 0.69314715785304, \\  7.40407557375811 \\cdot 10^{-7}\\right)$"
      ],
      "text/plain": [
       "(0.6931471578530403, 7.404075573758107e-07)"
      ]
     },
     "execution_count": 14,
     "metadata": {},
     "output_type": "execute_result"
    }
   ],
   "source": [
    "quadrature(ff, -1, 1, tol=1e-5, rtol=1e-5) # Adaptive"
   ]
  },
  {
   "cell_type": "markdown",
   "metadata": {
    "slideshow": {
     "slide_type": "slide"
    }
   },
   "source": [
    "## Simetría\n",
    "\n",
    "Nodos y pesos tienen simetrías, en particular\n",
    "$$\n",
    "x_i = -x_{n-i},\\qquad w_i = w_{n-i}, \\qquad i = 1, 2, \\dots, n\n",
    "$$\n",
    "\n",
    "Es posible demonstrar que todos los pesos cumplen\n",
    "$$\n",
    "w_i > 0\n",
    "$$\n",
    "para todos los $i > 0$. Es una propriedad deseable del punto de vista práctico y permita desarollar expresiones útiles par alos errores."
   ]
  },
  {
   "cell_type": "markdown",
   "metadata": {
    "slideshow": {
     "slide_type": "slide"
    }
   },
   "source": [
    "## Cambio del intervalo de integración\n",
    "\n",
    "La integración sobre el intervalo $[a, b]$ se relaciona con la integración sobre $[-1, 1]$ utilizando\n",
    "$$\n",
    "\\int_a^b F(x)\\,\\d x = \\frac{b - a}{2} \\int_{-1}^1 F\\left( \\frac{b + a + t (b - a)}{2} \\right)\\,\\d t\n",
    "$$\n",
    "basado en el cambio de variables\n",
    "$$\n",
    "x = \\frac{b + a + t (b - a)}{2}, \\qquad -1 \\leq t \\leq 1\n",
    "$$\n",
    "\n",
    "### Ejemplo\n",
    "\n",
    "En el intervalo $[0, \\pi]$ usamos\n",
    "$$\n",
    "x = (1 + t) \\frac{\\pi}{2}\n",
    "$$\n",
    "$$\n",
    "\\int_0^\\pi F(x)\\,\\d x = \\frac{\\pi}{2} \\int_{-1}^1 F\\bigl( (1 + t)\\frac{\\pi}{2} \\bigr)\\,\\d t\n",
    "$$"
   ]
  },
  {
   "cell_type": "code",
   "execution_count": 15,
   "metadata": {
    "code_folding": [
     14
    ],
    "slideshow": {
     "slide_type": "subslide"
    }
   },
   "outputs": [
    {
     "data": {
      "text/html": [
       "<style  type=\"text/css\" >\n",
       "</style><table id=\"T_32e07_\" ><thead>    <tr>        <th class=\"blank level0\" ></th>        <th class=\"col_heading level0 col0\" >0</th>        <th class=\"col_heading level0 col1\" >1</th>        <th class=\"col_heading level0 col2\" >2</th>        <th class=\"col_heading level0 col3\" >3</th>    </tr></thead><tbody>\n",
       "                <tr>\n",
       "                        <th id=\"T_32e07_level0_row0\" class=\"row_heading level0 row0\" >0</th>\n",
       "                        <td id=\"T_32e07_row0_col0\" class=\"data row0 col0\" >2</td>\n",
       "                        <td id=\"T_32e07_row0_col1\" class=\"data row0 col1\" >-0.000229445</td>\n",
       "                        <td id=\"T_32e07_row0_col2\" class=\"data row0 col2\" >0.0232948</td>\n",
       "                        <td id=\"T_32e07_row0_col3\" class=\"data row0 col3\" >-0.82338</td>\n",
       "            </tr>\n",
       "            <tr>\n",
       "                        <th id=\"T_32e07_level0_row1\" class=\"row_heading level0 row1\" >1</th>\n",
       "                        <td id=\"T_32e07_row1_col0\" class=\"data row1 col0\" >3</td>\n",
       "                        <td id=\"T_32e07_row1_col1\" class=\"data row1 col1\" >-9.54862e-06</td>\n",
       "                        <td id=\"T_32e07_row1_col2\" class=\"data row1 col2\" >0.0348995</td>\n",
       "                        <td id=\"T_32e07_row1_col3\" class=\"data row1 col3\" >0.429851</td>\n",
       "            </tr>\n",
       "            <tr>\n",
       "                        <th id=\"T_32e07_level0_row2\" class=\"row_heading level0 row2\" >2</th>\n",
       "                        <td id=\"T_32e07_row2_col0\" class=\"data row2 col0\" >4</td>\n",
       "                        <td id=\"T_32e07_row2_col1\" class=\"data row2 col1\" >3.35319e-07</td>\n",
       "                        <td id=\"T_32e07_row2_col2\" class=\"data row2 col2\" >0.00189556</td>\n",
       "                        <td id=\"T_32e07_row2_col3\" class=\"data row2 col3\" >-0.176613</td>\n",
       "            </tr>\n",
       "            <tr>\n",
       "                        <th id=\"T_32e07_level0_row3\" class=\"row_heading level0 row3\" >3</th>\n",
       "                        <td id=\"T_32e07_row3_col0\" class=\"data row3 col0\" >5</td>\n",
       "                        <td id=\"T_32e07_row3_col1\" class=\"data row3 col1\" >-6.04609e-09</td>\n",
       "                        <td id=\"T_32e07_row3_col2\" class=\"data row3 col2\" >-0.00170485</td>\n",
       "                        <td id=\"T_32e07_row3_col3\" class=\"data row3 col3\" >0.0812424</td>\n",
       "            </tr>\n",
       "            <tr>\n",
       "                        <th id=\"T_32e07_level0_row4\" class=\"row_heading level0 row4\" >4</th>\n",
       "                        <td id=\"T_32e07_row4_col0\" class=\"data row4 col0\" >6</td>\n",
       "                        <td id=\"T_32e07_row4_col1\" class=\"data row4 col1\" >7.78155e-11</td>\n",
       "                        <td id=\"T_32e07_row4_col2\" class=\"data row4 col2\" >-0.000273601</td>\n",
       "                        <td id=\"T_32e07_row4_col3\" class=\"data row4 col3\" >-0.0354608</td>\n",
       "            </tr>\n",
       "            <tr>\n",
       "                        <th id=\"T_32e07_level0_row5\" class=\"row_heading level0 row5\" >5</th>\n",
       "                        <td id=\"T_32e07_row5_col0\" class=\"data row5 col0\" >7</td>\n",
       "                        <td id=\"T_32e07_row5_col1\" class=\"data row5 col1\" >-7.01661e-13</td>\n",
       "                        <td id=\"T_32e07_row5_col2\" class=\"data row5 col2\" >6.45093e-05</td>\n",
       "                        <td id=\"T_32e07_row5_col3\" class=\"data row5 col3\" >0.0158287</td>\n",
       "            </tr>\n",
       "            <tr>\n",
       "                        <th id=\"T_32e07_level0_row6\" class=\"row_heading level0 row6\" >6</th>\n",
       "                        <td id=\"T_32e07_row6_col0\" class=\"data row6 col0\" >10</td>\n",
       "                        <td id=\"T_32e07_row6_col1\" class=\"data row6 col1\" >8.71525e-14</td>\n",
       "                        <td id=\"T_32e07_row6_col2\" class=\"data row6 col2\" >-1.27061e-06</td>\n",
       "                        <td id=\"T_32e07_row6_col3\" class=\"data row6 col3\" >-0.00137198</td>\n",
       "            </tr>\n",
       "            <tr>\n",
       "                        <th id=\"T_32e07_level0_row7\" class=\"row_heading level0 row7\" >7</th>\n",
       "                        <td id=\"T_32e07_row7_col0\" class=\"data row7 col0\" >15</td>\n",
       "                        <td id=\"T_32e07_row7_col1\" class=\"data row7 col1\" >8.69305e-14</td>\n",
       "                        <td id=\"T_32e07_row7_col2\" class=\"data row7 col2\" >-7.4042e-10</td>\n",
       "                        <td id=\"T_32e07_row7_col3\" class=\"data row7 col3\" >2.33153e-05</td>\n",
       "            </tr>\n",
       "            <tr>\n",
       "                        <th id=\"T_32e07_level0_row8\" class=\"row_heading level0 row8\" >8</th>\n",
       "                        <td id=\"T_32e07_row8_col0\" class=\"data row8 col0\" >20</td>\n",
       "                        <td id=\"T_32e07_row8_col1\" class=\"data row8 col1\" >8.70415e-14</td>\n",
       "                        <td id=\"T_32e07_row8_col2\" class=\"data row8 col2\" >-3.16414e-13</td>\n",
       "                        <td id=\"T_32e07_row8_col3\" class=\"data row8 col3\" >-3.95577e-07</td>\n",
       "            </tr>\n",
       "    </tbody></table>"
      ],
      "text/plain": [
       "<pandas.io.formats.style.Styler at 0x7fa1a0ef8cd0>"
      ]
     },
     "execution_count": 15,
     "metadata": {},
     "output_type": "execute_result"
    }
   ],
   "source": [
    "def I1(x):\n",
    "    return np.exp(-x**2)\n",
    "I1x = 0.74682413281234\n",
    "\n",
    "def I2(x):\n",
    "    return 1 / (1 + x**2)\n",
    "I2x = np.arctan(4)\n",
    "\n",
    "def I3(x):\n",
    "    return 1/(2 + np.cos(x))\n",
    "I3x = 2*np.pi / np.sqrt(3)\n",
    "\n",
    "tabla = []\n",
    "for i in list(range(2, 8)) + [10, 15, 20]:\n",
    "    tabla.append([i, \n",
    "                  fixed_quad(I1, 0, 1, n=i)[0] - I1x,\n",
    "                  fixed_quad(I2, 0, 4, n=i)[0] - I2x,\n",
    "                  fixed_quad(I3, 0, 2*np.pi, n=i)[0] - I3x,\n",
    "                 ])\n",
    "\n",
    "pd.DataFrame(tabla).style.format(\"{:.6g}\")"
   ]
  },
  {
   "cell_type": "markdown",
   "metadata": {
    "slideshow": {
     "slide_type": "slide"
    }
   },
   "source": [
    "## Una formula para el error de integración Gaussiana\n",
    "\n",
    "El error para la quadratura gaussiana está dado por\n",
    "$$\n",
    "E_n(f) = \\int_{-1}^1 f(x)\\,\\d x - \\sum_{j=1}^n w_j f(x_j)\n",
    "$$\n",
    "con\n",
    "\\begin{align}\n",
    "E_n(f) &= e_n \\frac{f^{(2n)}(c_n)}{(2n)!}\\\\\n",
    "e_n    &= \\frac{2^{2n + 1} (n!)^4}{(2n + 1) [(2n)!]^2} \\approx \\frac{\\pi}{4^n}\n",
    "\\end{align}\n",
    "para algún $c_n \\in [a, b]$. Esta forma no es muy intuitiva. Para entenderla mejor introducimos\n",
    "$$\n",
    "M_k = \\max_{-1 \\leq x \\leq 1} \\frac{\\bigl| f^{(k)}(x) \\bigr|}{k!}\n",
    "$$\n"
   ]
  },
  {
   "cell_type": "markdown",
   "metadata": {
    "slideshow": {
     "slide_type": "subslide"
    }
   },
   "source": [
    "Con muchas funciones $f(x)$, la secuencia $\\{ M_k \\}$ es acotada o converge a cero. Por ejemplo\n",
    "$$\n",
    "f(x) = \n",
    "  \\begin{cases}\n",
    "  \\cos x\\\\\n",
    "  \\frac{1}{2 + x}\n",
    "  \\end{cases}\n",
    "\\Rightarrow\n",
    "M_k \\leq\n",
    "  \\begin{cases}\n",
    "  \\frac{1}{k!}\\\\\n",
    "  1\n",
    "  \\end{cases}\n",
    "$$\n",
    "Nos da para la formula de errores\n",
    "\\begin{align}\n",
    "E_n(f)   &= e_n \\frac{f^{(2n)}(c_n)}{(2n)!}\\\\\n",
    "|E_n(f)| &\\leq e_n M_{2n}\n",
    "\\end{align}\n",
    "Usando\n",
    "$$\n",
    "e_n \\approx \\frac{\\pi}{4^n}\n",
    "$$\n",
    "y el hecho que $\\{ M_k \\}$ es acotado para ver que el error baja un factor $4$ con cada incremento $ n \\to n + 1$. Nos explica la convergencia rápida en comparación  con los metdos del trapezoide o de Simpson."
   ]
  },
  {
   "cell_type": "markdown",
   "metadata": {
    "slideshow": {
     "slide_type": "slide"
    }
   },
   "source": [
    "##  Una segunda formula para el error\n",
    "\n",
    "Para $f(x)$ continua en $[a, b]$ y $n \\geq 1$ tenemos para la quadratura de Gauss\n",
    "$$\n",
    "I \\equiv \\int_{-1}^1 f(x)\\,\\d x \\approx \\sum_{j=1}^n w_j f(x_j) \\equiv I_n\n",
    "$$\n",
    "la relación\n",
    "$$\n",
    "\\bigl| I(f) - I_n(f) \\bigr| \\leq 2 (b - a) \\rho_{2n - 1}(f)\n",
    "$$\n",
    "donde $\\rho_{2n - 1}(f)$ es el *error minimax* de grado $2n - 1$ para $f(x)$ en $[a, b]$:\n",
    "$$\n",
    "\\rho_m(f) = \\min_{\\deg(p) \\leq m} \\left[ \\max_{a \\leq x \\leq b} |f(x) - p(x)| \\right], \\qquad m \\geq 0\n",
    "$$"
   ]
  },
  {
   "cell_type": "markdown",
   "metadata": {
    "slideshow": {
     "slide_type": "subslide"
    }
   },
   "source": [
    "### Ejemplo\n",
    "\n",
    "Consideramos $f(x) = e^{-x^2}$. Los errores minimax $\\rho_m(f)$ son\n",
    "\n",
    "| $m$   | $\\rho_m(f)$ | $m$   | $\\rho_m(f)$ |\n",
    "| -----:| -----------:| -----:| -----------:|\n",
    "| 1     | 5.30E − 2   | 6     | 7.82E − 6   |\n",
    "| 2     | 1.79E − 2   | 7     | 4.62E − 7   |\n",
    "| 3     | 6.63E − 4   | 8     | 9.64E − 8   |\n",
    "| 4     | 4.63E − 4   | 9     | 8.05E − 9   |\n",
    "| 5     | 1.62E − 5   | 10    | 9.16E − 10  |\n",
    "\n",
    "Con esta tabla y la formula anterior podemos estimar el error para la integral\n",
    "$$\n",
    "I = \\int_0^1 e^{-x^2}\\,\\d x\n",
    "$$\n",
    "para $n = 3$:\n",
    "$$\n",
    "|I - I_3| \\leq 2\\rho_5\\Bigl( e^{-x^2} \\Bigr) \\doteq 3.24 \\times 10^{-5}\n",
    "$$\n",
    "El error correcto es $9.55 \\times 10^{-6}$."
   ]
  },
  {
   "cell_type": "markdown",
   "metadata": {
    "slideshow": {
     "slide_type": "slide"
    }
   },
   "source": [
    "## Integración de funciones no suaves\n",
    "\n",
    "Evaluamos la integral \n",
    "$\n",
    "I = \\int_0^1 \\sqrt{x}\\,\\d x = \\frac{2}{3}\n",
    "$\n",
    "con cuadratura de Gauss."
   ]
  },
  {
   "cell_type": "code",
   "execution_count": 16,
   "metadata": {
    "code_folding": [
     0
    ],
    "slideshow": {
     "slide_type": "skip"
    }
   },
   "outputs": [],
   "source": [
    "# tabla\n",
    "tab_sqrt = []\n",
    "err_prev = np.nan\n",
    "for n in 2**np.arange(1, 7):\n",
    "    I_n = fixed_quad(np.sqrt, 0, 1, n=n)[0]\n",
    "    err = 2./3. - I_n \n",
    "    ratio = err_prev / err\n",
    "    tab_sqrt.append([n, err, ratio])\n",
    "    err_prev = err\n",
    "\n",
    "tab_sqrt = pd.DataFrame(tab_sqrt, columns=[\"$n$\", \"$I - I_n$\", \"Ratio\"])"
   ]
  },
  {
   "cell_type": "code",
   "execution_count": 17,
   "metadata": {
    "hide_input": true
   },
   "outputs": [
    {
     "data": {
      "text/html": [
       "<style  type=\"text/css\" >\n",
       "</style><table id=\"T_23cc3_\" ><thead>    <tr>        <th class=\"blank level0\" ></th>        <th class=\"col_heading level0 col0\" >$n$</th>        <th class=\"col_heading level0 col1\" >$I - I_n$</th>        <th class=\"col_heading level0 col2\" >Ratio</th>    </tr></thead><tbody>\n",
       "                <tr>\n",
       "                        <th id=\"T_23cc3_level0_row0\" class=\"row_heading level0 row0\" >0</th>\n",
       "                        <td id=\"T_23cc3_row0_col0\" class=\"data row0 col0\" >2</td>\n",
       "                        <td id=\"T_23cc3_row0_col1\" class=\"data row0 col1\" >-7.22e-03</td>\n",
       "                        <td id=\"T_23cc3_row0_col2\" class=\"data row0 col2\" ></td>\n",
       "            </tr>\n",
       "            <tr>\n",
       "                        <th id=\"T_23cc3_level0_row1\" class=\"row_heading level0 row1\" >1</th>\n",
       "                        <td id=\"T_23cc3_row1_col0\" class=\"data row1 col0\" >4</td>\n",
       "                        <td id=\"T_23cc3_row1_col1\" class=\"data row1 col1\" >-1.16e-03</td>\n",
       "                        <td id=\"T_23cc3_row1_col2\" class=\"data row1 col2\" >6.2</td>\n",
       "            </tr>\n",
       "            <tr>\n",
       "                        <th id=\"T_23cc3_level0_row2\" class=\"row_heading level0 row2\" >2</th>\n",
       "                        <td id=\"T_23cc3_row2_col0\" class=\"data row2 col0\" >8</td>\n",
       "                        <td id=\"T_23cc3_row2_col1\" class=\"data row2 col1\" >-1.69e-04</td>\n",
       "                        <td id=\"T_23cc3_row2_col2\" class=\"data row2 col2\" >6.9</td>\n",
       "            </tr>\n",
       "            <tr>\n",
       "                        <th id=\"T_23cc3_level0_row3\" class=\"row_heading level0 row3\" >3</th>\n",
       "                        <td id=\"T_23cc3_row3_col0\" class=\"data row3 col0\" >16</td>\n",
       "                        <td id=\"T_23cc3_row3_col1\" class=\"data row3 col1\" >-2.30e-05</td>\n",
       "                        <td id=\"T_23cc3_row3_col2\" class=\"data row3 col2\" >7.4</td>\n",
       "            </tr>\n",
       "            <tr>\n",
       "                        <th id=\"T_23cc3_level0_row4\" class=\"row_heading level0 row4\" >4</th>\n",
       "                        <td id=\"T_23cc3_row4_col0\" class=\"data row4 col0\" >32</td>\n",
       "                        <td id=\"T_23cc3_row4_col1\" class=\"data row4 col1\" >-3.00e-06</td>\n",
       "                        <td id=\"T_23cc3_row4_col2\" class=\"data row4 col2\" >7.7</td>\n",
       "            </tr>\n",
       "            <tr>\n",
       "                        <th id=\"T_23cc3_level0_row5\" class=\"row_heading level0 row5\" >5</th>\n",
       "                        <td id=\"T_23cc3_row5_col0\" class=\"data row5 col0\" >64</td>\n",
       "                        <td id=\"T_23cc3_row5_col1\" class=\"data row5 col1\" >-3.84e-07</td>\n",
       "                        <td id=\"T_23cc3_row5_col2\" class=\"data row5 col2\" >7.8</td>\n",
       "            </tr>\n",
       "    </tbody></table>"
      ],
      "text/plain": [
       "<pandas.io.formats.style.Styler at 0x7fa1a0efa4c0>"
      ]
     },
     "execution_count": 17,
     "metadata": {},
     "output_type": "execute_result"
    }
   ],
   "source": [
    "tab_sqrt.style.format(dict(zip(tab_sqrt.columns, [\"{:g}\", \"{:.2e}\", partial(nan_sp, fmt=\"{:.1f}\")])))"
   ]
  },
  {
   "cell_type": "markdown",
   "metadata": {},
   "source": [
    "La última columna da \n",
    "$$\n",
    "(I - I_{\\frac{1}{2}n}) / (I - I_n) \\approx 8 = 2^3\n",
    "$$\n",
    "que es consistente con $I - I_n \\approx \\frac{c}{n^3}$, que se puede demonstrar formalmente. En comparación, para las reglas del trapezoide y de Simpson, $I - I_n \\approx \\frac{c}{n^{1.5}}$"
   ]
  },
  {
   "cell_type": "markdown",
   "metadata": {
    "slideshow": {
     "slide_type": "slide"
    }
   },
   "source": [
    "## Cuadratura de Gauss con peso\n",
    "\n",
    "Consideramos integrales como\n",
    "$$\n",
    "\\int_0^1 f(x) \\log x\\,\\d x,\\qquad\n",
    "\\int_0^1 x^\\frac{1}{3} f(x)\\,\\d x\n",
    "$$\n",
    "Podemos considerar formulas de integración \n",
    "$$\n",
    "\\int_a^b w(x) f(x)\\,\\d x \\approx \\sum_{j=1}^n w_j f(x_j)\n",
    "$$\n",
    "donde es $f(x)$ una función con varias derivadas continuas. La función $w(x)$ puede tener singularidades, pero tiene que ser integrable. El intervalo de integración $[a, b]$ es finito. La función $w(x)$ es la *función de peso* y se absorbe en las definiciones de los pesos $\\{ w_i \\}$. Determinamos los nodos $\\{ x_i \\}$ y los pesos $\\{ w_i \\}$ para hacer que la formula sea exacta cuando $f(x)$ es un polinomio del grado más alto posible."
   ]
  },
  {
   "cell_type": "markdown",
   "metadata": {
    "slideshow": {
     "slide_type": "subslide"
    }
   },
   "source": [
    "La formula para integración númerica\n",
    "$$\n",
    "\\int_a^b w(x) f(x)\\,\\d x \\approx \\sum_{j=1}^n w_j f(x_j)\n",
    "$$\n",
    "se llama *cuadratura de Gauss con función de peso $w(x)$*. Para determinar los nodos $\\{ x_i \\}$ y los pesos $\\{ w_i \\}$ pedimos que sea exacta para\n",
    "$$\n",
    "f(x) = x^i, \\qquad i = 0, 1, 2, \\dots, 2n - 1\n",
    "$$\n",
    "Para ilustrar consideramos el caso\n",
    "$$\n",
    "\\int_0^1 x^\\frac{1}{3} f(x)\\,\\d x \\approx \\sum_{j=1}^n w_j f(x_j)\n",
    "$$\n"
   ]
  },
  {
   "cell_type": "markdown",
   "metadata": {
    "slideshow": {
     "slide_type": "subslide"
    }
   },
   "source": [
    "**Caso $n = 1$**: Tenemos\n",
    "$$\n",
    "w_1 f(x_1) \\approx \\int_0^1 x^\\frac{1}{3} f(x)\\,\\d x\n",
    "$$\n",
    "Ahora hay que determinar $w_1$ y $x_1$. Son 2 variables, por lo tanto imponemos una solución exacta para $f(x) = 1$ y para $f(x) = x$:\n",
    "$$\n",
    "w_1 = \\int_0^1 x^\\frac{1}{3}\\,\\d x = \\frac{3}{4}\n",
    "$$\n",
    "De $f(x) = x$ obtenemos\n",
    "\\begin{align}\n",
    "w_1 x_1 &= \\int_0^1 x^\\frac{1}{3} x\\,\\d x = \\frac{3}{7}\\\\\n",
    "x_1 &= \\frac{4}{7}\n",
    "\\end{align}\n",
    "La regla deseada es\n",
    "$$\n",
    "\\int_0^1 x^\\frac{1}{3} f(x)\\,\\d x \\approx \\frac{3}{4} f\\bigl( \\frac{4}{7} \\bigr)\n",
    "$$\n",
    "con un grado de precisión 1."
   ]
  },
  {
   "cell_type": "markdown",
   "metadata": {
    "slideshow": {
     "slide_type": "subslide"
    }
   },
   "source": [
    "**Caso $n = 2$**: La formula es\n",
    "$$\n",
    "w_1 f(x_1) + w_2 f(x_2) \\approx \\int_0^1 x^\\frac{1}{3} f(x)\\,\\d x\n",
    "$$\n",
    "Tenemos que determinar los pesos $w_1$, $w_2$ y los nodos $x_1$, $x_2$. Para eso usamos\n",
    "$$\n",
    "f(x) = 1,\\, x,\\, x^2,\\, x^3\n",
    "$$\n",
    "que nos da el sistema de ecuaciones\n",
    "\\begin{align}\n",
    "w_1 + w_2 &= \\int_0^1 x^\\frac{1}{3} \\,\\d x = 2\\frac{3}{4}\\\\\n",
    "w_1 x_1 + w_2 x_2 &= \\int_0^1 x^\\frac{1}{3} x\\,\\d x = \\frac{3}{7}\\\\\n",
    "w_1 x_1^2 + w_2 x_2^2 &= \\int_0^1 x^\\frac{1}{3} x^2\\,\\d x = \\frac{3}{10}\\\\\n",
    "w_1 x_1^3 + w_2 x_2^3 &= \\int_0^1 x^\\frac{1}{3} x^3\\,\\d x = \\frac{3}{13}\n",
    "\\end{align}\n"
   ]
  },
  {
   "cell_type": "markdown",
   "metadata": {
    "slideshow": {
     "slide_type": "subslide"
    }
   },
   "source": [
    "La solución es\n",
    "\\begin{gather}\n",
    "x_1 = \\frac{7}{13} - \\frac{3}{65} \\sqrt{35}, \\qquad  x_2 = \\frac{7}{13} + \\frac{3}{65} \\sqrt{35}\\\\\n",
    "w_1 = \\frac{3}{8} - \\frac{3}{393} \\sqrt{35}, \\qquad  w_2 = \\frac{3}{8} + \\frac{3}{393} \\sqrt{35}\n",
    "\\end{gather}\n",
    "que es numéricamente\n",
    "\\begin{gather}\n",
    "x_1 = 0.2654117024, \\qquad x2 = 0.8115113746\\\\\n",
    "w_1 = 0.3297238792, \\qquad w2 = 0.4202761208\n",
    "\\end{gather}\n",
    "\n",
    "La formula\n",
    "$$\n",
    "\\int_0^1 x^\\frac{1}{3} f(x)\\,\\d x \\approx w_1 f(x_1) + w_2 f(x_2)\n",
    "$$\n",
    "tiene *grado de precisión 3*."
   ]
  },
  {
   "cell_type": "markdown",
   "metadata": {
    "slideshow": {
     "slide_type": "subslide"
    }
   },
   "source": [
    "### Ejemplo\n",
    "\n",
    "Integramos\n",
    "$$\n",
    "\\int_0^1 x^\\frac{1}{3} \\cos x \\,\\d x  \\doteq 0.6076257393\n",
    "$$\n",
    "Con la expresión anterior obtenemos\n",
    "$$\n",
    "w_1 f(x_1) + w_2 f(x_2) = 0.6074977951\n",
    "$$\n",
    "que tiene un error de $E_2 = 0.000128$.\n",
    "Es un resultado bastane bueno, dado el esfuerzo computacional limitado. En comparación, los metodos trapezoidales y de Simpson convergen lentamente debido a la singularidad en la primera derivada en el origin."
   ]
  },
  {
   "cell_type": "markdown",
   "metadata": {
    "slideshow": {
     "slide_type": "subslide"
    }
   },
   "source": [
    "### Generadores de pesos y nodos en SciPy\n",
    "\n",
    "Roots and weights for orthogonal polynomials (scipy.special) *Note* Name changes in recent version of scipy.\n",
    "\n",
    "| Name | Description | Funcion de peso $w(x)$ |\n",
    "|:--- |:--- |:--- |\n",
    "| c_roots(n[, mu]) | Gauss-Chebyshev (first kind) quadrature. | $1 / \\sqrt{1 - (x/2)^2}$ |\n",
    "| cg_roots(n, alpha[, mu]) | Gauss-Gegenbauer quadrature. | $ (1 - x^2)^{\\alpha - 1/2} $|\n",
    "| h_roots(n[, mu]) | Gauss-Hermite (physicst’s) quadrature. | $e^{-x^2}$ |\n",
    "| he_roots(n[, mu]) | Gauss-Hermite (statistician’s) quadrature. | $e^{-(x/2)^2}$  |\n",
    "| j_roots(n, alpha, beta[, mu]) | Gauss-Jacobi quadrature. | $(1 - x)^\\alpha (1 + x)^\\beta$ |\n",
    "| js_roots(n, p1, q1[, mu]) | Gauss-Jacobi (shifted) quadrature. | $( 1− x)^{p − q} x^{q − 1} $|\n",
    "\n",
    "\n"
   ]
  },
  {
   "cell_type": "markdown",
   "metadata": {
    "slideshow": {
     "slide_type": "subslide"
    }
   },
   "source": [
    "| Name | Description | Funcion de peso $w(x)$ |\n",
    "|:--- |:--- |:--- |\n",
    "| l_roots(n[, mu]) | Gauss-Laguerre quadrature. | $e^{-x}$ |\n",
    "| la_roots(n, alpha[, mu]) | Gauss-generalized Laguerre quadrature. | $x^\\alpha e^{-x}$ |\n",
    "| p_roots(n[, mu]) | Gauss-Legendre quadrature. | 1 |\n",
    "| ps_roots(n[, mu]) | Gauss-Legendre (shifted) quadrature. | 1 |\n",
    "| s_roots(n[, mu]) | Gauss-Chebyshev (second kind) quadrature. | $\\sqrt{1 - (x/2)^2}$ |\n",
    "| t_roots(n[, mu]) | Gauss-Chebyshev (first kind) quadrature. | $1/\\sqrt{1 - x^2}$ |\n",
    "| ts_roots(n[, mu]) | Gauss-Chebyshev (first kind, shifted) quadrature. | $1/\\sqrt{x - x^2}$ |\n",
    "| u_roots(n[, mu])| Gauss-Chebyshev (second kind) quadrature. | $\\sqrt{1 - x^2}$ |\n",
    "| us_roots(n[, mu]) | Gauss-Chebyshev (second kind, shifted) quadrature. |  $ \\sqrt{x - x^2} $|\n"
   ]
  },
  {
   "cell_type": "markdown",
   "metadata": {
    "slideshow": {
     "slide_type": "slide"
    }
   },
   "source": [
    "## Cambio de variables\n",
    "\n",
    "En el ejemplo anterior podemos hacer el cambio de variable $x = t^3$ para transformar la integral a\n",
    "$$\n",
    "3 \\int_0^1 t \\cos (t^3) \\,\\d t\n",
    "$$\n",
    "Las reglas del trapezoide y de Simpson convergen más rapidamente, pero no tan rápido como el metodo de Gauss con peso.\n",
    "\n",
    "En general, es posible mejorar el rendimiento de un metodo de integración con un cambio de variables, en general para mejorar la diferenciabilidad del integrante.\n",
    "\n",
    "**Ejemplo** Usamos $x = t^r$, $r >1$:\n",
    "\n",
    "$$\n",
    "\\int_0^1 g(x) \\log x \\,\\d x = r\\int_0^1 t^{r - 1} g(t^r) \\log t \\,\\d t\n",
    "$$"
   ]
  }
 ],
 "metadata": {
  "celltoolbar": "Slideshow",
  "hide_input": false,
  "kernelspec": {
   "display_name": "Python 3",
   "language": "python",
   "name": "python3"
  },
  "language_info": {
   "codemirror_mode": {
    "name": "ipython",
    "version": 3
   },
   "file_extension": ".py",
   "mimetype": "text/x-python",
   "name": "python",
   "nbconvert_exporter": "python",
   "pygments_lexer": "ipython3",
   "version": "3.9.0"
  },
  "latex_envs": {
   "LaTeX_envs_menu_present": true,
   "autoclose": false,
   "autocomplete": true,
   "bibliofile": "biblio.bib",
   "cite_by": "apalike",
   "current_citInitial": 1,
   "eqLabelWithNumbers": true,
   "eqNumInitial": 1,
   "hotkeys": {
    "equation": "ctrl-shift-i"
   },
   "labels_anchors": false,
   "latex_user_defs": false,
   "report_style_numbering": false,
   "user_envs_cfg": false
  },
  "toc": {
   "base_numbering": 1,
   "nav_menu": {
    "height": "66px",
    "width": "252px"
   },
   "number_sections": true,
   "sideBar": true,
   "skip_h1_title": true,
   "title_cell": "Table of Contents",
   "title_sidebar": "Contents",
   "toc_cell": false,
   "toc_position": {},
   "toc_section_display": "block",
   "toc_window_display": false
  },
  "varInspector": {
   "cols": {
    "lenName": 16,
    "lenType": 16,
    "lenVar": 40
   },
   "kernels_config": {
    "python": {
     "delete_cmd_postfix": "",
     "delete_cmd_prefix": "del ",
     "library": "var_list.py",
     "varRefreshCmd": "print(var_dic_list())"
    },
    "r": {
     "delete_cmd_postfix": ") ",
     "delete_cmd_prefix": "rm(",
     "library": "var_list.r",
     "varRefreshCmd": "cat(var_dic_list()) "
    }
   },
   "types_to_exclude": [
    "module",
    "function",
    "builtin_function_or_method",
    "instance",
    "_Feature"
   ],
   "window_display": false
  }
 },
 "nbformat": 4,
 "nbformat_minor": 2
}
