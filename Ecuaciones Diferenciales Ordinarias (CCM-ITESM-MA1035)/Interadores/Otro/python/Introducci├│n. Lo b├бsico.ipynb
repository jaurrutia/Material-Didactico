{
 "cells": [
  {
   "cell_type": "markdown",
   "metadata": {},
   "source": [
    "$\\vec a$ aquí funciona como LaTeX"
   ]
  },
  {
   "cell_type": "code",
   "execution_count": 2,
   "metadata": {
    "collapsed": false
   },
   "outputs": [
    {
     "name": "stdout",
     "output_type": "stream",
     "text": [
      "11 5 16\n",
      "11 5.0 16.0\n"
     ]
    }
   ],
   "source": [
    "a=11\n",
    "b=5\n",
    "print a,b,a+b\n",
    "b=5.\n",
    "print a,b, a+b"
   ]
  },
  {
   "cell_type": "code",
   "execution_count": 9,
   "metadata": {
    "collapsed": false
   },
   "outputs": [
    {
     "name": "stdout",
     "output_type": "stream",
     "text": [
      "5\n",
      "11.0\n",
      "10.0 10\n"
     ]
    }
   ],
   "source": [
    "print int(b)\n",
    "print float(a)\n",
    "\n",
    "c=int(9.998)+float(1)\n",
    "print c, int(c)"
   ]
  },
  {
   "cell_type": "code",
   "execution_count": 10,
   "metadata": {
    "collapsed": false
   },
   "outputs": [
    {
     "name": "stdout",
     "output_type": "stream",
     "text": [
      "(3+4j) (7.3+9.7j) (10.3+13.7j) (-16.9+58.3j)\n",
      "(-4+3j)\n"
     ]
    }
   ],
   "source": [
    "z1=complex(3,4)\n",
    "z2=complex(7.3,9.7)\n",
    "z3=z1+z2\n",
    "z4=z1*z2\n",
    "print z1,z2,z3,z4\n",
    "z1=z1*1j\n",
    "print z1"
   ]
  },
  {
   "cell_type": "code",
   "execution_count": 14,
   "metadata": {
    "collapsed": false
   },
   "outputs": [
    {
     "name": "stdout",
     "output_type": "stream",
     "text": [
      "1 de Enero de 2013\n"
     ]
    }
   ],
   "source": [
    "dia=1\n",
    "mes= \"Enero\"\n",
    "anho=2013\n",
    "fecha=str(dia)+\" de \"+mes+\" de \"+str(anho)\n",
    "print fecha"
   ]
  },
  {
   "cell_type": "code",
   "execution_count": 15,
   "metadata": {
    "collapsed": false
   },
   "outputs": [
    {
     "name": "stdout",
     "output_type": "stream",
     "text": [
      "[11, 5.0, (-4+3j), '1 de Enero de 2013']\n"
     ]
    }
   ],
   "source": [
    "lista=[a,b,z1,fecha]\n",
    "print lista"
   ]
  },
  {
   "cell_type": "code",
   "execution_count": 16,
   "metadata": {
    "collapsed": false
   },
   "outputs": [
    {
     "name": "stdout",
     "output_type": "stream",
     "text": [
      "2\n"
     ]
    }
   ],
   "source": [
    "a=2\n",
    "b=3\n",
    "if a<b:\n",
    "    print a\n",
    "else:\n",
    "    print b"
   ]
  },
  {
   "cell_type": "code",
   "execution_count": 18,
   "metadata": {
    "collapsed": false
   },
   "outputs": [
    {
     "name": "stdout",
     "output_type": "stream",
     "text": [
      "0\n",
      "1\n",
      "2\n",
      "3\n",
      "4\n"
     ]
    }
   ],
   "source": [
    "for i in range(6):\n",
    "    print i"
   ]
  },
  {
   "cell_type": "code",
   "execution_count": 19,
   "metadata": {
    "collapsed": false
   },
   "outputs": [
    {
     "name": "stdout",
     "output_type": "stream",
     "text": [
      "3\n",
      "4\n",
      "5\n"
     ]
    }
   ],
   "source": [
    "inicio=3\n",
    "while inicio<6:\n",
    "    print inicio\n",
    "    inicio=inicio+1"
   ]
  },
  {
   "cell_type": "code",
   "execution_count": 8,
   "metadata": {
    "collapsed": false
   },
   "outputs": [
    {
     "name": "stdout",
     "output_type": "stream",
     "text": [
      "12502500.0\n",
      "5001.0\n",
      "12502500\n",
      "5000\n"
     ]
    }
   ],
   "source": [
    "suma=0\n",
    "i=1.\n",
    "while i<=5000:\n",
    "    suma=suma+i\n",
    "    i=i+1\n",
    "print suma\n",
    "print i\n",
    "\n",
    "suma=0\n",
    "j=1\n",
    "for j in range(5000):\n",
    "    j=j+1\n",
    "    suma=suma+j\n",
    "print suma\n",
    "print j"
   ]
  },
  {
   "cell_type": "code",
   "execution_count": null,
   "metadata": {
    "collapsed": true
   },
   "outputs": [],
   "source": []
  }
 ],
 "metadata": {
  "kernelspec": {
   "display_name": "Python 2",
   "language": "python",
   "name": "python2"
  },
  "language_info": {
   "codemirror_mode": {
    "name": "ipython",
    "version": 2
   },
   "file_extension": ".py",
   "mimetype": "text/x-python",
   "name": "python",
   "nbconvert_exporter": "python",
   "pygments_lexer": "ipython2",
   "version": "2.7.9"
  }
 },
 "nbformat": 4,
 "nbformat_minor": 0
}
