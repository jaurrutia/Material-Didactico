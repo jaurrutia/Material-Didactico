{
 "cells": [
  {
   "cell_type": "code",
   "execution_count": 1,
   "metadata": {
    "collapsed": true
   },
   "outputs": [],
   "source": [
    "from numpy import*\n",
    "from pylab import*\n",
    "%matplotlib inline"
   ]
  },
  {
   "cell_type": "markdown",
   "metadata": {},
   "source": [
    "Vamos a suponer que tenemos un archivo CSV con dos entradas (tiempo, valor).\n",
    "Esta madre lee archivos en serio (en bits). Básicamente habrá dos columnas para estos casos. El archivo a leer se llama Clase8.csv. Sólo pido que no tenga caracteres ''raros''."
   ]
  },
  {
   "cell_type": "code",
   "execution_count": 27,
   "metadata": {
    "collapsed": false
   },
   "outputs": [],
   "source": [
    "def leer_archivo(nombre):\n",
    "    with open(nombre) as file:\n",
    "        arreglo=[ map( float , line.split(',') ) for line in file] #Lo que esta entre '' es el separador de archivo\n",
    "    col = []\n",
    "    arch = []\n",
    "    for i in range(len(arreglo[0])):\n",
    "        for j in range(len(arreglo)):\n",
    "            col.append(arreglo[j][i])\n",
    "        arch.append(col)\n",
    "        col=[]\n",
    "    return arch"
   ]
  },
  {
   "cell_type": "markdown",
   "metadata": {},
   "source": [
    "Este es un for implícito como el uzado arriba:\n",
    "\n",
    "a=linspace(1,3)\n",
    "for ai in a: print ai; print 2*ai\n"
   ]
  },
  {
   "cell_type": "code",
   "execution_count": 30,
   "metadata": {
    "collapsed": false
   },
   "outputs": [
    {
     "name": "stdout",
     "output_type": "stream",
     "text": [
      "[[-6.90775527898214, -6.50229017087397, -6.21460809842219, -5.99146454710798, -5.80914299031403, -5.65499231048677, -5.52146091786225, -5.29831736654804, -5.11599580975408, -4.96184512992682], [-23.2666494164934, -23.587969848094, -23.7980413178409, -24.0013610214746, -24.1254637189422, -24.1874030183824, -24.2776143981027, -24.4121452910603, -24.5042605799682, -24.5723140432132]]\n"
     ]
    }
   ],
   "source": [
    "contenido = leer_archivo('Clase8.csv')\n",
    "print contenido"
   ]
  },
  {
   "cell_type": "code",
   "execution_count": 31,
   "metadata": {
    "collapsed": false
   },
   "outputs": [
    {
     "data": {
      "text/plain": [
       "[<matplotlib.lines.Line2D at 0x10508ff10>]"
      ]
     },
     "execution_count": 31,
     "metadata": {},
     "output_type": "execute_result"
    },
    {
     "data": {
      "image/png": "[encoded data removed]",
      "text/plain": [
       "<matplotlib.figure.Figure at 0x104facf10>"
      ]
     },
     "metadata": {},
     "output_type": "display_data"
    }
   ],
   "source": [
    "b=array(contenido[1])**2\n",
    "plot(contenido[0],b)"
   ]
  },
  {
   "cell_type": "code",
   "execution_count": 39,
   "metadata": {
    "collapsed": false
   },
   "outputs": [
    {
     "data": {
      "text/plain": [
       "[<matplotlib.lines.Line2D at 0x106033dd0>]"
      ]
     },
     "execution_count": 39,
     "metadata": {},
     "output_type": "execute_result"
    },
    {
     "data": {
      "image/png": "[encoded data removed]",
      "text/plain": [
       "<matplotlib.figure.Figure at 0x10539b650>"
      ]
     },
     "metadata": {},
     "output_type": "display_data"
    }
   ],
   "source": [
    "contenido = leer_archivo('Clase8Guitarra.csv')\n",
    "b=array(contenido[1])**2\n",
    "plot(contenido[0],b)"
   ]
  },
  {
   "cell_type": "code",
   "execution_count": 41,
   "metadata": {
    "collapsed": false
   },
   "outputs": [],
   "source": [
    "salida=open('salida.txt','w')  #Si le pongo \"w\" crea el archivo. En caso de existir lo reescribe. Si pongo \"a\" solo le agrega cositas\n",
    "for i in range(len(contenido[0])):\n",
    "    salida.write(str(contenido[0][i])+ ' , '+ str(b[i]) + '\\n')  #Como esto sólo lee cadenas tengo que poner el argumento en str()\n",
    "salida.close()"
   ]
  },
  {
   "cell_type": "code",
   "execution_count": null,
   "metadata": {
    "collapsed": true
   },
   "outputs": [],
   "source": []
  }
 ],
 "metadata": {
  "kernelspec": {
   "display_name": "Python 2",
   "language": "python",
   "name": "python2"
  },
  "language_info": {
   "codemirror_mode": {
    "name": "ipython",
    "version": 2
   },
   "file_extension": ".py",
   "mimetype": "text/x-python",
   "name": "python",
   "nbconvert_exporter": "python",
   "pygments_lexer": "ipython2",
   "version": "2.7.9"
  }
 },
 "nbformat": 4,
 "nbformat_minor": 0
}
