{
 "cells": [
  {
   "cell_type": "code",
   "execution_count": 7,
   "metadata": {
    "collapsed": true
   },
   "outputs": [],
   "source": [
    "from sympy import*\n",
    "from sympy import init_printing\n",
    "init_printing()"
   ]
  },
  {
   "cell_type": "code",
   "execution_count": 9,
   "metadata": {
    "collapsed": false
   },
   "outputs": [
    {
     "data": {
      "image/png": "[encoded data removed]",
      "text/latex": [
       "$$c + x^{2} + 3 x - 1$$"
      ],
      "text/plain": [
       "     2          \n",
       "c + x  + 3⋅x - 1"
      ]
     },
     "execution_count": 9,
     "metadata": {},
     "output_type": "execute_result"
    }
   ],
   "source": [
    "x = Symbol('x')\n",
    "c = Symbol('c')\n",
    "y= x**2-1+3*x+c\n",
    "y"
   ]
  },
  {
   "cell_type": "code",
   "execution_count": 10,
   "metadata": {
    "collapsed": false
   },
   "outputs": [
    {
     "data": {
      "image/png": "[encoded data removed]",
      "text/latex": [
       "$$\\int x^{2}\\, dx$$"
      ],
      "text/plain": [
       "⌠      \n",
       "⎮  2   \n",
       "⎮ x  dx\n",
       "⌡      "
      ]
     },
     "execution_count": 10,
     "metadata": {},
     "output_type": "execute_result"
    }
   ],
   "source": [
    "Integral(x**2,x)"
   ]
  },
  {
   "cell_type": "code",
   "execution_count": 13,
   "metadata": {
    "collapsed": false
   },
   "outputs": [
    {
     "data": {
      "image/png": "[encoded data removed]",
      "text/latex": [
       "$$\\frac{46189 x}{262144} - \\frac{1}{20} \\sin^{19}{\\left (x \\right )} \\cos{\\left (x \\right )} - \\frac{19}{360} \\sin^{17}{\\left (x \\right )} \\cos{\\left (x \\right )} - \\frac{323}{5760} \\sin^{15}{\\left (x \\right )} \\cos{\\left (x \\right )} - \\frac{323}{5376} \\sin^{13}{\\left (x \\right )} \\cos{\\left (x \\right )} - \\frac{4199}{64512} \\sin^{11}{\\left (x \\right )} \\cos{\\left (x \\right )} - \\frac{46189}{645120} \\sin^{9}{\\left (x \\right )} \\cos{\\left (x \\right )} - \\frac{46189}{573440} \\sin^{7}{\\left (x \\right )} \\cos{\\left (x \\right )} - \\frac{46189}{491520} \\sin^{5}{\\left (x \\right )} \\cos{\\left (x \\right )} - \\frac{46189}{393216} \\sin^{3}{\\left (x \\right )} \\cos{\\left (x \\right )} - \\frac{46189}{262144} \\sin{\\left (x \\right )} \\cos{\\left (x \\right )}$$"
      ],
      "text/plain": [
       "             19                   17                    15                    \n",
       "46189⋅x   sin  (x)⋅cos(x)   19⋅sin  (x)⋅cos(x)   323⋅sin  (x)⋅cos(x)   323⋅sin\n",
       "─────── - ─────────────── - ────────────────── - ─────────────────── - ───────\n",
       " 262144          20                360                   5760                 \n",
       "\n",
       "13                     11                      9                      7       \n",
       "  (x)⋅cos(x)   4199⋅sin  (x)⋅cos(x)   46189⋅sin (x)⋅cos(x)   46189⋅sin (x)⋅cos\n",
       "──────────── - ──────────────────── - ──────────────────── - ─────────────────\n",
       " 5376                 64512                  645120                 573440    \n",
       "\n",
       "               5                      3                                \n",
       "(x)   46189⋅sin (x)⋅cos(x)   46189⋅sin (x)⋅cos(x)   46189⋅sin(x)⋅cos(x)\n",
       "─── - ──────────────────── - ──────────────────── - ───────────────────\n",
       "             491520                 393216                 262144      "
      ]
     },
     "execution_count": 13,
     "metadata": {},
     "output_type": "execute_result"
    }
   ],
   "source": [
    "integrate(sin(x)**20,x)"
   ]
  },
  {
   "cell_type": "code",
   "execution_count": 18,
   "metadata": {
    "collapsed": false
   },
   "outputs": [
    {
     "data": {
      "image/png": "[encoded data removed]",
      "text/latex": [
       "$$\\frac{c^{3} x}{4} + \\frac{c^{2} x^{2}}{2} + \\frac{c x^{3}}{3}$$"
      ],
      "text/plain": [
       " 3      2  2      3\n",
       "c ⋅x   c ⋅x    c⋅x \n",
       "──── + ───── + ────\n",
       " 4       2      3  "
      ]
     },
     "execution_count": 18,
     "metadata": {},
     "output_type": "execute_result"
    }
   ],
   "source": [
    "integrate(c*(x+Rational(1,2)*c)**2,x)"
   ]
  },
  {
   "cell_type": "code",
   "execution_count": 19,
   "metadata": {
    "collapsed": false
   },
   "outputs": [
    {
     "data": {
      "image/png": "[encoded data removed]",
      "text/latex": [
       "$$\\frac{13 c^{4}}{12} - \\frac{c^{3}}{4} - \\frac{c^{2}}{2} - \\frac{c}{3}$$"
      ],
      "text/plain": [
       "    4    3    2    \n",
       "13⋅c    c    c    c\n",
       "───── - ── - ── - ─\n",
       "  12    4    2    3"
      ]
     },
     "execution_count": 19,
     "metadata": {},
     "output_type": "execute_result"
    }
   ],
   "source": [
    "integrate(c*(x+Rational(1,2)*c)**2,(x,1,c))"
   ]
  },
  {
   "cell_type": "code",
   "execution_count": 20,
   "metadata": {
    "collapsed": false
   },
   "outputs": [
    {
     "data": {
      "image/png": "[encoded data removed]",
      "text/latex": [
       "$$E_{x}^{2}$$"
      ],
      "text/plain": [
       "  2\n",
       "Eₓ "
      ]
     },
     "execution_count": 20,
     "metadata": {},
     "output_type": "execute_result"
    }
   ],
   "source": [
    "E_x,E_y,E_z = symbols('E_x,E_y,E_z')\n",
    "y= E_x**2\n",
    "y"
   ]
  },
  {
   "cell_type": "code",
   "execution_count": 21,
   "metadata": {
    "collapsed": false
   },
   "outputs": [
    {
     "data": {
      "image/png": "[encoded data removed]",
      "text/latex": [
       "$$\\left[\\begin{matrix}E_{x}\\\\E_{y}\\\\E_{z}\\end{matrix}\\right]$$"
      ],
      "text/plain": [
       "⎡Eₓ ⎤\n",
       "⎢   ⎥\n",
       "⎢E_y⎥\n",
       "⎢   ⎥\n",
       "⎣E_z⎦"
      ]
     },
     "execution_count": 21,
     "metadata": {},
     "output_type": "execute_result"
    }
   ],
   "source": [
    "E=Matrix([E_x,E_y,E_z])\n",
    "E"
   ]
  },
  {
   "cell_type": "code",
   "execution_count": 27,
   "metadata": {
    "collapsed": false
   },
   "outputs": [
    {
     "data": {
      "image/png": "[encoded data removed]",
      "text/latex": [
       "$$\\left[\\begin{matrix}E_{x}^{2} + E_{y} E_{z} & E_{x} E_{y} + E_{y} x\\\\E_{x} E_{z} + E_{z} x & E_{y} E_{z} + x^{2}\\end{matrix}\\right]$$"
      ],
      "text/plain": [
       "⎡  2                           ⎤\n",
       "⎢Eₓ  + E_y⋅E_z   Eₓ⋅E_y + E_y⋅x⎥\n",
       "⎢                              ⎥\n",
       "⎢                            2 ⎥\n",
       "⎣Eₓ⋅E_z + E_z⋅x   E_y⋅E_z + x  ⎦"
      ]
     },
     "execution_count": 27,
     "metadata": {},
     "output_type": "execute_result"
    }
   ],
   "source": [
    "A=Matrix([[E_x,E_y],[E_z,x]])\n",
    "A**2"
   ]
  },
  {
   "cell_type": "code",
   "execution_count": 40,
   "metadata": {
    "collapsed": false
   },
   "outputs": [
    {
     "data": {
      "image/png": "[encoded data removed]",
      "text/latex": [
       "$$B_{x}^{2} E_{x}^{2} + 2 B_{x} B_{y} E_{x} E_{y} + 2 B_{x} B_{z} E_{x} E_{z} + B_{y}^{2} E_{y}^{2} + 2 B_{y} B_{z} E_{y} E_{z} + B_{z}^{2} E_{z}^{2}$$"
      ],
      "text/plain": [
       "  2   2                                          2    2                       \n",
       "Bₓ ⋅Eₓ  + 2⋅Bₓ⋅B_y⋅Eₓ⋅E_y + 2⋅Bₓ⋅B_z⋅Eₓ⋅E_z + B_y ⋅E_y  + 2⋅B_y⋅B_z⋅E_y⋅E_z + \n",
       "\n",
       "   2    2\n",
       "B_z ⋅E_z "
      ]
     },
     "execution_count": 40,
     "metadata": {},
     "output_type": "execute_result"
    }
   ],
   "source": [
    "B_x,B_y,B_z = symbols('B_x,B_y,B_z')\n",
    "electro=Matrix([[0,-B_z,B_y,E_x],\n",
    "                [ B_z,0,-B_x,E_y],\n",
    "                [-B_y,B_x,0,E_z],\n",
    "                [-E_x,-E_y,-E_z,0]])\n",
    "det(electro)"
   ]
  },
  {
   "cell_type": "code",
   "execution_count": 42,
   "metadata": {
    "collapsed": false
   },
   "outputs": [
    {
     "data": {
      "image/png": "[encoded data removed]",
      "text/latex": [
       "$$- 1.0 B_{x}^{2} E_{x}^{2} - 2.0 B_{x} B_{y} E_{x} E_{y} - 2.0 B_{x} B_{z} E_{x} E_{z} - 1.0 B_{y}^{2} E_{y}^{2} - 2.0 B_{y} B_{z} E_{y} E_{z} - 1.0 B_{z}^{2} E_{z}^{2}$$"
      ],
      "text/plain": [
       "        2   2                                                  2    2         \n",
       "- 1.0⋅Bₓ ⋅Eₓ  - 2.0⋅Bₓ⋅B_y⋅Eₓ⋅E_y - 2.0⋅Bₓ⋅B_z⋅Eₓ⋅E_z - 1.0⋅B_y ⋅E_y  - 2.0⋅B_\n",
       "\n",
       "                       2    2\n",
       "y⋅B_z⋅E_y⋅E_z - 1.0⋅B_z ⋅E_z "
      ]
     },
     "execution_count": 42,
     "metadata": {},
     "output_type": "execute_result"
    }
   ],
   "source": [
    "electro=Matrix([[0,-B_z,B_y,1J*E_x],\n",
    "                [ B_z,0,-B_x,1J*E_y],\n",
    "                [-B_y,B_x,0,1J*E_z],\n",
    "                [-1J*E_x,-1J*E_y,-1J*E_z,0]])\n",
    "det(electro)"
   ]
  },
  {
   "cell_type": "code",
   "execution_count": 43,
   "metadata": {
    "collapsed": false
   },
   "outputs": [
    {
     "data": {
      "image/png": "[encoded data removed]",
      "text/latex": [
       "$$x^{3} + 3 x^{2} + 3 x + 1$$"
      ],
      "text/plain": [
       " 3      2          \n",
       "x  + 3⋅x  + 3⋅x + 1"
      ]
     },
     "execution_count": 43,
     "metadata": {},
     "output_type": "execute_result"
    }
   ],
   "source": [
    "expand((x+1)**3)"
   ]
  },
  {
   "cell_type": "code",
   "execution_count": 44,
   "metadata": {
    "collapsed": false
   },
   "outputs": [
    {
     "data": {
      "image/png": "[encoded data removed]",
      "text/latex": [
       "$$1$$"
      ],
      "text/plain": [
       "1"
      ]
     },
     "execution_count": 44,
     "metadata": {},
     "output_type": "execute_result"
    }
   ],
   "source": [
    "limit(sin(x)/x,x,0)"
   ]
  },
  {
   "cell_type": "code",
   "execution_count": 47,
   "metadata": {
    "collapsed": false
   },
   "outputs": [
    {
     "data": {
      "image/png": "[encoded data removed]",
      "text/latex": [
       "$$0$$"
      ],
      "text/plain": [
       "0"
      ]
     },
     "execution_count": 47,
     "metadata": {},
     "output_type": "execute_result"
    }
   ],
   "source": [
    "limit( 1/x ,x,oo) "
   ]
  },
  {
   "cell_type": "code",
   "execution_count": 50,
   "metadata": {
    "collapsed": false
   },
   "outputs": [
    {
     "data": {
      "image/png": "[encoded data removed]",
      "text/latex": [
       "$$e^{a}$$"
      ],
      "text/plain": [
       " a\n",
       "ℯ "
      ]
     },
     "execution_count": 50,
     "metadata": {},
     "output_type": "execute_result"
    }
   ],
   "source": [
    "a=Symbol('a')\n",
    "limit((1+a/x)**x,x,oo)"
   ]
  },
  {
   "cell_type": "code",
   "execution_count": 51,
   "metadata": {
    "collapsed": true
   },
   "outputs": [],
   "source": [
    "?latex"
   ]
  },
  {
   "cell_type": "code",
   "execution_count": null,
   "metadata": {
    "collapsed": true
   },
   "outputs": [],
   "source": []
  }
 ],
 "metadata": {
  "kernelspec": {
   "display_name": "Python 2",
   "language": "python",
   "name": "python2"
  },
  "language_info": {
   "codemirror_mode": {
    "name": "ipython",
    "version": 2
   },
   "file_extension": ".py",
   "mimetype": "text/x-python",
   "name": "python",
   "nbconvert_exporter": "python",
   "pygments_lexer": "ipython2",
   "version": "2.7.9"
  }
 },
 "nbformat": 4,
 "nbformat_minor": 0
}
