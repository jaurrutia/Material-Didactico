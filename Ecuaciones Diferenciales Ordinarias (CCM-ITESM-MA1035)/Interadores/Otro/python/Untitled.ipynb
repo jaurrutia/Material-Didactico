{
 "cells": [
  {
   "cell_type": "code",
   "execution_count": 1,
   "metadata": {
    "collapsed": true
   },
   "outputs": [],
   "source": [
    "from math import * \n",
    "from numpy import * \n",
    "from scipy import *\n",
    "from pylab import *\n",
    "%matplotlib inline"
   ]
  },
  {
   "cell_type": "code",
   "execution_count": 34,
   "metadata": {
    "collapsed": false
   },
   "outputs": [],
   "source": [
    "def integrador_euler (funcion,punto_inicial,tiempo):\n",
    "    dh = 0.1\n",
    "    solucion=[punto_inicial]\n",
    "    for i in range(len(tiempo)-1):\n",
    "        solucion.append(funcion(solucion[i],1)*dh+solucion[i])   #Va a agregar f(y_i)*dh+f_i a las soluciones de (t,f(x,y))\n",
    "    return solucion\n",
    "    \n",
    "def solucion(x,a):\n",
    "    return exp(a*x)\n",
    "def ec_diferencial(y,a):\n",
    "    return a*y"
   ]
  },
  {
   "cell_type": "code",
   "execution_count": 36,
   "metadata": {
    "collapsed": false
   },
   "outputs": [
    {
     "data": {
      "text/plain": [
       "[<matplotlib.lines.Line2D at 0x105a4cb50>]"
      ]
     },
     "execution_count": 36,
     "metadata": {},
     "output_type": "execute_result"
    },
    {
     "data": {
      "image/png": "[encoded data removed]",
      "text/plain": [
       "<matplotlib.figure.Figure at 0x1058aa210>"
      ]
     },
     "metadata": {},
     "output_type": "display_data"
    }
   ],
   "source": [
    "tiempo=linspace(0,10)\n",
    "y_sum=integrador_euler(ec_diferencial,1.,tiempo)\n",
    "plot (tiempo,y_sum)"
   ]
  },
  {
   "cell_type": "code",
   "execution_count": 37,
   "metadata": {
    "collapsed": false
   },
   "outputs": [],
   "source": [
    "from scipy.integrate import*"
   ]
  },
  {
   "cell_type": "code",
   "execution_count": 56,
   "metadata": {
    "collapsed": false
   },
   "outputs": [
    {
     "data": {
      "image/png": "[encoded data removed]",
      "text/plain": [
       "<matplotlib.figure.Figure at 0x1080c1cd0>"
      ]
     },
     "metadata": {},
     "output_type": "display_data"
    }
   ],
   "source": [
    "y_odeint=odeint(ec_diferencial,[0,1.],tiempo,())\n",
    "plot(tiempo,y_odeint)\n",
    "show()"
   ]
  },
  {
   "cell_type": "code",
   "execution_count": null,
   "metadata": {
    "collapsed": true
   },
   "outputs": [],
   "source": [
    "\"\"\"\n",
    "y''+y=0\n",
    "y(0)=1\n",
    "y(1)=0\n",
    "y'(0)=0\n",
    "y'=v\n",
    "v'=-y\n",
    "\"\"\"\n",
    "\n",
    "\n",
    "def ec2(y,t):\n",
    "    return array([y[1],-y[0]])\n",
    "def ec3(y,t):\n",
    "    return array([y[1],-sin(y[0])])\n",
    "\n",
    "print ec2([1,0],0)"
   ]
  }
 ],
 "metadata": {
  "kernelspec": {
   "display_name": "Python 2",
   "language": "python",
   "name": "python2"
  },
  "language_info": {
   "codemirror_mode": {
    "name": "ipython",
    "version": 2
   },
   "file_extension": ".py",
   "mimetype": "text/x-python",
   "name": "python",
   "nbconvert_exporter": "python",
   "pygments_lexer": "ipython2",
   "version": "2.7.9"
  }
 },
 "nbformat": 4,
 "nbformat_minor": 0
}
