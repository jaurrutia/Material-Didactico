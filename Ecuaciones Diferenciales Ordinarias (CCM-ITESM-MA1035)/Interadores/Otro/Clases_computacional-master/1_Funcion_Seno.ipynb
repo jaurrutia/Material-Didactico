{
 "cells": [
  {
   "cell_type": "code",
   "execution_count": 1,
   "metadata": {
    "collapsed": true
   },
   "outputs": [],
   "source": [
    "from pylab import *\n",
    "%matplotlib inline"
   ]
  },
  {
   "cell_type": "code",
   "execution_count": 2,
   "metadata": {
    "collapsed": true
   },
   "outputs": [],
   "source": [
    "def factorial(n):\n",
    "    fac,num = 1,range(2,n+1)\n",
    "    for n in num:\n",
    "        fac = fac*n\n",
    "    return fac"
   ]
  },
  {
   "cell_type": "code",
   "execution_count": 27,
   "metadata": {
    "collapsed": false
   },
   "outputs": [],
   "source": [
    "def mi_sine(x,n_max=10):\n",
    "    x,y = x%(2*pi),0.\n",
    "    if x <= (pi/2):\n",
    "        #print \"intervalo 1\"\n",
    "        x = x\n",
    "    elif (pi/2) < x <= pi:\n",
    "        #print \"intervalo 2\"\n",
    "        x = pi-x\n",
    "    elif pi < x <= ((3*pi)/2):\n",
    "        #print \"intervalo 3\"\n",
    "        x = -(x-pi)\n",
    "    else:\n",
    "        #print \"intervalo 4\"\n",
    "        x = x-2*pi\n",
    "    for n in range(n_max):\n",
    "        p = 2*n+1\n",
    "        y += ((-1)**n)*(x**(p)/factorial(p))\n",
    "    #err_max = abs(x**(p+2))/factorial(p+2)\n",
    "    return y #,err_max"
   ]
  },
  {
   "cell_type": "code",
   "execution_count": 4,
   "metadata": {
    "collapsed": false
   },
   "outputs": [
    {
     "name": "stdout",
     "output_type": "stream",
     "text": [
      "n= 1   (1.5707963267948966, 0.6459640975062462)\n",
      "n= 2   (0.9248322292886504, 0.07969262624616703)\n",
      "n= 3   (1.0045248555348174, 0.004681754135318687)\n",
      "n= 4   (0.9998431013994987, 0.00016044118478735975)\n",
      "n= 5   (1.0000035425842861, 3.598843235212084e-06)\n",
      "n= 6   (0.999999943741051, 5.692172921967924e-08)\n",
      "n= 7   (1.0000000006627803, 6.688035109811464e-10)\n",
      "n= 8   (0.9999999999939768, 6.066935731106192e-12)\n",
      "n= 9   (1.0000000000000437, 4.377065467313739e-14)\n",
      "n= 10   (1.0, 2.571422892860472e-16)\n",
      "n= 11   (1.0000000000000002, 1.2538995405354564e-18)\n",
      "n= 12   (1.0000000000000002, 5.156455176580277e-21)\n",
      "n= 13   (1.0000000000000002, 1.8123993128488855e-23)\n",
      "n= 14   (1.0000000000000002, 5.507285786522379e-26)\n",
      "n= 15   (1.0000000000000002, 1.4611487106644664e-28)\n"
     ]
    }
   ],
   "source": [
    "for n in range(1,16):\n",
    "    print \"n=\",n,\" \",mi_sine(pi/2,n)"
   ]
  },
  {
   "cell_type": "code",
   "execution_count": 15,
   "metadata": {
    "collapsed": false
   },
   "outputs": [
    {
     "data": {
      "image/png": "[encoded data removed]",
      "text/plain": [
       "<matplotlib.figure.Figure at 0x7fa8175bd950>"
      ]
     },
     "metadata": {},
     "output_type": "display_data"
    }
   ],
   "source": [
    "error = zeros(15)\n",
    "error2 = zeros(15)\n",
    "for i in range(1,len(error)+1):\n",
    "    error[i-1] = mi_sine(pi/2,i)[1]\n",
    "    error2[i-1] = mi_sine(pi/4,i)[1]\n",
    "plot(error)\n",
    "plot(error2)\n",
    "yscale('log')\n",
    "show()"
   ]
  },
  {
   "cell_type": "code",
   "execution_count": 28,
   "metadata": {
    "collapsed": false
   },
   "outputs": [
    {
     "name": "stdout",
     "output_type": "stream",
     "text": [
      "The slowest run took 5.44 times longer than the fastest. This could mean that an intermediate result is being cached.\n",
      "100000 loops, best of 3: 4.95 µs per loop\n"
     ]
    }
   ],
   "source": [
    "%timeit mi_sine(pi/4,4)"
   ]
  },
  {
   "cell_type": "code",
   "execution_count": 29,
   "metadata": {
    "collapsed": false
   },
   "outputs": [
    {
     "name": "stdout",
     "output_type": "stream",
     "text": [
      "100000 loops, best of 3: 13.9 µs per loop\n"
     ]
    }
   ],
   "source": [
    "%timeit mi_sine(pi/4)"
   ]
  },
  {
   "cell_type": "code",
   "execution_count": 26,
   "metadata": {
    "collapsed": false
   },
   "outputs": [
    {
     "name": "stdout",
     "output_type": "stream",
     "text": [
      "The slowest run took 34.72 times longer than the fastest. This could mean that an intermediate result is being cached.\n",
      "1000000 loops, best of 3: 1.01 µs per loop\n"
     ]
    }
   ],
   "source": [
    "%timeit sin(pi/4)"
   ]
  }
 ],
 "metadata": {
  "anaconda-cloud": {},
  "kernelspec": {
   "display_name": "Python [Root]",
   "language": "python",
   "name": "Python [Root]"
  },
  "language_info": {
   "codemirror_mode": {
    "name": "ipython",
    "version": 2
   },
   "file_extension": ".py",
   "mimetype": "text/x-python",
   "name": "python",
   "nbconvert_exporter": "python",
   "pygments_lexer": "ipython2",
   "version": "2.7.12"
  }
 },
 "nbformat": 4,
 "nbformat_minor": 0
}
