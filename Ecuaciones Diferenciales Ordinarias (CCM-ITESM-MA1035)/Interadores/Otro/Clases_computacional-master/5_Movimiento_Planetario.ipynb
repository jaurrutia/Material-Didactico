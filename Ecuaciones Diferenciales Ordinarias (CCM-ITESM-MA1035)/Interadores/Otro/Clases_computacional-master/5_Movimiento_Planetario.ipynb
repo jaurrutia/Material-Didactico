{
 "cells": [
  {
   "cell_type": "markdown",
   "metadata": {
    "editable": true,
    "slideshow": {
     "slide_type": ""
    },
    "tags": []
   },
   "source": [
    "Vamos a aterrizar todo lo que hemos hecho en la clase"
   ]
  },
  {
   "cell_type": "markdown",
   "metadata": {},
   "source": [
    "$$\n",
    "\\frac{d\\vec p}{dt} = -G \\frac{Mm}{|\\vec r - \\vec r_M |^2}\\hat{(\\vec r - \\vec r_M) }\n",
    "$$\n",
    "\n",
    "vamos a supones que estamos en el plano donde sucede la acción y que nos ponemos en $ \\vec r_M=0$. Vamos a adimencionalizar las cosas para que todo este escalado bonito. Es decir\n",
    "\n",
    "$$\n",
    "t_1 = \\sqrt{GM}t \\Rightarrow \\frac{d}{dt} = \\frac{d t_1}{dt}\\frac{d}{dt_1} = \\sqrt{GM}\\frac{d}{dt_1} \\Rightarrow \\frac{d^2}{dt^2} = GM \\frac{d^2}{dt_1^2}\n",
    "$$\n",
    "\n",
    "Vamos a hacwer ademas el cambio de variable $R_T=<\\vec r(t)>$ y $\\vec \\rho = \\frac{\\vec r}{R_T}$\n",
    "podemos escribir entonces la ec. a recolver como\n",
    "\n",
    "$$\n",
    "\\frac{d\\vec p}{dt} = -G \\frac{Mm}{\\rho^2 R_T^3}\\hat{\\rho }\n",
    "$$\n",
    "\n",
    "Hagamos entnces el cambio \n",
    "\n",
    "$$\n",
    "\\tau = \\sqrt{\\frac{GM}{R_T^3}}t \\Rightarrow   \\frac{d^2}{dt^2} = \\frac{GM}{R_T^3} \\frac{d^2}{d\\tau^2}\n",
    "$$\n",
    "\n",
    "y por lo tanto \n",
    "\n",
    "$$\n",
    "\\frac{d^2\\vec\\rho}{d\\tau^2} = - \\frac{\\vec \\rho}{\\rho^2} ---------------(1)\n",
    "$$\n",
    "\n",
    "\n",
    "Como cosa curiosa, vemos que si asumimos periocidad de 2Pi llegamos a la 3ra ley de Kepler"
   ]
  },
  {
   "cell_type": "code",
   "execution_count": 1,
   "metadata": {
    "collapsed": false,
    "jupyter": {
     "outputs_hidden": false
    }
   },
   "outputs": [],
   "source": [
    "from pylab import *\n",
    "%run \"C:\\Users\\Jonathan\\Documents\\GitHub\\integradores\\int_rk_jac.ipynb\"   #Importo las funciones que use aquí\n",
    "%matplotlib inline"
   ]
  },
  {
   "cell_type": "markdown",
   "metadata": {},
   "source": [
    "Vamos a utilizar varios métodos (ya importados arriba para reolver la ecuación de mov (ec. 1)"
   ]
  },
  {
   "cell_type": "markdown",
   "metadata": {},
   "source": [
    "Vamos a hacer el cambio de variable siguiente para que sea una ec. de primer orden:\n",
    "$$\n",
    "\\dot\\rho_x = v_{\\rho x}\\\\ \\dot\\rho_y = v_{\\rho y} \\\\ \\dot v_{\\rho x} =- \\frac{\\rho_x}{\\rho^3} \\\\  \\dot v_{\\rho y} =- \\frac{\\rho_y}{\\rho^3}\n",
    "$$\n",
    "\n"
   ]
  },
  {
   "cell_type": "code",
   "execution_count": 2,
   "metadata": {
    "collapsed": true,
    "jupyter": {
     "outputs_hidden": true
    }
   },
   "outputs": [],
   "source": [
    "def mov_planeta(x,t):\n",
    "    r3 = (x[0]**2 + x[1]**2)**(1.5)    #Así lo ponemos para que lo calcule un aúnica vez\n",
    "    drx = x[2]\n",
    "    dry = x[3]\n",
    "    dvrx = -x[0]/r3\n",
    "    dvry =-x[1]/r3\n",
    "    return array([drx,dry,dvrx,dvry])"
   ]
  },
  {
   "cell_type": "code",
   "execution_count": 3,
   "metadata": {
    "collapsed": false,
    "jupyter": {
     "outputs_hidden": false
    }
   },
   "outputs": [
    {
     "data": {
      "image/png": "[encoded data removed]",
      "text/plain": [
       "<matplotlib.figure.Figure at 0x777ba58>"
      ]
     },
     "metadata": {},
     "output_type": "display_data"
    }
   ],
   "source": [
    "%%time\n",
    "t,r_vr = rk2(mov_planeta,[1,0,0,1],[0,2*pi],0.1)\n",
    "xlim([-1.5,1.5]),ylim([-1.5,1.5])  #El equivañente a Range y Domain en Mathematica\n",
    "axes().set_aspect('equal'),grid(True)   #La maquilla\n",
    "plot(r_vr[:,0],r_vr[:,1])   \n",
    "show()"
   ]
  },
  {
   "cell_type": "markdown",
   "metadata": {},
   "source": [
    "Aqui vamos a cambiar las condiciones para ver cómo camba la figura y vamos a modificar el paso que se utiliza"
   ]
  },
  {
   "cell_type": "code",
   "execution_count": 4,
   "metadata": {
    "collapsed": false,
    "jupyter": {
     "outputs_hidden": false
    }
   },
   "outputs": [
    {
     "data": {
      "image/png": "[encoded data removed]",
      "text/plain": [
       "<matplotlib.figure.Figure at 0x7fe0cc0>"
      ]
     },
     "metadata": {},
     "output_type": "display_data"
    }
   ],
   "source": [
    "%%time\n",
    "t,r_vr_1 = rk2(mov_planeta,[1,0,.6,.9],[0,10],0.1)\n",
    "t,r_vr_01 = rk2(mov_planeta,[1,0,.6,.9],[0,10],0.01)\n",
    "zoom = 2\n",
    "xlim([-zoom,zoom]),ylim([-zoom,zoom])  #El equivañente a Range y Domain en Mathematica\n",
    "axes().set_aspect('equal'),grid(True)   #La maquilla\n",
    "plot(r_vr_1[:,0],r_vr_1[:,1],r_vr_01[:,0],r_vr_01[:,1])    #Me da es espacio fase\n",
    "show()"
   ]
  },
  {
   "cell_type": "markdown",
   "metadata": {},
   "source": [
    "Para seguir con el método del Jacobiano, primero hay que calcular éste:\n",
    "\n",
    "$$ \\mathbf{J} =\\left(\n",
    "\\begin{array}{c c c c}\n",
    " 0 & 0 & 1 & 0\\\\\n",
    " 0 & 0 & 0 & 1\\\\\n",
    " \\frac{2\\rho_x^2-\\rho_y^2}{\\rho^5} & \\frac{3\\rho_x\\rho_y}{\\rho^5} & 0 & 0\\\\\n",
    " \\frac{3\\rho_x\\rho_y}{\\rho^5} & \\frac{2\\rho_y^2-\\rho_x^2}{\\rho^5} & 0 & 0\n",
    "\\end{array}\\right)\n",
    "$$"
   ]
  },
  {
   "cell_type": "code",
   "execution_count": 5,
   "metadata": {
    "collapsed": true,
    "jupyter": {
     "outputs_hidden": true
    }
   },
   "outputs": [],
   "source": [
    "def jac_mov_planeta(x,t):\n",
    "    d_ec =  array([0,0,0,0])  #parcial del sistema respecto a t\n",
    "    r5 = (x[0]**2 + x[1]**2)**(2.5)\n",
    "    rx2_ry=(2*x[0]*x[0]-x[1]*x[1])/r5\n",
    "    rx3ry = (3*x[0]*x[1])/r5\n",
    "    ry2_rx = (2*x[1]*x[1]-x[0]*x[0])/r5\n",
    "    jac = array([0,0,1,0],[0,0,0,1],[rx2_ry,rx3ry,0,0],[rx3ry,ry2_rx,0,0])\n",
    "    return d_ec, jac"
   ]
  },
  {
   "cell_type": "code",
   "execution_count": 6,
   "metadata": {
    "collapsed": false,
    "jupyter": {
     "outputs_hidden": false
    }
   },
   "outputs": [
    {
     "data": {
      "image/png": "[encoded data removed]",
      "text/plain": [
       "<matplotlib.figure.Figure at 0x7ff8390>"
      ]
     },
     "metadata": {},
     "output_type": "display_data"
    }
   ],
   "source": [
    "%%time\n",
    "t,r_vr = integra2(mov_planeta,jac_mov_planeta,[1,0,.6,.9],[0,10],0.01)\n",
    "zoom = 2\n",
    "xlim([-zoom,zoom]),ylim([-zoom,zoom]) \n",
    "axes().set_aspect('equal'),grid(True)   #La maquilla\n",
    "plot(r_vr[:,0],r_vr[:,1])   \n",
    "show()"
   ]
  },
  {
   "cell_type": "markdown",
   "metadata": {
    "collapsed": true,
    "jupyter": {
     "outputs_hidden": true
    }
   },
   "source": [
    "Ahora vamos a porner el RK de 4to orden"
   ]
  },
  {
   "cell_type": "code",
   "execution_count": 7,
   "metadata": {
    "collapsed": false,
    "jupyter": {
     "outputs_hidden": false
    }
   },
   "outputs": [
    {
     "data": {
      "image/png": "[encoded data removed]",
      "text/plain": [
       "<matplotlib.figure.Figure at 0x85973c8>"
      ]
     },
     "metadata": {},
     "output_type": "display_data"
    }
   ],
   "source": [
    "%%time\n",
    "t,r_vr = rk4(mov_planeta,[1,0,.6,.9],[0,10],.1)\n",
    "zoom = 2\n",
    "xlim([-zoom,zoom]),ylim([-zoom,zoom])  #El equivañente a Range y Domain en Mathematica\n",
    "axes().set_aspect('equal'),grid(True)   #La maquilla\n",
    "plot(r_vr[:,0],r_vr[:,1])    #Me da es espacio fase\n",
    "show()"
   ]
  },
  {
   "cell_type": "markdown",
   "metadata": {},
   "source": [
    "Aquí tenemos que poner el ode.int pero lo hago en la casa porque me da hueva\n",
    "además tengo quer checar lo del tiempo de cálculo\n",
    "\n",
    "y para internar graficar el espacio fase vamos a graficar las dos velocidades en un plano y veremos que no importa las condiciones iniciales que tenga, la gráfica simepre me dará un círculo. Esta se llama la odógrafa (oro?) y Rich nos va a explicar eso (tiene que ver con el vecor de velocidad y su magnitud segúin su ángulo)"
   ]
  }
 ],
 "metadata": {
  "anaconda-cloud": {},
  "kernelspec": {
   "display_name": "Python 3 (ipykernel)",
   "language": "python",
   "name": "python3"
  },
  "language_info": {
   "codemirror_mode": {
    "name": "ipython",
    "version": 3
   },
   "file_extension": ".py",
   "mimetype": "text/x-python",
   "name": "python",
   "nbconvert_exporter": "python",
   "pygments_lexer": "ipython3",
   "version": "3.11.5"
  }
 },
 "nbformat": 4,
 "nbformat_minor": 4
}
