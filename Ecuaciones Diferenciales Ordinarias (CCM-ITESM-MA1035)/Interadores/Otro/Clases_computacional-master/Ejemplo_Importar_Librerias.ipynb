{
 "cells": [
  {
   "cell_type": "code",
   "execution_count": 1,
   "metadata": {
    "collapsed": true
   },
   "outputs": [],
   "source": [
    "import math as mt\n",
    "import rich_lib1 as rl"
   ]
  },
  {
   "cell_type": "code",
   "execution_count": 5,
   "metadata": {
    "collapsed": false
   },
   "outputs": [
    {
     "name": "stdout",
     "output_type": "stream",
     "text": [
      "120\n",
      "intervalo 2\n",
      "0.0\n",
      "1.22464679915e-16\n"
     ]
    }
   ],
   "source": [
    "print rl.factorial(5)\n",
    "print rl.sin(mt.pi)\n",
    "print mt.sin(mt.pi)"
   ]
  }
 ],
 "metadata": {
  "kernelspec": {
   "display_name": "Python [Root]",
   "language": "python",
   "name": "Python [Root]"
  },
  "language_info": {
   "codemirror_mode": {
    "name": "ipython",
    "version": 2
   },
   "file_extension": ".py",
   "mimetype": "text/x-python",
   "name": "python",
   "nbconvert_exporter": "python",
   "pygments_lexer": "ipython2",
   "version": "2.7.12"
  }
 },
 "nbformat": 4,
 "nbformat_minor": 0
}
