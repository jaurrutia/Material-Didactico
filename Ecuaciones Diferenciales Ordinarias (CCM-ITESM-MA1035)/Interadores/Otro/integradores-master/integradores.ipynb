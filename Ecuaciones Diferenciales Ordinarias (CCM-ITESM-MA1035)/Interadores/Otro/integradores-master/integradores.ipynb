{
 "cells": [
  {
   "cell_type": "code",
   "execution_count": 1,
   "metadata": {
    "collapsed": true
   },
   "outputs": [],
   "source": [
    "def integra2(ec, d_ec, p_ini, x, h=0.1):  #x en donde integras\n",
    "    #f = ec(p_ini)\n",
    "    #df = d_ec(p_ini)[0]\n",
    "    #Jac = d_ec(p_ini)[1]\n",
    "    tiempos=arange(x[0],x[1]+h,h)\n",
    "    sol=zeros((len(tiempos),len(p_ini)))    #p_ini son todas las condiciones inciales\n",
    "    sol[0,:] = p_ini\n",
    "    for i in xrange(len(tiempos)-1):    #Solución: matriz cuyo i-ésimo renglón sea la soluciónal tiempo t_i. xrange sirva para hacer ranges y que no ocupen memoria\"\"\"\n",
    "        f=ec(sol[i,:],tiempos[i])\n",
    "        df,jac=d_ec(sol[i,:], tiempos[i])\n",
    "        sol[i+1,:]=sol[i,:]+h*f+0.5*h*h*(df+ dot (jac,f))\n",
    "    return  tiempos,sol"
   ]
  },
  {
   "cell_type": "code",
   "execution_count": 2,
   "metadata": {
    "collapsed": true
   },
   "outputs": [],
   "source": [
    "def runge(ec, p_ini, x, h=0.1):\n",
    "    tiempos=arange(x[0],x[1]+h,h)\n",
    "    sol=zeros((len(tiempos),len(p_ini)))    #p_ini son todas las condiciones inciales\n",
    "    sol[0,:] = p_ini\n",
    "    for i in xrange(len(tiempos)-1):    #Solución: matriz cuyo i-ésimo renglón sea la soluciónal tiempo t_i. xrange sirva para hacer ranges y que no ocupen memoria\"\"\"\n",
    "        k=ec(sol[i,:], tiempos[i])*h\n",
    "        sol[i+1,:]=sol[i,:]+h*ec(sol[i,:]+0.5*k, tiempos[i]+.5*h)\n",
    "    return  tiempos,sol"
   ]
  },
  {
   "cell_type": "code",
   "execution_count": 18,
   "metadata": {
    "collapsed": false
   },
   "outputs": [],
   "source": [
    "def rk4(ec, p_ini, x, h=0.1):\n",
    "    tiempos=arange(x[0],x[1]+h,h)\n",
    "    sol=zeros((len(tiempos),len(p_ini)))    #p_ini son todas las condiciones inciales\n",
    "    sol[0,:] = p_ini\n",
    "    for i in xrange(len(tiempos)-1):    #Solución: matriz cuyo i-ésimo renglón sea la soluciónal tiempo t_i. xrange sirva para hacer ranges y que no ocupen memoria\"\"\"\n",
    "        k1 = ec(sol[i,:], tiempos[i])\n",
    "        k2 = ec(sol[i,:]+.5*k1*h, tiempos[i]+0.5*h)\n",
    "        k3 = ec(sol[i,:]+.5*k2*h, tiempos[i]+0.5*h)\n",
    "        k4 = ec(sol[i,:]+k3*h, tiempos[i]+h)\n",
    "        sol[i+1,:]=sol[i,:]+(h/6.)*(k1+2*k2+2*k3+k4)\n",
    "    return  tiempos,sol"
   ]
  },
  {
   "cell_type": "code",
   "execution_count": null,
   "metadata": {
    "collapsed": true
   },
   "outputs": [],
   "source": []
  }
 ],
 "metadata": {
  "kernelspec": {
   "display_name": "Python [Root]",
   "language": "python",
   "name": "Python [Root]"
  },
  "language_info": {
   "codemirror_mode": {
    "name": "ipython",
    "version": 2
   },
   "file_extension": ".py",
   "mimetype": "text/x-python",
   "name": "python",
   "nbconvert_exporter": "python",
   "pygments_lexer": "ipython2",
   "version": "2.7.12"
  }
 },
 "nbformat": 4,
 "nbformat_minor": 0
}
