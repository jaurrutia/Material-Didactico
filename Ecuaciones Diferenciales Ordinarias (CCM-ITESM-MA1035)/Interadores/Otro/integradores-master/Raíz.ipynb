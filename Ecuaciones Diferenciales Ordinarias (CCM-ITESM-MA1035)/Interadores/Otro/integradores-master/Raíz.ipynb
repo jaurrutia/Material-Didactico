{
 "cells": [
  {
   "cell_type": "code",
   "execution_count": 2,
   "metadata": {
    "collapsed": false
   },
   "outputs": [],
   "source": [
    "from pylab import *\n",
    "%matplotlib inline"
   ]
  },
  {
   "cell_type": "code",
   "execution_count": 50,
   "metadata": {
    "collapsed": false
   },
   "outputs": [],
   "source": [
    "def raiz_bip(func,x_i,x_d,error=1e-5):\n",
    "    raiz = 0.5*(x_i+x_d) \n",
    "    y_i,y_d= func(x_i), func(x_d)\n",
    "    n= 0\n",
    "    while abs(raiz-x_d) >= error and abs(y_i-y_d) >= error :\n",
    "        y_m = func(raiz)\n",
    "        if y_m==0:\n",
    "            print \"le atiné!\"\n",
    "            break\n",
    "        if y_m * y_i < 0:\n",
    "            x_d = raiz\n",
    "        else:\n",
    "            x_i = raiz\n",
    "        raiz = 0.5*(x_i+x_d)\n",
    "        y_i , y_d = func(x_i) , func(x_d)\n",
    "        n+=1\n",
    "        print \"paso: \",n, \"raíz= \" , raiz\n",
    "    return raiz   \n",
    "        \n",
    "            "
   ]
  },
  {
   "cell_type": "code",
   "execution_count": 7,
   "metadata": {
    "collapsed": false
   },
   "outputs": [
    {
     "data": {
      "image/png": "[encoded data removed]",
      "text/plain": [
       "<matplotlib.figure.Figure at 0x7fdc0814e450>"
      ]
     },
     "metadata": {},
     "output_type": "display_data"
    }
   ],
   "source": [
    "x=linspace(4,7)\n",
    "plot(x,sin(x))\n",
    "grid(True)\n",
    "show()"
   ]
  },
  {
   "cell_type": "code",
   "execution_count": 53,
   "metadata": {
    "collapsed": false
   },
   "outputs": [
    {
     "name": "stdout",
     "output_type": "stream",
     "text": [
      "La raíz es  le atiné!\n",
      "0.0\n",
      "pi:  3.14159265359\n"
     ]
    }
   ],
   "source": [
    "print \"La raíz es \", raiz_bip(sin,-5,5,error=1e-12)\n",
    "print\"pi: \",pi"
   ]
  },
  {
   "cell_type": "code",
   "execution_count": 36,
   "metadata": {
    "collapsed": true
   },
   "outputs": [],
   "source": [
    "def una_funcion(x):\n",
    "    return  (x-1)**5"
   ]
  },
  {
   "cell_type": "code",
   "execution_count": 37,
   "metadata": {
    "collapsed": false
   },
   "outputs": [
    {
     "data": {
      "image/png": "[encoded data removed]",
      "text/plain": [
       "<matplotlib.figure.Figure at 0x7fdc08098e50>"
      ]
     },
     "metadata": {},
     "output_type": "display_data"
    }
   ],
   "source": [
    "x=linspace(0,2)\n",
    "plot(x,una_funcion(x))\n",
    "grid(True)\n",
    "show()"
   ]
  },
  {
   "cell_type": "code",
   "execution_count": 52,
   "metadata": {
    "collapsed": false
   },
   "outputs": [
    {
     "name": "stdout",
     "output_type": "stream",
     "text": [
      "La raíz es  paso:  1 raíz=  2.5\n",
      "paso:  2 raíz=  1.25\n",
      "paso:  3 raíz=  0.625\n",
      "paso:  4 raíz=  0.9375\n",
      "paso:  5 raíz=  1.09375\n",
      "paso:  6 raíz=  1.015625\n",
      "paso:  7 raíz=  0.9765625\n",
      "paso:  8 raíz=  0.99609375\n",
      "paso:  9 raíz=  1.005859375\n",
      "paso:  10 raíz=  1.0009765625\n",
      "1.0009765625\n"
     ]
    }
   ],
   "source": [
    "print \"La raíz es \", raiz_bip(una_funcion,-5,5,error=1e-10)"
   ]
  },
  {
   "cell_type": "code",
   "execution_count": 48,
   "metadata": {
    "collapsed": false
   },
   "outputs": [
    {
     "name": "stdout",
     "output_type": "stream",
     "text": [
      "0\n",
      "1\n",
      "2\n",
      "3\n",
      "4\n",
      "5\n",
      "chin\n"
     ]
    }
   ],
   "source": [
    "for i in range(10):\n",
    "    print i\n",
    "    if i==5:\n",
    "        print \"chin\"\n",
    "        break"
   ]
  }
 ],
 "metadata": {
  "kernelspec": {
   "display_name": "Python [Root]",
   "language": "python",
   "name": "Python [Root]"
  },
  "language_info": {
   "codemirror_mode": {
    "name": "ipython",
    "version": 2
   },
   "file_extension": ".py",
   "mimetype": "text/x-python",
   "name": "python",
   "nbconvert_exporter": "python",
   "pygments_lexer": "ipython2",
   "version": "2.7.12"
  }
 },
 "nbformat": 4,
 "nbformat_minor": 0
}
