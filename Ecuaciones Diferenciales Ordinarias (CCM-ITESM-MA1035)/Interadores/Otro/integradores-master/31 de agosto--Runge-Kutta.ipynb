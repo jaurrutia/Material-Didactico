{
 "cells": [
  {
   "cell_type": "markdown",
   "metadata": {},
   "source": [
    "# Runge-Kutta"
   ]
  },
  {
   "cell_type": "markdown",
   "metadata": {},
   "source": [
    "\n",
    "\n",
    "Tenemos una relación exacta\n",
    "\n",
    "$$\n",
    "\\vec y_{n+1}=\\vec y_n+ \\int \\limits_{x_n}^{x_{n+1}} f(x,\\vec y) dx  \\qquad ----(1)\n",
    "$$\n",
    "\n",
    "Lo mejor es expandir a f en su serie de Taylor y encontrar las derivadas en terminos de puntos\n",
    "\n",
    "$$\n",
    "f(x)=f(x_0)+f'(x_0)+f''(x_0) \\frac{x²}{2!}+ O(h²) \\qquad ----(2)\n",
    "$$\n",
    "con $x$ perteneciendo a [0,h]\n",
    "Cuando metemos eso a (1) el termino lineal se muere en un intervalo simétrico. Tomamos nuestro punto de desarrollo  como el punto medio (para quitarse los términos impares de la expansión)\n",
    "\n",
    "$$\n",
    "\\vec y_{n+1}= \\vec y_n + h \\vec f (x_{n+1/2}, \\vec y_{n+1/2})+ O(h³)\n",
    "$$\n",
    "\n",
    "Con $x_{n+1/2}= \\frac{x_{n+1}+x_n}{2}$ y $h=x_{n+1}-x_n$. El problema sería decir quién es $y_{n+1/2}$. Lo solucionamos con  Euler:\n",
    "\n",
    "$$\n",
    "\\vec y_{n+1/2}=\\vec y_n +\\frac{h}{2}f(x_n,y_n)\n",
    "$$\n",
    "\n",
    "Por lo tanto \n",
    "\n",
    "\n",
    "$$\n",
    "\\vec y_{n+1}= \\vec y_n + h \\vec f (x_{n} +1/2, \\vec y_n +\\frac{h}{2}f(x_n,y_n))+ O(h³)\n",
    "$$\n",
    "\n",
    "\n",
    "$k:=h f(x_n,y_n) \\implies \\vec y_{n+1}= \\vec y_n + h \\vec f (x_{n} +1/2, \\vec y_n +\\frac{1}{2}k)+ O(h³)$\n",
    "\n",
    "VENTAJA DE ESTE: NO OCUPA EL JACOBIANO"
   ]
  },
  {
   "cell_type": "code",
   "execution_count": 5,
   "metadata": {
    "collapsed": true
   },
   "outputs": [],
   "source": [
    "from pylab import *\n",
    "from numpy import *\n",
    "%matplotlib inline"
   ]
  },
  {
   "cell_type": "code",
   "execution_count": 29,
   "metadata": {
    "collapsed": true
   },
   "outputs": [],
   "source": [
    "def runge(ec, p_ini, x, h=0.1):\n",
    "    tiempos=arange(x[0],x[1]+h,h)\n",
    "    sol=zeros((len(tiempos),len(p_ini)))    #p_ini son todas las condiciones inciales\n",
    "    sol[0,:] = p_ini\n",
    "    for i in xrange(len(tiempos)-1):    #Solución: matriz cuyo i-ésimo renglón sea la soluciónal tiempo t_i. xrange sirva para hacer ranges y que no ocupen memoria\"\"\"\n",
    "        k=ec(sol[i,:], tiempos[i])*h\n",
    "        sol[i+1,:]=sol[i,:]+h*ec(sol[i,:]+0.5*k, tiempos[i]+.5*h)\n",
    "    return  tiempos,sol"
   ]
  },
  {
   "cell_type": "code",
   "execution_count": 36,
   "metadata": {
    "collapsed": false
   },
   "outputs": [
    {
     "data": {
      "image/png": "[encoded data removed]",
      "text/plain": [
       "<matplotlib.figure.Figure at 0x7fe0f70a8a10>"
      ]
     },
     "metadata": {},
     "output_type": "display_data"
    }
   ],
   "source": [
    "def p(y,t):\n",
    "    return array([y[1],-2*y[1]-0.5*sin(y[0])+sin(t)])\n",
    "\n",
    "\n",
    "t,y=runge(p,[1,0],[0,50])\n",
    "                 \n",
    "#plot (t,y[:,0])\n",
    "plot (y[:,0],y[:,1])\n",
    "show()"
   ]
  },
  {
   "cell_type": "markdown",
   "metadata": {},
   "source": []
  }
 ],
 "metadata": {
  "kernelspec": {
   "display_name": "Python [Root]",
   "language": "python",
   "name": "Python [Root]"
  },
  "language_info": {
   "codemirror_mode": {
    "name": "ipython",
    "version": 2
   },
   "file_extension": ".py",
   "mimetype": "text/x-python",
   "name": "python",
   "nbconvert_exporter": "python",
   "pygments_lexer": "ipython2",
   "version": "2.7.12"
  }
 },
 "nbformat": 4,
 "nbformat_minor": 0
}
