{
 "cells": [
  {
   "cell_type": "code",
   "execution_count": null,
   "metadata": {
    "collapsed": true
   },
   "outputs": [],
   "source": [
    "from pylab import *\n",
    "%matplotlib inline"
   ]
  },
  {
   "cell_type": "code",
   "execution_count": null,
   "metadata": {
    "collapsed": true
   },
   "outputs": [],
   "source": [
    "def derivada(funcion,variable,punto,h_2=.0001):\n",
    "    der=(funcion(punto+h_2)-funcion(punto))/2\n",
    "    "
   ]
  },
  {
   "cell_type": "code",
   "execution_count": null,
   "metadata": {
    "collapsed": true
   },
   "outputs": [],
   "source": [
    "def euler(funcion,p_ini,t_final,h=0.01):  #p_ini contiene toda la info de la función---> [t_0,f_0x,f_0y,f_0z,etc]\n",
    "    tiempos = arange(p_ini[0],t_final+h,h)     #variable\n",
    "    y= [0]*(len(tiempos))\n",
    "    y[0]=p_ini[1]   #Hasta aquí no hemos especificado naturaleza de y: es lo que metas en p_ini lo que definirá si es un array unidimensional o si se está reslviendo un sistema\n",
    "    for i in range(len(tiempos)-1):\n",
    "        y[i+1] = y[i]+funcion(y[i],tiempos[i])*h\n",
    "    solucion=[tiempos,y]  #Entrega un array con componente cero--> tiempo y componente 1---> array con la solución 1 y 2 \n",
    "    return solucion"
   ]
  },
  {
   "cell_type": "code",
   "execution_count": null,
   "metadata": {
    "collapsed": true
   },
   "outputs": [],
   "source": [
    "def euler_segundo(funcion,p_ini,t_final,h=0.01):\n",
    "     tiempos = arange(p_ini[0],t_final+h,h)     #variable\n",
    "    y= [0]*(len(tiempos))\n",
    "    y[0]=p_ini[1]   #Hasta aquí no hemos especificado naturaleza de y: es lo que metas en p_ini lo que definirá si es un array unidimensional o si se está reslviendo un sistema\n",
    "    for i in range(len(tiempos)-1):\n",
    "        y[i+1] = y[i]+funcion(y[i],tiempos[i])*h+2*h**2/2\n",
    "    solucion=[tiempos,y]  #Entrega un array con componente cero--> tiempo y componente 1---> array con la solución 1 y 2 \n",
    "    return solucion"
   ]
  },
  {
   "cell_type": "markdown",
   "metadata": {},
   "source": [
    "Ésta es la ecuación diferencial a resolver\n",
    "\\begin{equation}\n",
    "f(x)=f'(x)\n",
    "\\end{equation}"
   ]
  },
  {
   "cell_type": "code",
   "execution_count": null,
   "metadata": {
    "collapsed": true
   },
   "outputs": [],
   "source": [
    "def mi_ec_diff(y,t):  \n",
    "    \n",
    "    return y"
   ]
  }
 ],
 "metadata": {
  "kernelspec": {
   "display_name": "Python [Root]",
   "language": "python",
   "name": "Python [Root]"
  },
  "language_info": {
   "codemirror_mode": {
    "name": "ipython",
    "version": 2
   },
   "file_extension": ".py",
   "mimetype": "text/x-python",
   "name": "python",
   "nbconvert_exporter": "python",
   "pygments_lexer": "ipython2",
   "version": "2.7.12"
  }
 },
 "nbformat": 4,
 "nbformat_minor": 0
}
