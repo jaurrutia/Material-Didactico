{
 "cells": [
  {
   "cell_type": "markdown",
   "metadata": {},
   "source": [
    "# 19 de octubre"
   ]
  },
  {
   "cell_type": "code",
   "execution_count": 3,
   "metadata": {
    "collapsed": true
   },
   "outputs": [],
   "source": [
    "from pylab import *\n",
    "from scipy.integrate import *\n",
    "%matplotlib inline"
   ]
  },
  {
   "cell_type": "code",
   "execution_count": 119,
   "metadata": {
    "collapsed": true
   },
   "outputs": [],
   "source": [
    "def ec_mov(x_p,t,epsilon=1): #x_p = x,y,px,py\n",
    "    r32 = (x_p[0]**2+x_p[1]**2)**(1.5)\n",
    "    dx = x_p[2]\n",
    "    dy = x_p[3]*epsilon\n",
    "    dpx = -x_p[0]/r32\n",
    "    dpy = -x_p[1]/r32\n",
    "    return array([dx,dy,dpx,dpy])\n",
    "\n",
    "def energia(x_p,epsilon=1.):\n",
    "    r = sqrt(x_p[0]**2+x_p[1]**2)\n",
    "    E = 0.5*(x_p[2]**2+epsilon*x_p[3]**2)-1./r\n",
    "    return E\n",
    "def cond_ini(alfa,var=0.001): #Da condiciones que queden dentro del círculo\n",
    "    num = 2*rand()-1\n",
    "    x = cos(alfa+var*num)\n",
    "    y = sin(alfa+var*num)\n",
    "    n_pto=array([x,y,1,0])\n",
    "    return n_pto\n",
    "def p_rho(x_p):\n",
    "    x,y,px,py = x_p[:,0], x_p[:,1],x_p[:,2],x_p[:,3],\n",
    "    r = sqrt(x**2+y**2)\n",
    "    p_r = (px*x+py*y)/r\n",
    "    return p_r,r"
   ]
  },
  {
   "cell_type": "code",
   "execution_count": 136,
   "metadata": {
    "collapsed": false
   },
   "outputs": [
    {
     "name": "stdout",
     "output_type": "stream",
     "text": [
      "E= -0.5 Ef = -0.500000275611\n",
      "E= -0.5 Ef = -0.500000395654\n",
      "E= -0.5 Ef = -0.500000280413\n",
      "E= -0.5 Ef = -0.500000187965\n",
      "E= -0.5 Ef = -0.500000291351\n",
      "E= -0.5 Ef = -0.500000421182\n",
      "E= -0.5 Ef = -0.500000187842\n",
      "E= -0.5 Ef = -0.500000189227\n",
      "E= -0.5 Ef = -0.500000427956\n",
      "E= -0.5 Ef = -0.500000425988\n"
     ]
    },
    {
     "data": {
      "image/png": "[encoded data removed]",
      "text/plain": [
       "<matplotlib.figure.Figure at 0x7f23e8747f28>"
      ]
     },
     "metadata": {},
     "output_type": "display_data"
    }
   ],
   "source": [
    "t =arange(0,100,.0001)\n",
    "for i in range(10):\n",
    "    eps=1\n",
    "    pto_ini = cond_ini(pi/4)  #Debemos de tener energías negativas para tener órbitas cerradas\n",
    "    sol = odeint(ec_mov,pto_ini,t,args=(eps,),atol=1e-9,rtol=1e-9)\n",
    "    plot(sol[:,0],sol[:,1])\n",
    "    plot(pto_ini[0],pto_ini[1],'o')\n",
    "    print (\"E=\",energia(pto_ini,eps),\"Ef =\",energia(sol[-1],eps))"
   ]
  },
  {
   "cell_type": "code",
   "execution_count": 138,
   "metadata": {
    "collapsed": false
   },
   "outputs": [
    {
     "data": {
      "image/png": "[encoded data removed]",
      "text/plain": [
       "<matplotlib.figure.Figure at 0x7f23ea2495f8>"
      ]
     },
     "metadata": {},
     "output_type": "display_data"
    }
   ],
   "source": [
    "pr,r =p_rho(sol)\n",
    "plot(r,pr)\n",
    "plot(r[0],pr[0],'o')\n",
    "show()"
   ]
  },
  {
   "cell_type": "code",
   "execution_count": null,
   "metadata": {
    "collapsed": true
   },
   "outputs": [],
   "source": []
  }
 ],
 "metadata": {
  "kernelspec": {
   "display_name": "Python [Root]",
   "language": "python",
   "name": "Python [Root]"
  },
  "language_info": {
   "codemirror_mode": {
    "name": "ipython",
    "version": 3
   },
   "file_extension": ".py",
   "mimetype": "text/x-python",
   "name": "python",
   "nbconvert_exporter": "python",
   "pygments_lexer": "ipython3",
   "version": "3.5.2"
  }
 },
 "nbformat": 4,
 "nbformat_minor": 0
}
