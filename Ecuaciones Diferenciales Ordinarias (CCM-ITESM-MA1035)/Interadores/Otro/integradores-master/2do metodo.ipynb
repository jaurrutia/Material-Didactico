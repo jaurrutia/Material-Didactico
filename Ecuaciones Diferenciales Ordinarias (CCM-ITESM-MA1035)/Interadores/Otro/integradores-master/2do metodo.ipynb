{
 "cells": [
  {
   "cell_type": "code",
   "execution_count": 1,
   "metadata": {
    "collapsed": true
   },
   "outputs": [],
   "source": [
    "from pylab import *\n",
    "%matplotlib inline"
   ]
  },
  {
   "cell_type": "markdown",
   "metadata": {},
   "source": [
    "  # Segundo método\n",
    "    \n",
    "\\begin{equation}\n",
    " y_{n+1}=y_n+hf(x_n,y_n)+ \\frac{h^2}{2} \\left(\\frac{\\partial f}{\\partial x} +\\frac{\\partial f}{\\partial y} f\n",
    " \\right)\n",
    "\\end{equation}\n",
    "  \n",
    "  donde $f$ y sus parciales están evaluadas en $f(x_n,y_n)$. No es bueno para cosas que cambian de concavidad"
   ]
  },
  {
   "cell_type": "code",
   "execution_count": 2,
   "metadata": {
    "collapsed": true
   },
   "outputs": [],
   "source": [
    "def euler(ec_diff,p_ini,t_final,h=0.1):\n",
    "    tiempo=arange(0,t_final+h,h)\n",
    "    y=zeros(len(tiempo))\n",
    "    y[0]=p_ini\n",
    "    for i in range(len(tiempo)-1):\n",
    "        y[i+1] = y[i]+h*ec_diff(y[i],tiempo[i])\n",
    "    return tiempo,y"
   ]
  },
  {
   "cell_type": "code",
   "execution_count": 12,
   "metadata": {
    "collapsed": false
   },
   "outputs": [],
   "source": [
    "def segundo_orden1(ec_diff,p_ini,t_final,ec_jac,h=0.1):\n",
    "    tiempo=arange(0,t_final+h,h)\n",
    "    y=zeros(len(tiempo))\n",
    "    y[0]=p_ini\n",
    "    for i in range(len(tiempo)-1):\n",
    "        y[i+1] = y[i]+h*ec_diff(y[i],tiempo[i])\n",
    "        y[i+1] += 0.5*h*h*ec_jac(y[i],tiempo[i])[0]\n",
    "        y[i+1] += 0.5*h*h*ec_jac(y[i],tiempo[i])[1]*ec_diff(y[i],tiempo[i])\n",
    "    return tiempo,y"
   ]
  },
  {
   "cell_type": "code",
   "execution_count": 4,
   "metadata": {
    "collapsed": true
   },
   "outputs": [],
   "source": [
    "def ec_dif(y,x):\n",
    "     return x*sin(y)\n",
    "\n",
    "def d_ec_dif(y,x): \n",
    "    return sin(y),x*cos(y)"
   ]
  },
  {
   "cell_type": "code",
   "execution_count": 19,
   "metadata": {
    "collapsed": false
   },
   "outputs": [
    {
     "data": {
      "image/png": "[encoded data removed]",
      "text/plain": [
       "<matplotlib.figure.Figure at 0x7fcf494da110>"
      ]
     },
     "metadata": {},
     "output_type": "display_data"
    }
   ],
   "source": [
    "\n",
    "y_euler = euler(ec_dif,1,2.5)\n",
    "y_euler_01=euler(ec_dif,1,2.5,h=0.01)\n",
    "y_seg =segundo_orden1(ec_dif,1,2.5,d_ec_dif)\n",
    "plot(*y_euler,ls='--', label=\" Euler h=0.1\")\n",
    "plot(*y_seg,ls='-',  label=\" SG h=0.1\")\n",
    "plot(*y_euler_01,ls='--', label=\" Euler h=0.01\")\n",
    "legend()\n",
    "show()"
   ]
  },
  {
   "cell_type": "code",
   "execution_count": 69,
   "metadata": {
    "collapsed": false
   },
   "outputs": [
    {
     "data": {
      "text/plain": [
       "[<matplotlib.lines.Line2D at 0x7f67811b8e50>]"
      ]
     },
     "execution_count": 69,
     "metadata": {},
     "output_type": "execute_result"
    },
    {
     "data": {
      "image/png": "[encoded data removed]",
      "text/plain": [
       "<matplotlib.figure.Figure at 0x7f67813e9050>"
      ]
     },
     "metadata": {},
     "output_type": "display_data"
    }
   ],
   "source": [
    "plot(y_euler[0],y_euler[1],'--', label=\" Euler h=0.1\")\n",
    "plot(y_euler_01[0],y_euler_01[1],'--', label=\" Euler h=0.01\")\n",
    "plot(y_seg[0],y_seg[1],'o',  label=\" SG h=0.1\")"
   ]
  },
  {
   "cell_type": "code",
   "execution_count": 86,
   "metadata": {
    "collapsed": false
   },
   "outputs": [
    {
     "ename": "NameError",
     "evalue": "name 'tiempo' is not defined",
     "output_type": "error",
     "traceback": [
      "\u001b[1;31m---------------------------------------------------------------------------\u001b[0m",
      "\u001b[1;31mNameError\u001b[0m                                 Traceback (most recent call last)",
      "\u001b[1;32m<ipython-input-86-bf5ef2e54df2>\u001b[0m in \u001b[0;36m<module>\u001b[1;34m()\u001b[0m\n\u001b[1;32m----> 1\u001b[1;33m \u001b[0mlen\u001b[0m\u001b[1;33m(\u001b[0m\u001b[0mtiempo\u001b[0m\u001b[1;33m)\u001b[0m\u001b[1;33m\u001b[0m\u001b[0m\n\u001b[0m",
      "\u001b[1;31mNameError\u001b[0m: name 'tiempo' is not defined"
     ]
    }
   ],
   "source": [
    "len(tiempo)"
   ]
  }
 ],
 "metadata": {
  "kernelspec": {
   "display_name": "Python [Root]",
   "language": "python",
   "name": "Python [Root]"
  },
  "language_info": {
   "codemirror_mode": {
    "name": "ipython",
    "version": 2
   },
   "file_extension": ".py",
   "mimetype": "text/x-python",
   "name": "python",
   "nbconvert_exporter": "python",
   "pygments_lexer": "ipython2",
   "version": "2.7.12"
  }
 },
 "nbformat": 4,
 "nbformat_minor": 0
}
