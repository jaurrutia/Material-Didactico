{
 "cells": [
  {
   "cell_type": "code",
   "execution_count": 6,
   "metadata": {
    "collapsed": true
   },
   "outputs": [],
   "source": [
    "from pylab import *\n",
    "from numpy import *\n",
    "%matplotlib inline\n",
    "from matplotlib import gridspec"
   ]
  },
  {
   "cell_type": "markdown",
   "metadata": {},
   "source": [
    "Programamos de nuevo runge-kutta de 4to orden con 2 argumentos (modelo de fricción y ángulo de inclinación)"
   ]
  },
  {
   "cell_type": "code",
   "execution_count": 7,
   "metadata": {
    "collapsed": true
   },
   "outputs": [],
   "source": [
    "def rk4(ec,p_ini,x,args1=0,args2=0,h=0.01):\n",
    "    if (x[1]-x[0]) <= 5.*h:\n",
    "        h = (x[1]-x[0])/10\n",
    "    tiempos = arange(x[0],x[1]+h,h)\n",
    "    sol = zeros((len(tiempos),len(p_ini)))\n",
    "    sol[0,:] = p_ini\n",
    "    if args1==0:\n",
    "        if args2==0:\n",
    "            for i in range(len(tiempos)-1):\n",
    "                k1 = ec(sol[i,:],tiempos[i])\n",
    "                k2 = ec(sol[i,:]+0.5*h*k1,tiempos[i]+0.5*h)\n",
    "                k3 = ec(sol[i,:]+0.5*h*k2,tiempos[i]+0.5*h)\n",
    "                k4 = ec(sol[i,:]+h*k3,tiempos[i]+h)\n",
    "                sol[i+1,:]=sol[i,:]+(h/6.)*(k1+2*k2+2*k3+k4)\n",
    "        else:\n",
    "            for i in range(len(tiempos)-1):\n",
    "                k1 = ec(sol[i,:],tiempos[i])\n",
    "                k2 = ec(sol[i,:]+0.5*h*k1,tiempos[i]+0.5*h,0,args2)\n",
    "                k3 = ec(sol[i,:]+0.5*h*k2,tiempos[i]+0.5*h,0,args2)\n",
    "                k4 = ec(sol[i,:]+h*k3,tiempos[i]+h,0,args2)\n",
    "                sol[i+1,:]=sol[i,:]+(h/6.)*(k1+2*k2+2*k3+k4)\n",
    "    else:\n",
    "        if args2==0:\n",
    "            for i in range(len(tiempos)-1):\n",
    "                k1 = ec(sol[i,:],tiempos[i],args1)\n",
    "                k2 = ec(sol[i,:]+0.5*h*k1,tiempos[i]+0.5*h,args1)\n",
    "                k3 = ec(sol[i,:]+0.5*h*k2,tiempos[i]+0.5*h,args1)\n",
    "                k4 = ec(sol[i,:]+h*k3,tiempos[i]+h,args1)\n",
    "                sol[i+1,:]=sol[i,:]+(h/6.)*(k1+2*k2+2*k3+k4)\n",
    "        else:\n",
    "            for i in range(len(tiempos)-1):\n",
    "                k1 = ec(sol[i,:],tiempos[i],args1,args2)\n",
    "                k2 = ec(sol[i,:]+0.5*h*k1,tiempos[i]+0.5*h,args1,args2)\n",
    "                k3 = ec(sol[i,:]+0.5*h*k2,tiempos[i]+0.5*h,args1,args2)\n",
    "                k4 = ec(sol[i,:]+h*k3,tiempos[i]+h,args1,args2)\n",
    "                sol[i+1,:]=sol[i,:]+(h/6.)*(k1+2*k2+2*k3+k4) \n",
    "    return tiempos,sol"
   ]
  },
  {
   "cell_type": "markdown",
   "metadata": {},
   "source": [
    "Programamos ahora la ecuación de movimiento. Tomamos como sistema de referencia a aquel que tiene el eje x paralelo a la superficie del plano. La ecuación de movimiento de la pelota puede ser obtenida a partir de la ecuación para el sistema convencional a partir de una rotación. Las componentes de un vector en el sistema rotado se expresan en términos de las compontentes en el sistema no rotado como:\n",
    "\n",
    " $$\n",
    " x = xcos\\alpha-ysen\\alpha\n",
    " $$\n",
    " \n",
    " $$\n",
    "  y = ycos\\alpha+xsen\\alpha\n",
    " $$\n",
    " \n",
    " Tomando en cuenta esto, la gravedad en el sistema rotado es $\\vec g = (g/m)sen\\alpha \\hat{e_x}-(g/m)cos\\alpha \\hat{e_y}$"
   ]
  },
  {
   "cell_type": "code",
   "execution_count": 38,
   "metadata": {
    "collapsed": false
   },
   "outputs": [],
   "source": [
    "def rotacion(x,a):\n",
    "    xrot =zeros(4)\n",
    "    xrot[0] = x[0]*cos(a)+sin(a)*x[1]\n",
    "    xrot[1] = x[1]*cos(a)-sin(a)*x[0]\n",
    "    xrot[2] = x[2]*cos(a)+sin(a)*x[3]\n",
    "    xrot[3] = x[3]*cos(a)-sin(a)*x[2]\n",
    "    return xrot"
   ]
  },
  {
   "cell_type": "code",
   "execution_count": 85,
   "metadata": {
    "collapsed": false
   },
   "outputs": [],
   "source": [
    "def e_mov(r_v,t,fric=0,a=0,g=9.8,m=1): #r_v contiene a las coordenadas x y y y a las velocidades, a es el ángulo de inclinación del plano\n",
    "    u = sqrt(r_v[2]**2 + r_v[3]**2)\n",
    "    dx = r_v[2]\n",
    "    dy = r_v[3]\n",
    "    if fric == 0:\n",
    "        if a==0:\n",
    "            dvx,dvy = 0,-(g/m)\n",
    "        else:\n",
    "            dvx,dvy = rotacion([0,0,0, -(g/m)],-a)[2], rotacion([0,0,0, -(g/m)],-a)[3]\n",
    "    else:\n",
    "        if a==0:\n",
    "            dvx = - fric([r_v[2],r_v[3]])[0]\n",
    "            dvy = -(g/m) - fric([r_v[2],r_v[3]])[1]\n",
    "        else:\n",
    "            dvx = - fric([r_v[2],r_v[3]])[0]\n",
    "            dvy = rotacion([0,0,0, -(g/m)],-a)[3] - fric([r_v[2],r_v[3]])[1]\n",
    "    return array([dx,dy,dvx,dvy])"
   ]
  },
  {
   "cell_type": "code",
   "execution_count": 86,
   "metadata": {
    "collapsed": true
   },
   "outputs": [],
   "source": [
    "def rebote(r_v_i,mi_dt):\n",
    "    dt_busqueda = mi_dt/2.\n",
    "    y_izq = r_v_i\n",
    "    t,sol = rk4(e_mov,r_v_i,[0,dt_busqueda],fric_v)\n",
    "    y_med = sol[-1,:]\n",
    "    while abs(y_izq[1]) > 1e-5:\n",
    "        if y_izq[1]*y_med[1] < 0:\n",
    "            reinicio = y_izq\n",
    "        else:\n",
    "            reinicio = y_med\n",
    "        dt_busqueda = dt_busqueda/2\n",
    "        t,sol = rk4(e_mov,reinicio,[0,dt_busqueda],fric_v)\n",
    "        y_izq = reinicio\n",
    "        y_med = sol[-1,:]\n",
    "    y_izq = array([y_izq[0],y_izq[1],y_izq[2],-y_izq[3]])    \n",
    "    return y_izq"
   ]
  },
  {
   "cell_type": "code",
   "execution_count": 87,
   "metadata": {
    "collapsed": true
   },
   "outputs": [],
   "source": [
    "def fric_v(v,gamma=0.1):\n",
    "    f_x = gamma*v[0]\n",
    "    f_y = gamma*v[1]\n",
    "    return array([f_x,f_y]) \n",
    "\n",
    "def fric_v2(v,gamma=0.1):\n",
    "    norm_v = sqrt(v[0]**2 + v[1]**2)\n",
    "    f_x = gamma*norm_v*v[0]\n",
    "    f_y = gamma*norm_v*v[1]\n",
    "    return array([f_x,f_y]) "
   ]
  },
  {
   "cell_type": "code",
   "execution_count": 104,
   "metadata": {
    "collapsed": false
   },
   "outputs": [],
   "source": [
    "def trayec(p_ini,pasos,a,friccion,mi_dt = .1):\n",
    "    a=a*pi/180\n",
    "    trayectoria = zeros((N,4))\n",
    "    trayectoria_la_buena = zeros((N,4))\n",
    "    trayectoria[0,:] = array(rotacion(p_ini,-a))  #Condiciones iniciales en el sistema rotado\n",
    "    trayectoria_la_buena[0,:] = array(p_ini)\n",
    "    for i in range(N-1):\n",
    "        t,sol_dt = rk4(e_mov,trayectoria[i,:],[0,mi_dt],friccion,-a,h=0.01)  \n",
    "        if sol_dt[-1,:][1] < 0:\n",
    "            punto = rebote(trayectoria[i,:],mi_dt)\n",
    "            trayectoria[i+1,:] = punto\n",
    "        else:\n",
    "            trayectoria[i+1,:] = sol_dt[-1,:]   #Resuelve el problema en el sistema rotado\n",
    "    for j in range(len(trayectoria[:,0])):\n",
    "        b  = rotacion(trayectoria[j,:],a) #Rotamos nuevamente al sistema original\n",
    "        trayectoria_la_buena[j,:]= b\n",
    "    return trayectoria_la_buena\n"
   ]
  },
  {
   "cell_type": "markdown",
   "metadata": {},
   "source": [
    "Tenemos ya la solución en el marco rotado; ahora sólo debemos de rotarla al marco original para poder graficarla. Esto se hace haciendo el inverso de la transformación de antes:\n",
    "$$\n",
    "x_0= xcos \\alpha +ysen \\alpha\n",
    "$$\n",
    "$$\n",
    "y_0= ycos \\alpha -xsen \\alpha\n",
    "$$"
   ]
  },
  {
   "cell_type": "code",
   "execution_count": 110,
   "metadata": {
    "collapsed": false
   },
   "outputs": [
    {
     "data": {
      "image/png": "[encoded data removed]",
      "text/plain": [
       "<matplotlib.figure.Figure at 0x7f17357f8080>"
      ]
     },
     "metadata": {},
     "output_type": "display_data"
    },
    {
     "data": {
      "image/png": "[encoded data removed]",
      "text/plain": [
       "<matplotlib.figure.Figure at 0x7f17357da6d8>"
      ]
     },
     "metadata": {},
     "output_type": "display_data"
    },
    {
     "data": {
      "image/png": "[encoded data removed]",
      "text/plain": [
       "<matplotlib.figure.Figure at 0x7f17358c9518>"
      ]
     },
     "metadata": {},
     "output_type": "display_data"
    },
    {
     "data": {
      "image/png": "[encoded data removed]",
      "text/plain": [
       "<matplotlib.figure.Figure at 0x7f17356e5e48>"
      ]
     },
     "metadata": {},
     "output_type": "display_data"
    }
   ],
   "source": [
    "angulos = [0,15 ,30 ,45]\n",
    "for i in range(len(angulos)):\n",
    "    trayectoria1 =trayec([1,1,0,0],50,angulos[i],0)\n",
    "    plot(trayectoria1[:,0],trayectoria1[:,1],'o-')\n",
    "    show()\n",
    "\n"
   ]
  },
  {
   "cell_type": "code",
   "execution_count": 76,
   "metadata": {
    "collapsed": false
   },
   "outputs": [
    {
     "ename": "TypeError",
     "evalue": "'numpy.ndarray' object is not callable",
     "output_type": "error",
     "traceback": [
      "\u001b[1;31m---------------------------------------------------------------------------\u001b[0m",
      "\u001b[1;31mTypeError\u001b[0m                                 Traceback (most recent call last)",
      "\u001b[1;32m<ipython-input-76-fee8b4db2550>\u001b[0m in \u001b[0;36m<module>\u001b[1;34m()\u001b[0m\n\u001b[1;32m----> 1\u001b[1;33m \u001b[0mt\u001b[0m \u001b[1;33m=\u001b[0m\u001b[0mtrayec\u001b[0m\u001b[1;33m(\u001b[0m\u001b[1;33m[\u001b[0m\u001b[1;36m1\u001b[0m\u001b[1;33m,\u001b[0m\u001b[1;36m1\u001b[0m\u001b[1;33m,\u001b[0m\u001b[1;36m1\u001b[0m\u001b[1;33m,\u001b[0m\u001b[1;36m1\u001b[0m\u001b[1;33m]\u001b[0m\u001b[1;33m,\u001b[0m\u001b[1;36m50\u001b[0m\u001b[1;33m,\u001b[0m\u001b[1;36m10\u001b[0m\u001b[1;33m,\u001b[0m\u001b[1;36m0\u001b[0m\u001b[1;33m)\u001b[0m\u001b[1;33m\u001b[0m\u001b[0m\n\u001b[0m\u001b[0;32m      2\u001b[0m \u001b[0mprint\u001b[0m\u001b[1;33m(\u001b[0m\u001b[0mt\u001b[0m\u001b[1;33m)\u001b[0m\u001b[1;33m\u001b[0m\u001b[0m\n",
      "\u001b[1;31mTypeError\u001b[0m: 'numpy.ndarray' object is not callable"
     ]
    }
   ],
   "source": [
    "t =trayec([1,1,1,1],50,10,0)\n",
    "print(t)"
   ]
  },
  {
   "cell_type": "code",
   "execution_count": null,
   "metadata": {
    "collapsed": true
   },
   "outputs": [],
   "source": []
  }
 ],
 "metadata": {
  "anaconda-cloud": {},
  "kernelspec": {
   "display_name": "Python [Root]",
   "language": "python",
   "name": "Python [Root]"
  },
  "language_info": {
   "codemirror_mode": {
    "name": "ipython",
    "version": 3
   },
   "file_extension": ".py",
   "mimetype": "text/x-python",
   "name": "python",
   "nbconvert_exporter": "python",
   "pygments_lexer": "ipython3",
   "version": "3.5.2"
  }
 },
 "nbformat": 4,
 "nbformat_minor": 0
}
