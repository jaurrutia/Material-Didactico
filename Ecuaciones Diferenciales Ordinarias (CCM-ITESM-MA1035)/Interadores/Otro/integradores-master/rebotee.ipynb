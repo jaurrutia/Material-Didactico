{
 "cells": [
  {
   "cell_type": "code",
   "execution_count": 2,
   "metadata": {
    "collapsed": true
   },
   "outputs": [],
   "source": [
    "from pylab import *\n",
    "%matplotlib inline"
   ]
  },
  {
   "cell_type": "code",
   "execution_count": 8,
   "metadata": {
    "collapsed": true
   },
   "outputs": [],
   "source": [
    "def rk4(ec,p_ini,x,args=0,h=0.01):\n",
    "    if (x[1]-x[0]) <= 5.*h:\n",
    "        h = (x[1]-x[0])/10\n",
    "    tiempos = arange(x[0],x[1]+h,h)\n",
    "    sol = zeros((len(tiempos),len(p_ini)))\n",
    "    sol[0,:] = p_ini\n",
    "    if args==0:\n",
    "        for i in range(len(tiempos)-1):\n",
    "            k1 = ec(sol[i,:],tiempos[i])\n",
    "            k2 = ec(sol[i,:]+0.5*h*k1,tiempos[i]+0.5*h)\n",
    "            k3 = ec(sol[i,:]+0.5*h*k2,tiempos[i]+0.5*h)\n",
    "            k4 = ec(sol[i,:]+h*k3,tiempos[i]+h)\n",
    "            sol[i+1,:]=sol[i,:]+(h/6.)*(k1+2*k2+2*k3+k4)\n",
    "    else:\n",
    "        for i in range(len(tiempos)-1):\n",
    "            k1 = ec(sol[i,:],tiempos[i],args)\n",
    "            k2 = ec(sol[i,:]+0.5*h*k1,tiempos[i]+0.5*h,args)\n",
    "            k3 = ec(sol[i,:]+0.5*h*k2,tiempos[i]+0.5*h,args)\n",
    "            k4 = ec(sol[i,:]+h*k3,tiempos[i]+h,args)\n",
    "            sol[i+1,:]=sol[i,:]+(h/6.)*(k1+2*k2+2*k3+k4)\n",
    "    return tiempos,sol"
   ]
  },
  {
   "cell_type": "code",
   "execution_count": 12,
   "metadata": {
    "collapsed": false
   },
   "outputs": [
    {
     "data": {
      "image/png": "[encoded data removed]",
      "text/plain": [
       "<matplotlib.figure.Figure at 0x7f50974788d0>"
      ]
     },
     "metadata": {},
     "output_type": "display_data"
    }
   ],
   "source": [
    "inicio = [0,0,5,5]\n",
    "N = 50\n",
    "trayectoria = zeros((N,len(inicio)))\n",
    "mi_dt = .1\n",
    "trayectoria[0,:] = array(inicio)\n",
    "for i in range(N-1):\n",
    "    t,sol_dt = rk4(e_mov,trayectoria[i,:],[0,mi_dt],fric_v)\n",
    "    if sol_dt[-1,:][1] < 0:\n",
    "        #print \"buscando punto de rebote\"\n",
    "        #dt_busqueda = mi_dt/2\n",
    "        #y_izq = trayectoria[i,:]\n",
    "        #t,sol = rk4(e_mov,trayectoria[i,:],[0,dt_busqueda],fric_v)\n",
    "        #y_med = sol[-1,:]\n",
    "        #print y_med\n",
    "        #while abs(y_izq[1]) > 1e-5:\n",
    "         #   if y_izq[1]*y_med[1] < 0:\n",
    "                #reinicio = y_izq\n",
    "            #else:\n",
    "                #reinicio = y_med\n",
    "            #dt_busqueda = dt_busqueda/2\n",
    "            #t,sol = rk4(e_mov,reinicio,[0,dt_busqueda],fric_v)\n",
    "            #y_izq = reinicio\n",
    "            #y_med = sol[-1,:]\n",
    "        #y_izq = array([y_izq[0],y_izq[1],y_izq[2],-y_izq[3]])    \n",
    "        trayectoria[i+1,:] = punto\n",
    "    else:\n",
    "        trayectoria[i+1,:] = sol_dt[-1,:]\n",
    "\n",
    "plot(trayectoria[:,0],trayectoria[:,1],'o-')\n",
    "show()"
   ]
  },
  {
   "cell_type": "code",
   "execution_count": 9,
   "metadata": {
    "collapsed": false
   },
   "outputs": [],
   "source": [
    "def e_mov(r_v,t,fric=0,g=9.8,m=1):\n",
    "    u = sqrt(r_v[2]**2 + r_v[3]**2)\n",
    "    dx = r_v[2]\n",
    "    dy = r_v[3]\n",
    "    if fric == 0:\n",
    "        dvx,dvy = 0,-(g/m)\n",
    "        #print \"No use un modelo de friccion\"\n",
    "    else:\n",
    "        dvx = - fric([r_v[2],r_v[3]])[0]\n",
    "        dvy = -(g/m) - fric([r_v[2],r_v[3]])[1]\n",
    "        #print \"Use un modelo de friccion\"\n",
    "    return array([dx,dy,dvx,dvy])"
   ]
  },
  {
   "cell_type": "code",
   "execution_count": 10,
   "metadata": {
    "collapsed": true
   },
   "outputs": [],
   "source": [
    "def fric_v(v,gamma=0.1):\n",
    "    f_x = gamma*v[0]\n",
    "    f_y = gamma*v[1]\n",
    "    return array([f_x,f_y]) \n",
    "\n",
    "def fric_v2(v,gamma=0.1):\n",
    "    norm_v = sqrt(v[0]**2 + v[1]**2)\n",
    "    f_x = gamma*norm_v*v[0]\n",
    "    f_y = gamma*norm_v*v[1]\n",
    "    return array([f_x,f_y]) "
   ]
  },
  {
   "cell_type": "code",
   "execution_count": 11,
   "metadata": {
    "collapsed": false
   },
   "outputs": [
    {
     "data": {
      "image/png": "[encoded data removed]",
      "text/plain": [
       "<matplotlib.figure.Figure at 0x7f5099e92da0>"
      ]
     },
     "metadata": {},
     "output_type": "display_data"
    }
   ],
   "source": [
    "p = [0,0,5,5]\n",
    "t,sol_id=rk4(e_mov,p,[0,1])\n",
    "t,sol_fv=rk4(e_mov,p,[0,1],fric_v)\n",
    "t,sol_fv2=rk4(e_mov,p,[0,1],fric_v2)\n",
    "plot(sol_id[:,0],sol_id[:,1])\n",
    "plot(sol_fv[:,0],sol_fv[:,1])\n",
    "plot(sol_fv2[:,0],sol_fv2[:,1])\n",
    "show()"
   ]
  },
  {
   "cell_type": "code",
   "execution_count": 15,
   "metadata": {
    "collapsed": true
   },
   "outputs": [],
   "source": [
    "def rebote(r_v_i,mi,dt):\n",
    "        dt_busqueda = mi_dt/2\n",
    "        y_izq = r_v_i\n",
    "        t,sol = rk4(e_mov,r_v_i,[0,dt_busqueda],fric_v)\n",
    "        y_med = sol[-1,:]\n",
    "        #print y_med\n",
    "        while abs(y_izq[1]) > 1e-5:\n",
    "            if y_izq[1]*y_med[1] < 0:\n",
    "                reinicio = y_izq\n",
    "            else:\n",
    "                reinicio = y_med\n",
    "            dt_busqueda = dt_busqueda/2\n",
    "            t,sol = rk4(e_mov,reinicio,[0,dt_busqueda],fric_v)\n",
    "            y_izq = reinicio\n",
    "            y_med = sol[-1,:]\n",
    "        y_izq = array([y_izq[0],y_izq[1],y_izq[2],-y_izq[3]]) \n",
    "        return y_izq "
   ]
  },
  {
   "cell_type": "code",
   "execution_count": 14,
   "metadata": {
    "collapsed": false
   },
   "outputs": [
    {
     "ename": "SyntaxError",
     "evalue": "Missing parentheses in call to 'print' (<ipython-input-14-80178ba3a7ea>, line 1)",
     "output_type": "error",
     "traceback": [
      "\u001b[1;36m  File \u001b[1;32m\"<ipython-input-14-80178ba3a7ea>\"\u001b[1;36m, line \u001b[1;32m1\u001b[0m\n\u001b[1;33m    print sol_fv2[80,:][1]\u001b[0m\n\u001b[1;37m                ^\u001b[0m\n\u001b[1;31mSyntaxError\u001b[0m\u001b[1;31m:\u001b[0m Missing parentheses in call to 'print'\n"
     ]
    }
   ],
   "source": [
    "print sol_fv2[80,:][1]\n",
    "print sol_fv2[-1,:][1]"
   ]
  },
  {
   "cell_type": "code",
   "execution_count": null,
   "metadata": {
    "collapsed": true
   },
   "outputs": [],
   "source": []
  },
  {
   "cell_type": "code",
   "execution_count": null,
   "metadata": {
    "collapsed": true
   },
   "outputs": [],
   "source": []
  },
  {
   "cell_type": "code",
   "execution_count": null,
   "metadata": {
    "collapsed": true
   },
   "outputs": [],
   "source": []
  },
  {
   "cell_type": "code",
   "execution_count": 313,
   "metadata": {
    "collapsed": false
   },
   "outputs": [],
   "source": [
    "def caminata(tiempo,dimensiones):\n",
    "    x=zeros((tiempo,dimensiones))\n",
    "    for j in range(tiempo):\n",
    "        for i in range(dimensiones):\n",
    "            x[j,i]+=paso(dimensiones)[i]\n",
    "    return x   "
   ]
  },
  {
   "cell_type": "code",
   "execution_count": 324,
   "metadata": {
    "collapsed": false
   },
   "outputs": [],
   "source": [
    "\n",
    "def norma(x):\n",
    "    n=0\n",
    "    for i in range(len(x)):\n",
    "        n=n+x[i]**2\n",
    "    no=sqrt(n)\n",
    "    return   no \n",
    "def paso(dim):\n",
    "    paso=zeros(dim)\n",
    "    for m in range(dim):\n",
    "                paso[m]=(1-2*rand())\n",
    "    n = norma(paso)\n",
    "    for i in range(dim):\n",
    "        paso[i] = paso[i]/n\n",
    "        \n",
    "    return paso\n",
    "     "
   ]
  },
  {
   "cell_type": "code",
   "execution_count": 344,
   "metadata": {
    "collapsed": false
   },
   "outputs": [
    {
     "data": {
      "text/plain": [
       "1.0"
      ]
     },
     "execution_count": 344,
     "metadata": {},
     "output_type": "execute_result"
    }
   ],
   "source": [
    "caminata(1,2)\n",
    "norma(paso(2))"
   ]
  },
  {
   "cell_type": "code",
   "execution_count": 332,
   "metadata": {
    "collapsed": false
   },
   "outputs": [
    {
     "data": {
      "text/plain": [
       "1.3842806554559592"
      ]
     },
     "execution_count": 332,
     "metadata": {},
     "output_type": "execute_result"
    }
   ],
   "source": [
    "norma([ 0.99997451, -0.9572272 ])"
   ]
  },
  {
   "cell_type": "code",
   "execution_count": 320,
   "metadata": {
    "collapsed": false
   },
   "outputs": [
    {
     "data": {
      "text/plain": [
       "[<matplotlib.lines.Line2D at 0x7f5096eec748>]"
      ]
     },
     "execution_count": 320,
     "metadata": {},
     "output_type": "execute_result"
    },
    {
     "data": {
      "image/png": "[encoded data removed]",
      "text/plain": [
       "<matplotlib.figure.Figure at 0x7f5096f61160>"
      ]
     },
     "metadata": {},
     "output_type": "display_data"
    }
   ],
   "source": [
    "cam=caminata(1,2)\n",
    "\n",
    "plot(cam[:,0],cam[:,1],\"-o\")"
   ]
  }
 ],
 "metadata": {
  "anaconda-cloud": {},
  "kernelspec": {
   "display_name": "Python [Root]",
   "language": "python",
   "name": "Python [Root]"
  },
  "language_info": {
   "codemirror_mode": {
    "name": "ipython",
    "version": 3
   },
   "file_extension": ".py",
   "mimetype": "text/x-python",
   "name": "python",
   "nbconvert_exporter": "python",
   "pygments_lexer": "ipython3",
   "version": "3.5.2"
  }
 },
 "nbformat": 4,
 "nbformat_minor": 0
}
