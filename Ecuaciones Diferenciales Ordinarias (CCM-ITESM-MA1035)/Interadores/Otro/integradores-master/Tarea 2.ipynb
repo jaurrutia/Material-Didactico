{
 "cells": [
  {
   "cell_type": "markdown",
   "metadata": {},
   "source": [
    "# Tarea 2"
   ]
  },
  {
   "cell_type": "markdown",
   "metadata": {},
   "source": [
    "# Problema 1"
   ]
  },
  {
   "cell_type": "markdown",
   "metadata": {},
   "source": [
    "Hacer un programa para encontrar todas las raíces de una función en un intervalo cerrado suponiendo que la función realiza oscilaciones y entre cada oscilación hay al menos una raíz"
   ]
  },
  {
   "cell_type": "markdown",
   "metadata": {},
   "source": [
    "Se vieron en clase 2 métodos para encontrar raíces: bipartición y Newton. Se observó que el método de Newton resultaba inestable cuando se aplicaba a funciones periódicas. Se  usará por lo tanto el método de bipartición para resolver el problema. Notemos que el programa debe entregar como resultado TODAS las raíces. Deberemos por tanto modificar el programa hecho en clase de tal manera que este corra las veces necesarias para obtener todas las raíces.\n",
    "\n",
    "En primer lugar consideramos la hipótesis de que entre cada oscilación hay al menos una raíz. Deberemos buscar dentro del intervalo en el que deseamos encontrar todas las raíces una serie de puntos que determinen subintervalos donde se realice una oscilación (por ejemplo, en el caso del seno en el intervalo $[0,3 \\pi]$ los subintervalos serán de la forma $[\\pi/2,3 \\pi/2]$ , $[3 \\pi/2, 5 \\pi/2]$, ...). Estos puntos corresponden a extremos locales. Programamos una función que encuentre los máximos locales de una función:\n",
    "\n"
   ]
  },
  {
   "cell_type": "code",
   "execution_count": 1,
   "metadata": {
    "collapsed": true
   },
   "outputs": [],
   "source": [
    "from pylab import *\n",
    "from numpy import *\n",
    "%matplotlib inline\n",
    "from matplotlib import gridspec"
   ]
  },
  {
   "cell_type": "code",
   "execution_count": 37,
   "metadata": {
    "collapsed": false
   },
   "outputs": [],
   "source": [
    "#función para encontrar extremos locales (da al final del array x_der)\n",
    "def maximo(d_funcion,x_izq,x_der,particion): \n",
    "    puntos=[]  #Arreglo donde guardaremos los máximos locales\n",
    "    x = arange(x_izq,x_der+particion,particion) \n",
    "    j=0\n",
    "    for i in range(len(x)-1):\n",
    "        if d_funcion(x[i+1])*d_funcion(x[i])<=0:\n",
    "            puntos = append(puntos,x[i]+particion/2)  \n",
    "            j+=1 \n",
    "    puntos =append(puntos, x_der)    \n",
    "    return  puntos"
   ]
  },
  {
   "cell_type": "markdown",
   "metadata": {},
   "source": [
    "Programamos ahora los métodos de bipartición y Newton tal y como lo programamos en clase"
   ]
  },
  {
   "cell_type": "code",
   "execution_count": 38,
   "metadata": {
    "collapsed": false
   },
   "outputs": [],
   "source": [
    "def raiz_bip(funcion,x_izq,x_der,error=1e-8): \n",
    "        raiz = 0.5*(x_izq+x_der)\n",
    "        y_izq,y_der = funcion(x_izq),funcion(x_der)\n",
    "        n = 0\n",
    "        intervalo=[x_izq,x_der]\n",
    "        while abs(y_der)>=error:\n",
    "            n += 1\n",
    "            y_media = funcion(raiz)\n",
    "            if y_media == 0.:\n",
    "                break\n",
    "            if y_media*y_izq < 0:\n",
    "                x_der = raiz\n",
    "            else:\n",
    "                x_izq = raiz\n",
    "            raiz= 0.5*(x_izq+x_der)\n",
    "            y_izq,y_der = funcion(x_izq),funcion(x_der)\n",
    "            if n>=1000:         #Protegemos al proceso en contra de que encontremos maximos entre los que no haya raíces\n",
    "                break\n",
    "        if n<100:\n",
    "            print (\"número de pasos:\",n ,\",raíz:\",raiz, \"\\n\") \n",
    "        return  raiz"
   ]
  },
  {
   "cell_type": "code",
   "execution_count": 4,
   "metadata": {
    "collapsed": true
   },
   "outputs": [],
   "source": [
    "def mi_newton_1(func,d_func,x_ini,err=1e-8):\n",
    "    n=0\n",
    "    while abs(func(x_ini)) >= err:\n",
    "        raiz = x_ini - func(x_ini)/d_func(x_ini)\n",
    "        x_ini = raiz\n",
    "        n += 1\n",
    "    return raiz"
   ]
  },
  {
   "cell_type": "markdown",
   "metadata": {},
   "source": [
    "Ahora modificamos el programa visto en clase de tal manera que la función tome un intervalo, calcule los máximos locales, defina a partir de ellos subintervalos y aplique el método de bipartición para encontrar en cada subintervalo una raíz"
   ]
  },
  {
   "cell_type": "code",
   "execution_count": 43,
   "metadata": {
    "collapsed": false
   },
   "outputs": [],
   "source": [
    "def raiz_bip_osc(funcion,d_funcion,x_izq,x_der,part_max=0.01,error=1e-8):\n",
    "    extremos = maximo(d_funcion,x_izq,x_der,part_max)\n",
    "    raiz = []\n",
    "    for i in range(len(extremos)-1):\n",
    "        raiz=append(raiz,raiz_bip(funcion,extremos[i],extremos[i+1]))\n",
    "    return  raiz"
   ]
  },
  {
   "cell_type": "markdown",
   "metadata": {},
   "source": [
    "Notemos que el programa nos exige información de la función a la que le encontrará los ceros (el número aproximado de extremos en el intervalo)"
   ]
  },
  {
   "cell_type": "markdown",
   "metadata": {},
   "source": [
    "Ponemos ahora en práctica la función usando la función\n",
    "$$\n",
    "y(x)=cosx+ \\frac{6}{5}sinx^2\n",
    "$$"
   ]
  },
  {
   "cell_type": "code",
   "execution_count": 6,
   "metadata": {
    "collapsed": true
   },
   "outputs": [],
   "source": [
    "def funcion_prueba(x):\n",
    "    return cos(x)+(6/5)* sin(x**2)\n",
    "def d_funcion_prueba(x):\n",
    "    return -sin(x)+(12/5)*x*cos(x**2)"
   ]
  },
  {
   "cell_type": "code",
   "execution_count": 7,
   "metadata": {
    "collapsed": false
   },
   "outputs": [
    {
     "data": {
      "image/png": "[encoded data removed]",
      "text/plain": [
       "<matplotlib.figure.Figure at 0x7f2856007da0>"
      ]
     },
     "metadata": {},
     "output_type": "display_data"
    }
   ],
   "source": [
    "x=linspace(0,2*pi)\n",
    "plot(x,funcion_prueba(x))\n",
    "grid(True)\n",
    "show()"
   ]
  },
  {
   "cell_type": "markdown",
   "metadata": {},
   "source": [
    "Notamos que la función tiene aproximadamente 14 extremos en el intervalo pedido."
   ]
  },
  {
   "cell_type": "code",
   "execution_count": 51,
   "metadata": {
    "collapsed": false
   },
   "outputs": [
    {
     "name": "stdout",
     "output_type": "stream",
     "text": [
      "número de pasos: 29 ,raíz: 1.73377182377 \n",
      "\n",
      "número de pasos: 27 ,raíz: 2.6680907446 \n",
      "\n",
      "número de pasos: 28 ,raíz: 2.91173613792 \n",
      "\n",
      "número de pasos: 28 ,raíz: 3.65748885252 \n",
      "\n",
      "número de pasos: 26 ,raíz: 3.87851659377 \n",
      "\n",
      "número de pasos: 27 ,raíz: 4.37378837868 \n",
      "\n",
      "número de pasos: 27 ,raíz: 4.68723683173 \n",
      "\n",
      "número de pasos: 29 ,raíz: 4.99020598643 \n",
      "\n",
      "número de pasos: 27 ,raíz: 5.36717872907 \n",
      "\n",
      "número de pasos: 28 ,raíz: 5.54540053056 \n",
      "\n",
      "número de pasos: 27 ,raíz: 5.95538712695 \n",
      "\n",
      "número de pasos: 27 ,raíz: 6.06215494964 \n",
      "\n"
     ]
    }
   ],
   "source": [
    "raices1= raiz_bip_osc(funcion_prueba,d_funcion_prueba,0,2*pi,part_max=0.001,error=1e-8)"
   ]
  },
  {
   "cell_type": "code",
   "execution_count": 52,
   "metadata": {
    "collapsed": false
   },
   "outputs": [
    {
     "data": {
      "image/png": "[encoded data removed]",
      "text/plain": [
       "<matplotlib.figure.Figure at 0x7f285346d780>"
      ]
     },
     "metadata": {},
     "output_type": "display_data"
    }
   ],
   "source": [
    "x=linspace(0,2*pi)\n",
    "plot(x,funcion_prueba(x))\n",
    "grid(True)\n",
    "for i in range(len(raices1)-2):   \n",
    "    plot(raices1[i+1],[0],'o')\n",
    "show()"
   ]
  },
  {
   "cell_type": "markdown",
   "metadata": {},
   "source": [
    "# Problema 2"
   ]
  },
  {
   "cell_type": "markdown",
   "metadata": {},
   "source": [
    "Consideremos la siguiente función:\n",
    "$$\n",
    "f(x,y)= 2 e^{-(x+1)^2}(e^{-(y+2)^2}+e^{-(y-2)^2})+6x(x^2+y^2)e^{-(x^2+y^2)}-1\n",
    "$$\n",
    "\n",
    "Encontraremos los puntos (x,y) tales que $f(x,y)=0$"
   ]
  },
  {
   "cell_type": "code",
   "execution_count": 10,
   "metadata": {
    "collapsed": true
   },
   "outputs": [],
   "source": [
    "def funcion_2(x,y):\n",
    "    return 2*exp(-(x+1)**2)*(exp(-(y+2)**2)+exp(-(y-2)**2))+6*x*(x**2+y**2)*exp(-(x**2+y**2))-1\n",
    "def d_funcion_2(x,y):\n",
    "    return -12*x**2*(x**2 + y**2)*exp(-x**2 - y**2) + 12*x**2*exp(-x**2 - y**2) + 2*(-2*x - 2)*(exp(-(y + 2)**2) + exp(-(y - 2)**2))*exp(-(x + 1)**2) + 6*(x**2 + y**2)*exp(-x**2 - y**2)"
   ]
  },
  {
   "cell_type": "markdown",
   "metadata": {},
   "source": [
    "Grafiquemos cortes de la función dada:"
   ]
  },
  {
   "cell_type": "code",
   "execution_count": 11,
   "metadata": {
    "collapsed": false
   },
   "outputs": [
    {
     "data": {
      "image/png": "[encoded data removed]",
      "text/plain": [
       "<matplotlib.figure.Figure at 0x7f2853af5358>"
      ]
     },
     "metadata": {},
     "output_type": "display_data"
    },
    {
     "data": {
      "image/png": "[encoded data removed]",
      "text/plain": [
       "<matplotlib.figure.Figure at 0x7f2853aeeb00>"
      ]
     },
     "metadata": {},
     "output_type": "display_data"
    }
   ],
   "source": [
    "x=linspace(-6,6)\n",
    "for i in range(10):\n",
    "    plot(x,funcion_2(x,i),label=\"y=%s\"%i)\n",
    "    xlim([-6,6]),ylim([-4,2])\n",
    "    axes().set_aspect('equal'),grid(True)\n",
    "    plt.title(u'Cortes en y' )\n",
    "    legend()\n",
    "show()\n",
    "\n",
    "for i in range(10):\n",
    "    plot(x,funcion_2(i,x),label=\"x=%s\"%i)\n",
    "    xlim([-6,6]),ylim([-1.2,2])\n",
    "    axes().set_aspect('equal'),grid(True)\n",
    "    plt.title(u'Cortes en x' )\n",
    "    legend()\n"
   ]
  },
  {
   "cell_type": "markdown",
   "metadata": {
    "collapsed": false
   },
   "source": [
    "De los cortes podemos ver que la función se hace cero para x y y menores a 3. No se espera que haya más ceros a x (o y) mayores debido a que, observando la función vemos que no hay ningún tipo de comportamiento periódico que permita pensar que una vez que las curvas de nivel ya no cruzan el cero otra curva con mayor x (o y )vuelva a hacerlo. \n",
    "\n",
    "Para encontrar los puntos en los que la función se hace cero usaremos nuevamente el método de bipartición que programamos en clase, metiendo a nuestra función con una de las dos variables constante, para obtener una función de una sola variable. Luego de eso el programa aplicará el método de bipartición normalmente."
   ]
  },
  {
   "cell_type": "code",
   "execution_count": 12,
   "metadata": {
    "collapsed": false
   },
   "outputs": [],
   "source": [
    "def new_vec(funcion,d_funcion,indice,a,x_ini,error=1e-8):\n",
    "    if indice == 1:\n",
    "        def funcion1var(x):\n",
    "            return funcion(x,a)\n",
    "        def d_funcion1var(x):\n",
    "            return d_funcion(x,a)\n",
    "    if indice == 2:\n",
    "        def funcion1var(x):\n",
    "            return funcion(a,x)\n",
    "        def d_funcion1var(x):\n",
    "            return d_funcion(a,x)\n",
    "    raiz = mi_newton_1(funcion1var,d_funcion1var,x_ini,err=1e-8)\n",
    "    return raiz"
   ]
  },
  {
   "cell_type": "code",
   "execution_count": 54,
   "metadata": {
    "collapsed": false
   },
   "outputs": [],
   "source": [
    "def bip_vec(funcion,d_funcion,indice,a,x_izq,x_der,parx,error=1e-8):\n",
    "    puntos = zeros(10)\n",
    "    if indice == 1:\n",
    "        def funcion1var(x):\n",
    "            return funcion(x,a)\n",
    "        def d_funcion1var(x):\n",
    "            return d_funcion(x,a)\n",
    "    if indice == 2:\n",
    "        def funcion1var(x):\n",
    "            return funcion(a,x)\n",
    "        def d_funcion1var(x):\n",
    "            return d_funcion(a,x)\n",
    "    \n",
    "    raiz  = raiz_bip_osc(funcion1var,d_funcion1var,x_izq,x_der,parx) \n",
    "    return raiz"
   ]
  },
  {
   "cell_type": "markdown",
   "metadata": {},
   "source": [
    "Ahora usamos esta función para encontrar las raíces de las curvas de corte con y constante y con x variando en el intervalo $[-4,4]$"
   ]
  },
  {
   "cell_type": "code",
   "execution_count": 63,
   "metadata": {
    "collapsed": false
   },
   "outputs": [
    {
     "name": "stdout",
     "output_type": "stream",
     "text": [
      "número de pasos: 26 ,raíz: 0.626031147316 \n",
      "\n",
      "número de pasos: 28 ,raíz: 1.94692862029 \n",
      "\n"
     ]
    },
    {
     "data": {
      "text/plain": [
       "array([-0.055     ,  0.055     ,  0.62603115,  1.94692862])"
      ]
     },
     "execution_count": 63,
     "metadata": {},
     "output_type": "execute_result"
    }
   ],
   "source": [
    "bip_vec(funcion_2,d_funcion_2,1,0,-4,4,0.01,error=1e-8)"
   ]
  },
  {
   "cell_type": "code",
   "execution_count": 58,
   "metadata": {
    "collapsed": false
   },
   "outputs": [
    {
     "ename": "ValueError",
     "evalue": "The truth value of an array with more than one element is ambiguous. Use a.any() or a.all()",
     "output_type": "error",
     "traceback": [
      "\u001b[1;31m---------------------------------------------------------------------------\u001b[0m",
      "\u001b[1;31mValueError\u001b[0m                                Traceback (most recent call last)",
      "\u001b[1;32m<ipython-input-58-2c27c581abf0>\u001b[0m in \u001b[0;36m<module>\u001b[1;34m()\u001b[0m\n\u001b[0;32m      2\u001b[0m \u001b[0my\u001b[0m\u001b[1;33m=\u001b[0m\u001b[0marange\u001b[0m\u001b[1;33m(\u001b[0m\u001b[1;33m-\u001b[0m\u001b[1;36m4\u001b[0m\u001b[1;33m,\u001b[0m\u001b[1;36m4\u001b[0m\u001b[1;33m,\u001b[0m\u001b[0mparticiony\u001b[0m\u001b[1;33m)\u001b[0m\u001b[1;33m\u001b[0m\u001b[0m\n\u001b[0;32m      3\u001b[0m \u001b[1;32mfor\u001b[0m \u001b[0mi\u001b[0m \u001b[1;32min\u001b[0m \u001b[0mrange\u001b[0m\u001b[1;33m(\u001b[0m\u001b[0mlen\u001b[0m\u001b[1;33m(\u001b[0m\u001b[0my\u001b[0m\u001b[1;33m)\u001b[0m\u001b[1;33m)\u001b[0m\u001b[1;33m:\u001b[0m\u001b[1;33m\u001b[0m\u001b[0m\n\u001b[1;32m----> 4\u001b[1;33m     \u001b[0mbip_vec\u001b[0m\u001b[1;33m(\u001b[0m\u001b[0mfuncion_2\u001b[0m\u001b[1;33m,\u001b[0m\u001b[0md_funcion_2\u001b[0m\u001b[1;33m,\u001b[0m\u001b[1;36m1\u001b[0m\u001b[1;33m,\u001b[0m\u001b[0my\u001b[0m\u001b[1;33m,\u001b[0m\u001b[1;33m-\u001b[0m\u001b[1;36m4\u001b[0m\u001b[1;33m,\u001b[0m\u001b[1;36m4\u001b[0m\u001b[1;33m,\u001b[0m\u001b[1;36m0.01\u001b[0m\u001b[1;33m,\u001b[0m\u001b[0merror\u001b[0m\u001b[1;33m=\u001b[0m\u001b[1;36m1e-8\u001b[0m\u001b[1;33m)\u001b[0m\u001b[1;33m\u001b[0m\u001b[0m\n\u001b[0m\u001b[0;32m      5\u001b[0m     \u001b[0my\u001b[0m\u001b[1;33m+=\u001b[0m\u001b[0mparticiony\u001b[0m\u001b[1;33m\u001b[0m\u001b[0m\n",
      "\u001b[1;32m<ipython-input-54-3d429dbdafd3>\u001b[0m in \u001b[0;36mbip_vec\u001b[1;34m(funcion, d_funcion, indice, a, x_izq, x_der, parx, error)\u001b[0m\n\u001b[0;32m     12\u001b[0m             \u001b[1;32mreturn\u001b[0m \u001b[0md_funcion\u001b[0m\u001b[1;33m(\u001b[0m\u001b[0ma\u001b[0m\u001b[1;33m,\u001b[0m\u001b[0mx\u001b[0m\u001b[1;33m)\u001b[0m\u001b[1;33m\u001b[0m\u001b[0m\n\u001b[0;32m     13\u001b[0m \u001b[1;33m\u001b[0m\u001b[0m\n\u001b[1;32m---> 14\u001b[1;33m     \u001b[0mraiz\u001b[0m  \u001b[1;33m=\u001b[0m \u001b[0mraiz_bip_osc\u001b[0m\u001b[1;33m(\u001b[0m\u001b[0mfuncion1var\u001b[0m\u001b[1;33m,\u001b[0m\u001b[0md_funcion1var\u001b[0m\u001b[1;33m,\u001b[0m\u001b[0mx_izq\u001b[0m\u001b[1;33m,\u001b[0m\u001b[0mx_der\u001b[0m\u001b[1;33m,\u001b[0m\u001b[0mparx\u001b[0m\u001b[1;33m)\u001b[0m\u001b[1;33m\u001b[0m\u001b[0m\n\u001b[0m\u001b[0;32m     15\u001b[0m     \u001b[1;32mreturn\u001b[0m \u001b[0mraiz\u001b[0m\u001b[1;33m\u001b[0m\u001b[0m\n",
      "\u001b[1;32m<ipython-input-43-9f8453333c39>\u001b[0m in \u001b[0;36mraiz_bip_osc\u001b[1;34m(funcion, d_funcion, x_izq, x_der, part_max, error)\u001b[0m\n\u001b[0;32m      1\u001b[0m \u001b[1;32mdef\u001b[0m \u001b[0mraiz_bip_osc\u001b[0m\u001b[1;33m(\u001b[0m\u001b[0mfuncion\u001b[0m\u001b[1;33m,\u001b[0m\u001b[0md_funcion\u001b[0m\u001b[1;33m,\u001b[0m\u001b[0mx_izq\u001b[0m\u001b[1;33m,\u001b[0m\u001b[0mx_der\u001b[0m\u001b[1;33m,\u001b[0m\u001b[0mpart_max\u001b[0m\u001b[1;33m=\u001b[0m\u001b[1;36m0.01\u001b[0m\u001b[1;33m,\u001b[0m\u001b[0merror\u001b[0m\u001b[1;33m=\u001b[0m\u001b[1;36m1e-8\u001b[0m\u001b[1;33m)\u001b[0m\u001b[1;33m:\u001b[0m\u001b[1;33m\u001b[0m\u001b[0m\n\u001b[1;32m----> 2\u001b[1;33m     \u001b[0mextremos\u001b[0m \u001b[1;33m=\u001b[0m \u001b[0mmaximo\u001b[0m\u001b[1;33m(\u001b[0m\u001b[0md_funcion\u001b[0m\u001b[1;33m,\u001b[0m\u001b[0mx_izq\u001b[0m\u001b[1;33m,\u001b[0m\u001b[0mx_der\u001b[0m\u001b[1;33m,\u001b[0m\u001b[0mpart_max\u001b[0m\u001b[1;33m)\u001b[0m\u001b[1;33m\u001b[0m\u001b[0m\n\u001b[0m\u001b[0;32m      3\u001b[0m     \u001b[0mraiz\u001b[0m \u001b[1;33m=\u001b[0m \u001b[1;33m[\u001b[0m\u001b[1;33m]\u001b[0m\u001b[1;33m\u001b[0m\u001b[0m\n\u001b[0;32m      4\u001b[0m     \u001b[1;32mfor\u001b[0m \u001b[0mi\u001b[0m \u001b[1;32min\u001b[0m \u001b[0mrange\u001b[0m\u001b[1;33m(\u001b[0m\u001b[0mlen\u001b[0m\u001b[1;33m(\u001b[0m\u001b[0mextremos\u001b[0m\u001b[1;33m)\u001b[0m\u001b[1;33m-\u001b[0m\u001b[1;36m1\u001b[0m\u001b[1;33m)\u001b[0m\u001b[1;33m:\u001b[0m\u001b[1;33m\u001b[0m\u001b[0m\n\u001b[0;32m      5\u001b[0m         \u001b[0mraiz\u001b[0m\u001b[1;33m=\u001b[0m\u001b[0mappend\u001b[0m\u001b[1;33m(\u001b[0m\u001b[0mraiz\u001b[0m\u001b[1;33m,\u001b[0m\u001b[0mraiz_bip\u001b[0m\u001b[1;33m(\u001b[0m\u001b[0mfuncion\u001b[0m\u001b[1;33m,\u001b[0m\u001b[0mextremos\u001b[0m\u001b[1;33m[\u001b[0m\u001b[0mi\u001b[0m\u001b[1;33m]\u001b[0m\u001b[1;33m,\u001b[0m\u001b[0mextremos\u001b[0m\u001b[1;33m[\u001b[0m\u001b[0mi\u001b[0m\u001b[1;33m+\u001b[0m\u001b[1;36m1\u001b[0m\u001b[1;33m]\u001b[0m\u001b[1;33m)\u001b[0m\u001b[1;33m)\u001b[0m\u001b[1;33m\u001b[0m\u001b[0m\n",
      "\u001b[1;32m<ipython-input-37-a577ecdf4073>\u001b[0m in \u001b[0;36mmaximo\u001b[1;34m(d_funcion, x_izq, x_der, particion)\u001b[0m\n\u001b[0;32m      5\u001b[0m     \u001b[0mj\u001b[0m\u001b[1;33m=\u001b[0m\u001b[1;36m0\u001b[0m\u001b[1;33m\u001b[0m\u001b[0m\n\u001b[0;32m      6\u001b[0m     \u001b[1;32mfor\u001b[0m \u001b[0mi\u001b[0m \u001b[1;32min\u001b[0m \u001b[0mrange\u001b[0m\u001b[1;33m(\u001b[0m\u001b[0mlen\u001b[0m\u001b[1;33m(\u001b[0m\u001b[0mx\u001b[0m\u001b[1;33m)\u001b[0m\u001b[1;33m-\u001b[0m\u001b[1;36m1\u001b[0m\u001b[1;33m)\u001b[0m\u001b[1;33m:\u001b[0m\u001b[1;33m\u001b[0m\u001b[0m\n\u001b[1;32m----> 7\u001b[1;33m         \u001b[1;32mif\u001b[0m \u001b[0md_funcion\u001b[0m\u001b[1;33m(\u001b[0m\u001b[0mx\u001b[0m\u001b[1;33m[\u001b[0m\u001b[0mi\u001b[0m\u001b[1;33m+\u001b[0m\u001b[1;36m1\u001b[0m\u001b[1;33m]\u001b[0m\u001b[1;33m)\u001b[0m\u001b[1;33m*\u001b[0m\u001b[0md_funcion\u001b[0m\u001b[1;33m(\u001b[0m\u001b[0mx\u001b[0m\u001b[1;33m[\u001b[0m\u001b[0mi\u001b[0m\u001b[1;33m]\u001b[0m\u001b[1;33m)\u001b[0m\u001b[1;33m<=\u001b[0m\u001b[1;36m0\u001b[0m\u001b[1;33m:\u001b[0m\u001b[1;33m\u001b[0m\u001b[0m\n\u001b[0m\u001b[0;32m      8\u001b[0m             \u001b[0mpuntos\u001b[0m \u001b[1;33m=\u001b[0m \u001b[0mappend\u001b[0m\u001b[1;33m(\u001b[0m\u001b[0mpuntos\u001b[0m\u001b[1;33m,\u001b[0m\u001b[0mx\u001b[0m\u001b[1;33m[\u001b[0m\u001b[0mi\u001b[0m\u001b[1;33m]\u001b[0m\u001b[1;33m+\u001b[0m\u001b[0mparticion\u001b[0m\u001b[1;33m/\u001b[0m\u001b[1;36m2\u001b[0m\u001b[1;33m)\u001b[0m\u001b[1;33m\u001b[0m\u001b[0m\n\u001b[0;32m      9\u001b[0m             \u001b[0mj\u001b[0m\u001b[1;33m+=\u001b[0m\u001b[1;36m1\u001b[0m\u001b[1;33m\u001b[0m\u001b[0m\n",
      "\u001b[1;31mValueError\u001b[0m: The truth value of an array with more than one element is ambiguous. Use a.any() or a.all()"
     ]
    }
   ],
   "source": [
    "particiony=0.1\n",
    "y=arange(-4,4,particiony)\n",
    "for i in range(len(y)): \n",
    "    bip_vec(funcion_2,d_funcion_2,1,y,-4,4,0.01,error=1e-8)\n",
    "    y+=particiony"
   ]
  },
  {
   "cell_type": "code",
   "execution_count": 49,
   "metadata": {
    "collapsed": false
   },
   "outputs": [
    {
     "name": "stdout",
     "output_type": "stream",
     "text": [
      "y=-4.0\n",
      "y=-3.9\n",
      "y=-3.8\n",
      "y=-3.7\n",
      "y=-3.6\n",
      "y=-3.5\n",
      "y=-3.4\n",
      "y=-3.3\n",
      "y=-3.2\n",
      "y=-3.1\n",
      "y=-3.0\n",
      "y=-2.9\n",
      "y=-2.8\n",
      "y=-2.7\n",
      "y=-2.6\n",
      "y=-2.5\n",
      "y=-2.4\n",
      "y=-2.3\n",
      "y=-2.2\n",
      "y=-2.1\n",
      "y=-2.0\n",
      "y=-1.9\n",
      "y=-1.8\n",
      "y=-1.7\n",
      "y=-1.6\n",
      "y=-1.5\n",
      "y=-1.4\n",
      "y=-1.3\n",
      "y=-1.2\n",
      "y=-1.1\n",
      "y=-1.0\n",
      "y=-0.9\n",
      "y=-0.8\n",
      "y=-0.7\n",
      "y=-0.6\n",
      "y=-0.5\n",
      "y=-0.4\n",
      "y=-0.3\n",
      "y=-0.2\n",
      "y=-0.1\n",
      "y=3.5527136788e-15\n",
      "y=0.1\n",
      "y=0.2\n",
      "y=0.3\n",
      "y=0.4\n",
      "y=0.5\n",
      "y=0.6\n",
      "y=0.7\n",
      "y=0.8\n",
      "y=0.9\n",
      "y=1.0\n",
      "y=1.1\n",
      "y=1.2\n",
      "y=1.3\n",
      "y=1.4\n",
      "y=1.5\n",
      "y=1.6\n",
      "y=1.7\n",
      "y=1.8\n",
      "y=1.9\n",
      "y=2.0\n",
      "y=2.1\n",
      "y=2.2\n",
      "y=2.3\n",
      "y=2.4\n",
      "y=2.5\n",
      "y=2.6\n",
      "y=2.7\n",
      "y=2.8\n",
      "y=2.9\n",
      "y=3.0\n",
      "y=3.1\n",
      "y=3.2\n",
      "y=3.3\n",
      "y=3.4\n",
      "y=3.5\n",
      "y=3.6\n",
      "y=3.7\n",
      "y=3.8\n",
      "y=3.9\n",
      "y=4.0\n"
     ]
    }
   ],
   "source": [
    "\n",
    "    "
   ]
  },
  {
   "cell_type": "code",
   "execution_count": null,
   "metadata": {
    "collapsed": true
   },
   "outputs": [],
   "source": []
  }
 ],
 "metadata": {
  "anaconda-cloud": {},
  "kernelspec": {
   "display_name": "Python [Root]",
   "language": "python",
   "name": "Python [Root]"
  },
  "language_info": {
   "codemirror_mode": {
    "name": "ipython",
    "version": 3
   },
   "file_extension": ".py",
   "mimetype": "text/x-python",
   "name": "python",
   "nbconvert_exporter": "python",
   "pygments_lexer": "ipython3",
   "version": "3.5.2"
  }
 },
 "nbformat": 4,
 "nbformat_minor": 0
}
