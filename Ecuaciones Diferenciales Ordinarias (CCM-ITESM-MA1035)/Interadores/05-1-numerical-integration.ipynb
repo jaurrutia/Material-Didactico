{
 "cells": [
  {
   "cell_type": "markdown",
   "metadata": {
    "editable": true,
    "hide_input": false,
    "run_control": {
     "marked": false
    },
    "slideshow": {
     "slide_type": "slide"
    },
    "tags": []
   },
   "source": [
    "# Integración Númerica"
   ]
  },
  {
   "cell_type": "code",
   "execution_count": 7,
   "metadata": {
    "hide_input": false,
    "init_cell": true,
    "run_control": {
     "marked": false
    },
    "slideshow": {
     "slide_type": "skip"
    }
   },
   "outputs": [
    {
     "name": "stdout",
     "output_type": "stream",
     "text": [
      "The autoreload extension is already loaded. To reload it, use:\n",
      "  %reload_ext autoreload\n"
     ]
    }
   ],
   "source": [
    "%load_ext autoreload\n",
    "%autoreload 1\n",
    "%aimport numa_teaching.formatting\n",
    "from numa_teaching.formatting import fltx, nan_sp"
   ]
  },
  {
   "cell_type": "code",
   "execution_count": 8,
   "metadata": {
    "hide_input": false,
    "init_cell": true,
    "run_control": {
     "marked": false
    },
    "slideshow": {
     "slide_type": "skip"
    }
   },
   "outputs": [],
   "source": [
    "# sympy\n",
    "from sympy import init_printing\n",
    "from sympy import I, nroots, lambdify, diff, latex, symbols, pi, interpolating_poly, cos, N, integrate, Integral, exp, solve\n",
    "from sympy.abc import x, epsilon, alpha\n",
    "import operator\n",
    "import functools\n",
    "init_printing()\n",
    "#init_printing(use_latex=False)"
   ]
  },
  {
   "cell_type": "code",
   "execution_count": 9,
   "metadata": {
    "hide_input": false,
    "init_cell": true,
    "run_control": {
     "marked": false
    },
    "slideshow": {
     "slide_type": "skip"
    }
   },
   "outputs": [],
   "source": [
    "# numpy, pandas, matplotlib\n",
    "import numpy as np\n",
    "import pandas as pd\n",
    "import matplotlib.pyplot as plt"
   ]
  },
  {
   "cell_type": "code",
   "execution_count": 10,
   "metadata": {
    "hide_input": false,
    "init_cell": true,
    "run_control": {
     "marked": false
    },
    "slideshow": {
     "slide_type": "skip"
    }
   },
   "outputs": [],
   "source": [
    "%matplotlib inline\n",
    "plt.rcParams[\"figure.figsize\"] = [12, 9] # ancho, alto de figuras\n",
    "plt.rcParams[\"font.size\"] = 20"
   ]
  },
  {
   "cell_type": "code",
   "execution_count": 38,
   "metadata": {
    "code_folding": [],
    "hide_input": false,
    "init_cell": true,
    "run_control": {
     "marked": false
    },
    "slideshow": {
     "slide_type": "skip"
    }
   },
   "outputs": [],
   "source": [
    "# Jupyter/ IPython formatting\n",
    "from IPython.display import Math, Latex"
   ]
  },
  {
   "cell_type": "code",
   "execution_count": 12,
   "metadata": {
    "hide_input": false,
    "init_cell": true,
    "run_control": {
     "marked": false
    },
    "slideshow": {
     "slide_type": "skip"
    }
   },
   "outputs": [],
   "source": [
    "from collections import namedtuple\n",
    "from itertools import zip_longest"
   ]
  },
  {
   "cell_type": "markdown",
   "metadata": {
    "hide_input": false,
    "run_control": {
     "marked": false
    },
    "slideshow": {
     "slide_type": "skip"
    }
   },
   "source": [
    "Latex macros\n",
    "$$ \n",
    "\\newcommand{\\d}{\\mathrm{d}}\n",
    "\\DeclareMathOperator{\\deg}{deg}\n",
    "$$"
   ]
  },
  {
   "cell_type": "markdown",
   "metadata": {
    "hide_input": false,
    "run_control": {
     "marked": false
    },
    "slideshow": {
     "slide_type": "slide"
    }
   },
   "source": [
    "## Integración\n",
    "\n",
    "Como evaluamos\n",
    "$$\n",
    "I = \\int_a^b f(x) \\,\\d x\n",
    "$$\n",
    "Con $F(x)$ la anti-derivada de $f(x)$ podemos usar\n",
    "$$\n",
    "I = \\int_a^b f(x) \\,\\d x = F(x)\\bigr|_a^b = F(b) - F(a)\n",
    "$$\n",
    "En la practica, no siempre es posible encontrar la anti-derivada. E incluso en estos casos puede ser más eficiente usar una metodo numérico para la evaluación del integral"
   ]
  },
  {
   "cell_type": "markdown",
   "metadata": {
    "hide_input": false,
    "run_control": {
     "marked": false
    },
    "slideshow": {
     "slide_type": "subslide"
    }
   },
   "source": [
    "### Un integral complicado"
   ]
  },
  {
   "cell_type": "code",
   "execution_count": 13,
   "metadata": {
    "hide_input": false,
    "run_control": {
     "marked": false
    }
   },
   "outputs": [
    {
     "data": {
      "image/png": "[encoded data removed]",
      "text/latex": [
       "$\\displaystyle \\int\\limits_{0}^{1} \\frac{1}{x^{5} + 1}\\, dx$"
      ],
      "text/plain": [
       "1          \n",
       "⌠          \n",
       "⎮   1      \n",
       "⎮ ────── dx\n",
       "⎮  5       \n",
       "⎮ x  + 1   \n",
       "⌡          \n",
       "0          "
      ]
     },
     "execution_count": 13,
     "metadata": {},
     "output_type": "execute_result"
    }
   ],
   "source": [
    "f1 = 1/(1 + x**5)\n",
    "I1 = Integral(f1, (x, 0, 1)); I1"
   ]
  },
  {
   "cell_type": "markdown",
   "metadata": {
    "hide_input": false,
    "run_control": {
     "marked": false
    },
    "variables": {
     "Math(\"{}\".format(latex(f1)))": "$\\displaystyle \\frac{1}{x^{5} + 1}$"
    }
   },
   "source": [
    "La antiderivada de \n",
    "{{Math(\"{}\".format(latex(f1)))}}\n",
    "tiene una forma complicada y no es fácil encontrarla a mano"
   ]
  },
  {
   "cell_type": "code",
   "execution_count": 14,
   "metadata": {
    "hide_input": false,
    "run_control": {
     "marked": false
    }
   },
   "outputs": [
    {
     "data": {
      "image/png": "[encoded data removed]",
      "text/latex": [
       "$\\displaystyle \\frac{\\log{\\left(x + 1 \\right)}}{5} + \\operatorname{RootSum} {\\left(625 t^{4} + 125 t^{3} + 25 t^{2} + 5 t + 1, \\left( t \\mapsto t \\log{\\left(5 t + x \\right)} \\right)\\right)}$"
      ],
      "text/plain": [
       "log(x + 1)          ⎛     4        3       2                              ⎞\n",
       "────────── + RootSum⎝625⋅t  + 125⋅t  + 25⋅t  + 5⋅t + 1, t ↦ t⋅log(5⋅t + x)⎠\n",
       "    5                                                                      "
      ]
     },
     "execution_count": 14,
     "metadata": {},
     "output_type": "execute_result"
    }
   ],
   "source": [
    "integrate(f1, x)"
   ]
  },
  {
   "cell_type": "code",
   "execution_count": 15,
   "metadata": {
    "hide_input": false,
    "run_control": {
     "marked": false
    },
    "slideshow": {
     "slide_type": "subslide"
    }
   },
   "outputs": [],
   "source": [
    "I1_e = integrate(f1, (x, 0, 1)).evalf()"
   ]
  },
  {
   "cell_type": "code",
   "execution_count": 16,
   "metadata": {
    "hide_input": false,
    "run_control": {
     "marked": false
    },
    "slideshow": {
     "slide_type": "skip"
    }
   },
   "outputs": [],
   "source": [
    "init_printing(use_latex=False)"
   ]
  },
  {
   "cell_type": "markdown",
   "metadata": {
    "hide_input": false,
    "run_control": {
     "marked": false
    },
    "slideshow": {
     "slide_type": "-"
    },
    "variables": {
     "Math(\"{} = {}\".format(latex(I1), fltx(float(I1_e), 15, raw=True)) )": "$\\displaystyle \\int\\limits_{0}^{1} \\frac{1}{x^{5} + 1}\\, dx = 0.888313572651789$"
    }
   },
   "source": [
    "El valor númerico de la integral es \n",
    "{{Math(\"{} = {}\".format(latex(I1), fltx(float(I1_e), 15, raw=True)) )}}"
   ]
  },
  {
   "cell_type": "code",
   "execution_count": 17,
   "metadata": {
    "hide_input": false,
    "run_control": {
     "marked": false
    }
   },
   "outputs": [],
   "source": [
    "from scipy.integrate import quad\n",
    "f1n = lambdify(x, f1)\n",
    "I1_n, I1_err = quad(f1n, 0, 1)"
   ]
  },
  {
   "cell_type": "markdown",
   "metadata": {
    "hide_input": false,
    "run_control": {
     "marked": false
    },
    "variables": {
     "Math(\"{} = {}\".format(latex(I1), fltx(I1_n, 15, raw=True)))": "$\\displaystyle \\int\\limits_{0}^{1} \\frac{1}{x^{5} + 1}\\, dx = 0.888313572651789$",
     "fltx(I1_err)": "$3.704 \\times 10^{-11}$"
    }
   },
   "source": [
    "Con evaluación numérica obtenemos\n",
    "{{Math(\"{} = {}\".format(latex(I1), fltx(I1_n, 15, raw=True)))}}\n",
    "con un error estimado de {{fltx(I1_err)}}."
   ]
  },
  {
   "cell_type": "code",
   "execution_count": 18,
   "metadata": {
    "hide_input": false,
    "run_control": {
     "marked": false
    }
   },
   "outputs": [
    {
     "name": "stdout",
     "output_type": "stream",
     "text": [
      "1.25 s ± 0 ns per loop (mean ± std. dev. of 1 run, 1 loop each)\n",
      "28.4 µs ± 0 ns per loop (mean ± std. dev. of 1 run, 1 loop each)\n",
      "12.2 µs ± 0 ns per loop (mean ± std. dev. of 1 run, 1000 loops each)\n"
     ]
    }
   ],
   "source": [
    "# Tiempo de evaluación\n",
    "%timeit -n1 -r1 integrate(f1, (x, 0, 1)).evalf()\n",
    "%timeit -n1 -r1 quad(f1n, 0, 1)\n",
    "%timeit -n1000 -r1 quad(f1n, 0, 1)"
   ]
  },
  {
   "cell_type": "markdown",
   "metadata": {
    "hide_input": false,
    "run_control": {
     "marked": false
    },
    "slideshow": {
     "slide_type": "slide"
    }
   },
   "source": [
    "## Marco generál para integración numérica\n",
    "\n",
    "Utilizamos la mísma idea que antes: buscamos un problema que podemos resolver, que es cerca al problema original. Para evaluar\n",
    "$$\n",
    "I = \\int_a^b f(x) \\,\\d x\n",
    "$$\n",
    "buscamos una función $\\tilde f(x)$ que aproxima $f(x)$. Ahora evaluamos\n",
    "$$\n",
    "I \\approx \\int_a^b \\tilde f(x) \\,\\d x \\equiv \\tilde I\n",
    "$$"
   ]
  },
  {
   "cell_type": "markdown",
   "metadata": {
    "collapsed": true,
    "hide_input": false,
    "jupyter": {
     "outputs_hidden": true
    },
    "run_control": {
     "marked": false
    },
    "slideshow": {
     "slide_type": "subslide"
    }
   },
   "source": [
    "### Error de la aproximación\n",
    "\n",
    "\\begin{align}\n",
    "E   &= I - \\tilde I = \\int_a^b \\bigl[ f(x) - \\tilde f(x) \\bigr]\\, \\d x\\\\\n",
    "|E| &\\leq \\int_a^b \\bigl| f(x) - \\tilde f(x) \\bigr|\\, \\d x\\\\\n",
    "    &\\leq (b-a) \\bigl|\\bigl| f - \\tilde f \\bigr|\\bigr|_\\infty\\\\\n",
    "\\bigl|\\bigl| f - \\tilde f \\bigr|\\bigr|_\\infty &\\equiv \\max_{a \\leq x \\leq b} \\bigl| f - \\tilde f \\bigr| \\\\  \n",
    "\\end{align}"
   ]
  },
  {
   "cell_type": "markdown",
   "metadata": {
    "hide_input": false,
    "run_control": {
     "marked": false
    },
    "slideshow": {
     "slide_type": "subslide"
    }
   },
   "source": [
    "### Posibles aproximaciones\n",
    "\n",
    "Nos interesan aproximantes $\\tilde f(x)$ que se puenden integrar *faxilmente y en forma cerada*. Ejemplos son *polinomios*, *funciones trigonmetricos*, *polinomios por partes*.\n",
    "\n",
    "Para aproximaciones por polinomios tenemos las posibilidades\n",
    "\n",
    "1. *Polinomios de Taylor* para $f(x)$\n",
    "2. *Polinomios interpolantes* para $f(x)$"
   ]
  },
  {
   "cell_type": "markdown",
   "metadata": {
    "hide_input": false,
    "run_control": {
     "marked": false
    },
    "slideshow": {
     "slide_type": "subslide"
    }
   },
   "source": [
    "### Ejemplo\n",
    "\n",
    "$$\n",
    "I = \\int_0^1 e^{x^2}\\, \\d x\n",
    "$$\n",
    "Utilizamos\n",
    "\\begin{align}\n",
    "e^t &=  1 + t + \\frac{1}{2!} t^2 + \\dots + \\frac{1}{n!} t^n + \\frac{1}{(n+1)!} t^{n+1} e^{c_t} \\\\\n",
    "e^{x^2} &=  1 + x^2 + \\frac{1}{2!} x^4 + \\dots + \\frac{1}{n!} x^{2n} + \\frac{1}{(n+1)!} x^{2n+2} e^{d_x} \\\\\n",
    "\\end{align}\n",
    "con $0 \\leq d_x \\leq x^2$. Obtenemos ahora\n",
    "\\begin{multline}\n",
    "I = \\int_0^1 \\bigl[ 1 + x^2 + \\frac{1}{2!} x^4 + \\dots + \\frac{1}{n!} x^{2} \\bigr] \\,\\d x \\\\\n",
    "+ \\frac{1}{(n + 1)!} \\int_0^1 \\bigl[ x^{2n+2} e^{d_x} \\bigr] \\,\\d x\\\\\n",
    "\\end{multline}\n"
   ]
  },
  {
   "cell_type": "markdown",
   "metadata": {
    "hide_input": false,
    "run_control": {
     "marked": false
    },
    "slideshow": {
     "slide_type": "subslide"
    }
   },
   "source": [
    "\\begin{multline}\n",
    "I = \\int_0^1 \\bigl[ 1 + x^2 + \\frac{1}{2!} x^4 + \\dots + \\frac{1}{n!} x^{2} \\bigr] \\,\\d x \\\\\n",
    "+ \\frac{1}{(n + 1)!} \\int_0^1 \\bigl[ x^{2n+2} e^{d_x} \\bigr] \\,\\d x\\\\\n",
    "\\end{multline}\n",
    "\n",
    "Para $n = 3$ obtenemos\n",
    "\\begin{align}\n",
    "I &= 1 + \\frac{1}{3} + \\frac{1}{10} + \\frac{1}{42} + E = 1.4571 + E\\\\\n",
    "0 < E &\\leq \\frac{e}{24} \\int_0^1 x^8\\,\\d x = \\frac{e}{216} = 0.0126\n",
    "\\end{align}\n"
   ]
  },
  {
   "cell_type": "markdown",
   "metadata": {
    "hide_input": false,
    "run_control": {
     "marked": false
    },
    "slideshow": {
     "slide_type": "slide"
    }
   },
   "source": [
    "## Integración usando polinomios interpolantes\n",
    "\n",
    "En general es más difícil construir metodos para la integración numérica a partir de polinomios de Taylor que es usando polinomios interpolantes. Entonces vamos a construir nuestro $\\tilde f$ en \n",
    "$$\n",
    "\\int_a^b f(x)\\,\\d x \\approx \\int_a^b \\tilde f(x)\\,\\d x\n",
    "$$\n",
    "utilizando interpolación.\n",
    "\n",
    "Inicialmente trabajamos on nodos equidistantes en la construcción de los metodos de interpolación."
   ]
  },
  {
   "cell_type": "markdown",
   "metadata": {
    "hide_input": false,
    "run_control": {
     "marked": false
    },
    "slideshow": {
     "slide_type": "subslide"
    }
   },
   "source": [
    "## Interpolación lineal\n",
    "\n",
    "La interpolante lineal para $f(x)$, interpolando entre $a$ y $b$, es\n",
    "$$\n",
    "P_1(x) = \\frac{(b-x) f(x) + (x - a) f(b)}{b - a}\n",
    "$$\n",
    "Con eso obtenemos la aproximación\n",
    "\\begin{align*}\n",
    "\\int_a^b f(x)\\,\\d x &\\approx \\int_a^b P_1(x)\\,\\d x\\\\\n",
    "  &= \\frac{1}{2} (b - a) [f(a) + f(b)] \\equiv T_1(f)\\\\\n",
    "\\end{align*}\n",
    "La regla \n",
    "$$\n",
    "\\int_a^b f(x)\\,\\d x  \\approx T_1(f)\n",
    "$$\n",
    "se llama la *regla del trapezoide*"
   ]
  },
  {
   "cell_type": "code",
   "execution_count": 19,
   "metadata": {
    "code_folding": [
     0,
     11
    ],
    "hide_input": false,
    "run_control": {
     "marked": false
    },
    "slideshow": {
     "slide_type": "subslide"
    }
   },
   "outputs": [
    {
     "data": {
      "image/png": "[encoded data removed]",
      "text/plain": [
       "<Figure size 864x648 with 1 Axes>"
      ]
     },
     "metadata": {
      "needs_background": "light"
     },
     "output_type": "display_data"
    }
   ],
   "source": [
    "# plot\n",
    "\n",
    "xr = np.linspace(0.2, 2.2, 100)\n",
    "plt.plot(xr, np.sin(xr), \"r\", label=\"$y=f(x)$\")\n",
    "xr2_lim = [0.3, 2]\n",
    "xr2 = np.linspace(*xr2_lim, 2)\n",
    "xr2f = np.linspace(*xr2_lim)\n",
    "plt.plot(xr2, np.sin(xr2), \"k\", label=\"$y=P_1(x)$\")\n",
    "#plt.plot([0.3] + list(xr2) + [2], [0] + list(np.sin(xr2)) + [0], label=\"$y=P_1(x)$\")\n",
    "plt.fill_between(xr2f, 0, np.sin(xr2f), facecolor='yellow', hatch=\"\\/\")\n",
    "plt.fill_between(xr2, 0, np.sin(xr2), facecolor='#9030A060')\n",
    "for x in xr2:\n",
    "    plt.plot([x, x], [0, np.sin(x)], \"k\")\n",
    "plt.axhline()\n",
    "plt.title(r\"Ilustración de $I \\approx T_1(f)$\")\n",
    "plt.annotate(\"$a$\", xy=(0.28, -0.04))\n",
    "plt.annotate(\"$b$\", xy=(1.98, -0.04))\n",
    "plt.legend(); "
   ]
  },
  {
   "cell_type": "markdown",
   "metadata": {
    "hide_input": false,
    "run_control": {
     "marked": false
    },
    "slideshow": {
     "slide_type": "subslide"
    }
   },
   "source": [
    "### Ejemplo\n",
    "\n",
    "\\begin{align}\n",
    "\\int_0^{\\pi/2} \\sin x \\,\\d x & \\approx \\frac{\\pi}{4} [\\sin 0 + \\sin \\frac{\\pi}{2}]\\\\\n",
    "  &= \\frac{\\pi}{4} \\doteq 0.785398\\\\\n",
    "\\text{Error} &= 0.215\\\\  \n",
    "\\end{align}\n"
   ]
  },
  {
   "cell_type": "markdown",
   "metadata": {
    "hide_input": false,
    "run_control": {
     "marked": false
    },
    "slideshow": {
     "slide_type": "slide"
    }
   },
   "source": [
    "## Mejorar la precisión\n",
    "\n",
    "Para mejorar la aproximación al integral\n",
    "$$\n",
    "I = \\int_a^b f(x) \\,\\d x\n",
    "$$\n",
    "tenemos dos opciones:\n",
    "\n",
    "1. Usar interplación cuadratica\n",
    "2. Usar sub-intervalos más pequeñas\n",
    "\n",
    "Vamos usar la 2a opción\n",
    "\\begin{align}\n",
    "I &= \\int_a^c f(x) \\,\\d x + \\int_c^b f(x) \\,\\d x, \\qquad c = \\frac{a + b}{2} \\\\\n",
    "  &\\approx \\frac{c - a}{2} [f(a) + f(c)] + \\frac{b - c}{2} [f(c) + f(b)] \\\\\n",
    "  &= \\frac{h}{2} [f(a) + 2f(c) + f(b)] \\equiv T_2(f), \\qquad h = \\frac{b - a}{2}\n",
    "\\end{align}\n"
   ]
  },
  {
   "cell_type": "markdown",
   "metadata": {
    "hide_input": false,
    "run_control": {
     "marked": false
    },
    "slideshow": {
     "slide_type": "subslide"
    }
   },
   "source": [
    "### Ejemplo\n",
    "\n",
    "\\begin{align}\n",
    "\\int_0^{\\pi/2} \\sin x \\,\\d x & \\approx \\frac{\\pi}{8} [\\sin 0 + +2\\sin \\frac{\\pi}{4} + \\sin \\frac{\\pi}{2}]\\\\\n",
    "  &\\doteq 0.948059\\\\\n",
    "\\text{Error} &= 0.0519\\\\  \n",
    "\\end{align}\n"
   ]
  },
  {
   "cell_type": "code",
   "execution_count": 20,
   "metadata": {
    "code_folding": [
     0,
     9
    ],
    "hide_input": false,
    "run_control": {
     "marked": false
    },
    "slideshow": {
     "slide_type": "subslide"
    }
   },
   "outputs": [
    {
     "data": {
      "image/png": "[encoded data removed]",
      "text/plain": [
       "<Figure size 864x648 with 1 Axes>"
      ]
     },
     "metadata": {
      "needs_background": "light"
     },
     "output_type": "display_data"
    }
   ],
   "source": [
    "#\n",
    "xr = np.linspace(0.2, 2.2, 100)\n",
    "plt.plot(xr, np.sin(xr), \"r\", label=\"$y=f(x)$\")\n",
    "xr2_lim = [0.3, 2]\n",
    "xr2 = np.linspace(*xr2_lim, 4)\n",
    "xr2f = np.linspace(*xr2_lim)\n",
    "plt.plot(xr2, np.sin(xr2), \"k\", label=\"$y=P_1(x)$\")\n",
    "plt.fill_between(xr2f, 0, np.sin(xr2f), facecolor='yellow', hatch=\"\\/\")\n",
    "plt.fill_between(xr2, 0, np.sin(xr2), facecolor='#9030A060')\n",
    "for x in xr2:\n",
    "    plt.plot([x, x], [0, np.sin(x)], \"k\")\n",
    "plt.axhline()\n",
    "plt.title(r\"Ilustración de $I \\approx T_3(f)$\")\n",
    "plt.annotate(\"$a$\", xy=(0.28, -0.04))\n",
    "plt.annotate(\"$b$\", xy=(1.98, -0.04))\n",
    "plt.legend();"
   ]
  },
  {
   "cell_type": "markdown",
   "metadata": {
    "hide_input": false,
    "run_control": {
     "marked": false
    },
    "slideshow": {
     "slide_type": "slide"
    }
   },
   "source": [
    "## Regla del trapezoide\n",
    "\n",
    "Podemos continuar sub-dividiendo el intervalo $[a, b]$ en sub-intervalos más pequeños. En cada sub-intervalo aplicamos\n",
    "$$\n",
    "\\int_\\alpha^\\beta f(x)\\,\\d x \\approx \\frac{\\beta - \\alpha}{2} [f(\\alpha) + f(\\beta)]\n",
    "$$\n",
    "Para un numero entero $n \\geq 1$ definimos\n",
    "$$\n",
    "h = \\frac{b - a}{n}, \\qquad x_j = a + j\\,h,\\quad j=0, 1, \\dots, n\n",
    "$$\n",
    "Nos da\n",
    "\\begin{align}\n",
    "I &= \\int_{x_0}^{x_n} f(x)\\,\\d x\\\\\n",
    "  &= \\int_{x_0}^{x_1} f(x)\\,\\d x + \\int_{x_1}^{x_2} f(x)\\,\\d x + \\dots + \\int_{x_{n-1}}^{x_n} f(x)\\,\\d x\n",
    "\\end{align}\n",
    "Usamos $[\\alpha, \\beta] = [x_0, x_1], [x_1, x_2], \\dots, [x_{n-1}, x_n]$ con $h$ la longitud de los intervalos."
   ]
  },
  {
   "cell_type": "markdown",
   "metadata": {
    "hide_input": false,
    "run_control": {
     "marked": false
    },
    "slideshow": {
     "slide_type": "subslide"
    }
   },
   "source": [
    "con\n",
    "$$\n",
    "\\int_\\alpha^\\beta f(x)\\,\\d x \\approx \\frac{\\beta - \\alpha}{2} [f(\\alpha) + f(\\beta)]\n",
    "$$\n",
    "optenemos\n",
    "\\begin{align}\n",
    "I \\approx& \\frac{h}{2}[f(x_0) + f(x_1)] + \\frac{h}{2}[f(x_1) + f(x_2)] \\\\\n",
    "  & + \\dots \\\\\n",
    "  & + \\frac{h}{2}[f(x_{n-2}) + f(x_{n-1})] + \\frac{h}{2}[f(x_{n-1}) + f(x_n)] \\\\\n",
    "\\end{align}\n",
    "Se puede simplificar para obtener\n",
    "\\begin{align}\n",
    "I &= h \\left[ \\frac{1}{2} f(a) + f(x_1) + \\dots + f(x_{n-1}) + \\frac{1}{2} f(b) \\right]\\\\\n",
    "  &\\equiv T_n(f)\n",
    "\\end{align}\n",
    "Esta regla se llama *regla trapezoide compuesta* o, simplemente, *regla trapezoide*."
   ]
  },
  {
   "cell_type": "markdown",
   "metadata": {
    "hide_input": false,
    "run_control": {
     "marked": false
    },
    "slideshow": {
     "slide_type": "subslide"
    }
   },
   "source": [
    "### Ejemplo\n",
    "\n",
    "Evaluamos \n",
    "$$\n",
    "\\int_0^{\\pi/2} \\sin x\\,\\d x\n",
    "$$"
   ]
  },
  {
   "cell_type": "code",
   "execution_count": 21,
   "metadata": {
    "hide_input": false,
    "run_control": {
     "marked": false
    }
   },
   "outputs": [],
   "source": [
    "def trapezoidal(f, rang, exact, log_n=8):\n",
    "    T1 = (rang[1] - rang[0]) / 2 * (f(rang[0]) + f(rang[1]))\n",
    "    err1 = exact - T1\n",
    "    res = [[1, T1, err1, np.nan]]\n",
    "    h = rang[1] - rang[0]\n",
    "    n = 1\n",
    "    for i in range(log_n):\n",
    "        h /= 2\n",
    "        Tn = T1 / 2\n",
    "        for j in range(n):\n",
    "            Tn += h * f(rang[0] + h + 2*j*h)\n",
    "        n *= 2\n",
    "        err_n = exact - Tn \n",
    "        res.append([n, Tn, err_n, err1 / err_n])\n",
    "        err1 = err_n\n",
    "        T1 = Tn\n",
    "    return res\n",
    "\n",
    "tabt = trapezoidal(np.sin, (0, np.pi/2), 1)"
   ]
  },
  {
   "cell_type": "code",
   "execution_count": 22,
   "metadata": {
    "hide_input": true,
    "run_control": {
     "marked": false
    },
    "slideshow": {
     "slide_type": "subslide"
    }
   },
   "outputs": [
    {
     "data": {
      "text/html": [
       "<style  type=\"text/css\" >\n",
       "</style><table id=\"T_37f81_\" ><thead>    <tr>        <th class=\"blank level0\" ></th>        <th class=\"col_heading level0 col0\" >$n$</th>        <th class=\"col_heading level0 col1\" >$T_n(f)$</th>        <th class=\"col_heading level0 col2\" >Error</th>        <th class=\"col_heading level0 col3\" >Ratio</th>    </tr></thead><tbody>\n",
       "                <tr>\n",
       "                        <th id=\"T_37f81_level0_row0\" class=\"row_heading level0 row0\" >0</th>\n",
       "                        <td id=\"T_37f81_row0_col0\" class=\"data row0 col0\" >1</td>\n",
       "                        <td id=\"T_37f81_row0_col1\" class=\"data row0 col1\" >0.785398163</td>\n",
       "                        <td id=\"T_37f81_row0_col2\" class=\"data row0 col2\" >2.15e-01</td>\n",
       "                        <td id=\"T_37f81_row0_col3\" class=\"data row0 col3\" ></td>\n",
       "            </tr>\n",
       "            <tr>\n",
       "                        <th id=\"T_37f81_level0_row1\" class=\"row_heading level0 row1\" >1</th>\n",
       "                        <td id=\"T_37f81_row1_col0\" class=\"data row1 col0\" >2</td>\n",
       "                        <td id=\"T_37f81_row1_col1\" class=\"data row1 col1\" >0.948059449</td>\n",
       "                        <td id=\"T_37f81_row1_col2\" class=\"data row1 col2\" >5.19e-02</td>\n",
       "                        <td id=\"T_37f81_row1_col3\" class=\"data row1 col3\" >$4.13$</td>\n",
       "            </tr>\n",
       "            <tr>\n",
       "                        <th id=\"T_37f81_level0_row2\" class=\"row_heading level0 row2\" >2</th>\n",
       "                        <td id=\"T_37f81_row2_col0\" class=\"data row2 col0\" >4</td>\n",
       "                        <td id=\"T_37f81_row2_col1\" class=\"data row2 col1\" >0.987115801</td>\n",
       "                        <td id=\"T_37f81_row2_col2\" class=\"data row2 col2\" >1.29e-02</td>\n",
       "                        <td id=\"T_37f81_row2_col3\" class=\"data row2 col3\" >$4.03$</td>\n",
       "            </tr>\n",
       "            <tr>\n",
       "                        <th id=\"T_37f81_level0_row3\" class=\"row_heading level0 row3\" >3</th>\n",
       "                        <td id=\"T_37f81_row3_col0\" class=\"data row3 col0\" >8</td>\n",
       "                        <td id=\"T_37f81_row3_col1\" class=\"data row3 col1\" >0.996785172</td>\n",
       "                        <td id=\"T_37f81_row3_col2\" class=\"data row3 col2\" >3.21e-03</td>\n",
       "                        <td id=\"T_37f81_row3_col3\" class=\"data row3 col3\" >$4.01$</td>\n",
       "            </tr>\n",
       "            <tr>\n",
       "                        <th id=\"T_37f81_level0_row4\" class=\"row_heading level0 row4\" >4</th>\n",
       "                        <td id=\"T_37f81_row4_col0\" class=\"data row4 col0\" >16</td>\n",
       "                        <td id=\"T_37f81_row4_col1\" class=\"data row4 col1\" >0.999196680</td>\n",
       "                        <td id=\"T_37f81_row4_col2\" class=\"data row4 col2\" >8.03e-04</td>\n",
       "                        <td id=\"T_37f81_row4_col3\" class=\"data row4 col3\" >$4.00$</td>\n",
       "            </tr>\n",
       "            <tr>\n",
       "                        <th id=\"T_37f81_level0_row5\" class=\"row_heading level0 row5\" >5</th>\n",
       "                        <td id=\"T_37f81_row5_col0\" class=\"data row5 col0\" >32</td>\n",
       "                        <td id=\"T_37f81_row5_col1\" class=\"data row5 col1\" >0.999799194</td>\n",
       "                        <td id=\"T_37f81_row5_col2\" class=\"data row5 col2\" >2.01e-04</td>\n",
       "                        <td id=\"T_37f81_row5_col3\" class=\"data row5 col3\" >$4.00$</td>\n",
       "            </tr>\n",
       "            <tr>\n",
       "                        <th id=\"T_37f81_level0_row6\" class=\"row_heading level0 row6\" >6</th>\n",
       "                        <td id=\"T_37f81_row6_col0\" class=\"data row6 col0\" >64</td>\n",
       "                        <td id=\"T_37f81_row6_col1\" class=\"data row6 col1\" >0.999949800</td>\n",
       "                        <td id=\"T_37f81_row6_col2\" class=\"data row6 col2\" >5.02e-05</td>\n",
       "                        <td id=\"T_37f81_row6_col3\" class=\"data row6 col3\" >$4.00$</td>\n",
       "            </tr>\n",
       "            <tr>\n",
       "                        <th id=\"T_37f81_level0_row7\" class=\"row_heading level0 row7\" >7</th>\n",
       "                        <td id=\"T_37f81_row7_col0\" class=\"data row7 col0\" >128</td>\n",
       "                        <td id=\"T_37f81_row7_col1\" class=\"data row7 col1\" >0.999987450</td>\n",
       "                        <td id=\"T_37f81_row7_col2\" class=\"data row7 col2\" >1.25e-05</td>\n",
       "                        <td id=\"T_37f81_row7_col3\" class=\"data row7 col3\" >$4.00$</td>\n",
       "            </tr>\n",
       "            <tr>\n",
       "                        <th id=\"T_37f81_level0_row8\" class=\"row_heading level0 row8\" >8</th>\n",
       "                        <td id=\"T_37f81_row8_col0\" class=\"data row8 col0\" >256</td>\n",
       "                        <td id=\"T_37f81_row8_col1\" class=\"data row8 col1\" >0.999996863</td>\n",
       "                        <td id=\"T_37f81_row8_col2\" class=\"data row8 col2\" >3.14e-06</td>\n",
       "                        <td id=\"T_37f81_row8_col3\" class=\"data row8 col3\" >$4.00$</td>\n",
       "            </tr>\n",
       "    </tbody></table>"
      ],
      "text/plain": [
       "<pandas.io.formats.style.Styler at 0x7fcdb3ac99d0>"
      ]
     },
     "execution_count": 22,
     "metadata": {},
     "output_type": "execute_result"
    }
   ],
   "source": [
    "tabt = pd.DataFrame(tabt, columns=[\"$n$\", \"$T_n(f)$\", \"Error\", \"Ratio\"]) \n",
    "tabt.style.format(dict(zip(tabt.columns, [\"{:g}\", \"{:.9f}\", \"{:.2e}\", lambda x: fltx(x, code=\"f\", precision=2)])))"
   ]
  },
  {
   "cell_type": "markdown",
   "metadata": {
    "hide_input": false,
    "run_control": {
     "marked": false
    }
   },
   "source": [
    "Notamos que el error baja asimptoticamente por un factor 4 en cada iteración. \n",
    "\n",
    "Duplicar $n$ en cada iteración nos permita re-usar los valores de $f(x)$ previamente calculados."
   ]
  },
  {
   "cell_type": "markdown",
   "metadata": {
    "hide_input": false,
    "run_control": {
     "marked": false
    },
    "slideshow": {
     "slide_type": "slide"
    }
   },
   "source": [
    "## Usando interpolación cuadratica\n",
    "\n",
    "Para evaluar la integral \n",
    "$$\n",
    "I = \\int_a^b f(x)\\,\\d x\n",
    "$$\n",
    "usamos una aproximación cuadratica para $f(x)$. Interpolamos en los puntos $\\{a, c, b\\}$ con $c = 1/2 (a + b)$. Definimos $h = 1/2 (b - a)$. El polinomio interpolante es\n",
    "\\begin{align}\n",
    "P_2(x) =& \\frac{(x - c)(x - b)}{2h^2} f(a)+ \\frac{(x - a)(x - b)}{-h^2} f(c)\\\\\n",
    "&+ \\frac{(x - a)(x - c)}{2h^2} f(b)\\\\\n",
    "\\end{align}\n",
    "Nos da la aproximación\n",
    "\\begin{align}\n",
    "\\int_a^b f(x)\\,\\d x &\\approx \\int_a^b P_2(x)\\,\\d x\\\\\n",
    "  &= \\frac{h}{3} [f(a) + 4f(c) + f(b)] \\equiv S_2(f)\\\\\n",
    "\\end{align}\n",
    "Esta regla es la *regla de Simpson*."
   ]
  },
  {
   "cell_type": "code",
   "execution_count": 23,
   "metadata": {
    "code_folding": [
     0
    ],
    "hide_input": false,
    "run_control": {
     "marked": false
    },
    "slideshow": {
     "slide_type": "subslide"
    }
   },
   "outputs": [
    {
     "data": {
      "image/png": "[encoded data removed]",
      "text/plain": [
       "<Figure size 864x648 with 1 Axes>"
      ]
     },
     "metadata": {
      "needs_background": "light"
     },
     "output_type": "display_data"
    }
   ],
   "source": [
    "#\n",
    "from scipy.interpolate import lagrange\n",
    "xr = np.linspace(0.2, 2.2, 100)\n",
    "plt.plot(xr, np.sin(xr), \"r\", label=\"$y=f(x)$\")\n",
    "xr2_lim = [0.3, 2]\n",
    "xr2 = np.linspace(*xr2_lim, 3)\n",
    "p2 = lagrange(xr2, np.sin(xr2))\n",
    "xr2f = np.linspace(*xr2_lim)\n",
    "plt.plot(xr2f, p2(xr2f), \"k\", label=\"$y=P_2(x)$\")\n",
    "plt.fill_between(xr2f, 0, np.sin(xr2f), facecolor='yellow', hatch=\"\\/\")\n",
    "plt.fill_between(xr2f, 0, p2(xr2f), facecolor='#9030A060')\n",
    "for x in xr2:\n",
    "    plt.plot([x, x], [0, np.sin(x)], \"k\")\n",
    "plt.axhline()\n",
    "plt.title(r\"Ilustración de $I \\approx S2(f)$\")\n",
    "plt.annotate(\"$a$\", xy=(0.28, -0.04))\n",
    "plt.annotate(\"$b$\", xy=(1.98, -0.04))\n",
    "plt.legend();"
   ]
  },
  {
   "cell_type": "markdown",
   "metadata": {
    "hide_input": false,
    "run_control": {
     "marked": false
    },
    "slideshow": {
     "slide_type": "subslide"
    }
   },
   "source": [
    "### Ejemplo\n",
    "\n",
    "\\begin{align}\n",
    "\\int_0^{\\pi/2} \\sin x \\,\\d x & \\approx \\frac{\\pi/2}{3} [\\sin 0 + 4\\sin\\frac{\\pi}{4} + \\sin \\frac{\\pi}{2}]\\\\\n",
    "  &\\doteq 1.00227987749221\\\\\n",
    "\\text{Error} &= -0.00228\\\\  \n",
    "\\end{align}\n"
   ]
  },
  {
   "cell_type": "markdown",
   "metadata": {
    "hide_input": false,
    "run_control": {
     "marked": false
    },
    "slideshow": {
     "slide_type": "slide"
    }
   },
   "source": [
    "## Regla de Simpson\n",
    "\n",
    "En el caso de la regla de Simpson también es posible sub-dividir los intevalos para obtener una mejor aproximación a \n",
    "$\n",
    "I = \\int_a^b f(x) \\,\\d x\n",
    "$.\n",
    "La regla de Simpson está dada por\n",
    "$$\n",
    "\\int_\\alpha^\\beta f(x)\\,\\d x \\approx \\frac{\\delta}{3} [f(\\alpha) + 4f(\\gamma) + f(\\beta)] , \\qquad \\gamma = \\frac{\\alpha + \\beta}{2}\n",
    "$$\n",
    "y $\\delta = \\frac{1}{2} (\\beta - \\alpha)$.\n",
    "\n",
    "Para $n$ un entero positivo definimos\n",
    "$$\n",
    "h = \\frac{b - a}{n}, \\qquad x_j = a + j \\, h, \\quad j=0, 1, \\dots, n\n",
    "$$\n",
    "Con esto obtenemos\n",
    "\\begin{align}\n",
    "I &= \\int_{x_0}^{x_n} f(x)\\,\\d x\\\\\n",
    "  &= \\int_{x_0}^{x_2} f(x)\\,\\d x + \\int_{x_2}^{x_4} f(x)\\,\\d x + \\dots + \\int_{x_{n-2}}^{x_n} f(x)\\,\\d x\\\\\n",
    "\\end{align}\n"
   ]
  },
  {
   "cell_type": "markdown",
   "metadata": {
    "hide_input": false,
    "run_control": {
     "marked": false
    },
    "slideshow": {
     "slide_type": "subslide"
    }
   },
   "source": [
    "Aplicamos\n",
    "$$\n",
    "\\int_\\alpha^\\beta f(x)\\,\\d x \\approx \\frac{\\delta}{3} [f(\\alpha) + 4f(\\gamma) + f(\\beta)] , \\qquad \\gamma = \\frac{\\alpha + \\beta}{2}\n",
    "$$\n",
    "a cada uno de los integrales con\n",
    "$$\n",
    "[\\alpha, \\beta] = [x_0, x_2], [x_2, x_4], \\dots, [x_{n-2}, x_n]\n",
    "$$\n",
    "Siempre es $\\frac{1}{2} (\\beta - \\alpha) = h$. Nos da\n",
    "\\begin{align}\n",
    "I \\approx& \\frac{h}{3} [f(x_0) + 4 f(x_1) + f(x_2)]\\\\\n",
    "  & + \\frac{h}{3} [f(x_2) + 4 f(x_3) + f(x_4)]\\\\\n",
    "  & + \\dots \\\\\n",
    "  & + \\frac{h}{3} [f(x_{n-4}) + 4 f(x_{n-3}) + f(x_{n-2})]\\\\\n",
    "  & + \\frac{h}{3} [f(x_{n-2}) + 4 f(x_{n-1}) + f(x_n)]\\\\\n",
    "\\end{align}\n"
   ]
  },
  {
   "cell_type": "markdown",
   "metadata": {
    "hide_input": false,
    "run_control": {
     "marked": false
    },
    "slideshow": {
     "slide_type": "subslide"
    }
   },
   "source": [
    "Se puede simplificar para obtener\n",
    "\\begin{align}\n",
    "\\int_a^b f(x)\\,\\d x \\approx{}& \\frac{h}{3} \\bigl[ f(x_0) + 4 f(x_1) \\\\\n",
    "  & + 2f(x_2) + 4 f(x_3) + 2f(x_4)\\\\\n",
    "  & + \\dots + 2f(x_{n-2}) + 4f(x_{n-1}) + f(x_n) \\bigr] \\\\\n",
    "  {}\\equiv{}& S_n(f)\n",
    "\\end{align}\n",
    "Es la *regla compuesta de Simpson* o simplemente la *regla de Simpson*."
   ]
  },
  {
   "cell_type": "markdown",
   "metadata": {
    "hide_input": false,
    "run_control": {
     "marked": false
    },
    "slideshow": {
     "slide_type": "subslide"
    }
   },
   "source": [
    "### Ejemplo\n",
    "\n",
    "Evaluamos \n",
    "$\n",
    "\\int_0^{\\pi/2} \\sin x\\,\\d x\n",
    "$"
   ]
  },
  {
   "cell_type": "code",
   "execution_count": 24,
   "metadata": {
    "hide_input": false,
    "run_control": {
     "marked": false
    }
   },
   "outputs": [],
   "source": [
    "def simpson(f, rang, exact, log_n=9):\n",
    "    h = (rang[1] - rang[0]) / 2\n",
    "    s_tmp = 2 * f(rang[0]+h)\n",
    "    S1 = h / 3 * (f(rang[0]) + 2*s_tmp + f(rang[1]))\n",
    "    err1 = exact - S1\n",
    "    res = [[1, S1, err1, np.nan]]\n",
    "    n = 2\n",
    "    for i in range(log_n-1):\n",
    "        Sn = (S1 - h / 3 * s_tmp) / 2\n",
    "        h /= 2\n",
    "        s_tmp = 0\n",
    "        for j in range(n):\n",
    "            s_tmp += 2 * f(rang[0] + h + 2*j*h)\n",
    "        Sn += 2 * h / 3 * s_tmp\n",
    "        n *= 2\n",
    "        err_n = exact - Sn \n",
    "        res.append([n, Sn, err_n, err1 / err_n])\n",
    "        err1 = err_n\n",
    "        S1 = Sn\n",
    "    return res\n",
    "\n",
    "tabs = simpson(np.sin, (0, np.pi/2), 1)"
   ]
  },
  {
   "cell_type": "code",
   "execution_count": 25,
   "metadata": {
    "hide_input": false,
    "run_control": {
     "marked": false
    },
    "slideshow": {
     "slide_type": "subslide"
    }
   },
   "outputs": [
    {
     "data": {
      "text/html": [
       "<style  type=\"text/css\" >\n",
       "</style><table id=\"T_3e191_\" ><thead>    <tr>        <th class=\"blank level0\" ></th>        <th class=\"col_heading level0 col0\" >$n$</th>        <th class=\"col_heading level0 col1\" >$S_n(f)$</th>        <th class=\"col_heading level0 col2\" >Error</th>        <th class=\"col_heading level0 col3\" >Ratio</th>    </tr></thead><tbody>\n",
       "                <tr>\n",
       "                        <th id=\"T_3e191_level0_row0\" class=\"row_heading level0 row0\" >0</th>\n",
       "                        <td id=\"T_3e191_row0_col0\" class=\"data row0 col0\" >1</td>\n",
       "                        <td id=\"T_3e191_row0_col1\" class=\"data row0 col1\" >1.00227987749221</td>\n",
       "                        <td id=\"T_3e191_row0_col2\" class=\"data row0 col2\" >-2.28e-03</td>\n",
       "                        <td id=\"T_3e191_row0_col3\" class=\"data row0 col3\" ></td>\n",
       "            </tr>\n",
       "            <tr>\n",
       "                        <th id=\"T_3e191_level0_row1\" class=\"row_heading level0 row1\" >1</th>\n",
       "                        <td id=\"T_3e191_row1_col0\" class=\"data row1 col0\" >4</td>\n",
       "                        <td id=\"T_3e191_row1_col1\" class=\"data row1 col1\" >1.00013458497419</td>\n",
       "                        <td id=\"T_3e191_row1_col2\" class=\"data row1 col2\" >-1.35e-04</td>\n",
       "                        <td id=\"T_3e191_row1_col3\" class=\"data row1 col3\" >$16.94$</td>\n",
       "            </tr>\n",
       "            <tr>\n",
       "                        <th id=\"T_3e191_level0_row2\" class=\"row_heading level0 row2\" >2</th>\n",
       "                        <td id=\"T_3e191_row2_col0\" class=\"data row2 col0\" >8</td>\n",
       "                        <td id=\"T_3e191_row2_col1\" class=\"data row2 col1\" >1.00000829552397</td>\n",
       "                        <td id=\"T_3e191_row2_col2\" class=\"data row2 col2\" >-8.30e-06</td>\n",
       "                        <td id=\"T_3e191_row2_col3\" class=\"data row2 col3\" >$16.22$</td>\n",
       "            </tr>\n",
       "            <tr>\n",
       "                        <th id=\"T_3e191_level0_row3\" class=\"row_heading level0 row3\" >3</th>\n",
       "                        <td id=\"T_3e191_row3_col0\" class=\"data row3 col0\" >16</td>\n",
       "                        <td id=\"T_3e191_row3_col1\" class=\"data row3 col1\" >1.00000051668471</td>\n",
       "                        <td id=\"T_3e191_row3_col2\" class=\"data row3 col2\" >-5.17e-07</td>\n",
       "                        <td id=\"T_3e191_row3_col3\" class=\"data row3 col3\" >$16.06$</td>\n",
       "            </tr>\n",
       "            <tr>\n",
       "                        <th id=\"T_3e191_level0_row4\" class=\"row_heading level0 row4\" >4</th>\n",
       "                        <td id=\"T_3e191_row4_col0\" class=\"data row4 col0\" >32</td>\n",
       "                        <td id=\"T_3e191_row4_col1\" class=\"data row4 col1\" >1.00000003226500</td>\n",
       "                        <td id=\"T_3e191_row4_col2\" class=\"data row4 col2\" >-3.23e-08</td>\n",
       "                        <td id=\"T_3e191_row4_col3\" class=\"data row4 col3\" >$16.01$</td>\n",
       "            </tr>\n",
       "            <tr>\n",
       "                        <th id=\"T_3e191_level0_row5\" class=\"row_heading level0 row5\" >5</th>\n",
       "                        <td id=\"T_3e191_row5_col0\" class=\"data row5 col0\" >64</td>\n",
       "                        <td id=\"T_3e191_row5_col1\" class=\"data row5 col1\" >1.00000000201613</td>\n",
       "                        <td id=\"T_3e191_row5_col2\" class=\"data row5 col2\" >-2.02e-09</td>\n",
       "                        <td id=\"T_3e191_row5_col3\" class=\"data row5 col3\" >$16.00$</td>\n",
       "            </tr>\n",
       "            <tr>\n",
       "                        <th id=\"T_3e191_level0_row6\" class=\"row_heading level0 row6\" >6</th>\n",
       "                        <td id=\"T_3e191_row6_col0\" class=\"data row6 col0\" >128</td>\n",
       "                        <td id=\"T_3e191_row6_col1\" class=\"data row6 col1\" >1.00000000012600</td>\n",
       "                        <td id=\"T_3e191_row6_col2\" class=\"data row6 col2\" >-1.26e-10</td>\n",
       "                        <td id=\"T_3e191_row6_col3\" class=\"data row6 col3\" >$16.00$</td>\n",
       "            </tr>\n",
       "            <tr>\n",
       "                        <th id=\"T_3e191_level0_row7\" class=\"row_heading level0 row7\" >7</th>\n",
       "                        <td id=\"T_3e191_row7_col0\" class=\"data row7 col0\" >256</td>\n",
       "                        <td id=\"T_3e191_row7_col1\" class=\"data row7 col1\" >1.00000000000787</td>\n",
       "                        <td id=\"T_3e191_row7_col2\" class=\"data row7 col2\" >-7.87e-12</td>\n",
       "                        <td id=\"T_3e191_row7_col3\" class=\"data row7 col3\" >$16.00$</td>\n",
       "            </tr>\n",
       "            <tr>\n",
       "                        <th id=\"T_3e191_level0_row8\" class=\"row_heading level0 row8\" >8</th>\n",
       "                        <td id=\"T_3e191_row8_col0\" class=\"data row8 col0\" >512</td>\n",
       "                        <td id=\"T_3e191_row8_col1\" class=\"data row8 col1\" >1.00000000000049</td>\n",
       "                        <td id=\"T_3e191_row8_col2\" class=\"data row8 col2\" >-4.92e-13</td>\n",
       "                        <td id=\"T_3e191_row8_col3\" class=\"data row8 col3\" >$16.00$</td>\n",
       "            </tr>\n",
       "    </tbody></table>"
      ],
      "text/plain": [
       "<pandas.io.formats.style.Styler at 0x7fcdb48e3280>"
      ]
     },
     "execution_count": 25,
     "metadata": {},
     "output_type": "execute_result"
    }
   ],
   "source": [
    "tabs = pd.DataFrame(tabs, columns=[\"$n$\", \"$S_n(f)$\", \"Error\", \"Ratio\"]) \n",
    "tabs.style.format(dict(zip(tabs.columns, [\"{:g}\", \"{:.14f}\", \"{:.2e}\", lambda x: fltx(x, code=\"f\", precision=2)])))"
   ]
  },
  {
   "cell_type": "markdown",
   "metadata": {
    "hide_input": false,
    "run_control": {
     "marked": false
    }
   },
   "source": [
    "Notamos que el error baja asimptoticamente por un factor de 16 en cada interación. "
   ]
  },
  {
   "cell_type": "markdown",
   "metadata": {
    "hide_input": false,
    "run_control": {
     "marked": false
    },
    "slideshow": {
     "slide_type": "subslide"
    }
   },
   "source": [
    "### Comparación de la convergencia"
   ]
  },
  {
   "cell_type": "code",
   "execution_count": 26,
   "metadata": {
    "hide_input": false,
    "run_control": {
     "marked": false
    }
   },
   "outputs": [
    {
     "data": {
      "text/html": [
       "<style  type=\"text/css\" >\n",
       "</style><table id=\"T_e873a_\" ><thead>    <tr>        <th class=\"blank level0\" ></th>        <th class=\"col_heading level0 col0\" >$n$</th>        <th class=\"col_heading level0 col1\" >$T_n(f)$</th>        <th class=\"col_heading level0 col2\" >Error</th>        <th class=\"col_heading level0 col3\" >Ratio</th>    </tr></thead><tbody>\n",
       "                <tr>\n",
       "                        <th id=\"T_e873a_level0_row0\" class=\"row_heading level0 row0\" >8</th>\n",
       "                        <td id=\"T_e873a_row0_col0\" class=\"data row0 col0\" >256</td>\n",
       "                        <td id=\"T_e873a_row0_col1\" class=\"data row0 col1\" >0.999997</td>\n",
       "                        <td id=\"T_e873a_row0_col2\" class=\"data row0 col2\" >3.14e-06</td>\n",
       "                        <td id=\"T_e873a_row0_col3\" class=\"data row0 col3\" >$4.00$</td>\n",
       "            </tr>\n",
       "    </tbody></table>"
      ],
      "text/plain": [
       "<pandas.io.formats.style.Styler at 0x7fcdb4b19070>"
      ]
     },
     "execution_count": 26,
     "metadata": {},
     "output_type": "execute_result"
    }
   ],
   "source": [
    "tabt.loc[8:].style.format(dict(zip(tabs.columns, [\"{:g}\", \"{:.14f}\", \"{:.2e}\", lambda x: fltx(x, code=\"f\", precision=2)])))"
   ]
  },
  {
   "cell_type": "code",
   "execution_count": 27,
   "metadata": {
    "hide_input": false,
    "run_control": {
     "marked": false
    }
   },
   "outputs": [
    {
     "data": {
      "text/html": [
       "<style  type=\"text/css\" >\n",
       "</style><table id=\"T_757b7_\" ><thead>    <tr>        <th class=\"blank level0\" ></th>        <th class=\"col_heading level0 col0\" >$n$</th>        <th class=\"col_heading level0 col1\" >$S_n(f)$</th>        <th class=\"col_heading level0 col2\" >Error</th>        <th class=\"col_heading level0 col3\" >Ratio</th>    </tr></thead><tbody>\n",
       "                <tr>\n",
       "                        <th id=\"T_757b7_level0_row0\" class=\"row_heading level0 row0\" >2</th>\n",
       "                        <td id=\"T_757b7_row0_col0\" class=\"data row0 col0\" >8</td>\n",
       "                        <td id=\"T_757b7_row0_col1\" class=\"data row0 col1\" >1.00000829552397</td>\n",
       "                        <td id=\"T_757b7_row0_col2\" class=\"data row0 col2\" >-8.30e-06</td>\n",
       "                        <td id=\"T_757b7_row0_col3\" class=\"data row0 col3\" >$16.22$</td>\n",
       "            </tr>\n",
       "            <tr>\n",
       "                        <th id=\"T_757b7_level0_row1\" class=\"row_heading level0 row1\" >3</th>\n",
       "                        <td id=\"T_757b7_row1_col0\" class=\"data row1 col0\" >16</td>\n",
       "                        <td id=\"T_757b7_row1_col1\" class=\"data row1 col1\" >1.00000051668471</td>\n",
       "                        <td id=\"T_757b7_row1_col2\" class=\"data row1 col2\" >-5.17e-07</td>\n",
       "                        <td id=\"T_757b7_row1_col3\" class=\"data row1 col3\" >$16.06$</td>\n",
       "            </tr>\n",
       "    </tbody></table>"
      ],
      "text/plain": [
       "<pandas.io.formats.style.Styler at 0x7fcdb49c5d60>"
      ]
     },
     "execution_count": 27,
     "metadata": {},
     "output_type": "execute_result"
    }
   ],
   "source": [
    "tabs.loc[2:3].style.format(dict(zip(tabs.columns, [\"{:g}\", \"{:.14f}\", \"{:.2e}\", lambda x: fltx(x, code=\"f\", precision=2)])))"
   ]
  },
  {
   "cell_type": "markdown",
   "metadata": {
    "hide_input": false,
    "run_control": {
     "marked": false
    },
    "slideshow": {
     "slide_type": "-"
    }
   },
   "source": [
    "Es instructivo revisar las tablas para diferentes funciones y comparar los metodos de integración."
   ]
  },
  {
   "cell_type": "code",
   "execution_count": 28,
   "metadata": {
    "hide_input": false,
    "run_control": {
     "marked": false
    },
    "slideshow": {
     "slide_type": "skip"
    }
   },
   "outputs": [],
   "source": [
    "def pptab(tab):\n",
    "    t = pd.DataFrame(tab, columns=[\"$n$\", \"$I_n(f)$\", \"Error\", \"Ratio\"]) \n",
    "    t.style.format(dict(zip(t.columns, [\"{:g}\", \"{:.14f}\", \"{:.2e}\", lambda x: fltx(x, code=\"f\", precision=2)])))\n",
    "    return t"
   ]
  },
  {
   "cell_type": "code",
   "execution_count": 29,
   "metadata": {
    "hide_input": false,
    "run_control": {
     "marked": false
    },
    "slideshow": {
     "slide_type": "subslide"
    }
   },
   "outputs": [
    {
     "data": {
      "text/html": [
       "<style  type=\"text/css\" >\n",
       "</style><table id=\"T_0a726_\" ><thead>    <tr>        <th class=\"blank level0\" ></th>        <th class=\"col_heading level0 col0\" >$n$</th>        <th class=\"col_heading level0 col1\" >$I_n(f)$</th>        <th class=\"col_heading level0 col2\" >Error</th>        <th class=\"col_heading level0 col3\" >Ratio</th>    </tr></thead><tbody>\n",
       "                <tr>\n",
       "                        <th id=\"T_0a726_level0_row0\" class=\"row_heading level0 row0\" >0</th>\n",
       "                        <td id=\"T_0a726_row0_col0\" class=\"data row0 col0\" >1</td>\n",
       "                        <td id=\"T_0a726_row0_col1\" class=\"data row0 col1\" >0.68394</td>\n",
       "                        <td id=\"T_0a726_row0_col2\" class=\"data row0 col2\" >0.0628844</td>\n",
       "                        <td id=\"T_0a726_row0_col3\" class=\"data row0 col3\" >nan</td>\n",
       "            </tr>\n",
       "            <tr>\n",
       "                        <th id=\"T_0a726_level0_row1\" class=\"row_heading level0 row1\" >1</th>\n",
       "                        <td id=\"T_0a726_row1_col0\" class=\"data row1 col0\" >2</td>\n",
       "                        <td id=\"T_0a726_row1_col1\" class=\"data row1 col1\" >0.73137</td>\n",
       "                        <td id=\"T_0a726_row1_col2\" class=\"data row1 col2\" >0.0154539</td>\n",
       "                        <td id=\"T_0a726_row1_col3\" class=\"data row1 col3\" >4.06917</td>\n",
       "            </tr>\n",
       "            <tr>\n",
       "                        <th id=\"T_0a726_level0_row2\" class=\"row_heading level0 row2\" >2</th>\n",
       "                        <td id=\"T_0a726_row2_col0\" class=\"data row2 col0\" >4</td>\n",
       "                        <td id=\"T_0a726_row2_col1\" class=\"data row2 col1\" >0.742984</td>\n",
       "                        <td id=\"T_0a726_row2_col2\" class=\"data row2 col2\" >0.00384004</td>\n",
       "                        <td id=\"T_0a726_row2_col3\" class=\"data row2 col3\" >4.02441</td>\n",
       "            </tr>\n",
       "            <tr>\n",
       "                        <th id=\"T_0a726_level0_row3\" class=\"row_heading level0 row3\" >3</th>\n",
       "                        <td id=\"T_0a726_row3_col0\" class=\"data row3 col0\" >8</td>\n",
       "                        <td id=\"T_0a726_row3_col1\" class=\"data row3 col1\" >0.745866</td>\n",
       "                        <td id=\"T_0a726_row3_col2\" class=\"data row3 col2\" >0.000958518</td>\n",
       "                        <td id=\"T_0a726_row3_col3\" class=\"data row3 col3\" >4.00622</td>\n",
       "            </tr>\n",
       "            <tr>\n",
       "                        <th id=\"T_0a726_level0_row4\" class=\"row_heading level0 row4\" >4</th>\n",
       "                        <td id=\"T_0a726_row4_col0\" class=\"data row4 col0\" >16</td>\n",
       "                        <td id=\"T_0a726_row4_col1\" class=\"data row4 col1\" >0.746585</td>\n",
       "                        <td id=\"T_0a726_row4_col2\" class=\"data row4 col2\" >0.000239536</td>\n",
       "                        <td id=\"T_0a726_row4_col3\" class=\"data row4 col3\" >4.00156</td>\n",
       "            </tr>\n",
       "            <tr>\n",
       "                        <th id=\"T_0a726_level0_row5\" class=\"row_heading level0 row5\" >5</th>\n",
       "                        <td id=\"T_0a726_row5_col0\" class=\"data row5 col0\" >32</td>\n",
       "                        <td id=\"T_0a726_row5_col1\" class=\"data row5 col1\" >0.746764</td>\n",
       "                        <td id=\"T_0a726_row5_col2\" class=\"data row5 col2\" >5.98782e-05</td>\n",
       "                        <td id=\"T_0a726_row5_col3\" class=\"data row5 col3\" >4.00039</td>\n",
       "            </tr>\n",
       "            <tr>\n",
       "                        <th id=\"T_0a726_level0_row6\" class=\"row_heading level0 row6\" >6</th>\n",
       "                        <td id=\"T_0a726_row6_col0\" class=\"data row6 col0\" >64</td>\n",
       "                        <td id=\"T_0a726_row6_col1\" class=\"data row6 col1\" >0.746809</td>\n",
       "                        <td id=\"T_0a726_row6_col2\" class=\"data row6 col2\" >1.49692e-05</td>\n",
       "                        <td id=\"T_0a726_row6_col3\" class=\"data row6 col3\" >4.0001</td>\n",
       "            </tr>\n",
       "            <tr>\n",
       "                        <th id=\"T_0a726_level0_row7\" class=\"row_heading level0 row7\" >7</th>\n",
       "                        <td id=\"T_0a726_row7_col0\" class=\"data row7 col0\" >128</td>\n",
       "                        <td id=\"T_0a726_row7_col1\" class=\"data row7 col1\" >0.74682</td>\n",
       "                        <td id=\"T_0a726_row7_col2\" class=\"data row7 col2\" >3.74227e-06</td>\n",
       "                        <td id=\"T_0a726_row7_col3\" class=\"data row7 col3\" >4.00002</td>\n",
       "            </tr>\n",
       "            <tr>\n",
       "                        <th id=\"T_0a726_level0_row8\" class=\"row_heading level0 row8\" >8</th>\n",
       "                        <td id=\"T_0a726_row8_col0\" class=\"data row8 col0\" >256</td>\n",
       "                        <td id=\"T_0a726_row8_col1\" class=\"data row8 col1\" >0.746823</td>\n",
       "                        <td id=\"T_0a726_row8_col2\" class=\"data row8 col2\" >9.35566e-07</td>\n",
       "                        <td id=\"T_0a726_row8_col3\" class=\"data row8 col3\" >4.00001</td>\n",
       "            </tr>\n",
       "    </tbody></table>"
      ],
      "text/plain": [
       "<pandas.io.formats.style.Styler at 0x7fcdb49c5400>"
      ]
     },
     "execution_count": 29,
     "metadata": {},
     "output_type": "execute_result"
    }
   ],
   "source": [
    "fx1 = lambda x: np.exp(-x**2)\n",
    "ex1 = 0.74682413281234\n",
    "pptab(trapezoidal(fx1, (0, 1), ex1)).style.format(\"{:.6g}\")"
   ]
  },
  {
   "cell_type": "code",
   "execution_count": 30,
   "metadata": {
    "hide_input": true,
    "run_control": {
     "marked": false
    },
    "slideshow": {
     "slide_type": "-"
    }
   },
   "outputs": [
    {
     "data": {
      "text/html": [
       "<style  type=\"text/css\" >\n",
       "</style><table id=\"T_34fa8_\" ><thead>    <tr>        <th class=\"blank level0\" ></th>        <th class=\"col_heading level0 col0\" >$n$</th>        <th class=\"col_heading level0 col1\" >$I_n(f)$</th>        <th class=\"col_heading level0 col2\" >Error</th>        <th class=\"col_heading level0 col3\" >Ratio</th>    </tr></thead><tbody>\n",
       "                <tr>\n",
       "                        <th id=\"T_34fa8_level0_row0\" class=\"row_heading level0 row0\" >0</th>\n",
       "                        <td id=\"T_34fa8_row0_col0\" class=\"data row0 col0\" >1</td>\n",
       "                        <td id=\"T_34fa8_row0_col1\" class=\"data row0 col1\" >0.74718</td>\n",
       "                        <td id=\"T_34fa8_row0_col2\" class=\"data row0 col2\" >-0.000356296</td>\n",
       "                        <td id=\"T_34fa8_row0_col3\" class=\"data row0 col3\" >nan</td>\n",
       "            </tr>\n",
       "            <tr>\n",
       "                        <th id=\"T_34fa8_level0_row1\" class=\"row_heading level0 row1\" >1</th>\n",
       "                        <td id=\"T_34fa8_row1_col0\" class=\"data row1 col0\" >4</td>\n",
       "                        <td id=\"T_34fa8_row1_col1\" class=\"data row1 col1\" >0.746855</td>\n",
       "                        <td id=\"T_34fa8_row1_col2\" class=\"data row1 col2\" >-3.1247e-05</td>\n",
       "                        <td id=\"T_34fa8_row1_col3\" class=\"data row1 col3\" >11.4026</td>\n",
       "            </tr>\n",
       "            <tr>\n",
       "                        <th id=\"T_34fa8_level0_row2\" class=\"row_heading level0 row2\" >2</th>\n",
       "                        <td id=\"T_34fa8_row2_col0\" class=\"data row2 col0\" >8</td>\n",
       "                        <td id=\"T_34fa8_row2_col1\" class=\"data row2 col1\" >0.746826</td>\n",
       "                        <td id=\"T_34fa8_row2_col2\" class=\"data row2 col2\" >-1.98772e-06</td>\n",
       "                        <td id=\"T_34fa8_row2_col3\" class=\"data row2 col3\" >15.72</td>\n",
       "            </tr>\n",
       "            <tr>\n",
       "                        <th id=\"T_34fa8_level0_row3\" class=\"row_heading level0 row3\" >3</th>\n",
       "                        <td id=\"T_34fa8_row3_col0\" class=\"data row3 col0\" >16</td>\n",
       "                        <td id=\"T_34fa8_row3_col1\" class=\"data row3 col1\" >0.746824</td>\n",
       "                        <td id=\"T_34fa8_row3_col2\" class=\"data row3 col2\" >-1.24623e-07</td>\n",
       "                        <td id=\"T_34fa8_row3_col3\" class=\"data row3 col3\" >15.9498</td>\n",
       "            </tr>\n",
       "            <tr>\n",
       "                        <th id=\"T_34fa8_level0_row4\" class=\"row_heading level0 row4\" >4</th>\n",
       "                        <td id=\"T_34fa8_row4_col0\" class=\"data row4 col0\" >32</td>\n",
       "                        <td id=\"T_34fa8_row4_col1\" class=\"data row4 col1\" >0.746824</td>\n",
       "                        <td id=\"T_34fa8_row4_col2\" class=\"data row4 col2\" >-7.79465e-09</td>\n",
       "                        <td id=\"T_34fa8_row4_col3\" class=\"data row4 col3\" >15.9883</td>\n",
       "            </tr>\n",
       "            <tr>\n",
       "                        <th id=\"T_34fa8_level0_row5\" class=\"row_heading level0 row5\" >5</th>\n",
       "                        <td id=\"T_34fa8_row5_col0\" class=\"data row5 col0\" >64</td>\n",
       "                        <td id=\"T_34fa8_row5_col1\" class=\"data row5 col1\" >0.746824</td>\n",
       "                        <td id=\"T_34fa8_row5_col2\" class=\"data row5 col2\" >-4.87332e-10</td>\n",
       "                        <td id=\"T_34fa8_row5_col3\" class=\"data row5 col3\" >15.9945</td>\n",
       "            </tr>\n",
       "            <tr>\n",
       "                        <th id=\"T_34fa8_level0_row6\" class=\"row_heading level0 row6\" >6</th>\n",
       "                        <td id=\"T_34fa8_row6_col0\" class=\"data row6 col0\" >128</td>\n",
       "                        <td id=\"T_34fa8_row6_col1\" class=\"data row6 col1\" >0.746824</td>\n",
       "                        <td id=\"T_34fa8_row6_col2\" class=\"data row6 col2\" >-3.05412e-11</td>\n",
       "                        <td id=\"T_34fa8_row6_col3\" class=\"data row6 col3\" >15.9565</td>\n",
       "            </tr>\n",
       "            <tr>\n",
       "                        <th id=\"T_34fa8_level0_row7\" class=\"row_heading level0 row7\" >7</th>\n",
       "                        <td id=\"T_34fa8_row7_col0\" class=\"data row7 col0\" >256</td>\n",
       "                        <td id=\"T_34fa8_row7_col1\" class=\"data row7 col1\" >0.746824</td>\n",
       "                        <td id=\"T_34fa8_row7_col2\" class=\"data row7 col2\" >-1.99063e-12</td>\n",
       "                        <td id=\"T_34fa8_row7_col3\" class=\"data row7 col3\" >15.3425</td>\n",
       "            </tr>\n",
       "            <tr>\n",
       "                        <th id=\"T_34fa8_level0_row8\" class=\"row_heading level0 row8\" >8</th>\n",
       "                        <td id=\"T_34fa8_row8_col0\" class=\"data row8 col0\" >512</td>\n",
       "                        <td id=\"T_34fa8_row8_col1\" class=\"data row8 col1\" >0.746824</td>\n",
       "                        <td id=\"T_34fa8_row8_col2\" class=\"data row8 col2\" >-2.05946e-13</td>\n",
       "                        <td id=\"T_34fa8_row8_col3\" class=\"data row8 col3\" >9.66577</td>\n",
       "            </tr>\n",
       "    </tbody></table>"
      ],
      "text/plain": [
       "<pandas.io.formats.style.Styler at 0x7fcdb49fab80>"
      ]
     },
     "execution_count": 30,
     "metadata": {},
     "output_type": "execute_result"
    }
   ],
   "source": [
    "pptab(simpson(fx1, (0, 1), ex1)).style.format(\"{:.6g}\")"
   ]
  },
  {
   "cell_type": "code",
   "execution_count": 31,
   "metadata": {
    "hide_input": false,
    "run_control": {
     "marked": false
    },
    "slideshow": {
     "slide_type": "subslide"
    }
   },
   "outputs": [
    {
     "data": {
      "image/png": "[encoded data removed]",
      "text/plain": [
       "<Figure size 864x648 with 1 Axes>"
      ]
     },
     "metadata": {
      "needs_background": "light"
     },
     "output_type": "display_data"
    }
   ],
   "source": [
    "xrx1 = np.linspace(0, 1, 100)\n",
    "plt.plot(xrx1, fx1(xrx1));"
   ]
  },
  {
   "cell_type": "code",
   "execution_count": 32,
   "metadata": {
    "hide_input": false,
    "run_control": {
     "marked": false
    },
    "slideshow": {
     "slide_type": "subslide"
    }
   },
   "outputs": [
    {
     "data": {
      "text/html": [
       "<style  type=\"text/css\" >\n",
       "</style><table id=\"T_fa066_\" ><thead>    <tr>        <th class=\"blank level0\" ></th>        <th class=\"col_heading level0 col0\" >$n$</th>        <th class=\"col_heading level0 col1\" >$I_n(f)$</th>        <th class=\"col_heading level0 col2\" >Error</th>        <th class=\"col_heading level0 col3\" >Ratio</th>    </tr></thead><tbody>\n",
       "                <tr>\n",
       "                        <th id=\"T_fa066_level0_row0\" class=\"row_heading level0 row0\" >0</th>\n",
       "                        <td id=\"T_fa066_row0_col0\" class=\"data row0 col0\" >1</td>\n",
       "                        <td id=\"T_fa066_row0_col1\" class=\"data row0 col1\" >2.11765</td>\n",
       "                        <td id=\"T_fa066_row0_col2\" class=\"data row0 col2\" >-0.791829</td>\n",
       "                        <td id=\"T_fa066_row0_col3\" class=\"data row0 col3\" >nan</td>\n",
       "            </tr>\n",
       "            <tr>\n",
       "                        <th id=\"T_fa066_level0_row1\" class=\"row_heading level0 row1\" >1</th>\n",
       "                        <td id=\"T_fa066_row1_col0\" class=\"data row1 col0\" >2</td>\n",
       "                        <td id=\"T_fa066_row1_col1\" class=\"data row1 col1\" >1.45882</td>\n",
       "                        <td id=\"T_fa066_row1_col2\" class=\"data row1 col2\" >-0.133006</td>\n",
       "                        <td id=\"T_fa066_row1_col3\" class=\"data row1 col3\" >5.95334</td>\n",
       "            </tr>\n",
       "            <tr>\n",
       "                        <th id=\"T_fa066_level0_row2\" class=\"row_heading level0 row2\" >2</th>\n",
       "                        <td id=\"T_fa066_row2_col0\" class=\"data row2 col0\" >4</td>\n",
       "                        <td id=\"T_fa066_row2_col1\" class=\"data row2 col1\" >1.32941</td>\n",
       "                        <td id=\"T_fa066_row2_col2\" class=\"data row2 col2\" >-0.0035941</td>\n",
       "                        <td id=\"T_fa066_row2_col3\" class=\"data row2 col3\" >37.0067</td>\n",
       "            </tr>\n",
       "            <tr>\n",
       "                        <th id=\"T_fa066_level0_row3\" class=\"row_heading level0 row3\" >3</th>\n",
       "                        <td id=\"T_fa066_row3_col0\" class=\"data row3 col0\" >8</td>\n",
       "                        <td id=\"T_fa066_row3_col1\" class=\"data row3 col1\" >1.32525</td>\n",
       "                        <td id=\"T_fa066_row3_col2\" class=\"data row3 col2\" >0.000564261</td>\n",
       "                        <td id=\"T_fa066_row3_col3\" class=\"data row3 col3\" >-6.36957</td>\n",
       "            </tr>\n",
       "            <tr>\n",
       "                        <th id=\"T_fa066_level0_row4\" class=\"row_heading level0 row4\" >4</th>\n",
       "                        <td id=\"T_fa066_row4_col0\" class=\"data row4 col0\" >16</td>\n",
       "                        <td id=\"T_fa066_row4_col1\" class=\"data row4 col1\" >1.32567</td>\n",
       "                        <td id=\"T_fa066_row4_col2\" class=\"data row4 col2\" >0.000144082</td>\n",
       "                        <td id=\"T_fa066_row4_col3\" class=\"data row4 col3\" >3.91625</td>\n",
       "            </tr>\n",
       "            <tr>\n",
       "                        <th id=\"T_fa066_level0_row5\" class=\"row_heading level0 row5\" >5</th>\n",
       "                        <td id=\"T_fa066_row5_col0\" class=\"data row5 col0\" >32</td>\n",
       "                        <td id=\"T_fa066_row5_col1\" class=\"data row5 col1\" >1.32578</td>\n",
       "                        <td id=\"T_fa066_row5_col2\" class=\"data row5 col2\" >3.6038e-05</td>\n",
       "                        <td id=\"T_fa066_row5_col3\" class=\"data row5 col3\" >3.99806</td>\n",
       "            </tr>\n",
       "            <tr>\n",
       "                        <th id=\"T_fa066_level0_row6\" class=\"row_heading level0 row6\" >6</th>\n",
       "                        <td id=\"T_fa066_row6_col0\" class=\"data row6 col0\" >64</td>\n",
       "                        <td id=\"T_fa066_row6_col1\" class=\"data row6 col1\" >1.32581</td>\n",
       "                        <td id=\"T_fa066_row6_col2\" class=\"data row6 col2\" >9.01059e-06</td>\n",
       "                        <td id=\"T_fa066_row6_col3\" class=\"data row6 col3\" >3.99951</td>\n",
       "            </tr>\n",
       "            <tr>\n",
       "                        <th id=\"T_fa066_level0_row7\" class=\"row_heading level0 row7\" >7</th>\n",
       "                        <td id=\"T_fa066_row7_col0\" class=\"data row7 col0\" >128</td>\n",
       "                        <td id=\"T_fa066_row7_col1\" class=\"data row7 col1\" >1.32582</td>\n",
       "                        <td id=\"T_fa066_row7_col2\" class=\"data row7 col2\" >2.25272e-06</td>\n",
       "                        <td id=\"T_fa066_row7_col3\" class=\"data row7 col3\" >3.99988</td>\n",
       "            </tr>\n",
       "            <tr>\n",
       "                        <th id=\"T_fa066_level0_row8\" class=\"row_heading level0 row8\" >8</th>\n",
       "                        <td id=\"T_fa066_row8_col0\" class=\"data row8 col0\" >256</td>\n",
       "                        <td id=\"T_fa066_row8_col1\" class=\"data row8 col1\" >1.32582</td>\n",
       "                        <td id=\"T_fa066_row8_col2\" class=\"data row8 col2\" >5.63183e-07</td>\n",
       "                        <td id=\"T_fa066_row8_col3\" class=\"data row8 col3\" >3.99997</td>\n",
       "            </tr>\n",
       "    </tbody></table>"
      ],
      "text/plain": [
       "<pandas.io.formats.style.Styler at 0x7fcdb4b680a0>"
      ]
     },
     "execution_count": 32,
     "metadata": {},
     "output_type": "execute_result"
    }
   ],
   "source": [
    "fx2 = lambda x: 1 / (1+x**2)\n",
    "ex2 = np.arctan(4)\n",
    "pptab(trapezoidal(fx2, (0, 4), ex2)).style.format(\"{:.6g}\")"
   ]
  },
  {
   "cell_type": "code",
   "execution_count": 33,
   "metadata": {
    "hide_input": true,
    "run_control": {
     "marked": false
    }
   },
   "outputs": [
    {
     "data": {
      "text/html": [
       "<style  type=\"text/css\" >\n",
       "</style><table id=\"T_92230_\" ><thead>    <tr>        <th class=\"blank level0\" ></th>        <th class=\"col_heading level0 col0\" >$n$</th>        <th class=\"col_heading level0 col1\" >$I_n(f)$</th>        <th class=\"col_heading level0 col2\" >Error</th>        <th class=\"col_heading level0 col3\" >Ratio</th>    </tr></thead><tbody>\n",
       "                <tr>\n",
       "                        <th id=\"T_92230_level0_row0\" class=\"row_heading level0 row0\" >0</th>\n",
       "                        <td id=\"T_92230_row0_col0\" class=\"data row0 col0\" >1</td>\n",
       "                        <td id=\"T_92230_row0_col1\" class=\"data row0 col1\" >1.23922</td>\n",
       "                        <td id=\"T_92230_row0_col2\" class=\"data row0 col2\" >0.086602</td>\n",
       "                        <td id=\"T_92230_row0_col3\" class=\"data row0 col3\" >nan</td>\n",
       "            </tr>\n",
       "            <tr>\n",
       "                        <th id=\"T_92230_level0_row1\" class=\"row_heading level0 row1\" >1</th>\n",
       "                        <td id=\"T_92230_row1_col0\" class=\"data row1 col0\" >4</td>\n",
       "                        <td id=\"T_92230_row1_col1\" class=\"data row1 col1\" >1.28627</td>\n",
       "                        <td id=\"T_92230_row1_col2\" class=\"data row1 col2\" >0.0395432</td>\n",
       "                        <td id=\"T_92230_row1_col3\" class=\"data row1 col3\" >2.19006</td>\n",
       "            </tr>\n",
       "            <tr>\n",
       "                        <th id=\"T_92230_level0_row2\" class=\"row_heading level0 row2\" >2</th>\n",
       "                        <td id=\"T_92230_row2_col0\" class=\"data row2 col0\" >8</td>\n",
       "                        <td id=\"T_92230_row2_col1\" class=\"data row2 col1\" >1.32387</td>\n",
       "                        <td id=\"T_92230_row2_col2\" class=\"data row2 col2\" >0.00195038</td>\n",
       "                        <td id=\"T_92230_row2_col3\" class=\"data row2 col3\" >20.2746</td>\n",
       "            </tr>\n",
       "            <tr>\n",
       "                        <th id=\"T_92230_level0_row3\" class=\"row_heading level0 row3\" >3</th>\n",
       "                        <td id=\"T_92230_row3_col0\" class=\"data row3 col0\" >16</td>\n",
       "                        <td id=\"T_92230_row3_col1\" class=\"data row3 col1\" >1.32581</td>\n",
       "                        <td id=\"T_92230_row3_col2\" class=\"data row3 col2\" >4.02219e-06</td>\n",
       "                        <td id=\"T_92230_row3_col3\" class=\"data row3 col3\" >484.905</td>\n",
       "            </tr>\n",
       "            <tr>\n",
       "                        <th id=\"T_92230_level0_row4\" class=\"row_heading level0 row4\" >4</th>\n",
       "                        <td id=\"T_92230_row4_col0\" class=\"data row4 col0\" >32</td>\n",
       "                        <td id=\"T_92230_row4_col1\" class=\"data row4 col1\" >1.32582</td>\n",
       "                        <td id=\"T_92230_row4_col2\" class=\"data row4 col2\" >2.33365e-08</td>\n",
       "                        <td id=\"T_92230_row4_col3\" class=\"data row4 col3\" >172.356</td>\n",
       "            </tr>\n",
       "            <tr>\n",
       "                        <th id=\"T_92230_level0_row5\" class=\"row_heading level0 row5\" >5</th>\n",
       "                        <td id=\"T_92230_row5_col0\" class=\"data row5 col0\" >64</td>\n",
       "                        <td id=\"T_92230_row5_col1\" class=\"data row5 col1\" >1.32582</td>\n",
       "                        <td id=\"T_92230_row5_col2\" class=\"data row5 col2\" >1.4606e-09</td>\n",
       "                        <td id=\"T_92230_row5_col3\" class=\"data row5 col3\" >15.9774</td>\n",
       "            </tr>\n",
       "            <tr>\n",
       "                        <th id=\"T_92230_level0_row6\" class=\"row_heading level0 row6\" >6</th>\n",
       "                        <td id=\"T_92230_row6_col0\" class=\"data row6 col0\" >128</td>\n",
       "                        <td id=\"T_92230_row6_col1\" class=\"data row6 col1\" >1.32582</td>\n",
       "                        <td id=\"T_92230_row6_col2\" class=\"data row6 col2\" >9.13325e-11</td>\n",
       "                        <td id=\"T_92230_row6_col3\" class=\"data row6 col3\" >15.9921</td>\n",
       "            </tr>\n",
       "            <tr>\n",
       "                        <th id=\"T_92230_level0_row7\" class=\"row_heading level0 row7\" >7</th>\n",
       "                        <td id=\"T_92230_row7_col0\" class=\"data row7 col0\" >256</td>\n",
       "                        <td id=\"T_92230_row7_col1\" class=\"data row7 col1\" >1.32582</td>\n",
       "                        <td id=\"T_92230_row7_col2\" class=\"data row7 col2\" >5.70943e-12</td>\n",
       "                        <td id=\"T_92230_row7_col3\" class=\"data row7 col3\" >15.9968</td>\n",
       "            </tr>\n",
       "            <tr>\n",
       "                        <th id=\"T_92230_level0_row8\" class=\"row_heading level0 row8\" >8</th>\n",
       "                        <td id=\"T_92230_row8_col0\" class=\"data row8 col0\" >512</td>\n",
       "                        <td id=\"T_92230_row8_col1\" class=\"data row8 col1\" >1.32582</td>\n",
       "                        <td id=\"T_92230_row8_col2\" class=\"data row8 col2\" >3.5727e-13</td>\n",
       "                        <td id=\"T_92230_row8_col3\" class=\"data row8 col3\" >15.9807</td>\n",
       "            </tr>\n",
       "    </tbody></table>"
      ],
      "text/plain": [
       "<pandas.io.formats.style.Styler at 0x7fcdb4b682b0>"
      ]
     },
     "execution_count": 33,
     "metadata": {},
     "output_type": "execute_result"
    }
   ],
   "source": [
    "pptab(simpson(fx2, (0, 4), ex2)).style.format(\"{:.6g}\")"
   ]
  },
  {
   "cell_type": "code",
   "execution_count": 34,
   "metadata": {
    "hide_input": false,
    "run_control": {
     "marked": false
    },
    "slideshow": {
     "slide_type": "subslide"
    }
   },
   "outputs": [
    {
     "data": {
      "image/png": "[encoded data removed]",
      "text/plain": [
       "<Figure size 864x648 with 1 Axes>"
      ]
     },
     "metadata": {
      "needs_background": "light"
     },
     "output_type": "display_data"
    }
   ],
   "source": [
    "xrx2 = np.linspace(0, 4, 100)\n",
    "plt.plot(xrx2, fx2(xrx2));"
   ]
  },
  {
   "cell_type": "code",
   "execution_count": 35,
   "metadata": {
    "hide_input": false,
    "run_control": {
     "marked": false
    },
    "slideshow": {
     "slide_type": "subslide"
    }
   },
   "outputs": [
    {
     "name": "stderr",
     "output_type": "stream",
     "text": [
      "<ipython-input-21-ff6a13a608d9>:14: RuntimeWarning: divide by zero encountered in double_scalars\n",
      "  res.append([n, Tn, err_n, err1 / err_n])\n"
     ]
    },
    {
     "data": {
      "text/html": [
       "<style  type=\"text/css\" >\n",
       "</style><table id=\"T_e5ac5_\" ><thead>    <tr>        <th class=\"blank level0\" ></th>        <th class=\"col_heading level0 col0\" >$n$</th>        <th class=\"col_heading level0 col1\" >$I_n(f)$</th>        <th class=\"col_heading level0 col2\" >Error</th>        <th class=\"col_heading level0 col3\" >Ratio</th>    </tr></thead><tbody>\n",
       "                <tr>\n",
       "                        <th id=\"T_e5ac5_level0_row0\" class=\"row_heading level0 row0\" >0</th>\n",
       "                        <td id=\"T_e5ac5_row0_col0\" class=\"data row0 col0\" >1</td>\n",
       "                        <td id=\"T_e5ac5_row0_col1\" class=\"data row0 col1\" >2.0944</td>\n",
       "                        <td id=\"T_e5ac5_row0_col2\" class=\"data row0 col2\" >1.5332</td>\n",
       "                        <td id=\"T_e5ac5_row0_col3\" class=\"data row0 col3\" >nan</td>\n",
       "            </tr>\n",
       "            <tr>\n",
       "                        <th id=\"T_e5ac5_level0_row1\" class=\"row_heading level0 row1\" >1</th>\n",
       "                        <td id=\"T_e5ac5_row1_col0\" class=\"data row1 col0\" >2</td>\n",
       "                        <td id=\"T_e5ac5_row1_col1\" class=\"data row1 col1\" >4.18879</td>\n",
       "                        <td id=\"T_e5ac5_row1_col2\" class=\"data row1 col2\" >-0.561191</td>\n",
       "                        <td id=\"T_e5ac5_row1_col3\" class=\"data row1 col3\" >-2.73205</td>\n",
       "            </tr>\n",
       "            <tr>\n",
       "                        <th id=\"T_e5ac5_level0_row2\" class=\"row_heading level0 row2\" >2</th>\n",
       "                        <td id=\"T_e5ac5_row2_col0\" class=\"data row2 col0\" >4</td>\n",
       "                        <td id=\"T_e5ac5_row2_col1\" class=\"data row2 col1\" >3.66519</td>\n",
       "                        <td id=\"T_e5ac5_row2_col2\" class=\"data row2 col2\" >-0.0375927</td>\n",
       "                        <td id=\"T_e5ac5_row2_col3\" class=\"data row2 col3\" >14.9282</td>\n",
       "            </tr>\n",
       "            <tr>\n",
       "                        <th id=\"T_e5ac5_level0_row3\" class=\"row_heading level0 row3\" >3</th>\n",
       "                        <td id=\"T_e5ac5_row3_col0\" class=\"data row3 col0\" >8</td>\n",
       "                        <td id=\"T_e5ac5_row3_col1\" class=\"data row3 col1\" >3.62779</td>\n",
       "                        <td id=\"T_e5ac5_row3_col2\" class=\"data row3 col2\" >-0.000192788</td>\n",
       "                        <td id=\"T_e5ac5_row3_col3\" class=\"data row3 col3\" >194.995</td>\n",
       "            </tr>\n",
       "            <tr>\n",
       "                        <th id=\"T_e5ac5_level0_row4\" class=\"row_heading level0 row4\" >4</th>\n",
       "                        <td id=\"T_e5ac5_row4_col0\" class=\"data row4 col0\" >16</td>\n",
       "                        <td id=\"T_e5ac5_row4_col1\" class=\"data row4 col1\" >3.6276</td>\n",
       "                        <td id=\"T_e5ac5_row4_col2\" class=\"data row4 col2\" >-5.12258e-09</td>\n",
       "                        <td id=\"T_e5ac5_row4_col3\" class=\"data row4 col3\" >37635</td>\n",
       "            </tr>\n",
       "            <tr>\n",
       "                        <th id=\"T_e5ac5_level0_row5\" class=\"row_heading level0 row5\" >5</th>\n",
       "                        <td id=\"T_e5ac5_row5_col0\" class=\"data row5 col0\" >32</td>\n",
       "                        <td id=\"T_e5ac5_row5_col1\" class=\"data row5 col1\" >3.6276</td>\n",
       "                        <td id=\"T_e5ac5_row5_col2\" class=\"data row5 col2\" >0</td>\n",
       "                        <td id=\"T_e5ac5_row5_col3\" class=\"data row5 col3\" >-inf</td>\n",
       "            </tr>\n",
       "            <tr>\n",
       "                        <th id=\"T_e5ac5_level0_row6\" class=\"row_heading level0 row6\" >6</th>\n",
       "                        <td id=\"T_e5ac5_row6_col0\" class=\"data row6 col0\" >64</td>\n",
       "                        <td id=\"T_e5ac5_row6_col1\" class=\"data row6 col1\" >3.6276</td>\n",
       "                        <td id=\"T_e5ac5_row6_col2\" class=\"data row6 col2\" >-4.44089e-16</td>\n",
       "                        <td id=\"T_e5ac5_row6_col3\" class=\"data row6 col3\" >-0</td>\n",
       "            </tr>\n",
       "            <tr>\n",
       "                        <th id=\"T_e5ac5_level0_row7\" class=\"row_heading level0 row7\" >7</th>\n",
       "                        <td id=\"T_e5ac5_row7_col0\" class=\"data row7 col0\" >128</td>\n",
       "                        <td id=\"T_e5ac5_row7_col1\" class=\"data row7 col1\" >3.6276</td>\n",
       "                        <td id=\"T_e5ac5_row7_col2\" class=\"data row7 col2\" >-8.88178e-16</td>\n",
       "                        <td id=\"T_e5ac5_row7_col3\" class=\"data row7 col3\" >0.5</td>\n",
       "            </tr>\n",
       "            <tr>\n",
       "                        <th id=\"T_e5ac5_level0_row8\" class=\"row_heading level0 row8\" >8</th>\n",
       "                        <td id=\"T_e5ac5_row8_col0\" class=\"data row8 col0\" >256</td>\n",
       "                        <td id=\"T_e5ac5_row8_col1\" class=\"data row8 col1\" >3.6276</td>\n",
       "                        <td id=\"T_e5ac5_row8_col2\" class=\"data row8 col2\" >0</td>\n",
       "                        <td id=\"T_e5ac5_row8_col3\" class=\"data row8 col3\" >-inf</td>\n",
       "            </tr>\n",
       "    </tbody></table>"
      ],
      "text/plain": [
       "<pandas.io.formats.style.Styler at 0x7fcdb4b688e0>"
      ]
     },
     "execution_count": 35,
     "metadata": {},
     "output_type": "execute_result"
    }
   ],
   "source": [
    "fx3 = lambda x: 1 / (2 + np.cos(x))\n",
    "ex3 = 2 * np.pi / np.sqrt(3)\n",
    "pptab(trapezoidal(fx3, (0, 2*np.pi), ex3)).style.format(\"{:.6g}\")"
   ]
  },
  {
   "cell_type": "code",
   "execution_count": 36,
   "metadata": {
    "hide_input": true,
    "run_control": {
     "marked": false
    }
   },
   "outputs": [
    {
     "data": {
      "text/html": [
       "<style  type=\"text/css\" >\n",
       "</style><table id=\"T_6f8ee_\" ><thead>    <tr>        <th class=\"blank level0\" ></th>        <th class=\"col_heading level0 col0\" >$n$</th>        <th class=\"col_heading level0 col1\" >$I_n(f)$</th>        <th class=\"col_heading level0 col2\" >Error</th>        <th class=\"col_heading level0 col3\" >Ratio</th>    </tr></thead><tbody>\n",
       "                <tr>\n",
       "                        <th id=\"T_6f8ee_level0_row0\" class=\"row_heading level0 row0\" >0</th>\n",
       "                        <td id=\"T_6f8ee_row0_col0\" class=\"data row0 col0\" >1</td>\n",
       "                        <td id=\"T_6f8ee_row0_col1\" class=\"data row0 col1\" >4.88692</td>\n",
       "                        <td id=\"T_6f8ee_row0_col2\" class=\"data row0 col2\" >-1.25932</td>\n",
       "                        <td id=\"T_6f8ee_row0_col3\" class=\"data row0 col3\" >nan</td>\n",
       "            </tr>\n",
       "            <tr>\n",
       "                        <th id=\"T_6f8ee_level0_row1\" class=\"row_heading level0 row1\" >1</th>\n",
       "                        <td id=\"T_6f8ee_row1_col0\" class=\"data row1 col0\" >4</td>\n",
       "                        <td id=\"T_6f8ee_row1_col1\" class=\"data row1 col1\" >3.49066</td>\n",
       "                        <td id=\"T_6f8ee_row1_col2\" class=\"data row1 col2\" >0.13694</td>\n",
       "                        <td id=\"T_6f8ee_row1_col3\" class=\"data row1 col3\" >-9.19615</td>\n",
       "            </tr>\n",
       "            <tr>\n",
       "                        <th id=\"T_6f8ee_level0_row2\" class=\"row_heading level0 row2\" >2</th>\n",
       "                        <td id=\"T_6f8ee_row2_col0\" class=\"data row2 col0\" >8</td>\n",
       "                        <td id=\"T_6f8ee_row2_col1\" class=\"data row2 col1\" >3.61532</td>\n",
       "                        <td id=\"T_6f8ee_row2_col2\" class=\"data row2 col2\" >0.0122738</td>\n",
       "                        <td id=\"T_6f8ee_row2_col3\" class=\"data row2 col3\" >11.1571</td>\n",
       "            </tr>\n",
       "            <tr>\n",
       "                        <th id=\"T_6f8ee_level0_row3\" class=\"row_heading level0 row3\" >3</th>\n",
       "                        <td id=\"T_6f8ee_row3_col0\" class=\"data row3 col0\" >16</td>\n",
       "                        <td id=\"T_6f8ee_row3_col1\" class=\"data row3 col1\" >3.62753</td>\n",
       "                        <td id=\"T_6f8ee_row3_col2\" class=\"data row3 col2\" >6.42559e-05</td>\n",
       "                        <td id=\"T_6f8ee_row3_col3\" class=\"data row3 col3\" >191.015</td>\n",
       "            </tr>\n",
       "            <tr>\n",
       "                        <th id=\"T_6f8ee_level0_row4\" class=\"row_heading level0 row4\" >4</th>\n",
       "                        <td id=\"T_6f8ee_row4_col0\" class=\"data row4 col0\" >32</td>\n",
       "                        <td id=\"T_6f8ee_row4_col1\" class=\"data row4 col1\" >3.6276</td>\n",
       "                        <td id=\"T_6f8ee_row4_col2\" class=\"data row4 col2\" >1.70753e-09</td>\n",
       "                        <td id=\"T_6f8ee_row4_col3\" class=\"data row4 col3\" >37631</td>\n",
       "            </tr>\n",
       "            <tr>\n",
       "                        <th id=\"T_6f8ee_level0_row5\" class=\"row_heading level0 row5\" >5</th>\n",
       "                        <td id=\"T_6f8ee_row5_col0\" class=\"data row5 col0\" >64</td>\n",
       "                        <td id=\"T_6f8ee_row5_col1\" class=\"data row5 col1\" >3.6276</td>\n",
       "                        <td id=\"T_6f8ee_row5_col2\" class=\"data row5 col2\" >8.88178e-16</td>\n",
       "                        <td id=\"T_6f8ee_row5_col3\" class=\"data row5 col3\" >1.9225e+06</td>\n",
       "            </tr>\n",
       "            <tr>\n",
       "                        <th id=\"T_6f8ee_level0_row6\" class=\"row_heading level0 row6\" >6</th>\n",
       "                        <td id=\"T_6f8ee_row6_col0\" class=\"data row6 col0\" >128</td>\n",
       "                        <td id=\"T_6f8ee_row6_col1\" class=\"data row6 col1\" >3.6276</td>\n",
       "                        <td id=\"T_6f8ee_row6_col2\" class=\"data row6 col2\" >8.88178e-16</td>\n",
       "                        <td id=\"T_6f8ee_row6_col3\" class=\"data row6 col3\" >1</td>\n",
       "            </tr>\n",
       "            <tr>\n",
       "                        <th id=\"T_6f8ee_level0_row7\" class=\"row_heading level0 row7\" >7</th>\n",
       "                        <td id=\"T_6f8ee_row7_col0\" class=\"data row7 col0\" >256</td>\n",
       "                        <td id=\"T_6f8ee_row7_col1\" class=\"data row7 col1\" >3.6276</td>\n",
       "                        <td id=\"T_6f8ee_row7_col2\" class=\"data row7 col2\" >-8.88178e-16</td>\n",
       "                        <td id=\"T_6f8ee_row7_col3\" class=\"data row7 col3\" >-1</td>\n",
       "            </tr>\n",
       "            <tr>\n",
       "                        <th id=\"T_6f8ee_level0_row8\" class=\"row_heading level0 row8\" >8</th>\n",
       "                        <td id=\"T_6f8ee_row8_col0\" class=\"data row8 col0\" >512</td>\n",
       "                        <td id=\"T_6f8ee_row8_col1\" class=\"data row8 col1\" >3.6276</td>\n",
       "                        <td id=\"T_6f8ee_row8_col2\" class=\"data row8 col2\" >-2.66454e-15</td>\n",
       "                        <td id=\"T_6f8ee_row8_col3\" class=\"data row8 col3\" >0.333333</td>\n",
       "            </tr>\n",
       "    </tbody></table>"
      ],
      "text/plain": [
       "<pandas.io.formats.style.Styler at 0x7fcd9517ec10>"
      ]
     },
     "execution_count": 36,
     "metadata": {},
     "output_type": "execute_result"
    }
   ],
   "source": [
    "pptab(simpson(fx3, (0, 2*np.pi), ex3)).style.format(\"{:.6g}\")"
   ]
  },
  {
   "cell_type": "code",
   "execution_count": 37,
   "metadata": {
    "hide_input": false,
    "run_control": {
     "marked": false
    },
    "slideshow": {
     "slide_type": "subslide"
    }
   },
   "outputs": [
    {
     "data": {
      "image/png": "[encoded data removed]",
      "text/plain": [
       "<Figure size 864x648 with 1 Axes>"
      ]
     },
     "metadata": {
      "needs_background": "light"
     },
     "output_type": "display_data"
    }
   ],
   "source": [
    "xrx3 = np.linspace(0, 2*np.pi, 100)\n",
    "plt.plot(xrx3, fx3(xrx3));"
   ]
  }
 ],
 "metadata": {
  "celltoolbar": "Slideshow",
  "hide_input": false,
  "kernelspec": {
   "display_name": "Python 3 (ipykernel)",
   "language": "python",
   "name": "python3"
  },
  "language_info": {
   "codemirror_mode": {
    "name": "ipython",
    "version": 3
   },
   "file_extension": ".py",
   "mimetype": "text/x-python",
   "name": "python",
   "nbconvert_exporter": "python",
   "pygments_lexer": "ipython3",
   "version": "3.11.5"
  },
  "latex_envs": {
   "LaTeX_envs_menu_present": true,
   "autoclose": false,
   "autocomplete": true,
   "bibliofile": "biblio.bib",
   "cite_by": "apalike",
   "current_citInitial": 1,
   "eqLabelWithNumbers": true,
   "eqNumInitial": 1,
   "hotkeys": {
    "equation": "ctrl-shift-i"
   },
   "labels_anchors": false,
   "latex_user_defs": false,
   "report_style_numbering": false,
   "user_envs_cfg": false
  },
  "toc": {
   "base_numbering": 1,
   "nav_menu": {
    "height": "66px",
    "width": "252px"
   },
   "number_sections": true,
   "sideBar": true,
   "skip_h1_title": false,
   "title_cell": "Table of Contents",
   "title_sidebar": "Contents",
   "toc_cell": false,
   "toc_position": {},
   "toc_section_display": "block",
   "toc_window_display": false
  },
  "varInspector": {
   "cols": {
    "lenName": 16,
    "lenType": 16,
    "lenVar": 40
   },
   "kernels_config": {
    "python": {
     "delete_cmd_postfix": "",
     "delete_cmd_prefix": "del ",
     "library": "var_list.py",
     "varRefreshCmd": "print(var_dic_list())"
    },
    "r": {
     "delete_cmd_postfix": ") ",
     "delete_cmd_prefix": "rm(",
     "library": "var_list.r",
     "varRefreshCmd": "cat(var_dic_list()) "
    }
   },
   "types_to_exclude": [
    "module",
    "function",
    "builtin_function_or_method",
    "instance",
    "_Feature"
   ],
   "window_display": false
  }
 },
 "nbformat": 4,
 "nbformat_minor": 4
}
