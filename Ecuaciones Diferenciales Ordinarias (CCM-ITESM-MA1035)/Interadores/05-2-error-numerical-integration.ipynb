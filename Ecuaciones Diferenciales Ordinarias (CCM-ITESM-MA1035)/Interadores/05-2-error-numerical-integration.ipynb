{
 "cells": [
  {
   "cell_type": "markdown",
   "metadata": {
    "editable": true,
    "hide_input": false,
    "run_control": {
     "marked": false
    },
    "slideshow": {
     "slide_type": "slide"
    },
    "tags": []
   },
   "source": [
    "# Error en Integración Númerica"
   ]
  },
  {
   "cell_type": "code",
   "execution_count": 6,
   "metadata": {
    "hide_input": false,
    "init_cell": true,
    "run_control": {
     "marked": false
    },
    "slideshow": {
     "slide_type": "skip"
    }
   },
   "outputs": [
    {
     "name": "stdout",
     "output_type": "stream",
     "text": [
      "The autoreload extension is already loaded. To reload it, use:\n",
      "  %reload_ext autoreload\n"
     ]
    }
   ],
   "source": [
    "%load_ext autoreload\n",
    "%autoreload 1\n",
    "%aimport numa_teaching.formatting\n",
    "from numa_teaching.formatting import fltx, nan_sp"
   ]
  },
  {
   "cell_type": "code",
   "execution_count": 7,
   "metadata": {
    "hide_input": false,
    "init_cell": true,
    "run_control": {
     "marked": false
    },
    "slideshow": {
     "slide_type": "skip"
    }
   },
   "outputs": [],
   "source": [
    "# sympy\n",
    "from sympy import init_printing\n",
    "from sympy import I, nroots, lambdify, diff, latex, symbols, pi, interpolating_poly, cos, N, integrate, Integral, exp, solve\n",
    "from sympy.abc import x, epsilon, alpha\n",
    "import operator\n",
    "import functools\n",
    "init_printing()\n",
    "#init_printing(use_latex=False)"
   ]
  },
  {
   "cell_type": "code",
   "execution_count": 8,
   "metadata": {
    "hide_input": false,
    "init_cell": true,
    "run_control": {
     "marked": false
    },
    "slideshow": {
     "slide_type": "skip"
    }
   },
   "outputs": [],
   "source": [
    "# numpy, pandas, matplotlib\n",
    "import numpy as np\n",
    "import pandas as pd\n",
    "import matplotlib.pyplot as plt\n",
    "\n",
    "%matplotlib inline\n",
    "plt.rcParams[\"figure.figsize\"] = [12, 9] # ancho, alto de figuras\n",
    "plt.rcParams[\"font.size\"] = 20"
   ]
  },
  {
   "cell_type": "code",
   "execution_count": 9,
   "metadata": {
    "code_folding": [],
    "hide_input": false,
    "init_cell": true,
    "run_control": {
     "marked": false
    },
    "slideshow": {
     "slide_type": "skip"
    }
   },
   "outputs": [],
   "source": [
    "# Jupyter/ IPython formatting\n",
    "from IPython.display import Math, Latex"
   ]
  },
  {
   "cell_type": "code",
   "execution_count": 10,
   "metadata": {
    "hide_input": false,
    "init_cell": true,
    "run_control": {
     "marked": false
    },
    "slideshow": {
     "slide_type": "skip"
    }
   },
   "outputs": [],
   "source": [
    "from collections import namedtuple\n",
    "from itertools import zip_longest\n",
    "from functools import partial"
   ]
  },
  {
   "cell_type": "markdown",
   "metadata": {
    "hide_input": false,
    "run_control": {
     "marked": false
    },
    "slideshow": {
     "slide_type": "skip"
    }
   },
   "source": [
    "Latex macros\n",
    "$$ \n",
    "\\newcommand{\\d}{\\mathrm{d}}\n",
    "\\DeclareMathOperator{\\deg}{deg}\n",
    "$$"
   ]
  },
  {
   "cell_type": "markdown",
   "metadata": {
    "slideshow": {
     "slide_type": "slide"
    }
   },
   "source": [
    "## Error del metodo trapezoidial\n",
    "\n",
    "**Teorema**\n",
    "Suponemos que $f(x)$ tiene dos derivadas continuas en el intervalo $[a, b]$. Con eso tenemos\n",
    "$$\n",
    "E^T_n(f) \\equiv \\int_a^b f(x)\\,\\d x - T_n(f) = - \\frac{h^2(b-a)}{12} f''(c_n)\n",
    "$$\n",
    "para algún $c_n \\in [a, b]$.\n",
    "\n",
    "Esta formula nos dice que el error es aproximadamente proporcional a $h^2$. Entonces duplicar $n$ y dividir $h$ por 2 debería reducir el error por un factor 4. Eso es lo que hemos observado en nuestros ejemplos."
   ]
  },
  {
   "cell_type": "markdown",
   "metadata": {
    "slideshow": {
     "slide_type": "subslide"
    }
   },
   "source": [
    "### Ejemplo\n",
    "\n",
    "Queremos evaluar\n",
    "$$\n",
    "\\int_0^2 \\frac{\\d x}{1 + x^2}\n",
    "$$\n",
    "usando el metodo del trapezoide $T_n(f)$. Como tenemos que elegir $n$ para asegurarnos\n",
    "$$\n",
    "\\left|E^T_n(f)\\right| \\leq 5 \\times 10^{-6}\n",
    "$$\n",
    "Las derivadas son\n",
    "$$\n",
    "f'(x) = \\frac{-2}{\\bigl(1 + x^2\\bigr)^2}, \\qquad f''(x) = \\frac{-2 + 6 x^2}{\\bigl(1 + x^2\\bigr)^3}\n",
    "$$"
   ]
  },
  {
   "cell_type": "code",
   "execution_count": 11,
   "metadata": {
    "hide_input": true,
    "slideshow": {
     "slide_type": "subslide"
    }
   },
   "outputs": [
    {
     "data": {
      "image/png": "[encoded data removed]",
      "text/plain": [
       "<Figure size 864x648 with 1 Axes>"
      ]
     },
     "metadata": {
      "needs_background": "light"
     },
     "output_type": "display_data"
    }
   ],
   "source": [
    "def f1pp(x):\n",
    "    return (-2 + 6 * x**2) / (1 + x**2)**3\n",
    "\n",
    "x1r = np.linspace(0, 2)\n",
    "plt.plot(x1r, f1pp(x1r))\n",
    "plt.suptitle(r\"$f''(x)$\");"
   ]
  },
  {
   "cell_type": "markdown",
   "metadata": {},
   "source": [
    "Vemos que \n",
    "$$\n",
    "\\max_{0 \\leq x \\leq 2} \\bigl| f''(x) \\bigr| = 2\n",
    "$$"
   ]
  },
  {
   "cell_type": "markdown",
   "metadata": {
    "slideshow": {
     "slide_type": "subslide"
    }
   },
   "source": [
    "Usamos $b - a = 2$ para obtener\n",
    "\\begin{align}\n",
    "E^T_n(f) &= -\\frac{h^2 (b - a)}{12} f''(c_n)\\\\\n",
    "  &\\leq \\frac{h^2 2}{12} 2 = \\frac{h^2}{3}\\\\\n",
    "\\end{align}\n",
    "Como no conocemos a $c_n$ usamos el máximo de $|f''(x)|$ para tener una cota garantizada para el error.\n",
    "\n",
    "Buscamos $h$ para obtener\n",
    "$$\n",
    "\\bigl| E^T_n(f) \\bigr| \\leq 5 \\times 10^{-6}\n",
    "$$\n",
    "Lo podemos garantizar con\n",
    "$$\n",
    "\\frac{h^2}{3} \\leq 5 \\times 10^{-6}\n",
    "$$\n",
    "Para $h$ y $n$ nos da\n",
    "\\begin{align}\n",
    "h &\\leq 0.003873\\\\\n",
    "n = \\frac{2}{h} &\\geq 516.4\n",
    "\\end{align}\n",
    "que nos dice que tenemos que eligir $n \\geq 517$."
   ]
  },
  {
   "cell_type": "markdown",
   "metadata": {
    "slideshow": {
     "slide_type": "slide"
    }
   },
   "source": [
    "## Derivación de la formula para el error\n",
    "\n",
    "La derivación de la formula se hace en 2 pasos:\n",
    "\n",
    "1. Obtener una expresión para el error en el caso de un solo sub-intervalo ($n = 1$).\n",
    "2. Generalizar el resultado para $n$ aribratio para recuperar la expresión general.\n",
    "\n",
    "Para el metodo del trapezoide con un solo intervalo tenemos\n",
    "$$\n",
    "\\int_\\alpha^{\\alpha + h} f(x)\\,\\d x - \\frac{h}{2}[f(\\alpha) + f(\\alpha + h)] = -\\frac{h^3}{12} f''(c)\n",
    "$$\n",
    "para algún $c \\in [\\alpha, \\alpha + h]$. Esta formula se obtiene a partir de la expresión del error de la interpolación lineal."
   ]
  },
  {
   "cell_type": "markdown",
   "metadata": {
    "slideshow": {
     "slide_type": "subslide"
    }
   },
   "source": [
    "Nos recordamos de la expresión para la regla del trapezoide\n",
    "$$\n",
    "h = \\frac{b - a}{n}, \\qquad x_j = a + j\\,h,\\quad j=0, 1, \\dots, n\n",
    "$$\n",
    "\\begin{align}\n",
    "I &= \\int_{x_0}^{x_n} f(x)\\,\\d x\\\\\n",
    "  &= \\int_{x_0}^{x_1} f(x)\\,\\d x + \\int_{x_1}^{x_2} f(x)\\,\\d x + \\dots + \\int_{x_{n-1}}^{x_n} f(x)\\,\\d x\\\\\n",
    "  &\\approx \\frac{h}{2}[f(x_0) + f(x_1)] + \\frac{h}{2}[f(x_1) + f(x_2)] \\\\\n",
    "  & \\quad + \\dots \\\\\n",
    "  & \\quad + \\frac{h}{2}[f(x_{n-2}) + f(x_{n-1})] + \\frac{h}{2}[f(x_{n-1}) + f(x_n)] \\\\\n",
    "\\end{align}\n"
   ]
  },
  {
   "cell_type": "markdown",
   "metadata": {
    "slideshow": {
     "slide_type": "subslide"
    }
   },
   "source": [
    "En este caso el error\n",
    "$$\n",
    "E^T_n(f) \\equiv \\int_a^b f(x)\\,\\d x - T_n(f)\n",
    "$$\n",
    "puede analizarse sumando los errores de los sub-intervalos $[x_0, x_1]$, $[x_1, x_2]$, $\\dots$, $[x_{n-1}, x_n]$. Nos recordamos que\n",
    "$$\n",
    "\\int_\\alpha^{\\alpha + h} f(x)\\,\\d x - \\frac{h}{2}[f(\\alpha) + f(\\alpha + h)] = -\\frac{h^3}{12} f''(c)\n",
    "$$\n",
    "Entonces en $[x_{j-1}, x_j]$:\n",
    "$$\n",
    "\\int_{x_{j-1}}^{x_j} f(x)\\,\\d x - \\frac{h}{2}[f(x_{j-1}) + f(x_j)] = -\\frac{h^3}{12} f''(\\gamma_j)\n",
    "$$\n",
    "para algún $\\gamma_j$ con $x_{j-1} \\leq \\gamma_j \\leq x_j$. Sumando los errores obtenemos\n",
    "$$\n",
    "E^T_n(f) = -\\frac{h^3}{12}f''(\\gamma_1) - \\dots -\\frac{h^3}{12}f''(\\gamma_n)\n",
    "$$\n",
    "Vermos como simplificar esta expresión."
   ]
  },
  {
   "cell_type": "markdown",
   "metadata": {
    "slideshow": {
     "slide_type": "subslide"
    }
   },
   "source": [
    "Otra manera de escibir el error es\n",
    "$$\n",
    "E^T_n(f) = - \\frac{h^3 n}{12} \\underbrace{\\left[ \\frac{f''(\\gamma_1) + \\dots + f''(\\gamma_n)}{n} \\right]}_{\\zeta_n}\n",
    "$$\n",
    "Los parentesis tienen que satisfacer\n",
    "$$\n",
    "\\min_{a \\leq x \\leq b} f''(x) \\leq \\zeta_n \\leq \\max_{a \\leq x \\leq b} f''(x)\n",
    "$$\n",
    "Por suposición, $f''(x)$ es continua. Entonces existe $c_n \\in [a, b]$ con\n",
    "$$\n",
    "f''(c_n) = \\zeta_n\n",
    "$$\n",
    "Con eso y con $hn = b - a$ obtenemos\n",
    "\\begin{align}\n",
    "E^T_n(f) &=  - \\frac{h^3 n}{12} \\left[ \\frac{f''(\\gamma_1) + \\dots + f''(\\gamma_n)}{n} \\right]\\\\\n",
    "  &= -\\frac{h^2(b - a)}{12} f''(c_n)\n",
    "\\end{align}\n",
    "que es la expresión dada al inicio."
   ]
  },
  {
   "cell_type": "markdown",
   "metadata": {
    "slideshow": {
     "slide_type": "slide"
    }
   },
   "source": [
    "## Estimado del error\n",
    "\n",
    "Para obtener una forma para estimar el error regresamos a\n",
    "$$\n",
    "E^T_n(f) = -\\frac{h^3}{12}f''(\\gamma_1) - \\dots -\\frac{h^3}{12}f''(\\gamma_n)\n",
    "$$\n",
    "y lo re-escribimos como\n",
    "$$\n",
    "E^T_n(f) = -\\frac{h^3}{12}\\bigl[f''(\\gamma_1) + \\dots + f''(\\gamma_n) \\bigr]\n",
    "$$\n",
    "La cantidad \n",
    "$$\n",
    "f''(\\gamma_1)h + \\dots + f''(\\gamma_n)h\n",
    "$$\n",
    "es la *Suma de Riemann* para la integral\n",
    "$$\n",
    "\\int_a^b f''(x)\\,\\d x = f'(b) - f'(a)\n",
    "$$\n",
    "por la relación\n",
    "$$\n",
    "\\lim_{n \\to \\infty} \\bigl[ f''(\\gamma_1) h + \\dots + f''(\\gamma_n) h \\bigr] = \\int_a^b f''(x)\\,\\d x\n",
    "$$"
   ]
  },
  {
   "cell_type": "markdown",
   "metadata": {
    "slideshow": {
     "slide_type": "subslide"
    }
   },
   "source": [
    "Entonces tenemos\n",
    "$$\n",
    "f''(\\gamma_1)h + \\dots + f''(\\gamma_n)h \\approx f'(b) - f'(a)\n",
    "$$\n",
    "para $n$ grande. En combinación con la expresión\n",
    "$$\n",
    "E^T_n(f) = -\\frac{h^3}{12}\\bigl[f''(\\gamma_1) + \\dots + f''(\\gamma_n) \\bigr]\n",
    "$$\n",
    "para el error obtenemos\n",
    "$$\n",
    "E^T_n(f) \\approx \\frac{h^2}{12} \\bigl[ f'(b) - f'(a) \\bigr] \\equiv \\tilde E^T_n(f)\n",
    "$$\n",
    "Es un estimado del error que se puede evaluar, llamado *estimado asimptotico del error*."
   ]
  },
  {
   "cell_type": "markdown",
   "metadata": {
    "slideshow": {
     "slide_type": "subslide"
    }
   },
   "source": [
    "### Ejemplo \n",
    "\n",
    "$$\n",
    "I(f) = \\int_0^\\pi e^x \\cos x \\,\\d x = - \\frac{e^\\pi + 1}{2} \\doteq - 12.070346\n",
    "$$\n",
    "En este caso\n",
    "\\begin{align}\n",
    "f'(x)  &= e^x [\\cos x - \\sin x]\\\\\n",
    "f''(x) &= -2 e^x \\sin x\\\\\n",
    "\\max_{0 \\leq x \\leq \\pi} |f''(x)| &= |f''(0.75\\pi)| = 14.921\n",
    "\\end{align}"
   ]
  },
  {
   "cell_type": "markdown",
   "metadata": {
    "slideshow": {
     "slide_type": "subslide"
    }
   },
   "source": [
    "Nos da\n",
    "\\begin{align}\n",
    "E^T_n(f) &= -\\frac{h^2 (b - a)}{12} f''(c_n)\\\\\n",
    "|E^T_n(f)| &\\leq \\frac{h^2 \\pi}{12} \\cdot 14.921 = 3.906 h^2\n",
    "\\end{align}\n",
    "y\n",
    "\\begin{align}\n",
    "\\tilde E^T_n(f) &= -\\frac{h^2}{12} [f'(\\pi) - f'(0)]\\\\\n",
    "  &= \\frac{h^2}{12} [e^\\pi +1] \\doteq 2.012 h^2\n",
    "\\end{align}"
   ]
  },
  {
   "cell_type": "code",
   "execution_count": 12,
   "metadata": {
    "code_folding": [
     0
    ],
    "slideshow": {
     "slide_type": "skip"
    }
   },
   "outputs": [],
   "source": [
    "def trapezoidal(f, fp, rang, exact, log_n=8):\n",
    "    T1 = (rang[1] - rang[0]) / 2 * (f(rang[0]) + f(rang[1]))\n",
    "    err1 = exact - T1\n",
    "    h = rang[1] - rang[0]\n",
    "    n = 1\n",
    "    err_est = - h**2/12 * (fp(rang[1]) - fp(rang[0]))\n",
    "    res = [[1, T1, err_est, err1, np.nan]]\n",
    "    for i in range(log_n):\n",
    "        h /= 2\n",
    "        Tn = T1 / 2\n",
    "        for j in range(n):\n",
    "            Tn += h * f(rang[0] + h + 2*j*h)\n",
    "        n *= 2\n",
    "        err_n = exact - Tn \n",
    "        err_est = - h**2/12 * (fp(rang[1]) - fp(rang[0]))\n",
    "        res.append([n, Tn, err_est, err_n, err1 / err_n])\n",
    "        err1 = err_n\n",
    "        T1 = Tn\n",
    "    return res\n",
    "\n",
    "def f1(x):\n",
    "    return np.exp(x) * np.cos(x)\n",
    "\n",
    "def f1p(x):\n",
    "    return np.exp(x) * (np.cos(x) - np.sin(x))\n",
    "\n",
    "tab1 = trapezoidal(f1, f1p, (0, np.pi), -(np.exp(np.pi) +1) / 2)"
   ]
  },
  {
   "cell_type": "markdown",
   "metadata": {
    "slideshow": {
     "slide_type": "subslide"
    }
   },
   "source": [
    "En la tabla notamos que el error y el error estimado están muy cerca."
   ]
  },
  {
   "cell_type": "code",
   "execution_count": 13,
   "metadata": {
    "hide_input": true
   },
   "outputs": [
    {
     "data": {
      "text/html": [
       "<style  type=\"text/css\" >\n",
       "</style><table id=\"T_bf18d_\" ><thead>    <tr>        <th class=\"blank level0\" ></th>        <th class=\"col_heading level0 col0\" >$n$</th>        <th class=\"col_heading level0 col1\" >$T_n(f)$</th>        <th class=\"col_heading level0 col2\" >Error (est)</th>        <th class=\"col_heading level0 col3\" >Error</th>        <th class=\"col_heading level0 col4\" >Ratio</th>    </tr></thead><tbody>\n",
       "                <tr>\n",
       "                        <th id=\"T_bf18d_level0_row0\" class=\"row_heading level0 row0\" >0</th>\n",
       "                        <td id=\"T_bf18d_row0_col0\" class=\"data row0 col0\" >1</td>\n",
       "                        <td id=\"T_bf18d_row0_col1\" class=\"data row0 col1\" >-34.778518660</td>\n",
       "                        <td id=\"T_bf18d_row0_col2\" class=\"data row0 col2\" >1.99e+01</td>\n",
       "                        <td id=\"T_bf18d_row0_col3\" class=\"data row0 col3\" >2.27e+01</td>\n",
       "                        <td id=\"T_bf18d_row0_col4\" class=\"data row0 col4\" ></td>\n",
       "            </tr>\n",
       "            <tr>\n",
       "                        <th id=\"T_bf18d_level0_row1\" class=\"row_heading level0 row1\" >1</th>\n",
       "                        <td id=\"T_bf18d_row1_col0\" class=\"data row1 col0\" >2</td>\n",
       "                        <td id=\"T_bf18d_row1_col1\" class=\"data row1 col1\" >-17.389259330</td>\n",
       "                        <td id=\"T_bf18d_row1_col2\" class=\"data row1 col2\" >4.96e+00</td>\n",
       "                        <td id=\"T_bf18d_row1_col3\" class=\"data row1 col3\" >5.32e+00</td>\n",
       "                        <td id=\"T_bf18d_row1_col4\" class=\"data row1 col4\" >$4.27$</td>\n",
       "            </tr>\n",
       "            <tr>\n",
       "                        <th id=\"T_bf18d_level0_row2\" class=\"row_heading level0 row2\" >2</th>\n",
       "                        <td id=\"T_bf18d_row2_col0\" class=\"data row2 col0\" >4</td>\n",
       "                        <td id=\"T_bf18d_row2_col1\" class=\"data row2 col1\" >-13.336022847</td>\n",
       "                        <td id=\"T_bf18d_row2_col2\" class=\"data row2 col2\" >1.24e+00</td>\n",
       "                        <td id=\"T_bf18d_row2_col3\" class=\"data row2 col3\" >1.27e+00</td>\n",
       "                        <td id=\"T_bf18d_row2_col4\" class=\"data row2 col4\" >$4.20$</td>\n",
       "            </tr>\n",
       "            <tr>\n",
       "                        <th id=\"T_bf18d_level0_row3\" class=\"row_heading level0 row3\" >3</th>\n",
       "                        <td id=\"T_bf18d_row3_col0\" class=\"data row3 col0\" >8</td>\n",
       "                        <td id=\"T_bf18d_row3_col1\" class=\"data row3 col1\" >-12.382162430</td>\n",
       "                        <td id=\"T_bf18d_row3_col2\" class=\"data row3 col2\" >3.10e-01</td>\n",
       "                        <td id=\"T_bf18d_row3_col3\" class=\"data row3 col3\" >3.12e-01</td>\n",
       "                        <td id=\"T_bf18d_row3_col4\" class=\"data row3 col4\" >$4.06$</td>\n",
       "            </tr>\n",
       "            <tr>\n",
       "                        <th id=\"T_bf18d_level0_row4\" class=\"row_heading level0 row4\" >4</th>\n",
       "                        <td id=\"T_bf18d_row4_col0\" class=\"data row4 col0\" >16</td>\n",
       "                        <td id=\"T_bf18d_row4_col1\" class=\"data row4 col1\" >-12.148004100</td>\n",
       "                        <td id=\"T_bf18d_row4_col2\" class=\"data row4 col2\" >7.76e-02</td>\n",
       "                        <td id=\"T_bf18d_row4_col3\" class=\"data row4 col3\" >7.77e-02</td>\n",
       "                        <td id=\"T_bf18d_row4_col4\" class=\"data row4 col4\" >$4.02$</td>\n",
       "            </tr>\n",
       "            <tr>\n",
       "                        <th id=\"T_bf18d_level0_row5\" class=\"row_heading level0 row5\" >5</th>\n",
       "                        <td id=\"T_bf18d_row5_col0\" class=\"data row5 col0\" >32</td>\n",
       "                        <td id=\"T_bf18d_row5_col1\" class=\"data row5 col1\" >-12.089742117</td>\n",
       "                        <td id=\"T_bf18d_row5_col2\" class=\"data row5 col2\" >1.94e-02</td>\n",
       "                        <td id=\"T_bf18d_row5_col3\" class=\"data row5 col3\" >1.94e-02</td>\n",
       "                        <td id=\"T_bf18d_row5_col4\" class=\"data row5 col4\" >$4.00$</td>\n",
       "            </tr>\n",
       "            <tr>\n",
       "                        <th id=\"T_bf18d_level0_row6\" class=\"row_heading level0 row6\" >6</th>\n",
       "                        <td id=\"T_bf18d_row6_col0\" class=\"data row6 col0\" >64</td>\n",
       "                        <td id=\"T_bf18d_row6_col1\" class=\"data row6 col1\" >-12.075194099</td>\n",
       "                        <td id=\"T_bf18d_row6_col2\" class=\"data row6 col2\" >4.85e-03</td>\n",
       "                        <td id=\"T_bf18d_row6_col3\" class=\"data row6 col3\" >4.85e-03</td>\n",
       "                        <td id=\"T_bf18d_row6_col4\" class=\"data row6 col4\" >$4.00$</td>\n",
       "            </tr>\n",
       "            <tr>\n",
       "                        <th id=\"T_bf18d_level0_row7\" class=\"row_heading level0 row7\" >7</th>\n",
       "                        <td id=\"T_bf18d_row7_col0\" class=\"data row7 col0\" >128</td>\n",
       "                        <td id=\"T_bf18d_row7_col1\" class=\"data row7 col1\" >-12.071558189</td>\n",
       "                        <td id=\"T_bf18d_row7_col2\" class=\"data row7 col2\" >1.21e-03</td>\n",
       "                        <td id=\"T_bf18d_row7_col3\" class=\"data row7 col3\" >1.21e-03</td>\n",
       "                        <td id=\"T_bf18d_row7_col4\" class=\"data row7 col4\" >$4.00$</td>\n",
       "            </tr>\n",
       "            <tr>\n",
       "                        <th id=\"T_bf18d_level0_row8\" class=\"row_heading level0 row8\" >8</th>\n",
       "                        <td id=\"T_bf18d_row8_col0\" class=\"data row8 col0\" >256</td>\n",
       "                        <td id=\"T_bf18d_row8_col1\" class=\"data row8 col1\" >-12.070649280</td>\n",
       "                        <td id=\"T_bf18d_row8_col2\" class=\"data row8 col2\" >3.03e-04</td>\n",
       "                        <td id=\"T_bf18d_row8_col3\" class=\"data row8 col3\" >3.03e-04</td>\n",
       "                        <td id=\"T_bf18d_row8_col4\" class=\"data row8 col4\" >$4.00$</td>\n",
       "            </tr>\n",
       "    </tbody></table>"
      ],
      "text/plain": [
       "<pandas.io.formats.style.Styler at 0x7fe359498100>"
      ]
     },
     "execution_count": 13,
     "metadata": {},
     "output_type": "execute_result"
    }
   ],
   "source": [
    "tab1 = pd.DataFrame(tab1, columns=[\"$n$\", \"$T_n(f)$\", \"Error (est)\", \"Error\", \"Ratio\"]) \n",
    "tab1.style.format(dict(zip(tab1.columns, [\"{:g}\", \"{:.9f}\", \"{:.2e}\", \"{:.2e}\", lambda x: fltx(x, code=\"f\", precision=2)])))"
   ]
  },
  {
   "cell_type": "markdown",
   "metadata": {
    "slideshow": {
     "slide_type": "subslide"
    }
   },
   "source": [
    "Usamos entonces\n",
    "\\begin{align}\n",
    "I(f) - T_n(f) &\\approx \\frac{h^2}{12} [e^\\pi + 1]\\\\\n",
    "I(f) &\\approx T_n(f) + \\frac{h^2}{12} [e^\\pi + 1]\\\\\n",
    "\\end{align}\n",
    "que es la *regla del trapeziode corregida*."
   ]
  },
  {
   "cell_type": "code",
   "execution_count": 14,
   "metadata": {
    "slideshow": {
     "slide_type": "skip"
    }
   },
   "outputs": [],
   "source": [
    "def trapezoidal_corr(f, fp, rang, exact, log_n=8):\n",
    "    h = rang[1] - rang[0]\n",
    "    n = 1\n",
    "    err_est = - h**2/12 * (fp(rang[1]) - fp(rang[0]))\n",
    "    T1 = (rang[1] - rang[0]) / 2 * (f(rang[0]) + f(rang[1]))\n",
    "    T1_corr = T1 + err_est\n",
    "    err1 = exact - T1_corr\n",
    "    res = [[1, T1_corr, err1, np.nan]]\n",
    "    for i in range(log_n):\n",
    "        h /= 2\n",
    "        Tn = T1 / 2\n",
    "        for j in range(n):\n",
    "            Tn += h * f(rang[0] + h + 2*j*h)\n",
    "        n *= 2\n",
    "        err_est = - h**2/12 * (fp(rang[1]) - fp(rang[0]))\n",
    "        Tn_corr = Tn + err_est\n",
    "        err_n = exact - Tn_corr\n",
    "        res.append([n, Tn_corr, err_n, err1 / err_n])\n",
    "        err1 = err_n\n",
    "        T1 = Tn\n",
    "    return res\n",
    "\n",
    "tab1c = trapezoidal_corr(f1, f1p, (0, np.pi), -(np.exp(np.pi) +1) / 2)"
   ]
  },
  {
   "cell_type": "code",
   "execution_count": 15,
   "metadata": {
    "hide_input": true
   },
   "outputs": [
    {
     "data": {
      "text/html": [
       "<style  type=\"text/css\" >\n",
       "</style><table id=\"T_ca7e4_\" ><thead>    <tr>        <th class=\"blank level0\" ></th>        <th class=\"col_heading level0 col0\" >$n$</th>        <th class=\"col_heading level0 col1\" >$T_n(f)$</th>        <th class=\"col_heading level0 col2\" >Error</th>        <th class=\"col_heading level0 col3\" >Ratio</th>    </tr></thead><tbody>\n",
       "                <tr>\n",
       "                        <th id=\"T_ca7e4_level0_row0\" class=\"row_heading level0 row0\" >0</th>\n",
       "                        <td id=\"T_ca7e4_row0_col0\" class=\"data row0 col0\" >1</td>\n",
       "                        <td id=\"T_ca7e4_row0_col1\" class=\"data row0 col1\" >-14.923594806</td>\n",
       "                        <td id=\"T_ca7e4_row0_col2\" class=\"data row0 col2\" >2.85e+00</td>\n",
       "                        <td id=\"T_ca7e4_row0_col3\" class=\"data row0 col3\" ></td>\n",
       "            </tr>\n",
       "            <tr>\n",
       "                        <th id=\"T_ca7e4_level0_row1\" class=\"row_heading level0 row1\" >1</th>\n",
       "                        <td id=\"T_ca7e4_row1_col0\" class=\"data row1 col0\" >2</td>\n",
       "                        <td id=\"T_ca7e4_row1_col1\" class=\"data row1 col1\" >-12.425528367</td>\n",
       "                        <td id=\"T_ca7e4_row1_col2\" class=\"data row1 col2\" >3.55e-01</td>\n",
       "                        <td id=\"T_ca7e4_row1_col3\" class=\"data row1 col3\" >$8.03$</td>\n",
       "            </tr>\n",
       "            <tr>\n",
       "                        <th id=\"T_ca7e4_level0_row2\" class=\"row_heading level0 row2\" >2</th>\n",
       "                        <td id=\"T_ca7e4_row2_col0\" class=\"data row2 col0\" >4</td>\n",
       "                        <td id=\"T_ca7e4_row2_col1\" class=\"data row2 col1\" >-12.095090106</td>\n",
       "                        <td id=\"T_ca7e4_row2_col2\" class=\"data row2 col2\" >2.47e-02</td>\n",
       "                        <td id=\"T_ca7e4_row2_col3\" class=\"data row2 col3\" >$14.35$</td>\n",
       "            </tr>\n",
       "            <tr>\n",
       "                        <th id=\"T_ca7e4_level0_row3\" class=\"row_heading level0 row3\" >3</th>\n",
       "                        <td id=\"T_ca7e4_row3_col0\" class=\"data row3 col0\" >8</td>\n",
       "                        <td id=\"T_ca7e4_row3_col1\" class=\"data row3 col1\" >-12.071929245</td>\n",
       "                        <td id=\"T_ca7e4_row3_col2\" class=\"data row3 col2\" >1.58e-03</td>\n",
       "                        <td id=\"T_ca7e4_row3_col3\" class=\"data row3 col3\" >$15.63$</td>\n",
       "            </tr>\n",
       "            <tr>\n",
       "                        <th id=\"T_ca7e4_level0_row4\" class=\"row_heading level0 row4\" >4</th>\n",
       "                        <td id=\"T_ca7e4_row4_col0\" class=\"data row4 col0\" >16</td>\n",
       "                        <td id=\"T_ca7e4_row4_col1\" class=\"data row4 col1\" >-12.070445804</td>\n",
       "                        <td id=\"T_ca7e4_row4_col2\" class=\"data row4 col2\" >9.95e-05</td>\n",
       "                        <td id=\"T_ca7e4_row4_col3\" class=\"data row4 col3\" >$15.91$</td>\n",
       "            </tr>\n",
       "            <tr>\n",
       "                        <th id=\"T_ca7e4_level0_row5\" class=\"row_heading level0 row5\" >5</th>\n",
       "                        <td id=\"T_ca7e4_row5_col0\" class=\"data row5 col0\" >32</td>\n",
       "                        <td id=\"T_ca7e4_row5_col1\" class=\"data row5 col1\" >-12.070352543</td>\n",
       "                        <td id=\"T_ca7e4_row5_col2\" class=\"data row5 col2\" >6.23e-06</td>\n",
       "                        <td id=\"T_ca7e4_row5_col3\" class=\"data row5 col3\" >$15.98$</td>\n",
       "            </tr>\n",
       "            <tr>\n",
       "                        <th id=\"T_ca7e4_level0_row6\" class=\"row_heading level0 row6\" >6</th>\n",
       "                        <td id=\"T_ca7e4_row6_col0\" class=\"data row6 col0\" >64</td>\n",
       "                        <td id=\"T_ca7e4_row6_col1\" class=\"data row6 col1\" >-12.070346706</td>\n",
       "                        <td id=\"T_ca7e4_row6_col2\" class=\"data row6 col2\" >3.89e-07</td>\n",
       "                        <td id=\"T_ca7e4_row6_col3\" class=\"data row6 col3\" >$15.99$</td>\n",
       "            </tr>\n",
       "            <tr>\n",
       "                        <th id=\"T_ca7e4_level0_row7\" class=\"row_heading level0 row7\" >7</th>\n",
       "                        <td id=\"T_ca7e4_row7_col0\" class=\"data row7 col0\" >128</td>\n",
       "                        <td id=\"T_ca7e4_row7_col1\" class=\"data row7 col1\" >-12.070346341</td>\n",
       "                        <td id=\"T_ca7e4_row7_col2\" class=\"data row7 col2\" >2.43e-08</td>\n",
       "                        <td id=\"T_ca7e4_row7_col3\" class=\"data row7 col3\" >$16.00$</td>\n",
       "            </tr>\n",
       "            <tr>\n",
       "                        <th id=\"T_ca7e4_level0_row8\" class=\"row_heading level0 row8\" >8</th>\n",
       "                        <td id=\"T_ca7e4_row8_col0\" class=\"data row8 col0\" >256</td>\n",
       "                        <td id=\"T_ca7e4_row8_col1\" class=\"data row8 col1\" >-12.070346318</td>\n",
       "                        <td id=\"T_ca7e4_row8_col2\" class=\"data row8 col2\" >1.52e-09</td>\n",
       "                        <td id=\"T_ca7e4_row8_col3\" class=\"data row8 col3\" >$16.00$</td>\n",
       "            </tr>\n",
       "    </tbody></table>"
      ],
      "text/plain": [
       "<pandas.io.formats.style.Styler at 0x7fe359ac6e80>"
      ]
     },
     "execution_count": 15,
     "metadata": {},
     "output_type": "execute_result"
    }
   ],
   "source": [
    "tab1c = pd.DataFrame(tab1c, columns=[\"$n$\", \"$T_n(f)$\", \"Error\", \"Ratio\"]) \n",
    "tab1c.style.format(dict(zip(tab1c.columns, [\"{:g}\", \"{:.9f}\", \"{:.2e}\", lambda x: fltx(x, code=\"f\", precision=2)])))"
   ]
  },
  {
   "cell_type": "markdown",
   "metadata": {
    "collapsed": true,
    "jupyter": {
     "outputs_hidden": true
    },
    "slideshow": {
     "slide_type": "subslide"
    }
   },
   "source": [
    "En general \n",
    "\\begin{align}\n",
    "I(f) - T_n(f) &\\approx \\frac{h^2}{12} [f'(b) - f'(a)]\\\\\n",
    "I(f) &\\approx T_n(f) + \\frac{h^2}{12} [f'(b) - f'(a)]\\\\\n",
    "\\end{align}\n",
    "que es la *regla del trapeziode corregida*."
   ]
  },
  {
   "cell_type": "markdown",
   "metadata": {
    "slideshow": {
     "slide_type": "slide"
    }
   },
   "source": [
    "## Error de la regla de Simpson\n",
    "\n",
    "La regla de Simpson es\n",
    "\\begin{align}\n",
    "\\int_a^b f(x)\\,\\d x \\approx S_n(f) \\equiv & \\frac{h}{3} \\bigl[ f(x_0) + 4 f(x_1) \\\\\n",
    "  & + 2f(x_2) + 4 f(x_3) + 2f(x_4)\\\\\n",
    "  & + \\dots + 2f(x_{n-2}) + 4f(x_{n-1}) + f(x_n) \\bigr] \n",
    "\\end{align}\n",
    "Su error es\n",
    "$$\n",
    "E^S_n(f) \\equiv \\int_a^b f(x)\\,\\d x - S_n(f) = -\\frac{h^4 (b-a)}{180} f^{(4)}(c_n)\n",
    "$$\n",
    "para algún $c_n \\in [a, b]$. El estimado asintotico del error es\n",
    "$$\n",
    "\\int_a^b f(x)\\,\\d x - S_n(f) \\approx \\tilde E^S_n(f) \\equiv -\\frac{h^4}{180}\\bigl[ f'''(b) - f'''(a) \\bigr]\n",
    "$$"
   ]
  },
  {
   "cell_type": "markdown",
   "metadata": {
    "slideshow": {
     "slide_type": "subslide"
    }
   },
   "source": [
    "### Discusión\n",
    "\n",
    "Ambas expresiónes para el error de la regla de Simpson suponen que $f(x)$ tiene 4 derivadas continuas en el intervalo $[a, b]$. Luego vermos que pasa cuando no es cumpla.\n",
    "\n",
    "Ambas expresiones nos dicen que el error baja por un factor 4 cuando duplicamos $n$.\n",
    "\n",
    "Comparamos con el caso de la regla del trapezoide\n",
    "$$\n",
    "E^T_n(f) \\equiv \\int_a^b f(x)\\,\\d x - T_n(f) = - \\frac{h^2(b-a)}{12} f''(c_n)\n",
    "$$\n",
    "$$\n",
    "E^T_n(f) \\approx \\frac{h^2}{12} \\bigl[ f'(b) - f'(a) \\bigr] \\equiv \\tilde E^T_n(f)\n",
    "$$\n",
    "1. Necesita solamente 2 derivadas continuas\n",
    "2. El error baja solamente por un factor 4 cuando duplicamos $n$."
   ]
  },
  {
   "cell_type": "markdown",
   "metadata": {
    "slideshow": {
     "slide_type": "subslide"
    }
   },
   "source": [
    "### Ejemplo\n",
    "\n",
    "Queremos evaluar\n",
    "$$\n",
    "\\int_0^2 \\frac{\\d x}{1 + x^2}\n",
    "$$\n",
    "usando el metodo del trapezoide $T_n(f)$. Como tenemos que elegir $n$ para asegurarnos\n",
    "$$\n",
    "\\left|E^T_n(f)\\right| \\leq 5 \\times 10^{-6}\n",
    "$$\n",
    "Usamos\n",
    "\\begin{align}\n",
    "f^{(4)}(x) &= 24\\frac{5x^4 - 10 x^2 + 1}{\\bigl( 1 + x^2 \\bigr)^5}\\\\\n",
    "\\max_{0 \\leq x \\leq 2} |f^{(4)}(x)| &= f^{(4)}(0) = 24\n",
    "\\end{align}\n",
    "para obtener\n",
    "\\begin{align}\n",
    "E^S_n(f) &= -\\frac{h^4 (b - a)}{180} f^{(4)}(c_n)\\\\\n",
    "|E^S_n(f)| &\\leq \\frac{h^2 \\cdot 2}{180} \\cdot 24 = \\frac{4h^4}{15}\n",
    "\\end{align}\n"
   ]
  },
  {
   "cell_type": "markdown",
   "metadata": {
    "slideshow": {
     "slide_type": "subslide"
    }
   },
   "source": [
    "EL requisito $|E^S_n(f)| \\leq 5 \\times 10^{-6}$ se cumple para\n",
    "\\begin{align}\n",
    "\\frac{4h^4}{15} &\\leq 5 \\times 10^{-6}\\\\\n",
    "h &\\leq 0.0658\\\\\n",
    "n &\\geq 30.39\n",
    "\\end{align}\n",
    "Entonces eligir $n \\geq 31$ nos permite garantizar el error. Lo comparamos con el caso de la regla del trapezoide, donde se necesitaban $n \\geq 517$ sub-intervalos.\n",
    "\n",
    "Para el error asintotico estimamos\n",
    "\\begin{align}\n",
    "f'''(x) & = -24x \\frac{x^2 - 1}{\\bigl( 1 + x^2 \\bigr)^5}\\\\\n",
    "\\tilde E^S_n(f) &\\equiv -\\frac{h^4}{180} [f'''(2) - f'''(0)]\\\\\n",
    "  &= \\frac{h^4}{180} \\cdot \\frac{144}{625} = \\frac{4}{3125} h^4\n",
    "\\end{align}\n"
   ]
  },
  {
   "cell_type": "markdown",
   "metadata": {
    "slideshow": {
     "slide_type": "slide"
    }
   },
   "source": [
    "## Integración de $\\sqrt x$\n",
    "\n",
    "Consideramos la integral \n",
    "$$\n",
    "\\int_0^1 \\sqrt x \\,\\d x = \\frac{2}{3}\n",
    "$$"
   ]
  },
  {
   "cell_type": "code",
   "execution_count": 32,
   "metadata": {
    "code_folding": [
     0
    ],
    "slideshow": {
     "slide_type": "skip"
    }
   },
   "outputs": [],
   "source": [
    "#\n",
    "from scipy.integrate import trapz, simps\n",
    "\n",
    "n = 1\n",
    "res = []\n",
    "t_prev = None\n",
    "s_pref = None\n",
    "for i in range(7):\n",
    "    n *= 2\n",
    "    xr3 = np.linspace(0, 1, n+1)\n",
    "    yr3 = np.sqrt(xr3)\n",
    "    t = trapz(yr3, xr3)\n",
    "    t_err = 2./3. - t\n",
    "    s = simps(yr3, xr3)\n",
    "    s_err = 2./3. - s\n",
    "    if t_prev is not None:\n",
    "        t_rat = t_prev / t_err\n",
    "        s_rat = s_prev / s_err\n",
    "    else:\n",
    "        t_rat = np.nan\n",
    "        s_rat = np.nan\n",
    "    res.append([n, t_err, t_rat, s_err, s_rat])\n",
    "    t_prev = t_err\n",
    "    s_prev = s_err "
   ]
  },
  {
   "cell_type": "code",
   "execution_count": 17,
   "metadata": {
    "hide_input": true
   },
   "outputs": [
    {
     "data": {
      "text/html": [
       "<style  type=\"text/css\" >\n",
       "</style><table id=\"T_3eced_\" ><thead>    <tr>        <th class=\"blank level0\" ></th>        <th class=\"col_heading level0 col0\" >$n$</th>        <th class=\"col_heading level0 col1\" >$E^T_n$</th>        <th class=\"col_heading level0 col2\" >$R^T_n$</th>        <th class=\"col_heading level0 col3\" >$E^S_n$</th>        <th class=\"col_heading level0 col4\" >$R^S_n$</th>    </tr></thead><tbody>\n",
       "                <tr>\n",
       "                        <th id=\"T_3eced_level0_row0\" class=\"row_heading level0 row0\" >0</th>\n",
       "                        <td id=\"T_3eced_row0_col0\" class=\"data row0 col0\" >2</td>\n",
       "                        <td id=\"T_3eced_row0_col1\" class=\"data row0 col1\" >6.311e-02</td>\n",
       "                        <td id=\"T_3eced_row0_col2\" class=\"data row0 col2\" ></td>\n",
       "                        <td id=\"T_3eced_row0_col3\" class=\"data row0 col3\" >2.860e-02</td>\n",
       "                        <td id=\"T_3eced_row0_col4\" class=\"data row0 col4\" ></td>\n",
       "            </tr>\n",
       "            <tr>\n",
       "                        <th id=\"T_3eced_level0_row1\" class=\"row_heading level0 row1\" >1</th>\n",
       "                        <td id=\"T_3eced_row1_col0\" class=\"data row1 col0\" >4</td>\n",
       "                        <td id=\"T_3eced_row1_col1\" class=\"data row1 col1\" >2.338e-02</td>\n",
       "                        <td id=\"T_3eced_row1_col2\" class=\"data row1 col2\" >$2.70$</td>\n",
       "                        <td id=\"T_3eced_row1_col3\" class=\"data row1 col3\" >1.014e-02</td>\n",
       "                        <td id=\"T_3eced_row1_col4\" class=\"data row1 col4\" >$2.82$</td>\n",
       "            </tr>\n",
       "            <tr>\n",
       "                        <th id=\"T_3eced_level0_row2\" class=\"row_heading level0 row2\" >2</th>\n",
       "                        <td id=\"T_3eced_row2_col0\" class=\"data row2 col0\" >8</td>\n",
       "                        <td id=\"T_3eced_row2_col1\" class=\"data row2 col1\" >8.536e-03</td>\n",
       "                        <td id=\"T_3eced_row2_col2\" class=\"data row2 col2\" >$2.74$</td>\n",
       "                        <td id=\"T_3eced_row2_col3\" class=\"data row2 col3\" >3.587e-03</td>\n",
       "                        <td id=\"T_3eced_row2_col4\" class=\"data row2 col4\" >$2.83$</td>\n",
       "            </tr>\n",
       "            <tr>\n",
       "                        <th id=\"T_3eced_level0_row3\" class=\"row_heading level0 row3\" >3</th>\n",
       "                        <td id=\"T_3eced_row3_col0\" class=\"data row3 col0\" >16</td>\n",
       "                        <td id=\"T_3eced_row3_col1\" class=\"data row3 col1\" >3.085e-03</td>\n",
       "                        <td id=\"T_3eced_row3_col2\" class=\"data row3 col2\" >$2.77$</td>\n",
       "                        <td id=\"T_3eced_row3_col3\" class=\"data row3 col3\" >1.268e-03</td>\n",
       "                        <td id=\"T_3eced_row3_col4\" class=\"data row3 col4\" >$2.83$</td>\n",
       "            </tr>\n",
       "            <tr>\n",
       "                        <th id=\"T_3eced_level0_row4\" class=\"row_heading level0 row4\" >4</th>\n",
       "                        <td id=\"T_3eced_row4_col0\" class=\"data row4 col0\" >32</td>\n",
       "                        <td id=\"T_3eced_row4_col1\" class=\"data row4 col1\" >1.108e-03</td>\n",
       "                        <td id=\"T_3eced_row4_col2\" class=\"data row4 col2\" >$2.79$</td>\n",
       "                        <td id=\"T_3eced_row4_col3\" class=\"data row4 col3\" >4.485e-04</td>\n",
       "                        <td id=\"T_3eced_row4_col4\" class=\"data row4 col4\" >$2.83$</td>\n",
       "            </tr>\n",
       "            <tr>\n",
       "                        <th id=\"T_3eced_level0_row5\" class=\"row_heading level0 row5\" >5</th>\n",
       "                        <td id=\"T_3eced_row5_col0\" class=\"data row5 col0\" >64</td>\n",
       "                        <td id=\"T_3eced_row5_col1\" class=\"data row5 col1\" >3.959e-04</td>\n",
       "                        <td id=\"T_3eced_row5_col2\" class=\"data row5 col2\" >$2.80$</td>\n",
       "                        <td id=\"T_3eced_row5_col3\" class=\"data row5 col3\" >1.586e-04</td>\n",
       "                        <td id=\"T_3eced_row5_col4\" class=\"data row5 col4\" >$2.83$</td>\n",
       "            </tr>\n",
       "            <tr>\n",
       "                        <th id=\"T_3eced_level0_row6\" class=\"row_heading level0 row6\" >6</th>\n",
       "                        <td id=\"T_3eced_row6_col0\" class=\"data row6 col0\" >128</td>\n",
       "                        <td id=\"T_3eced_row6_col1\" class=\"data row6 col1\" >1.410e-04</td>\n",
       "                        <td id=\"T_3eced_row6_col2\" class=\"data row6 col2\" >$2.81$</td>\n",
       "                        <td id=\"T_3eced_row6_col3\" class=\"data row6 col3\" >5.606e-05</td>\n",
       "                        <td id=\"T_3eced_row6_col4\" class=\"data row6 col4\" >$2.83$</td>\n",
       "            </tr>\n",
       "    </tbody></table>"
      ],
      "text/plain": [
       "<pandas.io.formats.style.Styler at 0x7fe359adb8b0>"
      ]
     },
     "execution_count": 17,
     "metadata": {},
     "output_type": "execute_result"
    }
   ],
   "source": [
    "res_df = pd.DataFrame(res, columns=[\"$n$\", \"$E^T_n$\", \"$R^T_n$\", \"$E^S_n$\", \"$R^S_n$\"])\n",
    "res_df.style.format(dict(zip(res_df.columns, [\"{:g}\", \"{:.3e}\", lambda x: fltx(x, code=\"f\", precision=2), \n",
    "                                                      \"{:.3e}\", lambda x: fltx(x, code=\"f\", precision=2)])))"
   ]
  },
  {
   "cell_type": "markdown",
   "metadata": {},
   "source": [
    "La taza de convergencia es más lenta porque $f(x) = \\sqrt x$ no es suficientemente diferenciable en $[0,1 ]$. Ambos métodos convergen con una taza proporcional a $h^{1.5}$."
   ]
  },
  {
   "cell_type": "markdown",
   "metadata": {
    "slideshow": {
     "slide_type": "slide"
    }
   },
   "source": [
    "## Formulas asintoticas para los errores\n",
    "\n",
    "Tenemos la regla de integración\n",
    "$$\n",
    "\\int_a^b f(x)\\,\\d x \\approx \\sum_{j = 0}^n w_j f(x_j)\n",
    "$$\n",
    "con el error $E_n(f)$:\n",
    "$$\n",
    "E_n(f) = \\int_a^b f(x)\\,\\d x - \\sum_{j = 0}^n w_j f(x_j)\n",
    "$$"
   ]
  },
  {
   "cell_type": "markdown",
   "metadata": {
    "slideshow": {
     "slide_type": "subslide"
    }
   },
   "source": [
    "Llamamos $\\tilde E_n(f)$ una *formula asintotica para el error* cuando cumple\n",
    "$$\n",
    "\\lim_{n \\to \\infty} \\frac{\\tilde E_n(f)}{E_n(f)} = 1\n",
    "$$\n",
    "o, de manera equivalente\n",
    "$$\n",
    "\\lim_{n \\to \\infty} \\frac{E_n(f) - \\tilde E_n(f)}{E_n(f)} = 0\n",
    "$$\n",
    "Eso significa que $\\tilde E_n(f)$ se parece a $E_n(f)$ para $n$ grande:\n",
    "$$\n",
    "E_n(f) \\approx \\tilde E_n(f)\n",
    "$$"
   ]
  },
  {
   "cell_type": "markdown",
   "metadata": {
    "slideshow": {
     "slide_type": "subslide"
    }
   },
   "source": [
    "### Ejemplos\n",
    "\n",
    "1. Para la regla del trapezoide\n",
    "$$\n",
    "E^T_n(f) \\approx \\tilde E^T_n(f) = \\frac{h^2}{12} \\bigl[ f'(b) - f'(a) \\bigr] \n",
    "$$\n",
    "que supone que $f(x)$ tiene 2 derivadas continuas en $[a, b]$.\n",
    "\n",
    "2. Para la regla de Simpson\n",
    "$$\n",
    "E^S_n(f) \\approx \\tilde E^S_n(f) = -\\frac{h^4}{180} [f'''(2) - f'''(0)]\n",
    "$$\n",
    "que supone que $f(x)$ tiene 4 derivadas continuas en $[a, b]$."
   ]
  },
  {
   "cell_type": "markdown",
   "metadata": {
    "slideshow": {
     "slide_type": "subslide"
    }
   },
   "source": [
    "Ambas formulas son de la forma\n",
    "$$\n",
    "\\tilde E_n(f) = \\frac{c}{n^p}\n",
    "$$\n",
    "para una constante $c$ y un exponente $p$. Por ejemplo, para la regla del trapezoide tenemos $p = 2$ y\n",
    "$$\n",
    "c = -\\frac{(b - a)^2}{12} \\bigl[ f'(b) - f'(a) \\bigr] \n",
    "$$\n",
    "y similarmente con $p = 4$ para la regla de Simpson."
   ]
  },
  {
   "cell_type": "markdown",
   "metadata": {
    "slideshow": {
     "slide_type": "subslide"
    }
   },
   "source": [
    "La formula\n",
    "$$\n",
    "\\tilde E_n(f) = \\frac{c}{n^p}\n",
    "$$\n",
    "también ocurre para otras formulas para la integración numérica. Además, en el caso de usar las reglas del trapezoide o de Simpson para una función $f(x)$ que no tiene suficientes derividas continuas es posible que se cumple, pero con una $p$ menor que la ideal."
   ]
  },
  {
   "cell_type": "markdown",
   "metadata": {
    "slideshow": {
     "slide_type": "subslide"
    }
   },
   "source": [
    "Por ejemplo para \n",
    "$$\n",
    "I = \\int_0^1 x^\\beta \\,\\d x\n",
    "$$\n",
    "con $-1 < \\beta < 1$, $\\beta \\neq 0$. En este caso, la convergencia de la regla del trapezoide tiene un error asintotico\n",
    "$$\n",
    "E_n(f) \\approx \\tilde E_n(f) = \\frac{c}{n^{\\beta + 1}}\n",
    "$$\n",
    "para alguna constante $c$, que depende de $\\beta$. Algo similar aplica en el caso de la regla de Simpson para $-1 < \\beta < 3$, $\\beta$ no entero.\n",
    "\n",
    "Es posible derivar una expresión para $c$, pero en general no es importante conocer este valor, solamente su existencia."
   ]
  },
  {
   "cell_type": "markdown",
   "metadata": {
    "slideshow": {
     "slide_type": "slide"
    }
   },
   "source": [
    "## Aplicaciones de formulas asintoticas para el error\n",
    "\n",
    "Suponemos que sabemos que la expresión asintotica para el error\n",
    "$$\n",
    "I - I_n \\approx \\frac{c}{n^p}\n",
    "$$\n",
    "es valida para una regla de integración numérica $I_n$. Inicialmente suponemos también que conocemos a $p$. Calculamos $I_n$ y $I_{2n}$. Usamos\n",
    "$$\n",
    "I - I_{2n} \\approx \\frac{c}{2^p n^p}\n",
    "$$\n",
    "para obtener\n",
    "\\begin{align}\n",
    "I - I_n &\\approx 2^p [I - I_{2n}]\\\\\n",
    "I &\\approx \\frac{2^p I_{2n} - I_n}{2^p - 1} = I_{2n} + \\frac{I_{2n} - I_n}{2^p - 1}\n",
    "\\end{align}\n",
    "La formula\n",
    "$$\n",
    "I \\approx I_{2n} + \\frac{I_{2n} - I_n}{2^p - 1}\n",
    "$$\n",
    "es la *formula de extrapolación de Richardson*.\n"
   ]
  },
  {
   "cell_type": "markdown",
   "metadata": {
    "slideshow": {
     "slide_type": "subslide"
    }
   },
   "source": [
    "### Ejemplos\n",
    "\n",
    "1. Para la regla del trapezoide con $f(x)$ con 2 derivadas continuas tenemos\n",
    "$$\n",
    "I \\approx T_{2n} + \\frac{1}{3} [T_{2n} - T_n]\n",
    "$$\n",
    "\n",
    "2. Para la regla de Simpson con $f(x)$ con 4 derivadas continuas tenemos\n",
    "$$\n",
    "I \\approx S_{2n} + \\frac{1}{15} [S_{2n} - S_n]\n",
    "$$\n",
    "\n",
    "También es posible estimar el error \n",
    "$$\n",
    "I - I_{2n} \\approx \\frac{I_{2n} - I_n}{2^p - 1}\n",
    "$$\n",
    "Esta expresión es la *estimación del error de Richardson*. Por ejemplo, en el caso de la regla del trapezoide obtenemos\n",
    "$$ \n",
    "I - T_{2n} \\approx \\frac{1}{3} [T_{2n} - T_n]\n",
    "$$"
   ]
  },
  {
   "cell_type": "markdown",
   "metadata": {
    "slideshow": {
     "slide_type": "subslide"
    }
   },
   "source": [
    "### Ejemplo: Trapezoide con Richardson\n",
    "\n",
    "$$\n",
    "I(f) = \\int_0^\\pi e^x \\cos x \\,\\d x = - \\frac{e^\\pi + 1}{2} \\doteq - 12.070346\n",
    "$$\n"
   ]
  },
  {
   "cell_type": "code",
   "execution_count": 18,
   "metadata": {
    "code_folding": [
     0
    ],
    "slideshow": {
     "slide_type": "skip"
    }
   },
   "outputs": [],
   "source": [
    "#\n",
    "\n",
    "n = 1\n",
    "res = []\n",
    "exact = -(np.exp(np.pi) + 1) / 2\n",
    "for i in range(8):\n",
    "    x4r = np.linspace(0, np.pi, 2*n+1)\n",
    "    y4r = np.exp(x4r) * np.cos(x4r)\n",
    "    T2n = trapz(y4r, x4r)\n",
    "    if n != 1:\n",
    "        err = exact - T2n\n",
    "        err_rich = (T2n - Tn) / 3.\n",
    "        res.append([2*n, T2n, err, err_rich, err-err_rich])\n",
    "    Tn = T2n\n",
    "    n *= 2"
   ]
  },
  {
   "cell_type": "code",
   "execution_count": 19,
   "metadata": {
    "hide_input": true
   },
   "outputs": [
    {
     "data": {
      "text/html": [
       "<style  type=\"text/css\" >\n",
       "</style><table id=\"T_cdf9c_\" ><thead>    <tr>        <th class=\"blank level0\" ></th>        <th class=\"col_heading level0 col0\" >$n$</th>        <th class=\"col_heading level0 col1\" >$T_n$</th>        <th class=\"col_heading level0 col2\" >$E^T_n$</th>        <th class=\"col_heading level0 col3\" >Err (Richardson)</th>        <th class=\"col_heading level0 col4\" >$\\Delta_\\text{err}$</th>    </tr></thead><tbody>\n",
       "                <tr>\n",
       "                        <th id=\"T_cdf9c_level0_row0\" class=\"row_heading level0 row0\" >0</th>\n",
       "                        <td id=\"T_cdf9c_row0_col0\" class=\"data row0 col0\" >4</td>\n",
       "                        <td id=\"T_cdf9c_row0_col1\" class=\"data row0 col1\" >-13.336022847</td>\n",
       "                        <td id=\"T_cdf9c_row0_col2\" class=\"data row0 col2\" >1.2657e+00</td>\n",
       "                        <td id=\"T_cdf9c_row0_col3\" class=\"data row0 col3\" >1.3511e+00</td>\n",
       "                        <td id=\"T_cdf9c_row0_col4\" class=\"data row0 col4\" >-8.5402e-02</td>\n",
       "            </tr>\n",
       "            <tr>\n",
       "                        <th id=\"T_cdf9c_level0_row1\" class=\"row_heading level0 row1\" >1</th>\n",
       "                        <td id=\"T_cdf9c_row1_col0\" class=\"data row1 col0\" >8</td>\n",
       "                        <td id=\"T_cdf9c_row1_col1\" class=\"data row1 col1\" >-12.38216243</td>\n",
       "                        <td id=\"T_cdf9c_row1_col2\" class=\"data row1 col2\" >3.1182e-01</td>\n",
       "                        <td id=\"T_cdf9c_row1_col3\" class=\"data row1 col3\" >3.1795e-01</td>\n",
       "                        <td id=\"T_cdf9c_row1_col4\" class=\"data row1 col4\" >-6.1374e-03</td>\n",
       "            </tr>\n",
       "            <tr>\n",
       "                        <th id=\"T_cdf9c_level0_row2\" class=\"row_heading level0 row2\" >2</th>\n",
       "                        <td id=\"T_cdf9c_row2_col0\" class=\"data row2 col0\" >16</td>\n",
       "                        <td id=\"T_cdf9c_row2_col1\" class=\"data row2 col1\" >-12.1480041</td>\n",
       "                        <td id=\"T_cdf9c_row2_col2\" class=\"data row2 col2\" >7.7658e-02</td>\n",
       "                        <td id=\"T_cdf9c_row2_col3\" class=\"data row2 col3\" >7.8053e-02</td>\n",
       "                        <td id=\"T_cdf9c_row2_col4\" class=\"data row2 col4\" >-3.9499e-04</td>\n",
       "            </tr>\n",
       "            <tr>\n",
       "                        <th id=\"T_cdf9c_level0_row3\" class=\"row_heading level0 row3\" >3</th>\n",
       "                        <td id=\"T_cdf9c_row3_col0\" class=\"data row3 col0\" >32</td>\n",
       "                        <td id=\"T_cdf9c_row3_col1\" class=\"data row3 col1\" >-12.089742117</td>\n",
       "                        <td id=\"T_cdf9c_row3_col2\" class=\"data row3 col2\" >1.9396e-02</td>\n",
       "                        <td id=\"T_cdf9c_row3_col3\" class=\"data row3 col3\" >1.9421e-02</td>\n",
       "                        <td id=\"T_cdf9c_row3_col4\" class=\"data row3 col4\" >-2.4860e-05</td>\n",
       "            </tr>\n",
       "            <tr>\n",
       "                        <th id=\"T_cdf9c_level0_row4\" class=\"row_heading level0 row4\" >4</th>\n",
       "                        <td id=\"T_cdf9c_row4_col0\" class=\"data row4 col0\" >64</td>\n",
       "                        <td id=\"T_cdf9c_row4_col1\" class=\"data row4 col1\" >-12.075194099</td>\n",
       "                        <td id=\"T_cdf9c_row4_col2\" class=\"data row4 col2\" >4.8478e-03</td>\n",
       "                        <td id=\"T_cdf9c_row4_col3\" class=\"data row4 col3\" >4.8493e-03</td>\n",
       "                        <td id=\"T_cdf9c_row4_col4\" class=\"data row4 col4\" >-1.5565e-06</td>\n",
       "            </tr>\n",
       "            <tr>\n",
       "                        <th id=\"T_cdf9c_level0_row5\" class=\"row_heading level0 row5\" >5</th>\n",
       "                        <td id=\"T_cdf9c_row5_col0\" class=\"data row5 col0\" >128</td>\n",
       "                        <td id=\"T_cdf9c_row5_col1\" class=\"data row5 col1\" >-12.071558189</td>\n",
       "                        <td id=\"T_cdf9c_row5_col2\" class=\"data row5 col2\" >1.2119e-03</td>\n",
       "                        <td id=\"T_cdf9c_row5_col3\" class=\"data row5 col3\" >1.2120e-03</td>\n",
       "                        <td id=\"T_cdf9c_row5_col4\" class=\"data row5 col4\" >-9.7321e-08</td>\n",
       "            </tr>\n",
       "            <tr>\n",
       "                        <th id=\"T_cdf9c_level0_row6\" class=\"row_heading level0 row6\" >6</th>\n",
       "                        <td id=\"T_cdf9c_row6_col0\" class=\"data row6 col0\" >256</td>\n",
       "                        <td id=\"T_cdf9c_row6_col1\" class=\"data row6 col1\" >-12.07064928</td>\n",
       "                        <td id=\"T_cdf9c_row6_col2\" class=\"data row6 col2\" >3.0296e-04</td>\n",
       "                        <td id=\"T_cdf9c_row6_col3\" class=\"data row6 col3\" >3.0297e-04</td>\n",
       "                        <td id=\"T_cdf9c_row6_col4\" class=\"data row6 col4\" >-6.0832e-09</td>\n",
       "            </tr>\n",
       "    </tbody></table>"
      ],
      "text/plain": [
       "<pandas.io.formats.style.Styler at 0x7fe35a087be0>"
      ]
     },
     "execution_count": 19,
     "metadata": {},
     "output_type": "execute_result"
    }
   ],
   "source": [
    "res_df = pd.DataFrame(res, columns=[\"$n$\", \"$T_n$\", \"$E^T_n$\", \"Err (Richardson)\", r\"$\\Delta_\\text{err}$\"])\n",
    "#res_df.style.format(dict(zip(res_df.columns, [\"{:g}\", \"{:.11g}\", lambda x: fltx(x, code=\"e\", precision=4), \n",
    "#                                                      lambda x: fltx(x, code=\"e\", precision=4), lambda x: fltx(x, code=\"e\", precision=3)])))\n",
    "res_df.style.format(dict(zip(res_df.columns, [\"{:g}\", \"{:.11g}\", \"{:.4e}\", \"{:.4e}\", \"{:.4e}\"])))"
   ]
  },
  {
   "cell_type": "markdown",
   "metadata": {
    "slideshow": {
     "slide_type": "slide"
    }
   },
   "source": [
    "## Extrapolación de Aitken\n",
    "\n",
    "Suponemos otra vez el comportamiento asintotico, esta vez sin conocer $c$ y $p$. Calculamos $I_n$, $I_{2n}$ y $I_{4n}$:\n",
    "\\begin{align}\n",
    "I - I_n &\\approx \\frac{c}{n^p}\\\\\n",
    "I - I_{2n} &\\approx \\frac{c}{2^p n^p}\\\\\n",
    "I - I_{4n} &\\approx \\frac{c}{4^p n^p}\n",
    "\\end{align}\n",
    "Con esti podemos estimar $I$ usando\n",
    "\\begin{align}\n",
    "\\frac{I - I_n}{I - I_{2n}} &\\approx 2^p \\approx \\frac{I - I_{2n}}{I - I_{4n}}\\\\\n",
    "(I - I_{2n})^2 &\\approx (I - I_n) (I - I_{4n})\\\\\n",
    "I (I_n + I_{4n} - 2 I_{2n}) &\\approx I_n I_{4n} - I_{2n}^2\\\\\n",
    "I &\\approx \\frac{I_n I_{4n} - I_{2n}^2}{I_n + I_{4n} - 2 I_{2n}}\n",
    "\\end{align}\n"
   ]
  },
  {
   "cell_type": "markdown",
   "metadata": {
    "slideshow": {
     "slide_type": "subslide"
    }
   },
   "source": [
    "La última relación puede cambiarse para mejorar su comportamiento numérico:\n",
    "\\begin{align}\n",
    "I &\\approx I_{4n} + \\left[ \\frac{I_n I_{4n} - I_{2n}^2}{I_n + I_{4n} - 2 I_{2n}} - I_{4n} \\right]\\\\\n",
    "  &= I_{4n} - \\frac{(I_{4n} - I_{2n})^2}{(I_{4n} - I_{2n}) - (I_{2n} - I_n)}\n",
    "\\end{align}\n",
    "Es la *formula de extrapolación de Aitken*.\n",
    "\n",
    "Para estimar $p$ usamos\n",
    "$$\n",
    "\\frac{I_{2n} - I_n}{I_{4n} - I_{2n}} \\approx 2^p\n",
    "$$\n",
    "Pare eso re-escribimos\n",
    "$$\n",
    "\\frac{I_{2n} - I_n}{I_{4n} - I_{2n}} = \\frac{(I - I_n) - (I - I_{2n})}{(I - I_{2n}) - (I - I_{4n})}\n",
    "$$\n",
    "y sustituimos\n",
    "$$\n",
    "I - I_n \\approx \\frac{c}{n^p}, \\qquad\n",
    "I - I_{2n} \\approx \\frac{c}{2^p n^p}, \\qquad\n",
    "I - I_{4n} \\approx \\frac{c}{4^p n^p}\n",
    "$$"
   ]
  },
  {
   "cell_type": "markdown",
   "metadata": {
    "slideshow": {
     "slide_type": "subslide"
    }
   },
   "source": [
    "### Ejemplo \n",
    "\n",
    "Tenemos la siguiente tabla, generada por un metodo de integración numérica"
   ]
  },
  {
   "cell_type": "code",
   "execution_count": 20,
   "metadata": {
    "code_folding": [
     0
    ],
    "slideshow": {
     "slide_type": "skip"
    }
   },
   "outputs": [],
   "source": [
    "taba = [[2, .28451779686, np.nan, np.nan],\n",
    "        [4, .28559254576, 1.075E-3, np.nan],\n",
    "        [8, .28570248748, 1.099E-4, 9.78],\n",
    "        [16, .28571317731, 1.069E-5, 10.28],\n",
    "        [32, .28571418363, 1.006E-6, 10.62],\n",
    "        [64, .28571427643, 9.280E-8, 10.84]]\n",
    "taba = pd.DataFrame(taba, index=2**np.arange(1, 7), columns=[\"$n$\", \"$I_n$\", r\"$I_n - I_{\\frac{1}{2}n}$\", \"Ratio\"])"
   ]
  },
  {
   "cell_type": "code",
   "execution_count": 21,
   "metadata": {
    "hide_input": true
   },
   "outputs": [
    {
     "data": {
      "text/html": [
       "<style  type=\"text/css\" >\n",
       "</style><table id=\"T_a26c2_\" ><thead>    <tr>        <th class=\"blank level0\" ></th>        <th class=\"col_heading level0 col0\" >$n$</th>        <th class=\"col_heading level0 col1\" >$I_n$</th>        <th class=\"col_heading level0 col2\" >$I_n - I_{\\frac{1}{2}n}$</th>        <th class=\"col_heading level0 col3\" >Ratio</th>    </tr></thead><tbody>\n",
       "                <tr>\n",
       "                        <th id=\"T_a26c2_level0_row0\" class=\"row_heading level0 row0\" >2</th>\n",
       "                        <td id=\"T_a26c2_row0_col0\" class=\"data row0 col0\" >2</td>\n",
       "                        <td id=\"T_a26c2_row0_col1\" class=\"data row0 col1\" >0.284518</td>\n",
       "                        <td id=\"T_a26c2_row0_col2\" class=\"data row0 col2\" ></td>\n",
       "                        <td id=\"T_a26c2_row0_col3\" class=\"data row0 col3\" ></td>\n",
       "            </tr>\n",
       "            <tr>\n",
       "                        <th id=\"T_a26c2_level0_row1\" class=\"row_heading level0 row1\" >4</th>\n",
       "                        <td id=\"T_a26c2_row1_col0\" class=\"data row1 col0\" >4</td>\n",
       "                        <td id=\"T_a26c2_row1_col1\" class=\"data row1 col1\" >0.285593</td>\n",
       "                        <td id=\"T_a26c2_row1_col2\" class=\"data row1 col2\" >1.075e-03</td>\n",
       "                        <td id=\"T_a26c2_row1_col3\" class=\"data row1 col3\" ></td>\n",
       "            </tr>\n",
       "            <tr>\n",
       "                        <th id=\"T_a26c2_level0_row2\" class=\"row_heading level0 row2\" >8</th>\n",
       "                        <td id=\"T_a26c2_row2_col0\" class=\"data row2 col0\" >8</td>\n",
       "                        <td id=\"T_a26c2_row2_col1\" class=\"data row2 col1\" >0.285702</td>\n",
       "                        <td id=\"T_a26c2_row2_col2\" class=\"data row2 col2\" >1.099e-04</td>\n",
       "                        <td id=\"T_a26c2_row2_col3\" class=\"data row2 col3\" >9.78</td>\n",
       "            </tr>\n",
       "            <tr>\n",
       "                        <th id=\"T_a26c2_level0_row3\" class=\"row_heading level0 row3\" >16</th>\n",
       "                        <td id=\"T_a26c2_row3_col0\" class=\"data row3 col0\" >16</td>\n",
       "                        <td id=\"T_a26c2_row3_col1\" class=\"data row3 col1\" >0.285713</td>\n",
       "                        <td id=\"T_a26c2_row3_col2\" class=\"data row3 col2\" >1.069e-05</td>\n",
       "                        <td id=\"T_a26c2_row3_col3\" class=\"data row3 col3\" >10.28</td>\n",
       "            </tr>\n",
       "            <tr>\n",
       "                        <th id=\"T_a26c2_level0_row4\" class=\"row_heading level0 row4\" >32</th>\n",
       "                        <td id=\"T_a26c2_row4_col0\" class=\"data row4 col0\" >32</td>\n",
       "                        <td id=\"T_a26c2_row4_col1\" class=\"data row4 col1\" >0.285714</td>\n",
       "                        <td id=\"T_a26c2_row4_col2\" class=\"data row4 col2\" >1.006e-06</td>\n",
       "                        <td id=\"T_a26c2_row4_col3\" class=\"data row4 col3\" >10.62</td>\n",
       "            </tr>\n",
       "            <tr>\n",
       "                        <th id=\"T_a26c2_level0_row5\" class=\"row_heading level0 row5\" >64</th>\n",
       "                        <td id=\"T_a26c2_row5_col0\" class=\"data row5 col0\" >64</td>\n",
       "                        <td id=\"T_a26c2_row5_col1\" class=\"data row5 col1\" >0.285714</td>\n",
       "                        <td id=\"T_a26c2_row5_col2\" class=\"data row5 col2\" >9.280e-08</td>\n",
       "                        <td id=\"T_a26c2_row5_col3\" class=\"data row5 col3\" >10.84</td>\n",
       "            </tr>\n",
       "    </tbody></table>"
      ],
      "text/plain": [
       "<pandas.io.formats.style.Styler at 0x7fe35a080b20>"
      ]
     },
     "execution_count": 21,
     "metadata": {},
     "output_type": "execute_result"
    }
   ],
   "source": [
    "taba.style.format(dict(zip(taba.columns, [\"{:g}\", \"{:f}\", partial(nan_sp, fmt=\"{:.3e}\"), partial(nan_sp,fmt=\"{:.2f}\")])))"
   ]
  },
  {
   "cell_type": "code",
   "execution_count": 22,
   "metadata": {},
   "outputs": [],
   "source": [
    "# Indices de columnas\n",
    "c_n, c_I, c_diff, c_r = taba.columns"
   ]
  },
  {
   "cell_type": "code",
   "execution_count": 23,
   "metadata": {},
   "outputs": [],
   "source": [
    "ratio = taba[c_r][64]\n",
    "p = np.log2(ratio)"
   ]
  },
  {
   "cell_type": "code",
   "execution_count": 24,
   "metadata": {
    "hide_input": true
   },
   "outputs": [
    {
     "data": {
      "text/latex": [
       "$\\displaystyle 2^p \\doteq 10.84, \\qquad p \\doteq \\log_2 10.84 = 3.44$"
      ],
      "text/plain": [
       "<IPython.core.display.Math object>"
      ]
     },
     "execution_count": 24,
     "metadata": {},
     "output_type": "execute_result"
    }
   ],
   "source": [
    "Math(r\"2^p \\doteq {0:.2f}, \\qquad p \\doteq \\log_2 {0:.2f} = {1:.2f}\".format(ratio, p))"
   ]
  },
  {
   "cell_type": "markdown",
   "metadata": {
    "slideshow": {
     "slide_type": "subslide"
    }
   },
   "source": [
    "Es posible combinarlo con la expresión del error de Richardson para estimar el error:\n",
    "$$\n",
    "I - I_n \\approx \\frac{1}{2^p - 1}(I_n - I_{\\frac{1}{2}n})\n",
    "$$"
   ]
  },
  {
   "cell_type": "code",
   "execution_count": 25,
   "metadata": {},
   "outputs": [],
   "source": [
    "diff64 = taba[c_diff][64]\n",
    "factor64 = (2**p - 1)\n",
    "err64 = 1/factor64 * diff64"
   ]
  },
  {
   "cell_type": "code",
   "execution_count": 26,
   "metadata": {
    "hide_input": true
   },
   "outputs": [
    {
     "data": {
      "text/latex": [
       "$\\displaystyle I - I_{64} = \\frac{1}{9.84}[9.280e-08] = 9.4309e-09$"
      ],
      "text/plain": [
       "<IPython.core.display.Math object>"
      ]
     },
     "execution_count": 26,
     "metadata": {},
     "output_type": "execute_result"
    }
   ],
   "source": [
    "Math(r\"I - I_{{64}} = \\frac{{1}}{{{0:.3g}}}[{1:.3e}] = {2:.4e}\".format(factor64, diff64, err64))"
   ]
  },
  {
   "cell_type": "markdown",
   "metadata": {
    "slideshow": {
     "slide_type": "subslide"
    }
   },
   "source": [
    "De la extrapolación de Aitken tenemos para el error:\n",
    "$$\n",
    "  I - I_n = - \\frac{(I_n - I_{\\frac{1}{2}n})^2}{(I_n - I_{\\frac{1}{2}n}) - (I_{\\frac{1}{2}n} - I_{\\frac{1}{4}n})}\n",
    "$$"
   ]
  },
  {
   "cell_type": "code",
   "execution_count": 27,
   "metadata": {},
   "outputs": [],
   "source": [
    "diff32 = taba[c_diff][32]\n",
    "err64a = -diff64**2 / (diff64 - diff32)"
   ]
  },
  {
   "cell_type": "code",
   "execution_count": 28,
   "metadata": {
    "hide_input": true
   },
   "outputs": [
    {
     "data": {
      "text/latex": [
       "$\\displaystyle I - I_{64} = 9.4304e-09$"
      ],
      "text/plain": [
       "<IPython.core.display.Math object>"
      ]
     },
     "execution_count": 28,
     "metadata": {},
     "output_type": "execute_result"
    }
   ],
   "source": [
    "Math(r\"I - I_{{64}} = {:.4e}\".format(err64a))"
   ]
  },
  {
   "cell_type": "code",
   "execution_count": 29,
   "metadata": {},
   "outputs": [
    {
     "data": {
      "image/png": "[encoded data removed]",
      "text/latex": [
       "$\\displaystyle \\left( 9.43089430894309 \\cdot 10^{-9}, \\  9.43039859833552 \\cdot 10^{-9}, \\  5.25651808242757 \\cdot 10^{-5}\\right)$"
      ],
      "text/plain": [
       "(9.43089430894309e-09, 9.430398598335523e-09, 5.2565180824275674e-05)"
      ]
     },
     "execution_count": 29,
     "metadata": {},
     "output_type": "execute_result"
    }
   ],
   "source": [
    "# Richardson vs Aitken\n",
    "err64, err64a, (err64 - err64a) / err64a"
   ]
  },
  {
   "cell_type": "markdown",
   "metadata": {
    "slideshow": {
     "slide_type": "slide"
    }
   },
   "source": [
    "## Funciones periodicas\n",
    "\n",
    "Una función $f(x)$ se llama *periodica* cuando existe un número real $\\tilde\\tau >0$ con\n",
    "$$\n",
    "f(x + \\tilde\\tau) = f(x)\\quad  \\forall x \\in \\mathbb{R}\n",
    "$$\n",
    "El número $\\tau$ más pequeño con cual se cumple esta condición se llama el *periodo* de $f(x)$.\n",
    "\n",
    "La condición anterior implica\n",
    "$$\n",
    "f^{(m)}(x + \\tilde\\tau) = f^{(m)}(x)\\quad  \\forall x \\in \\mathbb{R}\n",
    "$$\n",
    "para la $m$-esima derivada de $f(x)$, suponiendo que existe. Entonces, las derivadas de una función periodica también son periodicas.\n"
   ]
  },
  {
   "cell_type": "markdown",
   "metadata": {
    "slideshow": {
     "slide_type": "subslide"
    }
   },
   "source": [
    "## Integración de funciones periodicas\n",
    "\n",
    "Consideramos el caso especial de integrales\n",
    "$$\n",
    "I(f) = \\int_a^b f(x)\\,\\d x\n",
    "$$\n",
    "con $f(x)$ periodico y $b - a$ un multiple entero de periodo $\\tau$ de $f(x)$. En este caso, convergencia y precisión del metodo del trapezoide y de otras reglas se vuelven mejor que en el caso genérico.\n",
    "\n",
    "Nos recordamos\n",
    "$$\n",
    "\\int_a^b f(x)\\,\\d x - T_n(f) \\approx \\tilde E^T_n(f) \\equiv -\\frac{h^2}{12} \\bigl[ f'(b) - f'(a) \\bigr]\n",
    "$$\n",
    "Por la periodicidad de $f(x)$ tenemos\n",
    "$$\n",
    "f(a) = f(b),\\qquad f'(a) = f'(b)\n",
    "$$\n",
    "y entonces\n",
    "$$\n",
    "E^T_n(f) = 0\n",
    "$$\n",
    "Por eso esperamos una convergencia mejorada."
   ]
  },
  {
   "cell_type": "markdown",
   "metadata": {
    "slideshow": {
     "slide_type": "subslide"
    }
   },
   "source": [
    "En el caso cuando $f(x)$ es periodico en $[a, b]$ y cuando tiene $m$ derivadas continuas, es posible demonstar que\n",
    "$$\n",
    "I(f) - T_n(f) = \\frac{c}{n^m} + \\text{terminos menores}\n",
    "$$\n",
    "Donde \"terminos menores\" indica terminos que bajan a cero más rapidamente que $n^{-m}$.\n",
    "\n",
    "Entonces para $f(x)$ peridico en $[a, b]$ que es infinitivamente diferenciable tenemos un error $I(f) - T_n(f)$ que se acerca a cero más rapidamente que cualquier $n^{-m}$ con $m > 0$. Para integrales def funciones periodicas, el metodo trapezoidial es un metodo de integración numérica optima."
   ]
  },
  {
   "cell_type": "markdown",
   "metadata": {
    "slideshow": {
     "slide_type": "subslide"
    }
   },
   "source": [
    "### Ejemplo\n",
    "\n",
    "Usamos la regla del trapezoide para evaluar\n",
    "$$\n",
    "I = \\int_0^{2\\pi} \\frac{\\sin x\\,\\d x}{1 + e^{\\sin x}}\n",
    "$$\n",
    "**NB** En este caso, metodos de integración basados en la extrapolación de Richardsons no son validos."
   ]
  },
  {
   "cell_type": "code",
   "execution_count": 30,
   "metadata": {
    "code_folding": [
     0
    ],
    "slideshow": {
     "slide_type": "skip"
    }
   },
   "outputs": [],
   "source": [
    "#\n",
    "T_old = np.nan\n",
    "tab_per = []\n",
    "for i in range(1, 7):\n",
    "    n = 2**i\n",
    "    xr_per = np.linspace(0, 2*np.pi, n + 1)\n",
    "    sx = np.sin(xr_per)\n",
    "    Tn = trapz(sx / (1 + np.exp(sx)), xr_per)\n",
    "    tab_per.append([n, Tn, Tn - T_old])\n",
    "    T_old = Tn\n",
    "    \n",
    "tab_per = pd.DataFrame(tab_per, columns=[\"$n$\", \"$T_n$\", r\"$T_n - T_{\\frac{1}{2}n}$\"])"
   ]
  },
  {
   "cell_type": "code",
   "execution_count": 31,
   "metadata": {
    "hide_input": true
   },
   "outputs": [
    {
     "data": {
      "text/html": [
       "<style  type=\"text/css\" >\n",
       "</style><table id=\"T_3f8cb_\" ><thead>    <tr>        <th class=\"blank level0\" ></th>        <th class=\"col_heading level0 col0\" >$n$</th>        <th class=\"col_heading level0 col1\" >$T_n$</th>        <th class=\"col_heading level0 col2\" >$T_n - T_{\\frac{1}{2}n}$</th>    </tr></thead><tbody>\n",
       "                <tr>\n",
       "                        <th id=\"T_3f8cb_level0_row0\" class=\"row_heading level0 row0\" >0</th>\n",
       "                        <td id=\"T_3f8cb_row0_col0\" class=\"data row0 col0\" >2</td>\n",
       "                        <td id=\"T_3f8cb_row0_col1\" class=\"data row0 col1\" >-0.000000000000</td>\n",
       "                        <td id=\"T_3f8cb_row0_col2\" class=\"data row0 col2\" ></td>\n",
       "            </tr>\n",
       "            <tr>\n",
       "                        <th id=\"T_3f8cb_level0_row1\" class=\"row_heading level0 row1\" >1</th>\n",
       "                        <td id=\"T_3f8cb_row1_col0\" class=\"data row1 col0\" >4</td>\n",
       "                        <td id=\"T_3f8cb_row1_col1\" class=\"data row1 col1\" >-0.725891933173</td>\n",
       "                        <td id=\"T_3f8cb_row1_col2\" class=\"data row1 col2\" >-7.259e-01</td>\n",
       "            </tr>\n",
       "            <tr>\n",
       "                        <th id=\"T_3f8cb_level0_row2\" class=\"row_heading level0 row2\" >2</th>\n",
       "                        <td id=\"T_3f8cb_row2_col0\" class=\"data row2 col0\" >8</td>\n",
       "                        <td id=\"T_3f8cb_row2_col1\" class=\"data row2 col1\" >-0.740061312116</td>\n",
       "                        <td id=\"T_3f8cb_row2_col2\" class=\"data row2 col2\" >-1.417e-02</td>\n",
       "            </tr>\n",
       "            <tr>\n",
       "                        <th id=\"T_3f8cb_level0_row3\" class=\"row_heading level0 row3\" >3</th>\n",
       "                        <td id=\"T_3f8cb_row3_col0\" class=\"data row3 col0\" >16</td>\n",
       "                        <td id=\"T_3f8cb_row3_col1\" class=\"data row3 col1\" >-0.740069423377</td>\n",
       "                        <td id=\"T_3f8cb_row3_col2\" class=\"data row3 col2\" >-8.111e-06</td>\n",
       "            </tr>\n",
       "            <tr>\n",
       "                        <th id=\"T_3f8cb_level0_row4\" class=\"row_heading level0 row4\" >4</th>\n",
       "                        <td id=\"T_3f8cb_row4_col0\" class=\"data row4 col0\" >32</td>\n",
       "                        <td id=\"T_3f8cb_row4_col1\" class=\"data row4 col1\" >-0.740069423379</td>\n",
       "                        <td id=\"T_3f8cb_row4_col2\" class=\"data row4 col2\" >-2.746e-12</td>\n",
       "            </tr>\n",
       "            <tr>\n",
       "                        <th id=\"T_3f8cb_level0_row5\" class=\"row_heading level0 row5\" >5</th>\n",
       "                        <td id=\"T_3f8cb_row5_col0\" class=\"data row5 col0\" >64</td>\n",
       "                        <td id=\"T_3f8cb_row5_col1\" class=\"data row5 col1\" >-0.740069423379</td>\n",
       "                        <td id=\"T_3f8cb_row5_col2\" class=\"data row5 col2\" >0.000e+00</td>\n",
       "            </tr>\n",
       "    </tbody></table>"
      ],
      "text/plain": [
       "<pandas.io.formats.style.Styler at 0x7fe35a0a1940>"
      ]
     },
     "execution_count": 31,
     "metadata": {},
     "output_type": "execute_result"
    }
   ],
   "source": [
    "tab_per.style.format(dict(zip(tab_per.columns, [\"{:g}\", \"{:.12f}\", partial(nan_sp, fmt=\"{:.3e}\")])))"
   ]
  }
 ],
 "metadata": {
  "celltoolbar": "Slideshow",
  "hide_input": false,
  "kernelspec": {
   "display_name": "Python 3 (ipykernel)",
   "language": "python",
   "name": "python3"
  },
  "language_info": {
   "codemirror_mode": {
    "name": "ipython",
    "version": 3
   },
   "file_extension": ".py",
   "mimetype": "text/x-python",
   "name": "python",
   "nbconvert_exporter": "python",
   "pygments_lexer": "ipython3",
   "version": "3.11.5"
  },
  "latex_envs": {
   "LaTeX_envs_menu_present": true,
   "autoclose": false,
   "autocomplete": true,
   "bibliofile": "biblio.bib",
   "cite_by": "apalike",
   "current_citInitial": 1,
   "eqLabelWithNumbers": true,
   "eqNumInitial": 1,
   "hotkeys": {
    "equation": "ctrl-shift-i"
   },
   "labels_anchors": false,
   "latex_user_defs": false,
   "report_style_numbering": false,
   "user_envs_cfg": false
  },
  "toc": {
   "base_numbering": 1,
   "nav_menu": {
    "height": "66px",
    "width": "252px"
   },
   "number_sections": true,
   "sideBar": true,
   "skip_h1_title": true,
   "title_cell": "Table of Contents",
   "title_sidebar": "Contents",
   "toc_cell": false,
   "toc_position": {},
   "toc_section_display": "block",
   "toc_window_display": false
  },
  "varInspector": {
   "cols": {
    "lenName": 16,
    "lenType": 16,
    "lenVar": 40
   },
   "kernels_config": {
    "python": {
     "delete_cmd_postfix": "",
     "delete_cmd_prefix": "del ",
     "library": "var_list.py",
     "varRefreshCmd": "print(var_dic_list())"
    },
    "r": {
     "delete_cmd_postfix": ") ",
     "delete_cmd_prefix": "rm(",
     "library": "var_list.r",
     "varRefreshCmd": "cat(var_dic_list()) "
    }
   },
   "types_to_exclude": [
    "module",
    "function",
    "builtin_function_or_method",
    "instance",
    "_Feature"
   ],
   "window_display": false
  }
 },
 "nbformat": 4,
 "nbformat_minor": 4
}
