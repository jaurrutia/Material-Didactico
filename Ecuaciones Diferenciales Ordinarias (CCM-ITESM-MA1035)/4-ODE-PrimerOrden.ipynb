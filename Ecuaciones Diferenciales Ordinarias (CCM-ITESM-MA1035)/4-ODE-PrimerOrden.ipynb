{
 "cells": [
  {
   "cell_type": "markdown",
   "id": "6e222f61-2bc7-4a28-b683-9f7aacfc06eb",
   "metadata": {
    "editable": true,
    "slideshow": {
     "slide_type": "slide"
    },
    "tags": []
   },
   "source": [
    "# **Modelación de sistemas dinámicos**\n",
    "# ODE de primer orden\n",
    "\n",
    "### M. en C. Jonathan A. Urrutia Anguiano\n",
    "### MA1035.535\n",
    "\n",
    "\n",
    "<div hidden>\n",
    "$\\def\\dd{\\text{d}}$\n",
    "$\\def\\dv#1#2{\\dfrac{\\text{d} #1}{\\text{d}#2}}$\n",
    "$\\def\\mdv#1#2#3{\\dfrac{\\text{d}^{#3} #1}{\\text{d}#2^{#3}}}$\n",
    "$\\def\\vb#1{\\mathbf{#1}}$\n",
    "$\\def\\pdv#1#2#3{\\dfrac{\\partial^{#3} #1}{\\partial #2^{#3}}}$\n",
    "\\vskip-\\parskip\n",
    "\\vskip-\\baselineskip\n",
    "</div>"
   ]
  },
  {
   "cell_type": "markdown",
   "id": "9db6dcc4-4cc3-4203-9737-8750a195024b",
   "metadata": {
    "editable": true,
    "slideshow": {
     "slide_type": "slide"
    },
    "tags": []
   },
   "source": [
    "### ODE de primer orden más sencilla\n",
    "\n",
    "El caso general de una ***ordinary differential equation*** (ODE) de primer ordén explícita es:\n",
    "\n",
    "$$\n",
    "\\dv{y}{t} = f(y,t),\n",
    "$$\n",
    "\n",
    "donde $y = y(t)$ es la función a determinar, $t$ su variable dependiente y $f$ una función que depende de $y$ así como de $t$.\n",
    "\n",
    "La ODE de primer orden anterior está resuleta de forma autómatica si $f$ no depende explícitamente de $y$, es decir:\n",
    "$$\n",
    "\\dv{y}{t} = f(t) \\Longrightarrow \\int \\dv{y}{t} \\dd{t} = y(t) = \\int f(t) \\dd{t} + C,\n",
    "$$\n",
    "donde se empleó el teorema fundamental del cálculo (TFC), y se añade una constante de integración a determinar con las condiciones iniciales (de frontera) del problema específico.\n"
   ]
  },
  {
   "cell_type": "markdown",
   "id": "82452492-4888-4240-b5b4-c14682288a17",
   "metadata": {
    "editable": true,
    "slideshow": {
     "slide_type": "slide"
    },
    "tags": []
   },
   "source": [
    "## ODE de primer orden lineales y homogéneas\n",
    "### Coeficientes constantes\n",
    "Una ODE de primer orden lineal (en el caso homogéneo) se escribe en general como\n",
    "\n",
    "$$\n",
    "a_1(t)\\dv{y(t)}{t} + a_0(t)y(t)=0,\n",
    "$$\n",
    "\n",
    "con $a_1(t)$ y $a_0(t)$ funciones de $t$.La ecuación anterior tiene una solución exacta si las funciones $a_1\\neq 0$ y $a_0$ son constantes; en este caso la ecuación anterior se reescribe como: \n",
    "\n",
    "$$\n",
    "\\begin{aligned}\n",
    "\\dv{y(t)}{t}  =  -\\frac{a_0}{a_1}y(t)\\qquad \\Longrightarrow \n",
    "     \\qquad\\int\\frac{1}{y(t)} \\dv{y}{t} \\dd{t}  = \\int  -\\frac{a_0}{a_1} \\dd{t} = -\\frac{a_0}{a_1}t + C,\n",
    "\\end{aligned}\n",
    "$$\n",
    "\n",
    "Realizando el cambio de variable $\\dd{y} = (\\dd{y}/\\dd{t})\\dd{t}$ se obtiene que\n",
    "\n",
    "$$\n",
    "\\begin{aligned}\n",
    "\\int\\frac{1}{y(t)} \\dv{y}{t} \\dd{t}  = \\int \\frac{\\dd{y}}{y} \\int = \\ln|y|  = -\\frac{a_0}{a_1}t + C,\n",
    "\\end{aligned}\n",
    "$$"
   ]
  },
  {
   "cell_type": "markdown",
   "id": "2618e996-4462-4b98-8bd3-3829eec0049b",
   "metadata": {
    "editable": true,
    "slideshow": {
     "slide_type": "subslide"
    },
    "tags": []
   },
   "source": [
    "Partiendo del resultado:\n",
    "\n",
    "$$\n",
    "\\begin{aligned}\n",
    "\\int\\frac{1}{y(t)} \\dv{y}{t} \\dd{t}  = \\int \\frac{\\dd{y}}{y} \\int = \\ln|y|  = -\\frac{a_0}{a_1}t + C,\n",
    "\\end{aligned}\n",
    "$$\n",
    "\n",
    "es posible aplicar la función exponencial en la última igualdad y despejar $y$ como función de $t$, dando como resultado:\n",
    "\n",
    "$$\n",
    "a_1(t)\\dv{y(t)}{t} + a_0(t)y(t)=0\n",
    "\\qquad\\Longleftrightarrow \\qquad\n",
    "y(t) = y_0\\exp\\left(- \\frac{a_0}{a_1}t\\right),\n",
    "$$\n",
    "con $y_0 = \\exp(C)$, una constante de integración."
   ]
  },
  {
   "cell_type": "markdown",
   "id": "24a38752-7cd8-421c-9976-4e424de77df8",
   "metadata": {
    "editable": true,
    "slideshow": {
     "slide_type": "subslide"
    },
    "tags": []
   },
   "source": [
    "### Coeficientes no constantes\n",
    "\n",
    "Retomemos el caso de la ODE homogénea lineal con $a_1(t)\\neq 0$ y $a_0(t)\\neq 0$:\n",
    "\n",
    "$$\n",
    "a_1(t)\\dv{y(t)}{t} + a_0(t)y(t)=0.\n",
    "$$\n",
    "\n",
    "Haciéndo un procedimiento análogo al caso anterior, se llega la siguiente expresión:\n",
    "\n",
    "$$\n",
    "\\begin{aligned}\n",
    " \\frac{1}{y(t)} \\dv{y}{t} =  -\\frac{a_0(t)}{a_1(t)} \\equiv g(t),\n",
    "\\end{aligned}\n",
    "$$\n",
    "donde se definió a $g(t)$ como el cociente de dos funciones de $t$. Notemos que al aplicar la integración respecto a $t$ de ambos lados de la ecuación, y siguiendo el procedimiento anteriormente descrito, es posible despejar la expresión de $y(t)$ en términos de la integral de $g(t)$. Es decir, la solución general de la ODE lineal no homogénea con coeficientes no constantes es:\n",
    "\n",
    "$$\n",
    "a_1(t)\\dv{y(t)}{t} + a_0(t)y(t)=0 \n",
    "\\qquad\\Longleftrightarrow \\qquad\n",
    "y(t) = y_0\\exp\\left(\\int g(t)\\dd{t}\\right),\n",
    "$$\n",
    "con $y_0 = \\exp(C)$. La expresión anterior es un caso general del método de **separación de variables**.\n",
    "\n",
    "Con estos dos procedimientos se ha mostrado que para el caso homogéneo, la ODE lineal siempre tiene solución."
   ]
  },
  {
   "cell_type": "markdown",
   "id": "db5638a7-b1cb-4724-af95-cf97aae53218",
   "metadata": {
    "editable": true,
    "jp-MarkdownHeadingCollapsed": true,
    "slideshow": {
     "slide_type": "subslide"
    },
    "tags": []
   },
   "source": [
    "### Ejemplo: Fuerza de arrastre según la Ley de Stokes\n",
    "\n",
    " Para considerar los efectos del arraste, es razonable suponer, para objetos *ligeros*, que la fuerza de arrastre $\\vec{F}_\\text{drag}$ es $\\vec{F}_\\text{drag} = -m\\gamma\\vec{v}$, por lo que la ecuación diferencial a resolver es:\n",
    "$$\n",
    "\\begin{aligned}\n",
    "m\\dv{v_y}{t} = - mg - m\\gamma v_y\n",
    "\\qquad\\Longrightarrow\\qquad\n",
    "\\dv{v_y}{t} + \\gamma v_y + g = 0\n",
    "\\qquad\\Longrightarrow\\qquad\n",
    "\\dv{(v_y+ g/\\gamma)}{t} + \\gamma (v_y + g/\\gamma) = 0\n",
    "\\end{aligned}\n",
    "$$\n",
    "donde $m$ es la masa de la partícula, $g$ la aceleración debido a la gravedad y  $\\gamma>0$ es un coeficiente realacionado con la densidad de masa de la partícula, su sección transversal y la vsicosidad del medio en el que viaja. Anteriormente resolvimos esta ecuación diferencial mediante el método de sepración de variables sin embargo, ahora podemos emplear la fórmula directametne y corroborar que\n",
    "\n",
    "$$\n",
    "v_y(t) + \\frac{g}{\\gamma} =  \\left(v_0 + \\frac{g}{\\gamma} \\right) \\exp[-\\gamma(t-t_0)]\n",
    "$$\n"
   ]
  },
  {
   "cell_type": "markdown",
   "id": "9224e372-97c4-41b6-8d9d-a2f3cd7c1677",
   "metadata": {
    "editable": true,
    "slideshow": {
     "slide_type": "slide"
    },
    "tags": []
   },
   "source": [
    "## ODE de primer orden lineales y no homogéneas\n",
    "### Factor integante\n",
    "Una ODE de primer orden lineal se escribe en general como\n",
    "\n",
    "$$\n",
    "a_1(t)\\dv{y(t)}{t} + a_0(t)y(t)= b(t),\n",
    "$$\n",
    "\n",
    "con $a_1(t)$ y $a_0(t)$ funciones de $t$ y $b(t)$ es la función denominada como fuente. Asumiendo que $a_1(t)\\neq 0$, la ecuación se puede reescribir como\n",
    "\n",
    "$$\n",
    "\\begin{equation}\n",
    "\\dv{y(t)}{t} + p(t)y(t)= f(t). \\tag{1}\n",
    "\\end{equation}\n",
    "$$\n",
    "\n",
    "Con esta expresión es posible encontrar una solución general para toda ODE lieal no homogénes. Para desarrollar la solución recordaremos:\n",
    "\n",
    " - Regla del producto para derivadas\n",
    " - Teorema Fundamental del Cálculo (TFC)\n",
    " - Solución de ODE lineales homogéneas"
   ]
  },
  {
   "cell_type": "markdown",
   "id": "3a0c9e3a-1aa5-4fb5-bc07-c944528dcbbf",
   "metadata": {
    "editable": true,
    "slideshow": {
     "slide_type": "subslide"
    },
    "tags": []
   },
   "source": [
    "### Regla del producto para derivadas\n",
    "Para proponer una solución de la Ec. (1) recordemos que si se deriva el producto de dos funciones, por ejemplo $y(t)$ y $\\mu(t)$, entonces\n",
    "\n",
    "$$\n",
    "\\begin{equation}\n",
    "\\dv{}{t}\\big[y(t)\\mu(t)\\big] =  \\mu(t) \\dv{y(t)}{t} + \\dv{\\mu(t)}{t} y(t). \\tag{2}\n",
    "\\end{equation}\n",
    "$$\n",
    "Multiplicando la Ec. (1) por la función $\\mu(t)$, ésta se reescribe como\n",
    "$$\n",
    "\\begin{equation}\n",
    "\\mu(t)\\dv{y(t)}{t} + \\mu(t)p(t)y(t)= \\,\\mu(t)f(t). \\tag{3}\n",
    "\\end{equation}\n",
    "$$\n",
    "Comparando el lado derecho de la Ec. (2) con el izquierdo de la Ec. (3) podemos notar que\n",
    "$$\n",
    "\\text{Si }\\qquad \\dv{\\mu(t)}{t} =  \\mu(t)p(t),\\qquad \\text{entonces}\\qquad  \\dv{}{t}\\big[y(t)\\mu(t)\\big] = \\,\\mu(t)f(t).\n",
    "$$\n",
    "Por tanto, es posible depejar $y(t)$ mediante una integración respecto a $t$ y empleando el TFC, dando como resultado:\n",
    "$$\n",
    "y(t)= \\frac{1}{\\mu(t)}\\left( \\int \\mu(t)f(t)\\, \\dd{t} + C\\right),\n",
    "$$\n",
    "sin embargo falta determinar a la función $\\mu(t)$."
   ]
  },
  {
   "cell_type": "markdown",
   "id": "180c5146-df61-46e2-b1c2-0be4a0bb33b6",
   "metadata": {
    "editable": true,
    "slideshow": {
     "slide_type": "subslide"
    },
    "tags": []
   },
   "source": [
    "### Expresión del factor integrante\n",
    "\n",
    "Notemos que el factor integrante $\\mu(t)$ cumple con la siguiente expresión\n",
    "$$ \\dv{\\mu(t)}{t} =  \\mu(t)p(t),$$\n",
    "es decir, es una ecuación diferencial de primer orden que puede resolverse mediante separación de variables. Dividiendo la ecuación anterior entre $\\mu(t)$, realizando una integración respecto a $t$ y haciendo uso del teorema de cambio de variables se obtiene que\n",
    "\n",
    "$$\n",
    "\\mu(t) = \\mu_0 \\exp\\left(\\int p(t)\\dd{t}\\right),\n",
    "$$\n",
    "\n",
    "donde $\\mu_0$ es una constante de integración. \n",
    "\n",
    "Sustituyendo este resultado en nuestra expresión de $y(t)$ habremos resuelto el problema en su totalidad\n"
   ]
  },
  {
   "cell_type": "markdown",
   "id": "e5ff600e-12a4-45b3-92a0-561dc18c1d28",
   "metadata": {
    "editable": true,
    "slideshow": {
     "slide_type": "subslide"
    },
    "tags": []
   },
   "source": [
    "## Conclusión:\n",
    "\n",
    "Para una ecuación diferencial lineal de primer grado que pueda escribirse como\n",
    "\n",
    "$$\n",
    "\\dv{y(t)}{t} + p(t)y(t)= f(t),\n",
    "$$\n",
    "\n",
    "la solución está dada por\n",
    "\n",
    "$$\n",
    "y(t)= \\frac{1}{\\mu(t)} \\left( \\int \\mu(t)f(t)\\, \\dd{t} + C\\right),\\qquad\\text{donde}\\qquad \\mu(t) = \\mu_0 \\exp\\left(\\int p(t)\\dd{t}\\right),\n",
    "$$\n",
    "lo que deviene en la siguiente expresión\n",
    "\n",
    "$$\n",
    "y(t)= \\exp\\left(-\\int p(t)\\dd{t}\\right) \\int \\exp\\left(\\int p(t)\\dd{t}\\right)f(t)\\, \\dd{t} + C\\exp\\left(-\\int p(t)\\dd{t}\\right).\n",
    "$$"
   ]
  },
  {
   "cell_type": "markdown",
   "id": "e5c6bd2e-b57f-4f56-968f-110587cf4922",
   "metadata": {
    "editable": true,
    "slideshow": {
     "slide_type": "subslide"
    },
    "tags": []
   },
   "source": [
    "## Ejercicios en clase\n",
    "\n",
    "Resuelve los siguientes problemas de condiciones iniciales\n",
    "\n",
    " - $\\cos(t)\\dot{y} + \\sin(t) y = 2 \\cos^3(t)\\sin(t) - 1, \\qquad y(\\pi/4) = 2\\sqrt{2}$\n",
    " - $t\\dot{y} + 2 y = t^2 - t + 1 , \\qquad y(1) = 1/2$\n",
    "\n",
    "Si quieres apoyo en las soluciones (una vez que hayas intentado resolver las eucaciones) te recomiendo [este portal](https://tutorial.math.lamar.edu/classes/de/linear.aspx) "
   ]
  },
  {
   "cell_type": "markdown",
   "id": "778046ac-b4d6-40b1-8bbf-3142d11b51b3",
   "metadata": {
    "editable": true,
    "slideshow": {
     "slide_type": "slide"
    },
    "tags": []
   },
   "source": [
    "## Aplicaciones de las ODE de primer orden\n",
    "\n",
    "A lo largo de estas clases hemos visto cómo se pueden modelar distintas siutaciones con las mismas ecuaciones diferenciales:\n",
    "\n",
    "**Problemas de población**: En este tipo de problemas podemos englobar cómo evoluciona una muestra, por ejemplo, biológica de bacterias, de gente, el aumennto de la velocidad de un objeto ante fuerzas de arrastre, e incluso el interés compuesto de una inversión, así como el decaimiento de elementos debido a radiactividad (pruebas de Carbono 14) o bien, el cambio de temperatura de algunos objetos. En general, todas están modeladas por ODE de primer orden con coeficientes constantes\n",
    "\n",
    "$$\n",
    "\\dv{y}{t} = \\pm \\gamma y.\n",
    "$$\n",
    "\n",
    "**Problemas de mezclas**: Este caso es igualmente modelado por ODE lineales sin embargo por su importancia en ingeniería y ciencias biológicas de trata de forma independiente."
   ]
  },
  {
   "cell_type": "markdown",
   "id": "2bf83885-e905-4985-b849-248bbadbb1db",
   "metadata": {
    "editable": true,
    "slideshow": {
     "slide_type": "subslide"
    },
    "tags": []
   },
   "source": [
    "### Problemas de mezclas\n",
    "\n",
    "Se considera la evolución temporal de algún agente bajo las siguientes condiciones:\n",
    "\n",
    " - Volumen del sistema fijo: $V$\n",
    " - Concentración constante de una sustancia $\\chi$ que entra al sistema $V$ con una tasa $\\gamma_\\text{in}$\n",
    " - La mezcla anterior es homogénea de forma instantanea.\n",
    " - Fujo de salida que permite mantener el volumen constante del sistema.\n",
    "\n",
    "En general, el cambio de la sustancia $\\chi(t)$ en el sistema está dado por:\n",
    "\n",
    "$$\n",
    "\\dv{\\chi}{t} = \\left(\\begin{array}{cc}\\text{Material que entra} \\\\ \\text{al sistema}\\end{array}\\right)\n",
    "    \\quad- \\quad \n",
    "    \\left(\\begin{array}{cc}\\text{Material que sale} \\\\ \\text{del sistema}\\end{array} \\right).\n",
    "$$"
   ]
  },
  {
   "cell_type": "markdown",
   "id": "c4ae9b5c-b63d-4f39-a97f-f4800d111350",
   "metadata": {
    "editable": true,
    "slideshow": {
     "slide_type": "subslide"
    },
    "tags": []
   },
   "source": [
    "Por ejemplo:\n",
    "\n",
    "La cantidad de sal en un contenedor de volumen $V$ (en litros) de agua está dada por la variable $s(t)$ (en gramos). Una mezcla de agua con sal conuna concentración de $\\rho$ (gr/lt) se introduce al contenedor a una velocidad de $\\gamma_\\text{in}$ (lt/min); al mismo tiempo se retira la mezcla del sistema a una taza $\\gamma_\\text{out}$ de tal suerte que se mantien constante el volumen $V$.\n",
    "\n",
    "¿Cómo se calcula $s(t)$?\n",
    "\n",
    "$$\n",
    "\\begin{aligned}\n",
    "\\left(\\begin{array}{cc}\n",
    "    \\text{Material que entra} \\\\ \n",
    "    \\text{al sistema}\n",
    "    \\end{array}\\right) \n",
    "    =&  \\rho \\gamma_\\text{in}  \\;[ = ] \\; \\frac{\\text{gr}}{\\text{tl}} \\times \\frac{\\text{lt}}{\\text{min}} =  \\frac{\\text{gr}}{\\text{min}},\\\\ \\\\\n",
    "\\left(\\begin{array}{cc}\n",
    "    \\text{Material que sale} \\\\\n",
    "    \\text{del sistema}\n",
    "    \\end{array}\\right) \n",
    "    =&  {s(t)}\\frac{1}{V} \\gamma_\\text{out} \\; [ = ] \\; {\\text{gr}}\\times\\frac{1}{\\text{tl}} \\times \\frac{\\text{lt}}{\\text{min}} =  \\frac{\\text{gr}}{\\text{min}},\\\\\n",
    "\\end{aligned}\n",
    "$$\n",
    "\n",
    "Entonces, la ecuación para este caso particular estádad por:\n",
    "\n",
    "$$\n",
    "\\dv{s(t)}{t} = \\rho \\gamma_\\text{in} -\\frac{s(t)}{V} \\gamma_\\text{out},\n",
    "$$\n",
    "\n",
    "la cual es una ODE lineal de primer orden."
   ]
  },
  {
   "cell_type": "markdown",
   "id": "636e7cf1-6400-402f-a085-f28f3443db48",
   "metadata": {
    "editable": true,
    "slideshow": {
     "slide_type": "subslide"
    },
    "tags": []
   },
   "source": [
    "![Mixing](1-Mixing.png)\n",
    "\n",
    "---\n",
    "\n",
    "Blanchard, Paul, et al. Differential Equations. 4a ed., Brooks/Cole, Cengage Learning, 2012."
   ]
  }
 ],
 "metadata": {
  "kernelspec": {
   "display_name": "Julia 1.9.3",
   "language": "julia",
   "name": "julia-1.9"
  },
  "language_info": {
   "file_extension": ".jl",
   "mimetype": "application/julia",
   "name": "julia",
   "version": "1.9.3"
  }
 },
 "nbformat": 4,
 "nbformat_minor": 5
}
