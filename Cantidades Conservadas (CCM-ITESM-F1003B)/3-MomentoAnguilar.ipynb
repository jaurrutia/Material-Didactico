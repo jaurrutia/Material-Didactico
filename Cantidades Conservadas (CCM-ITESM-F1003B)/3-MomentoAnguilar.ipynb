{
 "cells": [
  {
   "cell_type": "markdown",
   "id": "35fc12ea-7706-4a39-9199-65ae1d23e761",
   "metadata": {
    "editable": true,
    "slideshow": {
     "slide_type": "slide"
    },
    "tags": []
   },
   "source": [
    "# **Aplicación de las leyes de conservación en ingeniería de procesos**\n",
    "## **Movimientos en rotación**\n",
    "\n",
    "\n",
    "### M. en C. Jonathan A. Urrutia Anguiano\n",
    "### F1003B\n",
    "<div hidden>\n",
    "$\\def\\dd{\\text{d}}$\n",
    "$\\def\\dv#1#2{\\dfrac{\\text{d} #1}{\\text{d}#2}}$\n",
    "$\\def\\mdv#1#2#3{\\dfrac{\\text{d}^{#3} #1}{\\text{d}#2^{#3}}}$\n",
    "$\\def\\vb#1{\\mathbf{#1}}$\n",
    "$\\def\\pdv#1#2#3{\\dfrac{\\partial^{#3} #1}{\\partial #2^{#3}}}$\n",
    "\\vskip-\\parskip\n",
    "\\vskip-\\baselineskip\n",
    "</div>"
   ]
  },
  {
   "cell_type": "markdown",
   "id": "1dde1916-438b-4ca5-8779-3f219be74179",
   "metadata": {
    "editable": true,
    "slideshow": {
     "slide_type": "subslide"
    },
    "tags": []
   },
   "source": [
    "### ¿Qué trabajaremos en esta sesión?\n",
    "\n",
    "En esta ocasión estudiaremos los siguientes conceptos\n",
    "\n",
    " - Cantidad de movmiento (*momento*) lineal $\\vb{p}$\n",
    " - Centro de masa\n",
    " - Colisiones elásticas e inelásticas"
   ]
  },
  {
   "cell_type": "markdown",
   "id": "9eaa2984-a719-4e3c-aa99-6d8857b52f63",
   "metadata": {
    "editable": true,
    "slideshow": {
     "slide_type": "subslide"
    },
    "tags": []
   },
   "source": [
    "## Retomando el periodo anterior\n",
    "### Longitud de arco y los radianes\n",
    "\n",
    "<table style=\"width:100%\">\n",
    "  <tr>\n",
    "    <td  style=\"width:30%\" >\n",
    "        <center>\n",
    "        <img src=\"https://raw.githubusercontent.com/jaurrutia/Material-Didactico/main/Cinematica%20y%20Fuerzas%20(CCM-ITESM-F1006B)/14-LongArco.png\" width=\"250\">\n",
    "        </center>\n",
    "        </td>\n",
    "    <td  style=\"width:70%\" >\n",
    "        El perímetro (longitud del arco de la circunferencia), está dado por la expresión:\n",
    "                $$ s = r (2\\pi).$$\n",
    "        Si sólo se considera un segmento del círcula, la longitud de arco es:\n",
    "        $$ s = r \\theta.$$\n",
    "        Dado que una vuelta del círculo son $360^\\circ$, se define el <b>radian</b> como una unidad adimensional relacionada con una constante en todos los círculos: el numéro $\\pi$. Notemos que\n",
    "        $$\n",
    "        2\\pi (\\text{rad}) = 360^\\circ (\\text{grado}) \\quad\\Longrightarrow\\quad \\pi = 180^\\circ.\n",
    "        $$\n",
    "    </td>\n",
    " </tr>\n",
    "</table>\n",
    "\n",
    "---\n",
    "Kleppner, Daniel, y Robert J. Kolenkow. \"An Introduction to Mechanics\". Cambridge University Press, 2010"
   ]
  },
  {
   "cell_type": "markdown",
   "id": "3e50ad04-2a95-4e0b-a41e-c3289c7085c1",
   "metadata": {
    "editable": true,
    "slideshow": {
     "slide_type": "subslide"
    },
    "tags": []
   },
   "source": [
    "### Identidades notables del movimiento circular\n",
    "\n",
    "Suponiendo movimiento circular\n",
    "$$\n",
    "\\begin{aligned}\n",
    "s(t) = r \\theta(t) \\quad\\Longrightarrow\\quad v(t) = r \\dv{\\theta}{t} = r \\omega(t) \\quad\\Longrightarrow\\quad a(t) = r\\mdv{\\theta}{t}{2} = r \\alpha(t) = r \\omega^2(t)\n",
    "\\end{aligned}\n",
    "$$\n",
    "$$\n",
    "||\\vec{a}|| = \\frac{||\\vec{v}||^2}{r}\n",
    "$$\n",
    "\n",
    "\n",
    "\n",
    "<center>\n",
    "<img src=\"https://raw.githubusercontent.com/jaurrutia/Material-Didactico/main/Cinematica%20y%20Fuerzas%20(CCM-ITESM-F1006B)/15-Circ.png\" width=\"300\"><img src=\"https://raw.githubusercontent.com/jaurrutia/Material-Didactico/main/Cinematica%20y%20Fuerzas%20(CCM-ITESM-F1006B)/16-CircVel.png\" width=\"300\"><img src=\"https://raw.githubusercontent.com/jaurrutia/Material-Didactico/main/Cinematica%20y%20Fuerzas%20(CCM-ITESM-F1006B)/17-CircAcel.png\" width=\"300\">\n",
    "</center>"
   ]
  },
  {
   "cell_type": "markdown",
   "id": "8228eae8-b2c8-4596-865d-dada7e2b2a38",
   "metadata": {
    "editable": true,
    "slideshow": {
     "slide_type": "slide"
    },
    "tags": []
   },
   "source": [
    "## Energía rotacional y la inercia\n",
    "\n",
    "<center>\n",
    "    <img src=\"https://upload.wikimedia.org/wikipedia/commons/4/48/Angular_momentum_conservation.gif\" width=\"300\">\n",
    "</center>\n",
    "\n",
    "---\n",
    "<a href=\"https://commons.wikimedia.org/wiki/File:Angular_momentum_conservation.gif\">Jacopo Bertolotti</a>, CC0, via Wikimedia Commons"
   ]
  },
  {
   "cell_type": "markdown",
   "id": "505b4578-dc4c-4fc3-82ef-ae06650f4bf0",
   "metadata": {
    "editable": true,
    "slideshow": {
     "slide_type": "subslide"
    },
    "tags": []
   },
   "source": [
    "### Momento de inercia para una partícula\n",
    "\n",
    "<table style=\"width:100%\">\n",
    "  <tr>\n",
    "    <td  style=\"width:40%\" >\n",
    "    Para  una partícula en movimiento circular su energía cinética es la siguiente:\n",
    "        $$\n",
    "        E_c = \\frac12 m v^2 = \\frac12 m(s\\omega)^2 = \\frac12 I_z\\omega^2\n",
    "        $$\n",
    "        en donde\n",
    "        $$\n",
    "        I_z = m s^2 = m (x^2 + y^2)\n",
    "        $$\n",
    "        Para un conjunto de partículas o un cuerpo contínuo:\n",
    "        $$\n",
    "        I_z = \\sum_i m_i (x_i^2 + y_i^2)^2 \\to \\int (x^2 + y^2)\\dd{m}\n",
    "        $$\n",
    "    <td  style=\"width:60%\" >\n",
    "        <center>\n",
    "        <img src=\"https://raw.githubusercontent.com/jaurrutia/Material-Didactico/main/Cantidades%20Conservadas%20(CCM-ITESM-F1003B)/img/Rigid.png\" width=\"300\"> \n",
    "        </center>\n",
    "    </td>\n",
    "  </tr>\n",
    "</table> "
   ]
  },
  {
   "cell_type": "markdown",
   "id": "0a00be36-b47a-4132-9b60-7b6709ed691a",
   "metadata": {
    "editable": true,
    "slideshow": {
     "slide_type": "subslide"
    },
    "tags": []
   },
   "source": [
    "### Momento de inercia y el eje de giro\n",
    "\n",
    "<table style=\"width:100%\">\n",
    "  <tr>\n",
    "    <td  style=\"width:30%\" >\n",
    "Calcula el momento de inercia considerando que el giro se efectúa alrededor del eje $x$, el eje $y$, y el eje $z$:\n",
    "$$\\begin{aligned}\n",
    "I_x =& \\int(y^2 + z^2)\\dd{m},\\\\\n",
    "I_y =& \\int(x^2 + z^2)\\dd{m},\\\\\n",
    "I_z =& \\int(x^2 + y^2)\\dd{m}.\n",
    "\\end{aligned}\n",
    "$$\n",
    "    <td  style=\"width:70%\" >\n",
    "<center>\n",
    "     <img src=\"https://raw.githubusercontent.com/jaurrutia/Material-Didactico/main/Cantidades%20Conservadas%20(CCM-ITESM-F1003B)/img/IntertiaMoment.png\" width=\"600\"> \n",
    "</center>\n",
    "    </td>\n",
    "  </tr>\n",
    "</table> "
   ]
  },
  {
   "cell_type": "markdown",
   "id": "56f506ab-c339-4f51-8e1a-96c5c2b5dc94",
   "metadata": {
    "editable": true,
    "slideshow": {
     "slide_type": "subslide"
    },
    "tags": []
   },
   "source": [
    "### Teorema de Steiner (o de eje paralelos)\n",
    "\n",
    "<table style=\"width:100%\">\n",
    "  <tr>\n",
    "    <td  style=\"width:40%\" >\n",
    "Lo usual es que los momentos de inercia se reporten en tablas si el giro ocurre alrededor de un eje que pase por el centro de masa (denotado como $I'$. Si esto no ocurre es posible calcular el momento de inercia $I$ de la siguiente manera:\n",
    "$$\n",
    "        I = I_\\text{CM} + I' = MS_\\text{CM}^2 + I'.\n",
    "$$\n",
    "        Lo anterior sólo es cierto si el eje de giro es paralelo al eje de giro que cruza por el centro de masa y que se consideró para el cálculo de $I'$.\n",
    "    <td  style=\"width:60%\" >\n",
    "<center>\n",
    "     <img src=\"https://raw.githubusercontent.com/jaurrutia/Material-Didactico/main/Cantidades%20Conservadas%20(CCM-ITESM-F1003B)/img/EjesParalelos.png\" width=\"600\"> \n",
    "</center>\n",
    "    </td>\n",
    "  </tr>\n",
    "</table> "
   ]
  },
  {
   "cell_type": "markdown",
   "id": "3f0d1a38-6102-47fd-b968-a0bf19ef9742",
   "metadata": {
    "editable": true,
    "slideshow": {
     "slide_type": "subslide"
    },
    "tags": []
   },
   "source": [
    "### Ejemplo: Momento de inercia de una barra en dos ejes distintos\n",
    "\n",
    "<table style=\"width:100%\">\n",
    "  <tr>\n",
    "    <td  style=\"width:30%\" >\n",
    "        <center>\n",
    "        <img src=\"https://raw.githubusercontent.com/jaurrutia/Material-Didactico/main/Cantidades%20Conservadas%20(CCM-ITESM-F1003B)/img/TeoEjesPAralelos.png\" width=\"300\"> \n",
    "        </center>\n",
    "    </td>\n",
    "    <td  style=\"width:70%\" >\n",
    "Calcula el momento de inercia de una barra uniforme considerando que un giro se efectú alrededor del CM en un eje perpendicular a la barra,  y el otro respecto a uno de los extremos de ésta. Corrobora que el teorema de ejes paralelos relaciona los dos resultados.\n",
    "    </td>\n",
    "  </tr>\n",
    "</table> \n",
    "\n",
    "\n",
    "---\n",
    "Serway, R.A., y Jewett J. \"Física para ciencias e ingenierías Vol. 1\". Cengage Learning Editores S.A. de C.V., 2008."
   ]
  },
  {
   "cell_type": "markdown",
   "id": "805318b3-cf68-42c4-9e82-e2d6260a6a56",
   "metadata": {
    "editable": true,
    "slideshow": {
     "slide_type": "slide"
    },
    "tags": []
   },
   "source": [
    "## Torca (o torque)\n",
    "\n",
    "<center>\n",
    "    <img src=\"https://raw.githubusercontent.com/jaurrutia/Material-Didactico/main/Cantidades%20Conservadas%20(CCM-ITESM-F1003B)/img/TorqueForce.png\" width=\"700\" >\n",
    "</center>\n"
   ]
  },
  {
   "cell_type": "markdown",
   "id": "8527fa23-4097-40f2-b3fe-6fded9d94857",
   "metadata": {
    "editable": true,
    "slideshow": {
     "slide_type": "subslide"
    },
    "tags": []
   },
   "source": [
    "## Fuerza efectiva en un giro\n",
    "\n",
    "<table style=\"width:100%\">\n",
    "  <tr>\n",
    "    <td  style=\"width:50%\" >\n",
    "        <center>\n",
    "        <img src=\"https://raw.githubusercontent.com/jaurrutia/Material-Didactico/main/Cantidades%20Conservadas%20(CCM-ITESM-F1003B)/img/Torque.png\" width=\"450\"> \n",
    "        </center>\n",
    "    </td>\n",
    "    <td  style=\"width:70%\" >\n",
    "Notemos que únicamente la componente perpendicular al eje contribuye al movimiento rotacional:\n",
    "        $$\n",
    "        \\tau = F r \\sin\\phi\n",
    "        $$\n",
    "    En un lenguaje vectorual, este resultado se escribe como\n",
    "        $$\n",
    "        \\vec{\\tau} = \\vec{r}\\times\\vec{F}.\n",
    "        $$\n",
    "    </td>\n",
    "  </tr>\n",
    "</table> \n",
    "\n",
    "\n",
    "---\n",
    "Serway, R.A., y Jewett J. \"Física para ciencias e ingenierías Vol. 1\". Cengage Learning Editores S.A. de C.V., 2008."
   ]
  },
  {
   "cell_type": "markdown",
   "id": "c736ca03-e2cb-4762-9f22-d015ea5082ed",
   "metadata": {
    "editable": true,
    "slideshow": {
     "slide_type": "subslide"
    },
    "tags": []
   },
   "source": [
    "### Cálculo del producto cruz: Regla de la mano derecha\n",
    "\n",
    "\n",
    "Finalmente, es [posible probar](https://www.khanacademy.org/math/linear-algebra/vectors-and-spaces/dot-cross-products/v/proof-relationship-between-cross-product-and-sin-of-angle) que la magnitud del proudcto cruz entre dos vectores cumple con:\n",
    "\n",
    "<table>\n",
    " <tr>\n",
    "    <td>\n",
    "        <img src=\"https://upload.wikimedia.org/wikipedia/commons/4/4e/Cross_product_parallelogram.svg\" width=\"200\">\n",
    "    </td>\n",
    "    <td>\n",
    "        $$ || \\vec{a}\\times \\vec{b}  || = ||\\vec{a}|| ||\\vec{b}|| \\sin\\theta $$\n",
    "    </td>\n",
    "     <td>\n",
    "        <img src=\"https://upload.wikimedia.org/wikipedia/commons/d/d2/Right_hand_rule_cross_product.svg\" width=\"200\">\n",
    "    </td>\n",
    " </tr>\n",
    "</table>\n",
    "\n",
    "donde $\\theta$ vuelve a ser el ángulo entre los dos vecotores. Es decir, la magnitud del producto cruz es el área del paralelepípedo formado por los dos vectores. Más aún, podemos determinar la dirección del vector resultante mediante la regla de la mano derecha.\n",
    "\n",
    "---\n",
    "Imágenes:\n",
    "\n",
    "<a href=\"https://commons.wikimedia.org/wiki/File:Cross_product_parallelogram.svg\">User:Acdx</a>, Public domain, via Wikimedia Commons\n",
    "\n",
    "<a href=\"https://commons.wikimedia.org/wiki/File:Right_hand_rule_cross_product.svg\">Acdx</a>, <a href=\"http://creativecommons.org/licenses/by-sa/3.0/\">CC BY-SA 3.0</a>, via Wikimedia Commons"
   ]
  },
  {
   "cell_type": "markdown",
   "id": "215e27c1-4340-40c7-9370-4b5fcd7300d7",
   "metadata": {
    "editable": true,
    "slideshow": {
     "slide_type": "slide"
    },
    "tags": []
   },
   "source": [
    "###  Ejemplo: Torca y fuerza total\n",
    "\n",
    "Determina qué tipo de movimiento se tiene en cada caso y determina el trabajo realizado por las fuerzas si el objeto da una vuelta completa, o bien, si se desplaza un radio $r$.\n",
    "\n",
    "<center>\n",
    "    <img src=\"https://raw.githubusercontent.com/jaurrutia/Material-Didactico/main/Cantidades%20Conservadas%20(CCM-ITESM-F1003B)/img/TorqueForce.png\" width=\"700\" >\n",
    "</center>\n"
   ]
  },
  {
   "cell_type": "markdown",
   "id": "54ae9e51-76cf-4ee0-90a7-472ac78d6675",
   "metadata": {
    "editable": true,
    "slideshow": {
     "slide_type": "slide"
    },
    "tags": []
   },
   "source": [
    "## El centro de masa\n",
    "\n",
    "<table style=\"width:100%\">\n",
    "  <tr>\n",
    "    <td  style=\"width:100%\" >\n",
    "<center>\n",
    "    <img src=\"https://raw.githubusercontent.com/jaurrutia/Material-Didactico/main/Cantidades%20Conservadas%20(CCM-ITESM-F1003B)/img/CM-1.png\" width=\"450\" >\n",
    "    <img src=\"https://raw.githubusercontent.com/jaurrutia/Material-Didactico/main/Cantidades%20Conservadas%20(CCM-ITESM-F1003B)/img/CM-2.png\" width=\"200\" >\n",
    "</center>\n",
    "    </td>\n",
    "    <td  style=\"width:0%\" align=\"left\" >\n",
    "    </td>\n",
    "  </tr>\n",
    "</table> \n"
   ]
  },
  {
   "cell_type": "markdown",
   "id": "d20bce58-3bb8-4ac0-b67c-dcb954dc40ee",
   "metadata": {
    "editable": true,
    "slideshow": {
     "slide_type": "slide"
    },
    "tags": []
   },
   "source": [
    "## El momento angular\n",
    "\n",
    "<table style=\"width:100%\">\n",
    "  <tr>\n",
    "    <td  style=\"width:50%\" >\n",
    "Así como hay una contraparte angular (la torca $\\vec{\\tau}$) a las fuerzas $\\vec{F}$, también existe una contraparte al momento lineal $\\vec{p} = m\\vec{v}$. Ésta es el momento angular:\n",
    "        $$\n",
    "        \\vec{L} = \\vec{r}\\times\\vec{p} = I \\vec{\\omega}\n",
    "        $$\n",
    "        que además cumple con\n",
    "        $$\n",
    "            \\sum_i\\vec{\\tau_i} = \\dv{\\vec{L}}{t}\n",
    "        $$\n",
    "    </td>\n",
    "    <td  style=\"width:50%\" >\n",
    "        <center>\n",
    "    <img src=\"https://raw.githubusercontent.com/jaurrutia/Material-Didactico/main/Cantidades%20Conservadas%20(CCM-ITESM-F1003B)/img/MomentoAngular.png\" width=\"300\" >\n",
    "        </center>\n",
    "    </td>\n",
    "  </tr>\n",
    "</table> \n"
   ]
  },
  {
   "cell_type": "markdown",
   "id": "0c51c3d3-9ae5-4d43-86d4-a84d5a31120d",
   "metadata": {
    "editable": true,
    "slideshow": {
     "slide_type": "subslide"
    },
    "tags": []
   },
   "source": [
    "## ¿Qué sucede si no hay torcas?\n",
    "\n",
    "Ve el video sobre el [patinaje sobre hielo](https://www.youtube.com/embed/FmnkQ2ytlO8?si=7QsXC1TnIZXtByCL) y relacionalo con la siguiente imagen\n",
    "\n",
    "<center>\n",
    "    <img src=\"https://upload.wikimedia.org/wikipedia/commons/thumb/6/6d/Change-in-angluar-speed-due-to-change-in-moment-of-inertia.svg/640px-Change-in-angluar-speed-due-to-change-in-moment-of-inertia.svg.png?20181227233320\" width=\"600\" >\n",
    "</center>"
   ]
  },
  {
   "cell_type": "code",
   "execution_count": null,
   "id": "e79c1c4f-70a6-45e4-b439-0841f85f23e7",
   "metadata": {
    "editable": true,
    "slideshow": {
     "slide_type": ""
    },
    "tags": []
   },
   "outputs": [],
   "source": []
  }
 ],
 "metadata": {
  "kernelspec": {
   "display_name": "Wolfram Language 13",
   "language": "Wolfram Language",
   "name": "wolframlanguage13"
  },
  "language_info": {
   "codemirror_mode": "mathematica",
   "file_extension": ".m",
   "mimetype": "application/vnd.wolfram.m",
   "name": "Wolfram Language",
   "pygments_lexer": "mathematica",
   "version": "12.0"
  }
 },
 "nbformat": 4,
 "nbformat_minor": 5
}
