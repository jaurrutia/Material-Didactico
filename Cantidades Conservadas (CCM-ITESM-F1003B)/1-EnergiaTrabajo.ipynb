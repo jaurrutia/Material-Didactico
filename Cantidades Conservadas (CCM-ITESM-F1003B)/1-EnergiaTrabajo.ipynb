{
 "cells": [
  {
   "cell_type": "markdown",
   "id": "35fc12ea-7706-4a39-9199-65ae1d23e761",
   "metadata": {
    "editable": true,
    "slideshow": {
     "slide_type": "slide"
    },
    "tags": []
   },
   "source": [
    "# **Aplicación de las leyes de conservación en ingeniería de procesos**\n",
    "## **Trabajo y energía**\n",
    "\n",
    "\n",
    "### M. en C. Jonathan A. Urrutia Anguiano\n",
    "### F1003B\n",
    "<div hidden>\n",
    "$\\def\\dd{\\text{d}}$\n",
    "$\\def\\dv#1#2{\\dfrac{\\text{d} #1}{\\text{d}#2}}$\n",
    "$\\def\\mdv#1#2#3{\\dfrac{\\text{d}^{#3} #1}{\\text{d}#2^{#3}}}$\n",
    "$\\def\\vb#1{\\mathbf{#1}}$\n",
    "$\\def\\pdv#1#2#3{\\dfrac{\\partial^{#3} #1}{\\partial #2^{#3}}}$\n",
    "\\vskip-\\parskip\n",
    "\\vskip-\\baselineskip\n",
    "</div>"
   ]
  },
  {
   "cell_type": "markdown",
   "id": "1dde1916-438b-4ca5-8779-3f219be74179",
   "metadata": {
    "editable": true,
    "slideshow": {
     "slide_type": "subslide"
    },
    "tags": []
   },
   "source": [
    "### ¿Qué trabajaremos en esta sesión?\n",
    "\n",
    "En esta ocasión estudiaremos los siguientes conceptos\n",
    "\n",
    " - Trabajo debido a una fuerza $W$\n",
    " - Energía cinética ($E_c$)\n",
    " - Energía potencial ($E_p$)\n",
    "   - $E_p$ gravitatoria\n",
    "   - $E_p$ elástica\n",
    " - Conservación de la energía"
   ]
  },
  {
   "cell_type": "markdown",
   "id": "8228eae8-b2c8-4596-865d-dada7e2b2a38",
   "metadata": {
    "editable": true,
    "slideshow": {
     "slide_type": "slide"
    },
    "tags": []
   },
   "source": [
    "## El concepto del **Trabajo** en la Física\n",
    "\n",
    "<center>\n",
    "    <img src=\"https://raw.githubusercontent.com/jaurrutia/Material-Didactico/main/Mecanica%20Arquitectura%20(AR1008B)/img/Work-example.png\" width=\"1000\">\n",
    "</center>\n",
    "\n",
    "---\n",
    "Serway, R.A., y Jewett J. \"Física para ciencias e ingenierías Vol. 1\". Cengage Learning Editores S.A. de C.V., 2008."
   ]
  },
  {
   "cell_type": "markdown",
   "id": "505b4578-dc4c-4fc3-82ef-ae06650f4bf0",
   "metadata": {
    "editable": true,
    "slideshow": {
     "slide_type": "subslide"
    },
    "tags": []
   },
   "source": [
    "### El trabajo: Efecto visible de la interacción\n",
    "\n",
    "<table style=\"width:100%\">\n",
    "  <tr>\n",
    "    <td  style=\"width:50%\" >\n",
    " <ul>\n",
    "     <li><b>Aplicacamos</b> de una fuerza constante $\\vb{F}$</li>\n",
    "     <li><b>Observamos</b> que el objeto se mueve en la dirección $\\Delta \\vb{r}$.</li>\n",
    "     <li><b>Notamos</b> que sólo una parte de la fuerza aplicada ve en la dirección de movimiento.</li>\n",
    "     <li><b>Denominamos</b> a la contribución efectiva de la fuerza como el <b>trabajo</b> $W$ realizado por ella\n",
    "     $$ W = \\vb{F}\\cdot \\Delta\\vb{r} = F \\Delta r \\cos\\theta.$$\n",
    "     </li>\n",
    "</ul>\n",
    "    </td>\n",
    "    <td  style=\"width:50%\" >\n",
    "        <center>\n",
    "        <img src=\"https://raw.githubusercontent.com/jaurrutia/Material-Didactico/main/Mecanica%20Arquitectura%20(AR1008B)/img/Work-Formula.png\" width=\"500\"> \n",
    "        </center>\n",
    "    </td>\n",
    "  </tr>\n",
    "</table> "
   ]
  },
  {
   "cell_type": "markdown",
   "id": "0a00be36-b47a-4132-9b60-7b6709ed691a",
   "metadata": {
    "editable": true,
    "slideshow": {
     "slide_type": "subslide"
    },
    "tags": []
   },
   "source": [
    "### Energía y trabajo: Expresiones generales\n",
    "\n",
    "<table style=\"width:100%\">\n",
    "  <tr>\n",
    "    <td  style=\"width:35%\" >\n",
    "        De forma general \n",
    "        $$W_{1\\to 2} = \\int_1^2 \\vb{F}\\cdot \\dd{\\vb{r}}.$$\n",
    "        Si se tiene una fuerza $\\vb{F}$, \n",
    "    <ul>\n",
    "    <li>Trabajo ejercido <b>por</b> un objeto: $W = \\int \\vb{F}\\cdot{\\vb{r}}$</li>\n",
    "    <li> Trabajo ejercido <b>sobre</b> un objeto: $-W = -\\int \\vb{F}\\cdot{\\vb{r}}$</li>\n",
    "    </ul>\n",
    "   Se define entonces la <b>energía</b> $U$ como $$U = -W = -\\int_1^2 \\vb{F}\\cdot \\dd{\\vb{r}}.$$\n",
    "    </td>\n",
    "    <td  style=\"width:65%\" >\n",
    "        <center>\n",
    "        <img src=\"https://raw.githubusercontent.com/jaurrutia/Material-Didactico/main/Cantidades%20Conservadas%20(CCM-ITESM-F1003B)/img/WorkInt-dis.png\" width=\"250\"> \n",
    "        <img src=\"https://raw.githubusercontent.com/jaurrutia/Material-Didactico/main/Cantidades%20Conservadas%20(CCM-ITESM-F1003B)/img/WorkInt-2.png\" width=\"250\"> \n",
    "        </center>\n",
    "    </td>\n",
    "  </tr>\n",
    "</table> "
   ]
  },
  {
   "cell_type": "markdown",
   "id": "3f0d1a38-6102-47fd-b968-a0bf19ef9742",
   "metadata": {
    "editable": true,
    "slideshow": {
     "slide_type": "subslide"
    },
    "tags": []
   },
   "source": [
    "### Ejemplo:\n",
    "\n",
    "<table style=\"width:100%\">\n",
    "  <tr>\n",
    "    <td  style=\"width:60%\" >\n",
    "        Si la aspiradora se desplaza un metro y medio ($1.5\\text{ m}$) a la derecha:\n",
    " <ul>\n",
    "     <li>¿Cuál es el trabajo debido a la fuerza de gravedad?</li>\n",
    "     <li>¿Cuál es el trabajo ejercido por el usuario?</li>\n",
    "</ul>\n",
    "    </td>\n",
    "    <td  style=\"width:50%\" >\n",
    "        <center>\n",
    "        <img src=\"https://raw.githubusercontent.com/jaurrutia/Material-Didactico/main/Mecanica%20Arquitectura%20(AR1008B)/img/Work-Exc1.png\" width=\"500\"> \n",
    "        </center>\n",
    "    </td>\n",
    "  </tr>\n",
    "</table> \n",
    "\n",
    "\n",
    "---\n",
    "Serway, R.A., y Jewett J. \"Física para ciencias e ingenierías Vol. 1\". Cengage Learning Editores S.A. de C.V., 2008."
   ]
  },
  {
   "cell_type": "markdown",
   "id": "805318b3-cf68-42c4-9e82-e2d6260a6a56",
   "metadata": {
    "editable": true,
    "slideshow": {
     "slide_type": "slide"
    },
    "tags": []
   },
   "source": [
    "## El trabajo y el movimiento\n",
    "\n",
    "<center>\n",
    "    <img src=\"https://raw.githubusercontent.com/jaurrutia/Material-Didactico/main/Mecanica%20Arquitectura%20(AR1008B)/img/RuningMan.png\" width=\"400\" >\n",
    "</center>\n",
    "\n",
    "---\n",
    "<a href=\"https://commons.wikimedia.org/wiki/File:Nude_man_pushing_a_garden_roller_(rbm-QP301M8-1887-393).jpg\">Muybridge, Eadweard, 1830-1904</a>, Public domain, via Wikimedia Commons"
   ]
  },
  {
   "cell_type": "markdown",
   "id": "757a90a3-e7a1-4176-8128-7011899904e5",
   "metadata": {
    "editable": true,
    "slideshow": {
     "slide_type": "subslide"
    },
    "tags": []
   },
   "source": [
    "## La energía cinética\n",
    "\n",
    "<table style=\"width:100%\">\n",
    "  <tr>\n",
    "    <td  style=\"width:60%\" >\n",
    "        La segunda ley de Newton relaciona las fuerzas totales actúando sobre ub objéto y cómo éste se mueve:\n",
    "        $$ \\vb{F}_\\text{Tot} = \\sum_i\\vb{F}_i = m\\dv{\\vb{v}}{t}.$$\n",
    "        El trabajo que realizan todas las fuerzas y el efecto del movimiento se pueden relacionar como\n",
    "        $$\n",
    "        W_\\text{Tot} = \\Delta E_c = E_c^{(1)} - E_c^{(2)},\n",
    "        $$\n",
    "        donde $E_c$ se conoce como la energía cinética\n",
    "        $$\n",
    "        E_c = \\frac12 m v^2.\n",
    "        $$\n",
    "        Se puede observar que la energía cinética está relacionada con el movimiento, de ahí su nombre.\n",
    "    </td>\n",
    "    <td  style=\"width:40%\" >\n",
    "        <center>\n",
    "            <img src=\"https://upload.wikimedia.org/wikipedia/commons/c/cf/MINI_United_2005_Challenge_148.jpg\" width=\"400\" >\n",
    "        </center>\n",
    "    </td>\n",
    "  </tr>\n",
    "</table> \n",
    "\n",
    "-----\n",
    "<a href=\"https://commons.wikimedia.org/wiki/File:MINI_United_2005_Challenge_148.jpg\">MINIUnited-Team</a>, <a href=\"https://creativecommons.org/licenses/by-sa/2.0\">CC BY-SA 2.0</a>, via Wikimedia Commons"
   ]
  },
  {
   "cell_type": "markdown",
   "id": "464a55c9-7b09-42af-9a90-4408e5db0379",
   "metadata": {
    "editable": true,
    "slideshow": {
     "slide_type": "subslide"
    },
    "tags": []
   },
   "source": [
    "### Teorema energía trabajo\n",
    " Relación entre la energía cinética de un objeto y el trabajo realizado sobre de él:\n",
    "\n",
    "\n",
    "<table style=\"width:100%\">\n",
    "  <tr>\n",
    "    <td  style=\"width:100%\" >\n",
    "        $$\\begin{align}\n",
    "        W_\\text{Tot} = \\sum_i W_i= \\sum_i\\int \\vb{F}_i\\cdot\\vb{r} =\\int \\sum_i \\vb{F}_i\\cdot\\vb{r}  &= \\int \\vb{F}_\\text{Tot}\\cdot\\dd{\\vb{r}}    &\\text{Definición}\\\\\n",
    "          &= \\int \\vb{F}_\\text{Tot}\\cdot\\vb{v}\\dd{t}   &\\text{Cambio de variable}\\\\\n",
    "          & = \\int m\\dv{\\vb{v}}{t}\\cdot\\vb{v}\\dd{t}   &\\text{Segunda Ley de Newton}\\\\\n",
    "          & = \\int m \\frac12\\dv{(\\vb{v}\\cdot\\vb{v})}{t}\\dd{t} &\\text{Derivada de un producto}\\\\\n",
    "          & = \\int m \\frac12\\dv{(v^2)}{t}\\dd{t}    &\\text{Norma al cuadrado del vector }\\vb{v}\\\\\n",
    "          & = \\int \\dv{ }{t}\\left(\\frac12 mv^2\\right)\\dd{t} = \\Delta\\left(\\frac12 mv^2\\right). &\\text{Teorema fundamental del cálculo.}\n",
    "        \\end{align}$$\n",
    "    </td>\n",
    "    <td  style=\"width:0%\" >\n",
    "    </td>\n",
    "  </tr>\n",
    "</table> "
   ]
  },
  {
   "cell_type": "markdown",
   "id": "54ae9e51-76cf-4ee0-90a7-472ac78d6675",
   "metadata": {
    "editable": true,
    "slideshow": {
     "slide_type": "slide"
    },
    "tags": []
   },
   "source": [
    "## Energía potencial\n",
    "\n",
    "<table style=\"width:100%\">\n",
    "  <tr>\n",
    "    <td  style=\"width:100%\" >\n",
    "        <center>\n",
    "        <img src=\"https://upload.wikimedia.org/wikipedia/commons/thumb/5/57/Volga_Hydroelectric_Station%2C_lock_P5150963_2200.jpg/512px-olga_Hydroelectric_Station%2C_lock_P5150963_2200.jpg\" width=\"600\" >\n",
    "        </center>\n",
    "    </td>\n",
    "    <td  style=\"width:0%\" align=\"left\" >\n",
    "    </td>\n",
    "  </tr>\n",
    "</table> \n",
    "\n",
    "---\n",
    "**Volga Hydroelectric Station** <a href=\"https://commons.wikimedia.org/wiki/File:Volga_Hydroelectric_Station,_lock_P5150963_2200.jpg\">Alexxx1979</a>, <a href=\"https://creativecommons.org/licenses/by-sa/4.0\">CC BY-SA 4.0</a>, via Wikimedia Commons"
   ]
  },
  {
   "cell_type": "markdown",
   "id": "d20bce58-3bb8-4ac0-b67c-dcb954dc40ee",
   "metadata": {
    "editable": true,
    "slideshow": {
     "slide_type": "subslide"
    },
    "tags": []
   },
   "source": [
    "## Energía potencial gravitatoria\n",
    "\n",
    "<table style=\"width:100%\">\n",
    "  <tr>\n",
    "    <td  style=\"width:50%\" >\n",
    " Si consideramos que el peso $-mg$ con $g = 9.81\\text{ m/s}^2$, es la fuerza de graveda, se calcula el trabajo ejercido sobre el objeto como\n",
    "    $$  W^\\text{(g)} = F_\\text{g}\\hat{e}_y\\cdot \\Delta \\vb{r} = -mg\\Delta y.$$\n",
    "Se define entonces $U^\\text{(g)}$ como la energía potencial gravitatoria, dada por\n",
    "        $$ U^\\text{(g)} = - W^\\text{(g)} =  mgy.$$\n",
    "        Entonces\n",
    "        $$W^\\text{(g)} = mg\\Delta y = -\\Delta U^{(g)}.$$\n",
    "    </td>\n",
    "    <td  style=\"width:50%\" >\n",
    "        <center>\n",
    "            <img src=\"https://upload.wikimedia.org/wikipedia/commons/5/53/Lifting-work.svg\" width=\"400\" >\n",
    "        </center>\n",
    "    </td>\n",
    "  </tr>\n",
    "</table> \n",
    "\n",
    "-----\n",
    "<a href=\"https://commons.wikimedia.org/wiki/File:MINI_United_2005_Challenge_148.jpg\">MINIUnited-Team</a>, <a href=\"https://creativecommons.org/licenses/by-sa/2.0\">CC BY-SA 2.0</a>, via Wikimedia Commons\n",
    "\n",
    "\n"
   ]
  },
  {
   "cell_type": "markdown",
   "id": "0c51c3d3-9ae5-4d43-86d4-a84d5a31120d",
   "metadata": {
    "editable": true,
    "slideshow": {
     "slide_type": "subslide"
    },
    "tags": []
   },
   "source": [
    "<center>\n",
    "    <img src=\"https://raw.githubusercontent.com/jaurrutia/Material-Didactico/main/Cantidades%20Conservadas%20(CCM-ITESM-F1003B)/img/Ejercicios-Energia/niño.png\" width=\"600\" >\n",
    " </center>"
   ]
  },
  {
   "cell_type": "markdown",
   "id": "11f7901c-5aff-4c03-92c8-20e7f1b82d06",
   "metadata": {
    "editable": true,
    "slideshow": {
     "slide_type": "subslide"
    },
    "tags": []
   },
   "source": [
    "## Energía potencial elástica: Ley de Hook\n",
    "\n",
    "<table style=\"width:100%\">\n",
    "  <tr>\n",
    "    <td  style=\"width:50%\" >\n",
    "Describe el comportamiento de materiales que pueden deformarse\n",
    "    $$ F = - k (x-x_0) \\hat{e}_x = - k \\Delta x \\hat{e}_x.$$\n",
    "Dado que no es una fuerza constante\n",
    "        $$W^\\text{(el)} = -\\int_{x_1}^{x_2} k(x-x_0)\\,\\dd{x} = -\\frac12 k (x-x_0)^2\\bigg|_{x_1}^{x_2}.$$\n",
    "Se define $U^\\text{(el)}$ la energía potencial elástica como\n",
    "        $$U^\\text{(el)} = - W^\\text{(el)} =  \\frac12 k (x-x_0)^2.$$\n",
    "    Entonces\n",
    "        $$W^\\text{(el)} = -\\frac12 k \\Delta\\big[(x-x_0)^2\\big] = -\\Delta U^{(el)}.$$\n",
    "    </td>\n",
    "    <td  style=\"width:50%\" >\n",
    "        <center>\n",
    "            <img src=\"https://upload.wikimedia.org/wikipedia/commons/7/7a/Spring-elongation-and-forces.svg\" width=\"400\" >\n",
    "        </center>\n",
    "    </td>\n",
    "  </tr>\n",
    "</table> \n",
    "\n",
    "-----\n",
    "<a href=\"https://commons.wikimedia.org/wiki/File:Spring-elongation-and-forces.svg\">MikeRun</a>, <a href=\"https://creativecommons.org/licenses/by-sa/4.0\">CC BY-SA 4.0</a>, via Wikimedia Commonss\n",
    "\n",
    "\n"
   ]
  },
  {
   "cell_type": "markdown",
   "id": "d1226240-6e49-4e64-99ab-9c62a6afeada",
   "metadata": {
    "editable": true,
    "slideshow": {
     "slide_type": "subslide"
    },
    "tags": []
   },
   "source": [
    "<center>\n",
    "    <img src=\"https://raw.githubusercontent.com/jaurrutia/Material-Didactico/main/Cantidades%20Conservadas%20(CCM-ITESM-F1003B)/img/Ejercicios-Energia/Arco-trabajo.png\" width=\"600\" >\n",
    " </center>"
   ]
  },
  {
   "cell_type": "markdown",
   "id": "b0b968fc-567f-4136-afa4-cd10e38a41c6",
   "metadata": {
    "editable": true,
    "slideshow": {
     "slide_type": "slide"
    },
    "tags": []
   },
   "source": [
    "## Conservación de la energía\n",
    "\n",
    "<table style=\"width:100%\">\n",
    "  <tr>\n",
    "    <td  style=\"width:100%\" >\n",
    "        <center>\n",
    "        <img src=\"https://upload.wikimedia.org/wikipedia/commons/4/4c/Stamp_of_India_-_2004_-_Colnect_158551_-_Energy_Conservation.jpeg\" width=\"400\" >\n",
    "        </center>\n",
    "    </td>\n",
    "    <td  style=\"width:0%\" align=\"left\" >\n",
    "    </td>\n",
    "  </tr>\n",
    "</table> \n",
    "\n",
    "---\n",
    "<a href=\"https://commons.wikimedia.org/wiki/File:Stamp_of_India_-_2004_-_Colnect_158551_-_Energy_Conservation.jpeg\">Post of India</a>, <a href=\"https://data.gov.in/sites/default/files/Gazette_Notification_OGDL.pdf\">GODL-India</a>, via Wikimedia Commons"
   ]
  },
  {
   "cell_type": "markdown",
   "id": "630814ca-ba18-4586-9c4a-b62c7623a9a2",
   "metadata": {
    "editable": true,
    "slideshow": {
     "slide_type": "subslide"
    },
    "tags": []
   },
   "source": [
    "Recordemos el **Teorema de Energía-Trabajo**:\n",
    "$$\n",
    "        W_\\text{Tot} = \\sum_i W_i= \\int \\vb{F}_\\text{Tot}\\cdot\\dd{\\vb{r}}  = \\Delta\\left(\\frac12 mv^2\\right) = \\Delta E_c.\n",
    "$$\n",
    "\n",
    "Considerando que las fuerzas que actúan sobre el cuerpo son el peso y la fuerza de un resorte:\n",
    "$$\\begin{aligned}\n",
    "\\vb{F}^{(g)} = - mg \\hat{e}_y \\quad&\\Longrightarrow\\quad W^\\text{(g)} = mg\\Delta y = -\\Delta U^{(g)},\\\\\n",
    "\\vb{F}^{(el)} = - k x\\hat{e}_x \\quad&\\Longrightarrow\\quad W^\\text{(el)} = -\\frac12 k \\Delta\\big[(x-x_0)^2\\big] = -\\Delta U^{(el)}.\n",
    "\\end{aligned}$$\n",
    "Sustituyendo las expresiones anteriores en la primera ecuación, se tiene que\n",
    "$$\n",
    "\\Delta E_c = - \\Delta U^{(g)} -\\Delta U^{(el)}.\n",
    "$$\n"
   ]
  },
  {
   "cell_type": "markdown",
   "id": "6395f94c-7a9e-46f4-a57d-85021878f560",
   "metadata": {
    "editable": true,
    "slideshow": {
     "slide_type": "subslide"
    },
    "tags": []
   },
   "source": [
    "Ante la fuerza de gravedad y la de un resorte, las energías del sistema se escriben como\n",
    "$$\n",
    "\\Delta E_c = - \\Delta U \\equiv  - \\Delta (U^{(g)} + U^{(el)}),\n",
    "$$\n",
    "donde $U$ es la energía potencial (interna) del sistema. Evaluando al tiemop $t$ y al tiempo inicial $t_0$, entonces\n",
    "$$\\begin{aligned}\n",
    "E_c(t) - E_c(t_0) = - \\left[U(t) - U(t_0) \\right]  = U(t_0) - U(t)\n",
    "\\end{aligned}$$\n",
    "Separando las dependencias con $t$ y $t_0$, y definiendo la energía total del sistema $E_\\text{Tot} = E_c + U$, se obtiene que \n",
    "$$\n",
    "E_\\text{Tot}(t) = E_c(t)  + U(t) = E_c(t_0) + U(t_0) = E_\\text{Tot}(t_0) = \\text{constante.}\n",
    "$$"
   ]
  },
  {
   "cell_type": "markdown",
   "id": "e82c7e46-c76b-4f99-8dda-e0c5fa0ead8c",
   "metadata": {
    "editable": true,
    "slideshow": {
     "slide_type": "subslide"
    },
    "tags": []
   },
   "source": [
    "<center>\n",
    "    <img src=\"https://raw.githubusercontent.com/jaurrutia/Material-Didactico/main/Cantidades%20Conservadas%20(CCM-ITESM-F1003B)/img/Ejercicios-Energia/Resbaladilla.png\" width=\"600\" >\n",
    " </center>"
   ]
  },
  {
   "cell_type": "markdown",
   "id": "1c0b0e04-6e01-4e33-ba4f-0aa075bb461b",
   "metadata": {
    "editable": true,
    "slideshow": {
     "slide_type": "slide"
    },
    "tags": []
   },
   "source": [
    "## Fuerzas conservativas y disipativas\n",
    "\n",
    "<table style=\"width:100%\">\n",
    "  <tr>\n",
    "    <td  style=\"width:100%\" >\n",
    "        <center>\n",
    "        <img src=\"https://upload.wikimedia.org/wikipedia/commons/5/55/Energy%2C_Thomas_N._Wrenn.svg\" width=\"400\" >\n",
    "        </center>\n",
    "    </td>\n",
    "    <td  style=\"width:0%\" align=\"left\" >\n",
    "    </td>\n",
    "  </tr>\n",
    "</table> \n",
    "\n",
    "---\n",
    "<a href=\"https://commons.wikimedia.org/wiki/File:Energy,_Thomas_N._Wrenn.svg\">Thomas N Wrenn</a>, Public domain, via Wikimedia Commons"
   ]
  },
  {
   "cell_type": "markdown",
   "id": "5ac5db7a-8088-4e49-9438-0836a4b67b8c",
   "metadata": {
    "editable": true,
    "slideshow": {
     "slide_type": "slide"
    },
    "tags": []
   },
   "source": [
    "# Fuerzas conservativas\n",
    "\n",
    "Por el **Teorema fundamental del cálculo** se puede interpretar que las integrales y las derivadas son (bajo algunas condiciones) operaciones inversas, como la suma-resta y la multiplicación-división, es decir\n",
    "$$\n",
    "\\int_{x_0}^x \\dv{g(x)}{x} \\dd{x} = g(x)-g(x_0) = \\Delta g.\n",
    "$$\n",
    "\n",
    "Recordando que para algunas fuerzas $F(x)$, como la de gravedad o un resorte, el trabajo que realiazaban se relacionaba con su diferencia de energía potencial como\n",
    "$$\n",
    "W = \\int F(x)\\dd{x} = -\\Delta U,\n",
    "$$\n",
    "entonces se pueden realacionar estos conceptos también de la siguiente manera:\n",
    "$$\n",
    "F(x) = - \\dv{U(x)}{x}.\n",
    "$$\n",
    "A las fuerzas que cumplen esa relación se les conoce como **fuerzas conservativas**, las cuales conservan la energía del sistema."
   ]
  },
  {
   "cell_type": "markdown",
   "id": "ff578066-1d28-463c-886f-ab36b50b776b",
   "metadata": {
    "editable": true,
    "slideshow": {
     "slide_type": "slide"
    },
    "tags": []
   },
   "source": [
    "## Diagramas de energía\n",
    "\n",
    "Al graficar el potencial $U(x)$ asociado a una fuerza conservativa, es posible analizar la dinámica del sistema sin necesidad de realizar algún cálculo. \n",
    "\n",
    "<table style=\"width:100%\">\n",
    "  <tr>\n",
    "    <td  style=\"width:30%\" >\n",
    "        <ul>\n",
    "            <li>El sistema comienza con una energía $E$</li>\n",
    "            <li>$E = E_c + U$ </li>\n",
    "            <li>LA partícula se 'mueve' por la gráfica de $U$ si tiene la energía suficientes.</li>\n",
    "        </ul>\n",
    "        <b>Ejemplo:</b> Un infante en un columpio $$U(\\theta) = mgh(1-\\cos\\theta)$$\n",
    "    </td>\n",
    "    <td  style=\"width:70%\" >\n",
    "        <center>\n",
    "            <img src=\"https://upload.wikimedia.org/wikipedia/commons/7/7a/Spring-elongation-and-forces.svg\" width=\"400\" >\n",
    "        </center>\n",
    "    </td>\n",
    "  </tr>\n",
    "</table> \n"
   ]
  },
  {
   "cell_type": "code",
   "execution_count": 73,
   "id": "fa7a8aef-ee47-4cd8-90ee-a35b3d877e90",
   "metadata": {
    "editable": true,
    "slideshow": {
     "slide_type": ""
    },
    "tags": []
   },
   "outputs": [
    {
     "data": {
      "text/html": [
       "<div><pre style=\"&#102;&#111;&#110;&#116;&#45;&#102;&#97;&#109;&#105;&#108;&#121;&#58;&#32;&#34;&#67;&#111;&#117;&#114;&#105;&#101;&#114;&#32;&#78;&#101;&#119;&#34;&#44;&#67;&#111;&#117;&#114;&#105;&#101;&#114;&#44;&#109;&#111;&#110;&#111;&#115;&#112;&#97;&#99;&#101;&#59;\">&#105;&#109;&#103;&#47;&#112;&#108;&#111;&#116;&#69;&#110;&#101;&#114;&#103;&#121;&#46;&#112;&#110;&#103;</pre></div>"
      ],
      "text/plain": [
       "img/plotEnergy.png"
      ]
     },
     "execution_count": 78,
     "metadata": {
      "text/html": [],
      "text/plain": []
     },
     "output_type": "execute_result"
    }
   ],
   "source": [
    "<<\"MaTeX`\"\n",
    "texStyle = { FontFamily -> \"Latin Modern Roman\", FontSize -> 12,Black};\n",
    "TeXiT = Style[#,texStyle]&;\n",
    "\n",
    "plotEnergy = Plot[1-Cos[x],{x,-1.1*Pi,1.1*Pi},\n",
    "    BaseStyle->texStyle,\n",
    "    ImageSize -> 300,\n",
    "    Filling ->{1->1.5},\n",
    "    PlotTheme->\"Scientific\",\n",
    "    AspectRatio->1,\n",
    "    FrameLabel->{TeXiT[\"\\[Theta] [Radianes]\"],TeXiT[\"U(\\[Theta]) [Joules]\"]}];\n",
    "    \n",
    "Export[FileNameJoin[{\"img\",\"plotEnergy.png\"}],plotEnergy]"
   ]
  },
  {
   "cell_type": "code",
   "execution_count": null,
   "id": "0f8329a9-58ea-4d2d-8b54-4142ce6e385d",
   "metadata": {
    "editable": true,
    "slideshow": {
     "slide_type": ""
    },
    "tags": []
   },
   "outputs": [],
   "source": []
  }
 ],
 "metadata": {
  "kernelspec": {
   "display_name": "Wolfram Language 13",
   "language": "Wolfram Language",
   "name": "wolframlanguage13"
  },
  "language_info": {
   "codemirror_mode": "mathematica",
   "file_extension": ".m",
   "mimetype": "application/vnd.wolfram.m",
   "name": "Wolfram Language",
   "pygments_lexer": "mathematica",
   "version": "12.0"
  }
 },
 "nbformat": 4,
 "nbformat_minor": 5
}
