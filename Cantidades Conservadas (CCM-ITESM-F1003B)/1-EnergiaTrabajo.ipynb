{
 "cells": [
  {
   "cell_type": "markdown",
   "id": "35fc12ea-7706-4a39-9199-65ae1d23e761",
   "metadata": {
    "editable": true,
    "slideshow": {
     "slide_type": "slide"
    },
    "tags": []
   },
   "source": [
    "# **Aplicación de las leyes de conservación en ingeniería de procesos**\n",
    "## **Trabajo y energía**\n",
    "\n",
    "\n",
    "### M. en C. Jonathan A. Urrutia Anguiano\n",
    "### F1003B\n",
    "<div hidden>\n",
    "$\\def\\dd{\\text{d}}$\n",
    "$\\def\\dv#1#2{\\dfrac{\\text{d} #1}{\\text{d}#2}}$\n",
    "$\\def\\mdv#1#2#3{\\dfrac{\\text{d}^{#3} #1}{\\text{d}#2^{#3}}}$\n",
    "$\\def\\vb#1{\\mathbf{#1}}$\n",
    "$\\def\\pdv#1#2#3{\\dfrac{\\partial^{#3} #1}{\\partial #2^{#3}}}$\n",
    "\\vskip-\\parskip\n",
    "\\vskip-\\baselineskip\n",
    "</div>"
   ]
  },
  {
   "cell_type": "markdown",
   "id": "1dde1916-438b-4ca5-8779-3f219be74179",
   "metadata": {
    "editable": true,
    "slideshow": {
     "slide_type": "subslide"
    },
    "tags": []
   },
   "source": [
    "### ¿Qué trabajaremos en esta sesión?\n",
    "\n",
    "En esta ocasión estudiaremos los siguientes conceptos\n",
    "\n",
    " - Trabajo debido a una fuerza $W$\n",
    " - Energía cinética ($E_c$)\n",
    " - Energía potencial ($E_p$)\n",
    "   - $E_p$ gravitatoria\n",
    "   - $E_p$ elástica\n",
    " - Conservación de la energía"
   ]
  },
  {
   "cell_type": "markdown",
   "id": "8228eae8-b2c8-4596-865d-dada7e2b2a38",
   "metadata": {
    "editable": true,
    "slideshow": {
     "slide_type": "slide"
    },
    "tags": []
   },
   "source": [
    "## El concepto del **Trabajo** en la Física\n",
    "\n",
    "<center>\n",
    "    <img src=\"https://raw.githubusercontent.com/jaurrutia/Material-Didactico/main/Mecanica%20Arquitectura%20(AR1008B)/img/Work-example.png\" width=\"1000\">\n",
    "</center>\n",
    "\n",
    "---\n",
    "Serway, R.A., y Jewett J. \"Física para ciencias e ingenierías Vol. 1\". Cengage Learning Editores S.A. de C.V., 2008."
   ]
  },
  {
   "cell_type": "markdown",
   "id": "505b4578-dc4c-4fc3-82ef-ae06650f4bf0",
   "metadata": {
    "editable": true,
    "slideshow": {
     "slide_type": "subslide"
    },
    "tags": []
   },
   "source": [
    "### El trabajo: Efecto visible de la interacción\n",
    "\n",
    "<table style=\"width:100%\">\n",
    "  <tr>\n",
    "    <td  style=\"width:50%\" >\n",
    " <ul>\n",
    "     <li><b>Aplicacamos</b> de una fuerza constante $\\vb{F}$</li>\n",
    "     <li><b>Observamos</b> que el objeto se mueve en la dirección $\\Delta \\vb{r}$.</li>\n",
    "     <li><b>Notamos</b> que sólo una parte de la fuerza aplicada ve en la dirección de movimiento.</li>\n",
    "     <li><b>Denominamos</b> a la contribución efectiva de la fuerza como el <b>trabajo</b> $W$ realizado por ella\n",
    "     $$ W = \\vb{F}\\cdot \\Delta\\vb{r} = F \\Delta r \\cos\\theta.$$\n",
    "     </li>\n",
    "</ul>\n",
    "    </td>\n",
    "    <td  style=\"width:50%\" >\n",
    "        <center>\n",
    "        <img src=\"https://raw.githubusercontent.com/jaurrutia/Material-Didactico/main/Mecanica%20Arquitectura%20(AR1008B)/img/Work-Formula.png\" width=\"500\"> \n",
    "        </center>\n",
    "    </td>\n",
    "  </tr>\n",
    "</table> "
   ]
  },
  {
   "cell_type": "markdown",
   "id": "0a00be36-b47a-4132-9b60-7b6709ed691a",
   "metadata": {
    "editable": true,
    "slideshow": {
     "slide_type": "subslide"
    },
    "tags": []
   },
   "source": [
    "### Energía y trabajo: Expresiones generales\n",
    "\n",
    "<table style=\"width:100%\">\n",
    "  <tr>\n",
    "    <td  style=\"width:40%\" >\n",
    "        De forma general \n",
    "        $$W_{1\\to 2} = \\int_1^2 \\vb{F}\\cdot \\dd{\\vb{r}}.$$\n",
    "        Si se tiene una fuerza $\\vb{F}$, \n",
    "    <ul>\n",
    "    <li>Trabajo ejercido <b>por</b> un objeto: $W = \\int \\vb{F}\\cdot{\\vb{r}}$</li>\n",
    "    <li> Trabajo ejercido <b>sobre</b> un objeto: $-W = -\\int \\vb{F}\\cdot{\\vb{r}}$</li>\n",
    "    </ul>\n",
    "   Se define entonces la <b>energía</b> $U$ como $$U = -W = -\\int_1^2 \\vb{F}\\cdot \\dd{\\vb{r}}.$$\n",
    "    </td>\n",
    "    <td  style=\"width:60%\" >\n",
    "        <center>\n",
    "        <img src=\"https://raw.githubusercontent.com/jaurrutia/Material-Didactico/main/Cantidades%20Conservadas%20(CCM-ITESM-F1003B)/img/WorkInt-dis.png\" width=\"300\"> \n",
    "        <img src=\"https://raw.githubusercontent.com/jaurrutia/Material-Didactico/main/Cantidades%20Conservadas%20(CCM-ITESM-F1003B)/img/WorkInt-2.png\" width=\"300\"> \n",
    "        </center>\n",
    "    </td>\n",
    "  </tr>\n",
    "</table> "
   ]
  },
  {
   "cell_type": "markdown",
   "id": "3f0d1a38-6102-47fd-b968-a0bf19ef9742",
   "metadata": {
    "editable": true,
    "slideshow": {
     "slide_type": "subslide"
    },
    "tags": []
   },
   "source": [
    "### Ejemplo:\n",
    "\n",
    "<table style=\"width:100%\">\n",
    "  <tr>\n",
    "    <td  style=\"width:60%\" >\n",
    "        Si la aspiradora se desplaza un metro y medio ($1.5\\text{ m}$) a la derecha:\n",
    " <ul>\n",
    "     <li>¿Cuál es el trabajo debido a la fuerza de gravedad?</li>\n",
    "     <li>¿Cuál es el trabajo ejercido por el usuario?</li>\n",
    "</ul>\n",
    "    </td>\n",
    "    <td  style=\"width:50%\" >\n",
    "        <center>\n",
    "        <img src=\"https://raw.githubusercontent.com/jaurrutia/Material-Didactico/main/Mecanica%20Arquitectura%20(AR1008B)/img/Work-Exc1.png\" width=\"500\"> \n",
    "        </center>\n",
    "    </td>\n",
    "  </tr>\n",
    "</table> \n",
    "\n",
    "\n",
    "---\n",
    "Serway, R.A., y Jewett J. \"Física para ciencias e ingenierías Vol. 1\". Cengage Learning Editores S.A. de C.V., 2008."
   ]
  },
  {
   "cell_type": "markdown",
   "id": "805318b3-cf68-42c4-9e82-e2d6260a6a56",
   "metadata": {
    "editable": true,
    "slideshow": {
     "slide_type": "slide"
    },
    "tags": []
   },
   "source": [
    "## El trabajo y el movimiento\n",
    "\n",
    "<center>\n",
    "    <img src=\"https://raw.githubusercontent.com/jaurrutia/Material-Didactico/main/Mecanica%20Arquitectura%20(AR1008B)/img/RuningMan.png\" width=\"400\" >\n",
    "</center>\n",
    "\n",
    "---\n",
    "<a href=\"https://commons.wikimedia.org/wiki/File:Nude_man_pushing_a_garden_roller_(rbm-QP301M8-1887-393).jpg\">Muybridge, Eadweard, 1830-1904</a>, Public domain, via Wikimedia Commons"
   ]
  },
  {
   "cell_type": "markdown",
   "id": "757a90a3-e7a1-4176-8128-7011899904e5",
   "metadata": {
    "editable": true,
    "slideshow": {
     "slide_type": "subslide"
    },
    "tags": []
   },
   "source": [
    "## La energía cinética\n",
    "\n",
    "<table style=\"width:100%\">\n",
    "  <tr>\n",
    "    <td  style=\"width:60%\" >\n",
    "        La segunda ley de Newton relaciona las fuerzas totales actúando sobre ub objéto y cómo éste se mueve:\n",
    "        $$ \\vb{F}_\\text{Tot} = \\sum_i\\vb{F}_i = m\\dv{\\vb{v}}{t}.$$\n",
    "        El trabajo que realizan todas las fuerzas y el efecto del movimiento se pueden relacionar como\n",
    "        $$\n",
    "        W_\\text{Tot} = \\Delta E_c = E_c^{(1)} - E_c^{(2)},\n",
    "        $$\n",
    "        donde $E_c$ se conoce como la energía cinética\n",
    "        $$\n",
    "        E_c = \\frac12 m v^2.\n",
    "        $$\n",
    "        Se puede observar que la energía cinética está relacionada con el movimiento, de ahí su nombre.\n",
    "    </td>\n",
    "    <td  style=\"width:40%\" >\n",
    "        <center>\n",
    "            <img src=\"https://upload.wikimedia.org/wikipedia/commons/c/cf/MINI_United_2005_Challenge_148.jpg\" width=\"400\" >\n",
    "        </center>\n",
    "    </td>\n",
    "  </tr>\n",
    "</table> \n",
    "\n",
    "-----\n",
    "<a href=\"https://commons.wikimedia.org/wiki/File:MINI_United_2005_Challenge_148.jpg\">MINIUnited-Team</a>, <a href=\"https://creativecommons.org/licenses/by-sa/2.0\">CC BY-SA 2.0</a>, via Wikimedia Commons"
   ]
  },
  {
   "cell_type": "markdown",
   "id": "464a55c9-7b09-42af-9a90-4408e5db0379",
   "metadata": {
    "editable": true,
    "slideshow": {
     "slide_type": "subslide"
    },
    "tags": []
   },
   "source": [
    "### Teorema energía trabajo\n",
    " Relación entre la energía cinética de un objeto y el trabajo realizado sobre de él:\n",
    "\n",
    "\n",
    "<table style=\"width:100%\">\n",
    "  <tr>\n",
    "    <td  style=\"width:100%\" >\n",
    "        $$\\begin{align}\n",
    "        W_\\text{Tot} = \\sum_i W_i= \\sum_i\\int \\vb{F}_i\\cdot\\vb{r} =\\int \\sum_i \\vb{F}_i\\cdot\\vb{r}  &= \\int \\vb{F}_\\text{Tot}\\cdot\\dd{\\vb{r}}    &\\text{Definición}\\\\\n",
    "          &= \\int \\vb{F}_\\text{Tot}\\cdot\\vb{v}\\dd{t}   &\\text{Cambio de variable}\\\\\n",
    "          & = \\int m\\dv{\\vb{v}}{t}\\cdot\\vb{v}\\dd{t}   &\\text{Segunda Ley de Newton}\\\\\n",
    "          & = \\int m \\frac12\\dv{(\\vb{v}\\cdot\\vb{v})}{t}\\dd{t} &\\text{Derivada de un producto}\\\\\n",
    "          & = \\int m \\frac12\\dv{(v^2)}{t}\\dd{t}    &\\text{Norma al cuadrado del vector }\\vb{v}\\\\\n",
    "          & = \\int \\dv{ }{t}\\left(\\frac12 mv^2\\right)\\dd{t} = \\Delta\\left(\\frac12 mv^2\\right). &\\text{Teorema fundamental del cálculo.}\n",
    "        \\end{align}$$\n",
    "    </td>\n",
    "    <td  style=\"width:0%\" >\n",
    "    </td>\n",
    "  </tr>\n",
    "</table> "
   ]
  },
  {
   "cell_type": "markdown",
   "id": "54ae9e51-76cf-4ee0-90a7-472ac78d6675",
   "metadata": {
    "editable": true,
    "slideshow": {
     "slide_type": "slide"
    },
    "tags": []
   },
   "source": [
    "## Energía potencial\n",
    "\n",
    "<table style=\"width:100%\">\n",
    "  <tr>\n",
    "    <td  style=\"width:100%\" >\n",
    "        <center>\n",
    "        <img src=\"https://upload.wikimedia.org/wikipedia/commons/thumb/5/57/Volga_Hydroelectric_Station%2C_lock_P5150963_2200.jpg/512px-olga_Hydroelectric_Station%2C_lock_P5150963_2200.jpg\" width=\"600\" >\n",
    "        </center>\n",
    "    </td>\n",
    "    <td  style=\"width:0%\" align=\"left\" >\n",
    "    </td>\n",
    "  </tr>\n",
    "</table> \n",
    "\n",
    "---\n",
    "**Volga Hydroelectric Station** <a href=\"https://commons.wikimedia.org/wiki/File:Volga_Hydroelectric_Station,_lock_P5150963_2200.jpg\">Alexxx1979</a>, <a href=\"https://creativecommons.org/licenses/by-sa/4.0\">CC BY-SA 4.0</a>, via Wikimedia Commons"
   ]
  },
  {
   "cell_type": "markdown",
   "id": "d20bce58-3bb8-4ac0-b67c-dcb954dc40ee",
   "metadata": {
    "editable": true,
    "slideshow": {
     "slide_type": "subslide"
    },
    "tags": []
   },
   "source": [
    "## Energía potencial gravitatoria\n",
    "\n",
    "<table style=\"width:100%\">\n",
    "  <tr>\n",
    "    <td  style=\"width:50%\" >\n",
    " Si consideramos que el peso $-mg$ con $g = 9.81\\text{ m/s}^2$, es la fuerza de graveda, se calcula el trabajo ejercido sobre el objeto como\n",
    "    $$  W^\\text{(g)} = F_\\text{g}\\hat{e}_y\\cdot \\Delta \\vb{r} = -mg\\Delta y.$$\n",
    "Se define entonces $E_p^\\text{(g)}$ como la energía potencial gravitatoria, dada por\n",
    "        $$ E_p^\\text{(g)} = - W^\\text{(g)} =  mgy.$$\n",
    "        Entonces\n",
    "        $$W^\\text{(g)} = mg\\Delta y = -\\Delta E_p^{(g)}.$$\n",
    "    </td>\n",
    "    <td  style=\"width:50%\" >\n",
    "        <center>\n",
    "            <img src=\"https://upload.wikimedia.org/wikipedia/commons/5/53/Lifting-work.svg\" width=\"400\" >\n",
    "        </center>\n",
    "    </td>\n",
    "  </tr>\n",
    "</table> \n",
    "\n",
    "-----\n",
    "<a href=\"https://commons.wikimedia.org/wiki/File:MINI_United_2005_Challenge_148.jpg\">MINIUnited-Team</a>, <a href=\"https://creativecommons.org/licenses/by-sa/2.0\">CC BY-SA 2.0</a>, via Wikimedia Commons\n",
    "\n",
    "\n"
   ]
  },
  {
   "cell_type": "markdown",
   "id": "11f7901c-5aff-4c03-92c8-20e7f1b82d06",
   "metadata": {
    "editable": true,
    "slideshow": {
     "slide_type": "subslide"
    },
    "tags": []
   },
   "source": [
    "## Energía potencial elástica: Ley de Hook\n",
    "\n",
    "<table style=\"width:100%\">\n",
    "  <tr>\n",
    "    <td  style=\"width:50%\" >\n",
    "Describe el comportamiento de materiales que pueden deformarse\n",
    "    $$ F = - k (x-x_0) \\hat{e}_x = - k \\Delta x \\hat{e}_x.$$\n",
    "Dado que no es una fuerza constante\n",
    "        $$W^\\text{(el)} = -\\int_{x_1}^{x_2} k(x-x_0)\\,\\dd{x} = -\\frac12 k (x-x_0)^2\\bigg|_{x_1}^{x_2}.$$\n",
    "Se define $E_p^\\text{(el)}$ la energía potencial elástica como\n",
    "        $$E_p^\\text{(el)} = - W^\\text{(el)} =  \\frac12 k (x-x_0)^2.$$\n",
    "    Entonces\n",
    "        $$W^\\text{(el)} = -\\frac12 k \\Delta\\big[(x-x_0)^2\\big] = -\\Delta E_p^{(el)}.$$\n",
    "    </td>\n",
    "    <td  style=\"width:50%\" >\n",
    "        <center>\n",
    "            <img src=\"https://upload.wikimedia.org/wikipedia/commons/7/7a/Spring-elongation-and-forces.svg\" width=\"400\" >\n",
    "        </center>\n",
    "    </td>\n",
    "  </tr>\n",
    "</table> \n",
    "\n",
    "-----\n",
    "<a href=\"https://commons.wikimedia.org/wiki/File:Spring-elongation-and-forces.svg\">MikeRun</a>, <a href=\"https://creativecommons.org/licenses/by-sa/4.0\">CC BY-SA 4.0</a>, via Wikimedia Commonss\n",
    "\n",
    "\n"
   ]
  },
  {
   "cell_type": "markdown",
   "id": "b0b968fc-567f-4136-afa4-cd10e38a41c6",
   "metadata": {
    "editable": true,
    "slideshow": {
     "slide_type": "slide"
    },
    "tags": []
   },
   "source": [
    "## Conservación de la energía\n",
    "\n",
    "<table style=\"width:100%\">\n",
    "  <tr>\n",
    "    <td  style=\"width:100%\" >\n",
    "        <center>\n",
    "        <img src=\"https://upload.wikimedia.org/wikipedia/commons/4/4c/Stamp_of_India_-_2004_-_Colnect_158551_-_Energy_Conservation.jpeg\" width=\"400\" >\n",
    "        </center>\n",
    "    </td>\n",
    "    <td  style=\"width:0%\" align=\"left\" >\n",
    "    </td>\n",
    "  </tr>\n",
    "</table> \n",
    "\n",
    "---\n",
    "<a href=\"https://commons.wikimedia.org/wiki/File:Stamp_of_India_-_2004_-_Colnect_158551_-_Energy_Conservation.jpeg\">Post of India</a>, <a href=\"https://data.gov.in/sites/default/files/Gazette_Notification_OGDL.pdf\">GODL-India</a>, via Wikimedia Commons"
   ]
  },
  {
   "cell_type": "markdown",
   "id": "630814ca-ba18-4586-9c4a-b62c7623a9a2",
   "metadata": {
    "editable": true,
    "slideshow": {
     "slide_type": "subslide"
    },
    "tags": []
   },
   "source": [
    "Recordemos el **Teorema de Energía-Trabajo**:\n",
    "$$\n",
    "        W_\\text{Tot} = \\sum_i W_i= \\int \\vb{F}_\\text{Tot}\\cdot\\dd{\\vb{r}}  = \\Delta\\left(\\frac12 mv^2\\right) = \\Delta E_c.\n",
    "$$\n",
    "\n",
    "Considerando que las fuerzas que actúan sobre el cuerpo son el peso y la fuerza de un resorte:\n",
    "$$\\begin{aligned}\n",
    "\\vb{F}^{(g)} = - mg \\hat{e}_y \\quad&\\Longrightarrow\\quad W^\\text{(g)} = mg\\Delta y = -\\Delta E_p^{(g)},\\\\\n",
    "\\vb{F}^{(el)} = - k x\\hat{e}_x \\quad&\\Longrightarrow\\quad W^\\text{(el)} = -\\frac12 k \\Delta\\big[(x-x_0)^2\\big] = -\\Delta E_p^{(el)}.\n",
    "\\end{aligned}$$\n",
    "Sustituyendo las expresiones anteriores en la primera ecuación, se tiene que\n",
    "$$\n",
    "\\Delta E_c = - \\Delta E_p^{(g)} -\\Delta E_p^{(el)}.\n",
    "$$\n"
   ]
  },
  {
   "cell_type": "markdown",
   "id": "6395f94c-7a9e-46f4-a57d-85021878f560",
   "metadata": {
    "editable": true,
    "slideshow": {
     "slide_type": "subslide"
    },
    "tags": []
   },
   "source": [
    "Ante la fuerza de gravedad y la de un resorte, las energías del sistema se escriben como\n",
    "$$\n",
    "\\Delta E_c = - \\Delta U \\equiv  - \\Delta (E_p^{(g)} + E_p^{(el)}),\n",
    "$$\n",
    "donde $U$ es la energía potencial (interna) del sistema. Evaluando al tiemop $t$ y al tiempo inicial $t_0$, entonces\n",
    "$$\\begin{aligned}\n",
    "E_c(t) - E_c(t_0) = - \\left[U(t) - U(t_0) \\right]  = U(t_0) - U(t)\n",
    "\\end{aligned}$$\n",
    "Separando las dependencias con $t$ y $t_0$, y definiendo la energía total del sistema $E_\\text{Tot} = E_c + U$, se obtiene que \n",
    "$$\n",
    "E_\\text{Tot}(t) = E_c(t)  + U(t) = E_c(t_0) + U(t_0) = E_\\text{Tot}(t_0) = \\text{constante.}\n",
    "$$"
   ]
  },
  {
   "cell_type": "code",
   "execution_count": null,
   "id": "be2ea091-3ab7-4451-ae4d-2b568f28c3a2",
   "metadata": {
    "editable": true,
    "slideshow": {
     "slide_type": ""
    },
    "tags": []
   },
   "outputs": [],
   "source": []
  }
 ],
 "metadata": {
  "kernelspec": {
   "display_name": "Wolfram Language 13",
   "language": "Wolfram Language",
   "name": "wolframlanguage13"
  },
  "language_info": {
   "codemirror_mode": "mathematica",
   "file_extension": ".m",
   "mimetype": "application/vnd.wolfram.m",
   "name": "Wolfram Language",
   "pygments_lexer": "mathematica",
   "version": "12.0"
  }
 },
 "nbformat": 4,
 "nbformat_minor": 5
}
