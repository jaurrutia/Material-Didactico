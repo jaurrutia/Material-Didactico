{
 "cells": [
  {
   "cell_type": "markdown",
   "id": "35fc12ea-7706-4a39-9199-65ae1d23e761",
   "metadata": {
    "editable": true,
    "slideshow": {
     "slide_type": "slide"
    },
    "tags": []
   },
   "source": [
    "# **Aplicación de las leyes de conservación en ingeniería de procesos**\n",
    "## **Dinámica de fluidos**\n",
    "\n",
    "\n",
    "### M. en C. Jonathan A. Urrutia Anguiano\n",
    "### F1003B\n",
    "<div hidden>\n",
    "$\\def\\dd{\\text{d}}$\n",
    "$\\def\\dv#1#2{\\dfrac{\\text{d} #1}{\\text{d}#2}}$\n",
    "$\\def\\mdv#1#2#3{\\dfrac{\\text{d}^{#3} #1}{\\text{d}#2^{#3}}}$\n",
    "$\\def\\vb#1{\\mathbf{#1}}$\n",
    "$\\def\\pdv#1#2#3{\\dfrac{\\partial^{#3} #1}{\\partial #2^{#3}}}$\n",
    "\\vskip-\\parskip\n",
    "\\vskip-\\baselineskip\n",
    "</div>"
   ]
  },
  {
   "cell_type": "markdown",
   "id": "9eaa2984-a719-4e3c-aa99-6d8857b52f63",
   "metadata": {
    "editable": true,
    "slideshow": {
     "slide_type": "subslide"
    },
    "tags": []
   },
   "source": [
    "## Estática de fluidos\n",
    "### ¿Qué es un fluido?\n",
    "\n",
    "<center>\n",
    "    <img src=\"https://upload.wikimedia.org/wikipedia/commons/4/4d/Gas_velocity.gif\" width = 350>\n",
    "</center>\n",
    "HPP simulation of gas flow inside a closed space. Yellow cells are reflectors. This shows the resulting gas flow when a hole or void inside the container is filled.\n",
    "\n",
    "---\n",
    "<a href=\"https://commons.wikimedia.org/wiki/File:Gas_velocity.gif\">Simpsons contributor</a>, Public domain, via Wikimedia Commons"
   ]
  },
  {
   "cell_type": "markdown",
   "id": "3e50ad04-2a95-4e0b-a41e-c3289c7085c1",
   "metadata": {
    "editable": true,
    "slideshow": {
     "slide_type": "slide"
    },
    "tags": []
   },
   "source": [
    "### Presión\n",
    "\n",
    "<table style=\"width:100%\">\n",
    "  <tr>\n",
    "    <td  style=\"width:33%\" >\n",
    "        <center>\n",
    "        <img src=\"https://upload.wikimedia.org/wikipedia/commons/4/4d/Gas_velocity.gif\"> \n",
    "        </center>\n",
    "    </td>\n",
    "    <td  style=\"width:33%\" >\n",
    "        <center>\n",
    "        <img src=\"https://raw.githubusercontent.com/jaurrutia/Material-Didactico/main/Cantidades%20Conservadas%20(CCM-ITESM-F1003B)/img/Presion.png\"> \n",
    "        </center>\n",
    "    </td>\n",
    "    <td  style=\"width:33%\" >\n",
    "        $$ \\dd{F} = P \\dd{A}$$\n",
    "        $$ P [=] \\text{Pa} \\equiv \\text{N m}^{-2}$$\n",
    "    </td>  </tr>\n",
    "</table> \n",
    "\n",
    "---\n",
    "\n",
    "Serway, R.A., y Jewett J. \"Física para ciencias e ingenierías Vol. 1\". Cengage Learning Editores S.A. de C.V., 2008."
   ]
  },
  {
   "cell_type": "markdown",
   "id": "505b4578-dc4c-4fc3-82ef-ae06650f4bf0",
   "metadata": {
    "editable": true,
    "slideshow": {
     "slide_type": "subslide"
    },
    "tags": []
   },
   "source": [
    "### Ley de Pascal\n",
    "\n",
    "<table style=\"width:100%\">\n",
    "  <tr>\n",
    "    <td  style=\"width:33%\" >\n",
    "        <center>\n",
    "        <img src=\"https://raw.githubusercontent.com/jaurrutia/Material-Didactico/main/Cantidades%20Conservadas%20(CCM-ITESM-F1003B)/img/PresionAltura.png\"> \n",
    "        </center>\n",
    "    </td>\n",
    "    <td  style=\"width:66%\" >\n",
    "        $$\\begin{aligned}\n",
    "            \\vec{F}_\\text{Tot}  &= \\left(P A - P_0 A - M g \\right)\\hat{e}_y = \\vec{0} \\\\\n",
    "                        P& = P_0 + \\rho g h,\\quad\\text{donde}\\quad \\rho = M\\dd{V} = M A\\dd{h} \n",
    "        \\end{aligned}$$\n",
    "        <b>Ley de Pascal:</b> Un cambio en la presión aplicada a un fluido se transmite sin disminución a todos los puntos del fluido y a las paredes del contenedor.\n",
    "    </td>\n",
    "    </tr>\n",
    "</table> "
   ]
  },
  {
   "cell_type": "markdown",
   "id": "b1f57681-933f-40ff-bc93-3b3578075ca2",
   "metadata": {
    "editable": true,
    "slideshow": {
     "slide_type": "subslide"
    },
    "tags": []
   },
   "source": [
    "<center>\n",
    "    <img src=\"https://raw.githubusercontent.com/jaurrutia/Material-Didactico/main/Cantidades%20Conservadas%20(CCM-ITESM-F1003B)/img/Pascal.png\"> \n",
    "</center>"
   ]
  },
  {
   "cell_type": "markdown",
   "id": "0a00be36-b47a-4132-9b60-7b6709ed691a",
   "metadata": {
    "editable": true,
    "slideshow": {
     "slide_type": "slide"
    },
    "tags": []
   },
   "source": [
    "## Fuerza boyante\n",
    "### Principio de Arquímides\n",
    "\n",
    "<table style=\"width:100%\">\n",
    "  <tr>\n",
    "    <td  style=\"width:35%\" >\n",
    "        <center>\n",
    "            <img src=\"https://raw.githubusercontent.com/jaurrutia/Material-Didactico/main/Cantidades%20Conservadas%20(CCM-ITESM-F1003B)/img/Arqui1.png\" > \n",
    "        </center>\n",
    "    </td>\n",
    "    <td  style=\"width:66%\" >\n",
    "<center>\n",
    "    <b>Principio de Arquímides:</b> La magnitud de la fuerza de flotación sobre un objeto siempre es igual al peso del fluido desplazado por el objeto.\n",
    "</center>\n",
    "    </td>\n",
    "  </tr>\n",
    "</table> \n",
    "        <center>\n",
    "            <img src=\"https://raw.githubusercontent.com/jaurrutia/Material-Didactico/main/Cantidades%20Conservadas%20(CCM-ITESM-F1003B)/img/Arqui2.png\" > \n",
    "        </center>"
   ]
  },
  {
   "cell_type": "markdown",
   "id": "fc8803cc-2344-42d7-aefa-205040eed851",
   "metadata": {
    "editable": true,
    "slideshow": {
     "slide_type": "subslide"
    },
    "tags": []
   },
   "source": [
    "## Fuerza boyante\n",
    "### Análisis con presions\n",
    "\n",
    "<table style=\"width:100%\">\n",
    "  <tr>\n",
    "    <td  style=\"width:33%\" >\n",
    "        <center>\n",
    "            <img src=\"https://upload.wikimedia.org/wikipedia/commons/3/3c/Pressure_distribution_on_an_immersed_cube.png\" > \n",
    "        </center>\n",
    "    </td>\n",
    "    <td  style=\"width:33%\" >\n",
    "        <center>\n",
    "            <img src=\"https://upload.wikimedia.org/wikipedia/commons/0/0f/ArchimedischesPrinzipHerleitung.svg\" > \n",
    "        </center>\n",
    "    </td>\n",
    "    <td  style=\"width:33%\" >\n",
    "        $$\n",
    "        B = \\left[p(z_0+h) - p(z_0)\\right] A = \\rho g h A = \\rho g V\n",
    "        $$\n",
    "    </td>      \n",
    "  </tr>\n",
    "</table> \n",
    "\n",
    "---\n",
    "\n",
    "<a href=\"https://commons.wikimedia.org/wiki/File:Pressure_distribution_on_an_immersed_cube.png\">Peter Southwood</a>, <a href=\"https://creativecommons.org/licenses/by-sa/3.0\">CC BY-SA 3.0</a>, via Wikimedia Commons\n",
    "\n",
    "<a href=\"https://commons.wikimedia.org/wiki/File:ArchimedischesPrinzipHerleitung.svg\">Joker1987</a>, <a href=\"https://creativecommons.org/licenses/by-sa/3.0\">CC BY-SA 3.0</a>, via Wikimedia Commons"
   ]
  },
  {
   "cell_type": "markdown",
   "id": "56f506ab-c339-4f51-8e1a-96c5c2b5dc94",
   "metadata": {
    "editable": true,
    "slideshow": {
     "slide_type": "slide"
    },
    "tags": []
   },
   "source": [
    "## Dinámica de fluidos\n",
    "\n",
    "<center>\n",
    "    <img src=\"https://upload.wikimedia.org/wikipedia/commons/b/bc/Anim_ProfilSym%2C_smokes.gif\"> \n",
    "</center>\n",
    "\n",
    "---\n",
    "\n",
    "<a href=\"https://commons.wikimedia.org/wiki/File:Anim_ProfilSym,_smokes.gif\">NACA (sans doute Langley) autour de 1935 ou 1938.</a>, Public domain, via Wikimedia Commons"
   ]
  },
  {
   "cell_type": "markdown",
   "id": "3f0d1a38-6102-47fd-b968-a0bf19ef9742",
   "metadata": {
    "editable": true,
    "jp-MarkdownHeadingCollapsed": true,
    "slideshow": {
     "slide_type": "subslide"
    },
    "tags": []
   },
   "source": [
    "### Fluido ideal\n",
    "\n",
    "<table style=\"width:100%\">\n",
    "  <tr>\n",
    "    <td  style=\"width:30%\" >\n",
    "        <ul>\n",
    "            <li><b>No viscoso</b> </li>\n",
    "            <li>Laminar</li>\n",
    "            <li>Incompresible ($\\rho = \\text{cte}$)</li>\n",
    "            <li>Irrotacional</li>\n",
    "        </ul>\n",
    "    </td>\n",
    "    <td  style=\"width:70%\" >\n",
    "    <center>\n",
    "        <img src=\"https://upload.wikimedia.org/wikipedia/commons/4/47/Perfiles_de_velocidad_en_un_fluido_sin_viscosidad_%28a%29_y_con_viscosidad_%28b%29.svg\">\n",
    "    </center>\n",
    "    </td>\n",
    "  </tr>\n",
    "</table> \n",
    "\n",
    "\n",
    "---\n",
    "<a href=\"https://commons.wikimedia.org/wiki/File:Perfiles_de_velocidad_en_un_fluido_sin_viscosidad_(a)_y_con_viscosidad_(b).svg\">Dione Murrieta</a>, <a href=\"https://creativecommons.org/licenses/by-sa/4.0\">CC BY-SA 4.0</a>, via Wikimedia Commons"
   ]
  },
  {
   "cell_type": "markdown",
   "id": "215f6c25-7b2d-422e-983f-9109c5003893",
   "metadata": {
    "editable": true,
    "jp-MarkdownHeadingCollapsed": true,
    "slideshow": {
     "slide_type": "subslide"
    },
    "tags": []
   },
   "source": [
    "### Fluido ideal\n",
    "\n",
    "<table style=\"width:100%\">\n",
    "  <tr>\n",
    "    <td  style=\"width:20%\" >\n",
    "        <ul>\n",
    "            <li>No viscoso</li>\n",
    "            <li><b>Laminar</b></li>\n",
    "            <li>Incompresible ($\\rho = \\text{cte}$)</li>\n",
    "            <li>Irrotacional</li>\n",
    "        </ul>\n",
    "    </td>\n",
    "    <td  style=\"width:40%\" >\n",
    "    <center>\n",
    "                <img src=\"https://upload.wikimedia.org/wikipedia/commons/6/6f/T%C3%BAnel_de_viento%2C_v%C3%B3rtice_de_Von_Karman.gif\">\n",
    "    </center>\n",
    "    </td>\n",
    "    <td  style=\"width:30%\" >\n",
    "    <center>\n",
    "                <img src=\"https://techblog.ctgclean.com/wp-content/uploads/laminar-Water-Jets-e1441893063760.jpg\">\n",
    "    </center>\n",
    "    </td>      \n",
    "  </tr>\n",
    "</table> \n",
    "\n",
    "\n",
    "---\n",
    "<a href=\"https://commons.wikimedia.org/wiki/File:T%C3%BAnel_de_viento,_v%C3%B3rtice_de_Von_Karman.gif\">PR</a>, <a href=\"https://creativecommons.org/licenses/by-sa/3.0\">CC BY-SA 3.0</a>, via Wikimedia Commons\n",
    "\n",
    "Laminar flow streams of water    (www.paragonpoolslv.com)"
   ]
  },
  {
   "cell_type": "markdown",
   "id": "07b65a3e-8305-460b-97e5-7611996097ab",
   "metadata": {
    "editable": true,
    "jp-MarkdownHeadingCollapsed": true,
    "slideshow": {
     "slide_type": "subslide"
    },
    "tags": []
   },
   "source": [
    "### Fluido ideal\n",
    "\n",
    "<table style=\"width:100%\">\n",
    "  <tr>\n",
    "    <td  style=\"width:30%\" >\n",
    "        <ul>\n",
    "            <li>No viscoso</li>\n",
    "            <li>Laminar</li>\n",
    "            <li>Incompresible ($\\rho = \\text{cte}$)</li>\n",
    "            <li><b>Irrotacional</b></li>\n",
    "        </ul>\n",
    "    </td>\n",
    "    <td  style=\"width:70%\" >\n",
    "    <center>\n",
    "                <img src=\"https://upload.wikimedia.org/wikipedia/commons/c/ce/Karmansche_Wirbelstr_gro%C3%9Fe_Re.JPG\">\n",
    "    </center>\n",
    "    </td>  \n",
    "  </tr>\n",
    "</table> \n",
    "\n",
    "\n",
    "---\n",
    "<a href=\"https://commons.wikimedia.org/wiki/File:Karmansche_Wirbelstr_gro%C3%9Fe_Re.JPG\">Jürgen Wagner</a>, <a href=\"https://creativecommons.org/licenses/by-sa/4.0\">CC BY-SA 4.0</a>, via Wikimedia Commons"
   ]
  },
  {
   "cell_type": "markdown",
   "id": "8527fa23-4097-40f2-b3fe-6fded9d94857",
   "metadata": {
    "editable": true,
    "slideshow": {
     "slide_type": "slide"
    },
    "tags": []
   },
   "source": [
    "## Cantidades conservadas en un fluido ideal\n",
    "### Ecuación de continuidad (Conservación de la masa)\n",
    "\n",
    "<table style=\"width:100%\">\n",
    "  <tr>\n",
    "    <td  style=\"width:30%\" >\n",
    "        <center>\n",
    "        <img src=\"https://raw.githubusercontent.com/jaurrutia/Material-Didactico/main/Cantidades%20Conservadas%20(CCM-ITESM-F1003B)/img/FIdeal1.png\" width=\"450\"> \n",
    "        </center>\n",
    "    </td>\n",
    "    <td  style=\"width:30%\" >\n",
    "        <center>\n",
    "        <img src=\"https://raw.githubusercontent.com/jaurrutia/Material-Didactico/main/Cantidades%20Conservadas%20(CCM-ITESM-F1003B)/img/FIdeal2.png\" width=\"350\"> \n",
    "        </center>\n",
    "    </td>\n",
    "    <td  style=\"width:30%\" >\n",
    "        $$m_1 = m_2$$\n",
    "        $$m_i = \\rho V_i = \\rho A_i \\Delta x_i = \\rho A_i v_i \\Delta t$$\n",
    "        $$ A_1 v_1 = a_2 v_2$$\n",
    "    </td>\n",
    "  </tr>\n",
    "</table> \n"
   ]
  },
  {
   "cell_type": "markdown",
   "id": "575046d4-56c4-4c9e-82b9-e2bc6eca58bb",
   "metadata": {
    "editable": true,
    "slideshow": {
     "slide_type": "subslide"
    },
    "tags": []
   },
   "source": [
    "## Cantidades conservadas en un fluido ideal\n",
    "### Ecuación de Bernoulli (Conservación de la energía)\n",
    "\n",
    "<table style=\"width:100%\">\n",
    "  <tr>\n",
    "    <td  style=\"width:30%\" >\n",
    "        <center>\n",
    "        <img src=\"https://raw.githubusercontent.com/jaurrutia/Material-Didactico/main/Cantidades%20Conservadas%20(CCM-ITESM-F1003B)/img/Bern1.png\" width=\"450\"> \n",
    "        </center>\n",
    "    </td>\n",
    "    <td  style=\"width:30%\" >\n",
    "        <center>\n",
    "        <img src=\"https://raw.githubusercontent.com/jaurrutia/Material-Didactico/main/Cantidades%20Conservadas%20(CCM-ITESM-F1003B)/img/Bern2.png\" width=\"350\"> \n",
    "        </center>\n",
    "    </td>\n",
    "    <td  style=\"width:30%\" >\n",
    "        $$ W_F = F \\Delta x = (P_1-P_2)A \\Delta x = (P_1-P_2)  V$$\n",
    "        $$ \\Delta E_c =  W_\\text{Tot} = W_F - \\Delta U$$\n",
    "        $$ \\Delta P = \\frac{\\Delta E_c}{V} + \\frac{\\Delta U}{V}$$\n",
    "        $$ P + \\frac12 \\rho v^2 + \\rho g y = \\text{cte} $$\n",
    "    </td>\n",
    "  </tr>\n",
    "</table> \n"
   ]
  },
  {
   "cell_type": "code",
   "execution_count": null,
   "id": "d03cfc6d-2256-4a7a-97a8-cd72dbecfa2c",
   "metadata": {
    "editable": true,
    "slideshow": {
     "slide_type": ""
    },
    "tags": []
   },
   "outputs": [],
   "source": []
  }
 ],
 "metadata": {
  "kernelspec": {
   "display_name": "Wolfram Language 13",
   "language": "Wolfram Language",
   "name": "wolframlanguage13"
  },
  "language_info": {
   "codemirror_mode": "mathematica",
   "file_extension": ".m",
   "mimetype": "application/vnd.wolfram.m",
   "name": "Wolfram Language",
   "pygments_lexer": "mathematica",
   "version": "12.0"
  }
 },
 "nbformat": 4,
 "nbformat_minor": 5
}
