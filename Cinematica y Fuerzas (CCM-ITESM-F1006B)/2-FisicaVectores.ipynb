{
 "cells": [
  {
   "cell_type": "markdown",
   "id": "e452fd4e-bb8f-4898-b41c-12f61d5595c1",
   "metadata": {
    "editable": true,
    "slideshow": {
     "slide_type": "slide"
    },
    "tags": []
   },
   "source": [
    "# **Modelación del movimiento en ingeniería**\n",
    "# Escalares y vectores en Física\n",
    "\n",
    "\n",
    "### M. en C. Jonathan A. Urrutia Anguiano\n",
    "### F1006B.218\n",
    "<div hidden>\n",
    "$\\def\\dd{\\text{d}}$\n",
    "$\\def\\dv#1#2{\\dfrac{\\text{d} #1}{\\text{d}#2}}$\n",
    "$\\def\\mdv#1#2#3{\\dfrac{\\text{d}^{#3} #1}{\\text{d}#2^{#3}}}$\n",
    "$\\def\\vb#1{\\mathbf{#1}}$\n",
    "$\\def\\pdv#1#2#3{\\dfrac{\\partial^{#3} #1}{\\partial #2^{#3}}}$\n",
    "\\vskip-\\parskip\n",
    "\\vskip-\\baselineskip\n",
    "</div>"
   ]
  },
  {
   "cell_type": "markdown",
   "id": "f708416e-71bf-4610-bd12-f2a68abceead",
   "metadata": {
    "editable": true,
    "slideshow": {
     "slide_type": "slide"
    },
    "tags": []
   },
   "source": [
    "## Deficiones heurísitcas \n",
    "\n",
    "<dl>\n",
    "  <dt><b>Escalares</b></dt>\n",
    "      <dd>Cantidades que únicamente requieren de un número, junto con una unidad, para ser determinadas.</dd>\n",
    "      <dd> $t$: Tiempo</dd>\n",
    "      <dd> $P$: Potencia</dd>\n",
    "      <dd> $W$: Trabajo</dd>\n",
    "  <dt><b>Vectores</b></dt>\n",
    "  <dd> Cantidades que se especifican por completo mediante un número y unidades apropiadas más una dirección.</dd>\n",
    "      <dd> $\\vec{F}$: Fuerza</dd>\n",
    "      <dd> $\\vec{v}$: Velocidad</dd>\n",
    "      <dd> $\\vec{E}$: Campo eléctrico</dd>\n",
    "</dl>\n"
   ]
  },
  {
   "cell_type": "markdown",
   "id": "c992119c-0db5-4d1b-a74b-33c580da9eb2",
   "metadata": {
    "editable": true,
    "slideshow": {
     "slide_type": "slide"
    },
    "tags": []
   },
   "source": [
    "### Cantidades escalares y dinámicas en cinemática\n",
    "\n",
    "La **cinemática** es el estudio fenomenológico de partículas en movimiento sin interés en la causa detrás del movimiento. Es decir, sólo describe el movimiento. Las variables que se emplean en esta rama de la mecánica la podemos dividir de la siguiente manera:\n",
    "\n",
    "#### Coordenadas cartesianas\n",
    "\n",
    " - $\\vec{r}(t) = (x (t),\\; y(t),\\; z(t))$: Vector posición de una partícula al tiempo $t$\n",
    "   \n",
    "   Describe la posición de una partícula, medida desde el origen de coordenadas, en cada instante de tiempo\n",
    " - $\\Delta \\vec{r}(t) = \\vec{r}(t) - \\vec{r}_0 = (x (t)-x_0,\\; y(t)-y_0,\\; z(t)-z_0)$: Desplazamiento\n",
    "\n",
    "   Describe el cambio de posición de una partícual al tiempo $t$ a partir de la posición inicial al tiempo $t_0$, es decir, $\\vec{r}_0 = \\vec{r}(t_0)$ .\n",
    " - $||\\Delta \\vec{r}(t)|| = \\sqrt{(x (t)-x_0)^2 + (y(t)-y_0)^2 + (z(t)-z_0)^2}$: Distancia\n",
    "\n",
    "   Norma del desplazamiento para un tiempo $t$."
   ]
  },
  {
   "cell_type": "markdown",
   "id": "969e442d-4653-4490-af8c-c23bb7ba9e76",
   "metadata": {
    "editable": true,
    "slideshow": {
     "slide_type": "subslide"
    },
    "tags": []
   },
   "source": [
    "#### Coordenadas polares\n",
    "\n",
    "En el caso bidimensional (2D) es posible hacer un cambio de coordenadas de tal forma que se faciliten las cuentas en algunas casos. \n",
    "\n",
    "<table>\n",
    " <tr>\n",
    "    <td>\n",
    "        <img src=\"6-Polares.png\" width=\"500\">\n",
    "    </td>\n",
    "    <td>\n",
    "        Si se denomina $r = ||\\vec{r}||$, entonces las componentes $x$ y $y$ del vector $\\vec{r}$ se escriben como\n",
    "        $$\n",
    "        \\begin{aligned}\n",
    "        x = \\vec{r}\\cdot\\hat{e}_x &= r \\cos\\theta\\\\\n",
    "        y = \\vec{r}\\cdot\\hat{e}_y &= r \\cos(\\pi/2 - \\theta) = r\\sin\\theta\n",
    "        \\end{aligned}\n",
    "        $$\n",
    "        Adicionalmente\n",
    "        $$\n",
    "        \\begin{aligned}\n",
    "        r^2 =& x^2 + y^2\\\\\n",
    "        \\tan\\theta =& \\frac{y}{x}\n",
    "        \\end{aligned}\n",
    "        $$\n",
    "        No olvidemos que en este caso $\\vec{r}$ y $\\theta$ también son funciones del tiempo, es decir }\n",
    "        $$\\vec{r}(t) = (r(t) \\cos\\theta(t),r(t) \\sin\\theta(t))$$\n",
    "    </td>\n",
    " </tr>\n",
    "</table>\n",
    "\n",
    "---\n",
    "Imagen de Serway, Raymond A., y John W. Jewett Jr. \"Física para ciencias e ingenierías Vol. 1\". Cengage Learning Editores S.A. de C.V., 2008.\n"
   ]
  },
  {
   "cell_type": "markdown",
   "id": "bbe4c9ea-b0e3-43b8-aa08-48028dde86bb",
   "metadata": {
    "editable": true,
    "slideshow": {
     "slide_type": "subslide"
    },
    "tags": []
   },
   "source": [
    "\n",
    "<table>\n",
    " <tr>\n",
    "    <td>\n",
    "        <img src=\"7-Vel.png\" width=\"500\">\n",
    "    </td>\n",
    "    <td>\n",
    "    <dt>$\\vec{v}_\\text{ave} = \\dfrac{\\Delta\\vec{r}}{\\Delta{t}}$: Velocidad promedio (<i>average</i>)</dt>  \n",
    "        <dd>Cociente entre el desplazamiento de una partícula en un intervalo de tiempo $\\Delta t$, y ese mismo intervalo.</dd>\n",
    "        <br></br>\n",
    "    <dt>$\\vec{v}(t) = \\lim_{\\Delta t\\to 0}  \\dfrac{\\Delta\\vec{r}}{\\Delta{t}} =  \\dv{r}{t} = \\dot{\\vec{r}}$: Velocidad instánea</dt>  \n",
    "\n",
    "   El punto sobre la variable $\\vec{r}$ significa *derivada total respecto al tiempo*. Por lo tanto, la velocidad instantánea es la derivada respecto al tiempo de la  posicón.\n",
    "\n",
    "   **En coordenadas cartesianas**\n",
    "\n",
    "   $$\\vec{r} =  (x (t),\\; y(t),\\; z(t))  \\qquad\\Longrightarrow  \\qquad\\vec{v} =  \\dot{\\vec{r}} =  (\\dot{x} (t),\\; \\dot{y}(t),\\; \\dot{z}(t))  $$\n",
    "    </td>\n",
    " </tr>\n",
    "</table>\n",
    "\n",
    "---\n",
    "Imagen de Serway, Raymond A., y John W. Jewett Jr. \"Física para ciencias e ingenierías Vol. 1\". Cengage Learning Editores S.A. de C.V., 2008."
   ]
  },
  {
   "cell_type": "markdown",
   "id": "cf4c4013-d73d-45e0-ab28-94fe0aa14481",
   "metadata": {
    "editable": true,
    "slideshow": {
     "slide_type": "subslide"
    },
    "tags": []
   },
   "source": [
    "\n",
    "<table>\n",
    " <tr>\n",
    "    <td>\n",
    "        <img src=\"8-Acel.png\" width=\"800\">\n",
    "    </td>\n",
    "    <td>\n",
    "    <dt>$\\vec{a}_\\text{ave} = \\dfrac{\\Delta\\vec{v}}{\\Delta{t}}$: Aceleración promedio (<i>average</i>)</dt>  \n",
    "        <dd>Cociente entre la velocidad instánea de una partícula en un intervalo de tiempo $\\Delta t$, y ese mismo intervalo.</dd>\n",
    "        <br></br>\n",
    "    <dt>$\\vec{a}(t) = \\lim_{\\Delta t\\to 0}  \\dfrac{\\Delta\\vec{v}}{\\Delta{t}} =  \\dv{r}{t} = \\dot{\\vec{r}} = \\mdv{r}{t}{2} = \\ddot{r} $: Aceleración instánea</dt>  \n",
    "\n",
    "   La aceleración instantánea es la primera derivada respecto al tiempo de la  velocidad, y de igual manera es la segunda derivada respecto al tiempo de la posicón.\n",
    "\n",
    "   **En coordenadas cartesianas**\n",
    "\n",
    "   $$\\vec{r} =  (x (t),\\; y(t),\\; z(t))  \\qquad\\Longrightarrow  \\qquad\\vec{v} =  \\ddot{\\vec{r}} =  (\\ddot{x} (t),\\; \\ddot{y}(t),\\; \\ddot{z}(t))  $$\n",
    "    </td>\n",
    " </tr>\n",
    "</table>\n",
    "\n",
    "---\n",
    "Imagen de Serway, Raymond A., y John W. Jewett Jr. \"Física para ciencias e ingenierías Vol. 1\". Cengage Learning Editores S.A. de C.V., 2008."
   ]
  },
  {
   "cell_type": "markdown",
   "id": "6a6f42d3-80ca-4406-9c5b-465b3055ad11",
   "metadata": {
    "editable": true,
    "slideshow": {
     "slide_type": "slide"
    },
    "tags": []
   },
   "source": [
    "### Cantidades vectoriales en Dinámica\n",
    "\n",
    "La **dinámica** es el estudio de partículas en movimiento  considerandfo el origen del movimiento. En particular, la segunda ley de Newton (que se revisitará de manera más detallada más adelante), atribuye dicho origen a las fuerzas $\\vec{F}$. En particular, dicha ley para partículas de masa $m$ constante establece una relación entre variables dinámica y cinemáticas como:\n",
    "\n",
    "$$\n",
    "\\vec{F}_\\text{tot} = m \\vec{a} = m\\ddot{\\vec{r}},\n",
    "$$\n",
    "\n",
    "es decir que las fuerzas, al igual que las variables de cinemática estudiadas anteriormente pueden modelarse como **vectores**. \n",
    "\n",
    "Cabe mencionar que $\\vec{F}_\\text{tot}$ es la fuerza total que actúa sobre la partícula, por lo que si hay varias contribuciones, es necesario sumar cada una de éstas antes de relacionar las dos cantidades $\\vec{F}_\\text{tot}$ y $\\ddot{\\vec{r}}$. Es decir antes hay que determinar;\n",
    "\n",
    "$$\n",
    "\\vec{F}_\\text{tot} = \\sum_{i = 1}^N \\vec{F}_i,\n",
    "$$\n",
    "\n",
    "donde las $\\vec{F}_i$ son las $n$ fuerzas aplicadas a la partícula. Para esto hay que emplear las propiedades vistas en clases anteriores.\n"
   ]
  },
  {
   "cell_type": "markdown",
   "id": "fe3890e3-8799-4901-aa50-44a894f0ac60",
   "metadata": {
    "editable": true,
    "slideshow": {
     "slide_type": "slide"
    },
    "tags": []
   },
   "source": [
    "## Ejercicios en clase\n",
    "\n",
    "<table>\n",
    " <tr>\n",
    "    <td><center>\n",
    "        <img src=\"9-Desplazamiento.png\" width=\"250\">\n",
    "    </center>\n",
    "    </td>\n",
    " </tr>\n",
    "    <td>\n",
    "       Calcula el desplazamiento total de la trayectoria en coordenadas cartesianas y polares.\n",
    "    </td>\n",
    " </tr>\n",
    "</table>\n",
    "\n",
    "---\n",
    "Imagen de Serway, Raymond A., y John W. Jewett Jr. \"Física para ciencias e ingenierías Vol. 1\". Cengage Learning Editores S.A. de C.V., 2008."
   ]
  },
  {
   "cell_type": "markdown",
   "id": "ba91c03c-5ba3-46be-a1ac-ab8e393e4ec3",
   "metadata": {
    "editable": true,
    "slideshow": {
     "slide_type": "subslide"
    },
    "tags": []
   },
   "source": [
    "## Ejercicios en clase\n",
    "\n",
    "<table>\n",
    " <tr>\n",
    "    </td>\n",
    "    <td><center>\n",
    "        <img src=\"10-PInc.png\" width=\"300\">\n",
    "    </center>\n",
    "    </td>\n",
    " </tr>\n",
    "    <td>\n",
    "        Calcula la fuerza total ejercida sobre la caja\n",
    "    </td>\n",
    " </tr>\n",
    "</table>\n",
    "\n",
    "---\n",
    "Imagen de Kleppner, Daniel, y Robert J. Kolenkow. \"An Introduction to Mechanics\". Cambridge University Press, 2010."
   ]
  },
  {
   "cell_type": "code",
   "execution_count": null,
   "id": "729660bb-7197-41c2-aa50-1050e9f3c405",
   "metadata": {
    "editable": true,
    "slideshow": {
     "slide_type": "slide"
    },
    "tags": []
   },
   "outputs": [],
   "source": []
  }
 ],
 "metadata": {
  "kernelspec": {
   "display_name": "Wolfram Language 13",
   "language": "Wolfram Language",
   "name": "wolframlanguage13"
  },
  "language_info": {
   "codemirror_mode": "mathematica",
   "file_extension": ".m",
   "mimetype": "application/vnd.wolfram.m",
   "name": "Wolfram Language",
   "pygments_lexer": "mathematica",
   "version": "12.0"
  }
 },
 "nbformat": 4,
 "nbformat_minor": 5
}
