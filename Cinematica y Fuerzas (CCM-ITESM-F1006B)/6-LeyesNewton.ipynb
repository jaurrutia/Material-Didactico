{
 "cells": [
  {
   "cell_type": "markdown",
   "id": "e452fd4e-bb8f-4898-b41c-12f61d5595c1",
   "metadata": {
    "editable": true,
    "slideshow": {
     "slide_type": "slide"
    },
    "tags": []
   },
   "source": [
    "# **Modelación del movimiento en ingeniería**\n",
    "# Leyes de Newton\n",
    "\n",
    "### M. en C. Jonathan A. Urrutia Anguiano\n",
    "### F1006B.218\n",
    "<div hidden>\n",
    "$\\def\\dd{\\text{d}}$\n",
    "$\\def\\dv#1#2{\\dfrac{\\text{d} #1}{\\text{d}#2}}$\n",
    "$\\def\\mdv#1#2#3{\\dfrac{\\text{d}^{#3} #1}{\\text{d}#2^{#3}}}$\n",
    "$\\def\\vb#1{\\mathbf{#1}}$\n",
    "$\\def\\pdv#1#2#3{\\dfrac{\\partial^{#3} #1}{\\partial #2^{#3}}}$\n",
    "\\vskip-\\parskip\n",
    "\\vskip-\\baselineskip\n",
    "</div>"
   ]
  },
  {
   "cell_type": "markdown",
   "id": "f708416e-71bf-4610-bd12-f2a68abceead",
   "metadata": {
    "editable": true,
    "slideshow": {
     "slide_type": "slide"
    },
    "tags": []
   },
   "source": [
    "## Mecánica\n",
    "\n",
    "En clases anteriores nos dedicamos a la descripción del movimiento de partículas sin considerar el motivo de que se comportaran de esta forma. En esta nueva parte del curso nos dedicaremos a estudiar el movimiento de los objetos pero considerarndo la razones de éste: las **fuerzas ejercidas sobre una partícula**. \n",
    "\n",
    "Dado que el objetivo es aún determinar la expresión de $\\vec{r}$, es conveniente recordar nuestras variables dinámicas:\n",
    "\n",
    "   $$\n",
    "   \\vec{r} =  (x (t),\\; y(t),\\; z(t))  \\qquad\\Longrightarrow  \\qquad\\vec{v} =  \\dot{\\vec{r}} =  (\\dot{x} (t),\\; \\dot{y}(t),\\; \\dot{z}(t))  \n",
    "   \\qquad\\Longrightarrow   \\qquad\\vec{a} =  \\ddot{\\vec{r}} =  (\\ddot{x} (t),\\; \\ddot{y}(t),\\; \\ddot{z}(t))  \n",
    "   $$\n"
   ]
  },
  {
   "cell_type": "markdown",
   "id": "0f1266c4-f2d9-41af-b575-faf12c85124a",
   "metadata": {
    "editable": true,
    "slideshow": {
     "slide_type": "subslide"
    },
    "tags": []
   },
   "source": [
    "## Las tres leyes de Newton\n",
    "### El concepto de fuerza\n",
    "\n",
    "El motivo detrás de todos los movimientos es la interacción entre dos objetos. Esta interacción se puede codificar en lo que conocemos como **fuerzas** que pueden representarse como cantidades vectoriales. "
   ]
  },
  {
   "cell_type": "markdown",
   "id": "32b95359-3a70-4c8e-9a4f-8400f6662337",
   "metadata": {
    "editable": true,
    "slideshow": {
     "slide_type": "slide"
    },
    "tags": []
   },
   "source": [
    "## Movimientos giratorios\n",
    "\n",
    "En esta sección se hará en enfoque inverso: conociendo la trayectoria de una partícula, se derivará ésta para calcular la velocidad y la aceleración de este objeto. Sin embargo antes de ahondar en este tema, retomaremos el tema de la longitud de arco, y de los **radianes**.\n",
    "\n",
    "Luego, con estas nuevas unidades se definirá una variable de desplazamiento angular $\\theta$, una velocidad angular $\\dot{\\theta} = \\omega$ y una aceleración angular $\\ddot{\\theta} = \\alpha$. Todas estas cantidades asociadas a giros de un partíula alrededor de un eje.\n",
    "\n",
    "Finalmente, relacionaremos la variables dinámicas lineales  con las angulares."
   ]
  },
  {
   "cell_type": "markdown",
   "id": "aff2a465-e8be-4eab-94e9-08920bd073eb",
   "metadata": {
    "editable": true,
    "slideshow": {
     "slide_type": "subslide"
    },
    "tags": []
   },
   "source": [
    "### Longitud de arco y los radianes\n",
    "\n",
    " Estra cantidad expresa la distancia $s$ entre un dos puntos de una circunferencia de radio $r$ dado un desplazamiento angular (un giro) denotado por la variable $\\theta$.\n",
    "        Si consideramos el total de la circunferencia del círculo, la longitud de arco es igual a su perímetro, es decir\n",
    "                $$ s = r (2\\pi).$$\n",
    "\n",
    "<table>\n",
    " <tr>\n",
    "    <td>\n",
    "        <img src=\"https://raw.githubusercontent.com/jaurrutia/Material-Didactico/main/Cinematica%20y%20Fuerzas%20(CCM-ITESM-F1006B)/14-LongArco.png\" width=\"800\">\n",
    "    </td>\n",
    "    <td>\n",
    "        Si, por el contrario consideramos cualquier otro desplazamiento angular, en la expresión anterio se sutituye $2\\pi$ por  $\\theta$, por lo que en general se tiene la expresion:\n",
    "        $$ s = r \\theta.$$\n",
    "        Notemos que si se despeja el desplzamiento angular, se tiene una variable adimensional; esta variable se empleará para definir los ángulos de ahora en adelante y se le dará por nombre a esta unidad como <b>radian</b>: Para convertir de radianes a grados, o al revés, notemos que una vuelta completa al círculo es $360^\\circ$, como también $2\\pi$ radianes, por tanto\n",
    "        $$\n",
    "        2\\pi (\\text{rad}) = 360^\\circ (\\text{grado}) \\quad\\Longrightarrow\\quad \\pi = 180^\\circ.\n",
    "        $$\n",
    "    </td>\n",
    " </tr>\n",
    "</table>\n",
    "\n",
    "---\n",
    "Kleppner, Daniel, y Robert J. Kolenkow. \"An Introduction to Mechanics\". Cambridge University Press, 2010"
   ]
  },
  {
   "cell_type": "markdown",
   "id": "edc46119-eb32-4608-999c-e0efc619809a",
   "metadata": {
    "editable": true,
    "slideshow": {
     "slide_type": "subslide"
    },
    "tags": []
   },
   "source": [
    "### Variables dinámicas angulares\n",
    "\n",
    "Suponiendo que una portícula se mueve a lo largo de una circunferencia de radio $r$, que es consntate, podemos describir su dinámica posición a lo largo de la circunferencia al medir su longitu de arco $s(t)$. Sin embargo su dinámica sedetermina únicamente es  en términos de su desplazamiento angular $\\theta$, ues el radio de la circunferencia es constante, por lo que ahora $\\theta$ es una función del tiempo, es decir $\\theta=\\theta(t)$. De esta forma, al derivar $s(t)$, respecto al tiempo se tiene lo siguiente\n",
    "\n",
    "$$\n",
    "\\begin{aligned}\n",
    "s(t) = r \\theta(t) \\quad\\Longrightarrow\\quad v(t) = t \\dv{\\theta}{t} = r \\omega(t) \\quad\\Longrightarrow\\quad a(t) = r\\mdv{\\theta}{t}{2} = r \\alpha(t)\n",
    "\\end{aligned}\n",
    "$$\n",
    "\n",
    " - Las funciones $\\omega(t)$ y $\\alpha(t)$ se conocen como velocidad y aceleración angular, y se relacionan con sun homólogos lineales al multiplicarlas por el radio de la circunferencia por la que se mueven.\n",
    " - Cabe destacar que en este caso las velocidad y la aceleracion no tienen caracter vectorial, por lo que debemos de considerar que hablamos en las expresiones anteriores de sus magnitudes.\n",
    " - Las unidades de $\\omega$ son rad/s (radian entre segundo) y de $\\alpha$ son rad/s$^2$."
   ]
  },
  {
   "cell_type": "markdown",
   "id": "fc45c0f4-4201-4f61-a31c-b87d31b8851f",
   "metadata": {
    "editable": true,
    "slideshow": {
     "slide_type": "slide"
    },
    "tags": []
   },
   "source": [
    "## Movimiento circular\n",
    "### Velocidad angular constante\n",
    "\n",
    "En el caso en la que $\\omega = \\dot\\theta$ sea una cantidad constante, la integración en el tiempo nos da como resultado el desplazamiento angular $\\theta$ para todo tiempo, dando como resultado\n",
    "\n",
    "$$\n",
    "\\theta(t) = \\int_{t_0}^t \\dv{\\theta}{t} \\dd{t} = \\int_{t_0}^t\\omega\\dd{t} = \\omega t + \\theta_0,\n",
    "$$\n",
    "\n",
    "donde por conveniencia $\\theta_0 =0$. Con este resultado podemos retomar el caracter vectorial de la posición como sem muestra a continuación"
   ]
  },
  {
   "cell_type": "markdown",
   "id": "7a126f84-e61f-4729-a1ca-126dfd038000",
   "metadata": {
    "editable": true,
    "slideshow": {
     "slide_type": "subslide"
    },
    "tags": []
   },
   "source": [
    "<table>\n",
    " <tr>\n",
    "    <td>\n",
    "        <img src=\"https://raw.githubusercontent.com/jaurrutia/Material-Didactico/main/Cinematica%20y%20Fuerzas%20(CCM-ITESM-F1006B)/15-Circ.png\" width=\"400\">\n",
    "    </td>\n",
    "    <td>\n",
    "        Escribien el vector por componentes y sustituyendo con la expresión anterior se obtiene que\n",
    "        $$\n",
    "        \\begin{aligned}\n",
    "        \\vec{r}(t) &= r(\\cos\\theta(t)\\hat{e}_x + \\sin\\theta(t)\\hat{e}_y )\\\\\n",
    "                    &= r(\\cos(\\omega t)\\hat{e}_x + \\sin(\\omega t)\\hat{e}_y) \\\\ \\\\\n",
    "        ||\\vec{r}|| &= r \\sqrt{\\cos^2(\\omega t) + \\sin^2(\\omega t)}= r\n",
    "        \\end{aligned}\n",
    "        $$\n",
    "        Lo que nos permite definir el vector unidario que apunta en la dirección radial\n",
    "        $$\n",
    "        \\hat{r} = \\hat{e}_r = \\cos\\theta(t){e}_x + \\sin\\theta(t)\\hat{e}_y ,\n",
    "        $$\n",
    "        Por lo que el vector posición también puede escribirse como\n",
    "        $$\n",
    "        \\vec{r}(t) = r(\\cos\\theta(t){e}_x + \\sin\\theta(t)\\hat{e}_y ) = r \\hat{e}_r(t).\n",
    "        $$\n",
    "        <b>Nótese que este nuevo vector depende de $t$, a diferencia de los cartesianos que son constantes.</b>\n",
    "    </td>\n",
    " </tr>\n",
    "</table>\n",
    "\n",
    "---\n",
    "Kleppner, Daniel, y Robert J. Kolenkow. \"An Introduction to Mechanics\". Cambridge University Press, 2010"
   ]
  },
  {
   "cell_type": "markdown",
   "id": "b5b6afbe-6f3f-4949-9d22-0071edd520e1",
   "metadata": {
    "editable": true,
    "slideshow": {
     "slide_type": "slide"
    },
    "tags": []
   },
   "source": [
    "## Movimiento circular\n",
    "### Velocidad lineal y velocidad angular\n",
    "\n",
    "Notemos que podemos emplear las expresiones vectoriales de la posición y derivarlas para obtener la velocidad en cualquier base de vectores. De esta forma\n",
    "$$\n",
    "\\vec{v} = \\dv{\\vec{r}}{t} = \\dv{}{t}\\big[r(\\cos(\\omega t)\\hat{e}_x + \\sin(\\omega t)\\hat{e}_y)  \\big]\n",
    "    = r \\omega \\big(-\\sin(\\omega t)\\hat{e}_x + \\cos(\\omega t)\\hat{e}_y  \\big)\n",
    "$$"
   ]
  },
  {
   "cell_type": "markdown",
   "id": "388cde2e-97e8-4b7e-873e-3bf3f138dfe2",
   "metadata": {
    "editable": true,
    "slideshow": {
     "slide_type": "subslide"
    },
    "tags": []
   },
   "source": [
    "\n",
    "<table>\n",
    " <tr>\n",
    "    <td>\n",
    "        Escribien el vector por componentes y sustituyendo con la expresión anterior se obtiene que\n",
    "        $$\n",
    "        \\begin{aligned}\n",
    "        \\vec{v}(t) &= r\\omega \\big[ -\\sin(\\omega t)\\hat{e}_x + \\cos(\\omega t)\\hat{e}_y  \\big]\\\\\n",
    "        ||\\vec{v}|| &= r\\omega \\sqrt{\\sin^2(\\omega t) + \\cos^2(\\omega t)}= r\\omega\n",
    "        \\end{aligned}\n",
    "        $$\n",
    "        Lo que nos permite definir el vector unidario que apunta en la dirección radial\n",
    "        $$\n",
    "        \\hat{\\theta} = \\hat{e}_\\theta= (-\\sin\\theta(t){e}_x + \\cos\\theta(t)\\hat{e}_y ),\n",
    "        $$\n",
    "        Por lo que el vector velocidad también puede escribirse en este caso como\n",
    "        $$\n",
    "        \\vec{v}(t) = r\\omega(-\\sin\\theta(t){e}_x + \\cos\\theta(t)\\hat{e}_y ) =  \\omega r \\hat{e}_\\theta(t)\n",
    "        $$\n",
    "        <b>Nótese que este nuevo vector depende de $t$, a diferencia de los cartesianos que son constantes.</b>\n",
    "    </td>\n",
    "  <td>\n",
    "        <img src=\"https://raw.githubusercontent.com/jaurrutia/Material-Didactico/main/Cinematica%20y%20Fuerzas%20(CCM-ITESM-F1006B)/16-CircVel.png\" width=\"400\">\n",
    "    </td>\n",
    " </tr>\n",
    "</table>\n",
    "\n",
    "---\n",
    "Kleppner, Daniel, y Robert J. Kolenkow. \"An Introduction to Mechanics\". Cambridge University Press, 2010"
   ]
  },
  {
   "cell_type": "markdown",
   "id": "a310ef39-df78-4928-b205-3dc540fa45c7",
   "metadata": {
    "editable": true,
    "slideshow": {
     "slide_type": "slide"
    },
    "tags": []
   },
   "source": [
    "### Aceleración lineal y aceleración angular\n",
    "\n",
    "Un procedimiento análogo al anterior puede hacerce con la aceleración:\n",
    "$$\n",
    "\\vec{a} = \\dv{\\vec{v}}{t} = \\dv{}{t}\\big[ r \\omega \\big(-\\sin(\\omega t)\\hat{e}_x + \\cos(\\omega t)\\hat{e}_y  \\big) \\big]\n",
    "    = r \\omega^2 \\big(-\\cos(\\omega t)\\hat{e}_x  -\\sin(\\omega t)\\hat{e}_y  \\big)\n",
    "$$\n",
    "\n",
    "<table>\n",
    " <tr>\n",
    "    <td>\n",
    "        Escribien el vector por componentes y sustituyendo con la expresión anterior se obtiene que\n",
    "        $$\n",
    "        \\begin{aligned}\n",
    "        \\vec{a}(t) &= - r\\omega^2 \\big[ -\\sin(\\omega t)\\hat{e}_x + \\cos(\\omega t)\\hat{e}_y  \\big]\\\\\n",
    "        ||\\vec{a}|| &= (r\\omega^2) \\sqrt{\\cos^2(\\omega t) + \\sin(\\omega t)}= r\\omega^2\n",
    "        \\end{aligned}\n",
    "        $$\n",
    "        Recordando la deficnición de $\\hat{e}_r$, la eceleración puede escribirse como\n",
    "        $$\n",
    "        \\vec{v}(t) = -r\\omega^2(\\cos\\theta(t){e}_x +\\sin\\theta(t)\\hat{e}_y ) =  -r\\omega^2 \\hat{e}_r(t)\n",
    "        $$\n",
    "    </td>\n",
    "  <td>\n",
    "        <img src=\"https://raw.githubusercontent.com/jaurrutia/Material-Didactico/main/Cinematica%20y%20Fuerzas%20(CCM-ITESM-F1006B)/17-CircAcel.png\" width=\"400\">\n",
    "    </td>\n",
    " </tr>\n",
    "</table>\n",
    "\n",
    "---\n",
    "Kleppner, Daniel, y Robert J. Kolenkow. \"An Introduction to Mechanics\". Cambridge University Press, 2010"
   ]
  },
  {
   "cell_type": "markdown",
   "id": "59387460-0ace-4ada-8ff6-3c37439d6336",
   "metadata": {
    "editable": true,
    "slideshow": {
     "slide_type": "slide"
    },
    "tags": []
   },
   "source": [
    "### Identidades notables del movimiento circular\n",
    "\n",
    "Recapitulando las expresiones derivadas anteriormente:\n",
    "\n",
    "$$\n",
    "\\left\\{\\begin{aligned}\n",
    "s &= r \\theta\\\\\n",
    "||\\vec{v}|| &= r \\omega\\\\\n",
    "||\\vec{a}|| &= r \\alpha = r \\omega^2\n",
    "\\end{aligned}\\right.\n",
    "\\qquad \\Longrightarrow \\qquad\n",
    "||\\vec{a}|| = \\frac{||\\vec{v}||}{r^2}\n",
    "$$\n",
    "\n",
    "\n",
    "\n",
    "<center>\n",
    "<img src=\"https://raw.githubusercontent.com/jaurrutia/Material-Didactico/main/Cinematica%20y%20Fuerzas%20(CCM-ITESM-F1006B)/15-Circ.png\" width=\"300\"><img src=\"https://raw.githubusercontent.com/jaurrutia/Material-Didactico/main/Cinematica%20y%20Fuerzas%20(CCM-ITESM-F1006B)/16-CircVel.png\" width=\"300\"><img src=\"https://raw.githubusercontent.com/jaurrutia/Material-Didactico/main/Cinematica%20y%20Fuerzas%20(CCM-ITESM-F1006B)/17-CircAcel.png\" width=\"300\">\n",
    "</center>\n",
    "\n",
    "---\n",
    "Kleppner, Daniel, y Robert J. Kolenkow. \"An Introduction to Mechanics\". Cambridge University Press, 2010"
   ]
  },
  {
   "cell_type": "code",
   "execution_count": null,
   "id": "e3453dc6-7a39-4781-b318-50825ceb2af6",
   "metadata": {
    "editable": true,
    "slideshow": {
     "slide_type": ""
    },
    "tags": []
   },
   "outputs": [],
   "source": []
  }
 ],
 "metadata": {
  "kernelspec": {
   "display_name": "Wolfram Language 13",
   "language": "Wolfram Language",
   "name": "wolframlanguage13"
  },
  "language_info": {
   "codemirror_mode": "mathematica",
   "file_extension": ".m",
   "mimetype": "application/vnd.wolfram.m",
   "name": "Wolfram Language",
   "pygments_lexer": "mathematica",
   "version": "12.0"
  }
 },
 "nbformat": 4,
 "nbformat_minor": 5
}
